{
 "cells": [
  {
   "cell_type": "markdown",
   "id": "14786ab4-b2cc-4e4d-95fa-2f961017d77a",
   "metadata": {},
   "source": [
    "### 피마인디언 당뇨병 예측\n",
    "* 보통 당뇨병의 원인은 식습관 유전으로 꼽음고립된 지역인 피마 지역의 인디언들은 고유의 혈통이 지속되어 왔지만\n",
    "* 20세기 후반 강제 이주정책으로 인해 서구화된 식습관으로 많은 당뇨병 환자가 생겨남\n",
    "\n",
    "* diabetes 테이터 셋 구조\n",
    "    + 임신횟수, 포도당부하검사, 혈압, 삼두근피하지방측정값, 인슐린농도,\n",
    "    + 비만지수, 당뇨내력가중치, 나이, 5년내 당뇨발병여부(0:음성)"
   ]
  },
  {
   "cell_type": "code",
   "execution_count": 3,
   "id": "d53f3b81-c6db-4437-a316-303e9495f122",
   "metadata": {},
   "outputs": [],
   "source": [
    "import numpy as np\n",
    "import pandas as pd\n",
    "import matplotlib.pyplot as plt\n",
    "import seaborn as sns"
   ]
  },
  {
   "cell_type": "code",
   "execution_count": 31,
   "id": "c6826c9e-6351-4c2e-bb20-b152500a89c6",
   "metadata": {},
   "outputs": [],
   "source": [
    "from sklearn.model_selection import train_test_split\n",
    "from sklearn.linear_model import LogisticRegression\n",
    "from sklearn.metrics import accuracy_score\n",
    "from sklearn.metrics import confusion_matrix\n",
    "from sklearn.metrics import precision_score, recall_score, f1_score\n",
    "from sklearn.metrics import roc_auc_score, roc_curve\n",
    "from sklearn.metrics import classification_report"
   ]
  },
  {
   "cell_type": "code",
   "execution_count": 10,
   "id": "1cde4ba8-36db-470b-b0c7-f9ec5a2dccc1",
   "metadata": {},
   "outputs": [
    {
     "name": "stdout",
     "output_type": "stream",
     "text": [
      "<class 'pandas.core.frame.DataFrame'>\n",
      "RangeIndex: 768 entries, 0 to 767\n",
      "Data columns (total 9 columns):\n",
      " #   Column     Non-Null Count  Dtype  \n",
      "---  ------     --------------  -----  \n",
      " 0   pregnant   768 non-null    int64  \n",
      " 1   glucose    768 non-null    int64  \n",
      " 2   blood      768 non-null    int64  \n",
      " 3   thickness  768 non-null    int64  \n",
      " 4   insulin    768 non-null    int64  \n",
      " 5   bmi        768 non-null    float64\n",
      " 6   pedigree   768 non-null    float64\n",
      " 7   age        768 non-null    int64  \n",
      " 8   diabete    768 non-null    int64  \n",
      "dtypes: float64(2), int64(7)\n",
      "memory usage: 54.1 KB\n"
     ]
    }
   ],
   "source": [
    "pima = pd.read_csv('pima-indian.csv')\n",
    "pima.info()"
   ]
  },
  {
   "cell_type": "code",
   "execution_count": 11,
   "id": "01d71153-347e-488c-887d-9b2b28cdb2a5",
   "metadata": {},
   "outputs": [
    {
     "data": {
      "text/html": [
       "<div>\n",
       "<style scoped>\n",
       "    .dataframe tbody tr th:only-of-type {\n",
       "        vertical-align: middle;\n",
       "    }\n",
       "\n",
       "    .dataframe tbody tr th {\n",
       "        vertical-align: top;\n",
       "    }\n",
       "\n",
       "    .dataframe thead th {\n",
       "        text-align: right;\n",
       "    }\n",
       "</style>\n",
       "<table border=\"1\" class=\"dataframe\">\n",
       "  <thead>\n",
       "    <tr style=\"text-align: right;\">\n",
       "      <th></th>\n",
       "      <th>pregnant</th>\n",
       "      <th>glucose</th>\n",
       "      <th>blood</th>\n",
       "      <th>thickness</th>\n",
       "      <th>insulin</th>\n",
       "      <th>bmi</th>\n",
       "      <th>pedigree</th>\n",
       "      <th>age</th>\n",
       "      <th>diabete</th>\n",
       "    </tr>\n",
       "  </thead>\n",
       "  <tbody>\n",
       "    <tr>\n",
       "      <th>0</th>\n",
       "      <td>6</td>\n",
       "      <td>148</td>\n",
       "      <td>72</td>\n",
       "      <td>35</td>\n",
       "      <td>0</td>\n",
       "      <td>33.6</td>\n",
       "      <td>0.627</td>\n",
       "      <td>50</td>\n",
       "      <td>1</td>\n",
       "    </tr>\n",
       "    <tr>\n",
       "      <th>1</th>\n",
       "      <td>1</td>\n",
       "      <td>85</td>\n",
       "      <td>66</td>\n",
       "      <td>29</td>\n",
       "      <td>0</td>\n",
       "      <td>26.6</td>\n",
       "      <td>0.351</td>\n",
       "      <td>31</td>\n",
       "      <td>0</td>\n",
       "    </tr>\n",
       "    <tr>\n",
       "      <th>2</th>\n",
       "      <td>8</td>\n",
       "      <td>183</td>\n",
       "      <td>64</td>\n",
       "      <td>0</td>\n",
       "      <td>0</td>\n",
       "      <td>23.3</td>\n",
       "      <td>0.672</td>\n",
       "      <td>32</td>\n",
       "      <td>1</td>\n",
       "    </tr>\n",
       "    <tr>\n",
       "      <th>3</th>\n",
       "      <td>1</td>\n",
       "      <td>89</td>\n",
       "      <td>66</td>\n",
       "      <td>23</td>\n",
       "      <td>94</td>\n",
       "      <td>28.1</td>\n",
       "      <td>0.167</td>\n",
       "      <td>21</td>\n",
       "      <td>0</td>\n",
       "    </tr>\n",
       "    <tr>\n",
       "      <th>4</th>\n",
       "      <td>0</td>\n",
       "      <td>137</td>\n",
       "      <td>40</td>\n",
       "      <td>35</td>\n",
       "      <td>168</td>\n",
       "      <td>43.1</td>\n",
       "      <td>2.288</td>\n",
       "      <td>33</td>\n",
       "      <td>1</td>\n",
       "    </tr>\n",
       "  </tbody>\n",
       "</table>\n",
       "</div>"
      ],
      "text/plain": [
       "   pregnant  glucose  blood  thickness  insulin   bmi  pedigree  age  diabete\n",
       "0         6      148     72         35        0  33.6     0.627   50        1\n",
       "1         1       85     66         29        0  26.6     0.351   31        0\n",
       "2         8      183     64          0        0  23.3     0.672   32        1\n",
       "3         1       89     66         23       94  28.1     0.167   21        0\n",
       "4         0      137     40         35      168  43.1     2.288   33        1"
      ]
     },
     "execution_count": 11,
     "metadata": {},
     "output_type": "execute_result"
    }
   ],
   "source": [
    "pima.head()"
   ]
  },
  {
   "cell_type": "code",
   "execution_count": 12,
   "id": "47519758-c5bf-49b2-b8b2-4d373b6d350e",
   "metadata": {},
   "outputs": [
    {
     "data": {
      "text/plain": [
       "0    500\n",
       "1    268\n",
       "Name: diabete, dtype: int64"
      ]
     },
     "execution_count": 12,
     "metadata": {},
     "output_type": "execute_result"
    }
   ],
   "source": [
    "pima.diabete.value_counts()"
   ]
  },
  {
   "cell_type": "code",
   "execution_count": 16,
   "id": "475c9d7a-1aed-493e-84ab-d90a6d9f995b",
   "metadata": {},
   "outputs": [],
   "source": [
    "data = pima.iloc[:,0:7]\n",
    "target = pima.diabete"
   ]
  },
  {
   "cell_type": "code",
   "execution_count": 18,
   "id": "8d4a373f-33b4-4fef-825e-393289ba29bb",
   "metadata": {},
   "outputs": [],
   "source": [
    "Xtrain, Xtest, ytrain, ytest = train_test_split(data, target, train_size=0.7, stratify=target, random_state=2111051205)"
   ]
  },
  {
   "cell_type": "code",
   "execution_count": 19,
   "id": "df6f93d2-0841-47b0-925e-6daa91e8c37b",
   "metadata": {},
   "outputs": [],
   "source": [
    "lrclf = LogisticRegression(max_iter=1000)\n",
    "lrclf.fit(Xtrain, ytrain)\n",
    "pred = lrclf.predict(Xtest)"
   ]
  },
  {
   "cell_type": "code",
   "execution_count": 21,
   "id": "d7bb2a1c-8c5e-4621-af43-07a90b105a87",
   "metadata": {},
   "outputs": [
    {
     "data": {
      "text/plain": [
       "0.7965367965367965"
      ]
     },
     "execution_count": 21,
     "metadata": {},
     "output_type": "execute_result"
    }
   ],
   "source": [
    "accuracy_score(pred,ytest)"
   ]
  },
  {
   "cell_type": "code",
   "execution_count": 27,
   "id": "9beb79db-3a49-4a4c-abc3-c5eecfcff814",
   "metadata": {},
   "outputs": [
    {
     "data": {
      "text/plain": [
       "0.654320987654321"
      ]
     },
     "execution_count": 27,
     "metadata": {},
     "output_type": "execute_result"
    }
   ],
   "source": [
    "precision_score(pred,ytest)"
   ]
  },
  {
   "cell_type": "code",
   "execution_count": 23,
   "id": "4f35f529-068f-4ad1-a761-b44e8ee601a1",
   "metadata": {},
   "outputs": [
    {
     "data": {
      "text/plain": [
       "0.7361111111111112"
      ]
     },
     "execution_count": 23,
     "metadata": {},
     "output_type": "execute_result"
    }
   ],
   "source": [
    "recall_score(pred,ytest)"
   ]
  },
  {
   "cell_type": "code",
   "execution_count": 28,
   "id": "39ce3065-fcad-4427-8fb9-381d59af4414",
   "metadata": {},
   "outputs": [
    {
     "data": {
      "text/plain": [
       "0.6928104575163399"
      ]
     },
     "execution_count": 28,
     "metadata": {},
     "output_type": "execute_result"
    }
   ],
   "source": [
    "f1_score(pred,ytest) # 중요"
   ]
  },
  {
   "cell_type": "code",
   "execution_count": 33,
   "id": "9c9187cd-3a84-46c9-baf9-eec37a22f096",
   "metadata": {},
   "outputs": [
    {
     "name": "stdout",
     "output_type": "stream",
     "text": [
      "              precision    recall  f1-score   support\n",
      "\n",
      "           0       0.87      0.82      0.85       159\n",
      "           1       0.65      0.74      0.69        72\n",
      "\n",
      "    accuracy                           0.80       231\n",
      "   macro avg       0.76      0.78      0.77       231\n",
      "weighted avg       0.81      0.80      0.80       231\n",
      "\n"
     ]
    }
   ],
   "source": [
    "print(classification_report(pred,ytest))"
   ]
  },
  {
   "cell_type": "code",
   "execution_count": 44,
   "id": "71616689-7341-40f8-89ff-a3ab7e9663c2",
   "metadata": {},
   "outputs": [],
   "source": [
    "pred_proba = lrclf.predict_proba(Xtest)[:,1]\n",
    "fprs,tprs, _ = roc_curve(ytest, pred_proba)"
   ]
  },
  {
   "cell_type": "code",
   "execution_count": 45,
   "id": "4fdbb648-8576-40f8-9118-f7b24dcc22f1",
   "metadata": {},
   "outputs": [
    {
     "data": {
      "text/plain": [
       "<seaborn.axisgrid.FacetGrid at 0x7f1708cd3810>"
      ]
     },
     "execution_count": 45,
     "metadata": {},
     "output_type": "execute_result"
    },
    {
     "data": {
      "image/png": "[encoded data removed]",
      "text/plain": [
       "<Figure size 414.875x360 with 1 Axes>"
      ]
     },
     "metadata": {
      "needs_background": "light"
     },
     "output_type": "display_data"
    }
   ],
   "source": [
    "roc = pd.DataFrame({'FPR':fprs, 'TPR':tprs})\n",
    "sns.displot(roc.iloc[:, [0,1]], kind='kde')"
   ]
  },
  {
   "cell_type": "code",
   "execution_count": 49,
   "id": "ebc7a664-56b4-4ad3-ba00-db588b208923",
   "metadata": {},
   "outputs": [
    {
     "data": {
      "text/plain": [
       "<matplotlib.legend.Legend at 0x7f1703f2e490>"
      ]
     },
     "execution_count": 49,
     "metadata": {},
     "output_type": "execute_result"
    },
    {
     "data": {
      "image/png": "[encoded data removed]",
      "text/plain": [
       "<Figure size 432x288 with 1 Axes>"
      ]
     },
     "metadata": {
      "needs_background": "light"
     },
     "output_type": "display_data"
    }
   ],
   "source": [
    "plt.plot(fprs, tprs, 'r', label='ROC')\n",
    "plt.plot([0,1],[0,1], 'k--')\n",
    "plt.legend()"
   ]
  },
  {
   "cell_type": "code",
   "execution_count": 47,
   "id": "f9313617-2ae1-4c4e-9417-c8adda4b0608",
   "metadata": {},
   "outputs": [
    {
     "data": {
      "text/plain": [
       "0.7638271604938272"
      ]
     },
     "execution_count": 47,
     "metadata": {},
     "output_type": "execute_result"
    }
   ],
   "source": [
    "roc_auc_score(ytest, pred)"
   ]
  },
  {
   "cell_type": "markdown",
   "id": "a4c5d812-1432-487e-92b1-b192fd8537bb",
   "metadata": {},
   "source": [
    "### 유방암 진찰 예측 \n",
    "* sklearn에서 제공하는 dataset 중 하나 - breast cancer\n",
    "* 위스콘신 대학 유방암 진단 데이터\n",
    "* 30+1변수, 569개의 데이터로 구성\n",
    "* 반경, 질감, 둘레, 면적, 매끄러움, 크기,\n",
    "* 오목함, 대칭여부, 3차원진단\n",
    "* 각종 통계수치(평균,표준편차,최악에 대한 평균)"
   ]
  },
  {
   "cell_type": "code",
   "execution_count": 50,
   "id": "8cacf814-587c-467f-b959-f4c1353bd844",
   "metadata": {},
   "outputs": [],
   "source": [
    "from sklearn.datasets import load_breast_cancer"
   ]
  },
  {
   "cell_type": "code",
   "execution_count": 64,
   "id": "42c492ad-779b-43b9-a547-71ceb0782a8c",
   "metadata": {},
   "outputs": [
    {
     "name": "stdout",
     "output_type": "stream",
     "text": [
      ".. _breast_cancer_dataset:\n",
      "\n",
      "Breast cancer wisconsin (diagnostic) dataset\n",
      "--------------------------------------------\n",
      "\n",
      "**Data Set Characteristics:**\n",
      "\n",
      "    :Number of Instances: 569\n",
      "\n",
      "    :Number of Attributes: 30 numeric, predictive attributes and the class\n",
      "\n",
      "    :Attribute Information:\n",
      "        - radius (mean of distances from center to points on the perimeter)\n",
      "        - texture (standard deviation of gray-scale values)\n",
      "        - perimeter\n",
      "        - area\n",
      "        - smoothness (local variation in radius lengths)\n",
      "        - compactness (perimeter^2 / area - 1.0)\n",
      "        - concavity (severity of concave portions of the contour)\n",
      "        - concave points (number of concave portions of the contour)\n",
      "        - symmetry\n",
      "        - fractal dimension (\"coastline approximation\" - 1)\n",
      "\n",
      "        The mean, standard error, and \"worst\" or largest (mean of the three\n",
      "        worst/largest values) of these features were computed for each image,\n",
      "        resulting in 30 features.  For instance, field 0 is Mean Radius, field\n",
      "        10 is Radius SE, field 20 is Worst Radius.\n",
      "\n",
      "        - class:\n",
      "                - WDBC-Malignant\n",
      "                - WDBC-Benign\n",
      "\n",
      "    :Summary Statistics:\n",
      "\n",
      "    ===================================== ====== ======\n",
      "                                           Min    Max\n",
      "    ===================================== ====== ======\n",
      "    radius (mean):                        6.981  28.11\n",
      "    texture (mean):                       9.71   39.28\n",
      "    perimeter (mean):                     43.79  188.5\n",
      "    area (mean):                          143.5  2501.0\n",
      "    smoothness (mean):                    0.053  0.163\n",
      "    compactness (mean):                   0.019  0.345\n",
      "    concavity (mean):                     0.0    0.427\n",
      "    concave points (mean):                0.0    0.201\n",
      "    symmetry (mean):                      0.106  0.304\n",
      "    fractal dimension (mean):             0.05   0.097\n",
      "    radius (standard error):              0.112  2.873\n",
      "    texture (standard error):             0.36   4.885\n",
      "    perimeter (standard error):           0.757  21.98\n",
      "    area (standard error):                6.802  542.2\n",
      "    smoothness (standard error):          0.002  0.031\n",
      "    compactness (standard error):         0.002  0.135\n",
      "    concavity (standard error):           0.0    0.396\n",
      "    concave points (standard error):      0.0    0.053\n",
      "    symmetry (standard error):            0.008  0.079\n",
      "    fractal dimension (standard error):   0.001  0.03\n",
      "    radius (worst):                       7.93   36.04\n",
      "    texture (worst):                      12.02  49.54\n",
      "    perimeter (worst):                    50.41  251.2\n",
      "    area (worst):                         185.2  4254.0\n",
      "    smoothness (worst):                   0.071  0.223\n",
      "    compactness (worst):                  0.027  1.058\n",
      "    concavity (worst):                    0.0    1.252\n",
      "    concave points (worst):               0.0    0.291\n",
      "    symmetry (worst):                     0.156  0.664\n",
      "    fractal dimension (worst):            0.055  0.208\n",
      "    ===================================== ====== ======\n",
      "\n",
      "    :Missing Attribute Values: None\n",
      "\n",
      "    :Class Distribution: 212 - Malignant, 357 - Benign\n",
      "\n",
      "    :Creator:  Dr. William H. Wolberg, W. Nick Street, Olvi L. Mangasarian\n",
      "\n",
      "    :Donor: Nick Street\n",
      "\n",
      "    :Date: November, 1995\n",
      "\n",
      "This is a copy of UCI ML Breast Cancer Wisconsin (Diagnostic) datasets.\n",
      "https://goo.gl/U2Uwz2\n",
      "\n",
      "Features are computed from a digitized image of a fine needle\n",
      "aspirate (FNA) of a breast mass.  They describe\n",
      "characteristics of the cell nuclei present in the image.\n",
      "\n",
      "Separating plane described above was obtained using\n",
      "Multisurface Method-Tree (MSM-T) [K. P. Bennett, \"Decision Tree\n",
      "Construction Via Linear Programming.\" Proceedings of the 4th\n",
      "Midwest Artificial Intelligence and Cognitive Science Society,\n",
      "pp. 97-101, 1992], a classification method which uses linear\n",
      "programming to construct a decision tree.  Relevant features\n",
      "were selected using an exhaustive search in the space of 1-4\n",
      "features and 1-3 separating planes.\n",
      "\n",
      "The actual linear program used to obtain the separating plane\n",
      "in the 3-dimensional space is that described in:\n",
      "[K. P. Bennett and O. L. Mangasarian: \"Robust Linear\n",
      "Programming Discrimination of Two Linearly Inseparable Sets\",\n",
      "Optimization Methods and Software 1, 1992, 23-34].\n",
      "\n",
      "This database is also available through the UW CS ftp server:\n",
      "\n",
      "ftp ftp.cs.wisc.edu\n",
      "cd math-prog/cpo-dataset/machine-learn/WDBC/\n",
      "\n",
      ".. topic:: References\n",
      "\n",
      "   - W.N. Street, W.H. Wolberg and O.L. Mangasarian. Nuclear feature extraction \n",
      "     for breast tumor diagnosis. IS&T/SPIE 1993 International Symposium on \n",
      "     Electronic Imaging: Science and Technology, volume 1905, pages 861-870,\n",
      "     San Jose, CA, 1993.\n",
      "   - O.L. Mangasarian, W.N. Street and W.H. Wolberg. Breast cancer diagnosis and \n",
      "     prognosis via linear programming. Operations Research, 43(4), pages 570-577, \n",
      "     July-August 1995.\n",
      "   - W.H. Wolberg, W.N. Street, and O.L. Mangasarian. Machine learning techniques\n",
      "     to diagnose breast cancer from fine-needle aspirates. Cancer Letters 77 (1994) \n",
      "     163-171.\n"
     ]
    }
   ],
   "source": [
    "cancer = load_breast_cancer()\n",
    "print(cancer.DESCR)"
   ]
  },
  {
   "cell_type": "code",
   "execution_count": 65,
   "id": "4b3cf961-aacd-4861-98af-ac4a3c6aacf6",
   "metadata": {},
   "outputs": [
    {
     "name": "stdout",
     "output_type": "stream",
     "text": [
      "['mean radius' 'mean texture' 'mean perimeter' 'mean area'\n",
      " 'mean smoothness' 'mean compactness' 'mean concavity'\n",
      " 'mean concave points' 'mean symmetry' 'mean fractal dimension'\n",
      " 'radius error' 'texture error' 'perimeter error' 'area error'\n",
      " 'smoothness error' 'compactness error' 'concavity error'\n",
      " 'concave points error' 'symmetry error' 'fractal dimension error'\n",
      " 'worst radius' 'worst texture' 'worst perimeter' 'worst area'\n",
      " 'worst smoothness' 'worst compactness' 'worst concavity'\n",
      " 'worst concave points' 'worst symmetry' 'worst fractal dimension']\n"
     ]
    }
   ],
   "source": [
    "print(cancer.feature_names)"
   ]
  },
  {
   "cell_type": "code",
   "execution_count": 68,
   "id": "89c1e325-e630-4707-a2aa-8134528e3f2f",
   "metadata": {},
   "outputs": [
    {
     "name": "stdout",
     "output_type": "stream",
     "text": [
      "['malignant' 'benign']\n"
     ]
    }
   ],
   "source": [
    "print(cancer.target_names) # 악성 / 정상"
   ]
  },
  {
   "cell_type": "code",
   "execution_count": 69,
   "id": "abce22e3-074d-4506-ab16-a2af00429abe",
   "metadata": {},
   "outputs": [
    {
     "data": {
      "text/plain": [
       "1    357\n",
       "0    212\n",
       "dtype: int64"
      ]
     },
     "execution_count": 69,
     "metadata": {},
     "output_type": "execute_result"
    }
   ],
   "source": [
    "pd.Series(cancer.target).value_counts()"
   ]
  },
  {
   "cell_type": "code",
   "execution_count": 70,
   "id": "f9e65e77-000e-44c4-9ed7-604b60f4f07e",
   "metadata": {},
   "outputs": [],
   "source": [
    "Xtrain, Xtest, ytrain, ytest = train_test_split(cancer.data, cancer.target, train_size=0.7, stratify=cancer.target, random_state=2111051505)"
   ]
  },
  {
   "cell_type": "code",
   "execution_count": 75,
   "id": "34e27b84-b166-4d21-85bf-fe97a5805fca",
   "metadata": {},
   "outputs": [],
   "source": [
    "lrclf = LogisticRegression(max_iter=3000)\n",
    "lrclf.fit(Xtrain, ytrain)\n",
    "pred = lrclf.predict(Xtest)"
   ]
  },
  {
   "cell_type": "code",
   "execution_count": 76,
   "id": "2a02ee4b-99e1-40d2-aa6f-6811e6d68d9b",
   "metadata": {},
   "outputs": [
    {
     "data": {
      "text/plain": [
       "0.9532163742690059"
      ]
     },
     "execution_count": 76,
     "metadata": {},
     "output_type": "execute_result"
    }
   ],
   "source": [
    "accuracy_score(pred,ytest)"
   ]
  },
  {
   "cell_type": "code",
   "execution_count": 79,
   "id": "0f23ae2a-cf28-4686-9c38-cc40c86d278f",
   "metadata": {},
   "outputs": [
    {
     "name": "stdout",
     "output_type": "stream",
     "text": [
      "0.9719626168224299\n"
     ]
    }
   ],
   "source": [
    "print(precision_score(pred,ytest))"
   ]
  },
  {
   "cell_type": "code",
   "execution_count": 80,
   "id": "440008bf-c4f4-4d9e-95b8-f4d4863e6fdc",
   "metadata": {},
   "outputs": [
    {
     "name": "stdout",
     "output_type": "stream",
     "text": [
      "0.9541284403669725\n"
     ]
    }
   ],
   "source": [
    "print(recall_score(pred,ytest))"
   ]
  },
  {
   "cell_type": "code",
   "execution_count": 81,
   "id": "79c85c97-4da2-41bf-b293-ddca770d499a",
   "metadata": {},
   "outputs": [
    {
     "name": "stdout",
     "output_type": "stream",
     "text": [
      "0.962962962962963\n"
     ]
    }
   ],
   "source": [
    "print(f1_score(pred,ytest))"
   ]
  },
  {
   "cell_type": "code",
   "execution_count": 82,
   "id": "99704dde-fc75-4948-bd1f-506a1f4d164a",
   "metadata": {},
   "outputs": [
    {
     "data": {
      "text/plain": [
       "array([[ 59,   3],\n",
       "       [  5, 104]])"
      ]
     },
     "execution_count": 82,
     "metadata": {},
     "output_type": "execute_result"
    }
   ],
   "source": [
    "confusion_matrix(pred,ytest)"
   ]
  },
  {
   "cell_type": "code",
   "execution_count": 84,
   "id": "b814611c-ff4a-445a-966b-3da63b70acfb",
   "metadata": {},
   "outputs": [],
   "source": [
    "pred_proba = lrclf.predict_proba(Xtest)[:,1]\n",
    "fprs,tprs,_ = roc_curve(ytest,pred_proba)"
   ]
  },
  {
   "cell_type": "code",
   "execution_count": 86,
   "id": "aa868344-352b-42c6-b6e3-b707b29e2b62",
   "metadata": {},
   "outputs": [
    {
     "data": {
      "text/plain": [
       "<seaborn.axisgrid.FacetGrid at 0x7f17016ec290>"
      ]
     },
     "execution_count": 86,
     "metadata": {},
     "output_type": "execute_result"
    },
    {
     "data": {
      "image/png": "[encoded data removed]",
      "text/plain": [
       "<Figure size 414.875x360 with 1 Axes>"
      ]
     },
     "metadata": {
      "needs_background": "light"
     },
     "output_type": "display_data"
    }
   ],
   "source": [
    "roc = pd.DataFrame({'FPR':fprs, 'TPR':tprs})\n",
    "sns.displot(roc.iloc[:, [0,1]], kind='kde')"
   ]
  },
  {
   "cell_type": "code",
   "execution_count": 87,
   "id": "ee7983a1-fe34-40d9-8d38-f2e1a409411d",
   "metadata": {},
   "outputs": [
    {
     "data": {
      "text/plain": [
       "0.946918808411215"
      ]
     },
     "execution_count": 87,
     "metadata": {},
     "output_type": "execute_result"
    }
   ],
   "source": [
    "roc_auc_score(ytest,pred)"
   ]
  },
  {
   "cell_type": "code",
   "execution_count": 89,
   "id": "3b7c4501-a10a-4e93-92e8-db1aa550b6e8",
   "metadata": {},
   "outputs": [
    {
     "data": {
      "text/plain": [
       "[<matplotlib.lines.Line2D at 0x7f1701843dd0>]"
      ]
     },
     "execution_count": 89,
     "metadata": {},
     "output_type": "execute_result"
    },
    {
     "data": {
      "image/png": "[encoded data removed]",
      "text/plain": [
       "<Figure size 432x288 with 1 Axes>"
      ]
     },
     "metadata": {
      "needs_background": "light"
     },
     "output_type": "display_data"
    }
   ],
   "source": [
    "plt.plot(fprs, tprs, 'r', label='ROC')\n",
    "plt.plot([0,1], [0,1], 'k--')"
   ]
  },
  {
   "cell_type": "code",
   "execution_count": null,
   "id": "d25d2d29-866f-43f8-b975-896a5f09cd1d",
   "metadata": {
    "tags": []
   },
   "outputs": [],
   "source": [
    "# iris 데이터셋 중 petal length와 width에 대해 \n",
    "# 로지스틱 회귀로 분석한 후 정확도/특이도/재현율(민감도)/F1스코어를 구한 다음\n",
    "# ROC 그래프와 AUC를 확인해보세요"
   ]
  }
 ],
 "metadata": {
  "kernelspec": {
   "display_name": "Python 3 (ipykernel)",
   "language": "python",
   "name": "python3"
  },
  "language_info": {
   "codemirror_mode": {
    "name": "ipython",
    "version": 3
   },
   "file_extension": ".py",
   "mimetype": "text/x-python",
   "name": "python",
   "nbconvert_exporter": "python",
   "pygments_lexer": "ipython3",
   "version": "3.7.10"
  }
 },
 "nbformat": 4,
 "nbformat_minor": 5
}
