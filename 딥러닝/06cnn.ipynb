{
 "cells": [
  {
   "cell_type": "code",
   "execution_count": 1,
   "id": "5c3df841-4190-40dc-9cb1-aca7ed8be472",
   "metadata": {},
   "outputs": [],
   "source": [
    "import numpy as np\n",
    "import matplotlib.pyplot as plt\n",
    "from tensorflow import keras\n",
    "from sklearn.model_selection import train_test_split"
   ]
  },
  {
   "cell_type": "markdown",
   "id": "a84ab9e2-6e42-44e2-9d9a-8f22601727b7",
   "metadata": {},
   "source": [
    "### 패션 MINST 데이터"
   ]
  },
  {
   "cell_type": "code",
   "execution_count": 2,
   "id": "5eb55b6f-5290-47d8-b367-d4da26d048b1",
   "metadata": {},
   "outputs": [],
   "source": [
    "(train_input, train_target), (test_input, test_target) = \\\n",
    "    keras.datasets.fashion_mnist.load_data()\n",
    "\n",
    "train_scaled = train_input.reshape(-1, 28, 28, 1) / 255.0\n",
    "\n",
    "train_scaled, val_scaled, train_target, val_target = train_test_split(\n",
    "    train_scaled, train_target, test_size=0.2, random_state=42)"
   ]
  },
  {
   "cell_type": "markdown",
   "id": "2a472dfa-ac6e-40c7-b661-d7c12608565c",
   "metadata": {},
   "source": [
    "### 합성곱 신경망 만들기 "
   ]
  },
  {
   "cell_type": "code",
   "execution_count": 3,
   "id": "7ad480cd-87f4-47bf-8e98-77752dd42581",
   "metadata": {},
   "outputs": [
    {
     "name": "stdout",
     "output_type": "stream",
     "text": [
      "WARNING:tensorflow:From /home/hadoop/.local/lib/python3.7/site-packages/tensorflow_core/python/ops/resource_variable_ops.py:1630: calling BaseResourceVariable.__init__ (from tensorflow.python.ops.resource_variable_ops) with constraint is deprecated and will be removed in a future version.\n",
      "Instructions for updating:\n",
      "If using Keras pass *_constraint arguments to layers.\n",
      "Model: \"sequential\"\n",
      "_________________________________________________________________\n",
      "Layer (type)                 Output Shape              Param #   \n",
      "=================================================================\n",
      "conv2d (Conv2D)              (None, 28, 28, 32)        320       \n",
      "_________________________________________________________________\n",
      "max_pooling2d (MaxPooling2D) (None, 14, 14, 32)        0         \n",
      "_________________________________________________________________\n",
      "conv2d_1 (Conv2D)            (None, 14, 14, 64)        18496     \n",
      "_________________________________________________________________\n",
      "max_pooling2d_1 (MaxPooling2 (None, 7, 7, 64)          0         \n",
      "_________________________________________________________________\n",
      "flatten (Flatten)            (None, 3136)              0         \n",
      "_________________________________________________________________\n",
      "dense (Dense)                (None, 100)               313700    \n",
      "_________________________________________________________________\n",
      "dropout (Dropout)            (None, 100)               0         \n",
      "_________________________________________________________________\n",
      "dense_1 (Dense)              (None, 10)                1010      \n",
      "=================================================================\n",
      "Total params: 333,526\n",
      "Trainable params: 333,526\n",
      "Non-trainable params: 0\n",
      "_________________________________________________________________\n"
     ]
    }
   ],
   "source": [
    "model = keras.Sequential()\n",
    "model.add(keras.layers.Conv2D(32, kernel_size=3, activation='relu',\n",
    "          padding='same', input_shape=(28,28,1)))   # 첫번째 합성곱\n",
    "\n",
    "model.add(keras.layers.MaxPooling2D(2))  ## 풀링\n",
    "\n",
    "model.add(keras.layers.Conv2D(64, kernel_size=3, activation='relu',\n",
    "          padding='same'))                         # 두번째 합성곱\n",
    "model.add(keras.layers.MaxPooling2D(2))\n",
    "\n",
    "model.add(keras.layers.Flatten())\n",
    "model.add(keras.layers.Dense(100, activation='relu'))\n",
    "model.add(keras.layers.Dropout(0.4))\n",
    "model.add(keras.layers.Dense(10, activation='softmax'))\n",
    "\n",
    "model.summary()"
   ]
  },
  {
   "cell_type": "markdown",
   "id": "99b47ae0-1ff7-444a-bd86-98736d035117",
   "metadata": {},
   "source": [
    "### 모델 컴파일과 훈련 "
   ]
  },
  {
   "cell_type": "code",
   "execution_count": 4,
   "id": "ce84b08e-bbe6-413e-8b08-5202182f04fe",
   "metadata": {},
   "outputs": [
    {
     "name": "stdout",
     "output_type": "stream",
     "text": [
      "Train on 48000 samples, validate on 12000 samples\n"
     ]
    },
    {
     "name": "stderr",
     "output_type": "stream",
     "text": [
      "2021-12-03 13:10:16.189142: I tensorflow/core/platform/cpu_feature_guard.cc:142] Your CPU supports instructions that this TensorFlow binary was not compiled to use: AVX2 AVX512F FMA\n"
     ]
    },
    {
     "name": "stdout",
     "output_type": "stream",
     "text": [
      "Epoch 1/20\n",
      "48000/48000 [==============================] - 38s 800us/sample - loss: 0.5082 - acc: 0.8195 - val_loss: 0.3204 - val_acc: 0.8797\n",
      "Epoch 2/20\n",
      "48000/48000 [==============================] - 36s 757us/sample - loss: 0.3319 - acc: 0.8810 - val_loss: 0.2827 - val_acc: 0.8949\n",
      "Epoch 3/20\n",
      "48000/48000 [==============================] - 37s 766us/sample - loss: 0.2834 - acc: 0.8966 - val_loss: 0.2527 - val_acc: 0.9041\n",
      "Epoch 4/20\n",
      "48000/48000 [==============================] - 37s 764us/sample - loss: 0.2520 - acc: 0.9073 - val_loss: 0.2356 - val_acc: 0.9138\n",
      "Epoch 5/20\n",
      "48000/48000 [==============================] - 38s 784us/sample - loss: 0.2277 - acc: 0.9160 - val_loss: 0.2224 - val_acc: 0.9149\n",
      "Epoch 6/20\n",
      "48000/48000 [==============================] - 36s 753us/sample - loss: 0.2085 - acc: 0.9229 - val_loss: 0.2216 - val_acc: 0.9179\n",
      "Epoch 7/20\n",
      "48000/48000 [==============================] - 37s 768us/sample - loss: 0.1928 - acc: 0.9278 - val_loss: 0.2094 - val_acc: 0.9216\n",
      "Epoch 8/20\n",
      "48000/48000 [==============================] - 36s 747us/sample - loss: 0.1774 - acc: 0.9330 - val_loss: 0.2197 - val_acc: 0.9228\n",
      "Epoch 9/20\n",
      "48000/48000 [==============================] - 36s 749us/sample - loss: 0.1609 - acc: 0.9396 - val_loss: 0.2155 - val_acc: 0.9242\n"
     ]
    }
   ],
   "source": [
    "model.compile(optimizer='adam', loss='sparse_categorical_crossentropy', \n",
    "              metrics=['accuracy'])\n",
    "\n",
    "checkpoint_cb = keras.callbacks.ModelCheckpoint('models/best-cnn-model.h5', \n",
    "                                                save_best_only=True)\n",
    "early_stopping_cb = keras.callbacks.EarlyStopping(patience=2,\n",
    "                                                  restore_best_weights=True)\n",
    "\n",
    "history = model.fit(train_scaled, train_target, epochs=20,\n",
    "                    validation_data=(val_scaled, val_target),\n",
    "                    callbacks=[checkpoint_cb, early_stopping_cb])"
   ]
  },
  {
   "cell_type": "code",
   "execution_count": 5,
   "id": "e4854018-ed60-43aa-b67f-a4fd3ea0a13a",
   "metadata": {},
   "outputs": [
    {
     "data": {
      "image/png": "[encoded data removed]",
      "text/plain": [
       "<Figure size 432x288 with 1 Axes>"
      ]
     },
     "metadata": {
      "needs_background": "light"
     },
     "output_type": "display_data"
    }
   ],
   "source": [
    "plt.plot(history.history['loss'])\n",
    "plt.plot(history.history['val_loss'])\n",
    "plt.xlabel('epoch')\n",
    "plt.ylabel('loss')\n",
    "plt.legend(['train','val'])\n",
    "plt.show()"
   ]
  },
  {
   "cell_type": "code",
   "execution_count": 6,
   "id": "5df8d865-3c38-4eb1-b11c-0955c11b92c9",
   "metadata": {},
   "outputs": [
    {
     "name": "stdout",
     "output_type": "stream",
     "text": [
      "[[1.3743452e-16 3.2106752e-22 1.0783409e-16 1.5429147e-16 5.2153323e-13\n",
      "  8.7272094e-17 2.4169211e-14 2.2053713e-18 1.0000000e+00 6.1283182e-21]]\n"
     ]
    }
   ],
   "source": [
    "preds = model.predict(val_scaled[0:1])\n",
    "print(preds)"
   ]
  },
  {
   "cell_type": "code",
   "execution_count": 7,
   "id": "a1746126-454e-4274-9a9d-e53193835a18",
   "metadata": {},
   "outputs": [
    {
     "data": {
      "text/plain": [
       "'가방'"
      ]
     },
     "execution_count": 7,
     "metadata": {},
     "output_type": "execute_result"
    }
   ],
   "source": [
    "classes = ['티셔츠', '바지', '스웨터', '드레스', '코트',\n",
    "           '샌달', '셔츠', '스니커즈', '가방', '앵클 부츠']\n",
    " \n",
    "classes[np.argmax(preds)]"
   ]
  },
  {
   "cell_type": "code",
   "execution_count": null,
   "id": "d5ad4ca9-c19c-424e-8140-becdb3176dfe",
   "metadata": {},
   "outputs": [],
   "source": []
  }
 ],
 "metadata": {
  "kernelspec": {
   "display_name": "Python 3 (ipykernel)",
   "language": "python",
   "name": "python3"
  },
  "language_info": {
   "codemirror_mode": {
    "name": "ipython",
    "version": 3
   },
   "file_extension": ".py",
   "mimetype": "text/x-python",
   "name": "python",
   "nbconvert_exporter": "python",
   "pygments_lexer": "ipython3",
   "version": "3.7.10"
  }
 },
 "nbformat": 4,
 "nbformat_minor": 5
}
