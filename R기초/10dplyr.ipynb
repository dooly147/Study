{
 "cells": [
  {
   "cell_type": "markdown",
   "id": "3c24054f-732d-454d-84ea-bf9d9c51e1d4",
   "metadata": {},
   "source": [
    "# 10 dplyr"
   ]
  },
  {
   "cell_type": "markdown",
   "id": "e4cd3fd7-40fc-4995-bb7a-9f5ced4ef583",
   "metadata": {},
   "source": [
    "## dplyr\n",
    "* 해들리 위컴이 만든 패키지\n",
    "* 데이터프레임을 대상으로 데이터랭글링 작업에 빠른 속도와 많은 유용한 기능을 제공\n",
    "* 데이터 전처리작업의 사실상 표준(de facto) 패키지로 인정받음\n",
    "* 데이터 전처리 작업은 동사로 정의된 각 함수를 통해서 이루어 짐\n",
    "    - select    : 열 선택\n",
    "    - filter    : 조건 검색\n",
    "    - group_by  : 데이터 그룹화\n",
    "    - mutate    : 행/열 추가\n",
    "    - summrise  : 데이터 집계\n",
    "    - arrange   : 데이터 정렬\n",
    "* 이러한 함수들은 magrittr 패키지에 의해 구현된 파이프(>)<br> \n",
    "패러다임을 이용해서 체인형식으로 연산을 수행 할 수 있음\n",
    "* 즉, 먼저 수행한 함수의 결과를  다음 실행할 함수의 입력으로 보낼 수 있음\n",
    "    - sum(titanic, na.rm=T)   # 기존방식\n",
    "    - titanic %>% sum(na.rm=T) # 파이프 방식\n",
    "* 파이프 기호(%>%)를 입력할 때는 단축키 ctrl + shift + M 를 사용함"
   ]
  },
  {
   "cell_type": "code",
   "execution_count": 1,
   "id": "46e20d85-366a-4345-81eb-3ceb0ec9a850",
   "metadata": {},
   "outputs": [],
   "source": [
    "# dplyr 패키지 설치 (터미널에서 입력!)\n",
    "# install.packages('dplyr')"
   ]
  },
  {
   "cell_type": "code",
   "execution_count": 21,
   "id": "b6ffa6e4-c910-4982-8529-b351f98c674e",
   "metadata": {},
   "outputs": [],
   "source": [
    "library(dplyr)"
   ]
  },
  {
   "cell_type": "code",
   "execution_count": 22,
   "id": "e55fd79a-aa21-4ad6-9eb4-f872d4f8bbe6",
   "metadata": {},
   "outputs": [],
   "source": [
    "load('csv/sungjuk.rdata')"
   ]
  },
  {
   "cell_type": "markdown",
   "id": "ca015f7a-37fb-4884-94b6-075f2357d62c",
   "metadata": {},
   "source": [
    "## select (열선택)"
   ]
  },
  {
   "cell_type": "code",
   "execution_count": 23,
   "id": "6e0643a2-1ed2-4da5-ad8a-c90ba1e6e82e",
   "metadata": {},
   "outputs": [
    {
     "data": {
      "text/html": [
       "<table class=\"dataframe\">\n",
       "<caption>A data.frame: 4 × 1</caption>\n",
       "<thead>\n",
       "\t<tr><th scope=col>eng</th></tr>\n",
       "\t<tr><th scope=col>&lt;dbl&gt;</th></tr>\n",
       "</thead>\n",
       "<tbody>\n",
       "\t<tr><td>90</td></tr>\n",
       "\t<tr><td>95</td></tr>\n",
       "\t<tr><td>69</td></tr>\n",
       "\t<tr><td>78</td></tr>\n",
       "</tbody>\n",
       "</table>\n"
      ],
      "text/latex": [
       "A data.frame: 4 × 1\n",
       "\\begin{tabular}{l}\n",
       " eng\\\\\n",
       " <dbl>\\\\\n",
       "\\hline\n",
       "\t 90\\\\\n",
       "\t 95\\\\\n",
       "\t 69\\\\\n",
       "\t 78\\\\\n",
       "\\end{tabular}\n"
      ],
      "text/markdown": [
       "\n",
       "A data.frame: 4 × 1\n",
       "\n",
       "| eng &lt;dbl&gt; |\n",
       "|---|\n",
       "| 90 |\n",
       "| 95 |\n",
       "| 69 |\n",
       "| 78 |\n",
       "\n"
      ],
      "text/plain": [
       "  eng\n",
       "1 90 \n",
       "2 95 \n",
       "3 69 \n",
       "4 78 "
      ]
     },
     "metadata": {},
     "output_type": "display_data"
    }
   ],
   "source": [
    "# 영어성적 출력\n",
    "sungjuk %>% select(eng)   # select(컬럼명)"
   ]
  },
  {
   "cell_type": "code",
   "execution_count": 24,
   "id": "7ef35f15-0846-4502-a38a-c02591f94f54",
   "metadata": {},
   "outputs": [
    {
     "data": {
      "text/html": [
       "<table class=\"dataframe\">\n",
       "<caption>A data.frame: 4 × 3</caption>\n",
       "<thead>\n",
       "\t<tr><th scope=col>eng</th><th scope=col>mat</th><th scope=col>sci</th></tr>\n",
       "\t<tr><th scope=col>&lt;dbl&gt;</th><th scope=col>&lt;dbl&gt;</th><th scope=col>&lt;dbl&gt;</th></tr>\n",
       "</thead>\n",
       "<tbody>\n",
       "\t<tr><td>90</td><td>85</td><td>90</td></tr>\n",
       "\t<tr><td>95</td><td>96</td><td>80</td></tr>\n",
       "\t<tr><td>69</td><td>49</td><td>70</td></tr>\n",
       "\t<tr><td>78</td><td>95</td><td>60</td></tr>\n",
       "</tbody>\n",
       "</table>\n"
      ],
      "text/latex": [
       "A data.frame: 4 × 3\n",
       "\\begin{tabular}{lll}\n",
       " eng & mat & sci\\\\\n",
       " <dbl> & <dbl> & <dbl>\\\\\n",
       "\\hline\n",
       "\t 90 & 85 & 90\\\\\n",
       "\t 95 & 96 & 80\\\\\n",
       "\t 69 & 49 & 70\\\\\n",
       "\t 78 & 95 & 60\\\\\n",
       "\\end{tabular}\n"
      ],
      "text/markdown": [
       "\n",
       "A data.frame: 4 × 3\n",
       "\n",
       "| eng &lt;dbl&gt; | mat &lt;dbl&gt; | sci &lt;dbl&gt; |\n",
       "|---|---|---|\n",
       "| 90 | 85 | 90 |\n",
       "| 95 | 96 | 80 |\n",
       "| 69 | 49 | 70 |\n",
       "| 78 | 95 | 60 |\n",
       "\n"
      ],
      "text/plain": [
       "  eng mat sci\n",
       "1 90  85  90 \n",
       "2 95  96  80 \n",
       "3 69  49  70 \n",
       "4 78  95  60 "
      ]
     },
     "metadata": {},
     "output_type": "display_data"
    }
   ],
   "source": [
    "# 영어, 수학, 과학 성적 출력\n",
    "sungjuk %>% select(eng, mat, sci)"
   ]
  },
  {
   "cell_type": "code",
   "execution_count": 25,
   "id": "a802cb7b-df4f-453d-b45a-1d2782d0b7ba",
   "metadata": {},
   "outputs": [
    {
     "data": {
      "text/html": [
       "<table class=\"dataframe\">\n",
       "<caption>A data.frame: 4 × 1</caption>\n",
       "<thead>\n",
       "\t<tr><th scope=col>name</th></tr>\n",
       "\t<tr><th scope=col>&lt;fct&gt;</th></tr>\n",
       "</thead>\n",
       "<tbody>\n",
       "\t<tr><td>John</td></tr>\n",
       "\t<tr><td>Tom </td></tr>\n",
       "\t<tr><td>Mark</td></tr>\n",
       "\t<tr><td>Jane</td></tr>\n",
       "</tbody>\n",
       "</table>\n"
      ],
      "text/latex": [
       "A data.frame: 4 × 1\n",
       "\\begin{tabular}{l}\n",
       " name\\\\\n",
       " <fct>\\\\\n",
       "\\hline\n",
       "\t John\\\\\n",
       "\t Tom \\\\\n",
       "\t Mark\\\\\n",
       "\t Jane\\\\\n",
       "\\end{tabular}\n"
      ],
      "text/markdown": [
       "\n",
       "A data.frame: 4 × 1\n",
       "\n",
       "| name &lt;fct&gt; |\n",
       "|---|\n",
       "| John |\n",
       "| Tom  |\n",
       "| Mark |\n",
       "| Jane |\n",
       "\n"
      ],
      "text/plain": [
       "  name\n",
       "1 John\n",
       "2 Tom \n",
       "3 Mark\n",
       "4 Jane"
      ]
     },
     "metadata": {},
     "output_type": "display_data"
    }
   ],
   "source": [
    "# 영어, 수학, 과학 성적을 제외하고 출력\n",
    "sungjuk %>% select(-eng, -mat, -sci)"
   ]
  },
  {
   "cell_type": "markdown",
   "id": "3fdebba2-df75-4e4b-aa6e-c419a25f5870",
   "metadata": {},
   "source": [
    "## filter (조건검색)"
   ]
  },
  {
   "cell_type": "code",
   "execution_count": 26,
   "id": "3f3a1f7f-e144-4155-8531-60d70d5178ee",
   "metadata": {},
   "outputs": [],
   "source": [
    "sungjuk$class <-c(1,2,1,3)   # 클래스 컬럼 추가"
   ]
  },
  {
   "cell_type": "code",
   "execution_count": 27,
   "id": "8aa1f513-b532-4513-b6e5-d647d2868621",
   "metadata": {},
   "outputs": [
    {
     "data": {
      "text/html": [
       "<table class=\"dataframe\">\n",
       "<caption>A data.frame: 2 × 5</caption>\n",
       "<thead>\n",
       "\t<tr><th scope=col>name</th><th scope=col>eng</th><th scope=col>mat</th><th scope=col>sci</th><th scope=col>class</th></tr>\n",
       "\t<tr><th scope=col>&lt;fct&gt;</th><th scope=col>&lt;dbl&gt;</th><th scope=col>&lt;dbl&gt;</th><th scope=col>&lt;dbl&gt;</th><th scope=col>&lt;dbl&gt;</th></tr>\n",
       "</thead>\n",
       "<tbody>\n",
       "\t<tr><td>John</td><td>90</td><td>85</td><td>90</td><td>1</td></tr>\n",
       "\t<tr><td>Mark</td><td>69</td><td>49</td><td>70</td><td>1</td></tr>\n",
       "</tbody>\n",
       "</table>\n"
      ],
      "text/latex": [
       "A data.frame: 2 × 5\n",
       "\\begin{tabular}{lllll}\n",
       " name & eng & mat & sci & class\\\\\n",
       " <fct> & <dbl> & <dbl> & <dbl> & <dbl>\\\\\n",
       "\\hline\n",
       "\t John & 90 & 85 & 90 & 1\\\\\n",
       "\t Mark & 69 & 49 & 70 & 1\\\\\n",
       "\\end{tabular}\n"
      ],
      "text/markdown": [
       "\n",
       "A data.frame: 2 × 5\n",
       "\n",
       "| name &lt;fct&gt; | eng &lt;dbl&gt; | mat &lt;dbl&gt; | sci &lt;dbl&gt; | class &lt;dbl&gt; |\n",
       "|---|---|---|---|---|\n",
       "| John | 90 | 85 | 90 | 1 |\n",
       "| Mark | 69 | 49 | 70 | 1 |\n",
       "\n"
      ],
      "text/plain": [
       "  name eng mat sci class\n",
       "1 John 90  85  90  1    \n",
       "2 Mark 69  49  70  1    "
      ]
     },
     "metadata": {},
     "output_type": "display_data"
    }
   ],
   "source": [
    "# class가 1인 학생 조회\n",
    "sungjuk %>% filter(class == 1)"
   ]
  },
  {
   "cell_type": "code",
   "execution_count": 28,
   "id": "870a9432-47d4-4d6b-b569-d07eccb14adf",
   "metadata": {},
   "outputs": [
    {
     "data": {
      "text/html": [
       "<table class=\"dataframe\">\n",
       "<caption>A data.frame: 2 × 5</caption>\n",
       "<thead>\n",
       "\t<tr><th scope=col>name</th><th scope=col>eng</th><th scope=col>mat</th><th scope=col>sci</th><th scope=col>class</th></tr>\n",
       "\t<tr><th scope=col>&lt;fct&gt;</th><th scope=col>&lt;dbl&gt;</th><th scope=col>&lt;dbl&gt;</th><th scope=col>&lt;dbl&gt;</th><th scope=col>&lt;dbl&gt;</th></tr>\n",
       "</thead>\n",
       "<tbody>\n",
       "\t<tr><td>Tom </td><td>95</td><td>96</td><td>80</td><td>2</td></tr>\n",
       "\t<tr><td>Jane</td><td>78</td><td>95</td><td>60</td><td>3</td></tr>\n",
       "</tbody>\n",
       "</table>\n"
      ],
      "text/latex": [
       "A data.frame: 2 × 5\n",
       "\\begin{tabular}{lllll}\n",
       " name & eng & mat & sci & class\\\\\n",
       " <fct> & <dbl> & <dbl> & <dbl> & <dbl>\\\\\n",
       "\\hline\n",
       "\t Tom  & 95 & 96 & 80 & 2\\\\\n",
       "\t Jane & 78 & 95 & 60 & 3\\\\\n",
       "\\end{tabular}\n"
      ],
      "text/markdown": [
       "\n",
       "A data.frame: 2 × 5\n",
       "\n",
       "| name &lt;fct&gt; | eng &lt;dbl&gt; | mat &lt;dbl&gt; | sci &lt;dbl&gt; | class &lt;dbl&gt; |\n",
       "|---|---|---|---|---|\n",
       "| Tom  | 95 | 96 | 80 | 2 |\n",
       "| Jane | 78 | 95 | 60 | 3 |\n",
       "\n"
      ],
      "text/plain": [
       "  name eng mat sci class\n",
       "1 Tom  95  96  80  2    \n",
       "2 Jane 78  95  60  3    "
      ]
     },
     "metadata": {},
     "output_type": "display_data"
    },
    {
     "data": {
      "text/html": [
       "<table class=\"dataframe\">\n",
       "<caption>A data.frame: 2 × 5</caption>\n",
       "<thead>\n",
       "\t<tr><th scope=col>name</th><th scope=col>eng</th><th scope=col>mat</th><th scope=col>sci</th><th scope=col>class</th></tr>\n",
       "\t<tr><th scope=col>&lt;fct&gt;</th><th scope=col>&lt;dbl&gt;</th><th scope=col>&lt;dbl&gt;</th><th scope=col>&lt;dbl&gt;</th><th scope=col>&lt;dbl&gt;</th></tr>\n",
       "</thead>\n",
       "<tbody>\n",
       "\t<tr><td>Tom </td><td>95</td><td>96</td><td>80</td><td>2</td></tr>\n",
       "\t<tr><td>Jane</td><td>78</td><td>95</td><td>60</td><td>3</td></tr>\n",
       "</tbody>\n",
       "</table>\n"
      ],
      "text/latex": [
       "A data.frame: 2 × 5\n",
       "\\begin{tabular}{lllll}\n",
       " name & eng & mat & sci & class\\\\\n",
       " <fct> & <dbl> & <dbl> & <dbl> & <dbl>\\\\\n",
       "\\hline\n",
       "\t Tom  & 95 & 96 & 80 & 2\\\\\n",
       "\t Jane & 78 & 95 & 60 & 3\\\\\n",
       "\\end{tabular}\n"
      ],
      "text/markdown": [
       "\n",
       "A data.frame: 2 × 5\n",
       "\n",
       "| name &lt;fct&gt; | eng &lt;dbl&gt; | mat &lt;dbl&gt; | sci &lt;dbl&gt; | class &lt;dbl&gt; |\n",
       "|---|---|---|---|---|\n",
       "| Tom  | 95 | 96 | 80 | 2 |\n",
       "| Jane | 78 | 95 | 60 | 3 |\n",
       "\n"
      ],
      "text/plain": [
       "  name eng mat sci class\n",
       "1 Tom  95  96  80  2    \n",
       "2 Jane 78  95  60  3    "
      ]
     },
     "metadata": {},
     "output_type": "display_data"
    }
   ],
   "source": [
    "# class가 1이 아닌 학생 조회\n",
    "sungjuk %>% filter(class != 1)\n",
    "sungjuk %>% filter(!class == 1)"
   ]
  },
  {
   "cell_type": "code",
   "execution_count": 29,
   "id": "d4cf45c7-95aa-404f-b234-1859e4793c5e",
   "metadata": {},
   "outputs": [
    {
     "data": {
      "text/html": [
       "<table class=\"dataframe\">\n",
       "<caption>A data.frame: 3 × 5</caption>\n",
       "<thead>\n",
       "\t<tr><th scope=col>name</th><th scope=col>eng</th><th scope=col>mat</th><th scope=col>sci</th><th scope=col>class</th></tr>\n",
       "\t<tr><th scope=col>&lt;fct&gt;</th><th scope=col>&lt;dbl&gt;</th><th scope=col>&lt;dbl&gt;</th><th scope=col>&lt;dbl&gt;</th><th scope=col>&lt;dbl&gt;</th></tr>\n",
       "</thead>\n",
       "<tbody>\n",
       "\t<tr><td>John</td><td>90</td><td>85</td><td>90</td><td>1</td></tr>\n",
       "\t<tr><td>Tom </td><td>95</td><td>96</td><td>80</td><td>2</td></tr>\n",
       "\t<tr><td>Jane</td><td>78</td><td>95</td><td>60</td><td>3</td></tr>\n",
       "</tbody>\n",
       "</table>\n"
      ],
      "text/latex": [
       "A data.frame: 3 × 5\n",
       "\\begin{tabular}{lllll}\n",
       " name & eng & mat & sci & class\\\\\n",
       " <fct> & <dbl> & <dbl> & <dbl> & <dbl>\\\\\n",
       "\\hline\n",
       "\t John & 90 & 85 & 90 & 1\\\\\n",
       "\t Tom  & 95 & 96 & 80 & 2\\\\\n",
       "\t Jane & 78 & 95 & 60 & 3\\\\\n",
       "\\end{tabular}\n"
      ],
      "text/markdown": [
       "\n",
       "A data.frame: 3 × 5\n",
       "\n",
       "| name &lt;fct&gt; | eng &lt;dbl&gt; | mat &lt;dbl&gt; | sci &lt;dbl&gt; | class &lt;dbl&gt; |\n",
       "|---|---|---|---|---|\n",
       "| John | 90 | 85 | 90 | 1 |\n",
       "| Tom  | 95 | 96 | 80 | 2 |\n",
       "| Jane | 78 | 95 | 60 | 3 |\n",
       "\n"
      ],
      "text/plain": [
       "  name eng mat sci class\n",
       "1 John 90  85  90  1    \n",
       "2 Tom  95  96  80  2    \n",
       "3 Jane 78  95  60  3    "
      ]
     },
     "metadata": {},
     "output_type": "display_data"
    }
   ],
   "source": [
    "# 영어성적이 70이상인 학생 조회\n",
    "sungjuk %>% filter(eng >= 70)"
   ]
  },
  {
   "cell_type": "code",
   "execution_count": 30,
   "id": "6c8ad4b8-769d-42cf-af48-368d86862242",
   "metadata": {},
   "outputs": [
    {
     "data": {
      "text/html": [
       "<table class=\"dataframe\">\n",
       "<caption>A data.frame: 2 × 5</caption>\n",
       "<thead>\n",
       "\t<tr><th scope=col>name</th><th scope=col>eng</th><th scope=col>mat</th><th scope=col>sci</th><th scope=col>class</th></tr>\n",
       "\t<tr><th scope=col>&lt;fct&gt;</th><th scope=col>&lt;dbl&gt;</th><th scope=col>&lt;dbl&gt;</th><th scope=col>&lt;dbl&gt;</th><th scope=col>&lt;dbl&gt;</th></tr>\n",
       "</thead>\n",
       "<tbody>\n",
       "\t<tr><td>John</td><td>90</td><td>85</td><td>90</td><td>1</td></tr>\n",
       "\t<tr><td>Tom </td><td>95</td><td>96</td><td>80</td><td>2</td></tr>\n",
       "</tbody>\n",
       "</table>\n"
      ],
      "text/latex": [
       "A data.frame: 2 × 5\n",
       "\\begin{tabular}{lllll}\n",
       " name & eng & mat & sci & class\\\\\n",
       " <fct> & <dbl> & <dbl> & <dbl> & <dbl>\\\\\n",
       "\\hline\n",
       "\t John & 90 & 85 & 90 & 1\\\\\n",
       "\t Tom  & 95 & 96 & 80 & 2\\\\\n",
       "\\end{tabular}\n"
      ],
      "text/markdown": [
       "\n",
       "A data.frame: 2 × 5\n",
       "\n",
       "| name &lt;fct&gt; | eng &lt;dbl&gt; | mat &lt;dbl&gt; | sci &lt;dbl&gt; | class &lt;dbl&gt; |\n",
       "|---|---|---|---|---|\n",
       "| John | 90 | 85 | 90 | 1 |\n",
       "| Tom  | 95 | 96 | 80 | 2 |\n",
       "\n"
      ],
      "text/plain": [
       "  name eng mat sci class\n",
       "1 John 90  85  90  1    \n",
       "2 Tom  95  96  80  2    "
      ]
     },
     "metadata": {},
     "output_type": "display_data"
    },
    {
     "data": {
      "text/html": [
       "<table class=\"dataframe\">\n",
       "<caption>A data.frame: 2 × 5</caption>\n",
       "<thead>\n",
       "\t<tr><th scope=col>name</th><th scope=col>eng</th><th scope=col>mat</th><th scope=col>sci</th><th scope=col>class</th></tr>\n",
       "\t<tr><th scope=col>&lt;fct&gt;</th><th scope=col>&lt;dbl&gt;</th><th scope=col>&lt;dbl&gt;</th><th scope=col>&lt;dbl&gt;</th><th scope=col>&lt;dbl&gt;</th></tr>\n",
       "</thead>\n",
       "<tbody>\n",
       "\t<tr><td>John</td><td>90</td><td>85</td><td>90</td><td>1</td></tr>\n",
       "\t<tr><td>Tom </td><td>95</td><td>96</td><td>80</td><td>2</td></tr>\n",
       "</tbody>\n",
       "</table>\n"
      ],
      "text/latex": [
       "A data.frame: 2 × 5\n",
       "\\begin{tabular}{lllll}\n",
       " name & eng & mat & sci & class\\\\\n",
       " <fct> & <dbl> & <dbl> & <dbl> & <dbl>\\\\\n",
       "\\hline\n",
       "\t John & 90 & 85 & 90 & 1\\\\\n",
       "\t Tom  & 95 & 96 & 80 & 2\\\\\n",
       "\\end{tabular}\n"
      ],
      "text/markdown": [
       "\n",
       "A data.frame: 2 × 5\n",
       "\n",
       "| name &lt;fct&gt; | eng &lt;dbl&gt; | mat &lt;dbl&gt; | sci &lt;dbl&gt; | class &lt;dbl&gt; |\n",
       "|---|---|---|---|---|\n",
       "| John | 90 | 85 | 90 | 1 |\n",
       "| Tom  | 95 | 96 | 80 | 2 |\n",
       "\n"
      ],
      "text/plain": [
       "  name eng mat sci class\n",
       "1 John 90  85  90  1    \n",
       "2 Tom  95  96  80  2    "
      ]
     },
     "metadata": {},
     "output_type": "display_data"
    }
   ],
   "source": [
    "# 영어성적이 80이상, 수학성적이 85인 학생 조회\n",
    "sungjuk %>% filter(eng >= 80 & mat >=85)\n",
    "sungjuk %>% filter(eng >= 80,  mat >=85)"
   ]
  },
  {
   "cell_type": "code",
   "execution_count": 31,
   "id": "690302ce-b05c-4096-8e81-9ea3d9706228",
   "metadata": {},
   "outputs": [
    {
     "data": {
      "text/html": [
       "<table class=\"dataframe\">\n",
       "<caption>A data.frame: 2 × 2</caption>\n",
       "<thead>\n",
       "\t<tr><th scope=col>name</th><th scope=col>class</th></tr>\n",
       "\t<tr><th scope=col>&lt;fct&gt;</th><th scope=col>&lt;dbl&gt;</th></tr>\n",
       "</thead>\n",
       "<tbody>\n",
       "\t<tr><td>John</td><td>1</td></tr>\n",
       "\t<tr><td>Tom </td><td>2</td></tr>\n",
       "</tbody>\n",
       "</table>\n"
      ],
      "text/latex": [
       "A data.frame: 2 × 2\n",
       "\\begin{tabular}{ll}\n",
       " name & class\\\\\n",
       " <fct> & <dbl>\\\\\n",
       "\\hline\n",
       "\t John & 1\\\\\n",
       "\t Tom  & 2\\\\\n",
       "\\end{tabular}\n"
      ],
      "text/markdown": [
       "\n",
       "A data.frame: 2 × 2\n",
       "\n",
       "| name &lt;fct&gt; | class &lt;dbl&gt; |\n",
       "|---|---|\n",
       "| John | 1 |\n",
       "| Tom  | 2 |\n",
       "\n"
      ],
      "text/plain": [
       "  name class\n",
       "1 John 1    \n",
       "2 Tom  2    "
      ]
     },
     "metadata": {},
     "output_type": "display_data"
    }
   ],
   "source": [
    "# 영어성적이 80이상, 수학성적이 85인 학생들의 이름, class 조회\n",
    "sungjuk %>% filter(eng >=80 & mat >=85) %>% select(name, class)"
   ]
  },
  {
   "cell_type": "code",
   "execution_count": null,
   "id": "f3d33e8d-40fa-4e9d-9855-7736524c82d0",
   "metadata": {},
   "outputs": [],
   "source": []
  },
  {
   "cell_type": "code",
   "execution_count": 32,
   "id": "536ccc40-8037-4613-8959-1b9c09b96e9e",
   "metadata": {},
   "outputs": [
    {
     "data": {
      "text/html": [
       "<table class=\"dataframe\">\n",
       "<caption>A tibble: 6 × 11</caption>\n",
       "<thead>\n",
       "\t<tr><th scope=col>manufacturer</th><th scope=col>model</th><th scope=col>displ</th><th scope=col>year</th><th scope=col>cyl</th><th scope=col>trans</th><th scope=col>drv</th><th scope=col>cty</th><th scope=col>hwy</th><th scope=col>fl</th><th scope=col>class</th></tr>\n",
       "\t<tr><th scope=col>&lt;chr&gt;</th><th scope=col>&lt;chr&gt;</th><th scope=col>&lt;dbl&gt;</th><th scope=col>&lt;int&gt;</th><th scope=col>&lt;int&gt;</th><th scope=col>&lt;chr&gt;</th><th scope=col>&lt;chr&gt;</th><th scope=col>&lt;int&gt;</th><th scope=col>&lt;int&gt;</th><th scope=col>&lt;chr&gt;</th><th scope=col>&lt;chr&gt;</th></tr>\n",
       "</thead>\n",
       "<tbody>\n",
       "\t<tr><td>audi</td><td>a4</td><td>1.8</td><td>1999</td><td>4</td><td>auto(l5)  </td><td>f</td><td>18</td><td>29</td><td>p</td><td>compact</td></tr>\n",
       "\t<tr><td>audi</td><td>a4</td><td>1.8</td><td>1999</td><td>4</td><td>manual(m5)</td><td>f</td><td>21</td><td>29</td><td>p</td><td>compact</td></tr>\n",
       "\t<tr><td>audi</td><td>a4</td><td>2.0</td><td>2008</td><td>4</td><td>manual(m6)</td><td>f</td><td>20</td><td>31</td><td>p</td><td>compact</td></tr>\n",
       "\t<tr><td>audi</td><td>a4</td><td>2.0</td><td>2008</td><td>4</td><td>auto(av)  </td><td>f</td><td>21</td><td>30</td><td>p</td><td>compact</td></tr>\n",
       "\t<tr><td>audi</td><td>a4</td><td>2.8</td><td>1999</td><td>6</td><td>auto(l5)  </td><td>f</td><td>16</td><td>26</td><td>p</td><td>compact</td></tr>\n",
       "\t<tr><td>audi</td><td>a4</td><td>2.8</td><td>1999</td><td>6</td><td>manual(m5)</td><td>f</td><td>18</td><td>26</td><td>p</td><td>compact</td></tr>\n",
       "</tbody>\n",
       "</table>\n"
      ],
      "text/latex": [
       "A tibble: 6 × 11\n",
       "\\begin{tabular}{lllllllllll}\n",
       " manufacturer & model & displ & year & cyl & trans & drv & cty & hwy & fl & class\\\\\n",
       " <chr> & <chr> & <dbl> & <int> & <int> & <chr> & <chr> & <int> & <int> & <chr> & <chr>\\\\\n",
       "\\hline\n",
       "\t audi & a4 & 1.8 & 1999 & 4 & auto(l5)   & f & 18 & 29 & p & compact\\\\\n",
       "\t audi & a4 & 1.8 & 1999 & 4 & manual(m5) & f & 21 & 29 & p & compact\\\\\n",
       "\t audi & a4 & 2.0 & 2008 & 4 & manual(m6) & f & 20 & 31 & p & compact\\\\\n",
       "\t audi & a4 & 2.0 & 2008 & 4 & auto(av)   & f & 21 & 30 & p & compact\\\\\n",
       "\t audi & a4 & 2.8 & 1999 & 6 & auto(l5)   & f & 16 & 26 & p & compact\\\\\n",
       "\t audi & a4 & 2.8 & 1999 & 6 & manual(m5) & f & 18 & 26 & p & compact\\\\\n",
       "\\end{tabular}\n"
      ],
      "text/markdown": [
       "\n",
       "A tibble: 6 × 11\n",
       "\n",
       "| manufacturer &lt;chr&gt; | model &lt;chr&gt; | displ &lt;dbl&gt; | year &lt;int&gt; | cyl &lt;int&gt; | trans &lt;chr&gt; | drv &lt;chr&gt; | cty &lt;int&gt; | hwy &lt;int&gt; | fl &lt;chr&gt; | class &lt;chr&gt; |\n",
       "|---|---|---|---|---|---|---|---|---|---|---|\n",
       "| audi | a4 | 1.8 | 1999 | 4 | auto(l5)   | f | 18 | 29 | p | compact |\n",
       "| audi | a4 | 1.8 | 1999 | 4 | manual(m5) | f | 21 | 29 | p | compact |\n",
       "| audi | a4 | 2.0 | 2008 | 4 | manual(m6) | f | 20 | 31 | p | compact |\n",
       "| audi | a4 | 2.0 | 2008 | 4 | auto(av)   | f | 21 | 30 | p | compact |\n",
       "| audi | a4 | 2.8 | 1999 | 6 | auto(l5)   | f | 16 | 26 | p | compact |\n",
       "| audi | a4 | 2.8 | 1999 | 6 | manual(m5) | f | 18 | 26 | p | compact |\n",
       "\n"
      ],
      "text/plain": [
       "  manufacturer model displ year cyl trans      drv cty hwy fl class  \n",
       "1 audi         a4    1.8   1999 4   auto(l5)   f   18  29  p  compact\n",
       "2 audi         a4    1.8   1999 4   manual(m5) f   21  29  p  compact\n",
       "3 audi         a4    2.0   2008 4   manual(m6) f   20  31  p  compact\n",
       "4 audi         a4    2.0   2008 4   auto(av)   f   21  30  p  compact\n",
       "5 audi         a4    2.8   1999 6   auto(l5)   f   16  26  p  compact\n",
       "6 audi         a4    2.8   1999 6   manual(m5) f   18  26  p  compact"
      ]
     },
     "metadata": {},
     "output_type": "display_data"
    }
   ],
   "source": [
    "# 먼저 터미널에서 ggplot2 설치하기\n",
    "# ggplot2 패키지에 있는 mpg 데이터셋을 이용해서 다음 문제들을 풀어보세요\n",
    "\n",
    "library(ggplot2)\n",
    "\n",
    "head(mpg)"
   ]
  },
  {
   "cell_type": "code",
   "execution_count": 33,
   "id": "b5074ef4-ab5c-4dba-85b9-443c99495d8d",
   "metadata": {},
   "outputs": [
    {
     "name": "stdout",
     "output_type": "stream",
     "text": [
      "\u001b[90m# A tibble: 234 × 2\u001b[39m\n",
      "   class     cty\n",
      "   \u001b[3m\u001b[90m<chr>\u001b[39m\u001b[23m   \u001b[3m\u001b[90m<int>\u001b[39m\u001b[23m\n",
      "\u001b[90m 1\u001b[39m compact    18\n",
      "\u001b[90m 2\u001b[39m compact    21\n",
      "\u001b[90m 3\u001b[39m compact    20\n",
      "\u001b[90m 4\u001b[39m compact    21\n",
      "\u001b[90m 5\u001b[39m compact    16\n",
      "\u001b[90m 6\u001b[39m compact    18\n",
      "\u001b[90m 7\u001b[39m compact    18\n",
      "\u001b[90m 8\u001b[39m compact    18\n",
      "\u001b[90m 9\u001b[39m compact    16\n",
      "\u001b[90m10\u001b[39m compact    20\n",
      "\u001b[90m11\u001b[39m compact    19\n",
      "\u001b[90m12\u001b[39m compact    15\n",
      "\u001b[90m13\u001b[39m compact    17\n",
      "\u001b[90m14\u001b[39m compact    17\n",
      "\u001b[90m15\u001b[39m compact    15\n",
      "\u001b[90m16\u001b[39m midsize    15\n",
      "\u001b[90m17\u001b[39m midsize    17\n",
      "\u001b[90m18\u001b[39m midsize    16\n",
      "\u001b[90m19\u001b[39m suv        14\n",
      "\u001b[90m20\u001b[39m suv        11\n",
      "\u001b[90m21\u001b[39m suv        14\n",
      "\u001b[90m22\u001b[39m suv        13\n",
      "\u001b[90m23\u001b[39m suv        12\n",
      "\u001b[90m24\u001b[39m 2seater    16\n",
      "\u001b[90m25\u001b[39m 2seater    15\n",
      "\u001b[90m26\u001b[39m 2seater    16\n",
      "\u001b[90m27\u001b[39m 2seater    15\n",
      "\u001b[90m28\u001b[39m 2seater    15\n",
      "\u001b[90m29\u001b[39m suv        14\n",
      "\u001b[90m30\u001b[39m suv        11\n",
      "\u001b[90m31\u001b[39m suv        11\n",
      "\u001b[90m32\u001b[39m suv        14\n",
      "\u001b[90m33\u001b[39m midsize    19\n",
      "\u001b[90m34\u001b[39m midsize    22\n",
      "\u001b[90m35\u001b[39m midsize    18\n",
      "\u001b[90m36\u001b[39m midsize    18\n",
      "\u001b[90m37\u001b[39m midsize    17\n",
      "\u001b[90m38\u001b[39m minivan    18\n",
      "\u001b[90m39\u001b[39m minivan    17\n",
      "\u001b[90m40\u001b[39m minivan    16\n",
      "\u001b[90m41\u001b[39m minivan    16\n",
      "\u001b[90m42\u001b[39m minivan    17\n",
      "\u001b[90m43\u001b[39m minivan    17\n",
      "\u001b[90m44\u001b[39m minivan    11\n",
      "\u001b[90m45\u001b[39m minivan    15\n",
      "\u001b[90m46\u001b[39m minivan    15\n",
      "\u001b[90m47\u001b[39m minivan    16\n",
      "\u001b[90m48\u001b[39m minivan    16\n",
      "\u001b[90m49\u001b[39m pickup     15\n",
      "\u001b[90m50\u001b[39m pickup     14\n",
      "\u001b[90m# … with 184 more rows\u001b[39m\n"
     ]
    }
   ],
   "source": [
    "# 차종class과 도시연비cty를 조회하세요\n",
    "\n",
    "mpg %>% select(class, cty) %>% print(n=50)"
   ]
  },
  {
   "cell_type": "code",
   "execution_count": 34,
   "id": "6f6afe6c-651d-4c49-a9c4-6dd116bc6a3c",
   "metadata": {},
   "outputs": [
    {
     "data": {
      "text/html": [
       "13.5"
      ],
      "text/latex": [
       "13.5"
      ],
      "text/markdown": [
       "13.5"
      ],
      "text/plain": [
       "[1] 13.5"
      ]
     },
     "metadata": {},
     "output_type": "display_data"
    },
    {
     "data": {
      "text/html": [
       "20.1"
      ],
      "text/latex": [
       "20.1"
      ],
      "text/markdown": [
       "20.1"
      ],
      "text/plain": [
       "[1] 20.1"
      ]
     },
     "metadata": {},
     "output_type": "display_data"
    }
   ],
   "source": [
    "# 차종이 suv, compact인 차량중 어느 차량이 도시연비가 높은가?\n",
    "\n",
    "suv <- mpg %>% select(class, cty) %>%\n",
    "               filter(class == 'suv')\n",
    "\n",
    "mean(suv$cty)   # 13.5\n",
    "\n",
    "cpt <- mpg %>% select(class, cty) %>%\n",
    "                   filter(class == 'compact')  \n",
    "\n",
    "round(mean(cpt$cty), 1)    # 20.1"
   ]
  },
  {
   "cell_type": "code",
   "execution_count": 35,
   "id": "822f5c64-7d3f-4faa-a4f9-713dcaf0b8f0",
   "metadata": {},
   "outputs": [
    {
     "data": {
      "text/html": [
       "19.6"
      ],
      "text/latex": [
       "19.6"
      ],
      "text/markdown": [
       "19.6"
      ],
      "text/plain": [
       "[1] 19.6"
      ]
     },
     "metadata": {},
     "output_type": "display_data"
    },
    {
     "data": {
      "text/html": [
       "17"
      ],
      "text/latex": [
       "17"
      ],
      "text/markdown": [
       "17"
      ],
      "text/plain": [
       "[1] 17"
      ]
     },
     "metadata": {},
     "output_type": "display_data"
    }
   ],
   "source": [
    "# 배기량displ에 따라(4,5) 어느 차량이 고속도로연비hwy가 높은가?\n",
    "\n",
    "disp4 <- mpg %>% select(displ, hwy) %>%\n",
    "                 filter(displ == 4)\n",
    "\n",
    "mean(disp4$hwy)    # 19.6\n",
    "\n",
    "disp5 <- mpg %>% select(displ, hwy) %>%\n",
    "                 filter(displ == 5)\n",
    "\n",
    "mean(disp5$hwy)    # 17"
   ]
  },
  {
   "cell_type": "code",
   "execution_count": 36,
   "id": "95f9ef4e-996c-4f26-a90b-a95b175796c1",
   "metadata": {},
   "outputs": [
    {
     "data": {
      "text/html": [
       "17.6"
      ],
      "text/latex": [
       "17.6"
      ],
      "text/markdown": [
       "17.6"
      ],
      "text/plain": [
       "[1] 17.6"
      ]
     },
     "metadata": {},
     "output_type": "display_data"
    },
    {
     "data": {
      "text/html": [
       "18.5"
      ],
      "text/latex": [
       "18.5"
      ],
      "text/markdown": [
       "18.5"
      ],
      "text/plain": [
       "[1] 18.5"
      ]
     },
     "metadata": {},
     "output_type": "display_data"
    }
   ],
   "source": [
    "# 제조사manufactor에 따라(audi, toyota) 어느 차량이 도시연비가 높은가?\n",
    "\n",
    "audi <- mpg %>% select(manufacturer, cty) %>%\n",
    "                filter(manufacturer == 'audi')\n",
    "\n",
    "round(mean(audi$cty), 1)     # 17.6\n",
    "\n",
    "toyota <- mpg %>% select(manufacturer, cty) %>%\n",
    "                  filter(manufacturer == 'toyota')\n",
    "\n",
    "round(mean(toyota$cty), 1)     # 18.5"
   ]
  },
  {
   "cell_type": "code",
   "execution_count": 37,
   "id": "797c075c-777d-4d24-b3b8-54e59f25d7e4",
   "metadata": {},
   "outputs": [
    {
     "data": {
      "text/html": [
       "22.9"
      ],
      "text/latex": [
       "22.9"
      ],
      "text/markdown": [
       "22.9"
      ],
      "text/plain": [
       "[1] 22.9"
      ]
     },
     "metadata": {},
     "output_type": "display_data"
    },
    {
     "data": {
      "text/html": [
       "22.9"
      ],
      "text/latex": [
       "22.9"
      ],
      "text/markdown": [
       "22.9"
      ],
      "text/plain": [
       "[1] 22.9"
      ]
     },
     "metadata": {},
     "output_type": "display_data"
    }
   ],
   "source": [
    "# chervolet, ford, honda 차량의 평균 고속도로연비를 조회하시오\n",
    "\n",
    "car3 <- mpg %>% select(manufacturer, hwy) %>%\n",
    "          filter(manufacturer == 'chervolet' |\n",
    "                 manufacturer == 'ford' |\n",
    "                 manufacturer == 'honda')\n",
    "\n",
    "round(mean(car3$hwy), 1)     # 22.9\n",
    "\n",
    "car3 <- mpg %>% select(manufacturer, hwy) %>%\n",
    "      filter(manufacturer  %in%\n",
    "      c('chervolet','ford', 'honda'))\n",
    "\n",
    "round(mean(car3$hwy), 1)     # 22.9"
   ]
  },
  {
   "cell_type": "code",
   "execution_count": null,
   "id": "bded9a05-cb36-40a2-a001-35601ce859c9",
   "metadata": {},
   "outputs": [],
   "source": []
  },
  {
   "cell_type": "markdown",
   "id": "3318ceb8-ba07-4689-b557-b81fb8265198",
   "metadata": {},
   "source": [
    "## mutate(행, 열 추가)"
   ]
  },
  {
   "cell_type": "code",
   "execution_count": 39,
   "id": "01c02b0f-b1d1-45be-8ae5-7ce64f785795",
   "metadata": {},
   "outputs": [
    {
     "data": {
      "text/html": [
       "<table class=\"dataframe\">\n",
       "<caption>A data.frame: 4 × 4</caption>\n",
       "<thead>\n",
       "\t<tr><th scope=col>name</th><th scope=col>eng</th><th scope=col>mat</th><th scope=col>sci</th></tr>\n",
       "\t<tr><th scope=col>&lt;fct&gt;</th><th scope=col>&lt;dbl&gt;</th><th scope=col>&lt;dbl&gt;</th><th scope=col>&lt;dbl&gt;</th></tr>\n",
       "</thead>\n",
       "<tbody>\n",
       "\t<tr><td>John</td><td>90</td><td>85</td><td>90</td></tr>\n",
       "\t<tr><td>Tom </td><td>95</td><td>96</td><td>80</td></tr>\n",
       "\t<tr><td>Mark</td><td>69</td><td>49</td><td>70</td></tr>\n",
       "\t<tr><td>Jane</td><td>78</td><td>95</td><td>60</td></tr>\n",
       "</tbody>\n",
       "</table>\n"
      ],
      "text/latex": [
       "A data.frame: 4 × 4\n",
       "\\begin{tabular}{llll}\n",
       " name & eng & mat & sci\\\\\n",
       " <fct> & <dbl> & <dbl> & <dbl>\\\\\n",
       "\\hline\n",
       "\t John & 90 & 85 & 90\\\\\n",
       "\t Tom  & 95 & 96 & 80\\\\\n",
       "\t Mark & 69 & 49 & 70\\\\\n",
       "\t Jane & 78 & 95 & 60\\\\\n",
       "\\end{tabular}\n"
      ],
      "text/markdown": [
       "\n",
       "A data.frame: 4 × 4\n",
       "\n",
       "| name &lt;fct&gt; | eng &lt;dbl&gt; | mat &lt;dbl&gt; | sci &lt;dbl&gt; |\n",
       "|---|---|---|---|\n",
       "| John | 90 | 85 | 90 |\n",
       "| Tom  | 95 | 96 | 80 |\n",
       "| Mark | 69 | 49 | 70 |\n",
       "| Jane | 78 | 95 | 60 |\n",
       "\n"
      ],
      "text/plain": [
       "  name eng mat sci\n",
       "1 John 90  85  90 \n",
       "2 Tom  95  96  80 \n",
       "3 Mark 69  49  70 \n",
       "4 Jane 78  95  60 "
      ]
     },
     "metadata": {},
     "output_type": "display_data"
    }
   ],
   "source": [
    "load('csv/sungjuk.rdata')\n",
    "sungjuk"
   ]
  },
  {
   "cell_type": "code",
   "execution_count": 40,
   "id": "5d5d519c-89fa-4d9e-a293-32964c520842",
   "metadata": {},
   "outputs": [
    {
     "data": {
      "text/html": [
       "<table class=\"dataframe\">\n",
       "<caption>A data.frame: 4 × 6</caption>\n",
       "<thead>\n",
       "\t<tr><th scope=col>name</th><th scope=col>eng</th><th scope=col>mat</th><th scope=col>sci</th><th scope=col>tot</th><th scope=col>avg</th></tr>\n",
       "\t<tr><th scope=col>&lt;fct&gt;</th><th scope=col>&lt;dbl&gt;</th><th scope=col>&lt;dbl&gt;</th><th scope=col>&lt;dbl&gt;</th><th scope=col>&lt;dbl&gt;</th><th scope=col>&lt;dbl&gt;</th></tr>\n",
       "</thead>\n",
       "<tbody>\n",
       "\t<tr><td>John</td><td>90</td><td>85</td><td>90</td><td>265</td><td>88.33333</td></tr>\n",
       "\t<tr><td>Tom </td><td>95</td><td>96</td><td>80</td><td>271</td><td>90.33333</td></tr>\n",
       "\t<tr><td>Mark</td><td>69</td><td>49</td><td>70</td><td>188</td><td>62.66667</td></tr>\n",
       "\t<tr><td>Jane</td><td>78</td><td>95</td><td>60</td><td>233</td><td>77.66667</td></tr>\n",
       "</tbody>\n",
       "</table>\n"
      ],
      "text/latex": [
       "A data.frame: 4 × 6\n",
       "\\begin{tabular}{llllll}\n",
       " name & eng & mat & sci & tot & avg\\\\\n",
       " <fct> & <dbl> & <dbl> & <dbl> & <dbl> & <dbl>\\\\\n",
       "\\hline\n",
       "\t John & 90 & 85 & 90 & 265 & 88.33333\\\\\n",
       "\t Tom  & 95 & 96 & 80 & 271 & 90.33333\\\\\n",
       "\t Mark & 69 & 49 & 70 & 188 & 62.66667\\\\\n",
       "\t Jane & 78 & 95 & 60 & 233 & 77.66667\\\\\n",
       "\\end{tabular}\n"
      ],
      "text/markdown": [
       "\n",
       "A data.frame: 4 × 6\n",
       "\n",
       "| name &lt;fct&gt; | eng &lt;dbl&gt; | mat &lt;dbl&gt; | sci &lt;dbl&gt; | tot &lt;dbl&gt; | avg &lt;dbl&gt; |\n",
       "|---|---|---|---|---|---|\n",
       "| John | 90 | 85 | 90 | 265 | 88.33333 |\n",
       "| Tom  | 95 | 96 | 80 | 271 | 90.33333 |\n",
       "| Mark | 69 | 49 | 70 | 188 | 62.66667 |\n",
       "| Jane | 78 | 95 | 60 | 233 | 77.66667 |\n",
       "\n"
      ],
      "text/plain": [
       "  name eng mat sci tot avg     \n",
       "1 John 90  85  90  265 88.33333\n",
       "2 Tom  95  96  80  271 90.33333\n",
       "3 Mark 69  49  70  188 62.66667\n",
       "4 Jane 78  95  60  233 77.66667"
      ]
     },
     "metadata": {},
     "output_type": "display_data"
    }
   ],
   "source": [
    "# 영어/수학/과학점수에 대한 총점/평균을 계산하고, tot/avg 컬럼에 저장하세요\n",
    "sungjuk <- sungjuk %>% mutate(tot = eng + mat + sci)\n",
    "sungjuk <- sungjuk %>% mutate(avg = tot / 3)\n",
    "sungjuk"
   ]
  },
  {
   "cell_type": "code",
   "execution_count": 41,
   "id": "5e1db2a1-ffa3-45d2-8071-d9b7f11a628c",
   "metadata": {},
   "outputs": [
    {
     "data": {
      "text/html": [
       "<table class=\"dataframe\">\n",
       "<caption>A data.frame: 4 × 6</caption>\n",
       "<thead>\n",
       "\t<tr><th scope=col>name</th><th scope=col>eng</th><th scope=col>mat</th><th scope=col>sci</th><th scope=col>tot</th><th scope=col>avg</th></tr>\n",
       "\t<tr><th scope=col>&lt;fct&gt;</th><th scope=col>&lt;dbl&gt;</th><th scope=col>&lt;dbl&gt;</th><th scope=col>&lt;dbl&gt;</th><th scope=col>&lt;dbl&gt;</th><th scope=col>&lt;dbl&gt;</th></tr>\n",
       "</thead>\n",
       "<tbody>\n",
       "\t<tr><td>John</td><td>90</td><td>85</td><td>90</td><td>265</td><td>88.3</td></tr>\n",
       "\t<tr><td>Tom </td><td>95</td><td>96</td><td>80</td><td>271</td><td>90.3</td></tr>\n",
       "\t<tr><td>Mark</td><td>69</td><td>49</td><td>70</td><td>188</td><td>62.7</td></tr>\n",
       "\t<tr><td>Jane</td><td>78</td><td>95</td><td>60</td><td>233</td><td>77.7</td></tr>\n",
       "</tbody>\n",
       "</table>\n"
      ],
      "text/latex": [
       "A data.frame: 4 × 6\n",
       "\\begin{tabular}{llllll}\n",
       " name & eng & mat & sci & tot & avg\\\\\n",
       " <fct> & <dbl> & <dbl> & <dbl> & <dbl> & <dbl>\\\\\n",
       "\\hline\n",
       "\t John & 90 & 85 & 90 & 265 & 88.3\\\\\n",
       "\t Tom  & 95 & 96 & 80 & 271 & 90.3\\\\\n",
       "\t Mark & 69 & 49 & 70 & 188 & 62.7\\\\\n",
       "\t Jane & 78 & 95 & 60 & 233 & 77.7\\\\\n",
       "\\end{tabular}\n"
      ],
      "text/markdown": [
       "\n",
       "A data.frame: 4 × 6\n",
       "\n",
       "| name &lt;fct&gt; | eng &lt;dbl&gt; | mat &lt;dbl&gt; | sci &lt;dbl&gt; | tot &lt;dbl&gt; | avg &lt;dbl&gt; |\n",
       "|---|---|---|---|---|---|\n",
       "| John | 90 | 85 | 90 | 265 | 88.3 |\n",
       "| Tom  | 95 | 96 | 80 | 271 | 90.3 |\n",
       "| Mark | 69 | 49 | 70 | 188 | 62.7 |\n",
       "| Jane | 78 | 95 | 60 | 233 | 77.7 |\n",
       "\n"
      ],
      "text/plain": [
       "  name eng mat sci tot avg \n",
       "1 John 90  85  90  265 88.3\n",
       "2 Tom  95  96  80  271 90.3\n",
       "3 Mark 69  49  70  188 62.7\n",
       "4 Jane 78  95  60  233 77.7"
      ]
     },
     "metadata": {},
     "output_type": "display_data"
    }
   ],
   "source": [
    "# 간략하게 작성하기\n",
    "sungjuk <- sungjuk %>% mutate(tot = eng + mat + sci,\n",
    "                              avg = round(tot / 3, 1))\n",
    "sungjuk"
   ]
  },
  {
   "cell_type": "code",
   "execution_count": 42,
   "id": "aa310660-d78b-4976-9a23-2cd6d8fc26d3",
   "metadata": {},
   "outputs": [
    {
     "data": {
      "text/html": [
       "<table class=\"dataframe\">\n",
       "<caption>A tibble: 6 × 4</caption>\n",
       "<thead>\n",
       "\t<tr><th scope=col>model</th><th scope=col>manufacturer</th><th scope=col>allmpg</th><th scope=col>avgmpg</th></tr>\n",
       "\t<tr><th scope=col>&lt;chr&gt;</th><th scope=col>&lt;chr&gt;</th><th scope=col>&lt;int&gt;</th><th scope=col>&lt;dbl&gt;</th></tr>\n",
       "</thead>\n",
       "<tbody>\n",
       "\t<tr><td>a4</td><td>audi</td><td>47</td><td>23.5</td></tr>\n",
       "\t<tr><td>a4</td><td>audi</td><td>50</td><td>25.0</td></tr>\n",
       "\t<tr><td>a4</td><td>audi</td><td>51</td><td>25.5</td></tr>\n",
       "\t<tr><td>a4</td><td>audi</td><td>51</td><td>25.5</td></tr>\n",
       "\t<tr><td>a4</td><td>audi</td><td>42</td><td>21.0</td></tr>\n",
       "\t<tr><td>a4</td><td>audi</td><td>44</td><td>22.0</td></tr>\n",
       "</tbody>\n",
       "</table>\n"
      ],
      "text/latex": [
       "A tibble: 6 × 4\n",
       "\\begin{tabular}{llll}\n",
       " model & manufacturer & allmpg & avgmpg\\\\\n",
       " <chr> & <chr> & <int> & <dbl>\\\\\n",
       "\\hline\n",
       "\t a4 & audi & 47 & 23.5\\\\\n",
       "\t a4 & audi & 50 & 25.0\\\\\n",
       "\t a4 & audi & 51 & 25.5\\\\\n",
       "\t a4 & audi & 51 & 25.5\\\\\n",
       "\t a4 & audi & 42 & 21.0\\\\\n",
       "\t a4 & audi & 44 & 22.0\\\\\n",
       "\\end{tabular}\n"
      ],
      "text/markdown": [
       "\n",
       "A tibble: 6 × 4\n",
       "\n",
       "| model &lt;chr&gt; | manufacturer &lt;chr&gt; | allmpg &lt;int&gt; | avgmpg &lt;dbl&gt; |\n",
       "|---|---|---|---|\n",
       "| a4 | audi | 47 | 23.5 |\n",
       "| a4 | audi | 50 | 25.0 |\n",
       "| a4 | audi | 51 | 25.5 |\n",
       "| a4 | audi | 51 | 25.5 |\n",
       "| a4 | audi | 42 | 21.0 |\n",
       "| a4 | audi | 44 | 22.0 |\n",
       "\n"
      ],
      "text/plain": [
       "  model manufacturer allmpg avgmpg\n",
       "1 a4    audi         47     23.5  \n",
       "2 a4    audi         50     25.0  \n",
       "3 a4    audi         51     25.5  \n",
       "4 a4    audi         51     25.5  \n",
       "5 a4    audi         42     21.0  \n",
       "6 a4    audi         44     22.0  "
      ]
     },
     "metadata": {},
     "output_type": "display_data"
    }
   ],
   "source": [
    "# 고속도로연비와 도시연비를 합산해서 allmpg라는 컬럼을 만들고,\n",
    "# allmpg를 2로 나눠 avgmpg라는 컬럼을 생성해서\n",
    "# 모델명, 제조사, allmpg, avgmpg 순으로 조회하세요\n",
    "\n",
    "mpg <- mpg %>% mutate(allmpg = hwy + cty, \n",
    "                      avgmpg = allmpg / 2)  %>% \n",
    "               select(model, manufacturer, allmpg, avgmpg) %>% \n",
    "               head()\n",
    "mpg"
   ]
  },
  {
   "cell_type": "code",
   "execution_count": null,
   "id": "0bb043d0-3e8e-4f7c-8dfa-32cca463c7bd",
   "metadata": {},
   "outputs": [],
   "source": []
  },
  {
   "cell_type": "code",
   "execution_count": null,
   "id": "6e6aadc2-3019-4350-b80b-0dc3c9e309bf",
   "metadata": {},
   "outputs": [],
   "source": []
  },
  {
   "cell_type": "code",
   "execution_count": null,
   "id": "6df742ac-854d-45f4-a7c3-970b15a4af5c",
   "metadata": {},
   "outputs": [],
   "source": []
  },
  {
   "cell_type": "code",
   "execution_count": null,
   "id": "eb3ac418-ede8-4981-ba5a-b066adddcceb",
   "metadata": {},
   "outputs": [],
   "source": []
  },
  {
   "cell_type": "code",
   "execution_count": null,
   "id": "e6df5a4c-c00f-4961-8ff0-88d235bf33bc",
   "metadata": {},
   "outputs": [],
   "source": []
  },
  {
   "cell_type": "code",
   "execution_count": null,
   "id": "39fb2e13-109f-4f29-a582-103c2295994b",
   "metadata": {},
   "outputs": [],
   "source": []
  },
  {
   "cell_type": "code",
   "execution_count": null,
   "id": "eb4b2500-c239-4668-bdf1-1c53d3b13e89",
   "metadata": {},
   "outputs": [],
   "source": []
  }
 ],
 "metadata": {
  "kernelspec": {
   "display_name": "R",
   "language": "R",
   "name": "ir"
  },
  "language_info": {
   "codemirror_mode": "r",
   "file_extension": ".r",
   "mimetype": "text/x-r-source",
   "name": "R",
   "pygments_lexer": "r",
   "version": "3.6.3"
  }
 },
 "nbformat": 4,
 "nbformat_minor": 5
}
