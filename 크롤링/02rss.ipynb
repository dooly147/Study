{
 "cells": [
  {
   "cell_type": "markdown",
   "id": "89dfede8-f46f-48d8-a022-596263395923",
   "metadata": {},
   "source": [
    "## 기상청 날씨 데이터 수집하기\n",
    "* 기상청 날씨누리 -> 페이지 맨 하단 -> RSS"
   ]
  },
  {
   "cell_type": "markdown",
   "id": "5843a09e-02c4-4bc9-a1e5-1d5e1080424a",
   "metadata": {},
   "source": [
    "## RSS : rich site summary\n",
    "* 사이트를 구독subcribe한 사용자에게 업데이트된\n",
    "* 컨텐츠를 간편하게 배포하고자 만든 데이터 형식 "
   ]
  },
  {
   "cell_type": "markdown",
   "id": "812d6291-16b0-4748-be37-231615cfa01c",
   "metadata": {},
   "source": [
    "## RSS 구독 프로그램을 이용하면\n",
    "* 사이트를 방문하지 않고도 해당 사이트의\n",
    "* 콘텐츠를 이용할 수 있다는 장점 존재"
   ]
  },
  {
   "cell_type": "code",
   "execution_count": null,
   "id": "b96b3308-85b7-490c-ad78-7b787ba50fb8",
   "metadata": {},
   "outputs": [],
   "source": [
    "import requests\n",
    "from xml.etree import ElementTree"
   ]
  },
  {
   "cell_type": "code",
   "execution_count": null,
   "id": "94c4ca55-c0dc-4316-ab9a-1b2ea6464f02",
   "metadata": {},
   "outputs": [],
   "source": [
    "# RSS 서비스에서 자신이 거주하는 지역의 동네예보 RSS 링크생성\n",
    "url = 'http://www.kma.go.kr/wid/queryDFSRSS.jsp?zone=1121584000'\n",
    "headers = {'User-Agent' : 'Mozilla/5.0 (Windows NT 10.0; Win64; x64) AppleWebKit/537.36 (KHTML, like Gecko) Chrome/94.0.4606.81 Safari/537.36' }"
   ]
  },
  {
   "cell_type": "code",
   "execution_count": null,
   "id": "fc3bed91-5a62-4dec-8f20-922d34946fcd",
   "metadata": {},
   "outputs": [],
   "source": [
    "res = requests.get(url, headers=headers)\n",
    "rss = res.text\n",
    "rss[:350]"
   ]
  },
  {
   "cell_type": "code",
   "execution_count": null,
   "id": "807a7f51-54c3-42ed-a3f5-f44ac6130278",
   "metadata": {},
   "outputs": [],
   "source": [
    "# 서버로 부터 읽어온 rss 데이터를 파일에 저장\n",
    "with open('weather.xml','w') as f:\n",
    "    f.write(rss)"
   ]
  },
  {
   "cell_type": "code",
   "execution_count": null,
   "id": "eb0470db-4732-4503-91b9-38d7666222e7",
   "metadata": {},
   "outputs": [],
   "source": [
    "# 파일의 내용을 읽어서 메모리에 계층구조를 생성\n",
    "tree = ElementTree.parse('weather.xml')"
   ]
  },
  {
   "cell_type": "code",
   "execution_count": null,
   "id": "fb1483be-d389-4ae4-bb91-9e25766e5ee2",
   "metadata": {},
   "outputs": [],
   "source": [
    "# getroot 메소드로 xml 상위요소 추출\n",
    "root = tree.getroot()"
   ]
  },
  {
   "cell_type": "code",
   "execution_count": null,
   "id": "977c8323-5a70-4404-bd23-bd9a18fa560d",
   "metadata": {},
   "outputs": [],
   "source": [
    "# findall 메소드로 추출할 데이터가 있는 \n",
    "# 요소 ekement 를 지정함\n",
    "for w in root.findall('channel/item/description/body/data'):\n",
    "    day = w.find('day').text\n",
    "    hour = w.find('hour').text\n",
    "    temp = w.find('temp').text\n",
    "    wter = w.find('wfKor').text\n",
    "    print(f'{day} {hour} {temp} {wter}\\n')"
   ]
  },
  {
   "cell_type": "markdown",
   "id": "8306ce64-f85b-4fe1-97e9-6b21564c5684",
   "metadata": {},
   "source": [
    "## hani.co.kr\n",
    "* 三 아이콘 -> 뉴스서비스 -> rss서비스"
   ]
  },
  {
   "cell_type": "code",
   "execution_count": null,
   "id": "14a07f06-2ea4-4e58-abf6-cc49bb8ecec3",
   "metadata": {},
   "outputs": [],
   "source": [
    "# https://www.hani.co.kr/rss/\n",
    "# => 제목 title 과 뉴스요약 description 을 추출하세요 \n",
    "# 미완성"
   ]
  },
  {
   "cell_type": "code",
   "execution_count": null,
   "id": "b8aba89b-1e27-4a53-bda7-92bf63e40d3b",
   "metadata": {},
   "outputs": [],
   "source": [
    "# RSS 서비스에서 자신이 거주하는 지역의 동네예보 RSS 링크생성\n",
    "url = 'https://www.hani.co.kr/rss/'\n",
    "headers = {'User-Agent' : 'Mozilla/5.0 (Windows NT 10.0; Win64; x64) AppleWebKit/537.36 (KHTML, like Gecko) Chrome/94.0.4606.81 Safari/537.36' }"
   ]
  },
  {
   "cell_type": "code",
   "execution_count": null,
   "id": "9fb17e3a-b199-456c-a2aa-3181f7b5b4a3",
   "metadata": {},
   "outputs": [],
   "source": [
    "res = requests.get(url, headers=headers)\n",
    "rss = res.text\n",
    "rss[:350]"
   ]
  },
  {
   "cell_type": "code",
   "execution_count": null,
   "id": "0b9c715c-cb7d-4cb3-aecb-abbe780053fe",
   "metadata": {},
   "outputs": [],
   "source": [
    "with open('hani.xml','w') as f:\n",
    "    f.write(rss)"
   ]
  },
  {
   "cell_type": "code",
   "execution_count": null,
   "id": "108d1148-11f8-4683-9cca-5a086d451832",
   "metadata": {},
   "outputs": [],
   "source": [
    "tree = ElementTree.parse('hani.xml')"
   ]
  },
  {
   "cell_type": "code",
   "execution_count": null,
   "id": "a0cf92f8-b3ae-48f0-8dc4-84da187cde6b",
   "metadata": {},
   "outputs": [],
   "source": [
    "root = tree.getroot()"
   ]
  },
  {
   "cell_type": "code",
   "execution_count": null,
   "id": "582acad9-d452-47dc-ab1f-48dad2b4a518",
   "metadata": {},
   "outputs": [],
   "source": [
    "for w in root.findall('channel/description/item'):\n",
    "    title = w.find('title').text\n",
    "    description = w.find('description').text\n",
    "    print(f'{title} {description}\\n')"
   ]
  }
 ],
 "metadata": {
  "kernelspec": {
   "display_name": "Python 3 (ipykernel)",
   "language": "python",
   "name": "python3"
  },
  "language_info": {
   "codemirror_mode": {
    "name": "ipython",
    "version": 3
   },
   "file_extension": ".py",
   "mimetype": "text/x-python",
   "name": "python",
   "nbconvert_exporter": "python",
   "pygments_lexer": "ipython3",
   "version": "3.7.10"
  }
 },
 "nbformat": 4,
 "nbformat_minor": 5
}
