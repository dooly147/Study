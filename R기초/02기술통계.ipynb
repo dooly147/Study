{
 "cells": [
  {
   "cell_type": "markdown",
   "id": "a0e81b64-fbea-4c37-8cff-a746290c2adc",
   "metadata": {},
   "source": [
    "# 02 기술통계"
   ]
  },
  {
   "cell_type": "markdown",
   "id": "1a2a4690-f959-4d9a-8321-f364ed93254d",
   "metadata": {},
   "source": [
    "## 변동성 이해하기\n",
    "+ 값들이 얼마나 서로 다른지 여부 파악"
   ]
  },
  {
   "cell_type": "code",
   "execution_count": 1,
   "id": "23ff76e3-625c-4bde-972e-fd3e5fa607ba",
   "metadata": {},
   "outputs": [
    {
     "data": {
      "text/html": [
       "'4 4 4'"
      ],
      "text/latex": [
       "'4 4 4'"
      ],
      "text/markdown": [
       "'4 4 4'"
      ],
      "text/plain": [
       "[1] \"4 4 4\""
      ]
     },
     "metadata": {},
     "output_type": "display_data"
    }
   ],
   "source": [
    "num1 <- c(7,6,3,3,1)\n",
    "num2 <- c(3,4,4,5,4)\n",
    "num3 <- c(4,4,4,4,4)\n",
    "\n",
    "\n",
    "# 형식화된 문자열 형태로 출력 : sprintf\n",
    "# sprintf(형식문자열, 변수들)\n",
    "sprintf('%d %d %d', mean(num1), mean(num2), mean(num3))"
   ]
  },
  {
   "cell_type": "markdown",
   "id": "c114816b-9025-4db1-b810-fd56016ae292",
   "metadata": {},
   "source": [
    "## 기술통계의 또 다른 관점 : 분산, 산포\n",
    "+ 자료의 흩어지거나 밀집되는 정도를 나타내는 척도\n",
    "+ 범위, 사분위수, 분산, 사분위수 등으로 표현"
   ]
  },
  {
   "cell_type": "markdown",
   "id": "bc2e9a1d-4594-4cf2-acf0-5ee96c875220",
   "metadata": {},
   "source": [
    "### 범위\n",
    "+ 수집한 자료의 가장 큰 값과 작은 값의 차이\n",
    "+ 수집한 자료가 어느정도 흩어져 있는지 살펴볼 수 있는 통계치\n",
    "+ 계산하기 쉽다\n",
    "+ 특이값에 영향을 많이 받는다\n",
    "+ 범위가 동일해도 분산정도는 크게 다를 수 있다\n",
    "+ 범위가 동일해도 분산정도는 크게 다를 수 있다\n",
    "> $ r = h - l $<br>\n",
    "> $ R = x_{(n)} - x_{(1)} $"
   ]
  },
  {
   "cell_type": "code",
   "execution_count": 2,
   "id": "9ef4bfc5-5253-4191-8c25-fe0f69be8573",
   "metadata": {},
   "outputs": [
    {
     "data": {
      "text/html": [
       "<style>\n",
       ".list-inline {list-style: none; margin:0; padding: 0}\n",
       ".list-inline>li {display: inline-block}\n",
       ".list-inline>li:not(:last-child)::after {content: \"\\00b7\"; padding: 0 .5ex}\n",
       "</style>\n",
       "<ol class=list-inline><li>16</li><li>82</li></ol>\n"
      ],
      "text/latex": [
       "\\begin{enumerate*}\n",
       "\\item 16\n",
       "\\item 82\n",
       "\\end{enumerate*}\n"
      ],
      "text/markdown": [
       "1. 16\n",
       "2. 82\n",
       "\n",
       "\n"
      ],
      "text/plain": [
       "[1] 16 82"
      ]
     },
     "metadata": {},
     "output_type": "display_data"
    },
    {
     "data": {
      "text/html": [
       "66"
      ],
      "text/latex": [
       "66"
      ],
      "text/markdown": [
       "66"
      ],
      "text/plain": [
       "[1] 66"
      ]
     },
     "metadata": {},
     "output_type": "display_data"
    }
   ],
   "source": [
    "# 조선조 왕들 수명의 범위를 조사\n",
    "kings <- c(73,62,45,53,38,16,51,28,37,30,56,30,33,56,66,54,40,33,59,36,82,48,44,22,32,67,52)\n",
    "\n",
    "range(kings)\n",
    "range(kings)[2] - range(kings)[1]"
   ]
  },
  {
   "cell_type": "code",
   "execution_count": 3,
   "id": "a66b2df2-7c7e-4203-84b2-94bf6456f65b",
   "metadata": {},
   "outputs": [
    {
     "data": {
      "text/html": [
       "66"
      ],
      "text/latex": [
       "66"
      ],
      "text/markdown": [
       "66"
      ],
      "text/plain": [
       "[1] 66"
      ]
     },
     "metadata": {},
     "output_type": "display_data"
    }
   ],
   "source": [
    "# 수식으로 작성\n",
    "max = max(kings)\n",
    "min = min(kings)\n",
    "max - min"
   ]
  },
  {
   "cell_type": "code",
   "execution_count": 4,
   "id": "ab0d890b-ce2e-4c96-9487-af4d826bdd04",
   "metadata": {},
   "outputs": [
    {
     "data": {
      "text/html": [
       "<style>\n",
       ".list-inline {list-style: none; margin:0; padding: 0}\n",
       ".list-inline>li {display: inline-block}\n",
       ".list-inline>li:not(:last-child)::after {content: \"\\00b7\"; padding: 0 .5ex}\n",
       "</style>\n",
       "<ol class=list-inline><li>9</li><li>24</li></ol>\n"
      ],
      "text/latex": [
       "\\begin{enumerate*}\n",
       "\\item 9\n",
       "\\item 24\n",
       "\\end{enumerate*}\n"
      ],
      "text/markdown": [
       "1. 9\n",
       "2. 24\n",
       "\n",
       "\n"
      ],
      "text/plain": [
       "[1]  9 24"
      ]
     },
     "metadata": {},
     "output_type": "display_data"
    },
    {
     "data": {
      "text/html": [
       "15"
      ],
      "text/latex": [
       "15"
      ],
      "text/markdown": [
       "15"
      ],
      "text/plain": [
       "[1] 15"
      ]
     },
     "metadata": {},
     "output_type": "display_data"
    }
   ],
   "source": [
    "# 대학원생들 나이 범위 조사\n",
    "colls <- c(9,18,19,21,20,24,21,19,19,20,18,21,22,23,21,19,18,22,24,21,18,19)\n",
    "\n",
    "range(colls)\n",
    "range(colls)[2] - range(colls)[1]"
   ]
  },
  {
   "cell_type": "code",
   "execution_count": 5,
   "id": "b3295b0c-56d6-4438-99a0-801274353800",
   "metadata": {},
   "outputs": [
    {
     "data": {
      "text/html": [
       "15"
      ],
      "text/latex": [
       "15"
      ],
      "text/markdown": [
       "15"
      ],
      "text/plain": [
       "[1] 15"
      ]
     },
     "metadata": {},
     "output_type": "display_data"
    }
   ],
   "source": [
    "# 수식으로 작성\n",
    "max(colls) - min(colls)"
   ]
  },
  {
   "cell_type": "markdown",
   "id": "0831cce7-4402-4868-9052-4f52ff38ecb9",
   "metadata": {},
   "source": [
    "## 분산\n",
    "+ 평균을 중심으로 밀집되거나 퍼짐 정도를 나타내는 척도\n",
    "+ 모분산 $ \\sigma^2 $ : 모집단을 구성하는 모든 자료값과 모평균의 편차제곱에 대한 평균\n",
    "+ 표본분산 $ s^2 $ : 표본을 구성하는 모든 자료값과 표본평균의 편차의 제곱합을 $ n-1 $로 나눈 수치\n",
    "+ 편차\n",
    "> $ (x_{i} - \\bar {x}) $\n",
    "+ 편차체곱\n",
    "> $ (x_{i} - \\bar {x})^2 $\n",
    "+ 모분산\n",
    "> ### $ \\sum{(x_{i} - \\bar {x})^2} \\over {n} $\n",
    "+ 표본분산\n",
    "> ### $ \\sum{(x_{i} - \\bar {x})^2} \\over {n - 1} $"
   ]
  },
  {
   "cell_type": "code",
   "execution_count": 6,
   "id": "2a56dcbe-3f3c-49c7-b4ee-c6f80a7e146a",
   "metadata": {},
   "outputs": [
    {
     "data": {
      "text/html": [
       "6"
      ],
      "text/latex": [
       "6"
      ],
      "text/markdown": [
       "6"
      ],
      "text/plain": [
       "[1] 6"
      ]
     },
     "metadata": {},
     "output_type": "display_data"
    }
   ],
   "source": [
    "nums <- c(5,8,5,4,6,7,8,8,3,6)\n",
    "\n",
    "m <- mean(nums)\n",
    "m                   # 평균"
   ]
  },
  {
   "cell_type": "code",
   "execution_count": 7,
   "id": "5362dbbc-7127-454f-b82c-2bbcd56a9e70",
   "metadata": {},
   "outputs": [
    {
     "data": {
      "text/html": [
       "<style>\n",
       ".list-inline {list-style: none; margin:0; padding: 0}\n",
       ".list-inline>li {display: inline-block}\n",
       ".list-inline>li:not(:last-child)::after {content: \"\\00b7\"; padding: 0 .5ex}\n",
       "</style>\n",
       "<ol class=list-inline><li>-1</li><li>2</li><li>-1</li><li>-2</li><li>0</li><li>1</li><li>2</li><li>2</li><li>-3</li><li>0</li></ol>\n"
      ],
      "text/latex": [
       "\\begin{enumerate*}\n",
       "\\item -1\n",
       "\\item 2\n",
       "\\item -1\n",
       "\\item -2\n",
       "\\item 0\n",
       "\\item 1\n",
       "\\item 2\n",
       "\\item 2\n",
       "\\item -3\n",
       "\\item 0\n",
       "\\end{enumerate*}\n"
      ],
      "text/markdown": [
       "1. -1\n",
       "2. 2\n",
       "3. -1\n",
       "4. -2\n",
       "5. 0\n",
       "6. 1\n",
       "7. 2\n",
       "8. 2\n",
       "9. -3\n",
       "10. 0\n",
       "\n",
       "\n"
      ],
      "text/plain": [
       " [1] -1  2 -1 -2  0  1  2  2 -3  0"
      ]
     },
     "metadata": {},
     "output_type": "display_data"
    },
    {
     "data": {
      "text/html": [
       "0"
      ],
      "text/latex": [
       "0"
      ],
      "text/markdown": [
       "0"
      ],
      "text/plain": [
       "[1] 0"
      ]
     },
     "metadata": {},
     "output_type": "display_data"
    }
   ],
   "source": [
    "devi <- (nums - m)\n",
    "devi                # 편차\n",
    "\n",
    "sum(devi)           # 편차의 합"
   ]
  },
  {
   "cell_type": "code",
   "execution_count": 8,
   "id": "47c8b1b6-2d6c-451b-9cb6-fd79158954b3",
   "metadata": {},
   "outputs": [
    {
     "data": {
      "text/html": [
       "<style>\n",
       ".list-inline {list-style: none; margin:0; padding: 0}\n",
       ".list-inline>li {display: inline-block}\n",
       ".list-inline>li:not(:last-child)::after {content: \"\\00b7\"; padding: 0 .5ex}\n",
       "</style>\n",
       "<ol class=list-inline><li>1</li><li>4</li><li>1</li><li>4</li><li>0</li><li>1</li><li>4</li><li>4</li><li>9</li><li>0</li></ol>\n"
      ],
      "text/latex": [
       "\\begin{enumerate*}\n",
       "\\item 1\n",
       "\\item 4\n",
       "\\item 1\n",
       "\\item 4\n",
       "\\item 0\n",
       "\\item 1\n",
       "\\item 4\n",
       "\\item 4\n",
       "\\item 9\n",
       "\\item 0\n",
       "\\end{enumerate*}\n"
      ],
      "text/markdown": [
       "1. 1\n",
       "2. 4\n",
       "3. 1\n",
       "4. 4\n",
       "5. 0\n",
       "6. 1\n",
       "7. 4\n",
       "8. 4\n",
       "9. 9\n",
       "10. 0\n",
       "\n",
       "\n"
      ],
      "text/plain": [
       " [1] 1 4 1 4 0 1 4 4 9 0"
      ]
     },
     "metadata": {},
     "output_type": "display_data"
    },
    {
     "data": {
      "text/html": [
       "28"
      ],
      "text/latex": [
       "28"
      ],
      "text/markdown": [
       "28"
      ],
      "text/plain": [
       "[1] 28"
      ]
     },
     "metadata": {},
     "output_type": "display_data"
    }
   ],
   "source": [
    "devi <- (nums - m)**2\n",
    "devi                # 편차제곱\n",
    "\n",
    "sum(devi)           # 편차제곱의 합 : 임의의 수"
   ]
  },
  {
   "cell_type": "code",
   "execution_count": 9,
   "id": "8b06c6cd-0010-4ee1-a615-2c88ab097e91",
   "metadata": {},
   "outputs": [
    {
     "data": {
      "text/html": [
       "2.8"
      ],
      "text/latex": [
       "2.8"
      ],
      "text/markdown": [
       "2.8"
      ],
      "text/plain": [
       "[1] 2.8"
      ]
     },
     "metadata": {},
     "output_type": "display_data"
    },
    {
     "data": {
      "text/html": [
       "3.11111111111111"
      ],
      "text/latex": [
       "3.11111111111111"
      ],
      "text/markdown": [
       "3.11111111111111"
      ],
      "text/plain": [
       "[1] 3.111111"
      ]
     },
     "metadata": {},
     "output_type": "display_data"
    }
   ],
   "source": [
    "sum(devi) / length(nums)   # 모분산\n",
    "\n",
    "sum(devi) / (length(nums) - 1)   # 표본분산"
   ]
  },
  {
   "cell_type": "code",
   "execution_count": 10,
   "id": "a83c9f0c-a6d1-4f89-adfc-b64f743bbca9",
   "metadata": {},
   "outputs": [
    {
     "data": {
      "text/html": [
       "3.11111111111111"
      ],
      "text/latex": [
       "3.11111111111111"
      ],
      "text/markdown": [
       "3.11111111111111"
      ],
      "text/plain": [
       "[1] 3.111111"
      ]
     },
     "metadata": {},
     "output_type": "display_data"
    }
   ],
   "source": [
    "# 분산 : var\n",
    "# R에서는 기본적으로 표본분산으로 계산해서 결과 출력\n",
    "var(nums)"
   ]
  },
  {
   "cell_type": "code",
   "execution_count": 11,
   "id": "579d9dd4-4ab0-41ba-abd7-b99b2e2ee14c",
   "metadata": {},
   "outputs": [],
   "source": [
    "# A부서와 B부서 사원들의 비상금 편차 파악\n",
    "a <- c(30,24,40,28,26)\n",
    "b <- c(35,20,60,15,20)"
   ]
  },
  {
   "cell_type": "code",
   "execution_count": 12,
   "id": "cc4ee242-f4dc-4f52-b605-4d8011ccacfd",
   "metadata": {},
   "outputs": [
    {
     "data": {
      "text/html": [
       "30.04"
      ],
      "text/latex": [
       "30.04"
      ],
      "text/markdown": [
       "30.04"
      ],
      "text/plain": [
       "[1] 30.04"
      ]
     },
     "metadata": {},
     "output_type": "display_data"
    }
   ],
   "source": [
    "mean1 <- mean(a)\n",
    "devi1 <- (a - mean1)**2\n",
    "sum(devi1) / (length(a)) -1   # a분산"
   ]
  },
  {
   "cell_type": "code",
   "execution_count": 13,
   "id": "ab99dda3-3b4f-4bfd-86c8-c79935321206",
   "metadata": {},
   "outputs": [
    {
     "data": {
      "text/html": [
       "269"
      ],
      "text/latex": [
       "269"
      ],
      "text/markdown": [
       "269"
      ],
      "text/plain": [
       "[1] 269"
      ]
     },
     "metadata": {},
     "output_type": "display_data"
    }
   ],
   "source": [
    "mean2 <- mean(b)\n",
    "devi2 <- (b - mean2)**2\n",
    "sum(devi2) / (length(b)) -1   # b분산"
   ]
  },
  {
   "cell_type": "code",
   "execution_count": 14,
   "id": "268faef5-a49f-4da6-908d-6fe9b2549ffe",
   "metadata": {},
   "outputs": [
    {
     "data": {
      "text/html": [
       "'38.8 337.5'"
      ],
      "text/latex": [
       "'38.8 337.5'"
      ],
      "text/markdown": [
       "'38.8 337.5'"
      ],
      "text/plain": [
       "[1] \"38.8 337.5\""
      ]
     },
     "metadata": {},
     "output_type": "display_data"
    }
   ],
   "source": [
    "sprintf('%.1f %.1f', var(a), var(b))"
   ]
  },
  {
   "cell_type": "code",
   "execution_count": 15,
   "id": "f5dc9b20-0a5f-4ce1-832c-ae001ed775e8",
   "metadata": {},
   "outputs": [
    {
     "data": {
      "text/html": [
       "261.575498575499"
      ],
      "text/latex": [
       "261.575498575499"
      ],
      "text/markdown": [
       "261.575498575499"
      ],
      "text/plain": [
       "[1] 261.5755"
      ]
     },
     "metadata": {},
     "output_type": "display_data"
    }
   ],
   "source": [
    "# 조선조 왕들 수명의 분산을 조사\n",
    "var(kings)"
   ]
  },
  {
   "cell_type": "code",
   "execution_count": 16,
   "id": "acf48ce6-6ca1-457d-bfc1-e75902eb133c",
   "metadata": {},
   "outputs": [
    {
     "data": {
      "text/html": [
       "9.2987012987013"
      ],
      "text/latex": [
       "9.2987012987013"
      ],
      "text/markdown": [
       "9.2987012987013"
      ],
      "text/plain": [
       "[1] 9.298701"
      ]
     },
     "metadata": {},
     "output_type": "display_data"
    }
   ],
   "source": [
    "# 대학원생들 나이의 분산을 조사\n",
    "var(colls)"
   ]
  },
  {
   "cell_type": "markdown",
   "id": "6171565e-da11-4942-ac77-4a4327a6a5b6",
   "metadata": {},
   "source": [
    "## 표준편차\n",
    "+ 분산값에 제곱근을 취한 값\n",
    "+ 분산은 편차를 제곱했기 때문에 결과값의 단위 역시 제곱이 됨\n",
    "+ 분산의 단위를 원래 자료의 단위로 전환하기 위해 만든 값\n",
    "+ 모표준편차 $ \\sigma $\n",
    "> ### $ \\sqrt {\\sum{(x_{i} - \\bar {x})^2} \\over {n}} $\n",
    "+ 표본표준편차 $ s $\n",
    "> ### $ \\sqrt {\\sum{(x_{i} - \\bar {x})^2} \\over {n-1}} $"
   ]
  },
  {
   "cell_type": "code",
   "execution_count": 17,
   "id": "fa16defd-3b03-4048-85a9-5ff65d766cfc",
   "metadata": {},
   "outputs": [
    {
     "data": {
      "text/html": [
       "16.1732958476465"
      ],
      "text/latex": [
       "16.1732958476465"
      ],
      "text/markdown": [
       "16.1732958476465"
      ],
      "text/plain": [
       "[1] 16.1733"
      ]
     },
     "metadata": {},
     "output_type": "display_data"
    }
   ],
   "source": [
    "# 조선조 왕들 수명의 표준편차 조사\n",
    "sqrt(var(kings))"
   ]
  },
  {
   "cell_type": "code",
   "execution_count": 18,
   "id": "b75ad9fa-ef8f-4a9f-a3e1-d97a22222b23",
   "metadata": {},
   "outputs": [
    {
     "data": {
      "text/html": [
       "16.1732958476465"
      ],
      "text/latex": [
       "16.1732958476465"
      ],
      "text/markdown": [
       "16.1732958476465"
      ],
      "text/plain": [
       "[1] 16.1733"
      ]
     },
     "metadata": {},
     "output_type": "display_data"
    }
   ],
   "source": [
    "# 표준편차 : sd\n",
    "# R에서는 기본적으로 표본표준편차로 계산해서 결과 출력\n",
    "sd(kings)"
   ]
  },
  {
   "cell_type": "code",
   "execution_count": 19,
   "id": "a379c0f3-d1e0-4a25-ad83-25cea4fd42a7",
   "metadata": {},
   "outputs": [
    {
     "data": {
      "text/html": [
       "3.04937719849501"
      ],
      "text/latex": [
       "3.04937719849501"
      ],
      "text/markdown": [
       "3.04937719849501"
      ],
      "text/plain": [
       "[1] 3.049377"
      ]
     },
     "metadata": {},
     "output_type": "display_data"
    }
   ],
   "source": [
    "# 대학원생들 나이의 표준편차 조사\n",
    "sd(colls)"
   ]
  },
  {
   "cell_type": "code",
   "execution_count": 20,
   "id": "4a781ced-502e-4f0e-bca7-7b39bf98f6dd",
   "metadata": {},
   "outputs": [
    {
     "data": {
      "text/html": [
       "'6.2 18.4'"
      ],
      "text/latex": [
       "'6.2 18.4'"
      ],
      "text/markdown": [
       "'6.2 18.4'"
      ],
      "text/plain": [
       "[1] \"6.2 18.4\""
      ]
     },
     "metadata": {},
     "output_type": "display_data"
    }
   ],
   "source": [
    "# A부서와 B부서 사원들의 비상금 편차 파악\n",
    "sprintf('%.1f %.1f', sd(a), sd(b))"
   ]
  },
  {
   "cell_type": "code",
   "execution_count": 21,
   "id": "e7dd46ec-d6b9-473b-8437-dd04fef359f2",
   "metadata": {},
   "outputs": [],
   "source": [
    "# 어떤 카푸치노 판매점들의 5일 동안 오후 4~5시 사이의\n",
    "# 판매량 데이터를 보고 어느 지점이 판매를 잘하였는지 파악하시오\n",
    "A <- c(20,40,50,60,80)\n",
    "B <- c(20,45,50,55,80)"
   ]
  },
  {
   "cell_type": "code",
   "execution_count": 22,
   "id": "efaf0a34-ab51-4f06-b292-c2414a0d609c",
   "metadata": {},
   "outputs": [
    {
     "data": {
      "text/html": [
       "'50.0 50.0'"
      ],
      "text/latex": [
       "'50.0 50.0'"
      ],
      "text/markdown": [
       "'50.0 50.0'"
      ],
      "text/plain": [
       "[1] \"50.0 50.0\""
      ]
     },
     "metadata": {},
     "output_type": "display_data"
    }
   ],
   "source": [
    "# 중심화 경향\n",
    "sprintf('%.1f %.1f', mean(A), mean(B))"
   ]
  },
  {
   "cell_type": "code",
   "execution_count": 23,
   "id": "68babed4-9698-4016-a66b-de981f00140b",
   "metadata": {},
   "outputs": [
    {
     "data": {
      "text/html": [
       "<style>\n",
       ".list-inline {list-style: none; margin:0; padding: 0}\n",
       ".list-inline>li {display: inline-block}\n",
       ".list-inline>li:not(:last-child)::after {content: \"\\00b7\"; padding: 0 .5ex}\n",
       "</style>\n",
       "<ol class=list-inline><li>20</li><li>80</li></ol>\n"
      ],
      "text/latex": [
       "\\begin{enumerate*}\n",
       "\\item 20\n",
       "\\item 80\n",
       "\\end{enumerate*}\n"
      ],
      "text/markdown": [
       "1. 20\n",
       "2. 80\n",
       "\n",
       "\n"
      ],
      "text/plain": [
       "[1] 20 80"
      ]
     },
     "metadata": {},
     "output_type": "display_data"
    },
    {
     "data": {
      "text/html": [
       "<style>\n",
       ".list-inline {list-style: none; margin:0; padding: 0}\n",
       ".list-inline>li {display: inline-block}\n",
       ".list-inline>li:not(:last-child)::after {content: \"\\00b7\"; padding: 0 .5ex}\n",
       "</style>\n",
       "<ol class=list-inline><li>20</li><li>80</li></ol>\n"
      ],
      "text/latex": [
       "\\begin{enumerate*}\n",
       "\\item 20\n",
       "\\item 80\n",
       "\\end{enumerate*}\n"
      ],
      "text/markdown": [
       "1. 20\n",
       "2. 80\n",
       "\n",
       "\n"
      ],
      "text/plain": [
       "[1] 20 80"
      ]
     },
     "metadata": {},
     "output_type": "display_data"
    }
   ],
   "source": [
    "# 분산화 경향\n",
    "range(A)\n",
    "range(B)"
   ]
  },
  {
   "cell_type": "code",
   "execution_count": 24,
   "id": "d5188027-36c9-4aff-a81a-1907aa26d527",
   "metadata": {},
   "outputs": [
    {
     "data": {
      "text/html": [
       "'500.0 462.5'"
      ],
      "text/latex": [
       "'500.0 462.5'"
      ],
      "text/markdown": [
       "'500.0 462.5'"
      ],
      "text/plain": [
       "[1] \"500.0 462.5\""
      ]
     },
     "metadata": {},
     "output_type": "display_data"
    }
   ],
   "source": [
    "sprintf('%.1f %.1f', var(A), var(B))"
   ]
  },
  {
   "cell_type": "code",
   "execution_count": 25,
   "id": "15d6d489-6936-4383-8c05-4e95130f636e",
   "metadata": {},
   "outputs": [
    {
     "data": {
      "text/html": [
       "'22.4 21.5'"
      ],
      "text/latex": [
       "'22.4 21.5'"
      ],
      "text/markdown": [
       "'22.4 21.5'"
      ],
      "text/plain": [
       "[1] \"22.4 21.5\""
      ]
     },
     "metadata": {},
     "output_type": "display_data"
    }
   ],
   "source": [
    "sprintf('%.1f %.1f', sd(A), sd(B))"
   ]
  },
  {
   "cell_type": "code",
   "execution_count": 26,
   "id": "de9d869f-9073-46c7-821a-c34ad63fa9c6",
   "metadata": {},
   "outputs": [],
   "source": [
    "# 회계수습사원들의 월급이 3536,3173,3448,3121,3622라고 한다\n",
    "# 사무수습사원들의 월급평균은 3550, 표준편차는 250이라 할 때\n",
    "# 이 두 수습사원 그룹을 비교하시오"
   ]
  },
  {
   "cell_type": "code",
   "execution_count": 27,
   "id": "6375b408-5e33-40bd-9787-873174ec47e1",
   "metadata": {},
   "outputs": [
    {
     "data": {
      "text/html": [
       "3380"
      ],
      "text/latex": [
       "3380"
      ],
      "text/markdown": [
       "3380"
      ],
      "text/plain": [
       "[1] 3380"
      ]
     },
     "metadata": {},
     "output_type": "display_data"
    },
    {
     "data": {
      "text/html": [
       "222.17898190423"
      ],
      "text/latex": [
       "222.17898190423"
      ],
      "text/markdown": [
       "222.17898190423"
      ],
      "text/plain": [
       "[1] 222.179"
      ]
     },
     "metadata": {},
     "output_type": "display_data"
    }
   ],
   "source": [
    "acc <- c(3536,3173,3448,3121,3622)\n",
    "mean(acc)\n",
    "sd(acc)"
   ]
  },
  {
   "cell_type": "markdown",
   "id": "e0ba6acc-cb7b-4a54-b365-6cfbc0424129",
   "metadata": {},
   "source": [
    "## 사분위수\n",
    "+ 데이터를 가장 작은수부터 가장 큰수까지 정렬하였을때 1/4, 2/4, 3/4 위치에 있는 수를 의미\n",
    "+ 이 각각의 수를 1사분위수, **2사분위수**, 3사분위수라고 하는데, 2사분위수는 **중앙값**과 같음\n",
    "    * $ Q_1 $ : 25% 지점\n",
    "    * $ Q_2 $ : 50% 지점\n",
    "    * $ Q_3 $ : 75% 지점\n",
    "+ 때로 위치를 1/100단위로 나눈 경우도 있는데, 이때 백분위수를 사용함\n",
    "+ 한편, 사분위수를 구하는 방법은 크게 **9가지**가 존재하는데 대상 데이터의 **유형**에 따라 적용방법이 다름\n",
    "+ **사분위 범위(IQR)** 사이의 구간에 항상 전체 데이터의 **50%** 가 포함됨\n",
    "    * 사분위 범위는 3사분위수에서 1사분위수 간의 범위를 의미\n",
    "    > ###### $ IQR = Q_3 - Q_1 $\n",
    "    "
   ]
  },
  {
   "cell_type": "code",
   "execution_count": 28,
   "id": "657483d7-549a-49f7-9cb0-9993d5f63b2a",
   "metadata": {},
   "outputs": [
    {
     "data": {
      "text/html": [
       "<style>\n",
       ".dl-inline {width: auto; margin:0; padding: 0}\n",
       ".dl-inline>dt, .dl-inline>dd {float: none; width: auto; display: inline-block}\n",
       ".dl-inline>dt::after {content: \":\\0020\"; padding-right: .5ex}\n",
       ".dl-inline>dt:not(:first-of-type) {padding-left: .5ex}\n",
       "</style><dl class=dl-inline><dt>0%</dt><dd>16</dd><dt>25%</dt><dd>33</dd><dt>50%</dt><dd>45</dd><dt>75%</dt><dd>56</dd><dt>100%</dt><dd>82</dd></dl>\n"
      ],
      "text/latex": [
       "\\begin{description*}\n",
       "\\item[0\\textbackslash{}\\%] 16\n",
       "\\item[25\\textbackslash{}\\%] 33\n",
       "\\item[50\\textbackslash{}\\%] 45\n",
       "\\item[75\\textbackslash{}\\%] 56\n",
       "\\item[100\\textbackslash{}\\%] 82\n",
       "\\end{description*}\n"
      ],
      "text/markdown": [
       "0%\n",
       ":   1625%\n",
       ":   3350%\n",
       ":   4575%\n",
       ":   56100%\n",
       ":   82\n",
       "\n"
      ],
      "text/plain": [
       "  0%  25%  50%  75% 100% \n",
       "  16   33   45   56   82 "
      ]
     },
     "metadata": {},
     "output_type": "display_data"
    }
   ],
   "source": [
    "# 조선조 왕들 수명의 사분위수\n",
    "# 사분위수 : quantile(객체, 사분위)\n",
    "quantile(kings)"
   ]
  },
  {
   "cell_type": "code",
   "execution_count": 29,
   "id": "cb94c378-1a0a-4138-b1c0-8569e8db83fb",
   "metadata": {},
   "outputs": [
    {
     "data": {
      "text/html": [
       "<strong>25%:</strong> 33"
      ],
      "text/latex": [
       "\\textbf{25\\textbackslash{}\\%:} 33"
      ],
      "text/markdown": [
       "**25%:** 33"
      ],
      "text/plain": [
       "25% \n",
       " 33 "
      ]
     },
     "metadata": {},
     "output_type": "display_data"
    }
   ],
   "source": [
    "# 하위 25%를 나누는 기준 계산 : 1사분위\n",
    "quantile(kings, 0.25)"
   ]
  },
  {
   "cell_type": "code",
   "execution_count": 30,
   "id": "e4f798e4-3542-4b84-ae25-e4ed399ec6b6",
   "metadata": {},
   "outputs": [
    {
     "data": {
      "text/html": [
       "<strong>75%:</strong> 56"
      ],
      "text/latex": [
       "\\textbf{75\\textbackslash{}\\%:} 56"
      ],
      "text/markdown": [
       "**75%:** 56"
      ],
      "text/plain": [
       "75% \n",
       " 56 "
      ]
     },
     "metadata": {},
     "output_type": "display_data"
    }
   ],
   "source": [
    "# 상위 25%를 나누는 기준 계산 : 3사분위\n",
    "quantile(kings, 0.75)"
   ]
  },
  {
   "cell_type": "code",
   "execution_count": 31,
   "id": "b8ae79a8-ce4c-4a2d-aeaa-73614e0b7ba9",
   "metadata": {},
   "outputs": [
    {
     "data": {
      "text/html": [
       "<strong>75%:</strong> 23"
      ],
      "text/latex": [
       "\\textbf{75\\textbackslash{}\\%:} 23"
      ],
      "text/markdown": [
       "**75%:** 23"
      ],
      "text/plain": [
       "75% \n",
       " 23 "
      ]
     },
     "metadata": {},
     "output_type": "display_data"
    },
    {
     "data": {
      "text/html": [
       "23"
      ],
      "text/latex": [
       "23"
      ],
      "text/markdown": [
       "23"
      ],
      "text/plain": [
       "[1] 23"
      ]
     },
     "metadata": {},
     "output_type": "display_data"
    }
   ],
   "source": [
    "# 사분위범위IQR 계산 : Q3 - Q1\n",
    "# IQR(객체)\n",
    "quantile(kings, 0.75) - quantile(kings, 0.25)\n",
    "IQR(kings)"
   ]
  },
  {
   "cell_type": "markdown",
   "id": "116e7724-055e-4276-a932-ccd91f07b004",
   "metadata": {
    "tags": []
   },
   "source": [
    "## 사원 데이터의 기술통계 2 (분산화 경향)"
   ]
  },
  {
   "cell_type": "code",
   "execution_count": 34,
   "id": "045ca3cf-0eb9-4be7-836c-aac0c00a0000",
   "metadata": {},
   "outputs": [
    {
     "data": {
      "text/html": [
       "6461.83177570093"
      ],
      "text/latex": [
       "6461.83177570093"
      ],
      "text/markdown": [
       "6461.83177570093"
      ],
      "text/plain": [
       "[1] 6461.832"
      ]
     },
     "metadata": {},
     "output_type": "display_data"
    }
   ],
   "source": [
    "emp <- read.csv('csv/employees.csv')\n",
    "mean(emp$SALARY)"
   ]
  },
  {
   "cell_type": "code",
   "execution_count": 35,
   "id": "bc5d84ad-264a-4ea6-ba1d-1f822f94faa3",
   "metadata": {},
   "outputs": [
    {
     "data": {
      "text/html": [
       "3909.57973055248"
      ],
      "text/latex": [
       "3909.57973055248"
      ],
      "text/markdown": [
       "3909.57973055248"
      ],
      "text/plain": [
       "[1] 3909.58"
      ]
     },
     "metadata": {},
     "output_type": "display_data"
    }
   ],
   "source": [
    "sd(emp$SALARY)"
   ]
  },
  {
   "cell_type": "code",
   "execution_count": 36,
   "id": "f83c43dc-3c88-4fce-a200-bf31b00955b0",
   "metadata": {},
   "outputs": [
    {
     "data": {
      "text/html": [
       "<style>\n",
       ".list-inline {list-style: none; margin:0; padding: 0}\n",
       ".list-inline>li {display: inline-block}\n",
       ".list-inline>li:not(:last-child)::after {content: \"\\00b7\"; padding: 0 .5ex}\n",
       "</style>\n",
       "<ol class=list-inline><li>2100</li><li>24000</li></ol>\n"
      ],
      "text/latex": [
       "\\begin{enumerate*}\n",
       "\\item 2100\n",
       "\\item 24000\n",
       "\\end{enumerate*}\n"
      ],
      "text/markdown": [
       "1. 2100\n",
       "2. 24000\n",
       "\n",
       "\n"
      ],
      "text/plain": [
       "[1]  2100 24000"
      ]
     },
     "metadata": {},
     "output_type": "display_data"
    }
   ],
   "source": [
    "range(emp$SALARY)"
   ]
  },
  {
   "cell_type": "code",
   "execution_count": 37,
   "id": "4203393f-446a-4dcd-a6ec-fe8467a29fc3",
   "metadata": {},
   "outputs": [
    {
     "data": {
      "text/html": [
       "<style>\n",
       ".dl-inline {width: auto; margin:0; padding: 0}\n",
       ".dl-inline>dt, .dl-inline>dd {float: none; width: auto; display: inline-block}\n",
       ".dl-inline>dt::after {content: \":\\0020\"; padding-right: .5ex}\n",
       ".dl-inline>dt:not(:first-of-type) {padding-left: .5ex}\n",
       "</style><dl class=dl-inline><dt>0%</dt><dd>2100</dd><dt>25%</dt><dd>3100</dd><dt>50%</dt><dd>6200</dd><dt>75%</dt><dd>8900</dd><dt>100%</dt><dd>24000</dd></dl>\n"
      ],
      "text/latex": [
       "\\begin{description*}\n",
       "\\item[0\\textbackslash{}\\%] 2100\n",
       "\\item[25\\textbackslash{}\\%] 3100\n",
       "\\item[50\\textbackslash{}\\%] 6200\n",
       "\\item[75\\textbackslash{}\\%] 8900\n",
       "\\item[100\\textbackslash{}\\%] 24000\n",
       "\\end{description*}\n"
      ],
      "text/markdown": [
       "0%\n",
       ":   210025%\n",
       ":   310050%\n",
       ":   620075%\n",
       ":   8900100%\n",
       ":   24000\n",
       "\n"
      ],
      "text/plain": [
       "   0%   25%   50%   75%  100% \n",
       " 2100  3100  6200  8900 24000 "
      ]
     },
     "metadata": {},
     "output_type": "display_data"
    },
    {
     "data": {
      "text/html": [
       "5800"
      ],
      "text/latex": [
       "5800"
      ],
      "text/markdown": [
       "5800"
      ],
      "text/plain": [
       "[1] 5800"
      ]
     },
     "metadata": {},
     "output_type": "display_data"
    }
   ],
   "source": [
    "quantile(emp$SALARY)\n",
    "IQR(emp$SALARY)"
   ]
  },
  {
   "cell_type": "markdown",
   "id": "bc80951c-0806-4d6b-b788-c5a245f73973",
   "metadata": {},
   "source": [
    "## 타이타닉 생존자 기술통계 2 (분산화 경향)"
   ]
  },
  {
   "cell_type": "code",
   "execution_count": 42,
   "id": "94e6e01b-60ed-4b27-b0cd-be5bffc19f07",
   "metadata": {},
   "outputs": [
    {
     "name": "stdout",
     "output_type": "stream",
     "text": [
      "'data.frame':\t1310 obs. of  11 variables:\n",
      " $ pclass  : int  1 1 1 1 1 1 1 1 1 1 ...\n",
      " $ survived: int  1 1 0 0 0 1 1 0 1 0 ...\n",
      " $ name    : chr  \"Allen, Miss. Elisabeth Walton\" \"Allison, Master. Hudson Trevor\" \"Allison, Miss. Helen Loraine\" \"Allison, Mr. Hudson Joshua Creighton\" ...\n",
      " $ sex     : chr  \"female\" \"male\" \"female\" \"male\" ...\n",
      " $ age     : num  29 0.917 2 30 25 ...\n",
      " $ sibsp   : int  0 1 1 1 1 0 1 0 2 0 ...\n",
      " $ parch   : int  0 2 2 2 2 0 0 0 0 0 ...\n",
      " $ ticket  : chr  \"24160\" \"113781\" \"113781\" \"113781\" ...\n",
      " $ fare    : num  211 152 152 152 152 ...\n",
      " $ cabin   : chr  \"B5\" \"C22 C26\" \"C22 C26\" \"C22 C26\" ...\n",
      " $ embarked: chr  \"S\" \"S\" \"S\" \"S\" ...\n"
     ]
    }
   ],
   "source": [
    "titanic <- read.csv('csv/titanic.csv', stringsAsFactors=F)\n",
    "str(titanic)"
   ]
  },
  {
   "cell_type": "code",
   "execution_count": 43,
   "id": "9dbba540-7550-4206-91e4-22a20a82e347",
   "metadata": {},
   "outputs": [
    {
     "name": "stdout",
     "output_type": "stream",
     "text": [
      "'data.frame':\t4119 obs. of  27 variables:\n",
      " $ 발생년               : int  2016 2016 2016 2016 2016 2016 2016 2016 2016 2016 ...\n",
      " $ 발생년월일시         : int  2016122320 2016122517 2016122519 2016122610 2016122819 2016111207 2016110919 2016111005 2016110711 2016110818 ...\n",
      " $ 발생분               : int  35 48 5 40 40 34 25 0 5 0 ...\n",
      " $ 주야                 : Factor w/ 2 levels \"야간\",\"주간\": 1 2 1 2 1 2 1 1 2 1 ...\n",
      " $ 요일                 : Factor w/ 7 levels \"금\",\"목\",\"수\",..: 1 5 5 4 3 6 3 2 4 7 ...\n",
      " $ 사망자수             : int  1 1 1 1 1 1 1 1 1 1 ...\n",
      " $ 사상자수             : int  1 1 1 1 1 1 1 1 1 1 ...\n",
      " $ 중상자수             : int  0 0 0 0 0 0 0 0 0 0 ...\n",
      " $ 경상자수             : int  0 0 0 0 0 0 0 0 0 0 ...\n",
      " $ 부상신고자수         : int  0 0 0 0 0 0 0 0 0 0 ...\n",
      " $ 발생지시도           : Factor w/ 17 levels \"강원\",\"경기\",..: 2 9 17 4 3 3 2 12 16 13 ...\n",
      " $ 발생지시군구         : Factor w/ 205 levels \"가평군\",\"강남구\",..: 26 38 172 12 171 9 190 86 132 103 ...\n",
      " $ 사고유형_대분류      : Factor w/ 3 levels \"차대사람\",\"차대차\",..: 1 1 1 1 1 1 1 1 3 1 ...\n",
      " $ 사고유형_중분류      : Factor w/ 12 levels \"공작물충돌\",\"기타\",..: 2 12 9 12 12 12 2 12 6 9 ...\n",
      " $ 사고유형             : Factor w/ 13 levels \"공작물충돌\",\"기타\",..: 2 13 11 13 13 13 2 13 7 11 ...\n",
      " $ 법규위반_대분류      : Factor w/ 1 level \"운전자법규위반\": 1 1 1 1 1 1 1 1 1 1 ...\n",
      " $ 법규위반             : Factor w/ 14 levels \"과속\",\"교차로 통행방법 위반\",..: 9 9 9 9 4 9 9 4 9 9 ...\n",
      " $ 도로형태_대분류      : Factor w/ 5 levels \"고가도로위\",\"교차로\",..: 2 4 4 4 4 4 4 4 4 4 ...\n",
      " $ 도로형태             : Factor w/ 10 levels \"고가도로위\",\"교량위\",..: 3 6 6 6 6 6 6 6 6 6 ...\n",
      " $ 당사자종별_1당_대분류: Factor w/ 10 levels \"건설기계\",\"농기계\",..: 4 4 10 5 4 1 4 4 1 4 ...\n",
      " $ 당사자종별_1당       : Factor w/ 10 levels \"건설기계\",\"경형\",..: 10 10 7 2 7 1 10 2 1 10 ...\n",
      " $ 당사자종별_2당_대분류: Factor w/ 12 levels \"\",\"건설기계\",..: 4 4 4 4 4 4 4 4 1 4 ...\n",
      " $ 당사자종별_2당       : Factor w/ 12 levels \"\",\"건설기계\",..: 6 6 6 6 6 6 6 6 1 6 ...\n",
      " $ 발생위치X_UTMK       : num  981731 945989 993981 1161153 1056276 ...\n",
      " $ 발생위치Y_UTMK       : num  1932086 1942347 1879534 1751026 1686645 ...\n",
      " $ 경도                 : num  127 127 127 129 128 ...\n",
      " $ 위도                 : num  37.4 37.5 36.9 35.7 35.2 ...\n"
     ]
    }
   ],
   "source": [
    "# 명목형 자료들이 많기 때문에 stringsAsFactors=F 사용 X\n",
    "car <- read.csv('csv/accident2016.csv')\n",
    "str(car)"
   ]
  },
  {
   "cell_type": "code",
   "execution_count": 44,
   "id": "7ad590ed-cca6-4bf0-bcb5-d238fb4e945a",
   "metadata": {},
   "outputs": [
    {
     "data": {
      "text/plain": [
       "     발생년      발생년월일시           발생분        주야      요일    \n",
       " Min.   :2016   Min.   :2.016e+09   Min.   : 0.00   야간:2072   금:666  \n",
       " 1st Qu.:2016   1st Qu.:2.016e+09   1st Qu.:10.00   주간:2047   목:596  \n",
       " Median :2016   Median :2.016e+09   Median :27.00               수:565  \n",
       " Mean   :2016   Mean   :2.016e+09   Mean   :26.94               월:584  \n",
       " 3rd Qu.:2016   3rd Qu.:2.016e+09   3rd Qu.:40.00               일:513  \n",
       " Max.   :2016   Max.   :2.016e+09   Max.   :59.00               토:635  \n",
       "                                                                화:560  \n",
       "    사망자수         사상자수         중상자수         경상자수      \n",
       " Min.   : 1.000   Min.   : 1.000   Min.   : 0.000   Min.   : 0.0000  \n",
       " 1st Qu.: 1.000   1st Qu.: 1.000   1st Qu.: 0.000   1st Qu.: 0.0000  \n",
       " Median : 1.000   Median : 1.000   Median : 0.000   Median : 0.0000  \n",
       " Mean   : 1.042   Mean   : 1.576   Mean   : 0.252   Mean   : 0.2595  \n",
       " 3rd Qu.: 1.000   3rd Qu.: 1.000   3rd Qu.: 0.000   3rd Qu.: 0.0000  \n",
       " Max.   :10.000   Max.   :67.000   Max.   :22.000   Max.   :62.0000  \n",
       "                                                                     \n",
       "  부상신고자수       발생지시도         발생지시군구  사고유형_대분류\n",
       " Min.   :0.00000   경기   : 749   서구        :  78   차대사람:1647  \n",
       " 1st Qu.:0.00000   경북   : 477   남구        :  76   차대차  :1646  \n",
       " Median :0.00000   충남   : 372   창원시(통합):  75   차량단독: 826  \n",
       " Mean   :0.02282   경남   : 359   청주시      :  74                  \n",
       " 3rd Qu.:0.00000   서울   : 342   북구        :  69                  \n",
       " Max.   :5.00000   전남   : 327   동구        :  58                  \n",
       "                   (Other):1493   (Other)     :3689                  \n",
       "     사고유형_중분류         사고유형          법규위반_대분류\n",
       " 횡단중      :1078   횡단중      :1078   운전자법규위반:4119  \n",
       " 기타        : 665   기타        : 665                        \n",
       " 측면직각충돌: 619   측면직각충돌: 619                        \n",
       " 전도전복    : 480   전도전복    : 480                        \n",
       " 추돌        : 436   진행중 추돌 : 436                        \n",
       " 정면충돌    : 323   정면충돌    : 323                        \n",
       " (Other)     : 518   (Other)     : 518                        \n",
       "                 법규위반      도로형태_대분류       도로형태   \n",
       " 안전운전 의무 불이행:2856   고가도로위:  14   기타단일로:2427  \n",
       " 신호위반            : 333   교차로    :1285   교차로내  : 817  \n",
       " 중앙선 침범         : 314   기타/불명 : 103   교차로부근: 468  \n",
       " 과속                : 178   단일로    :2704   횡단보도상: 170  \n",
       " 보행자 보호의무 위반: 174   지하도로내:  13   기타/불명 : 103  \n",
       " 교차로 통행방법 위반:  68                     교량위    :  49  \n",
       " (Other)             : 196                     (Other)   :  85  \n",
       "      당사자종별_1당_대분류          당사자종별_1당 당사자종별_2당_대분류\n",
       " 승용차          :2023      소형            :1265   보행자 :1642         \n",
       " 화물차          : 914      중형            :1206          : 825         \n",
       " 이륜차          : 415      경형            : 660   승용차 : 548         \n",
       " 승합차          : 261      대형            : 478   화물차 : 408         \n",
       " 원동기장치자전거: 184      원동기장치자전거: 184   이륜차 : 210         \n",
       " 자전거          : 113      자전거          : 113   자전거 : 148         \n",
       " (Other)         : 209      (Other)         : 213   (Other): 338         \n",
       " 당사자종별_2당 발생위치X_UTMK    발생위치Y_UTMK         경도      \n",
       " 보행자 :1642   Min.   :      0   Min.   :      0   Min.   :118.0  \n",
       "        : 825   1st Qu.: 946505   1st Qu.:1725992   1st Qu.:126.9  \n",
       " 소형   : 465   Median : 977012   Median :1823659   Median :127.2  \n",
       " 중형   : 385   Mean   :1007249   Mean   :1818670   Mean   :127.6  \n",
       " 대형   : 239   3rd Qu.:1080134   3rd Qu.:1930029   3rd Qu.:128.4  \n",
       " 경형   : 195   Max.   :1296967   Max.   :2053766   Max.   :130.9  \n",
       " (Other): 368                                                      \n",
       "      위도      \n",
       " Min.   :19.69  \n",
       " 1st Qu.:35.52  \n",
       " Median :36.41  \n",
       " Mean   :36.36  \n",
       " 3rd Qu.:37.37  \n",
       " Max.   :38.48  \n",
       "                "
      ]
     },
     "metadata": {},
     "output_type": "display_data"
    }
   ],
   "source": [
    "summary(car)"
   ]
  },
  {
   "cell_type": "code",
   "execution_count": 45,
   "id": "e8d400a1-78ed-48e1-be83-5b722984452b",
   "metadata": {},
   "outputs": [
    {
     "data": {
      "text/plain": [
       "\n",
       "야간 주간 \n",
       "2072 2047 "
      ]
     },
     "metadata": {},
     "output_type": "display_data"
    }
   ],
   "source": [
    "# 주야별 교통사고 건수\n",
    "table(car$주야)"
   ]
  },
  {
   "cell_type": "code",
   "execution_count": 46,
   "id": "d71e0860-4df0-47c6-b7ea-5384cdff11bb",
   "metadata": {},
   "outputs": [
    {
     "data": {
      "text/plain": [
       "\n",
       " 일  화  수  월  목  토  금 \n",
       "513 560 565 584 596 635 666 "
      ]
     },
     "metadata": {},
     "output_type": "display_data"
    }
   ],
   "source": [
    "# 요일별 교통사고 건수\n",
    "sort(table(car$요일))"
   ]
  },
  {
   "cell_type": "code",
   "execution_count": 47,
   "id": "dbb43d5a-312a-497a-ac2a-43f5f9a9589a",
   "metadata": {},
   "outputs": [
    {
     "data": {
      "text/plain": [
       "\n",
       "경기 경북 충남 경남 서울 전남 전북 충북 강원 부산 대구 인천 대전 광주 제주 울산 \n",
       " 749  477  372  359  342  327  275  221  206  153  150  137   94   85   77   70 \n",
       "세종 \n",
       "  25 "
      ]
     },
     "metadata": {},
     "output_type": "display_data"
    }
   ],
   "source": [
    "# 발생지시도 교통사고 건수\n",
    "sort(table(car$발생지시도), decreasing=T)"
   ]
  },
  {
   "cell_type": "code",
   "execution_count": 48,
   "id": "2d136d21-c265-48cd-8f9c-07a031275ecd",
   "metadata": {},
   "outputs": [
    {
     "data": {
      "text/plain": [
       "\n",
       "차대사람   차대차 차량단독 \n",
       "    1647     1646      826 "
      ]
     },
     "metadata": {},
     "output_type": "display_data"
    }
   ],
   "source": [
    "# 사고유형_대분류 교통사고 건수\n",
    "sort(table(car$사고유형_대분류), decreasing=T)"
   ]
  },
  {
   "cell_type": "code",
   "execution_count": 49,
   "id": "a6cb57fd-9db2-4f7e-a9bb-7b96dd29e070",
   "metadata": {},
   "outputs": [
    {
     "data": {
      "text/plain": [
       "\n",
       "              횡단중                 기타         측면직각충돌 \n",
       "                1078                  665                  619 \n",
       "            전도전복          진행중 추돌             정면충돌 \n",
       "                 480                  436                  323 \n",
       "          공작물충돌           차도통행중 길가장자리구역통행중 \n",
       "                 230                  146                   65 \n",
       "       도로이탈 추락           보도통행중        도로이탈 기타 \n",
       "                  30                   30                   16 \n",
       "    주/정차차량 충돌 \n",
       "                   1 "
      ]
     },
     "metadata": {},
     "output_type": "display_data"
    }
   ],
   "source": [
    "# 사고유형 교통사고 건수\n",
    "sort(table(car$사고유형), decreasing=T)"
   ]
  },
  {
   "cell_type": "code",
   "execution_count": 50,
   "id": "2c91c75a-5f37-4d35-9ca5-ac2c6260e124",
   "metadata": {},
   "outputs": [
    {
     "data": {
      "text/plain": [
       "\n",
       "       안전운전 의무 불이행                    신호위반 \n",
       "                       2856                         333 \n",
       "                중앙선 침범                        과속 \n",
       "                        314                         178 \n",
       "       보행자 보호의무 위반        교차로 통행방법 위반 \n",
       "                        174                          68 \n",
       "            안전거리 미확보        기타(운전자법규위반) \n",
       "                         68                          44 \n",
       "직진 및 우회전차의 통행방해                 부당한 회전 \n",
       "                         37                          28 \n",
       "    차로위반(진로변경 위반)           앞지르기 금지위반 \n",
       "                         12                           3 \n",
       "       서행 및 일시정지위반           앞지르기 방법위반 \n",
       "                          2                           2 "
      ]
     },
     "metadata": {},
     "output_type": "display_data"
    }
   ],
   "source": [
    "# 법규위반 교통사고 건수\n",
    "sort(table(car$법규위반), decreasing=T)"
   ]
  },
  {
   "cell_type": "code",
   "execution_count": null,
   "id": "c480b167-6f24-437a-904d-894c982f1d3f",
   "metadata": {},
   "outputs": [],
   "source": [
    "# 도로형태 교통사고 건수\n",
    "sort(table(car$도로형태), decreasing=T)"
   ]
  },
  {
   "cell_type": "code",
   "execution_count": null,
   "id": "6114d863-d2de-4298-b576-983b37519b3f",
   "metadata": {},
   "outputs": [],
   "source": [
    "# 당사자종별_1당 교통사고 건수\n",
    "sort(table(car$당사자종별_1당), decreasing=T)"
   ]
  },
  {
   "cell_type": "markdown",
   "id": "b67cdf04-e113-41c2-b5ab-ee98f15f4a58",
   "metadata": {},
   "source": [
    "## 교통사고 현황 데이터 기술통계 2 (분산화 경향)\n",
    "+ 데이터가 주로 범주형으로 구성되어 있기 때문에 <br>\n",
    "조건검색 후 데이터를 선별하지 않는 이상 적절한 분석은 의미없음"
   ]
  },
  {
   "cell_type": "code",
   "execution_count": null,
   "id": "a792596c-ec1e-423b-8f5d-f399d805394d",
   "metadata": {},
   "outputs": [],
   "source": []
  },
  {
   "cell_type": "code",
   "execution_count": null,
   "id": "0deadfae-7af7-4d82-b653-f6e9b06fb943",
   "metadata": {},
   "outputs": [],
   "source": []
  },
  {
   "cell_type": "code",
   "execution_count": null,
   "id": "6ada71ac-04bf-4fcb-a667-5253a1ac301b",
   "metadata": {},
   "outputs": [],
   "source": []
  },
  {
   "cell_type": "code",
   "execution_count": null,
   "id": "5fac2935-49ae-4b86-b390-92b34f2b8cf2",
   "metadata": {},
   "outputs": [],
   "source": []
  }
 ],
 "metadata": {
  "kernelspec": {
   "display_name": "R",
   "language": "R",
   "name": "ir"
  },
  "language_info": {
   "codemirror_mode": "r",
   "file_extension": ".r",
   "mimetype": "text/x-r-source",
   "name": "R",
   "pygments_lexer": "r",
   "version": "3.6.3"
  }
 },
 "nbformat": 4,
 "nbformat_minor": 5
}
