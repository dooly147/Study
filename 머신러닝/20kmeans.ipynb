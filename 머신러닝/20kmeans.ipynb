{
 "cells": [
  {
   "cell_type": "markdown",
   "id": "e79edc5e-812d-4c8c-8b8a-6d9886fb805b",
   "metadata": {},
   "source": [
    "# 20 kmeans"
   ]
  },
  {
   "cell_type": "markdown",
   "id": "6a92ae33-a494-4582-aa11-fc0d463c13cb",
   "metadata": {},
   "source": [
    "## 지도학습 vs 비지도학습\n",
    "* 지도학습 : 데이터와 레이블을 이용해서 규칙/패턴 파악\n",
    "* 비지도학습 : 데이터만을 이용해서 유사도에 따른 규칙/패턴 파악"
   ]
  },
  {
   "cell_type": "markdown",
   "id": "71b9c43d-5ac4-4021-9a19-70ee02ab373b",
   "metadata": {},
   "source": [
    "## kmeans\n",
    "* 대표적 군집 알고리즘\n",
    "* 서로 유사성이 높은 것끼리 관측값을 묶어 다수의 그룹을 만드는 알고리즘\n",
    "* 즉, 동일 그룹내 구성원끼리는 유사성이 높고  \n",
    "  다른 그룹내 구성원과의 유사성은 거의 없다는 의미\n",
    "* 군집기반 분석기법, SSW, SSB"
   ]
  },
  {
   "cell_type": "markdown",
   "id": "d9acf24d-098f-45e7-8fff-d875b299fdf2",
   "metadata": {},
   "source": [
    "## 유사도 파악\n",
    "* kmeans에서는 각 점간의 거리가 가까울수록  \n",
    "  비슷한 특성을 가진다고 보고 데이터들을 모음(군집함)\n",
    "* 따라서, 유사도 측정을 위해 임의의 기준점centeriod을 선정"
   ]
  },
  {
   "cell_type": "code",
   "execution_count": 1,
   "id": "e2d5eed7-70b0-4bc3-ae3d-a478224dba34",
   "metadata": {},
   "outputs": [],
   "source": [
    "import math\n",
    "import numpy as np\n",
    "import pandas as pd\n",
    "import matplotlib.pyplot as plt\n",
    "import seaborn as sns"
   ]
  },
  {
   "cell_type": "code",
   "execution_count": 2,
   "id": "589d0f55-1d4e-435e-b48c-19529aa5fa57",
   "metadata": {},
   "outputs": [],
   "source": [
    "# 데이터 정의\n",
    "x = 7,2,6,3,6,5,3,1,5,7,7,2\n",
    "y = 8,4,4,2,5,7,3,4,4,7,6,1"
   ]
  },
  {
   "cell_type": "code",
   "execution_count": 3,
   "id": "5c125479-f75a-4931-ae0a-1ea0f479975b",
   "metadata": {},
   "outputs": [
    {
     "data": {
      "image/png": "[encoded data removed]",
      "text/plain": [
       "<Figure size 432x288 with 1 Axes>"
      ]
     },
     "metadata": {
      "needs_background": "light"
     },
     "output_type": "display_data"
    }
   ],
   "source": [
    "# 시각화\n",
    "plt.plot(x, y, 'ro')\n",
    "plt.grid()"
   ]
  },
  {
   "cell_type": "code",
   "execution_count": 4,
   "id": "59eacd84-e3b7-4699-98a6-c266381ca4de",
   "metadata": {},
   "outputs": [
    {
     "data": {
      "image/png": "[encoded data removed]",
      "text/plain": [
       "<Figure size 432x288 with 1 Axes>"
      ]
     },
     "metadata": {
      "needs_background": "light"
     },
     "output_type": "display_data"
    }
   ],
   "source": [
    "# 임의의 센터로이드 설정\n",
    "# -> C1(1,4) C2(7,8)\n",
    "plt.plot(x, y, 'ro')\n",
    "plt.plot([1,7], [4,8], 'bX')\n",
    "plt.grid()"
   ]
  },
  {
   "cell_type": "code",
   "execution_count": 5,
   "id": "845ce6fd-d6b4-43aa-a801-15e81f4cee51",
   "metadata": {},
   "outputs": [],
   "source": [
    "# 센터로이드와 각 점들간 거리 계산 : 유클리드 거리 계산\n",
    "# 즉, A(X1, Y1)와 B(X2, Y2)간의 거리계산은\n",
    "# sqrt((X2-X1)^2 + (Y2-Y1)^2)로 함"
   ]
  },
  {
   "cell_type": "code",
   "execution_count": 6,
   "id": "3eb8c2eb-832f-416d-931e-7841dd031947",
   "metadata": {},
   "outputs": [
    {
     "data": {
      "text/plain": [
       "1.0"
      ]
     },
     "execution_count": 6,
     "metadata": {},
     "output_type": "execute_result"
    }
   ],
   "source": [
    "# C(2,4)와 D(6,4)는 A(1,4),B(7,8) 중 어디와 가까운가?\n",
    "math.sqrt((1-2)**2 + (4-4)**2)   # A ~ C : 1"
   ]
  },
  {
   "cell_type": "code",
   "execution_count": 7,
   "id": "128279d5-e7ec-4dee-a971-90967266068b",
   "metadata": {},
   "outputs": [
    {
     "data": {
      "text/plain": [
       "5.0"
      ]
     },
     "execution_count": 7,
     "metadata": {},
     "output_type": "execute_result"
    }
   ],
   "source": [
    "math.sqrt((1-6)**2 + (4-4)**2)   # A ~ D : 5\n",
    "# => C1로 분류"
   ]
  },
  {
   "cell_type": "code",
   "execution_count": 8,
   "id": "9a3257da-88bc-4004-a4e0-24715159cf06",
   "metadata": {},
   "outputs": [
    {
     "data": {
      "text/plain": [
       "6.4031242374328485"
      ]
     },
     "execution_count": 8,
     "metadata": {},
     "output_type": "execute_result"
    }
   ],
   "source": [
    "math.sqrt((7-2)**2 + (8-4)**2)   # B ~ C : 6.4"
   ]
  },
  {
   "cell_type": "code",
   "execution_count": 9,
   "id": "ed7e6e55-1be0-45d4-8a69-b46b35f28c49",
   "metadata": {},
   "outputs": [
    {
     "data": {
      "text/plain": [
       "4.123105625617661"
      ]
     },
     "execution_count": 9,
     "metadata": {},
     "output_type": "execute_result"
    }
   ],
   "source": [
    "math.sqrt((7-6)**2 + (8-4)**2)   # B ~ D : 4.1\n",
    "# => C2로 분류"
   ]
  },
  {
   "cell_type": "markdown",
   "id": "c85e1fab-e5f9-4dec-8fb5-8e9630992ac3",
   "metadata": {},
   "source": [
    "## 새로운 중심점 설정\n",
    "* 모든 데이터에 대한 군집화가 수행된 후  \n",
    "  새로운 중심점을 선정한 후 다시 유사도에 의한 군집 실시\n",
    "* 새로운 중심점을 선정하는 방법은 각 군집별 평균값을 이용\n",
    "* 즉, 군집 C1, C2의 각 x/y 좌표간 평균계산\n",
    "    + C1의 새로운 좌표\n",
    "        - x좌표 : 1,2,2,3,3 / 5 = 2.2\n",
    "        - y좌표 : 1,2,3,4,4 / 5 = 2.8\n",
    "        - (1,4) -> (2.2, 2.8)\n",
    "    + C2의 새로운 좌표\n",
    "        - x좌표 : 5,5,6,6,7,7,7 / 7 = 6.14\n",
    "        - y좌표 : 4,4,5,6,7,7,8 / 7 = 5.85\n",
    "        - (7,8) -> (6.14, 5.85)"
   ]
  },
  {
   "cell_type": "code",
   "execution_count": 10,
   "id": "fe2257da-f7d1-410e-bda8-7f223981b0aa",
   "metadata": {},
   "outputs": [
    {
     "data": {
      "image/png": "[encoded data removed]",
      "text/plain": [
       "<Figure size 432x288 with 1 Axes>"
      ]
     },
     "metadata": {
      "needs_background": "light"
     },
     "output_type": "display_data"
    }
   ],
   "source": [
    "# 새로운 좌표 시각화\n",
    "plt.plot(x, y, 'ro')\n",
    "plt.plot([2.2, 6.14], [2.8, 5.85], 'bX')\n",
    "plt.grid()"
   ]
  },
  {
   "cell_type": "code",
   "execution_count": null,
   "id": "bd3c0563-810f-493e-8f3d-c8c6f29e0329",
   "metadata": {},
   "outputs": [],
   "source": []
  },
  {
   "cell_type": "code",
   "execution_count": 38,
   "id": "c3a7a100-9269-4d0b-b61b-0ddbadaf3fba",
   "metadata": {},
   "outputs": [],
   "source": [
    "## iris 데이터셋을 kmeans로 군집화하기\n",
    "from sklearn.datasets import load_iris\n",
    "from sklearn.cluster import KMeans\n",
    "from sklearn.metrics import silhouette_score\n",
    "from sklearn.model_selection import train_test_split\n",
    "from sklearn.metrics import accuracy_score"
   ]
  },
  {
   "cell_type": "code",
   "execution_count": 39,
   "id": "e7303661-04b5-4ee5-9afd-fcbc167cf2d1",
   "metadata": {},
   "outputs": [],
   "source": [
    "# 데이터 적재 및 분할\n",
    "iris = load_iris()"
   ]
  },
  {
   "cell_type": "code",
   "execution_count": 40,
   "id": "f45160a6-ae75-40a4-b38f-b7d748905e67",
   "metadata": {},
   "outputs": [],
   "source": [
    "Xtrain, Xtest, ytrain, ytest = train_test_split(iris.data, iris.target,\n",
    "                                                stratify=iris.target,\n",
    "                                                test_size=0.3, \n",
    "                                                random_state=2111151155)"
   ]
  },
  {
   "cell_type": "code",
   "execution_count": 41,
   "id": "a82b0e32-b72e-4d3e-826a-5227d12552e7",
   "metadata": {},
   "outputs": [
    {
     "data": {
      "text/plain": [
       "KMeans(max_iter=100, n_clusters=3)"
      ]
     },
     "execution_count": 41,
     "metadata": {},
     "output_type": "execute_result"
    }
   ],
   "source": [
    "# 군집분석 실시\n",
    "# n_clusters : 군집수\n",
    "# max_iter : 군집화 시도횟수\n",
    "kms = KMeans(n_clusters=3, max_iter=100)\n",
    "\n",
    "kms.fit(Xtrain)"
   ]
  },
  {
   "cell_type": "code",
   "execution_count": 42,
   "id": "bb74be81-a357-47c6-9ef8-76b4c553b861",
   "metadata": {},
   "outputs": [
    {
     "data": {
      "text/plain": [
       "array([1, 2, 2, 2, 0, 1, 2, 1, 0, 0, 1, 2, 1, 2, 2, 1, 1, 0, 2, 0, 2, 2,\n",
       "       0, 2, 0, 2, 1, 2, 2, 0, 0, 0, 1, 2, 1, 1, 0, 2, 0, 1, 1, 2, 2, 1,\n",
       "       2, 2, 2, 2, 2, 1, 1, 1, 2, 2, 1, 2, 2, 2, 0, 2, 1, 1, 0, 2, 1, 2,\n",
       "       2, 0, 2, 1, 1, 0, 1, 1, 1, 2, 2, 1, 1, 0, 1, 0, 0, 0, 2, 2, 0, 1,\n",
       "       1, 1, 0, 0, 0, 2, 1, 2, 2, 2, 1, 2, 1, 0, 2, 0, 0], dtype=int32)"
      ]
     },
     "execution_count": 42,
     "metadata": {},
     "output_type": "execute_result"
    }
   ],
   "source": [
    "# 군집 결과 평가 : 객체명.labels_에 저장되어 있음\n",
    "kms.labels_"
   ]
  },
  {
   "cell_type": "code",
   "execution_count": 43,
   "id": "63448c2a-f593-436a-8064-261e66e6b8ff",
   "metadata": {},
   "outputs": [
    {
     "data": {
      "text/plain": [
       "0.08571428571428572"
      ]
     },
     "execution_count": 43,
     "metadata": {},
     "output_type": "execute_result"
    }
   ],
   "source": [
    "accuracy_score(kms.labels_, ytrain)\n",
    "# 0.42, 0.90, ..."
   ]
  },
  {
   "cell_type": "code",
   "execution_count": 44,
   "id": "33c1b073-579e-4b9f-896f-7f5e1f2293cd",
   "metadata": {},
   "outputs": [
    {
     "name": "stderr",
     "output_type": "stream",
     "text": [
      "/opt/miniconda3/lib/python3.7/site-packages/ipykernel_launcher.py:17: UserWarning: You passed a edgecolor/edgecolors ('r') for an unfilled marker ('x').  Matplotlib is ignoring the edgecolor in favor of the facecolor.  This behavior may change in the future.\n"
     ]
    },
    {
     "data": {
      "text/plain": [
       "<matplotlib.collections.PathCollection at 0x7fbb56826790>"
      ]
     },
     "execution_count": 44,
     "metadata": {},
     "output_type": "execute_result"
    },
    {
     "data": {
      "image/png": "[encoded data removed]",
      "text/plain": [
       "<Figure size 432x288 with 1 Axes>"
      ]
     },
     "metadata": {
      "needs_background": "light"
     },
     "output_type": "display_data"
    }
   ],
   "source": [
    "# 군집 시각화1\n",
    "plt.scatter(Xtrain[kms.labels_==0, 0],\n",
    "            Xtrain[kms.labels_==0, 1], s=50,\n",
    "            marker='o', c='r', edgecolors='k')\n",
    "\n",
    "plt.scatter(Xtrain[kms.labels_==1, 0],\n",
    "            Xtrain[kms.labels_==1, 1], s=50,\n",
    "            marker='o', c='b', edgecolors='k')\n",
    "\n",
    "plt.scatter(Xtrain[kms.labels_==2, 0],\n",
    "            Xtrain[kms.labels_==2, 1], s=50,\n",
    "            marker='o', c='g', edgecolors='k')\n",
    "\n",
    "# 군집 중심점은 객체명.cluster_centers_에 저장되어 있음\n",
    "plt.scatter(kms.cluster_centers_[:,0],\n",
    "            kms.cluster_centers_[:,1], \n",
    "            s=200, marker='x', c='k', edgecolors='r')"
   ]
  },
  {
   "cell_type": "code",
   "execution_count": 45,
   "id": "7bb31469-b690-471b-92b1-396d6f92dde0",
   "metadata": {},
   "outputs": [
    {
     "name": "stderr",
     "output_type": "stream",
     "text": [
      "/opt/miniconda3/lib/python3.7/site-packages/ipykernel_launcher.py:17: UserWarning: You passed a edgecolor/edgecolors ('r') for an unfilled marker ('x').  Matplotlib is ignoring the edgecolor in favor of the facecolor.  This behavior may change in the future.\n"
     ]
    },
    {
     "data": {
      "text/plain": [
       "<matplotlib.collections.PathCollection at 0x7fbb567bde50>"
      ]
     },
     "execution_count": 45,
     "metadata": {},
     "output_type": "execute_result"
    },
    {
     "data": {
      "image/png": "[encoded data removed]",
      "text/plain": [
       "<Figure size 432x288 with 1 Axes>"
      ]
     },
     "metadata": {
      "needs_background": "light"
     },
     "output_type": "display_data"
    }
   ],
   "source": [
    "# 군집 시각화2\n",
    "plt.scatter(Xtrain[kms.labels_==0, 2],\n",
    "            Xtrain[kms.labels_==0, 3], s=50,\n",
    "            marker='o', c='r', edgecolors='k')\n",
    "\n",
    "plt.scatter(Xtrain[kms.labels_==1, 2],\n",
    "            Xtrain[kms.labels_==1, 3], s=50,\n",
    "            marker='o', c='b', edgecolors='k')\n",
    "\n",
    "plt.scatter(Xtrain[kms.labels_==2, 2],\n",
    "            Xtrain[kms.labels_==2, 3], s=50,\n",
    "            marker='o', c='g', edgecolors='k')\n",
    "\n",
    "# 군집 중심점은 객체명.cluster_centers_에 저장되어 있음\n",
    "plt.scatter(kms.cluster_centers_[:,2],\n",
    "            kms.cluster_centers_[:,3], \n",
    "            s=200, marker='x', c='k', edgecolors='r')"
   ]
  },
  {
   "cell_type": "code",
   "execution_count": 48,
   "id": "94715dc7-899e-477f-bfb1-495ccd1e27af",
   "metadata": {},
   "outputs": [
    {
     "data": {
      "text/plain": [
       "0.4444444444444444"
      ]
     },
     "execution_count": 48,
     "metadata": {},
     "output_type": "execute_result"
    }
   ],
   "source": [
    "# 군집분석\n",
    "kms.fit(Xtest)\n",
    "\n",
    "accuracy_score(kms.labels_, ytest)\n",
    "# 0, 0.44, 0.33, ..."
   ]
  },
  {
   "cell_type": "code",
   "execution_count": 50,
   "id": "ff229e02-cad2-49dc-b7b3-746b6d74f0c4",
   "metadata": {},
   "outputs": [
    {
     "ename": "ValueError",
     "evalue": "Found input variables with inconsistent numbers of samples: [105, 45]",
     "output_type": "error",
     "traceback": [
      "\u001b[0;31m---------------------------------------------------------------------------\u001b[0m",
      "\u001b[0;31mValueError\u001b[0m                                Traceback (most recent call last)",
      "\u001b[0;32m/tmp/ipykernel_45652/2275365811.py\u001b[0m in \u001b[0;36m<module>\u001b[0;34m\u001b[0m\n\u001b[1;32m      2\u001b[0m \u001b[0;31m# 실루엣계수 : 군집 적합도를 수치로 나타낸 것\u001b[0m\u001b[0;34m\u001b[0m\u001b[0;34m\u001b[0m\u001b[0;34m\u001b[0m\u001b[0m\n\u001b[1;32m      3\u001b[0m \u001b[0;31m# 1에 가까울수록 군집이 잘된 것으로 파악\u001b[0m\u001b[0;34m\u001b[0m\u001b[0;34m\u001b[0m\u001b[0;34m\u001b[0m\u001b[0m\n\u001b[0;32m----> 4\u001b[0;31m \u001b[0msilhouette_score\u001b[0m\u001b[0;34m(\u001b[0m\u001b[0mXtrain\u001b[0m\u001b[0;34m,\u001b[0m \u001b[0mkms\u001b[0m\u001b[0;34m.\u001b[0m\u001b[0mlabels_\u001b[0m\u001b[0;34m,\u001b[0m \u001b[0mmetric\u001b[0m\u001b[0;34m=\u001b[0m\u001b[0;34m'euclidean'\u001b[0m\u001b[0;34m)\u001b[0m   \u001b[0;31m# 0.568\u001b[0m\u001b[0;34m\u001b[0m\u001b[0;34m\u001b[0m\u001b[0m\n\u001b[0m",
      "\u001b[0;32m~/.local/lib/python3.7/site-packages/sklearn/metrics/cluster/_unsupervised.py\u001b[0m in \u001b[0;36msilhouette_score\u001b[0;34m(X, labels, metric, sample_size, random_state, **kwds)\u001b[0m\n\u001b[1;32m    116\u001b[0m         \u001b[0;32melse\u001b[0m\u001b[0;34m:\u001b[0m\u001b[0;34m\u001b[0m\u001b[0;34m\u001b[0m\u001b[0m\n\u001b[1;32m    117\u001b[0m             \u001b[0mX\u001b[0m\u001b[0;34m,\u001b[0m \u001b[0mlabels\u001b[0m \u001b[0;34m=\u001b[0m \u001b[0mX\u001b[0m\u001b[0;34m[\u001b[0m\u001b[0mindices\u001b[0m\u001b[0;34m]\u001b[0m\u001b[0;34m,\u001b[0m \u001b[0mlabels\u001b[0m\u001b[0;34m[\u001b[0m\u001b[0mindices\u001b[0m\u001b[0;34m]\u001b[0m\u001b[0;34m\u001b[0m\u001b[0;34m\u001b[0m\u001b[0m\n\u001b[0;32m--> 118\u001b[0;31m     \u001b[0;32mreturn\u001b[0m \u001b[0mnp\u001b[0m\u001b[0;34m.\u001b[0m\u001b[0mmean\u001b[0m\u001b[0;34m(\u001b[0m\u001b[0msilhouette_samples\u001b[0m\u001b[0;34m(\u001b[0m\u001b[0mX\u001b[0m\u001b[0;34m,\u001b[0m \u001b[0mlabels\u001b[0m\u001b[0;34m,\u001b[0m \u001b[0mmetric\u001b[0m\u001b[0;34m=\u001b[0m\u001b[0mmetric\u001b[0m\u001b[0;34m,\u001b[0m \u001b[0;34m**\u001b[0m\u001b[0mkwds\u001b[0m\u001b[0;34m)\u001b[0m\u001b[0;34m)\u001b[0m\u001b[0;34m\u001b[0m\u001b[0;34m\u001b[0m\u001b[0m\n\u001b[0m\u001b[1;32m    119\u001b[0m \u001b[0;34m\u001b[0m\u001b[0m\n\u001b[1;32m    120\u001b[0m \u001b[0;34m\u001b[0m\u001b[0m\n",
      "\u001b[0;32m~/.local/lib/python3.7/site-packages/sklearn/metrics/cluster/_unsupervised.py\u001b[0m in \u001b[0;36msilhouette_samples\u001b[0;34m(X, labels, metric, **kwds)\u001b[0m\n\u001b[1;32m    212\u001b[0m \u001b[0;34m\u001b[0m\u001b[0m\n\u001b[1;32m    213\u001b[0m     \"\"\"\n\u001b[0;32m--> 214\u001b[0;31m     \u001b[0mX\u001b[0m\u001b[0;34m,\u001b[0m \u001b[0mlabels\u001b[0m \u001b[0;34m=\u001b[0m \u001b[0mcheck_X_y\u001b[0m\u001b[0;34m(\u001b[0m\u001b[0mX\u001b[0m\u001b[0;34m,\u001b[0m \u001b[0mlabels\u001b[0m\u001b[0;34m,\u001b[0m \u001b[0maccept_sparse\u001b[0m\u001b[0;34m=\u001b[0m\u001b[0;34m[\u001b[0m\u001b[0;34m\"csc\"\u001b[0m\u001b[0;34m,\u001b[0m \u001b[0;34m\"csr\"\u001b[0m\u001b[0;34m]\u001b[0m\u001b[0;34m)\u001b[0m\u001b[0;34m\u001b[0m\u001b[0;34m\u001b[0m\u001b[0m\n\u001b[0m\u001b[1;32m    215\u001b[0m \u001b[0;34m\u001b[0m\u001b[0m\n\u001b[1;32m    216\u001b[0m     \u001b[0;31m# Check for non-zero diagonal entries in precomputed distance matrix\u001b[0m\u001b[0;34m\u001b[0m\u001b[0;34m\u001b[0m\u001b[0;34m\u001b[0m\u001b[0m\n",
      "\u001b[0;32m~/.local/lib/python3.7/site-packages/sklearn/utils/validation.py\u001b[0m in \u001b[0;36mcheck_X_y\u001b[0;34m(X, y, accept_sparse, accept_large_sparse, dtype, order, copy, force_all_finite, ensure_2d, allow_nd, multi_output, ensure_min_samples, ensure_min_features, y_numeric, estimator)\u001b[0m\n\u001b[1;32m    971\u001b[0m     \u001b[0my\u001b[0m \u001b[0;34m=\u001b[0m \u001b[0m_check_y\u001b[0m\u001b[0;34m(\u001b[0m\u001b[0my\u001b[0m\u001b[0;34m,\u001b[0m \u001b[0mmulti_output\u001b[0m\u001b[0;34m=\u001b[0m\u001b[0mmulti_output\u001b[0m\u001b[0;34m,\u001b[0m \u001b[0my_numeric\u001b[0m\u001b[0;34m=\u001b[0m\u001b[0my_numeric\u001b[0m\u001b[0;34m)\u001b[0m\u001b[0;34m\u001b[0m\u001b[0;34m\u001b[0m\u001b[0m\n\u001b[1;32m    972\u001b[0m \u001b[0;34m\u001b[0m\u001b[0m\n\u001b[0;32m--> 973\u001b[0;31m     \u001b[0mcheck_consistent_length\u001b[0m\u001b[0;34m(\u001b[0m\u001b[0mX\u001b[0m\u001b[0;34m,\u001b[0m \u001b[0my\u001b[0m\u001b[0;34m)\u001b[0m\u001b[0;34m\u001b[0m\u001b[0;34m\u001b[0m\u001b[0m\n\u001b[0m\u001b[1;32m    974\u001b[0m \u001b[0;34m\u001b[0m\u001b[0m\n\u001b[1;32m    975\u001b[0m     \u001b[0;32mreturn\u001b[0m \u001b[0mX\u001b[0m\u001b[0;34m,\u001b[0m \u001b[0my\u001b[0m\u001b[0;34m\u001b[0m\u001b[0;34m\u001b[0m\u001b[0m\n",
      "\u001b[0;32m~/.local/lib/python3.7/site-packages/sklearn/utils/validation.py\u001b[0m in \u001b[0;36mcheck_consistent_length\u001b[0;34m(*arrays)\u001b[0m\n\u001b[1;32m    331\u001b[0m         raise ValueError(\n\u001b[1;32m    332\u001b[0m             \u001b[0;34m\"Found input variables with inconsistent numbers of samples: %r\"\u001b[0m\u001b[0;34m\u001b[0m\u001b[0;34m\u001b[0m\u001b[0m\n\u001b[0;32m--> 333\u001b[0;31m             \u001b[0;34m%\u001b[0m \u001b[0;34m[\u001b[0m\u001b[0mint\u001b[0m\u001b[0;34m(\u001b[0m\u001b[0ml\u001b[0m\u001b[0;34m)\u001b[0m \u001b[0;32mfor\u001b[0m \u001b[0ml\u001b[0m \u001b[0;32min\u001b[0m \u001b[0mlengths\u001b[0m\u001b[0;34m]\u001b[0m\u001b[0;34m\u001b[0m\u001b[0;34m\u001b[0m\u001b[0m\n\u001b[0m\u001b[1;32m    334\u001b[0m         )\n\u001b[1;32m    335\u001b[0m \u001b[0;34m\u001b[0m\u001b[0m\n",
      "\u001b[0;31mValueError\u001b[0m: Found input variables with inconsistent numbers of samples: [105, 45]"
     ]
    }
   ],
   "source": [
    "# 군집 성능 평가\n",
    "# 실루엣계수 : 군집 적합도를 수치로 나타낸 것\n",
    "# 1에 가까울수록 군집이 잘된 것으로 파악\n",
    "silhouette_score(Xtrain, kms.labels_, metric='euclidean')   # 0.568"
   ]
  },
  {
   "cell_type": "code",
   "execution_count": null,
   "id": "f095905f-b382-443e-b310-a39237885e91",
   "metadata": {},
   "outputs": [],
   "source": [
    "# 반복문을 통해 적절한 군집갯수와 그에 따른 실루엣 계수 확인\n",
    "sss = []\n",
    "for k in range(2,11):\n",
    "    kms = KMeans(n_clusters=k, max_iter=100)\n",
    "    kms.fit(Xtrain)\n",
    "    ss = silhouette_score(Xtrain, kms.labels_, metric='euclidean')\n",
    "    sss.append(ss)\n",
    "    \n",
    "plt.plot(sss, 'ro-')"
   ]
  },
  {
   "cell_type": "code",
   "execution_count": null,
   "id": "d31de47d-5404-43ea-8cba-afdd63d956a0",
   "metadata": {},
   "outputs": [],
   "source": [
    "sss = []\n",
    "for k in range(2,11):\n",
    "    kms = KMeans(n_clusters=k, max_iter=100)\n",
    "    kms.fit(Xtest)\n",
    "    ss = silhouette_score(Xtest, kms.labels_, metric='euclidean')\n",
    "    sss.append(ss)\n",
    "    \n",
    "plt.plot(sss, 'ro-')"
   ]
  },
  {
   "cell_type": "code",
   "execution_count": null,
   "id": "9aed0c50-2179-4212-8fc4-a0e83d26c110",
   "metadata": {},
   "outputs": [],
   "source": [
    "# 엘보우 게수 : 군집화가 된 후 각 중심점에서 군집 데이터간의 거리를 합산한 값\n",
    "#              군집이 어느정도로 잘되어 있는지를 나타내는 값\n",
    "#              이 값이 작을수록 군집의 응집이 높다는 의미\n",
    "#              객체명.inertia_"
   ]
  },
  {
   "cell_type": "code",
   "execution_count": null,
   "id": "0481c84b-5b48-497a-9d01-c26ce3c4b1a3",
   "metadata": {},
   "outputs": [],
   "source": [
    "sss = []\n",
    "els = []\n",
    "for k in range(2,11):\n",
    "    kms = KMeans(n_clusters=k, max_iter=100)\n",
    "    kms.fit(Xtest)\n",
    "    ss = silhouette_score(Xtest, kms.labels_, metric='euclidean')\n",
    "    sss.append(ss)\n",
    "    els.append(kms.inertia_)\n",
    "    \n",
    "plt.plot(sss, 'ro-')\n",
    "# 실루엣 계수만으로는 적절한 군집의 수를 파악하기 어려움"
   ]
  },
  {
   "cell_type": "code",
   "execution_count": null,
   "id": "97357f79-a886-46e0-ad12-2287f25560eb",
   "metadata": {},
   "outputs": [],
   "source": [
    "plt.plot(els, 'ro-')\n",
    "# 엘보우 계수로 적절한 군집의 수를 파악하기에 다소 쉬운편\n",
    "# 즉, 엘보우 계수값이 급변하는 구간의 k값이 적절한 군집수로 인식함"
   ]
  },
  {
   "cell_type": "code",
   "execution_count": null,
   "id": "4d9b8007-62c5-42b4-ae00-75bf9e84f4d6",
   "metadata": {},
   "outputs": [],
   "source": []
  },
  {
   "cell_type": "code",
   "execution_count": 23,
   "id": "5379d541-8f80-4a7f-b023-61a032e62b0b",
   "metadata": {},
   "outputs": [
    {
     "data": {
      "text/html": [
       "<div>\n",
       "<style scoped>\n",
       "    .dataframe tbody tr th:only-of-type {\n",
       "        vertical-align: middle;\n",
       "    }\n",
       "\n",
       "    .dataframe tbody tr th {\n",
       "        vertical-align: top;\n",
       "    }\n",
       "\n",
       "    .dataframe thead th {\n",
       "        text-align: right;\n",
       "    }\n",
       "</style>\n",
       "<table border=\"1\" class=\"dataframe\">\n",
       "  <thead>\n",
       "    <tr style=\"text-align: right;\">\n",
       "      <th></th>\n",
       "      <th>학생번호</th>\n",
       "      <th>국어점수평균</th>\n",
       "      <th>수학점수평균</th>\n",
       "      <th>영어점수평균</th>\n",
       "      <th>과학점수평균</th>\n",
       "      <th>학업집중도</th>\n",
       "    </tr>\n",
       "  </thead>\n",
       "  <tbody>\n",
       "    <tr>\n",
       "      <th>0</th>\n",
       "      <td>1</td>\n",
       "      <td>90</td>\n",
       "      <td>75</td>\n",
       "      <td>85</td>\n",
       "      <td>60</td>\n",
       "      <td>70</td>\n",
       "    </tr>\n",
       "    <tr>\n",
       "      <th>1</th>\n",
       "      <td>2</td>\n",
       "      <td>65</td>\n",
       "      <td>90</td>\n",
       "      <td>60</td>\n",
       "      <td>88</td>\n",
       "      <td>80</td>\n",
       "    </tr>\n",
       "    <tr>\n",
       "      <th>2</th>\n",
       "      <td>3</td>\n",
       "      <td>45</td>\n",
       "      <td>53</td>\n",
       "      <td>48</td>\n",
       "      <td>50</td>\n",
       "      <td>60</td>\n",
       "    </tr>\n",
       "    <tr>\n",
       "      <th>3</th>\n",
       "      <td>4</td>\n",
       "      <td>77</td>\n",
       "      <td>96</td>\n",
       "      <td>62</td>\n",
       "      <td>92</td>\n",
       "      <td>70</td>\n",
       "    </tr>\n",
       "    <tr>\n",
       "      <th>4</th>\n",
       "      <td>5</td>\n",
       "      <td>88</td>\n",
       "      <td>89</td>\n",
       "      <td>80</td>\n",
       "      <td>82</td>\n",
       "      <td>90</td>\n",
       "    </tr>\n",
       "  </tbody>\n",
       "</table>\n",
       "</div>"
      ],
      "text/plain": [
       "   학생번호  국어점수평균  수학점수평균  영어점수평균  과학점수평균  학업집중도\n",
       "0     1      90      75      85      60     70\n",
       "1     2      65      90      60      88     80\n",
       "2     3      45      53      48      50     60\n",
       "3     4      77      96      62      92     70\n",
       "4     5      88      89      80      82     90"
      ]
     },
     "execution_count": 23,
     "metadata": {},
     "output_type": "execute_result"
    }
   ],
   "source": [
    "# 학생성적과 집중도를 기준으로 클래스를 나누려고 할 때\n",
    "# 몇 개의 반으로 나누는 것이 좋을지 알아보세요\n",
    "ac = pd.read_csv('academy.csv', encoding='euc-kr')\n",
    "ac.head()"
   ]
  },
  {
   "cell_type": "code",
   "execution_count": 24,
   "id": "0a157776-22e7-4f83-a472-9b53ab013d09",
   "metadata": {},
   "outputs": [
    {
     "name": "stdout",
     "output_type": "stream",
     "text": [
      "<class 'pandas.core.frame.DataFrame'>\n",
      "RangeIndex: 52 entries, 0 to 51\n",
      "Data columns (total 6 columns):\n",
      " #   Column  Non-Null Count  Dtype\n",
      "---  ------  --------------  -----\n",
      " 0   학생번호    52 non-null     int64\n",
      " 1   국어점수평균  52 non-null     int64\n",
      " 2   수학점수평균  52 non-null     int64\n",
      " 3   영어점수평균  52 non-null     int64\n",
      " 4   과학점수평균  52 non-null     int64\n",
      " 5   학업집중도   52 non-null     int64\n",
      "dtypes: int64(6)\n",
      "memory usage: 2.6 KB\n"
     ]
    }
   ],
   "source": [
    "ac.info()"
   ]
  },
  {
   "cell_type": "code",
   "execution_count": 25,
   "id": "ec36acf4-4871-4406-99d5-4809e0903ff8",
   "metadata": {},
   "outputs": [],
   "source": [
    "data=ac.iloc[:,1:]"
   ]
  },
  {
   "cell_type": "code",
   "execution_count": 26,
   "id": "31a77aa5-7d85-4d28-8155-01c7a36b8ce7",
   "metadata": {},
   "outputs": [],
   "source": [
    "sss = []\n",
    "els = []\n",
    "for k in range(2,11):\n",
    "    kms = KMeans(n_clusters=k, max_iter=100)\n",
    "    kms.fit(data)\n",
    "    ss = silhouette_score(data, kms.labels_, metric='euclidean')\n",
    "    sss.append(ss)\n",
    "    els.append(kms.inertia_)"
   ]
  },
  {
   "cell_type": "code",
   "execution_count": 27,
   "id": "076e0adf-7ae8-4366-855c-2e0503b369f3",
   "metadata": {},
   "outputs": [
    {
     "data": {
      "text/plain": [
       "[<matplotlib.lines.Line2D at 0x7fbb56b4ded0>]"
      ]
     },
     "execution_count": 27,
     "metadata": {},
     "output_type": "execute_result"
    },
    {
     "data": {
      "image/png": "[encoded data removed]",
      "text/plain": [
       "<Figure size 432x288 with 1 Axes>"
      ]
     },
     "metadata": {
      "needs_background": "light"
     },
     "output_type": "display_data"
    }
   ],
   "source": [
    "plt.plot(sss, 'ro-')"
   ]
  },
  {
   "cell_type": "code",
   "execution_count": 28,
   "id": "3a3f3f94-14b6-4ce5-8f2e-08f7caad02c5",
   "metadata": {},
   "outputs": [
    {
     "data": {
      "text/plain": [
       "[<matplotlib.lines.Line2D at 0x7fbb56a5db50>]"
      ]
     },
     "execution_count": 28,
     "metadata": {},
     "output_type": "execute_result"
    },
    {
     "data": {
      "image/png": "[encoded data removed]",
      "text/plain": [
       "<Figure size 432x288 with 1 Axes>"
      ]
     },
     "metadata": {
      "needs_background": "light"
     },
     "output_type": "display_data"
    }
   ],
   "source": [
    "plt.plot(els, 'ro-')"
   ]
  },
  {
   "cell_type": "code",
   "execution_count": 29,
   "id": "f2c525d6-a51b-48d2-8e04-235479d32e9f",
   "metadata": {},
   "outputs": [],
   "source": [
    "# 엘보우 계수를 확인해보니\n",
    "# 적절한 군집의 갯수는 3~4로 보임"
   ]
  },
  {
   "cell_type": "markdown",
   "id": "bdecb2cf-e9a8-4086-aeb9-218b7c512266",
   "metadata": {},
   "source": [
    "## 군집의 갯수가 3일때"
   ]
  },
  {
   "cell_type": "code",
   "execution_count": 30,
   "id": "90008eef-6390-4dbb-9756-9fff381bbb0f",
   "metadata": {},
   "outputs": [
    {
     "data": {
      "text/plain": [
       "KMeans(max_iter=100, n_clusters=3, random_state=2111151440)"
      ]
     },
     "execution_count": 30,
     "metadata": {},
     "output_type": "execute_result"
    }
   ],
   "source": [
    "# 군집의 갯수가 3일때\n",
    "kms = KMeans(n_clusters=3, max_iter=100, random_state=2111151440)\n",
    "kms.fit(data)"
   ]
  },
  {
   "cell_type": "code",
   "execution_count": 31,
   "id": "2ed79359-9b8d-48a2-b334-b824f3c0f783",
   "metadata": {},
   "outputs": [
    {
     "name": "stderr",
     "output_type": "stream",
     "text": [
      "/opt/miniconda3/lib/python3.7/site-packages/ipykernel_launcher.py:15: UserWarning: You passed a edgecolor/edgecolors ('k') for an unfilled marker ('x').  Matplotlib is ignoring the edgecolor in favor of the facecolor.  This behavior may change in the future.\n",
      "  from ipykernel import kernelapp as app\n"
     ]
    },
    {
     "data": {
      "text/plain": [
       "<matplotlib.collections.PathCollection at 0x7fbb56a37a10>"
      ]
     },
     "execution_count": 31,
     "metadata": {},
     "output_type": "execute_result"
    },
    {
     "data": {
      "image/png": "[encoded data removed]",
      "text/plain": [
       "<Figure size 432x288 with 1 Axes>"
      ]
     },
     "metadata": {
      "needs_background": "light"
     },
     "output_type": "display_data"
    }
   ],
   "source": [
    "plt.scatter(data.iloc[kms.labels_==0,0],\n",
    "            data.iloc[kms.labels_==0,1], \n",
    "            s=50, c='red', marker='o')\n",
    "\n",
    "plt.scatter(data.iloc[kms.labels_==1,0],\n",
    "            data.iloc[kms.labels_==1,1], \n",
    "            s=50, c='blue', marker='x')\n",
    "\n",
    "plt.scatter(data.iloc[kms.labels_==2,0],\n",
    "            data.iloc[kms.labels_==2,1], \n",
    "            s=50, c='green', marker='*')\n",
    "\n",
    "plt.scatter(kms.cluster_centers_[:,1],\n",
    "            kms.cluster_centers_[:,2], \n",
    "            s=250, c='pink', marker='x', edgecolors='k')"
   ]
  },
  {
   "cell_type": "code",
   "execution_count": 32,
   "id": "9d60a44c-b74b-440f-8a63-8be118629514",
   "metadata": {},
   "outputs": [
    {
     "data": {
      "text/plain": [
       "<matplotlib.collections.PathCollection at 0x7fbb569c4bd0>"
      ]
     },
     "execution_count": 32,
     "metadata": {},
     "output_type": "execute_result"
    },
    {
     "data": {
      "image/png": "[encoded data removed]",
      "text/plain": [
       "<Figure size 432x288 with 1 Axes>"
      ]
     },
     "metadata": {
      "needs_background": "light"
     },
     "output_type": "display_data"
    }
   ],
   "source": [
    "plt.scatter(data.iloc[kms.labels_==0,2],\n",
    "            data.iloc[kms.labels_==0,3], \n",
    "            s=50, c='red', marker='o')\n",
    "\n",
    "plt.scatter(data.iloc[kms.labels_==1,2],\n",
    "            data.iloc[kms.labels_==1,3], \n",
    "            s=50, c='blue', marker='x')\n",
    "\n",
    "plt.scatter(data.iloc[kms.labels_==2,2],\n",
    "            data.iloc[kms.labels_==2,3], \n",
    "            s=50, c='green', marker='*')"
   ]
  },
  {
   "cell_type": "code",
   "execution_count": 33,
   "id": "ecfcd5df-3583-4499-add9-8b69b71e87f2",
   "metadata": {},
   "outputs": [
    {
     "data": {
      "text/plain": [
       "<matplotlib.collections.PathCollection at 0x7fbb61122e10>"
      ]
     },
     "execution_count": 33,
     "metadata": {},
     "output_type": "execute_result"
    },
    {
     "data": {
      "image/png": "[encoded data removed]",
      "text/plain": [
       "<Figure size 432x288 with 1 Axes>"
      ]
     },
     "metadata": {
      "needs_background": "light"
     },
     "output_type": "display_data"
    }
   ],
   "source": [
    "plt.scatter(data.iloc[kms.labels_==0,3],\n",
    "            data.iloc[kms.labels_==0,4], \n",
    "            s=50, c='red', marker='o')\n",
    "\n",
    "plt.scatter(data.iloc[kms.labels_==1,3],\n",
    "            data.iloc[kms.labels_==1,4], \n",
    "            s=50, c='blue', marker='x')\n",
    "\n",
    "plt.scatter(data.iloc[kms.labels_==2,3],\n",
    "            data.iloc[kms.labels_==2,4], \n",
    "            s=50, c='green', marker='*')"
   ]
  },
  {
   "cell_type": "code",
   "execution_count": 34,
   "id": "d41c3016-b07a-42f5-9a6a-4f570cc38300",
   "metadata": {},
   "outputs": [
    {
     "data": {
      "text/plain": [
       "<matplotlib.collections.PathCollection at 0x7fbb5696cd10>"
      ]
     },
     "execution_count": 34,
     "metadata": {},
     "output_type": "execute_result"
    },
    {
     "data": {
      "image/png": "[encoded data removed]",
      "text/plain": [
       "<Figure size 432x288 with 1 Axes>"
      ]
     },
     "metadata": {
      "needs_background": "light"
     },
     "output_type": "display_data"
    }
   ],
   "source": [
    "plt.scatter(data.iloc[kms.labels_==0,0],\n",
    "            data.iloc[kms.labels_==0,4], \n",
    "            s=50, c='red', marker='o')\n",
    "\n",
    "plt.scatter(data.iloc[kms.labels_==1,0],\n",
    "            data.iloc[kms.labels_==1,4], \n",
    "            s=50, c='blue', marker='x')\n",
    "\n",
    "plt.scatter(data.iloc[kms.labels_==2,0],\n",
    "            data.iloc[kms.labels_==2,4], \n",
    "            s=50, c='green', marker='*')"
   ]
  },
  {
   "cell_type": "code",
   "execution_count": 35,
   "id": "05b65582-24c9-4527-b5ba-10c9460dd4de",
   "metadata": {},
   "outputs": [],
   "source": [
    "# 0,1(국어,수학)을 기준으로 나눈 그래프만 유의해보임"
   ]
  },
  {
   "cell_type": "markdown",
   "id": "aff1dc81-e55c-4658-99f7-9fc2355f63ca",
   "metadata": {},
   "source": [
    "## 군집의 갯수가 4일때"
   ]
  },
  {
   "cell_type": "code",
   "execution_count": 36,
   "id": "23dd3a41-7777-4f22-ac71-4d43d94a6a71",
   "metadata": {},
   "outputs": [
    {
     "data": {
      "text/plain": [
       "KMeans(max_iter=100, n_clusters=4, random_state=2111151440)"
      ]
     },
     "execution_count": 36,
     "metadata": {},
     "output_type": "execute_result"
    }
   ],
   "source": [
    "kms = KMeans(n_clusters=4, max_iter=100, random_state=2111151440)\n",
    "kms.fit(data)"
   ]
  },
  {
   "cell_type": "code",
   "execution_count": 37,
   "id": "3433aee3-ba76-41aa-8bda-44b3ff3f6d40",
   "metadata": {},
   "outputs": [
    {
     "data": {
      "text/plain": [
       "<matplotlib.collections.PathCollection at 0x7fbb568fdf50>"
      ]
     },
     "execution_count": 37,
     "metadata": {},
     "output_type": "execute_result"
    },
    {
     "data": {
      "image/png": "[encoded data removed]",
      "text/plain": [
       "<Figure size 432x288 with 1 Axes>"
      ]
     },
     "metadata": {
      "needs_background": "light"
     },
     "output_type": "display_data"
    }
   ],
   "source": [
    "plt.scatter(data.iloc[kms.labels_==0,0],\n",
    "            data.iloc[kms.labels_==0,1], \n",
    "            s=50, c='red', marker='o')\n",
    "\n",
    "plt.scatter(data.iloc[kms.labels_==1,0],\n",
    "            data.iloc[kms.labels_==1,1], \n",
    "            s=50, c='blue', marker='x')\n",
    "\n",
    "plt.scatter(data.iloc[kms.labels_==2,0],\n",
    "            data.iloc[kms.labels_==2,1], \n",
    "            s=50, c='green', marker='*')\n",
    "\n",
    "plt.scatter(data.iloc[kms.labels_==3,0],\n",
    "            data.iloc[kms.labels_==3,1], \n",
    "            s=50, c='navy', marker='^')"
   ]
  },
  {
   "cell_type": "code",
   "execution_count": null,
   "id": "a9c89099-555a-499f-b759-d27a1727f9d0",
   "metadata": {},
   "outputs": [],
   "source": []
  },
  {
   "cell_type": "code",
   "execution_count": null,
   "id": "c74f9e96-d289-415b-9e17-d96527274031",
   "metadata": {},
   "outputs": [],
   "source": []
  },
  {
   "cell_type": "code",
   "execution_count": null,
   "id": "d4dcc547-2548-401f-8753-95c7e701be04",
   "metadata": {},
   "outputs": [],
   "source": []
  },
  {
   "cell_type": "code",
   "execution_count": null,
   "id": "8a1fe7d2-0ee6-489f-8ee9-67b144382e34",
   "metadata": {},
   "outputs": [],
   "source": []
  },
  {
   "cell_type": "code",
   "execution_count": null,
   "id": "57acc982-2752-461a-83df-bb6d56c7838f",
   "metadata": {},
   "outputs": [],
   "source": []
  },
  {
   "cell_type": "code",
   "execution_count": null,
   "id": "3ef7dbc8-0215-4174-a530-2e510828eab3",
   "metadata": {},
   "outputs": [],
   "source": []
  },
  {
   "cell_type": "code",
   "execution_count": null,
   "id": "bb6b3b3d-f355-4427-86b3-9353a302ff79",
   "metadata": {},
   "outputs": [],
   "source": []
  }
 ],
 "metadata": {
  "kernelspec": {
   "display_name": "Python 3 (ipykernel)",
   "language": "python",
   "name": "python3"
  },
  "language_info": {
   "codemirror_mode": {
    "name": "ipython",
    "version": 3
   },
   "file_extension": ".py",
   "mimetype": "text/x-python",
   "name": "python",
   "nbconvert_exporter": "python",
   "pygments_lexer": "ipython3",
   "version": "3.7.10"
  }
 },
 "nbformat": 4,
 "nbformat_minor": 5
}
