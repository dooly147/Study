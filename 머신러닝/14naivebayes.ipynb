{
 "cells": [
  {
   "cell_type": "markdown",
   "id": "cdbf1a62-1d51-4d1d-8ad3-09a1933e7cab",
   "metadata": {},
   "source": [
    "### **나이브 베이즈 분석**\n",
    "* 조건부확률이 이용한 확률 기반 머신러닝 분류 알고리즘\n",
    "* 주사위를 굴려 짝수눈이 나올 확률P은?\n",
    "    + 어떤 사건의 확률P = 원하는 결과수 / 가능한 결과수\n",
    "    + 모든 실험의 결과가 동일한 가능성을 가진다고 가정함\n",
    "    + 이를 <span style=color:green>**고전적확률**</span>이라함\n",
    "* 상호배타적, 덧셈법칙, 여의법칙,덧셈의 일반법칙,곱셈법칙(독립사건),조건부확률\n",
    "* 동전을 100회 던졌을때 앞면이 나오는 횟수는?\n",
    "    + 전통적 확률에서는 일어난횟수/전체시도횟수로 계산\n",
    "    + 이를 경험적확률이라 함 - 일정한 확률로 반복시행\n",
    "    + 시행횟수가 충분히 했을때 어떤 사건이 일어나는 상대적 횟수는 일정한 패턴을 보인다는 의미 - <span style=color:green>**대수의 법칙**</span>\n",
    "* 만일, A 라는 도시에 수지가 태어난 경우, 이 아이가 노벨상을 받을 확률은 얼마나 될까?\n",
    "    + 이것을 경험적 확률로 계산하려면 이 아이를 여러 명 살게하고 그 중 몇명이 노벨상을 받는지 평가해보면 됨\n",
    "    + 문제는 동일한 유전자, 환경에 자란 아이를 만들수 있는가 임\n",
    "* 이러한 상황에서는 <span style=color:green>**베이즈 확률론**</span>을 이용한다\n",
    "    + 활용 가능한 정보에 기초해서 어떤 개인이 결정한 특정 사건이 발생할 가능성(확률)\n",
    "    + 일어나지 않은일에 대한 확률을 불확실성이라는 개념으로 이야기 함\n",
    "    + 즉, 이 사건과 관련된 여러가지 확률을 이용해서 새롭게 일어날 수 있는 사건에 대해 추정하는 것\n",
    "    + 이를 <span style=color:green>**주관적확률**</span>이라 함\n",
    "    + 베이즈 정리, 사전확률, 사후확률 - 나이브 베이즈"
   ]
  },
  {
   "cell_type": "markdown",
   "id": "c944e6c3-de4a-47d9-b2bc-dfcbaffd869c",
   "metadata": {},
   "source": [
    "### **중요 확률 개념**\n",
    "* <span style=color:green>**조건부 확률**</span>\n",
    "    + 어떤 사건 B가 일어났을 때 사건 A가 일어날 확률을 의미어떤 사건 B가 일어났을 때 사건 A가 일어날 확률을 의미\n",
    "    + #### $ P(A|B) = \\frac {P(A \\cap B)} {P(B)} $$ P(A|B) = \\frac {P(A \\cap B)} {P(B)} $\n",
    "* <span style=color:green><span style=color:green>**확률의 곱셈법칙확률의 곱셈법칙**</span></span>\n",
    "    + 두 가지 이상의 사건이 동시에 발생하는 확률두 가지 이상의 사건이 동시에 발생하는 확률\n",
    "    + 사건 A,B가 동시에 일어날 확률은 사건 A 발생 확률과 사건 B 발생 확률을 곱한 것과 같음사건 A,B가 동시에 일어날 확률은 사건 A 발생 확률과 사건 B 발생 확률을 곱한 것과 같음\n",
    "    + #### $ P(A ∩ B) = P(A|B)P(B) = P(B|A)P(A) $$ P(A ∩ B) = P(A|B)P(B) = P(B|A)P(A) $\n",
    "* <span style=color:green><span style=color:green>**전체 확률의 법칙전체 확률의 법칙**</span></span>\n",
    "    + 나중에 주어지는 사건 X의 확률은 그 사건의 원인을 여러가지로 나누어서,나중에 주어지는 사건 X의 확률은 그 사건의 원인을 여러가지로 나누어서, \n",
    "    + 각 원인에 대한 조건부 확률 P(X|Y)과 그 원인이 되는 확률 P(Y)의 곱에 의한 가중합으로 구할 수 있음을 말함\n",
    "    + 각 원인에 대한 조건부 확률 P(X|Y)과 그 원인이 되는 확률 P(Y)의 곱에 의한가중합으로 구할 수 있음을 말함\n",
    "    + #### $ P(A) = P(A ∩ B_1) + P(A ∩ B_2) + ... $$ P(A) = P(A ∩ B_1) + P(A ∩ B_2) + ... $"
   ]
  },
  {
   "cell_type": "markdown",
   "id": "da445723-c818-4ffc-80f2-0907a6c16dd1",
   "metadata": {},
   "source": [
    "### **베이즈 이론**\n",
    "* 18세기 영국 장로교 목사였던 토마스 베이즈는 신이 실제로 존재하는가에 대한 문제로 고심\n",
    "* 수학에 관심이 있었기 때문에 지구상의 모든 증거를 이용해서 신이 존재할 확률을 계산하는 공식을 개발하려 함\n",
    "* 후에 베이즈의 업적을 정리해서 나온 결과물\n",
    "* 이전의 경험과 현재의 증거를 토대로 어떤 사건의 확률을 추론\n",
    "* 확률 P(A|B)를 알고 있을 때, 관계가 정반대인 확률 P(B|A)를 계산\n",
    "    + ####  $ P(A|B)= \\frac { P(A)P(B|A)} { P(B) } $\n",
    "    + ####  $P(A) $ : $ A $ 의 사전확률 - 현재의 증거\n",
    "    + ####  $P(B) $ : $ B$ 의 사전확률 - 과거의 경험\n",
    "    + ####  $ P(A|B) $ : 사건 $B$가 주어졌을때 $A$의 조건부 \n",
    "        - 확률 알려진 결과에 기초한 어떤 가설에 대한 가능성\n",
    "    + ####  $ P(B|A) $ : 사건 $A$라는 증거에 대한 사후 확률 \n",
    "        - 사건 $A$가 일어났다는 것을 알고 그것이 사건 $B$로 부터 일어난 것이라고 생각되는 조건부 확률\n",
    "        \n",
    "    + #### $ P(A|B) = \\frac {P(B \\cap A)} {P(B)} = \\frac {P(B|A)P(A)} {P(B)} = \\frac {P(B|A)P(A)} {P(A ∩ B) + P(\\sim A ∩ B)}  $\n",
    "      "
   ]
  },
  {
   "cell_type": "markdown",
   "id": "442c8d03-7361-4b3b-a247-d2941c921912",
   "metadata": {},
   "source": [
    "### **몬티홀 문제 - 미국 티비쇼에서 유래한 퍼즐**\n",
    "* 3개의 문 중 하나를 선택하여 문 뒤에 있는 상품을 주는 쇼\n",
    "* 출현자가 한 문을 선택했을 때, 사회자가 다른 문을 열어 염소가 있음을 보여주고는 현재의 선택을 바꾸겠냐고 물음\n",
    "* 이때 출현자는 처음 선택을 고수하는 것이 나을까? \n",
    "* 출현자가 스포츠카를 가지려면 현재의 선택을 바꾸는게 나을까?"
   ]
  },
  {
   "cell_type": "markdown",
   "id": "f826693d-159a-4161-90d8-7db8960916cd",
   "metadata": {},
   "source": [
    "### **아들 딸 패러독스**\n",
    "* 두 아이가 있는 어떤 집에서 [첫 아이가] 남자일때 두 아이 모두가 남자일 확률은?\n",
    "* 두 아이가 있는 어떤 집에서 [한 명이] 남자일때 두 아이 모두가 남자일 확률은?"
   ]
  },
  {
   "cell_type": "markdown",
   "id": "199f2b3f-ea81-4eb3-b0d9-58cd48ab1a0e",
   "metadata": {},
   "source": [
    "### **베이즈 정리**\n",
    "* experience base prediction\n",
    "* 이전의 경험과 현재의 증거를 토대로 어떤 사건의 확률을 추론하는 알고리즘\n",
    "* 따라서, 사건이 일어날 확률을 토대로 의사결정을 하는 경우, 그와 관련된 사전정보를 얼마나 알고 있나에 따라 크게 좌우\n",
    "* 기하학 : 피타고라스 정리 = 확률학 : 베이즈 정리"
   ]
  },
  {
   "cell_type": "markdown",
   "id": "adf1d153-a06f-4b2a-ab69-b47692487a22",
   "metadata": {},
   "source": [
    "### **베이즈 정리에 대한 예제**\n",
    "* 삼키기 어려울 정도의 목에 통증 유발 - 인후염\n",
    "* 병원 방문후 검사(정확도 90%) 시행\n",
    "    + 결과 : 양성(폐암)\n",
    "* 의사 : 이 결과로 폐암일 확률은 10%도 안될 수 있음\n",
    "    + 폐암에 걸린 남성은 성인 남성 1% 정도\n",
    "* 환자 : 그래도 걱정이 되니 추가 검사 시행 - 음성(!)\n",
    "* 베이즈 정리에 근거, 실제 검사에서 양성이 나왔을때 진짜 폐암에 걸릴 확률은 ???"
   ]
  },
  {
   "cell_type": "markdown",
   "id": "e39c31b5-e7bb-477e-b2f1-dddd74a79d99",
   "metadata": {},
   "source": [
    "### <span style=color:green>**베이즈 정리**</span>:$ P(A|B) = \\frac {P(A)P(B|A)} {P(B)} $\n",
    "### <span style=color:green>**조건부확률**</span> :$ P(A \\cap B) = P(A)P(B|A) = P(B)P(A|B) $\n",
    "* ### 따라서, $ P(A|B) = \\frac {P(A \\cap B)} {P(B)}$ 로 도출가능\n",
    "* ### 결론적으로 $ P(A|B) = \\frac {P(B)P(A|B)} {P(B)}$ 로도 사용가능\n"
   ]
  },
  {
   "cell_type": "markdown",
   "id": "afc3553a-869b-4afc-8a20-f9d435c0297d",
   "metadata": {},
   "source": [
    "* ### 양성일때 폐암일 확률 = \n",
    "    +  #### $ P(폐암|양성)$  = $ \\frac {P(폐암∩양성)} {P(양성)} $ = $ \\frac {P(폐암)P(양성|폐암)} {P(양성)} $\n",
    "* ### 폐암일때 양성일 확률 = \n",
    "    +  #### $ P(양성|폐암)$ = $ \\frac {P(양성∩폐암)} {P(폐암)} $= $ \\frac {P(양성)P(폐암|양성)} {P(폐암)} $\n",
    "* 정확도 90% 검사로, 검사결과가 양성일때 폐암일 확률은? $P(폐암|양성)$ = $ 0.9 $ \n",
    "* 성인 남성이 폐암에 걸릴 확률은? $ P(폐암) = 0.01 $\n",
    "* 양성일 확률은? \n",
    "    + $ P(양성) $ \n",
    "    + 베이즈 정리와 전체 확률의 법칙을 이용\n",
    "        - 폐암이고, 검사로도 진짜 양성일 확률과 폐암이 아닌데, 검사로 양성일 확률을 더한 확률\n",
    "    + #### $P(양성|폐암)P(폐암)$ + $ P(양성|1-폐암)P(1-폐암) $\n",
    "    + #### = $ (0.9 * 0.01) + (0.1 * 0.99) = 0.10791 = 0.108 = $ 11% \n",
    "    + #### 따라서, $P(폐암|양성)$ = $ \\frac {P(폐암)P(양성|폐암)} {P(양성)}$\n",
    "    + #### = $\\frac {(0.01 * 0.9)} {0.108 = 0.083} $ = 8.3% (별거아님)\n",
    "* 시간이 지나 다시 목이 아프고 숨을 쉬기 어려워서 다시 병원에 감\n",
    "* 다시 검사(정확도99%) 해보니 역시 양성\n",
    "    + 예전 경험에 비춰 별거 아니라고 생각\n",
    "* 의사는 폐암에 걸릴 확률이 50%로 증가\n",
    "    + 절대 심각할 수 있다고 경고\n",
    "    + #### $ P(양성|폐암)P(폐암)$  + $P (양성|1-폐암)P(1-폐암) $\n",
    "    + #### = $(0.99 * 0.01) + (0.01 * 0.99)$ = $ 0.0197 $\n",
    "    + #### 따라서, P(폐암|양성) = P(폐암)P(양성|폐암) / P(양성)\n",
    "    + #### = $\\frac {(0.01 * 0.99)} {0.0197} = 0.503$ = 50% (심각함)"
   ]
  },
  {
   "cell_type": "markdown",
   "id": "d42dfcb0-75f0-4b95-bbed-2e0590444a00",
   "metadata": {},
   "source": [
    "### **나이브베이즈 예제**\n",
    "* 나이브 베이즈에서 '나이브naive'는 단순한 이란 뜻으로 모든 변수가 서로 독립이라고 가정하고 확률을 계산함\n",
    "* 사후확률값 자체를 아는 것이 중요한 것이 아니고 각각의 사후확률의 크기를 비교하는 것 만으로도 충분하기 때문에 수식의 분모는 상수처럼 취급함\n",
    "* 각 변수의 상호작용을 고려해서 확률을 구하려면 수식이 상당히 복잡해짐\n",
    "* 각 변수를 독립사건처럼 단순화함으로써 수식이 단순해지는 효과를 얻을 수 있음"
   ]
  },
  {
   "cell_type": "markdown",
   "id": "44d6c042-392c-4adb-a4be-d3bb48ca9b79",
   "metadata": {},
   "source": [
    "### 예상 연채 발생 예제\n",
    "* 집은 없고 결혼했으며, 회사경력 3년인 밥이 연채 가능성이 있는지  알아보시오"
   ]
  },
  {
   "cell_type": "markdown",
   "id": "8cf2e5df-9350-4601-aa5b-50d97e5e0c17",
   "metadata": {},
   "source": [
    "<img src='img/loan.png'>"
   ]
  },
  {
   "cell_type": "markdown",
   "id": "9f61fa9c-3a5c-4274-840f-70c5e6272af1",
   "metadata": {},
   "source": [
    "* ### $ P(A|B) = \\frac {P(A \\cap B)} {P(B)} $\n",
    "* P(연체|집,결혼,경력) = P(연체)P(집|대출) / P(집) X P(연체)P(결혼|연체) / P(결혼) X P(집) X P(연체)P(결혼|연체) / P(결혼)\n",
    "* = P(연체)P(집|연체) X P(연체)P(결혼|연체) X P(연체)P(경력|연체)\n",
    "* P(B) = 집,결혼,경력\n",
    "* P(A) = 연체할 확률"
   ]
  },
  {
   "cell_type": "markdown",
   "id": "84f76919-6d6d-45ac-8393-e60a955a15a8",
   "metadata": {},
   "source": [
    "* 밥이 연체할을 확률\n",
    "    + P(연체Y) = 3/10\n",
    "    + P(집N/Y) = 2/3\n",
    "    + P(결혼Y|Y) = 1/3\n",
    "    + P(경력3|Y) = 1/3\n",
    "        - 따라서, P(대출 $\\cap$ 집N $\\cap$ 결혼Y $\\cap$ 경력3) = $ 3/10 * 2/3 * 1/3 * 1/3 = 0.022 $\n",
    "* 밥이 연체하지 않을 확률\n",
    "    + P(연체Y) = 7/10\n",
    "    + P(집N/Y) = 4/7\n",
    "    + P(결혼Y|Y) = 4/7\n",
    "    + P(경력3|Y) = 2/7\n",
    "        - 따라서, P(연체 $\\cap$ 집N $\\cap$ 결혼Y $\\cap$ 경력3) = $ 7/10 * 4/7 * 4/7 * 4/7 = 0.065 $"
   ]
  },
  {
   "cell_type": "markdown",
   "id": "5f86ced0-3ce1-47d9-b75f-fbfad6efdf5d",
   "metadata": {},
   "source": [
    "### 영화 마케팅 문제를 나이즈베이즈로 분석\n",
    "* 영화관객의 성향을 설문조사로 정리\n",
    "* 관객의 속성으로 영화취향을 파악해 봄"
   ]
  },
  {
   "cell_type": "markdown",
   "id": "6266a101-9489-46cb-bbcd-b6d682997db6",
   "metadata": {},
   "source": [
    "* P(B) = 20대, 여, IT, 미혼, 애인없음\n",
    "* P(A) = 추천할 영화장르는?(공포, 액션, 로매틱, 스릴러, 코미디, SF, 무협)\n",
    "* 공포영화를 추천해줄 확률은?\n",
    "    + P(공포|20대) * P(공포|IT) * P(공포|미혼) * P(공포|애인없음)\n",
    "* 액션영화를 추천해줄 확률은?\n",
    "    + P(액션|20대) * P(액션|IT) * P(액션|미혼) * P(액션|애인없음)"
   ]
  },
  {
   "cell_type": "code",
   "execution_count": 56,
   "id": "abcc57b8-990f-4b54-8bb9-b4f7239b58aa",
   "metadata": {},
   "outputs": [],
   "source": [
    "import numpy as np\n",
    "import pandas as pd\n",
    "import matplotlib.pyplot as plt\n",
    "import seaborn as sns"
   ]
  },
  {
   "cell_type": "code",
   "execution_count": 57,
   "id": "76d8d82f-d46c-4a78-8ae5-35735a8c297a",
   "metadata": {},
   "outputs": [],
   "source": [
    "from sklearn.naive_bayes import MultinomialNB\n",
    "from sklearn.model_selection import train_test_split\n",
    "from sklearn.metrics import confusion_matrix\n",
    "from sklearn.metrics import accuracy_score"
   ]
  },
  {
   "cell_type": "code",
   "execution_count": 58,
   "id": "14ec2587-db52-43ba-80a5-b6256d30773c",
   "metadata": {},
   "outputs": [],
   "source": [
    "# 한글 폰트 설정\n",
    "import matplotlib as mpl\n",
    "\n",
    "# fontpath = './data/malgun.ttf'\n",
    "fontpath = '/usr/share/fonts/NanumGothic.ttf'\n",
    "mpl.font_manager.FontProperties(fname=fontpath)\n",
    "# 한글이 안보이면 위 라인을 주석치고 실행헀다가 다시 주석해제 후 실행\n",
    "\n",
    "mpl.rcParams['font.family'] = 'NanumGothic'\n",
    "mpl.rcParams['font.size'] = 12\n",
    "mpl.rcParams['axes.unicode_minus'] = False"
   ]
  },
  {
   "cell_type": "code",
   "execution_count": 59,
   "id": "81835219-d248-40e0-bcfa-050285b11a7c",
   "metadata": {},
   "outputs": [
    {
     "data": {
      "text/html": [
       "<div>\n",
       "<style scoped>\n",
       "    .dataframe tbody tr th:only-of-type {\n",
       "        vertical-align: middle;\n",
       "    }\n",
       "\n",
       "    .dataframe tbody tr th {\n",
       "        vertical-align: top;\n",
       "    }\n",
       "\n",
       "    .dataframe thead th {\n",
       "        text-align: right;\n",
       "    }\n",
       "</style>\n",
       "<table border=\"1\" class=\"dataframe\">\n",
       "  <thead>\n",
       "    <tr style=\"text-align: right;\">\n",
       "      <th></th>\n",
       "      <th>나이</th>\n",
       "      <th>성별</th>\n",
       "      <th>직업</th>\n",
       "      <th>결혼여부</th>\n",
       "      <th>이성친구</th>\n",
       "      <th>장르</th>\n",
       "    </tr>\n",
       "  </thead>\n",
       "  <tbody>\n",
       "    <tr>\n",
       "      <th>0</th>\n",
       "      <td>20대</td>\n",
       "      <td>여</td>\n",
       "      <td>디자이너</td>\n",
       "      <td>NO</td>\n",
       "      <td>YES</td>\n",
       "      <td>로맨틱</td>\n",
       "    </tr>\n",
       "    <tr>\n",
       "      <th>1</th>\n",
       "      <td>40대</td>\n",
       "      <td>남</td>\n",
       "      <td>홍보/마케팅</td>\n",
       "      <td>NO</td>\n",
       "      <td>NO</td>\n",
       "      <td>공포</td>\n",
       "    </tr>\n",
       "    <tr>\n",
       "      <th>2</th>\n",
       "      <td>10대</td>\n",
       "      <td>여</td>\n",
       "      <td>홍보/마케팅</td>\n",
       "      <td>NO</td>\n",
       "      <td>YES</td>\n",
       "      <td>로맨틱</td>\n",
       "    </tr>\n",
       "    <tr>\n",
       "      <th>3</th>\n",
       "      <td>20대</td>\n",
       "      <td>여</td>\n",
       "      <td>디자이너</td>\n",
       "      <td>YES</td>\n",
       "      <td>NO</td>\n",
       "      <td>로맨틱</td>\n",
       "    </tr>\n",
       "    <tr>\n",
       "      <th>4</th>\n",
       "      <td>10대</td>\n",
       "      <td>남</td>\n",
       "      <td>학생</td>\n",
       "      <td>NO</td>\n",
       "      <td>NO</td>\n",
       "      <td>액션</td>\n",
       "    </tr>\n",
       "  </tbody>\n",
       "</table>\n",
       "</div>"
      ],
      "text/plain": [
       "    나이 성별      직업 결혼여부 이성친구   장르\n",
       "0  20대  여    디자이너   NO  YES  로맨틱\n",
       "1  40대  남  홍보/마케팅   NO   NO   공포\n",
       "2  10대  여  홍보/마케팅   NO  YES  로맨틱\n",
       "3  20대  여    디자이너  YES   NO  로맨틱\n",
       "4  10대  남      학생   NO   NO   액션"
      ]
     },
     "execution_count": 59,
     "metadata": {},
     "output_type": "execute_result"
    }
   ],
   "source": [
    "movies = pd.read_csv('movie.csv', encoding='euc-kr')\n",
    "movies.head()"
   ]
  },
  {
   "cell_type": "code",
   "execution_count": 60,
   "id": "39d95588-4bb4-47d6-9940-3e3573991ecb",
   "metadata": {},
   "outputs": [
    {
     "data": {
      "text/plain": [
       "<AxesSubplot:xlabel='장르', ylabel='count'>"
      ]
     },
     "execution_count": 60,
     "metadata": {},
     "output_type": "execute_result"
    },
    {
     "data": {
      "image/png": "[encoded data removed]",
      "text/plain": [
       "<Figure size 432x288 with 1 Axes>"
      ]
     },
     "metadata": {
      "needs_background": "light"
     },
     "output_type": "display_data"
    }
   ],
   "source": [
    "sns.countplot(x='장르',data=movies)"
   ]
  },
  {
   "cell_type": "code",
   "execution_count": 61,
   "id": "28aca283-65d1-4de8-829a-66f222416e7e",
   "metadata": {},
   "outputs": [],
   "source": [
    "cols = ['나이','성별','직업','결혼여부','이성친구','장르']\n",
    "ncols = ['age','gender','job','marry','lover','genre']"
   ]
  },
  {
   "cell_type": "code",
   "execution_count": 62,
   "id": "55659ae0-e314-48c3-b3a4-d0fde1b9c6ae",
   "metadata": {},
   "outputs": [
    {
     "data": {
      "text/html": [
       "<div>\n",
       "<style scoped>\n",
       "    .dataframe tbody tr th:only-of-type {\n",
       "        vertical-align: middle;\n",
       "    }\n",
       "\n",
       "    .dataframe tbody tr th {\n",
       "        vertical-align: top;\n",
       "    }\n",
       "\n",
       "    .dataframe thead th {\n",
       "        text-align: right;\n",
       "    }\n",
       "</style>\n",
       "<table border=\"1\" class=\"dataframe\">\n",
       "  <thead>\n",
       "    <tr style=\"text-align: right;\">\n",
       "      <th></th>\n",
       "      <th>나이</th>\n",
       "      <th>성별</th>\n",
       "      <th>직업</th>\n",
       "      <th>결혼여부</th>\n",
       "      <th>이성친구</th>\n",
       "      <th>장르</th>\n",
       "      <th>age</th>\n",
       "      <th>gender</th>\n",
       "      <th>job</th>\n",
       "      <th>marry</th>\n",
       "      <th>lover</th>\n",
       "      <th>genre</th>\n",
       "    </tr>\n",
       "  </thead>\n",
       "  <tbody>\n",
       "    <tr>\n",
       "      <th>0</th>\n",
       "      <td>20대</td>\n",
       "      <td>여</td>\n",
       "      <td>디자이너</td>\n",
       "      <td>NO</td>\n",
       "      <td>YES</td>\n",
       "      <td>로맨틱</td>\n",
       "      <td>2</td>\n",
       "      <td>1</td>\n",
       "      <td>1</td>\n",
       "      <td>0</td>\n",
       "      <td>1</td>\n",
       "      <td>2</td>\n",
       "    </tr>\n",
       "    <tr>\n",
       "      <th>1</th>\n",
       "      <td>40대</td>\n",
       "      <td>남</td>\n",
       "      <td>홍보/마케팅</td>\n",
       "      <td>NO</td>\n",
       "      <td>NO</td>\n",
       "      <td>공포</td>\n",
       "      <td>4</td>\n",
       "      <td>0</td>\n",
       "      <td>7</td>\n",
       "      <td>0</td>\n",
       "      <td>0</td>\n",
       "      <td>1</td>\n",
       "    </tr>\n",
       "    <tr>\n",
       "      <th>2</th>\n",
       "      <td>10대</td>\n",
       "      <td>여</td>\n",
       "      <td>홍보/마케팅</td>\n",
       "      <td>NO</td>\n",
       "      <td>YES</td>\n",
       "      <td>로맨틱</td>\n",
       "      <td>0</td>\n",
       "      <td>1</td>\n",
       "      <td>7</td>\n",
       "      <td>0</td>\n",
       "      <td>1</td>\n",
       "      <td>2</td>\n",
       "    </tr>\n",
       "    <tr>\n",
       "      <th>3</th>\n",
       "      <td>20대</td>\n",
       "      <td>여</td>\n",
       "      <td>디자이너</td>\n",
       "      <td>YES</td>\n",
       "      <td>NO</td>\n",
       "      <td>로맨틱</td>\n",
       "      <td>2</td>\n",
       "      <td>1</td>\n",
       "      <td>1</td>\n",
       "      <td>1</td>\n",
       "      <td>0</td>\n",
       "      <td>2</td>\n",
       "    </tr>\n",
       "    <tr>\n",
       "      <th>4</th>\n",
       "      <td>10대</td>\n",
       "      <td>남</td>\n",
       "      <td>학생</td>\n",
       "      <td>NO</td>\n",
       "      <td>NO</td>\n",
       "      <td>액션</td>\n",
       "      <td>0</td>\n",
       "      <td>0</td>\n",
       "      <td>6</td>\n",
       "      <td>0</td>\n",
       "      <td>0</td>\n",
       "      <td>5</td>\n",
       "    </tr>\n",
       "  </tbody>\n",
       "</table>\n",
       "</div>"
      ],
      "text/plain": [
       "    나이 성별      직업 결혼여부 이성친구   장르  age  gender  job  marry  lover  genre\n",
       "0  20대  여    디자이너   NO  YES  로맨틱    2       1    1      0      1      2\n",
       "1  40대  남  홍보/마케팅   NO   NO   공포    4       0    7      0      0      1\n",
       "2  10대  여  홍보/마케팅   NO  YES  로맨틱    0       1    7      0      1      2\n",
       "3  20대  여    디자이너  YES   NO  로맨틱    2       1    1      1      0      2\n",
       "4  10대  남      학생   NO   NO   액션    0       0    6      0      0      5"
      ]
     },
     "execution_count": 62,
     "metadata": {},
     "output_type": "execute_result"
    }
   ],
   "source": [
    "for ix,c in enumerate(cols):\n",
    "    x = pd.Categorical(movies[c])\n",
    "    movies[ncols[ix]] = pd.Series(x).cat.codes\n",
    "movies.head()"
   ]
  },
  {
   "cell_type": "code",
   "execution_count": 63,
   "id": "6bfc71e6-904a-487f-8f6a-04d45605fc41",
   "metadata": {},
   "outputs": [],
   "source": [
    "# 데이터 분리\n",
    "data = movies.iloc[:, 6:11]\n",
    "target = movies.genre"
   ]
  },
  {
   "cell_type": "code",
   "execution_count": 64,
   "id": "c95c3ade-a10c-4b92-9796-6a275578ed72",
   "metadata": {},
   "outputs": [],
   "source": [
    "# 나이브베이즈 분석\n",
    "# sklearn에서 제공하는 나이브베이즈 알고리즘은 3가지\n",
    "# BernolliNB : 이진데이터 ,종속변수가 '예/아니오' 일때 사용\n",
    "# MultinomialNB : 텍스트, 다항데이터, 종속변수가 3가지 종류이상일때 사용\n",
    "# GaussianNB : 연속형데이터"
   ]
  },
  {
   "cell_type": "code",
   "execution_count": 65,
   "id": "67f40b36-7142-4ed8-88c3-7456eabdcf26",
   "metadata": {},
   "outputs": [
    {
     "data": {
      "text/plain": [
       "0.8205128205128205"
      ]
     },
     "execution_count": 65,
     "metadata": {},
     "output_type": "execute_result"
    }
   ],
   "source": [
    "bayes = MultinomialNB()\n",
    "bayes.fit(data, target)\n",
    "bayes.score(data, target)"
   ]
  },
  {
   "cell_type": "code",
   "execution_count": 66,
   "id": "6be5bb3d-78fe-4fce-a7f6-dad3dbfe04fc",
   "metadata": {},
   "outputs": [
    {
     "name": "stderr",
     "output_type": "stream",
     "text": [
      "/home/hadoop/.local/lib/python3.7/site-packages/sklearn/base.py:446: UserWarning: X does not have valid feature names, but MultinomialNB was fitted with feature names\n",
      "  \"X does not have valid feature names, but\"\n"
     ]
    },
    {
     "data": {
      "text/plain": [
       "array([0], dtype=int8)"
      ]
     },
     "execution_count": 66,
     "metadata": {},
     "output_type": "execute_result"
    }
   ],
   "source": [
    "# '20대', 여, IT, 미혼, 애인없음' 인 고객에게 추천할 영화장르는?\n",
    "cust = np.array([[2,1,0,0,0]])\n",
    "bayes.predict(cust)"
   ]
  },
  {
   "cell_type": "markdown",
   "id": "6db7ab69-d770-4f48-b40e-4ac0a9267790",
   "metadata": {},
   "source": [
    "### 연체 여부 문제를 나이브베이즈로 분석하기\n",
    "* 집은 없고 결혼했으며 회사경력 3년인 밥이 연체 가능성여부 알아보기"
   ]
  },
  {
   "cell_type": "code",
   "execution_count": 67,
   "id": "9c126cff-f601-4aaa-8121-a0170c71befe",
   "metadata": {},
   "outputs": [],
   "source": [
    "from sklearn.naive_bayes import BernoulliNB"
   ]
  },
  {
   "cell_type": "code",
   "execution_count": 68,
   "id": "99bc11af-61ae-4e35-9b99-ed018cec8ded",
   "metadata": {},
   "outputs": [
    {
     "data": {
      "text/html": [
       "<div>\n",
       "<style scoped>\n",
       "    .dataframe tbody tr th:only-of-type {\n",
       "        vertical-align: middle;\n",
       "    }\n",
       "\n",
       "    .dataframe tbody tr th {\n",
       "        vertical-align: top;\n",
       "    }\n",
       "\n",
       "    .dataframe thead th {\n",
       "        text-align: right;\n",
       "    }\n",
       "</style>\n",
       "<table border=\"1\" class=\"dataframe\">\n",
       "  <thead>\n",
       "    <tr style=\"text-align: right;\">\n",
       "      <th></th>\n",
       "      <th>home</th>\n",
       "      <th>married</th>\n",
       "      <th>jobexp</th>\n",
       "      <th>defaulted</th>\n",
       "    </tr>\n",
       "  </thead>\n",
       "  <tbody>\n",
       "    <tr>\n",
       "      <th>0</th>\n",
       "      <td>yes</td>\n",
       "      <td>single</td>\n",
       "      <td>3</td>\n",
       "      <td>no</td>\n",
       "    </tr>\n",
       "    <tr>\n",
       "      <th>1</th>\n",
       "      <td>no</td>\n",
       "      <td>married</td>\n",
       "      <td>4</td>\n",
       "      <td>no</td>\n",
       "    </tr>\n",
       "    <tr>\n",
       "      <th>2</th>\n",
       "      <td>no</td>\n",
       "      <td>single</td>\n",
       "      <td>5</td>\n",
       "      <td>no</td>\n",
       "    </tr>\n",
       "    <tr>\n",
       "      <th>3</th>\n",
       "      <td>yes</td>\n",
       "      <td>married</td>\n",
       "      <td>4</td>\n",
       "      <td>no</td>\n",
       "    </tr>\n",
       "    <tr>\n",
       "      <th>4</th>\n",
       "      <td>no</td>\n",
       "      <td>divorced</td>\n",
       "      <td>2</td>\n",
       "      <td>yes</td>\n",
       "    </tr>\n",
       "  </tbody>\n",
       "</table>\n",
       "</div>"
      ],
      "text/plain": [
       "  home   married  jobexp defaulted\n",
       "0  yes    single       3        no\n",
       "1   no   married       4        no\n",
       "2   no    single       5        no\n",
       "3  yes   married       4        no\n",
       "4   no  divorced       2       yes"
      ]
     },
     "execution_count": 68,
     "metadata": {},
     "output_type": "execute_result"
    }
   ],
   "source": [
    "default = pd.read_csv('defaulted.csv')\n",
    "default.head()"
   ]
  },
  {
   "cell_type": "code",
   "execution_count": 69,
   "id": "49ca774a-ac11-4626-8c05-3ec01392f5c7",
   "metadata": {},
   "outputs": [
    {
     "data": {
      "text/plain": [
       "<AxesSubplot:xlabel='defaulted', ylabel='count'>"
      ]
     },
     "execution_count": 69,
     "metadata": {},
     "output_type": "execute_result"
    },
    {
     "data": {
      "image/png": "[encoded data removed]",
      "text/plain": [
       "<Figure size 432x288 with 1 Axes>"
      ]
     },
     "metadata": {
      "needs_background": "light"
     },
     "output_type": "display_data"
    }
   ],
   "source": [
    "sns.countplot(x='defaulted', data=default)"
   ]
  },
  {
   "cell_type": "code",
   "execution_count": 70,
   "id": "1785d262-e1ee-4ece-b5aa-30acf93607f9",
   "metadata": {},
   "outputs": [],
   "source": [
    "cols = ['home','married','jobexp','defaulted']\n",
    "ncols = ['home2','married2','jobexp2','defaulted2']"
   ]
  },
  {
   "cell_type": "code",
   "execution_count": 71,
   "id": "c76cbc54-5ec2-4c5e-9fcd-0d2886c8336b",
   "metadata": {},
   "outputs": [
    {
     "data": {
      "text/html": [
       "<div>\n",
       "<style scoped>\n",
       "    .dataframe tbody tr th:only-of-type {\n",
       "        vertical-align: middle;\n",
       "    }\n",
       "\n",
       "    .dataframe tbody tr th {\n",
       "        vertical-align: top;\n",
       "    }\n",
       "\n",
       "    .dataframe thead th {\n",
       "        text-align: right;\n",
       "    }\n",
       "</style>\n",
       "<table border=\"1\" class=\"dataframe\">\n",
       "  <thead>\n",
       "    <tr style=\"text-align: right;\">\n",
       "      <th></th>\n",
       "      <th>home</th>\n",
       "      <th>married</th>\n",
       "      <th>jobexp</th>\n",
       "      <th>defaulted</th>\n",
       "      <th>home2</th>\n",
       "      <th>married2</th>\n",
       "      <th>jobexp2</th>\n",
       "      <th>defaulted2</th>\n",
       "    </tr>\n",
       "  </thead>\n",
       "  <tbody>\n",
       "    <tr>\n",
       "      <th>0</th>\n",
       "      <td>yes</td>\n",
       "      <td>single</td>\n",
       "      <td>3</td>\n",
       "      <td>no</td>\n",
       "      <td>1</td>\n",
       "      <td>2</td>\n",
       "      <td>1</td>\n",
       "      <td>0</td>\n",
       "    </tr>\n",
       "    <tr>\n",
       "      <th>1</th>\n",
       "      <td>no</td>\n",
       "      <td>married</td>\n",
       "      <td>4</td>\n",
       "      <td>no</td>\n",
       "      <td>0</td>\n",
       "      <td>1</td>\n",
       "      <td>2</td>\n",
       "      <td>0</td>\n",
       "    </tr>\n",
       "    <tr>\n",
       "      <th>2</th>\n",
       "      <td>no</td>\n",
       "      <td>single</td>\n",
       "      <td>5</td>\n",
       "      <td>no</td>\n",
       "      <td>0</td>\n",
       "      <td>2</td>\n",
       "      <td>3</td>\n",
       "      <td>0</td>\n",
       "    </tr>\n",
       "    <tr>\n",
       "      <th>3</th>\n",
       "      <td>yes</td>\n",
       "      <td>married</td>\n",
       "      <td>4</td>\n",
       "      <td>no</td>\n",
       "      <td>1</td>\n",
       "      <td>1</td>\n",
       "      <td>2</td>\n",
       "      <td>0</td>\n",
       "    </tr>\n",
       "    <tr>\n",
       "      <th>4</th>\n",
       "      <td>no</td>\n",
       "      <td>divorced</td>\n",
       "      <td>2</td>\n",
       "      <td>yes</td>\n",
       "      <td>0</td>\n",
       "      <td>0</td>\n",
       "      <td>0</td>\n",
       "      <td>1</td>\n",
       "    </tr>\n",
       "  </tbody>\n",
       "</table>\n",
       "</div>"
      ],
      "text/plain": [
       "  home   married  jobexp defaulted  home2  married2  jobexp2  defaulted2\n",
       "0  yes    single       3        no      1         2        1           0\n",
       "1   no   married       4        no      0         1        2           0\n",
       "2   no    single       5        no      0         2        3           0\n",
       "3  yes   married       4        no      1         1        2           0\n",
       "4   no  divorced       2       yes      0         0        0           1"
      ]
     },
     "execution_count": 71,
     "metadata": {},
     "output_type": "execute_result"
    }
   ],
   "source": [
    "for ix,c in enumerate(cols):\n",
    "    x = pd.Categorical(default[c])\n",
    "    default[ncols[ix]] = pd.Series(x).cat.codes\n",
    "default.head()"
   ]
  },
  {
   "cell_type": "code",
   "execution_count": 72,
   "id": "f3b1bc4c-3f2f-4b3d-aee6-88820261db15",
   "metadata": {},
   "outputs": [],
   "source": [
    "data = default.iloc[:, 4:7]\n",
    "target = default.iloc[:,7]"
   ]
  },
  {
   "cell_type": "code",
   "execution_count": 73,
   "id": "9bb9748a-4b8c-4f1c-8602-b05524860601",
   "metadata": {},
   "outputs": [
    {
     "data": {
      "text/plain": [
       "0.7"
      ]
     },
     "execution_count": 73,
     "metadata": {},
     "output_type": "execute_result"
    }
   ],
   "source": [
    "bayes = BernoulliNB()\n",
    "bayes.fit(data, target)\n",
    "bayes.score(data, target)"
   ]
  },
  {
   "cell_type": "code",
   "execution_count": 74,
   "id": "01a58536-ebfc-4ab6-94cd-19c25972119b",
   "metadata": {},
   "outputs": [
    {
     "name": "stderr",
     "output_type": "stream",
     "text": [
      "/home/hadoop/.local/lib/python3.7/site-packages/sklearn/base.py:446: UserWarning: X does not have valid feature names, but BernoulliNB was fitted with feature names\n",
      "  \"X does not have valid feature names, but\"\n"
     ]
    },
    {
     "data": {
      "text/plain": [
       "array([0], dtype=int8)"
      ]
     },
     "execution_count": 74,
     "metadata": {},
     "output_type": "execute_result"
    }
   ],
   "source": [
    "bob = np.array([[0,1,1]])\n",
    "bayes.predict(bob)"
   ]
  },
  {
   "cell_type": "markdown",
   "id": "3462a594-2cd0-4a06-bde3-ae1c25caff72",
   "metadata": {},
   "source": [
    "### 대출관련 데이터를 이용한 분류 알고리즘 성능 비교\n",
    "* 로지스틱, 의사결정, 나이브베이즈 비교\n",
    "* 단, 훈련시와 테스트시 정확도 함께 출력"
   ]
  },
  {
   "cell_type": "code",
   "execution_count": 75,
   "id": "bf027fb5-cfa9-4f3d-97b2-9681d18e9ddb",
   "metadata": {},
   "outputs": [],
   "source": [
    "loan = pd.read_csv('loan.csv')"
   ]
  },
  {
   "cell_type": "code",
   "execution_count": 76,
   "id": "65e9ea9e-8a30-45d5-a243-88361b1bd056",
   "metadata": {},
   "outputs": [
    {
     "data": {
      "text/html": [
       "<div>\n",
       "<style scoped>\n",
       "    .dataframe tbody tr th:only-of-type {\n",
       "        vertical-align: middle;\n",
       "    }\n",
       "\n",
       "    .dataframe tbody tr th {\n",
       "        vertical-align: top;\n",
       "    }\n",
       "\n",
       "    .dataframe thead th {\n",
       "        text-align: right;\n",
       "    }\n",
       "</style>\n",
       "<table border=\"1\" class=\"dataframe\">\n",
       "  <thead>\n",
       "    <tr style=\"text-align: right;\">\n",
       "      <th></th>\n",
       "      <th>loan_id</th>\n",
       "      <th>loan_purpose</th>\n",
       "      <th>is_first_loan</th>\n",
       "      <th>total_credit_card_limit</th>\n",
       "      <th>avg_percentage_credit_card_limit_used_last_year</th>\n",
       "      <th>saving_amount</th>\n",
       "      <th>checking_amount</th>\n",
       "      <th>is_employed</th>\n",
       "      <th>yearly_salary</th>\n",
       "      <th>age</th>\n",
       "      <th>dependent_number</th>\n",
       "      <th>label</th>\n",
       "    </tr>\n",
       "  </thead>\n",
       "  <tbody>\n",
       "    <tr>\n",
       "      <th>0</th>\n",
       "      <td>A_1</td>\n",
       "      <td>personal</td>\n",
       "      <td>1</td>\n",
       "      <td>7900</td>\n",
       "      <td>0.80</td>\n",
       "      <td>1103</td>\n",
       "      <td>6393</td>\n",
       "      <td>1</td>\n",
       "      <td>16400</td>\n",
       "      <td>42</td>\n",
       "      <td>4</td>\n",
       "      <td>0</td>\n",
       "    </tr>\n",
       "    <tr>\n",
       "      <th>1</th>\n",
       "      <td>A_2</td>\n",
       "      <td>personal</td>\n",
       "      <td>0</td>\n",
       "      <td>3300</td>\n",
       "      <td>0.29</td>\n",
       "      <td>2588</td>\n",
       "      <td>832</td>\n",
       "      <td>1</td>\n",
       "      <td>75500</td>\n",
       "      <td>56</td>\n",
       "      <td>1</td>\n",
       "      <td>0</td>\n",
       "    </tr>\n",
       "    <tr>\n",
       "      <th>2</th>\n",
       "      <td>A_3</td>\n",
       "      <td>personal</td>\n",
       "      <td>0</td>\n",
       "      <td>7600</td>\n",
       "      <td>0.90</td>\n",
       "      <td>1651</td>\n",
       "      <td>8868</td>\n",
       "      <td>1</td>\n",
       "      <td>59000</td>\n",
       "      <td>46</td>\n",
       "      <td>1</td>\n",
       "      <td>0</td>\n",
       "    </tr>\n",
       "    <tr>\n",
       "      <th>3</th>\n",
       "      <td>A_4</td>\n",
       "      <td>personal</td>\n",
       "      <td>1</td>\n",
       "      <td>3400</td>\n",
       "      <td>0.38</td>\n",
       "      <td>1269</td>\n",
       "      <td>6863</td>\n",
       "      <td>1</td>\n",
       "      <td>26000</td>\n",
       "      <td>55</td>\n",
       "      <td>8</td>\n",
       "      <td>0</td>\n",
       "    </tr>\n",
       "    <tr>\n",
       "      <th>4</th>\n",
       "      <td>A_5</td>\n",
       "      <td>emergency</td>\n",
       "      <td>0</td>\n",
       "      <td>2600</td>\n",
       "      <td>0.89</td>\n",
       "      <td>1310</td>\n",
       "      <td>3423</td>\n",
       "      <td>1</td>\n",
       "      <td>9700</td>\n",
       "      <td>41</td>\n",
       "      <td>4</td>\n",
       "      <td>1</td>\n",
       "    </tr>\n",
       "  </tbody>\n",
       "</table>\n",
       "</div>"
      ],
      "text/plain": [
       "  loan_id loan_purpose  is_first_loan  total_credit_card_limit  \\\n",
       "0     A_1     personal              1                     7900   \n",
       "1     A_2     personal              0                     3300   \n",
       "2     A_3     personal              0                     7600   \n",
       "3     A_4     personal              1                     3400   \n",
       "4     A_5    emergency              0                     2600   \n",
       "\n",
       "   avg_percentage_credit_card_limit_used_last_year  saving_amount  \\\n",
       "0                                             0.80           1103   \n",
       "1                                             0.29           2588   \n",
       "2                                             0.90           1651   \n",
       "3                                             0.38           1269   \n",
       "4                                             0.89           1310   \n",
       "\n",
       "   checking_amount  is_employed  yearly_salary  age  dependent_number  label  \n",
       "0             6393            1          16400   42                 4      0  \n",
       "1              832            1          75500   56                 1      0  \n",
       "2             8868            1          59000   46                 1      0  \n",
       "3             6863            1          26000   55                 8      0  \n",
       "4             3423            1           9700   41                 4      1  "
      ]
     },
     "execution_count": 76,
     "metadata": {},
     "output_type": "execute_result"
    }
   ],
   "source": [
    "loan.head()"
   ]
  },
  {
   "cell_type": "code",
   "execution_count": 77,
   "id": "a2a6d9e0-0894-45c1-97e7-476abfb25475",
   "metadata": {},
   "outputs": [
    {
     "name": "stdout",
     "output_type": "stream",
     "text": [
      "<class 'pandas.core.frame.DataFrame'>\n",
      "RangeIndex: 46751 entries, 0 to 46750\n",
      "Data columns (total 12 columns):\n",
      " #   Column                                           Non-Null Count  Dtype  \n",
      "---  ------                                           --------------  -----  \n",
      " 0   loan_id                                          46751 non-null  object \n",
      " 1   loan_purpose                                     46751 non-null  object \n",
      " 2   is_first_loan                                    46751 non-null  int64  \n",
      " 3   total_credit_card_limit                          46751 non-null  int64  \n",
      " 4   avg_percentage_credit_card_limit_used_last_year  46751 non-null  float64\n",
      " 5   saving_amount                                    46751 non-null  int64  \n",
      " 6   checking_amount                                  46751 non-null  int64  \n",
      " 7   is_employed                                      46751 non-null  int64  \n",
      " 8   yearly_salary                                    46751 non-null  int64  \n",
      " 9   age                                              46751 non-null  int64  \n",
      " 10  dependent_number                                 46751 non-null  int64  \n",
      " 11  label                                            46751 non-null  int64  \n",
      "dtypes: float64(1), int64(9), object(2)\n",
      "memory usage: 4.3+ MB\n"
     ]
    }
   ],
   "source": [
    "loan.info()\n",
    "# saving_amount / checking amount\n",
    "# cheking account : 현금입출용도로 사용하는 계좌, 계좌유지비 존재 \n",
    "# saving account : 적금용도로 사용하는 계좌, 이자지급"
   ]
  },
  {
   "cell_type": "code",
   "execution_count": 78,
   "id": "950997f9-250c-4996-91b0-c97f5a937c24",
   "metadata": {},
   "outputs": [
    {
     "data": {
      "text/plain": [
       "0    30550\n",
       "1    16201\n",
       "Name: label, dtype: int64"
      ]
     },
     "execution_count": 78,
     "metadata": {},
     "output_type": "execute_result"
    }
   ],
   "source": [
    "loan.label.value_counts() # 0 : 대출불가"
   ]
  },
  {
   "cell_type": "code",
   "execution_count": 79,
   "id": "16ef1511-7916-4cd0-a9db-67936491ace5",
   "metadata": {},
   "outputs": [
    {
     "data": {
      "text/plain": [
       "property      11388\n",
       "operations    10580\n",
       "personal      10458\n",
       "emergency      7562\n",
       "others         6763\n",
       "Name: loan_purpose, dtype: int64"
      ]
     },
     "execution_count": 79,
     "metadata": {},
     "output_type": "execute_result"
    }
   ],
   "source": [
    "loan.loan_purpose.value_counts()"
   ]
  },
  {
   "cell_type": "code",
   "execution_count": 80,
   "id": "e358b7b6-19ca-418e-a8cc-2028fc63f0bb",
   "metadata": {},
   "outputs": [
    {
     "data": {
      "text/plain": [
       "1    25313\n",
       "0    21438\n",
       "Name: is_first_loan, dtype: int64"
      ]
     },
     "execution_count": 80,
     "metadata": {},
     "output_type": "execute_result"
    }
   ],
   "source": [
    "loan.is_first_loan.value_counts()"
   ]
  },
  {
   "cell_type": "code",
   "execution_count": 81,
   "id": "0c565af5-59a2-468a-91d2-f7e7f4b46d16",
   "metadata": {},
   "outputs": [
    {
     "data": {
      "text/plain": [
       "1    42886\n",
       "0     3865\n",
       "Name: is_employed, dtype: int64"
      ]
     },
     "execution_count": 81,
     "metadata": {},
     "output_type": "execute_result"
    }
   ],
   "source": [
    "loan.is_employed.value_counts()"
   ]
  },
  {
   "cell_type": "code",
   "execution_count": 82,
   "id": "6b14d6a2-41dd-40fe-82d1-73e0975783ca",
   "metadata": {},
   "outputs": [
    {
     "data": {
      "text/plain": [
       "1    9894\n",
       "8    8582\n",
       "2    8552\n",
       "3    6047\n",
       "4    4467\n",
       "5    3256\n",
       "6    2373\n",
       "7    1842\n",
       "0    1738\n",
       "Name: dependent_number, dtype: int64"
      ]
     },
     "execution_count": 82,
     "metadata": {},
     "output_type": "execute_result"
    }
   ],
   "source": [
    "loan.dependent_number.value_counts()"
   ]
  },
  {
   "cell_type": "code",
   "execution_count": 83,
   "id": "2efa15d2-01bf-4165-9752-aa01d77f247e",
   "metadata": {},
   "outputs": [],
   "source": [
    "# 탐색적 분석"
   ]
  },
  {
   "cell_type": "code",
   "execution_count": 84,
   "id": "2e562ab9-8448-4270-b388-b3a209a4b67d",
   "metadata": {},
   "outputs": [],
   "source": [
    "# 다양한 시각화"
   ]
  },
  {
   "cell_type": "code",
   "execution_count": 85,
   "id": "6f264c8f-e880-4241-93fe-081a6769dcad",
   "metadata": {},
   "outputs": [],
   "source": [
    "# 전처리 1) 연속형 데이터를 명목형 데이터로 변환 (파생변수 생성)"
   ]
  },
  {
   "cell_type": "code",
   "execution_count": 86,
   "id": "be7ac4a7-d325-40c6-a192-9b0d48763b3c",
   "metadata": {},
   "outputs": [],
   "source": [
    "# 전처리 2) 명목형 변수를 레이블인코딩"
   ]
  },
  {
   "cell_type": "code",
   "execution_count": 87,
   "id": "c6b52c06-950b-414b-93ac-52ae9fc7bbbf",
   "metadata": {},
   "outputs": [
    {
     "data": {
      "text/html": [
       "<div>\n",
       "<style scoped>\n",
       "    .dataframe tbody tr th:only-of-type {\n",
       "        vertical-align: middle;\n",
       "    }\n",
       "\n",
       "    .dataframe tbody tr th {\n",
       "        vertical-align: top;\n",
       "    }\n",
       "\n",
       "    .dataframe thead th {\n",
       "        text-align: right;\n",
       "    }\n",
       "</style>\n",
       "<table border=\"1\" class=\"dataframe\">\n",
       "  <thead>\n",
       "    <tr style=\"text-align: right;\">\n",
       "      <th></th>\n",
       "      <th>loan_id</th>\n",
       "      <th>loan_purpose</th>\n",
       "      <th>is_first_loan</th>\n",
       "      <th>total_credit_card_limit</th>\n",
       "      <th>avg_percentage_credit_card_limit_used_last_year</th>\n",
       "      <th>saving_amount</th>\n",
       "      <th>checking_amount</th>\n",
       "      <th>is_employed</th>\n",
       "      <th>yearly_salary</th>\n",
       "      <th>age</th>\n",
       "      <th>dependent_number</th>\n",
       "      <th>label</th>\n",
       "    </tr>\n",
       "  </thead>\n",
       "  <tbody>\n",
       "    <tr>\n",
       "      <th>0</th>\n",
       "      <td>A_1</td>\n",
       "      <td>3</td>\n",
       "      <td>1</td>\n",
       "      <td>7900</td>\n",
       "      <td>0.80</td>\n",
       "      <td>1103</td>\n",
       "      <td>6393</td>\n",
       "      <td>1</td>\n",
       "      <td>16400</td>\n",
       "      <td>42</td>\n",
       "      <td>4</td>\n",
       "      <td>0</td>\n",
       "    </tr>\n",
       "    <tr>\n",
       "      <th>1</th>\n",
       "      <td>A_2</td>\n",
       "      <td>3</td>\n",
       "      <td>0</td>\n",
       "      <td>3300</td>\n",
       "      <td>0.29</td>\n",
       "      <td>2588</td>\n",
       "      <td>832</td>\n",
       "      <td>1</td>\n",
       "      <td>75500</td>\n",
       "      <td>56</td>\n",
       "      <td>1</td>\n",
       "      <td>0</td>\n",
       "    </tr>\n",
       "    <tr>\n",
       "      <th>2</th>\n",
       "      <td>A_3</td>\n",
       "      <td>3</td>\n",
       "      <td>0</td>\n",
       "      <td>7600</td>\n",
       "      <td>0.90</td>\n",
       "      <td>1651</td>\n",
       "      <td>8868</td>\n",
       "      <td>1</td>\n",
       "      <td>59000</td>\n",
       "      <td>46</td>\n",
       "      <td>1</td>\n",
       "      <td>0</td>\n",
       "    </tr>\n",
       "    <tr>\n",
       "      <th>3</th>\n",
       "      <td>A_4</td>\n",
       "      <td>3</td>\n",
       "      <td>1</td>\n",
       "      <td>3400</td>\n",
       "      <td>0.38</td>\n",
       "      <td>1269</td>\n",
       "      <td>6863</td>\n",
       "      <td>1</td>\n",
       "      <td>26000</td>\n",
       "      <td>55</td>\n",
       "      <td>8</td>\n",
       "      <td>0</td>\n",
       "    </tr>\n",
       "    <tr>\n",
       "      <th>4</th>\n",
       "      <td>A_5</td>\n",
       "      <td>0</td>\n",
       "      <td>0</td>\n",
       "      <td>2600</td>\n",
       "      <td>0.89</td>\n",
       "      <td>1310</td>\n",
       "      <td>3423</td>\n",
       "      <td>1</td>\n",
       "      <td>9700</td>\n",
       "      <td>41</td>\n",
       "      <td>4</td>\n",
       "      <td>1</td>\n",
       "    </tr>\n",
       "  </tbody>\n",
       "</table>\n",
       "</div>"
      ],
      "text/plain": [
       "  loan_id  loan_purpose  is_first_loan  total_credit_card_limit  \\\n",
       "0     A_1             3              1                     7900   \n",
       "1     A_2             3              0                     3300   \n",
       "2     A_3             3              0                     7600   \n",
       "3     A_4             3              1                     3400   \n",
       "4     A_5             0              0                     2600   \n",
       "\n",
       "   avg_percentage_credit_card_limit_used_last_year  saving_amount  \\\n",
       "0                                             0.80           1103   \n",
       "1                                             0.29           2588   \n",
       "2                                             0.90           1651   \n",
       "3                                             0.38           1269   \n",
       "4                                             0.89           1310   \n",
       "\n",
       "   checking_amount  is_employed  yearly_salary  age  dependent_number  label  \n",
       "0             6393            1          16400   42                 4      0  \n",
       "1              832            1          75500   56                 1      0  \n",
       "2             8868            1          59000   46                 1      0  \n",
       "3             6863            1          26000   55                 8      0  \n",
       "4             3423            1           9700   41                 4      1  "
      ]
     },
     "execution_count": 87,
     "metadata": {},
     "output_type": "execute_result"
    }
   ],
   "source": [
    "loan['loan_purpose'] = pd.Categorical(loan['loan_purpose'])\n",
    "loan['loan_purpose'] = loan['loan_purpose'].cat.codes\n",
    "loan.head()"
   ]
  },
  {
   "cell_type": "code",
   "execution_count": 88,
   "id": "eb0edbd1-74c0-4c74-ad90-75bae9dd698c",
   "metadata": {},
   "outputs": [],
   "source": [
    "# 데이터 분할\n",
    "data = loan.iloc[:, 1:11]\n",
    "target = loan.label"
   ]
  },
  {
   "cell_type": "code",
   "execution_count": 94,
   "id": "d0106146-a32d-4383-a8f4-4e9d0d99e90f",
   "metadata": {},
   "outputs": [],
   "source": [
    "Xtrain, Xtest, ytrain, ytest = train_test_split(data,target, stratify=target, test_size=0.3, random_state=2111111445)"
   ]
  },
  {
   "cell_type": "code",
   "execution_count": 95,
   "id": "09bc13e9-24b6-4980-846a-143ecc07199c",
   "metadata": {},
   "outputs": [],
   "source": [
    "from sklearn.linear_model import LogisticRegression\n",
    "from sklearn.tree import DecisionTreeClassifier\n",
    "from sklearn.metrics import accuracy_score"
   ]
  },
  {
   "cell_type": "code",
   "execution_count": 96,
   "id": "40542561-8731-44b1-ac3d-789a80240606",
   "metadata": {},
   "outputs": [],
   "source": [
    "# 로지스틱 회귀\n",
    "lr = LogisticRegression(max_iter=1000)\n",
    "lr.fit(Xtrain, ytrain)\n",
    "pred = lr.predict(Xtest)"
   ]
  },
  {
   "cell_type": "code",
   "execution_count": 98,
   "id": "4ba948af-505f-4774-a35e-7578aecfac1f",
   "metadata": {},
   "outputs": [
    {
     "data": {
      "text/plain": [
       "(0.8753246753246753, 0.8797946670469129)"
      ]
     },
     "execution_count": 98,
     "metadata": {},
     "output_type": "execute_result"
    }
   ],
   "source": [
    "lr.score(Xtrain,ytrain), accuracy_score(ytest, pred)"
   ]
  },
  {
   "cell_type": "code",
   "execution_count": 100,
   "id": "12536ed9-5db4-4ea0-b1cf-93cddce7eda5",
   "metadata": {},
   "outputs": [
    {
     "data": {
      "text/plain": [
       "array([[8335,  830],\n",
       "       [ 856, 4005]])"
      ]
     },
     "execution_count": 100,
     "metadata": {},
     "output_type": "execute_result"
    }
   ],
   "source": [
    "confusion_matrix(ytest, pred)"
   ]
  },
  {
   "cell_type": "code",
   "execution_count": 113,
   "id": "c369483d-fab0-4fd8-8f5f-d959b604e11d",
   "metadata": {},
   "outputs": [],
   "source": [
    "# 의사결정 나무 \n",
    "dtc = DecisionTreeClassifier(max_depth=6)\n",
    "dtc.fit(Xtrain, ytrain)\n",
    "pred = dtc.predict(Xtest)"
   ]
  },
  {
   "cell_type": "code",
   "execution_count": 114,
   "id": "f1113416-b6af-4ac0-9303-7f95fbc75890",
   "metadata": {},
   "outputs": [
    {
     "data": {
      "text/plain": [
       "(0.905423987776929, 0.9008270355054898)"
      ]
     },
     "execution_count": 114,
     "metadata": {},
     "output_type": "execute_result"
    }
   ],
   "source": [
    "dtc.score(Xtrain,ytrain), accuracy_score(ytest, pred)"
   ]
  },
  {
   "cell_type": "code",
   "execution_count": 115,
   "id": "a02a73f5-5026-4522-997b-cc2774a4f412",
   "metadata": {},
   "outputs": [
    {
     "data": {
      "text/plain": [
       "array([[8126, 1039],\n",
       "       [ 352, 4509]])"
      ]
     },
     "execution_count": 115,
     "metadata": {},
     "output_type": "execute_result"
    }
   ],
   "source": [
    "confusion_matrix(ytest, pred)"
   ]
  },
  {
   "cell_type": "code",
   "execution_count": 126,
   "id": "d87a1079-8005-4411-b1ee-02772db68193",
   "metadata": {},
   "outputs": [],
   "source": [
    "# 나이브베이즈\n",
    "by = BernoulliNB()\n",
    "by.fit(Xtrain, ytrain)\n",
    "pred = by.predict(Xtest)"
   ]
  },
  {
   "cell_type": "code",
   "execution_count": 127,
   "id": "4f514820-a846-4a02-aa1b-5bcde7a5932e",
   "metadata": {},
   "outputs": [
    {
     "data": {
      "text/plain": [
       "(0.7033460656990069, 0.7050477684300585)"
      ]
     },
     "execution_count": 127,
     "metadata": {},
     "output_type": "execute_result"
    }
   ],
   "source": [
    "by.score(Xtrain,ytrain), accuracy_score(ytest, pred)"
   ]
  },
  {
   "cell_type": "code",
   "execution_count": 128,
   "id": "cd7e7d20-65f5-4c53-8e8e-aff6504a2b6d",
   "metadata": {},
   "outputs": [
    {
     "data": {
      "text/plain": [
       "array([[8955,  210],\n",
       "       [3927,  934]])"
      ]
     },
     "execution_count": 128,
     "metadata": {},
     "output_type": "execute_result"
    }
   ],
   "source": [
    "confusion_matrix(ytest, pred)"
   ]
  },
  {
   "cell_type": "code",
   "execution_count": 129,
   "id": "e0f77f51-1e60-4de5-81c1-50e4140b580a",
   "metadata": {},
   "outputs": [],
   "source": [
    "# 나이브베이즈 2\n",
    "by2 = MultinomialNB()\n",
    "by2.fit(Xtrain, ytrain)\n",
    "pred = by.predict(Xtest)"
   ]
  },
  {
   "cell_type": "code",
   "execution_count": 130,
   "id": "f8f59be2-3919-4a49-9738-9ba7aace409c",
   "metadata": {},
   "outputs": [
    {
     "data": {
      "text/plain": [
       "(0.6555538579067991, 0.7050477684300585)"
      ]
     },
     "execution_count": 130,
     "metadata": {},
     "output_type": "execute_result"
    }
   ],
   "source": [
    "by2.score(Xtrain,ytrain), accuracy_score(ytest, pred)"
   ]
  },
  {
   "cell_type": "code",
   "execution_count": 131,
   "id": "58e026be-92b9-41cd-af25-46d3ba42df5f",
   "metadata": {},
   "outputs": [
    {
     "data": {
      "text/plain": [
       "array([[8955,  210],\n",
       "       [3927,  934]])"
      ]
     },
     "execution_count": 131,
     "metadata": {},
     "output_type": "execute_result"
    }
   ],
   "source": [
    "confusion_matrix(ytest, pred)"
   ]
  },
  {
   "cell_type": "code",
   "execution_count": null,
   "id": "f990e873-a2ea-4ac0-ab48-54ddb1e1b9f5",
   "metadata": {},
   "outputs": [],
   "source": []
  }
 ],
 "metadata": {
  "kernelspec": {
   "display_name": "Python 3 (ipykernel)",
   "language": "python",
   "name": "python3"
  },
  "language_info": {
   "codemirror_mode": {
    "name": "ipython",
    "version": 3
   },
   "file_extension": ".py",
   "mimetype": "text/x-python",
   "name": "python",
   "nbconvert_exporter": "python",
   "pygments_lexer": "ipython3",
   "version": "3.7.10"
  }
 },
 "nbformat": 4,
 "nbformat_minor": 5
}
