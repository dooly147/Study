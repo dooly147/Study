{
 "cells": [
  {
   "cell_type": "markdown",
   "id": "2ba5b468-2acd-448c-b7bc-c1238fa89ebe",
   "metadata": {},
   "source": [
    "# 09 wrangling"
   ]
  },
  {
   "cell_type": "markdown",
   "id": "b804b58b-23ac-4e7a-a0de-942d135d8bc3",
   "metadata": {
    "tags": []
   },
   "source": [
    "## 데이터 전처리\n",
    "* 데이터를 조건에 따라 추출하고 원하는 형태로 데이터를 가공하는 것을 의미\n",
    "* 원시 데이터를 분석 목적에 맞게 다른 형태로 가공하는 것\n",
    "* 데이터 wrangling 또는 munging 이라고 함"
   ]
  },
  {
   "cell_type": "markdown",
   "id": "411f2634-85b1-40c0-ac16-e2d02e2976e8",
   "metadata": {},
   "source": [
    "## 데이터 프레임\n",
    "* 서로 다른 자료형으로 구성된 데이터들로 만들어진 2차원 배열\n",
    "* 겉으로 봤을 때는 행렬과 비슷해 보임"
   ]
  },
  {
   "cell_type": "code",
   "execution_count": 8,
   "id": "d7828d73-4595-4914-affc-03165f81a894",
   "metadata": {},
   "outputs": [
    {
     "data": {
      "text/html": [
       "<table class=\"dataframe\">\n",
       "<caption>A data.frame: 4 × 4</caption>\n",
       "<thead>\n",
       "\t<tr><th></th><th scope=col>name</th><th scope=col>eng</th><th scope=col>mat</th><th scope=col>sci</th></tr>\n",
       "\t<tr><th></th><th scope=col>&lt;fct&gt;</th><th scope=col>&lt;dbl&gt;</th><th scope=col>&lt;dbl&gt;</th><th scope=col>&lt;dbl&gt;</th></tr>\n",
       "</thead>\n",
       "<tbody>\n",
       "\t<tr><th scope=row>1</th><td>John</td><td>90</td><td>85</td><td>90</td></tr>\n",
       "\t<tr><th scope=row>2</th><td>Tom </td><td>95</td><td>96</td><td>80</td></tr>\n",
       "\t<tr><th scope=row>3</th><td>Mark</td><td>69</td><td>49</td><td>70</td></tr>\n",
       "\t<tr><th scope=row>4</th><td>Jane</td><td>78</td><td>95</td><td>60</td></tr>\n",
       "</tbody>\n",
       "</table>\n"
      ],
      "text/latex": [
       "A data.frame: 4 × 4\n",
       "\\begin{tabular}{r|llll}\n",
       "  & name & eng & mat & sci\\\\\n",
       "  & <fct> & <dbl> & <dbl> & <dbl>\\\\\n",
       "\\hline\n",
       "\t1 & John & 90 & 85 & 90\\\\\n",
       "\t2 & Tom  & 95 & 96 & 80\\\\\n",
       "\t3 & Mark & 69 & 49 & 70\\\\\n",
       "\t4 & Jane & 78 & 95 & 60\\\\\n",
       "\\end{tabular}\n"
      ],
      "text/markdown": [
       "\n",
       "A data.frame: 4 × 4\n",
       "\n",
       "| <!--/--> | name &lt;fct&gt; | eng &lt;dbl&gt; | mat &lt;dbl&gt; | sci &lt;dbl&gt; |\n",
       "|---|---|---|---|---|\n",
       "| 1 | John | 90 | 85 | 90 |\n",
       "| 2 | Tom  | 95 | 96 | 80 |\n",
       "| 3 | Mark | 69 | 49 | 70 |\n",
       "| 4 | Jane | 78 | 95 | 60 |\n",
       "\n"
      ],
      "text/plain": [
       "  name eng mat sci\n",
       "1 John 90  85  90 \n",
       "2 Tom  95  96  80 \n",
       "3 Mark 69  49  70 \n",
       "4 Jane 78  95  60 "
      ]
     },
     "metadata": {},
     "output_type": "display_data"
    }
   ],
   "source": [
    "# 성적 데이터 불러오기\n",
    "load('csv/sungjuk.rdata')\n",
    "\n",
    "head(sungjuk)"
   ]
  },
  {
   "cell_type": "markdown",
   "id": "d6f6f94b-3580-4dc6-8bbe-d06b855d7ba4",
   "metadata": {},
   "source": [
    "## 데이터프레임 각 요소 접근\n",
    "+ 데이터프레임명$변수명\n",
    "+ 데이터프레임명[인덱스, 인덱스]"
   ]
  },
  {
   "cell_type": "code",
   "execution_count": 9,
   "id": "6732a46f-3e85-4587-94ec-52619e489780",
   "metadata": {},
   "outputs": [
    {
     "data": {
      "text/html": [
       "<style>\n",
       ".list-inline {list-style: none; margin:0; padding: 0}\n",
       ".list-inline>li {display: inline-block}\n",
       ".list-inline>li:not(:last-child)::after {content: \"\\00b7\"; padding: 0 .5ex}\n",
       "</style>\n",
       "<ol class=list-inline><li>John</li><li>Tom</li><li>Mark</li><li>Jane</li></ol>\n",
       "\n",
       "<details>\n",
       "\t<summary style=display:list-item;cursor:pointer>\n",
       "\t\t<strong>Levels</strong>:\n",
       "\t</summary>\n",
       "\t<style>\n",
       "\t.list-inline {list-style: none; margin:0; padding: 0}\n",
       "\t.list-inline>li {display: inline-block}\n",
       "\t.list-inline>li:not(:last-child)::after {content: \"\\00b7\"; padding: 0 .5ex}\n",
       "\t</style>\n",
       "\t<ol class=list-inline><li>'Jane'</li><li>'John'</li><li>'Mark'</li><li>'Tom'</li></ol>\n",
       "</details>"
      ],
      "text/latex": [
       "\\begin{enumerate*}\n",
       "\\item John\n",
       "\\item Tom\n",
       "\\item Mark\n",
       "\\item Jane\n",
       "\\end{enumerate*}\n",
       "\n",
       "\\emph{Levels}: \\begin{enumerate*}\n",
       "\\item 'Jane'\n",
       "\\item 'John'\n",
       "\\item 'Mark'\n",
       "\\item 'Tom'\n",
       "\\end{enumerate*}\n"
      ],
      "text/markdown": [
       "1. John\n",
       "2. Tom\n",
       "3. Mark\n",
       "4. Jane\n",
       "\n",
       "\n",
       "\n",
       "**Levels**: 1. 'Jane'\n",
       "2. 'John'\n",
       "3. 'Mark'\n",
       "4. 'Tom'\n",
       "\n",
       "\n"
      ],
      "text/plain": [
       "[1] John Tom  Mark Jane\n",
       "Levels: Jane John Mark Tom"
      ]
     },
     "metadata": {},
     "output_type": "display_data"
    },
    {
     "data": {
      "text/html": [
       "<style>\n",
       ".list-inline {list-style: none; margin:0; padding: 0}\n",
       ".list-inline>li {display: inline-block}\n",
       ".list-inline>li:not(:last-child)::after {content: \"\\00b7\"; padding: 0 .5ex}\n",
       "</style>\n",
       "<ol class=list-inline><li>John</li><li>Tom</li><li>Mark</li><li>Jane</li></ol>\n",
       "\n",
       "<details>\n",
       "\t<summary style=display:list-item;cursor:pointer>\n",
       "\t\t<strong>Levels</strong>:\n",
       "\t</summary>\n",
       "\t<style>\n",
       "\t.list-inline {list-style: none; margin:0; padding: 0}\n",
       "\t.list-inline>li {display: inline-block}\n",
       "\t.list-inline>li:not(:last-child)::after {content: \"\\00b7\"; padding: 0 .5ex}\n",
       "\t</style>\n",
       "\t<ol class=list-inline><li>'Jane'</li><li>'John'</li><li>'Mark'</li><li>'Tom'</li></ol>\n",
       "</details>"
      ],
      "text/latex": [
       "\\begin{enumerate*}\n",
       "\\item John\n",
       "\\item Tom\n",
       "\\item Mark\n",
       "\\item Jane\n",
       "\\end{enumerate*}\n",
       "\n",
       "\\emph{Levels}: \\begin{enumerate*}\n",
       "\\item 'Jane'\n",
       "\\item 'John'\n",
       "\\item 'Mark'\n",
       "\\item 'Tom'\n",
       "\\end{enumerate*}\n"
      ],
      "text/markdown": [
       "1. John\n",
       "2. Tom\n",
       "3. Mark\n",
       "4. Jane\n",
       "\n",
       "\n",
       "\n",
       "**Levels**: 1. 'Jane'\n",
       "2. 'John'\n",
       "3. 'Mark'\n",
       "4. 'Tom'\n",
       "\n",
       "\n"
      ],
      "text/plain": [
       "[1] John Tom  Mark Jane\n",
       "Levels: Jane John Mark Tom"
      ]
     },
     "metadata": {},
     "output_type": "display_data"
    },
    {
     "data": {
      "text/html": [
       "<style>\n",
       ".list-inline {list-style: none; margin:0; padding: 0}\n",
       ".list-inline>li {display: inline-block}\n",
       ".list-inline>li:not(:last-child)::after {content: \"\\00b7\"; padding: 0 .5ex}\n",
       "</style>\n",
       "<ol class=list-inline><li>John</li><li>Tom</li><li>Mark</li><li>Jane</li></ol>\n",
       "\n",
       "<details>\n",
       "\t<summary style=display:list-item;cursor:pointer>\n",
       "\t\t<strong>Levels</strong>:\n",
       "\t</summary>\n",
       "\t<style>\n",
       "\t.list-inline {list-style: none; margin:0; padding: 0}\n",
       "\t.list-inline>li {display: inline-block}\n",
       "\t.list-inline>li:not(:last-child)::after {content: \"\\00b7\"; padding: 0 .5ex}\n",
       "\t</style>\n",
       "\t<ol class=list-inline><li>'Jane'</li><li>'John'</li><li>'Mark'</li><li>'Tom'</li></ol>\n",
       "</details>"
      ],
      "text/latex": [
       "\\begin{enumerate*}\n",
       "\\item John\n",
       "\\item Tom\n",
       "\\item Mark\n",
       "\\item Jane\n",
       "\\end{enumerate*}\n",
       "\n",
       "\\emph{Levels}: \\begin{enumerate*}\n",
       "\\item 'Jane'\n",
       "\\item 'John'\n",
       "\\item 'Mark'\n",
       "\\item 'Tom'\n",
       "\\end{enumerate*}\n"
      ],
      "text/markdown": [
       "1. John\n",
       "2. Tom\n",
       "3. Mark\n",
       "4. Jane\n",
       "\n",
       "\n",
       "\n",
       "**Levels**: 1. 'Jane'\n",
       "2. 'John'\n",
       "3. 'Mark'\n",
       "4. 'Tom'\n",
       "\n",
       "\n"
      ],
      "text/plain": [
       "[1] John Tom  Mark Jane\n",
       "Levels: Jane John Mark Tom"
      ]
     },
     "metadata": {},
     "output_type": "display_data"
    }
   ],
   "source": [
    "sungjuk$name\n",
    "sungjuk[, 1]\n",
    "sungjuk[, 'name']"
   ]
  },
  {
   "cell_type": "code",
   "execution_count": 10,
   "id": "08c73239-942e-4ff0-98d9-80d769fe6c3d",
   "metadata": {},
   "outputs": [
    {
     "data": {
      "text/html": [
       "<table class=\"dataframe\">\n",
       "<caption>A data.frame: 1 × 4</caption>\n",
       "<thead>\n",
       "\t<tr><th></th><th scope=col>name</th><th scope=col>eng</th><th scope=col>mat</th><th scope=col>sci</th></tr>\n",
       "\t<tr><th></th><th scope=col>&lt;fct&gt;</th><th scope=col>&lt;dbl&gt;</th><th scope=col>&lt;dbl&gt;</th><th scope=col>&lt;dbl&gt;</th></tr>\n",
       "</thead>\n",
       "<tbody>\n",
       "\t<tr><th scope=row>2</th><td>Tom</td><td>95</td><td>96</td><td>80</td></tr>\n",
       "</tbody>\n",
       "</table>\n"
      ],
      "text/latex": [
       "A data.frame: 1 × 4\n",
       "\\begin{tabular}{r|llll}\n",
       "  & name & eng & mat & sci\\\\\n",
       "  & <fct> & <dbl> & <dbl> & <dbl>\\\\\n",
       "\\hline\n",
       "\t2 & Tom & 95 & 96 & 80\\\\\n",
       "\\end{tabular}\n"
      ],
      "text/markdown": [
       "\n",
       "A data.frame: 1 × 4\n",
       "\n",
       "| <!--/--> | name &lt;fct&gt; | eng &lt;dbl&gt; | mat &lt;dbl&gt; | sci &lt;dbl&gt; |\n",
       "|---|---|---|---|---|\n",
       "| 2 | Tom | 95 | 96 | 80 |\n",
       "\n"
      ],
      "text/plain": [
       "  name eng mat sci\n",
       "2 Tom  95  96  80 "
      ]
     },
     "metadata": {},
     "output_type": "display_data"
    },
    {
     "data": {
      "text/html": [
       "<table class=\"dataframe\">\n",
       "<caption>A data.frame: 1 × 4</caption>\n",
       "<thead>\n",
       "\t<tr><th></th><th scope=col>name</th><th scope=col>eng</th><th scope=col>mat</th><th scope=col>sci</th></tr>\n",
       "\t<tr><th></th><th scope=col>&lt;fct&gt;</th><th scope=col>&lt;dbl&gt;</th><th scope=col>&lt;dbl&gt;</th><th scope=col>&lt;dbl&gt;</th></tr>\n",
       "</thead>\n",
       "<tbody>\n",
       "\t<tr><th scope=row>NA</th><td>NA</td><td>NA</td><td>NA</td><td>NA</td></tr>\n",
       "</tbody>\n",
       "</table>\n"
      ],
      "text/latex": [
       "A data.frame: 1 × 4\n",
       "\\begin{tabular}{r|llll}\n",
       "  & name & eng & mat & sci\\\\\n",
       "  & <fct> & <dbl> & <dbl> & <dbl>\\\\\n",
       "\\hline\n",
       "\tNA & NA & NA & NA & NA\\\\\n",
       "\\end{tabular}\n"
      ],
      "text/markdown": [
       "\n",
       "A data.frame: 1 × 4\n",
       "\n",
       "| <!--/--> | name &lt;fct&gt; | eng &lt;dbl&gt; | mat &lt;dbl&gt; | sci &lt;dbl&gt; |\n",
       "|---|---|---|---|---|\n",
       "| NA | NA | NA | NA | NA |\n",
       "\n"
      ],
      "text/plain": [
       "   name eng mat sci\n",
       "NA NA   NA  NA  NA "
      ]
     },
     "metadata": {},
     "output_type": "display_data"
    },
    {
     "data": {
      "text/html": [
       "<table class=\"dataframe\">\n",
       "<caption>A data.frame: 1 × 4</caption>\n",
       "<thead>\n",
       "\t<tr><th></th><th scope=col>name</th><th scope=col>eng</th><th scope=col>mat</th><th scope=col>sci</th></tr>\n",
       "\t<tr><th></th><th scope=col>&lt;fct&gt;</th><th scope=col>&lt;dbl&gt;</th><th scope=col>&lt;dbl&gt;</th><th scope=col>&lt;dbl&gt;</th></tr>\n",
       "</thead>\n",
       "<tbody>\n",
       "\t<tr><th scope=row>2</th><td>Tom</td><td>95</td><td>96</td><td>80</td></tr>\n",
       "</tbody>\n",
       "</table>\n"
      ],
      "text/latex": [
       "A data.frame: 1 × 4\n",
       "\\begin{tabular}{r|llll}\n",
       "  & name & eng & mat & sci\\\\\n",
       "  & <fct> & <dbl> & <dbl> & <dbl>\\\\\n",
       "\\hline\n",
       "\t2 & Tom & 95 & 96 & 80\\\\\n",
       "\\end{tabular}\n"
      ],
      "text/markdown": [
       "\n",
       "A data.frame: 1 × 4\n",
       "\n",
       "| <!--/--> | name &lt;fct&gt; | eng &lt;dbl&gt; | mat &lt;dbl&gt; | sci &lt;dbl&gt; |\n",
       "|---|---|---|---|---|\n",
       "| 2 | Tom | 95 | 96 | 80 |\n",
       "\n"
      ],
      "text/plain": [
       "  name eng mat sci\n",
       "2 Tom  95  96  80 "
      ]
     },
     "metadata": {},
     "output_type": "display_data"
    }
   ],
   "source": [
    "# Tom의 성적을 출력\n",
    "sungjuk[2, ]\n",
    "sungjuk['Tom', ]   # 데이터프레임에서는 사용불가\n",
    "sungjuk[sungjuk$name == 'Tom', ]"
   ]
  },
  {
   "cell_type": "code",
   "execution_count": 11,
   "id": "19070f2a-7473-448e-8d33-bfb233e43ae3",
   "metadata": {},
   "outputs": [
    {
     "data": {
      "text/html": [
       "<table class=\"dataframe\">\n",
       "<caption>A data.frame: 1 × 3</caption>\n",
       "<thead>\n",
       "\t<tr><th></th><th scope=col>eng</th><th scope=col>mat</th><th scope=col>sci</th></tr>\n",
       "\t<tr><th></th><th scope=col>&lt;dbl&gt;</th><th scope=col>&lt;dbl&gt;</th><th scope=col>&lt;dbl&gt;</th></tr>\n",
       "</thead>\n",
       "<tbody>\n",
       "\t<tr><th scope=row>4</th><td>78</td><td>95</td><td>60</td></tr>\n",
       "</tbody>\n",
       "</table>\n"
      ],
      "text/latex": [
       "A data.frame: 1 × 3\n",
       "\\begin{tabular}{r|lll}\n",
       "  & eng & mat & sci\\\\\n",
       "  & <dbl> & <dbl> & <dbl>\\\\\n",
       "\\hline\n",
       "\t4 & 78 & 95 & 60\\\\\n",
       "\\end{tabular}\n"
      ],
      "text/markdown": [
       "\n",
       "A data.frame: 1 × 3\n",
       "\n",
       "| <!--/--> | eng &lt;dbl&gt; | mat &lt;dbl&gt; | sci &lt;dbl&gt; |\n",
       "|---|---|---|---|\n",
       "| 4 | 78 | 95 | 60 |\n",
       "\n"
      ],
      "text/plain": [
       "  eng mat sci\n",
       "4 78  95  60 "
      ]
     },
     "metadata": {},
     "output_type": "display_data"
    },
    {
     "data": {
      "text/html": [
       "<table class=\"dataframe\">\n",
       "<caption>A data.frame: 1 × 3</caption>\n",
       "<thead>\n",
       "\t<tr><th></th><th scope=col>eng</th><th scope=col>mat</th><th scope=col>sci</th></tr>\n",
       "\t<tr><th></th><th scope=col>&lt;dbl&gt;</th><th scope=col>&lt;dbl&gt;</th><th scope=col>&lt;dbl&gt;</th></tr>\n",
       "</thead>\n",
       "<tbody>\n",
       "\t<tr><th scope=row>4</th><td>78</td><td>95</td><td>60</td></tr>\n",
       "</tbody>\n",
       "</table>\n"
      ],
      "text/latex": [
       "A data.frame: 1 × 3\n",
       "\\begin{tabular}{r|lll}\n",
       "  & eng & mat & sci\\\\\n",
       "  & <dbl> & <dbl> & <dbl>\\\\\n",
       "\\hline\n",
       "\t4 & 78 & 95 & 60\\\\\n",
       "\\end{tabular}\n"
      ],
      "text/markdown": [
       "\n",
       "A data.frame: 1 × 3\n",
       "\n",
       "| <!--/--> | eng &lt;dbl&gt; | mat &lt;dbl&gt; | sci &lt;dbl&gt; |\n",
       "|---|---|---|---|\n",
       "| 4 | 78 | 95 | 60 |\n",
       "\n"
      ],
      "text/plain": [
       "  eng mat sci\n",
       "4 78  95  60 "
      ]
     },
     "metadata": {},
     "output_type": "display_data"
    },
    {
     "data": {
      "text/html": [
       "<table class=\"dataframe\">\n",
       "<caption>A data.frame: 1 × 3</caption>\n",
       "<thead>\n",
       "\t<tr><th></th><th scope=col>eng</th><th scope=col>mat</th><th scope=col>sci</th></tr>\n",
       "\t<tr><th></th><th scope=col>&lt;dbl&gt;</th><th scope=col>&lt;dbl&gt;</th><th scope=col>&lt;dbl&gt;</th></tr>\n",
       "</thead>\n",
       "<tbody>\n",
       "\t<tr><th scope=row>4</th><td>78</td><td>95</td><td>60</td></tr>\n",
       "</tbody>\n",
       "</table>\n"
      ],
      "text/latex": [
       "A data.frame: 1 × 3\n",
       "\\begin{tabular}{r|lll}\n",
       "  & eng & mat & sci\\\\\n",
       "  & <dbl> & <dbl> & <dbl>\\\\\n",
       "\\hline\n",
       "\t4 & 78 & 95 & 60\\\\\n",
       "\\end{tabular}\n"
      ],
      "text/markdown": [
       "\n",
       "A data.frame: 1 × 3\n",
       "\n",
       "| <!--/--> | eng &lt;dbl&gt; | mat &lt;dbl&gt; | sci &lt;dbl&gt; |\n",
       "|---|---|---|---|\n",
       "| 4 | 78 | 95 | 60 |\n",
       "\n"
      ],
      "text/plain": [
       "  eng mat sci\n",
       "4 78  95  60 "
      ]
     },
     "metadata": {},
     "output_type": "display_data"
    },
    {
     "data": {
      "text/html": [
       "<table class=\"dataframe\">\n",
       "<caption>A data.frame: 1 × 3</caption>\n",
       "<thead>\n",
       "\t<tr><th></th><th scope=col>eng</th><th scope=col>mat</th><th scope=col>sci</th></tr>\n",
       "\t<tr><th></th><th scope=col>&lt;dbl&gt;</th><th scope=col>&lt;dbl&gt;</th><th scope=col>&lt;dbl&gt;</th></tr>\n",
       "</thead>\n",
       "<tbody>\n",
       "\t<tr><th scope=row>4</th><td>78</td><td>95</td><td>60</td></tr>\n",
       "</tbody>\n",
       "</table>\n"
      ],
      "text/latex": [
       "A data.frame: 1 × 3\n",
       "\\begin{tabular}{r|lll}\n",
       "  & eng & mat & sci\\\\\n",
       "  & <dbl> & <dbl> & <dbl>\\\\\n",
       "\\hline\n",
       "\t4 & 78 & 95 & 60\\\\\n",
       "\\end{tabular}\n"
      ],
      "text/markdown": [
       "\n",
       "A data.frame: 1 × 3\n",
       "\n",
       "| <!--/--> | eng &lt;dbl&gt; | mat &lt;dbl&gt; | sci &lt;dbl&gt; |\n",
       "|---|---|---|---|\n",
       "| 4 | 78 | 95 | 60 |\n",
       "\n"
      ],
      "text/plain": [
       "  eng mat sci\n",
       "4 78  95  60 "
      ]
     },
     "metadata": {},
     "output_type": "display_data"
    }
   ],
   "source": [
    "# Jane의 성적만 출력\n",
    "sungjuk[4, c(2,3,4)]\n",
    "sungjuk[4, c(2:4)]\n",
    "sungjuk[4, c('eng','mat','sci')]\n",
    "sungjuk[sungjuk$name == 'Jane', c(2:4)]"
   ]
  },
  {
   "cell_type": "markdown",
   "id": "5059203c-42aa-4ad3-a7be-b878521eeb3c",
   "metadata": {},
   "source": [
    "## 성적 데이터프레임에서 총점/평균/학점 컬럼 추가하기\n",
    "+ 데이터프레임명$변수명 <- 처리코드"
   ]
  },
  {
   "cell_type": "code",
   "execution_count": 12,
   "id": "cbfdc997-bdde-4a88-b873-bf41aced7f97",
   "metadata": {},
   "outputs": [
    {
     "data": {
      "text/html": [
       "<table class=\"dataframe\">\n",
       "<caption>A data.frame: 4 × 6</caption>\n",
       "<thead>\n",
       "\t<tr><th scope=col>name</th><th scope=col>eng</th><th scope=col>mat</th><th scope=col>sci</th><th scope=col>tot</th><th scope=col>avg</th></tr>\n",
       "\t<tr><th scope=col>&lt;fct&gt;</th><th scope=col>&lt;dbl&gt;</th><th scope=col>&lt;dbl&gt;</th><th scope=col>&lt;dbl&gt;</th><th scope=col>&lt;dbl&gt;</th><th scope=col>&lt;dbl&gt;</th></tr>\n",
       "</thead>\n",
       "<tbody>\n",
       "\t<tr><td>John</td><td>90</td><td>85</td><td>90</td><td>265</td><td>88.3</td></tr>\n",
       "\t<tr><td>Tom </td><td>95</td><td>96</td><td>80</td><td>271</td><td>90.3</td></tr>\n",
       "\t<tr><td>Mark</td><td>69</td><td>49</td><td>70</td><td>188</td><td>62.7</td></tr>\n",
       "\t<tr><td>Jane</td><td>78</td><td>95</td><td>60</td><td>233</td><td>77.7</td></tr>\n",
       "</tbody>\n",
       "</table>\n"
      ],
      "text/latex": [
       "A data.frame: 4 × 6\n",
       "\\begin{tabular}{llllll}\n",
       " name & eng & mat & sci & tot & avg\\\\\n",
       " <fct> & <dbl> & <dbl> & <dbl> & <dbl> & <dbl>\\\\\n",
       "\\hline\n",
       "\t John & 90 & 85 & 90 & 265 & 88.3\\\\\n",
       "\t Tom  & 95 & 96 & 80 & 271 & 90.3\\\\\n",
       "\t Mark & 69 & 49 & 70 & 188 & 62.7\\\\\n",
       "\t Jane & 78 & 95 & 60 & 233 & 77.7\\\\\n",
       "\\end{tabular}\n"
      ],
      "text/markdown": [
       "\n",
       "A data.frame: 4 × 6\n",
       "\n",
       "| name &lt;fct&gt; | eng &lt;dbl&gt; | mat &lt;dbl&gt; | sci &lt;dbl&gt; | tot &lt;dbl&gt; | avg &lt;dbl&gt; |\n",
       "|---|---|---|---|---|---|\n",
       "| John | 90 | 85 | 90 | 265 | 88.3 |\n",
       "| Tom  | 95 | 96 | 80 | 271 | 90.3 |\n",
       "| Mark | 69 | 49 | 70 | 188 | 62.7 |\n",
       "| Jane | 78 | 95 | 60 | 233 | 77.7 |\n",
       "\n"
      ],
      "text/plain": [
       "  name eng mat sci tot avg \n",
       "1 John 90  85  90  265 88.3\n",
       "2 Tom  95  96  80  271 90.3\n",
       "3 Mark 69  49  70  188 62.7\n",
       "4 Jane 78  95  60  233 77.7"
      ]
     },
     "metadata": {},
     "output_type": "display_data"
    }
   ],
   "source": [
    "sungjuk$tot <- sungjuk$eng + sungjuk$mat + sungjuk$sci\n",
    "sungjuk$avg <- round(sungjuk$tot / 3, 1)\n",
    "\n",
    "sungjuk"
   ]
  },
  {
   "cell_type": "markdown",
   "id": "38bb6eb9-689c-4247-b9c2-022bbfe3c7d7",
   "metadata": {},
   "source": [
    "## 변수를 줄여서 사용하기\n",
    "+ attach/detach, with, within 함수 이용"
   ]
  },
  {
   "cell_type": "code",
   "execution_count": 15,
   "id": "0aec56d7-d216-49d8-9dfc-318c2cf0ccc2",
   "metadata": {},
   "outputs": [
    {
     "data": {
      "text/html": [
       "<table class=\"dataframe\">\n",
       "<caption>A data.frame: 4 × 4</caption>\n",
       "<thead>\n",
       "\t<tr><th scope=col>name</th><th scope=col>eng</th><th scope=col>mat</th><th scope=col>sci</th></tr>\n",
       "\t<tr><th scope=col>&lt;fct&gt;</th><th scope=col>&lt;dbl&gt;</th><th scope=col>&lt;dbl&gt;</th><th scope=col>&lt;dbl&gt;</th></tr>\n",
       "</thead>\n",
       "<tbody>\n",
       "\t<tr><td>John</td><td>90</td><td>85</td><td>90</td></tr>\n",
       "\t<tr><td>Tom </td><td>95</td><td>96</td><td>80</td></tr>\n",
       "\t<tr><td>Mark</td><td>69</td><td>49</td><td>70</td></tr>\n",
       "\t<tr><td>Jane</td><td>78</td><td>95</td><td>60</td></tr>\n",
       "</tbody>\n",
       "</table>\n"
      ],
      "text/latex": [
       "A data.frame: 4 × 4\n",
       "\\begin{tabular}{llll}\n",
       " name & eng & mat & sci\\\\\n",
       " <fct> & <dbl> & <dbl> & <dbl>\\\\\n",
       "\\hline\n",
       "\t John & 90 & 85 & 90\\\\\n",
       "\t Tom  & 95 & 96 & 80\\\\\n",
       "\t Mark & 69 & 49 & 70\\\\\n",
       "\t Jane & 78 & 95 & 60\\\\\n",
       "\\end{tabular}\n"
      ],
      "text/markdown": [
       "\n",
       "A data.frame: 4 × 4\n",
       "\n",
       "| name &lt;fct&gt; | eng &lt;dbl&gt; | mat &lt;dbl&gt; | sci &lt;dbl&gt; |\n",
       "|---|---|---|---|\n",
       "| John | 90 | 85 | 90 |\n",
       "| Tom  | 95 | 96 | 80 |\n",
       "| Mark | 69 | 49 | 70 |\n",
       "| Jane | 78 | 95 | 60 |\n",
       "\n"
      ],
      "text/plain": [
       "  name eng mat sci\n",
       "1 John 90  85  90 \n",
       "2 Tom  95  96  80 \n",
       "3 Mark 69  49  70 \n",
       "4 Jane 78  95  60 "
      ]
     },
     "metadata": {},
     "output_type": "display_data"
    }
   ],
   "source": [
    "# attach(생략할 키워드)\n",
    "# dettach(생략할 키워드)\n",
    "# 기존 컬럼을 대상으로만 처리 가능\n",
    "# 파생변수 생성에는 사용불가\n",
    "load('csv/sungjuk.rdata')\n",
    "\n",
    "attach(sungjuk)\n",
    "    tot <- eng + mat + sci\n",
    "    avg <- round(tot / 3, 1)\n",
    "detach(sungjuk)\n",
    "\n",
    "sungjuk"
   ]
  },
  {
   "cell_type": "code",
   "execution_count": 16,
   "id": "4c29fd02-4285-42e7-b08b-58240c619389",
   "metadata": {},
   "outputs": [
    {
     "data": {
      "text/html": [
       "<style>\n",
       ".list-inline {list-style: none; margin:0; padding: 0}\n",
       ".list-inline>li {display: inline-block}\n",
       ".list-inline>li:not(:last-child)::after {content: \"\\00b7\"; padding: 0 .5ex}\n",
       "</style>\n",
       "<ol class=list-inline><li>265</li><li>271</li><li>188</li><li>233</li></ol>\n"
      ],
      "text/latex": [
       "\\begin{enumerate*}\n",
       "\\item 265\n",
       "\\item 271\n",
       "\\item 188\n",
       "\\item 233\n",
       "\\end{enumerate*}\n"
      ],
      "text/markdown": [
       "1. 265\n",
       "2. 271\n",
       "3. 188\n",
       "4. 233\n",
       "\n",
       "\n"
      ],
      "text/plain": [
       "[1] 265 271 188 233"
      ]
     },
     "metadata": {},
     "output_type": "display_data"
    },
    {
     "data": {
      "text/html": [
       "<style>\n",
       ".list-inline {list-style: none; margin:0; padding: 0}\n",
       ".list-inline>li {display: inline-block}\n",
       ".list-inline>li:not(:last-child)::after {content: \"\\00b7\"; padding: 0 .5ex}\n",
       "</style>\n",
       "<ol class=list-inline><li>88.3</li><li>90.3</li><li>62.7</li><li>77.7</li></ol>\n"
      ],
      "text/latex": [
       "\\begin{enumerate*}\n",
       "\\item 88.3\n",
       "\\item 90.3\n",
       "\\item 62.7\n",
       "\\item 77.7\n",
       "\\end{enumerate*}\n"
      ],
      "text/markdown": [
       "1. 88.3\n",
       "2. 90.3\n",
       "3. 62.7\n",
       "4. 77.7\n",
       "\n",
       "\n"
      ],
      "text/plain": [
       "[1] 88.3 90.3 62.7 77.7"
      ]
     },
     "metadata": {},
     "output_type": "display_data"
    },
    {
     "data": {
      "text/html": [
       "<table class=\"dataframe\">\n",
       "<caption>A data.frame: 4 × 4</caption>\n",
       "<thead>\n",
       "\t<tr><th scope=col>name</th><th scope=col>eng</th><th scope=col>mat</th><th scope=col>sci</th></tr>\n",
       "\t<tr><th scope=col>&lt;fct&gt;</th><th scope=col>&lt;dbl&gt;</th><th scope=col>&lt;dbl&gt;</th><th scope=col>&lt;dbl&gt;</th></tr>\n",
       "</thead>\n",
       "<tbody>\n",
       "\t<tr><td>John</td><td>90</td><td>85</td><td>90</td></tr>\n",
       "\t<tr><td>Tom </td><td>95</td><td>96</td><td>80</td></tr>\n",
       "\t<tr><td>Mark</td><td>69</td><td>49</td><td>70</td></tr>\n",
       "\t<tr><td>Jane</td><td>78</td><td>95</td><td>60</td></tr>\n",
       "</tbody>\n",
       "</table>\n"
      ],
      "text/latex": [
       "A data.frame: 4 × 4\n",
       "\\begin{tabular}{llll}\n",
       " name & eng & mat & sci\\\\\n",
       " <fct> & <dbl> & <dbl> & <dbl>\\\\\n",
       "\\hline\n",
       "\t John & 90 & 85 & 90\\\\\n",
       "\t Tom  & 95 & 96 & 80\\\\\n",
       "\t Mark & 69 & 49 & 70\\\\\n",
       "\t Jane & 78 & 95 & 60\\\\\n",
       "\\end{tabular}\n"
      ],
      "text/markdown": [
       "\n",
       "A data.frame: 4 × 4\n",
       "\n",
       "| name &lt;fct&gt; | eng &lt;dbl&gt; | mat &lt;dbl&gt; | sci &lt;dbl&gt; |\n",
       "|---|---|---|---|\n",
       "| John | 90 | 85 | 90 |\n",
       "| Tom  | 95 | 96 | 80 |\n",
       "| Mark | 69 | 49 | 70 |\n",
       "| Jane | 78 | 95 | 60 |\n",
       "\n"
      ],
      "text/plain": [
       "  name eng mat sci\n",
       "1 John 90  85  90 \n",
       "2 Tom  95  96  80 \n",
       "3 Mark 69  49  70 \n",
       "4 Jane 78  95  60 "
      ]
     },
     "metadata": {},
     "output_type": "display_data"
    }
   ],
   "source": [
    "attach(sungjuk)\n",
    "    eng + mat + sci\n",
    "    round((eng + mat + sci) / 3, 1)\n",
    "detach(sungjuk)\n",
    "\n",
    "sungjuk"
   ]
  },
  {
   "cell_type": "code",
   "execution_count": 18,
   "id": "7b89b2e1-6570-41cc-a435-3008f347c654",
   "metadata": {},
   "outputs": [
    {
     "data": {
      "text/html": [
       "<table class=\"dataframe\">\n",
       "<caption>A data.frame: 4 × 4</caption>\n",
       "<thead>\n",
       "\t<tr><th scope=col>name</th><th scope=col>eng</th><th scope=col>mat</th><th scope=col>sci</th></tr>\n",
       "\t<tr><th scope=col>&lt;fct&gt;</th><th scope=col>&lt;dbl&gt;</th><th scope=col>&lt;dbl&gt;</th><th scope=col>&lt;dbl&gt;</th></tr>\n",
       "</thead>\n",
       "<tbody>\n",
       "\t<tr><td>John</td><td>90</td><td>85</td><td>90</td></tr>\n",
       "\t<tr><td>Tom </td><td>95</td><td>96</td><td>80</td></tr>\n",
       "\t<tr><td>Mark</td><td>69</td><td>49</td><td>70</td></tr>\n",
       "\t<tr><td>Jane</td><td>78</td><td>95</td><td>60</td></tr>\n",
       "</tbody>\n",
       "</table>\n"
      ],
      "text/latex": [
       "A data.frame: 4 × 4\n",
       "\\begin{tabular}{llll}\n",
       " name & eng & mat & sci\\\\\n",
       " <fct> & <dbl> & <dbl> & <dbl>\\\\\n",
       "\\hline\n",
       "\t John & 90 & 85 & 90\\\\\n",
       "\t Tom  & 95 & 96 & 80\\\\\n",
       "\t Mark & 69 & 49 & 70\\\\\n",
       "\t Jane & 78 & 95 & 60\\\\\n",
       "\\end{tabular}\n"
      ],
      "text/markdown": [
       "\n",
       "A data.frame: 4 × 4\n",
       "\n",
       "| name &lt;fct&gt; | eng &lt;dbl&gt; | mat &lt;dbl&gt; | sci &lt;dbl&gt; |\n",
       "|---|---|---|---|\n",
       "| John | 90 | 85 | 90 |\n",
       "| Tom  | 95 | 96 | 80 |\n",
       "| Mark | 69 | 49 | 70 |\n",
       "| Jane | 78 | 95 | 60 |\n",
       "\n"
      ],
      "text/plain": [
       "  name eng mat sci\n",
       "1 John 90  85  90 \n",
       "2 Tom  95  96  80 \n",
       "3 Mark 69  49  70 \n",
       "4 Jane 78  95  60 "
      ]
     },
     "metadata": {},
     "output_type": "display_data"
    }
   ],
   "source": [
    "# with(생략할 키워드, {처리코드})\n",
    "# attach/detach 보다는 사용 편리\n",
    "# 차생변수 생성에는 사용불가\n",
    "load('csv/sungjuk.rdata')\n",
    "with(sungjuk, {\n",
    "    tot <- eng + mat + sci\n",
    "    avg <- round((eng + mat + sci) / 3, 1)\n",
    "})\n",
    "\n",
    "sungjuk"
   ]
  },
  {
   "cell_type": "code",
   "execution_count": 20,
   "id": "ab7d594b-f9ea-44fa-8fdd-11e9ac1a9e59",
   "metadata": {},
   "outputs": [
    {
     "data": {
      "text/html": [
       "<table class=\"dataframe\">\n",
       "<caption>A data.frame: 4 × 6</caption>\n",
       "<thead>\n",
       "\t<tr><th scope=col>name</th><th scope=col>eng</th><th scope=col>mat</th><th scope=col>sci</th><th scope=col>tot</th><th scope=col>avg</th></tr>\n",
       "\t<tr><th scope=col>&lt;fct&gt;</th><th scope=col>&lt;dbl&gt;</th><th scope=col>&lt;dbl&gt;</th><th scope=col>&lt;dbl&gt;</th><th scope=col>&lt;dbl&gt;</th><th scope=col>&lt;dbl&gt;</th></tr>\n",
       "</thead>\n",
       "<tbody>\n",
       "\t<tr><td>John</td><td>90</td><td>85</td><td>90</td><td>265</td><td>88.3</td></tr>\n",
       "\t<tr><td>Tom </td><td>95</td><td>96</td><td>80</td><td>271</td><td>90.3</td></tr>\n",
       "\t<tr><td>Mark</td><td>69</td><td>49</td><td>70</td><td>188</td><td>62.7</td></tr>\n",
       "\t<tr><td>Jane</td><td>78</td><td>95</td><td>60</td><td>233</td><td>77.7</td></tr>\n",
       "</tbody>\n",
       "</table>\n"
      ],
      "text/latex": [
       "A data.frame: 4 × 6\n",
       "\\begin{tabular}{llllll}\n",
       " name & eng & mat & sci & tot & avg\\\\\n",
       " <fct> & <dbl> & <dbl> & <dbl> & <dbl> & <dbl>\\\\\n",
       "\\hline\n",
       "\t John & 90 & 85 & 90 & 265 & 88.3\\\\\n",
       "\t Tom  & 95 & 96 & 80 & 271 & 90.3\\\\\n",
       "\t Mark & 69 & 49 & 70 & 188 & 62.7\\\\\n",
       "\t Jane & 78 & 95 & 60 & 233 & 77.7\\\\\n",
       "\\end{tabular}\n"
      ],
      "text/markdown": [
       "\n",
       "A data.frame: 4 × 6\n",
       "\n",
       "| name &lt;fct&gt; | eng &lt;dbl&gt; | mat &lt;dbl&gt; | sci &lt;dbl&gt; | tot &lt;dbl&gt; | avg &lt;dbl&gt; |\n",
       "|---|---|---|---|---|---|\n",
       "| John | 90 | 85 | 90 | 265 | 88.3 |\n",
       "| Tom  | 95 | 96 | 80 | 271 | 90.3 |\n",
       "| Mark | 69 | 49 | 70 | 188 | 62.7 |\n",
       "| Jane | 78 | 95 | 60 | 233 | 77.7 |\n",
       "\n"
      ],
      "text/plain": [
       "  name eng mat sci tot avg \n",
       "1 John 90  85  90  265 88.3\n",
       "2 Tom  95  96  80  271 90.3\n",
       "3 Mark 69  49  70  188 62.7\n",
       "4 Jane 78  95  60  233 77.7"
      ]
     },
     "metadata": {},
     "output_type": "display_data"
    }
   ],
   "source": [
    "# within(생략할 키워드, {처리코드})\n",
    "# 파생변수 생성에 사용가능\n",
    "# 단, 파생변수 생성 후 다시 데이터프레임에 저장해야함!\n",
    "load('csv/sungjuk.rdata')\n",
    "\n",
    "# 파생변수 초기화\n",
    "sungjuk$tot <- c(0,0,0,0)\n",
    "sungjuk$avg <- c(0,0,0,0)\n",
    "\n",
    "sungjuk <- within(sungjuk, {\n",
    "                tot <- eng + mat + sci\n",
    "                avg <- round(tot / 3, 1)\n",
    "            })\n",
    "\n",
    "sungjuk"
   ]
  },
  {
   "cell_type": "markdown",
   "id": "b69f0201-ca5f-45ff-97d7-4ed2cb6c1757",
   "metadata": {},
   "source": [
    "## 매니저 평점 데이터\n",
    "* 나이 컬럼의 값에 따라 다음의 기준으로 ages라는 컬럼을 생성함\n",
    "    - 나이 20~30 : 청년\n",
    "    - 나이 31~45 : 중년\n",
    "    - 나이 46~65 : 장년\n",
    "    - 나이 66~   : 노년"
   ]
  },
  {
   "cell_type": "code",
   "execution_count": 22,
   "id": "5a405878-63e7-4800-b21f-43f24216f293",
   "metadata": {},
   "outputs": [
    {
     "name": "stdout",
     "output_type": "stream",
     "text": [
      "'data.frame':\t5 obs. of  10 variables:\n",
      " $ manager: int  1 2 3 4 5\n",
      " $ date   : Factor w/ 5 levels \"05/01/14\",\"10/01/14\",..: 4 5 2 3 1\n",
      " $ country: Factor w/ 2 levels \"UK\",\"US\": 2 2 1 1 1\n",
      " $ gender : Factor w/ 2 levels \"F\",\"M\": 2 1 1 2 1\n",
      " $ age    : num  32 45 25 39 99\n",
      " $ q1     : num  5 3 3 3 2\n",
      " $ q2     : num  4 5 5 3 2\n",
      " $ q3     : num  5 2 5 4 1\n",
      " $ q4     : num  5 5 5 NA 2\n",
      " $ q5     : num  5 5 2 NA 1\n"
     ]
    }
   ],
   "source": [
    "load('csv/leadership.rdata')\n",
    "str(leadership)"
   ]
  },
  {
   "cell_type": "code",
   "execution_count": 23,
   "id": "fdbc8230-3180-46e2-b832-aea4723ca148",
   "metadata": {},
   "outputs": [
    {
     "data": {
      "text/html": [
       "<table class=\"dataframe\">\n",
       "<caption>A data.frame: 5 × 11</caption>\n",
       "<thead>\n",
       "\t<tr><th scope=col>manager</th><th scope=col>date</th><th scope=col>country</th><th scope=col>gender</th><th scope=col>age</th><th scope=col>q1</th><th scope=col>q2</th><th scope=col>q3</th><th scope=col>q4</th><th scope=col>q5</th><th scope=col>ages</th></tr>\n",
       "\t<tr><th scope=col>&lt;int&gt;</th><th scope=col>&lt;fct&gt;</th><th scope=col>&lt;fct&gt;</th><th scope=col>&lt;fct&gt;</th><th scope=col>&lt;dbl&gt;</th><th scope=col>&lt;dbl&gt;</th><th scope=col>&lt;dbl&gt;</th><th scope=col>&lt;dbl&gt;</th><th scope=col>&lt;dbl&gt;</th><th scope=col>&lt;dbl&gt;</th><th scope=col>&lt;chr&gt;</th></tr>\n",
       "</thead>\n",
       "<tbody>\n",
       "\t<tr><td>1</td><td>10/24/14</td><td>US</td><td>M</td><td>32</td><td>5</td><td>4</td><td>5</td><td> 5</td><td> 5</td><td>중년</td></tr>\n",
       "\t<tr><td>2</td><td>10/28/14</td><td>US</td><td>F</td><td>45</td><td>3</td><td>5</td><td>2</td><td> 5</td><td> 5</td><td>중년</td></tr>\n",
       "\t<tr><td>3</td><td>10/01/14</td><td>UK</td><td>F</td><td>25</td><td>3</td><td>5</td><td>5</td><td> 5</td><td> 2</td><td>청년</td></tr>\n",
       "\t<tr><td>4</td><td>10/12/14</td><td>UK</td><td>M</td><td>39</td><td>3</td><td>3</td><td>4</td><td>NA</td><td>NA</td><td>중년</td></tr>\n",
       "\t<tr><td>5</td><td>05/01/14</td><td>UK</td><td>F</td><td>99</td><td>2</td><td>2</td><td>1</td><td> 2</td><td> 1</td><td>노년</td></tr>\n",
       "</tbody>\n",
       "</table>\n"
      ],
      "text/latex": [
       "A data.frame: 5 × 11\n",
       "\\begin{tabular}{lllllllllll}\n",
       " manager & date & country & gender & age & q1 & q2 & q3 & q4 & q5 & ages\\\\\n",
       " <int> & <fct> & <fct> & <fct> & <dbl> & <dbl> & <dbl> & <dbl> & <dbl> & <dbl> & <chr>\\\\\n",
       "\\hline\n",
       "\t 1 & 10/24/14 & US & M & 32 & 5 & 4 & 5 &  5 &  5 & 중년\\\\\n",
       "\t 2 & 10/28/14 & US & F & 45 & 3 & 5 & 2 &  5 &  5 & 중년\\\\\n",
       "\t 3 & 10/01/14 & UK & F & 25 & 3 & 5 & 5 &  5 &  2 & 청년\\\\\n",
       "\t 4 & 10/12/14 & UK & M & 39 & 3 & 3 & 4 & NA & NA & 중년\\\\\n",
       "\t 5 & 05/01/14 & UK & F & 99 & 2 & 2 & 1 &  2 &  1 & 노년\\\\\n",
       "\\end{tabular}\n"
      ],
      "text/markdown": [
       "\n",
       "A data.frame: 5 × 11\n",
       "\n",
       "| manager &lt;int&gt; | date &lt;fct&gt; | country &lt;fct&gt; | gender &lt;fct&gt; | age &lt;dbl&gt; | q1 &lt;dbl&gt; | q2 &lt;dbl&gt; | q3 &lt;dbl&gt; | q4 &lt;dbl&gt; | q5 &lt;dbl&gt; | ages &lt;chr&gt; |\n",
       "|---|---|---|---|---|---|---|---|---|---|---|\n",
       "| 1 | 10/24/14 | US | M | 32 | 5 | 4 | 5 |  5 |  5 | 중년 |\n",
       "| 2 | 10/28/14 | US | F | 45 | 3 | 5 | 2 |  5 |  5 | 중년 |\n",
       "| 3 | 10/01/14 | UK | F | 25 | 3 | 5 | 5 |  5 |  2 | 청년 |\n",
       "| 4 | 10/12/14 | UK | M | 39 | 3 | 3 | 4 | NA | NA | 중년 |\n",
       "| 5 | 05/01/14 | UK | F | 99 | 2 | 2 | 1 |  2 |  1 | 노년 |\n",
       "\n"
      ],
      "text/plain": [
       "  manager date     country gender age q1 q2 q3 q4 q5 ages\n",
       "1 1       10/24/14 US      M      32  5  4  5   5  5 중년\n",
       "2 2       10/28/14 US      F      45  3  5  2   5  5 중년\n",
       "3 3       10/01/14 UK      F      25  3  5  5   5  2 청년\n",
       "4 4       10/12/14 UK      M      39  3  3  4  NA NA 중년\n",
       "5 5       05/01/14 UK      F      99  2  2  1   2  1 노년"
      ]
     },
     "metadata": {},
     "output_type": "display_data"
    }
   ],
   "source": [
    "# 파생변수 초기화\n",
    "leadership$ages <- c(0,0,0,0,0)\n",
    "\n",
    "leadership <- within(leadership, {\n",
    "                ages[age >= 20 & age <= 30] <- '청년'\n",
    "                ages[age >= 31 & age <= 45] <- '중년'\n",
    "                ages[age >= 46 & age <= 65] <- '장년'\n",
    "                ages[age >= 66] <- '노년'\n",
    "              })\n",
    "\n",
    "leadership"
   ]
  },
  {
   "cell_type": "code",
   "execution_count": null,
   "id": "03b82747-784b-4c8a-8299-41f2ae5fff31",
   "metadata": {},
   "outputs": [],
   "source": []
  },
  {
   "cell_type": "code",
   "execution_count": 24,
   "id": "83f22c5e-c85d-4dfb-bf13-aaa5b8c9ab20",
   "metadata": {},
   "outputs": [],
   "source": [
    "# 각 원소를 추출하는 방법은 boolean indexing을 이용하거나<br>\n",
    "# 전처리 전문 패키지인 dplyr을 이용함"
   ]
  },
  {
   "cell_type": "code",
   "execution_count": null,
   "id": "00912ef9-d3f9-47ea-beae-b82b9395b18e",
   "metadata": {},
   "outputs": [],
   "source": []
  },
  {
   "cell_type": "code",
   "execution_count": null,
   "id": "5021722c-cd06-4068-a937-ce6b5e77d08e",
   "metadata": {},
   "outputs": [],
   "source": []
  },
  {
   "cell_type": "code",
   "execution_count": null,
   "id": "09297dbb-d9c3-477c-b76f-48e278bb5f54",
   "metadata": {},
   "outputs": [],
   "source": []
  },
  {
   "cell_type": "code",
   "execution_count": null,
   "id": "8463e043-bcea-4370-8cf6-2315090cff58",
   "metadata": {},
   "outputs": [],
   "source": []
  },
  {
   "cell_type": "code",
   "execution_count": null,
   "id": "11a73e41-c606-4820-a661-eb0b0bc56a8d",
   "metadata": {},
   "outputs": [],
   "source": []
  },
  {
   "cell_type": "code",
   "execution_count": null,
   "id": "f7d31b82-ba63-4f9d-aa52-fb0832e33456",
   "metadata": {},
   "outputs": [],
   "source": []
  },
  {
   "cell_type": "code",
   "execution_count": null,
   "id": "6afb2adb-2860-4e01-a3de-b887947245f3",
   "metadata": {},
   "outputs": [],
   "source": []
  },
  {
   "cell_type": "code",
   "execution_count": null,
   "id": "ffe72f10-6ada-43fa-aa03-b2f8dab12010",
   "metadata": {},
   "outputs": [],
   "source": []
  }
 ],
 "metadata": {
  "kernelspec": {
   "display_name": "R",
   "language": "R",
   "name": "ir"
  },
  "language_info": {
   "codemirror_mode": "r",
   "file_extension": ".r",
   "mimetype": "text/x-r-source",
   "name": "R",
   "pygments_lexer": "r",
   "version": "3.6.3"
  }
 },
 "nbformat": 4,
 "nbformat_minor": 5
}
