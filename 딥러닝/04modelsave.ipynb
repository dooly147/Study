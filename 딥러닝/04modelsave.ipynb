{
 "cells": [
  {
   "cell_type": "markdown",
   "id": "65abcd7d-5d3e-4cf2-b864-b54f894ed5c4",
   "metadata": {},
   "source": [
    "### 다중선형회귀\n",
    "* 시간대비 성적데이터를 좀 더 정확한 예측을 위해서는 추가정보 필요\n",
    "* 공부시간외에 성적에 영향을 끼칠수 있는 다른 요인필요\n",
    "* 과외시간을 추가함 => 항이 추가 => 기울기 하나 더 추가"
   ]
  },
  {
   "cell_type": "code",
   "execution_count": 1,
   "id": "a2c81aef-f190-423e-be71-c0e459824eea",
   "metadata": {},
   "outputs": [],
   "source": [
    "import tensorflow as tf\n",
    "from tensorflow.keras.models import Sequential\n",
    "from tensorflow.keras.layers import Dense\n",
    "from tensorflow.keras.optimizers import RMSprop"
   ]
  },
  {
   "cell_type": "code",
   "execution_count": 2,
   "id": "58063873-5997-452d-add4-bcf5c237101c",
   "metadata": {},
   "outputs": [],
   "source": [
    "times = [2,4,6,8]\n",
    "lession= [0,4,2,3]\n",
    "sungjuk = [81,93,91,97]"
   ]
  },
  {
   "cell_type": "code",
   "execution_count": 3,
   "id": "f8d0e6ab-7cb1-4275-a096-3669753df95a",
   "metadata": {},
   "outputs": [],
   "source": [
    "data = [[2,0,81],[4,4,93],[6,2,91],[8,3,97]]\n",
    "xdata1 = [x[0] for x in data]\n",
    "xdata2 = [x[1] for x in data]\n",
    "ydata = [x[2] for x in data]"
   ]
  },
  {
   "cell_type": "code",
   "execution_count": 4,
   "id": "4d8bc55b-5ee7-4f2a-8201-e39f5c2d2ac3",
   "metadata": {},
   "outputs": [
    {
     "name": "stdout",
     "output_type": "stream",
     "text": [
      "WARNING:tensorflow:From /tmp/ipykernel_3571/2277070058.py:1: The name tf.random_uniform is deprecated. Please use tf.random.uniform instead.\n",
      "\n"
     ]
    }
   ],
   "source": [
    "a = tf.Variable(tf.random_uniform([1], 0, 10,\n",
    "                dtype=tf.float64, seed=1))\n",
    "b = tf.Variable(tf.random_uniform([1], 0, 10,\n",
    "                dtype=tf.float64, seed=1))\n",
    "c = tf.Variable(tf.random_uniform([1], 0, 100,\n",
    "                dtype=tf.float64, seed=1))"
   ]
  },
  {
   "cell_type": "code",
   "execution_count": 5,
   "id": "5a43d3c0-10a6-42a8-9afe-17d824b7e563",
   "metadata": {},
   "outputs": [],
   "source": [
    "y = a * xdata1 + b * xdata2 + c"
   ]
  },
  {
   "cell_type": "code",
   "execution_count": 6,
   "id": "d7e4c8eb-3d17-43a0-9448-4e826e78aaf5",
   "metadata": {},
   "outputs": [],
   "source": [
    "rmse = tf.sqrt(tf.reduce_mean(tf.square(y - ydata)))"
   ]
  },
  {
   "cell_type": "code",
   "execution_count": 7,
   "id": "861efd2b-9a81-47f4-bc3c-caa08ad275e7",
   "metadata": {},
   "outputs": [],
   "source": [
    "learn_rate = 0.1"
   ]
  },
  {
   "cell_type": "code",
   "execution_count": 8,
   "id": "d74f5ea3-5afd-4c04-9d25-01d86fbbb41a",
   "metadata": {},
   "outputs": [
    {
     "name": "stdout",
     "output_type": "stream",
     "text": [
      "WARNING:tensorflow:From /tmp/ipykernel_3571/260090609.py:1: The name tf.train.GradientDescentOptimizer is deprecated. Please use tf.compat.v1.train.GradientDescentOptimizer instead.\n",
      "\n"
     ]
    }
   ],
   "source": [
    "gradient_decent = tf.train.GradientDescentOptimizer\\\n",
    "                (learn_rate).minimize(rmse)"
   ]
  },
  {
   "cell_type": "code",
   "execution_count": 9,
   "id": "f2349edd-b044-420f-b223-4e6f1fc6193e",
   "metadata": {},
   "outputs": [
    {
     "name": "stdout",
     "output_type": "stream",
     "text": [
      "WARNING:tensorflow:From /tmp/ipykernel_3571/1521744319.py:1: The name tf.Session is deprecated. Please use tf.compat.v1.Session instead.\n",
      "\n",
      "WARNING:tensorflow:From /tmp/ipykernel_3571/1521744319.py:2: The name tf.global_variables_initializer is deprecated. Please use tf.compat.v1.global_variables_initializer instead.\n",
      "\n"
     ]
    },
    {
     "name": "stderr",
     "output_type": "stream",
     "text": [
      "2021-12-03 11:15:06.024365: I tensorflow/core/platform/cpu_feature_guard.cc:142] Your CPU supports instructions that this TensorFlow binary was not compiled to use: AVX2 AVX512F FMA\n"
     ]
    },
    {
     "name": "stdout",
     "output_type": "stream",
     "text": [
      "훈련횟수 epoch 0, RMSE 67.394,기울기1 8.582, 기울기2 8.871, 절편 91.136\n",
      "훈련횟수 epoch 10, RMSE 31.201,기울기1 3.204, 기울기2 6.344, 절편 90.187\n",
      "훈련횟수 epoch 20, RMSE 5.508,기울기1 -1.120, 기울기2 4.052, 절편 89.288\n",
      "훈련횟수 epoch 30, RMSE 5.025,기울기1 -0.919, 기울기2 3.503, 절편 88.941\n",
      "훈련횟수 epoch 40, RMSE 4.666,기울기1 -0.670, 기울기2 3.084, 절편 88.590\n",
      "훈련횟수 epoch 50, RMSE 4.378,기울기1 -0.458, 기울기2 2.753, 절편 88.225\n",
      "훈련횟수 epoch 60, RMSE 4.142,기울기1 -0.280, 기울기2 2.500, 절편 87.850\n",
      "훈련횟수 epoch 70, RMSE 3.939,기울기1 -0.131, 기울기2 2.313, 절편 87.468\n",
      "훈련횟수 epoch 80, RMSE 3.757,기울기1 -0.006, 기울기2 2.179, 절편 87.082\n",
      "훈련횟수 epoch 90, RMSE 3.586,기울기1 0.102, 기울기2 2.087, 절편 86.693\n",
      "훈련횟수 epoch 100, RMSE 3.421,기울기1 0.195, 기울기2 2.027, 절편 86.303\n",
      "훈련횟수 epoch 110, RMSE 3.261,기울기1 0.277, 기울기2 1.991, 절편 85.912\n",
      "훈련횟수 epoch 120, RMSE 3.101,기울기1 0.352, 기울기2 1.972, 절편 85.520\n",
      "훈련횟수 epoch 130, RMSE 2.943,기울기1 0.420, 기울기2 1.965, 절편 85.129\n",
      "훈련횟수 epoch 140, RMSE 2.786,기울기1 0.485, 기울기2 1.968, 절편 84.737\n",
      "훈련횟수 epoch 150, RMSE 2.629,기울기1 0.547, 기울기2 1.976, 절편 84.346\n",
      "훈련횟수 epoch 160, RMSE 2.472,기울기1 0.608, 기울기2 1.989, 절편 83.954\n",
      "훈련횟수 epoch 170, RMSE 2.315,기울기1 0.666, 기울기2 2.004, 절편 83.563\n",
      "훈련횟수 epoch 180, RMSE 2.159,기울기1 0.725, 기울기2 2.021, 절편 83.172\n",
      "훈련횟수 epoch 190, RMSE 2.003,기울기1 0.782, 기울기2 2.040, 절편 82.782\n",
      "훈련횟수 epoch 200, RMSE 1.847,기울기1 0.839, 기울기2 2.058, 절편 82.392\n",
      "훈련횟수 epoch 210, RMSE 1.692,기울기1 0.896, 기울기2 2.078, 절편 82.003\n",
      "훈련횟수 epoch 220, RMSE 1.538,기울기1 0.953, 기울기2 2.097, 절편 81.615\n",
      "훈련횟수 epoch 230, RMSE 1.384,기울기1 1.009, 기울기2 2.116, 절편 81.228\n",
      "훈련횟수 epoch 240, RMSE 1.232,기울기1 1.065, 기울기2 2.136, 절편 80.842\n",
      "훈련횟수 epoch 250, RMSE 1.082,기울기1 1.121, 기울기2 2.155, 절편 80.459\n",
      "훈련횟수 epoch 260, RMSE 0.964,기울기1 1.211, 기울기2 2.190, 절편 80.086\n",
      "훈련횟수 epoch 270, RMSE 1.834,기울기1 1.448, 기울기2 2.294, 절편 79.908\n",
      "훈련횟수 epoch 280, RMSE 1.835,기울기1 1.478, 기울기2 2.305, 절편 79.742\n",
      "훈련횟수 epoch 290, RMSE 1.836,기울기1 1.504, 기울기2 2.314, 절편 79.589\n",
      "훈련횟수 epoch 300, RMSE 1.836,기울기1 1.528, 기울기2 2.323, 절편 79.449\n",
      "훈련횟수 epoch 310, RMSE 1.836,기울기1 1.549, 기울기2 2.330, 절편 79.321\n",
      "훈련횟수 epoch 320, RMSE 1.836,기울기1 1.569, 기울기2 2.337, 절편 79.203\n",
      "훈련횟수 epoch 330, RMSE 1.836,기울기1 1.586, 기울기2 2.344, 절편 79.095\n",
      "훈련횟수 epoch 340, RMSE 1.837,기울기1 1.602, 기울기2 2.349, 절편 78.996\n",
      "훈련횟수 epoch 350, RMSE 1.837,기울기1 1.617, 기울기2 2.355, 절편 78.906\n",
      "훈련횟수 epoch 360, RMSE 1.837,기울기1 1.630, 기울기2 2.359, 절편 78.822\n",
      "훈련횟수 epoch 370, RMSE 1.837,기울기1 1.642, 기울기2 2.364, 절편 78.746\n",
      "훈련횟수 epoch 380, RMSE 1.837,기울기1 1.653, 기울기2 2.367, 절편 78.676\n",
      "훈련횟수 epoch 390, RMSE 1.837,기울기1 1.663, 기울기2 2.371, 절편 78.612\n",
      "훈련횟수 epoch 400, RMSE 1.837,기울기1 1.672, 기울기2 2.374, 절편 78.553\n",
      "훈련횟수 epoch 410, RMSE 1.837,기울기1 1.681, 기울기2 2.377, 절편 78.499\n",
      "훈련횟수 epoch 420, RMSE 1.837,기울기1 1.688, 기울기2 2.380, 절편 78.449\n",
      "훈련횟수 epoch 430, RMSE 1.837,기울기1 1.695, 기울기2 2.382, 절편 78.404\n",
      "훈련횟수 epoch 440, RMSE 1.837,기울기1 1.701, 기울기2 2.384, 절편 78.362\n",
      "훈련횟수 epoch 450, RMSE 1.837,기울기1 1.707, 기울기2 2.386, 절편 78.324\n",
      "훈련횟수 epoch 460, RMSE 1.837,기울기1 1.713, 기울기2 2.388, 절편 78.289\n",
      "훈련횟수 epoch 470, RMSE 1.837,기울기1 1.717, 기울기2 2.390, 절편 78.257\n",
      "훈련횟수 epoch 480, RMSE 1.837,기울기1 1.722, 기울기2 2.391, 절편 78.228\n",
      "훈련횟수 epoch 490, RMSE 1.837,기울기1 1.726, 기울기2 2.393, 절편 78.201\n",
      "훈련횟수 epoch 500, RMSE 1.837,기울기1 1.730, 기울기2 2.394, 절편 78.176\n",
      "훈련횟수 epoch 510, RMSE 1.837,기울기1 1.733, 기울기2 2.395, 절편 78.153\n",
      "훈련횟수 epoch 520, RMSE 1.837,기울기1 1.736, 기울기2 2.396, 절편 78.132\n",
      "훈련횟수 epoch 530, RMSE 1.837,기울기1 1.739, 기울기2 2.397, 절편 78.113\n",
      "훈련횟수 epoch 540, RMSE 1.837,기울기1 1.742, 기울기2 2.398, 절편 78.096\n",
      "훈련횟수 epoch 550, RMSE 1.837,기울기1 1.744, 기울기2 2.399, 절편 78.080\n",
      "훈련횟수 epoch 560, RMSE 1.837,기울기1 1.746, 기울기2 2.400, 절편 78.065\n",
      "훈련횟수 epoch 570, RMSE 1.837,기울기1 1.748, 기울기2 2.401, 절편 78.052\n",
      "훈련횟수 epoch 580, RMSE 1.837,기울기1 1.750, 기울기2 2.401, 절편 78.039\n",
      "훈련횟수 epoch 590, RMSE 1.837,기울기1 1.752, 기울기2 2.402, 절편 78.028\n",
      "훈련횟수 epoch 600, RMSE 1.837,기울기1 1.753, 기울기2 2.402, 절편 78.017\n",
      "훈련횟수 epoch 610, RMSE 1.837,기울기1 1.754, 기울기2 2.403, 절편 78.008\n",
      "훈련횟수 epoch 620, RMSE 1.837,기울기1 1.756, 기울기2 2.403, 절편 77.999\n",
      "훈련횟수 epoch 630, RMSE 1.837,기울기1 1.757, 기울기2 2.404, 절편 77.991\n",
      "훈련횟수 epoch 640, RMSE 1.837,기울기1 1.758, 기울기2 2.404, 절편 77.984\n",
      "훈련횟수 epoch 650, RMSE 1.837,기울기1 1.759, 기울기2 2.404, 절편 77.977\n",
      "훈련횟수 epoch 660, RMSE 1.837,기울기1 1.760, 기울기2 2.405, 절편 77.971\n",
      "훈련횟수 epoch 670, RMSE 1.837,기울기1 1.761, 기울기2 2.405, 절편 77.965\n",
      "훈련횟수 epoch 680, RMSE 1.837,기울기1 1.762, 기울기2 2.405, 절편 77.960\n",
      "훈련횟수 epoch 690, RMSE 1.837,기울기1 1.762, 기울기2 2.406, 절편 77.955\n",
      "훈련횟수 epoch 700, RMSE 1.837,기울기1 1.763, 기울기2 2.406, 절편 77.951\n",
      "훈련횟수 epoch 710, RMSE 1.837,기울기1 1.763, 기울기2 2.406, 절편 77.947\n",
      "훈련횟수 epoch 720, RMSE 1.837,기울기1 1.764, 기울기2 2.406, 절편 77.943\n",
      "훈련횟수 epoch 730, RMSE 1.837,기울기1 1.764, 기울기2 2.406, 절편 77.940\n",
      "훈련횟수 epoch 740, RMSE 1.837,기울기1 1.765, 기울기2 2.406, 절편 77.937\n",
      "훈련횟수 epoch 750, RMSE 1.837,기울기1 1.765, 기울기2 2.407, 절편 77.934\n",
      "훈련횟수 epoch 760, RMSE 1.837,기울기1 1.766, 기울기2 2.407, 절편 77.931\n",
      "훈련횟수 epoch 770, RMSE 1.837,기울기1 1.766, 기울기2 2.407, 절편 77.929\n",
      "훈련횟수 epoch 780, RMSE 1.837,기울기1 1.766, 기울기2 2.407, 절편 77.927\n",
      "훈련횟수 epoch 790, RMSE 1.837,기울기1 1.767, 기울기2 2.407, 절편 77.925\n",
      "훈련횟수 epoch 800, RMSE 1.837,기울기1 1.767, 기울기2 2.407, 절편 77.923\n",
      "훈련횟수 epoch 810, RMSE 1.837,기울기1 1.767, 기울기2 2.407, 절편 77.921\n",
      "훈련횟수 epoch 820, RMSE 1.837,기울기1 1.767, 기울기2 2.407, 절편 77.920\n",
      "훈련횟수 epoch 830, RMSE 1.837,기울기1 1.768, 기울기2 2.407, 절편 77.918\n",
      "훈련횟수 epoch 840, RMSE 1.837,기울기1 1.768, 기울기2 2.407, 절편 77.917\n",
      "훈련횟수 epoch 850, RMSE 1.837,기울기1 1.768, 기울기2 2.408, 절편 77.916\n",
      "훈련횟수 epoch 860, RMSE 1.837,기울기1 1.768, 기울기2 2.408, 절편 77.915\n",
      "훈련횟수 epoch 870, RMSE 1.837,기울기1 1.768, 기울기2 2.408, 절편 77.914\n",
      "훈련횟수 epoch 880, RMSE 1.837,기울기1 1.768, 기울기2 2.408, 절편 77.913\n",
      "훈련횟수 epoch 890, RMSE 1.837,기울기1 1.769, 기울기2 2.408, 절편 77.912\n",
      "훈련횟수 epoch 900, RMSE 1.837,기울기1 1.769, 기울기2 2.408, 절편 77.911\n",
      "훈련횟수 epoch 910, RMSE 1.837,기울기1 1.769, 기울기2 2.408, 절편 77.910\n",
      "훈련횟수 epoch 920, RMSE 1.837,기울기1 1.769, 기울기2 2.408, 절편 77.910\n",
      "훈련횟수 epoch 930, RMSE 1.837,기울기1 1.769, 기울기2 2.408, 절편 77.909\n",
      "훈련횟수 epoch 940, RMSE 1.837,기울기1 1.769, 기울기2 2.408, 절편 77.909\n",
      "훈련횟수 epoch 950, RMSE 1.837,기울기1 1.769, 기울기2 2.408, 절편 77.908\n",
      "훈련횟수 epoch 960, RMSE 1.837,기울기1 1.769, 기울기2 2.408, 절편 77.908\n",
      "훈련횟수 epoch 970, RMSE 1.837,기울기1 1.769, 기울기2 2.408, 절편 77.907\n",
      "훈련횟수 epoch 980, RMSE 1.837,기울기1 1.769, 기울기2 2.408, 절편 77.907\n",
      "훈련횟수 epoch 990, RMSE 1.837,기울기1 1.769, 기울기2 2.408, 절편 77.907\n",
      "훈련횟수 epoch 1000, RMSE 1.837,기울기1 1.769, 기울기2 2.408, 절편 77.906\n",
      "훈련횟수 epoch 1010, RMSE 1.837,기울기1 1.769, 기울기2 2.408, 절편 77.906\n",
      "훈련횟수 epoch 1020, RMSE 1.837,기울기1 1.769, 기울기2 2.408, 절편 77.906\n",
      "훈련횟수 epoch 1030, RMSE 1.837,기울기1 1.769, 기울기2 2.408, 절편 77.905\n",
      "훈련횟수 epoch 1040, RMSE 1.837,기울기1 1.770, 기울기2 2.408, 절편 77.905\n",
      "훈련횟수 epoch 1050, RMSE 1.837,기울기1 1.770, 기울기2 2.408, 절편 77.905\n",
      "훈련횟수 epoch 1060, RMSE 1.837,기울기1 1.770, 기울기2 2.408, 절편 77.905\n",
      "훈련횟수 epoch 1070, RMSE 1.837,기울기1 1.770, 기울기2 2.408, 절편 77.905\n",
      "훈련횟수 epoch 1080, RMSE 1.837,기울기1 1.770, 기울기2 2.408, 절편 77.904\n",
      "훈련횟수 epoch 1090, RMSE 1.837,기울기1 1.770, 기울기2 2.408, 절편 77.904\n",
      "훈련횟수 epoch 1100, RMSE 1.837,기울기1 1.770, 기울기2 2.408, 절편 77.904\n",
      "훈련횟수 epoch 1110, RMSE 1.837,기울기1 1.770, 기울기2 2.408, 절편 77.904\n",
      "훈련횟수 epoch 1120, RMSE 1.837,기울기1 1.770, 기울기2 2.408, 절편 77.904\n",
      "훈련횟수 epoch 1130, RMSE 1.837,기울기1 1.770, 기울기2 2.408, 절편 77.904\n",
      "훈련횟수 epoch 1140, RMSE 1.837,기울기1 1.770, 기울기2 2.408, 절편 77.904\n",
      "훈련횟수 epoch 1150, RMSE 1.837,기울기1 1.770, 기울기2 2.408, 절편 77.904\n",
      "훈련횟수 epoch 1160, RMSE 1.837,기울기1 1.770, 기울기2 2.408, 절편 77.904\n",
      "훈련횟수 epoch 1170, RMSE 1.837,기울기1 1.770, 기울기2 2.408, 절편 77.903\n",
      "훈련횟수 epoch 1180, RMSE 1.837,기울기1 1.770, 기울기2 2.408, 절편 77.903\n",
      "훈련횟수 epoch 1190, RMSE 1.837,기울기1 1.770, 기울기2 2.408, 절편 77.903\n",
      "훈련횟수 epoch 1200, RMSE 1.837,기울기1 1.770, 기울기2 2.408, 절편 77.903\n",
      "훈련횟수 epoch 1210, RMSE 1.837,기울기1 1.770, 기울기2 2.408, 절편 77.903\n",
      "훈련횟수 epoch 1220, RMSE 1.837,기울기1 1.770, 기울기2 2.408, 절편 77.903\n",
      "훈련횟수 epoch 1230, RMSE 1.837,기울기1 1.770, 기울기2 2.408, 절편 77.903\n",
      "훈련횟수 epoch 1240, RMSE 1.837,기울기1 1.770, 기울기2 2.408, 절편 77.903\n",
      "훈련횟수 epoch 1250, RMSE 1.837,기울기1 1.770, 기울기2 2.408, 절편 77.903\n",
      "훈련횟수 epoch 1260, RMSE 1.837,기울기1 1.770, 기울기2 2.408, 절편 77.903\n",
      "훈련횟수 epoch 1270, RMSE 1.837,기울기1 1.770, 기울기2 2.408, 절편 77.903\n",
      "훈련횟수 epoch 1280, RMSE 1.837,기울기1 1.770, 기울기2 2.408, 절편 77.903\n",
      "훈련횟수 epoch 1290, RMSE 1.837,기울기1 1.770, 기울기2 2.408, 절편 77.903\n",
      "훈련횟수 epoch 1300, RMSE 1.837,기울기1 1.770, 기울기2 2.408, 절편 77.903\n",
      "훈련횟수 epoch 1310, RMSE 1.837,기울기1 1.770, 기울기2 2.408, 절편 77.903\n",
      "훈련횟수 epoch 1320, RMSE 1.837,기울기1 1.770, 기울기2 2.408, 절편 77.903\n",
      "훈련횟수 epoch 1330, RMSE 1.837,기울기1 1.770, 기울기2 2.408, 절편 77.903\n",
      "훈련횟수 epoch 1340, RMSE 1.837,기울기1 1.770, 기울기2 2.408, 절편 77.903\n",
      "훈련횟수 epoch 1350, RMSE 1.837,기울기1 1.770, 기울기2 2.408, 절편 77.903\n",
      "훈련횟수 epoch 1360, RMSE 1.837,기울기1 1.770, 기울기2 2.408, 절편 77.903\n",
      "훈련횟수 epoch 1370, RMSE 1.837,기울기1 1.770, 기울기2 2.408, 절편 77.903\n",
      "훈련횟수 epoch 1380, RMSE 1.837,기울기1 1.770, 기울기2 2.408, 절편 77.903\n",
      "훈련횟수 epoch 1390, RMSE 1.837,기울기1 1.770, 기울기2 2.408, 절편 77.903\n",
      "훈련횟수 epoch 1400, RMSE 1.837,기울기1 1.770, 기울기2 2.408, 절편 77.903\n",
      "훈련횟수 epoch 1410, RMSE 1.837,기울기1 1.770, 기울기2 2.408, 절편 77.903\n",
      "훈련횟수 epoch 1420, RMSE 1.837,기울기1 1.770, 기울기2 2.408, 절편 77.903\n",
      "훈련횟수 epoch 1430, RMSE 1.837,기울기1 1.770, 기울기2 2.408, 절편 77.903\n",
      "훈련횟수 epoch 1440, RMSE 1.837,기울기1 1.770, 기울기2 2.408, 절편 77.903\n",
      "훈련횟수 epoch 1450, RMSE 1.837,기울기1 1.770, 기울기2 2.408, 절편 77.903\n",
      "훈련횟수 epoch 1460, RMSE 1.837,기울기1 1.770, 기울기2 2.408, 절편 77.903\n",
      "훈련횟수 epoch 1470, RMSE 1.837,기울기1 1.770, 기울기2 2.408, 절편 77.903\n",
      "훈련횟수 epoch 1480, RMSE 1.837,기울기1 1.770, 기울기2 2.408, 절편 77.903\n",
      "훈련횟수 epoch 1490, RMSE 1.837,기울기1 1.770, 기울기2 2.408, 절편 77.903\n",
      "훈련횟수 epoch 1500, RMSE 1.837,기울기1 1.770, 기울기2 2.408, 절편 77.903\n",
      "훈련횟수 epoch 1510, RMSE 1.837,기울기1 1.770, 기울기2 2.408, 절편 77.903\n",
      "훈련횟수 epoch 1520, RMSE 1.837,기울기1 1.770, 기울기2 2.408, 절편 77.903\n",
      "훈련횟수 epoch 1530, RMSE 1.837,기울기1 1.770, 기울기2 2.408, 절편 77.903\n",
      "훈련횟수 epoch 1540, RMSE 1.837,기울기1 1.770, 기울기2 2.408, 절편 77.903\n",
      "훈련횟수 epoch 1550, RMSE 1.837,기울기1 1.770, 기울기2 2.408, 절편 77.903\n",
      "훈련횟수 epoch 1560, RMSE 1.837,기울기1 1.770, 기울기2 2.408, 절편 77.903\n",
      "훈련횟수 epoch 1570, RMSE 1.837,기울기1 1.770, 기울기2 2.408, 절편 77.903\n",
      "훈련횟수 epoch 1580, RMSE 1.837,기울기1 1.770, 기울기2 2.408, 절편 77.903\n",
      "훈련횟수 epoch 1590, RMSE 1.837,기울기1 1.770, 기울기2 2.408, 절편 77.903\n",
      "훈련횟수 epoch 1600, RMSE 1.837,기울기1 1.770, 기울기2 2.408, 절편 77.903\n",
      "훈련횟수 epoch 1610, RMSE 1.837,기울기1 1.770, 기울기2 2.408, 절편 77.903\n",
      "훈련횟수 epoch 1620, RMSE 1.837,기울기1 1.770, 기울기2 2.408, 절편 77.903\n",
      "훈련횟수 epoch 1630, RMSE 1.837,기울기1 1.770, 기울기2 2.408, 절편 77.903\n",
      "훈련횟수 epoch 1640, RMSE 1.837,기울기1 1.770, 기울기2 2.408, 절편 77.903\n",
      "훈련횟수 epoch 1650, RMSE 1.837,기울기1 1.770, 기울기2 2.408, 절편 77.903\n",
      "훈련횟수 epoch 1660, RMSE 1.837,기울기1 1.770, 기울기2 2.408, 절편 77.903\n",
      "훈련횟수 epoch 1670, RMSE 1.837,기울기1 1.770, 기울기2 2.408, 절편 77.903\n",
      "훈련횟수 epoch 1680, RMSE 1.837,기울기1 1.770, 기울기2 2.408, 절편 77.903\n",
      "훈련횟수 epoch 1690, RMSE 1.837,기울기1 1.770, 기울기2 2.408, 절편 77.903\n",
      "훈련횟수 epoch 1700, RMSE 1.837,기울기1 1.770, 기울기2 2.408, 절편 77.903\n",
      "훈련횟수 epoch 1710, RMSE 1.837,기울기1 1.770, 기울기2 2.408, 절편 77.903\n",
      "훈련횟수 epoch 1720, RMSE 1.837,기울기1 1.770, 기울기2 2.408, 절편 77.903\n",
      "훈련횟수 epoch 1730, RMSE 1.837,기울기1 1.770, 기울기2 2.408, 절편 77.903\n",
      "훈련횟수 epoch 1740, RMSE 1.837,기울기1 1.770, 기울기2 2.408, 절편 77.903\n",
      "훈련횟수 epoch 1750, RMSE 1.837,기울기1 1.770, 기울기2 2.408, 절편 77.903\n",
      "훈련횟수 epoch 1760, RMSE 1.837,기울기1 1.770, 기울기2 2.408, 절편 77.903\n",
      "훈련횟수 epoch 1770, RMSE 1.837,기울기1 1.770, 기울기2 2.408, 절편 77.903\n",
      "훈련횟수 epoch 1780, RMSE 1.837,기울기1 1.770, 기울기2 2.408, 절편 77.903\n",
      "훈련횟수 epoch 1790, RMSE 1.837,기울기1 1.770, 기울기2 2.408, 절편 77.903\n",
      "훈련횟수 epoch 1800, RMSE 1.837,기울기1 1.770, 기울기2 2.408, 절편 77.903\n",
      "훈련횟수 epoch 1810, RMSE 1.837,기울기1 1.770, 기울기2 2.408, 절편 77.903\n",
      "훈련횟수 epoch 1820, RMSE 1.837,기울기1 1.770, 기울기2 2.408, 절편 77.903\n",
      "훈련횟수 epoch 1830, RMSE 1.837,기울기1 1.770, 기울기2 2.408, 절편 77.903\n",
      "훈련횟수 epoch 1840, RMSE 1.837,기울기1 1.770, 기울기2 2.408, 절편 77.903\n",
      "훈련횟수 epoch 1850, RMSE 1.837,기울기1 1.770, 기울기2 2.408, 절편 77.903\n",
      "훈련횟수 epoch 1860, RMSE 1.837,기울기1 1.770, 기울기2 2.408, 절편 77.903\n",
      "훈련횟수 epoch 1870, RMSE 1.837,기울기1 1.770, 기울기2 2.408, 절편 77.903\n",
      "훈련횟수 epoch 1880, RMSE 1.837,기울기1 1.770, 기울기2 2.408, 절편 77.903\n",
      "훈련횟수 epoch 1890, RMSE 1.837,기울기1 1.770, 기울기2 2.408, 절편 77.903\n",
      "훈련횟수 epoch 1900, RMSE 1.837,기울기1 1.770, 기울기2 2.408, 절편 77.903\n",
      "훈련횟수 epoch 1910, RMSE 1.837,기울기1 1.770, 기울기2 2.408, 절편 77.903\n",
      "훈련횟수 epoch 1920, RMSE 1.837,기울기1 1.770, 기울기2 2.408, 절편 77.903\n",
      "훈련횟수 epoch 1930, RMSE 1.837,기울기1 1.770, 기울기2 2.408, 절편 77.903\n",
      "훈련횟수 epoch 1940, RMSE 1.837,기울기1 1.770, 기울기2 2.408, 절편 77.903\n",
      "훈련횟수 epoch 1950, RMSE 1.837,기울기1 1.770, 기울기2 2.408, 절편 77.903\n",
      "훈련횟수 epoch 1960, RMSE 1.837,기울기1 1.770, 기울기2 2.408, 절편 77.903\n",
      "훈련횟수 epoch 1970, RMSE 1.837,기울기1 1.770, 기울기2 2.408, 절편 77.903\n",
      "훈련횟수 epoch 1980, RMSE 1.837,기울기1 1.770, 기울기2 2.408, 절편 77.903\n",
      "훈련횟수 epoch 1990, RMSE 1.837,기울기1 1.770, 기울기2 2.408, 절편 77.903\n",
      "훈련횟수 epoch 2000, RMSE 1.837,기울기1 1.770, 기울기2 2.408, 절편 77.903\n"
     ]
    }
   ],
   "source": [
    "with tf.Session() as sess:\n",
    "    sess.run(tf.global_variables_initializer())\n",
    "    for step in range(2001):\n",
    "        sess.run(gradient_decent)\n",
    "        if step % 10 == 0:\n",
    "            print('훈련횟수 epoch %.f, RMSE %.3f,'\\\n",
    "            '기울기1 %.3f, 기울기2 %.3f, 절편 %.3f' %\n",
    "                  ( step, sess.run(rmse),\n",
    "                    sess.run(a), sess.run(b),\n",
    "                    sess.run(c) ))"
   ]
  },
  {
   "cell_type": "code",
   "execution_count": 10,
   "id": "c274ce79-b4a3-4f3f-b5d9-bc45a7bc26be",
   "metadata": {},
   "outputs": [],
   "source": [
    "# => epoch 1180 부터 기울기와 절편이 일정하게 출력\n",
    "# => y = 1.77x1 + 2.4x2 + 77.9\n",
    "# 학습량 0.1 - RMSE 1.837, 기울기1 1.770, 기울기2 2.408, 절편 77.903\n",
    "# 학습량 0.5 - RMSE 9.185 기울기1 2.863, 기울기2 2.904, 절편 78.087\n",
    "# 학습럅 0.05 - RMSE 0.919, 기울기1 1.630, 기울기2 2.345, 절편 77.879"
   ]
  },
  {
   "cell_type": "markdown",
   "id": "d07760fb-a0f1-4da4-ae49-57c0df37e963",
   "metadata": {},
   "source": [
    "### Keras "
   ]
  },
  {
   "cell_type": "code",
   "execution_count": 11,
   "id": "ddb12484-105d-4335-8ce4-efe008269316",
   "metadata": {},
   "outputs": [],
   "source": [
    "import numpy as np"
   ]
  },
  {
   "cell_type": "code",
   "execution_count": 12,
   "id": "010e1298-1504-4f77-9bc7-2f6c9315cb5e",
   "metadata": {},
   "outputs": [],
   "source": [
    "xdata = np.array([x[:2] for x in data])\n",
    "ydata = np.array([x[2] for x in data])"
   ]
  },
  {
   "cell_type": "code",
   "execution_count": 13,
   "id": "0020fb76-7b2c-4832-9aa1-4c62236bb1ad",
   "metadata": {},
   "outputs": [
    {
     "name": "stdout",
     "output_type": "stream",
     "text": [
      "WARNING:tensorflow:From /home/hadoop/.local/lib/python3.7/site-packages/tensorflow_core/python/ops/resource_variable_ops.py:1630: calling BaseResourceVariable.__init__ (from tensorflow.python.ops.resource_variable_ops) with constraint is deprecated and will be removed in a future version.\n",
      "Instructions for updating:\n",
      "If using Keras pass *_constraint arguments to layers.\n"
     ]
    }
   ],
   "source": [
    "model = Sequential()\n",
    "model.add(Dense(1, input_dim=2, activation='linear'))"
   ]
  },
  {
   "cell_type": "code",
   "execution_count": 14,
   "id": "f6279d72-e269-4d88-ab33-35fb6584b45e",
   "metadata": {},
   "outputs": [],
   "source": [
    "model.compile(loss='mse', optimizer='sgd',\n",
    "              metrics=['accuracy'])"
   ]
  },
  {
   "cell_type": "code",
   "execution_count": 15,
   "id": "a4c5974d-d0d0-4ece-ab1f-2d1e30fe7bd8",
   "metadata": {},
   "outputs": [
    {
     "data": {
      "text/plain": [
       "<tensorflow.python.keras.callbacks.History at 0x7f3ec445d810>"
      ]
     },
     "execution_count": 15,
     "metadata": {},
     "output_type": "execute_result"
    }
   ],
   "source": [
    "model.fit(xdata, ydata, epochs=1000, verbose=0)"
   ]
  },
  {
   "cell_type": "code",
   "execution_count": 16,
   "id": "18f9764a-8e3e-4879-a2a0-09f89d8d9adb",
   "metadata": {},
   "outputs": [
    {
     "data": {
      "text/plain": [
       "(array([1.9585477], dtype=float32), array([2.44404], dtype=float32))"
      ]
     },
     "execution_count": 16,
     "metadata": {},
     "output_type": "execute_result"
    }
   ],
   "source": [
    "# 기울기\n",
    "model.get_weights()[0][0],model.get_weights()[0][1]"
   ]
  },
  {
   "cell_type": "code",
   "execution_count": 17,
   "id": "75d35ad6-6be4-43f5-aa36-d46d4f33dd19",
   "metadata": {},
   "outputs": [
    {
     "data": {
      "text/plain": [
       "array([74.708755], dtype=float32)"
      ]
     },
     "execution_count": 17,
     "metadata": {},
     "output_type": "execute_result"
    }
   ],
   "source": [
    "# 절편\n",
    "model.get_weights()[1]"
   ]
  },
  {
   "cell_type": "code",
   "execution_count": 18,
   "id": "cce40f65-8960-4562-b46a-bd97955d4f60",
   "metadata": {},
   "outputs": [
    {
     "name": "stdout",
     "output_type": "stream",
     "text": [
      "기울기1 1.959\n",
      "기울기2 2.444\n",
      "절편 74.709\n"
     ]
    }
   ],
   "source": [
    "print('기울기1 %.3f' % model.get_weights()[0][0])\n",
    "print('기울기2 %.3f' % model.get_weights()[0][1])\n",
    "print('절편 %.3f' % model.get_weights()[1])"
   ]
  },
  {
   "cell_type": "markdown",
   "id": "a81bbfec-c8d9-441d-91d3-bd7710939c37",
   "metadata": {},
   "source": [
    "### 학습된 모델 저장과 재사용\n",
    "* 학습이 끝난후 테스트 결과가 만족스러울때 이를 파일로 저장해두면 새로운 데이터에 바로 사용 가능"
   ]
  },
  {
   "cell_type": "code",
   "execution_count": 19,
   "id": "c59040cf-88ff-4926-9559-52699df13097",
   "metadata": {},
   "outputs": [],
   "source": [
    "# pip install np_utils"
   ]
  },
  {
   "cell_type": "code",
   "execution_count": 20,
   "id": "e3230848-0c19-4a48-b836-9d0c946ca1b8",
   "metadata": {},
   "outputs": [],
   "source": [
    "import pandas as pd\n",
    "from tensorflow.keras import utils\n",
    "from sklearn.preprocessing import LabelEncoder\n",
    "from tensorflow.keras.models import load_model"
   ]
  },
  {
   "cell_type": "code",
   "execution_count": 21,
   "id": "b7b94fd8-b79a-4591-a756-5ac5f1b3e621",
   "metadata": {},
   "outputs": [],
   "source": [
    "iris = pd.read_csv('iris.csv', header=None)\n",
    "\n",
    "x_data = iris.iloc[:, 0:4]\n",
    "y_data = iris.iloc[:, 4]\n",
    "\n",
    "\n",
    "le = LabelEncoder()\n",
    "le.fit(y_data)\n",
    "y_data = le.transform(y_data)\n",
    "y_data = utils.to_categorical(y_data)"
   ]
  },
  {
   "cell_type": "code",
   "execution_count": 22,
   "id": "49437c49-42b9-4e62-9fbf-62559a3849f8",
   "metadata": {},
   "outputs": [
    {
     "name": "stdout",
     "output_type": "stream",
     "text": [
      "WARNING:tensorflow:From /tmp/ipykernel_3571/427887993.py:3: The name tf.set_random_seed is deprecated. Please use tf.compat.v1.set_random_seed instead.\n",
      "\n"
     ]
    }
   ],
   "source": [
    "seed = 211203\n",
    "np.random.seed(seed)\n",
    "tf.set_random_seed(seed)"
   ]
  },
  {
   "cell_type": "code",
   "execution_count": 23,
   "id": "fee5a6dc-2d97-4d5e-ae36-2fc203c869dc",
   "metadata": {},
   "outputs": [],
   "source": [
    "# 신경망, 손실함수, 옵티마이저 설정\n",
    "model = Sequential()\n",
    "model.add(Dense(10, input_dim=4, activation='relu'))\n",
    "model.add(Dense(3, activation='softmax'))\n",
    "\n",
    "model.compile(loss='categorical_crossentropy',\n",
    "              optimizer='adam',\n",
    "              metrics=['accuracy', 'mse'])"
   ]
  },
  {
   "cell_type": "code",
   "execution_count": 24,
   "id": "42f2742e-31ac-4ba5-a0e8-4ec9b407ba28",
   "metadata": {},
   "outputs": [
    {
     "data": {
      "text/plain": [
       "<tensorflow.python.keras.callbacks.History at 0x7f3e9fc77d10>"
      ]
     },
     "execution_count": 24,
     "metadata": {},
     "output_type": "execute_result"
    }
   ],
   "source": [
    "model.fit(x_data, y_data, epochs=100, verbose=0)"
   ]
  },
  {
   "cell_type": "code",
   "execution_count": 25,
   "id": "71da1d01-910f-428e-be0a-ba8631dd1ff9",
   "metadata": {},
   "outputs": [
    {
     "name": "stdout",
     "output_type": "stream",
     "text": [
      "150/150 [==============================] - 0s 3ms/sample - loss: 0.4613 - acc: 0.6800 - mean_squared_error: 0.1006\n",
      "0.6800\n"
     ]
    }
   ],
   "source": [
    "print('%.4f' % model.evaluate(x_data, y_data)[1])"
   ]
  },
  {
   "cell_type": "code",
   "execution_count": 26,
   "id": "a9bd39b0-51e5-4443-b5f9-1db22cb2f71b",
   "metadata": {},
   "outputs": [],
   "source": [
    "# 모델 저장 : 객체.save(경로) 확장자는 h5\n",
    "model.save('models/iris.h5')"
   ]
  },
  {
   "cell_type": "code",
   "execution_count": 27,
   "id": "67a57009-7425-4524-9ade-ed4cb468f708",
   "metadata": {},
   "outputs": [
    {
     "name": "stdout",
     "output_type": "stream",
     "text": [
      "WARNING:tensorflow:From /home/hadoop/.local/lib/python3.7/site-packages/tensorflow_core/python/ops/init_ops.py:97: calling GlorotUniform.__init__ (from tensorflow.python.ops.init_ops) with dtype is deprecated and will be removed in a future version.\n",
      "Instructions for updating:\n",
      "Call initializer instance with the dtype argument instead of passing it to the constructor\n",
      "WARNING:tensorflow:From /home/hadoop/.local/lib/python3.7/site-packages/tensorflow_core/python/ops/init_ops.py:97: calling Zeros.__init__ (from tensorflow.python.ops.init_ops) with dtype is deprecated and will be removed in a future version.\n",
      "Instructions for updating:\n",
      "Call initializer instance with the dtype argument instead of passing it to the constructor\n"
     ]
    }
   ],
   "source": [
    "# 모델 불러오기 \n",
    "models = load_model('models/iris.h5')"
   ]
  },
  {
   "cell_type": "code",
   "execution_count": 28,
   "id": "2885d3de-1f74-4f43-a661-6f09a6d1f5e0",
   "metadata": {},
   "outputs": [
    {
     "name": "stdout",
     "output_type": "stream",
     "text": [
      "150/150 [==============================] - 0s 355us/sample - loss: 0.4613 - acc: 0.6800 - mean_squared_error: 0.1006\n",
      "0.6800\n"
     ]
    }
   ],
   "source": [
    "print('%.4f' % model.evaluate(x_data, y_data)[1])"
   ]
  },
  {
   "cell_type": "code",
   "execution_count": 29,
   "id": "0ee29a50-d8b4-4060-a68d-004b833ac7ec",
   "metadata": {},
   "outputs": [
    {
     "name": "stdout",
     "output_type": "stream",
     "text": [
      "0.0061044074 0.41117972 0.58271587\n"
     ]
    }
   ],
   "source": [
    "new_x = np.array([[6.4, 2.7, 5.3, 1.9]])\n",
    "y_predict = model.predict(new_x)\n",
    "print(y_predict[0][0],y_predict[0][1],y_predict[0][2])"
   ]
  },
  {
   "cell_type": "markdown",
   "id": "5d32af17-94e5-4a94-8a41-7e3e23686037",
   "metadata": {},
   "source": [
    "### 과적합 문제 해결\n",
    "* 1998년 존스홉킨스 대학 세즈노프스키 교수가 힐튼 교수가 발표한 역전파 알고리즘에 과심을 가짐\n",
    "* 즉, 은닉층과 역전파의 효과가 얼마나 큰지 궁금"
   ]
  },
  {
   "cell_type": "markdown",
   "id": "da08692a-6436-4df3-867a-6d07f6b5bc8d",
   "metadata": {},
   "source": [
    "### 따라서, 광석과 일반돌에 음파를 쏘아 측정치 조사\n",
    "* 과연 이 돌을 잘 분류할 수 있을지 실험(sonar.csv)\n",
    "\n",
    "* 논문결과 : 은닉층의 수가 올라갈수록 데이터 예측 정확도도 같이 상승\n",
    "    + 학습/검증 데이터로 분리해서 진행하면 \n",
    "    + 학습 예측 정확도는 여전히 증가하지만\n",
    "    + 증가속도가 다소 지연됨<br><br>\n",
    "   \n",
    "\n",
    "* 과적합 방지 방법 - 데이터를 train/test로 분리해서 훈련 실시 (+ 교차검증)"
   ]
  },
  {
   "cell_type": "code",
   "execution_count": 30,
   "id": "cbbcb002-d76f-4c86-891a-3b0c473f1f60",
   "metadata": {},
   "outputs": [
    {
     "name": "stdout",
     "output_type": "stream",
     "text": [
      "<class 'pandas.core.frame.DataFrame'>\n",
      "RangeIndex: 207 entries, 0 to 206\n",
      "Data columns (total 61 columns):\n",
      " #   Column  Non-Null Count  Dtype  \n",
      "---  ------  --------------  -----  \n",
      " 0   0.0200  207 non-null    float64\n",
      " 1   0.0371  207 non-null    float64\n",
      " 2   0.0428  207 non-null    float64\n",
      " 3   0.0207  207 non-null    float64\n",
      " 4   0.0954  207 non-null    float64\n",
      " 5   0.0986  207 non-null    float64\n",
      " 6   0.1539  207 non-null    float64\n",
      " 7   0.1601  207 non-null    float64\n",
      " 8   0.3109  207 non-null    float64\n",
      " 9   0.2111  207 non-null    float64\n",
      " 10  0.1609  207 non-null    float64\n",
      " 11  0.1582  207 non-null    float64\n",
      " 12  0.2238  207 non-null    float64\n",
      " 13  0.0645  207 non-null    float64\n",
      " 14  0.0660  207 non-null    float64\n",
      " 15  0.2273  207 non-null    float64\n",
      " 16  0.3100  207 non-null    float64\n",
      " 17  0.2999  207 non-null    float64\n",
      " 18  0.5078  207 non-null    float64\n",
      " 19  0.4797  207 non-null    float64\n",
      " 20  0.5783  207 non-null    float64\n",
      " 21  0.5071  207 non-null    float64\n",
      " 22  0.4328  207 non-null    float64\n",
      " 23  0.5550  207 non-null    float64\n",
      " 24  0.6711  207 non-null    float64\n",
      " 25  0.6415  207 non-null    float64\n",
      " 26  0.7104  207 non-null    float64\n",
      " 27  0.8080  207 non-null    float64\n",
      " 28  0.6791  207 non-null    float64\n",
      " 29  0.3857  207 non-null    float64\n",
      " 30  0.1307  207 non-null    float64\n",
      " 31  0.2604  207 non-null    float64\n",
      " 32  0.5121  207 non-null    float64\n",
      " 33  0.7547  207 non-null    float64\n",
      " 34  0.8537  207 non-null    float64\n",
      " 35  0.8507  207 non-null    float64\n",
      " 36  0.6692  207 non-null    float64\n",
      " 37  0.6097  207 non-null    float64\n",
      " 38  0.4943  207 non-null    float64\n",
      " 39  0.2744  207 non-null    float64\n",
      " 40  0.0510  207 non-null    float64\n",
      " 41  0.2834  207 non-null    float64\n",
      " 42  0.2825  207 non-null    float64\n",
      " 43  0.4256  207 non-null    float64\n",
      " 44  0.2641  207 non-null    float64\n",
      " 45  0.1386  207 non-null    float64\n",
      " 46  0.1051  207 non-null    float64\n",
      " 47  0.1343  207 non-null    float64\n",
      " 48  0.0383  207 non-null    float64\n",
      " 49  0.0324  207 non-null    float64\n",
      " 50  0.0232  207 non-null    float64\n",
      " 51  0.0027  207 non-null    float64\n",
      " 52  0.0065  207 non-null    float64\n",
      " 53  0.0159  207 non-null    float64\n",
      " 54  0.0072  207 non-null    float64\n",
      " 55  0.0167  207 non-null    float64\n",
      " 56  0.0180  207 non-null    float64\n",
      " 57  0.0084  207 non-null    float64\n",
      " 58  0.0090  207 non-null    float64\n",
      " 59  0.0032  207 non-null    float64\n",
      " 60  R       207 non-null    object \n",
      "dtypes: float64(60), object(1)\n",
      "memory usage: 98.8+ KB\n"
     ]
    }
   ],
   "source": [
    "# 측정치 데이터 불러오기\n",
    "sonar = pd.read_csv('sonar.csv')\n",
    "sonar.info()"
   ]
  },
  {
   "cell_type": "code",
   "execution_count": 31,
   "id": "4f6ebd61-1317-40e1-8429-8c46ee3f3d32",
   "metadata": {},
   "outputs": [
    {
     "name": "stdout",
     "output_type": "stream",
     "text": [
      "0    R\n",
      "1    R\n",
      "2    R\n",
      "3    R\n",
      "4    R\n",
      "Name: R, dtype: object\n"
     ]
    }
   ],
   "source": [
    "x_data = sonar.iloc[:, 0:60]\n",
    "y_data = sonar.iloc[:, 60]\n",
    "print(y_data[:5]) # R(rock) M(mine)"
   ]
  },
  {
   "cell_type": "code",
   "execution_count": 32,
   "id": "6b3b0d4e-24d6-4e96-9475-1be03e0dc310",
   "metadata": {},
   "outputs": [
    {
     "name": "stdout",
     "output_type": "stream",
     "text": [
      "[1 1 1 1 1]\n"
     ]
    }
   ],
   "source": [
    "# 전처리 수행 - 범주형 데이터 변환\n",
    "\n",
    "le = LabelEncoder()\n",
    "y_data = le.fit_transform(y_data)\n",
    "print(y_data[:5])"
   ]
  },
  {
   "cell_type": "code",
   "execution_count": 33,
   "id": "9b5cb9d5-451d-4bb3-9e4b-f4dbf4b6ac29",
   "metadata": {},
   "outputs": [],
   "source": [
    "# 난수 지정\n",
    "seed = 190121\n",
    "np.random.seed(seed)\n",
    "tf.set_random_seed(seed)"
   ]
  },
  {
   "cell_type": "code",
   "execution_count": 34,
   "id": "b96d4126-9f77-408e-84c5-14ef72403c6a",
   "metadata": {},
   "outputs": [],
   "source": [
    "# 신경망 구성 :\n",
    "# 특성수 : 60\n",
    "# 입력노드 :\n",
    "# 활성화 함수 : relu\n",
    "# 최종 출력노드 : 1, 활섬화함수 : sigmoid\n",
    "model = Sequential()\n",
    "model.add(Dense(25, input_dim=60, activation='relu'))\n",
    "model.add(Dense(1, activation='sigmoid'))"
   ]
  },
  {
   "cell_type": "code",
   "execution_count": 35,
   "id": "7eb17ea7-f098-447d-8297-fbe52cc9f76b",
   "metadata": {},
   "outputs": [
    {
     "name": "stdout",
     "output_type": "stream",
     "text": [
      "WARNING:tensorflow:From /home/hadoop/.local/lib/python3.7/site-packages/tensorflow_core/python/ops/nn_impl.py:183: where (from tensorflow.python.ops.array_ops) is deprecated and will be removed in a future version.\n",
      "Instructions for updating:\n",
      "Use tf.where in 2.0, which has the same broadcast rule as np.where\n"
     ]
    }
   ],
   "source": [
    "# # 손실함수, 최적화함수 정의\n",
    "model.compile(loss='binary_crossentropy',\n",
    "              optimizer='adam',\n",
    "              metrics=['accuracy','mse'])"
   ]
  },
  {
   "cell_type": "code",
   "execution_count": 46,
   "id": "40ba8389-3080-4c87-948f-cfb6952523fd",
   "metadata": {},
   "outputs": [
    {
     "data": {
      "text/plain": [
       "<tensorflow.python.keras.callbacks.History at 0x7f3ec44d0210>"
      ]
     },
     "execution_count": 46,
     "metadata": {},
     "output_type": "execute_result"
    }
   ],
   "source": [
    "model.fit(x_data, y_data, epochs=1000, verbose=0)"
   ]
  },
  {
   "cell_type": "code",
   "execution_count": 47,
   "id": "ae3fcf0a-fc4d-4485-9a29-a2e428bce449",
   "metadata": {},
   "outputs": [
    {
     "name": "stdout",
     "output_type": "stream",
     "text": [
      "207/207 [==============================] - 0s 536us/sample - loss: 0.0075 - acc: 1.0000 - mean_squared_error: 2.7479e-04\n",
      "1.0\n"
     ]
    }
   ],
   "source": [
    "print(model.evaluate(x_data, y_data)[1])"
   ]
  },
  {
   "cell_type": "code",
   "execution_count": 48,
   "id": "6e35c935-1a01-4da3-8a20-eaf1109e38bd",
   "metadata": {},
   "outputs": [
    {
     "name": "stdout",
     "output_type": "stream",
     "text": [
      "63/63 [==============================] - 0s 323us/sample - loss: 0.0399 - acc: 0.9841 - mean_squared_error: 0.0109\n",
      "0.984127\n"
     ]
    }
   ],
   "source": [
    "from sklearn.model_selection import train_test_split\n",
    "# 과적합을 방지하기 위해\n",
    "# 데이터셋에서 train/test 데이터로 분리\n",
    "xtrain, xtest, ytrain, ytest = \\\n",
    "     train_test_split(x_data, y_data,\n",
    "                      test_size=0.3,\n",
    "                      random_state=seed)\n",
    "\n",
    "model.fit(xtrain, ytrain, epochs=1000, verbose=0)\n",
    "\n",
    "print(model.evaluate(xtest, ytest)[1])"
   ]
  },
  {
   "cell_type": "code",
   "execution_count": 41,
   "id": "0babc5fe-922e-471b-834c-9d1f65d56063",
   "metadata": {},
   "outputs": [],
   "source": [
    "# 모델 저장 \n",
    "model.save('models/sonar.csv')"
   ]
  },
  {
   "cell_type": "code",
   "execution_count": 44,
   "id": "2f2ddfd2-6122-4671-affd-b3aced04b063",
   "metadata": {},
   "outputs": [
    {
     "ename": "UnicodeDecodeError",
     "evalue": "'cp949' codec can't decode byte 0xff in position 32: illegal multibyte sequence",
     "output_type": "error",
     "traceback": [
      "\u001b[0;31m---------------------------------------------------------------------------\u001b[0m",
      "\u001b[0;31mUnicodeDecodeError\u001b[0m                        Traceback (most recent call last)",
      "\u001b[0;32m/tmp/ipykernel_3571/1660708299.py\u001b[0m in \u001b[0;36m<module>\u001b[0;34m\u001b[0m\n\u001b[0;32m----> 1\u001b[0;31m \u001b[0ma\u001b[0m \u001b[0;34m=\u001b[0m \u001b[0mpd\u001b[0m\u001b[0;34m.\u001b[0m\u001b[0mread_csv\u001b[0m\u001b[0;34m(\u001b[0m\u001b[0;34m'models/sonar.csv'\u001b[0m \u001b[0;34m,\u001b[0m \u001b[0mencoding\u001b[0m\u001b[0;34m=\u001b[0m \u001b[0;34m'cp949'\u001b[0m\u001b[0;34m)\u001b[0m\u001b[0;34m\u001b[0m\u001b[0;34m\u001b[0m\u001b[0m\n\u001b[0m\u001b[1;32m      2\u001b[0m \u001b[0ma\u001b[0m\u001b[0;34m\u001b[0m\u001b[0;34m\u001b[0m\u001b[0m\n",
      "\u001b[0;32m~/.local/lib/python3.7/site-packages/pandas/util/_decorators.py\u001b[0m in \u001b[0;36mwrapper\u001b[0;34m(*args, **kwargs)\u001b[0m\n\u001b[1;32m    309\u001b[0m                     \u001b[0mstacklevel\u001b[0m\u001b[0;34m=\u001b[0m\u001b[0mstacklevel\u001b[0m\u001b[0;34m,\u001b[0m\u001b[0;34m\u001b[0m\u001b[0;34m\u001b[0m\u001b[0m\n\u001b[1;32m    310\u001b[0m                 )\n\u001b[0;32m--> 311\u001b[0;31m             \u001b[0;32mreturn\u001b[0m \u001b[0mfunc\u001b[0m\u001b[0;34m(\u001b[0m\u001b[0;34m*\u001b[0m\u001b[0margs\u001b[0m\u001b[0;34m,\u001b[0m \u001b[0;34m**\u001b[0m\u001b[0mkwargs\u001b[0m\u001b[0;34m)\u001b[0m\u001b[0;34m\u001b[0m\u001b[0;34m\u001b[0m\u001b[0m\n\u001b[0m\u001b[1;32m    312\u001b[0m \u001b[0;34m\u001b[0m\u001b[0m\n\u001b[1;32m    313\u001b[0m         \u001b[0;32mreturn\u001b[0m \u001b[0mwrapper\u001b[0m\u001b[0;34m\u001b[0m\u001b[0;34m\u001b[0m\u001b[0m\n",
      "\u001b[0;32m~/.local/lib/python3.7/site-packages/pandas/io/parsers/readers.py\u001b[0m in \u001b[0;36mread_csv\u001b[0;34m(filepath_or_buffer, sep, delimiter, header, names, index_col, usecols, squeeze, prefix, mangle_dupe_cols, dtype, engine, converters, true_values, false_values, skipinitialspace, skiprows, skipfooter, nrows, na_values, keep_default_na, na_filter, verbose, skip_blank_lines, parse_dates, infer_datetime_format, keep_date_col, date_parser, dayfirst, cache_dates, iterator, chunksize, compression, thousands, decimal, lineterminator, quotechar, quoting, doublequote, escapechar, comment, encoding, encoding_errors, dialect, error_bad_lines, warn_bad_lines, on_bad_lines, delim_whitespace, low_memory, memory_map, float_precision, storage_options)\u001b[0m\n\u001b[1;32m    584\u001b[0m     \u001b[0mkwds\u001b[0m\u001b[0;34m.\u001b[0m\u001b[0mupdate\u001b[0m\u001b[0;34m(\u001b[0m\u001b[0mkwds_defaults\u001b[0m\u001b[0;34m)\u001b[0m\u001b[0;34m\u001b[0m\u001b[0;34m\u001b[0m\u001b[0m\n\u001b[1;32m    585\u001b[0m \u001b[0;34m\u001b[0m\u001b[0m\n\u001b[0;32m--> 586\u001b[0;31m     \u001b[0;32mreturn\u001b[0m \u001b[0m_read\u001b[0m\u001b[0;34m(\u001b[0m\u001b[0mfilepath_or_buffer\u001b[0m\u001b[0;34m,\u001b[0m \u001b[0mkwds\u001b[0m\u001b[0;34m)\u001b[0m\u001b[0;34m\u001b[0m\u001b[0;34m\u001b[0m\u001b[0m\n\u001b[0m\u001b[1;32m    587\u001b[0m \u001b[0;34m\u001b[0m\u001b[0m\n\u001b[1;32m    588\u001b[0m \u001b[0;34m\u001b[0m\u001b[0m\n",
      "\u001b[0;32m~/.local/lib/python3.7/site-packages/pandas/io/parsers/readers.py\u001b[0m in \u001b[0;36m_read\u001b[0;34m(filepath_or_buffer, kwds)\u001b[0m\n\u001b[1;32m    480\u001b[0m \u001b[0;34m\u001b[0m\u001b[0m\n\u001b[1;32m    481\u001b[0m     \u001b[0;31m# Create the parser.\u001b[0m\u001b[0;34m\u001b[0m\u001b[0;34m\u001b[0m\u001b[0;34m\u001b[0m\u001b[0m\n\u001b[0;32m--> 482\u001b[0;31m     \u001b[0mparser\u001b[0m \u001b[0;34m=\u001b[0m \u001b[0mTextFileReader\u001b[0m\u001b[0;34m(\u001b[0m\u001b[0mfilepath_or_buffer\u001b[0m\u001b[0;34m,\u001b[0m \u001b[0;34m**\u001b[0m\u001b[0mkwds\u001b[0m\u001b[0;34m)\u001b[0m\u001b[0;34m\u001b[0m\u001b[0;34m\u001b[0m\u001b[0m\n\u001b[0m\u001b[1;32m    483\u001b[0m \u001b[0;34m\u001b[0m\u001b[0m\n\u001b[1;32m    484\u001b[0m     \u001b[0;32mif\u001b[0m \u001b[0mchunksize\u001b[0m \u001b[0;32mor\u001b[0m \u001b[0miterator\u001b[0m\u001b[0;34m:\u001b[0m\u001b[0;34m\u001b[0m\u001b[0;34m\u001b[0m\u001b[0m\n",
      "\u001b[0;32m~/.local/lib/python3.7/site-packages/pandas/io/parsers/readers.py\u001b[0m in \u001b[0;36m__init__\u001b[0;34m(self, f, engine, **kwds)\u001b[0m\n\u001b[1;32m    809\u001b[0m             \u001b[0mself\u001b[0m\u001b[0;34m.\u001b[0m\u001b[0moptions\u001b[0m\u001b[0;34m[\u001b[0m\u001b[0;34m\"has_index_names\"\u001b[0m\u001b[0;34m]\u001b[0m \u001b[0;34m=\u001b[0m \u001b[0mkwds\u001b[0m\u001b[0;34m[\u001b[0m\u001b[0;34m\"has_index_names\"\u001b[0m\u001b[0;34m]\u001b[0m\u001b[0;34m\u001b[0m\u001b[0;34m\u001b[0m\u001b[0m\n\u001b[1;32m    810\u001b[0m \u001b[0;34m\u001b[0m\u001b[0m\n\u001b[0;32m--> 811\u001b[0;31m         \u001b[0mself\u001b[0m\u001b[0;34m.\u001b[0m\u001b[0m_engine\u001b[0m \u001b[0;34m=\u001b[0m \u001b[0mself\u001b[0m\u001b[0;34m.\u001b[0m\u001b[0m_make_engine\u001b[0m\u001b[0;34m(\u001b[0m\u001b[0mself\u001b[0m\u001b[0;34m.\u001b[0m\u001b[0mengine\u001b[0m\u001b[0;34m)\u001b[0m\u001b[0;34m\u001b[0m\u001b[0;34m\u001b[0m\u001b[0m\n\u001b[0m\u001b[1;32m    812\u001b[0m \u001b[0;34m\u001b[0m\u001b[0m\n\u001b[1;32m    813\u001b[0m     \u001b[0;32mdef\u001b[0m \u001b[0mclose\u001b[0m\u001b[0;34m(\u001b[0m\u001b[0mself\u001b[0m\u001b[0;34m)\u001b[0m\u001b[0;34m:\u001b[0m\u001b[0;34m\u001b[0m\u001b[0;34m\u001b[0m\u001b[0m\n",
      "\u001b[0;32m~/.local/lib/python3.7/site-packages/pandas/io/parsers/readers.py\u001b[0m in \u001b[0;36m_make_engine\u001b[0;34m(self, engine)\u001b[0m\n\u001b[1;32m   1038\u001b[0m             )\n\u001b[1;32m   1039\u001b[0m         \u001b[0;31m# error: Too many arguments for \"ParserBase\"\u001b[0m\u001b[0;34m\u001b[0m\u001b[0;34m\u001b[0m\u001b[0;34m\u001b[0m\u001b[0m\n\u001b[0;32m-> 1040\u001b[0;31m         \u001b[0;32mreturn\u001b[0m \u001b[0mmapping\u001b[0m\u001b[0;34m[\u001b[0m\u001b[0mengine\u001b[0m\u001b[0;34m]\u001b[0m\u001b[0;34m(\u001b[0m\u001b[0mself\u001b[0m\u001b[0;34m.\u001b[0m\u001b[0mf\u001b[0m\u001b[0;34m,\u001b[0m \u001b[0;34m**\u001b[0m\u001b[0mself\u001b[0m\u001b[0;34m.\u001b[0m\u001b[0moptions\u001b[0m\u001b[0;34m)\u001b[0m  \u001b[0;31m# type: ignore[call-arg]\u001b[0m\u001b[0;34m\u001b[0m\u001b[0;34m\u001b[0m\u001b[0m\n\u001b[0m\u001b[1;32m   1041\u001b[0m \u001b[0;34m\u001b[0m\u001b[0m\n\u001b[1;32m   1042\u001b[0m     \u001b[0;32mdef\u001b[0m \u001b[0m_failover_to_python\u001b[0m\u001b[0;34m(\u001b[0m\u001b[0mself\u001b[0m\u001b[0;34m)\u001b[0m\u001b[0;34m:\u001b[0m\u001b[0;34m\u001b[0m\u001b[0;34m\u001b[0m\u001b[0m\n",
      "\u001b[0;32m~/.local/lib/python3.7/site-packages/pandas/io/parsers/c_parser_wrapper.py\u001b[0m in \u001b[0;36m__init__\u001b[0;34m(self, src, **kwds)\u001b[0m\n\u001b[1;32m     67\u001b[0m         \u001b[0mkwds\u001b[0m\u001b[0;34m[\u001b[0m\u001b[0;34m\"dtype\"\u001b[0m\u001b[0;34m]\u001b[0m \u001b[0;34m=\u001b[0m \u001b[0mensure_dtype_objs\u001b[0m\u001b[0;34m(\u001b[0m\u001b[0mkwds\u001b[0m\u001b[0;34m.\u001b[0m\u001b[0mget\u001b[0m\u001b[0;34m(\u001b[0m\u001b[0;34m\"dtype\"\u001b[0m\u001b[0;34m,\u001b[0m \u001b[0;32mNone\u001b[0m\u001b[0;34m)\u001b[0m\u001b[0;34m)\u001b[0m\u001b[0;34m\u001b[0m\u001b[0;34m\u001b[0m\u001b[0m\n\u001b[1;32m     68\u001b[0m         \u001b[0;32mtry\u001b[0m\u001b[0;34m:\u001b[0m\u001b[0;34m\u001b[0m\u001b[0;34m\u001b[0m\u001b[0m\n\u001b[0;32m---> 69\u001b[0;31m             \u001b[0mself\u001b[0m\u001b[0;34m.\u001b[0m\u001b[0m_reader\u001b[0m \u001b[0;34m=\u001b[0m \u001b[0mparsers\u001b[0m\u001b[0;34m.\u001b[0m\u001b[0mTextReader\u001b[0m\u001b[0;34m(\u001b[0m\u001b[0mself\u001b[0m\u001b[0;34m.\u001b[0m\u001b[0mhandles\u001b[0m\u001b[0;34m.\u001b[0m\u001b[0mhandle\u001b[0m\u001b[0;34m,\u001b[0m \u001b[0;34m**\u001b[0m\u001b[0mkwds\u001b[0m\u001b[0;34m)\u001b[0m\u001b[0;34m\u001b[0m\u001b[0;34m\u001b[0m\u001b[0m\n\u001b[0m\u001b[1;32m     70\u001b[0m         \u001b[0;32mexcept\u001b[0m \u001b[0mException\u001b[0m\u001b[0;34m:\u001b[0m\u001b[0;34m\u001b[0m\u001b[0;34m\u001b[0m\u001b[0m\n\u001b[1;32m     71\u001b[0m             \u001b[0mself\u001b[0m\u001b[0;34m.\u001b[0m\u001b[0mhandles\u001b[0m\u001b[0;34m.\u001b[0m\u001b[0mclose\u001b[0m\u001b[0;34m(\u001b[0m\u001b[0;34m)\u001b[0m\u001b[0;34m\u001b[0m\u001b[0;34m\u001b[0m\u001b[0m\n",
      "\u001b[0;32m~/.local/lib/python3.7/site-packages/pandas/_libs/parsers.pyx\u001b[0m in \u001b[0;36mpandas._libs.parsers.TextReader.__cinit__\u001b[0;34m()\u001b[0m\n",
      "\u001b[0;32m~/.local/lib/python3.7/site-packages/pandas/_libs/parsers.pyx\u001b[0m in \u001b[0;36mpandas._libs.parsers.TextReader._get_header\u001b[0;34m()\u001b[0m\n",
      "\u001b[0;32m~/.local/lib/python3.7/site-packages/pandas/_libs/parsers.pyx\u001b[0m in \u001b[0;36mpandas._libs.parsers.TextReader._tokenize_rows\u001b[0;34m()\u001b[0m\n",
      "\u001b[0;32m~/.local/lib/python3.7/site-packages/pandas/_libs/parsers.pyx\u001b[0m in \u001b[0;36mpandas._libs.parsers.raise_parser_error\u001b[0;34m()\u001b[0m\n",
      "\u001b[0;31mUnicodeDecodeError\u001b[0m: 'cp949' codec can't decode byte 0xff in position 32: illegal multibyte sequence"
     ]
    }
   ],
   "source": []
  }
 ],
 "metadata": {
  "kernelspec": {
   "display_name": "Python 3 (ipykernel)",
   "language": "python",
   "name": "python3"
  },
  "language_info": {
   "codemirror_mode": {
    "name": "ipython",
    "version": 3
   },
   "file_extension": ".py",
   "mimetype": "text/x-python",
   "name": "python",
   "nbconvert_exporter": "python",
   "pygments_lexer": "ipython3",
   "version": "3.7.10"
  }
 },
 "nbformat": 4,
 "nbformat_minor": 5
}
