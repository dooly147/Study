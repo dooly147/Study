{
 "cells": [
  {
   "cell_type": "markdown",
   "id": "d9dc667d-c56b-48c9-967c-640cd508a798",
   "metadata": {},
   "source": [
    "### 퍼셉트론perceptron\n",
    "* 신경망(딥러닝)의 기원이 되는 알고리즘\n",
    "* 1943년 메컬러, 핏츠가 생물의 신경세포를 모방한 형식적인 신경모형에 대한 논문에서 최초 제안\n",
    "<img src='img/logical_calculus.png' width='350px'>\n",
    "\n",
    "* 1957년 프랑크 로젠블라트가 고안한 알고리즘 발표\n",
    "    + 전자부품을 이용해서 물리적 회로망 구성<br><br>\n",
    "* 1969년 민스키가 퍼셉트론의 한계를 수학적으로 증명\n",
    "    + 즉, 단순한 선형분류기이므로 간단한 XOR 분류는 수행할 수 없음\n",
    "    + 이로서 인공신경망 연구는 소멸, 투자 감소 - AI 빙하기 도래\n",
    "    + 키워드 : 인공지능 <br><br>\n",
    "\n",
    "* 1986년 럼멜하트, 힌튼이 은닉층을 이용한 다층 퍼셉트론MLP와 역전파backpropagation 알고리즘을 이용해서 XOR문제를 해결함\n",
    "<img src='img/xor_solve.gif'>\n",
    "\n",
    "* 1989년 러쿤은 합성곱Convolutional Neural Networks 알고리즘을 적용해서 필기숫자 인식문제를 해결하는 논문 발표\n",
    "\n",
    "* 한편, 이러한 알고리즘은 학습시간이 많이 걸리고 사람만이 가능한 일을 기계가 하도록 프로그래밍 하는 것이 어려움. \n",
    "    + 또한, 성능이 좋은 하드웨어를 필요로 함\n",
    "    + MLP보다 성능이 좋은 Random Forest와 커널기반의 SVM이 주목받음 - 2번째 AI 빙하기 도래\n",
    "    + 키워드 : 인공신경망<br><br>\n",
    "<img src='img/xor_limitation.gif'>\n",
    "   \n",
    "* 2006년 힌튼이 신경망 학습시 가중치의 초기값을 적절히 조절하면 학습효과가 좋아진다고 논문에서 발표\n",
    "    + 사전훈련의 중요성 설파<br><br>\n",
    "* 2007년 벤지오 팀이 자기부호화autoencoder를 통한 사전학습 방법을 제안\n",
    "\n",
    "* 2012년 힌튼 교수의 제자 알렉스가 딥러닝 기반 알고리즘으로 IMAGENET 이미지 분류대회에서 84.7% 정확도 달성\n",
    "    + 성능이 좋은 GPU의 도움을 받아 딥러닝의 성능이 한층 개선됨<br><br>\n",
    "\n",
    "* 성능이 좋은 하드웨어의 출현과 인터넷의 도움으로 막대한 크기의 데이터 수집 가능 => 분석에 활용할 기회가 제공 => 딥러닝의 성능이 한층 개선\n",
    "* 키워드 : 딥러닝"
   ]
  },
  {
   "cell_type": "markdown",
   "id": "2f9c65f0-143c-484e-85b7-4bc2a949d321",
   "metadata": {},
   "source": [
    "### 퍼센트론의 동작원리\n",
    "* 가중치weight : 전기전자의 개념을 비유하자면 전류의 흐름을 억제하는 매개변수(저항)와 유사\n",
    "    + 오차를 발생하게 하는 외부요인(=기울기)<br><br>\n",
    "* 편향bais : 오차를 발생하게 하는 외부요인(=절편)\n",
    "* 입력값과 가중치의 곱을 모두 더한 후 활성화 함수를 적용해서 \n",
    "    + 그 값이 0보다 크면 1 0보다 작으면 작으면 0을 출력하는 분류기를 만듦\n",
    "#### $ y = 0 : x_1w_1 + x_2w_2 + b < 0 $\n",
    "#### $ y = 1 : x_1w_1 + x_2w_2 + b > 0 $"
   ]
  },
  {
   "cell_type": "markdown",
   "id": "922f8a1b-a81a-41e1-ad92-63ae19ba3750",
   "metadata": {},
   "source": [
    "### 퍼셉트론 구현하기\n",
    "<img src='img/perceptron_image.png'>\n",
    "* 입력값 x1, x2와 가중치w1, w2들의 곱을 모두 더한후 활성화 함수sigmoid를 적용해서 그값이 0보다 크면1, 0보다 작으면 0을 출력하는 분류기\n",
    "* 임계치theta를 넘어서면 1로 출력하기도함"
   ]
  },
  {
   "cell_type": "code",
   "execution_count": 1,
   "id": "34beefad-855a-437c-a46c-926fa50b9eac",
   "metadata": {},
   "outputs": [],
   "source": [
    "import numpy as np"
   ]
  },
  {
   "cell_type": "code",
   "execution_count": 2,
   "id": "2b6c7fba-405a-4319-8aa6-edc2d442ab8a",
   "metadata": {},
   "outputs": [],
   "source": [
    "def AND(x1, x2):\n",
    "    x = np.array([x1, x2])\n",
    "    w = np.array([0.5, 0.5])  # 가중치\n",
    "    b = -0.7                  # 편향\n",
    "    val = 0                   # 출력값\n",
    "    # sum = x1*w1 + x2*w2 + b\n",
    "    sum = np.sum(x * w) + b   # 행렬을 사용하면 식이 간단\n",
    "\n",
    "    if sum > 0: val = 1       # 0보다 크면 1로 출력\n",
    "\n",
    "    return val"
   ]
  },
  {
   "cell_type": "code",
   "execution_count": 3,
   "id": "600aa15c-01ee-484b-a438-db9257844e6f",
   "metadata": {},
   "outputs": [],
   "source": [
    "def OR(x1, x2):\n",
    "    x = np.array([x1, x2])\n",
    "    w = np.array([0.5, 0.5])  # 가중치\n",
    "    b = -0.2                  # 편향\n",
    "    val = 0                   # 출력값\n",
    "    sum = np.sum(x * w) + b   # 행렬을 사용하면 식이 간단\n",
    "\n",
    "    if sum > 0: val = 1       # 0보다 크면 1로 출력\n",
    "\n",
    "    return val"
   ]
  },
  {
   "cell_type": "code",
   "execution_count": 4,
   "id": "f7410b57-38a1-4ff4-bc5e-2908ede85b1a",
   "metadata": {},
   "outputs": [
    {
     "name": "stdout",
     "output_type": "stream",
     "text": [
      "0 AND 0 =  0\n",
      "0 AND 1 =  0\n",
      "1 AND 0 =  0\n",
      "1 AND 1 =  1\n"
     ]
    }
   ],
   "source": [
    "print('0 AND 0 = ', AND(0,0))\n",
    "print('0 AND 1 = ', AND(0,1))\n",
    "print('1 AND 0 = ', AND(1,0))\n",
    "print('1 AND 1 = ', AND(1,1))"
   ]
  },
  {
   "cell_type": "code",
   "execution_count": 5,
   "id": "51dea3de-9758-4b8a-966a-5e7e3c13c1f6",
   "metadata": {},
   "outputs": [
    {
     "name": "stdout",
     "output_type": "stream",
     "text": [
      "0 OR 0 =  0\n",
      "0 OR 1 =  1\n",
      "1 OR 0 =  1\n",
      "1 OR 1 =  1\n"
     ]
    }
   ],
   "source": [
    "print('0 OR 0 = ', OR(0,0))\n",
    "print('0 OR 1 = ', OR(0,1))\n",
    "print('1 OR 0 = ', OR(1,0))\n",
    "print('1 OR 1 = ', OR(1,1))"
   ]
  },
  {
   "cell_type": "code",
   "execution_count": 6,
   "id": "8c268827-b817-49c7-a156-f41e21403c2c",
   "metadata": {},
   "outputs": [],
   "source": [
    "# AND 앞에 Not 을 붙임 \n",
    "# AND연산의 반대가 나옴\n",
    "def NAND(x1, x2):\n",
    "    x = np.array([x1, x2])\n",
    "    w = np.array([-0.5, -0.5])  # NAND는 가중치를 음수로\n",
    "    b = 0.7                     # 편향은 양수로\n",
    "    val = 0\n",
    "    sum = np.sum(x * w) + b\n",
    "\n",
    "    if sum > 0: val = 1\n",
    "\n",
    "    return val"
   ]
  },
  {
   "cell_type": "code",
   "execution_count": 7,
   "id": "cebce51b-b327-4142-9248-195c76d954c1",
   "metadata": {},
   "outputs": [
    {
     "name": "stdout",
     "output_type": "stream",
     "text": [
      "0 NAND 0 =  1\n",
      "0 NAND 1 =  1\n",
      "1 NAND 0 =  1\n",
      "1 NAND 1 =  0\n"
     ]
    }
   ],
   "source": [
    "print('0 NAND 0 = ', NAND(0,0))\n",
    "print('0 NAND 1 = ', NAND(0,1))\n",
    "print('1 NAND 0 = ', NAND(1,0))\n",
    "print('1 NAND 1 = ', NAND(1,1))"
   ]
  },
  {
   "cell_type": "markdown",
   "id": "f9d20d21-4254-46cd-994b-7d36fe3be812",
   "metadata": {},
   "source": [
    "### 베타적 논리합XOR\n",
    "* 하나 이상의 퍼셉트론을 이용 MLP\n",
    "* 즉, AND, OR, NAND 퍼셉트론을 조합해서 구현"
   ]
  },
  {
   "cell_type": "markdown",
   "id": "27ca4853-7da3-4346-ac37-4553d3d74788",
   "metadata": {},
   "source": [
    "<img src='img/neural3.jpg' width='50%'>"
   ]
  },
  {
   "cell_type": "code",
   "execution_count": 8,
   "id": "a5a45b0c-92ba-4eb1-bf43-e32eb0c588c8",
   "metadata": {},
   "outputs": [],
   "source": [
    "def XOR(x1, x2):\n",
    "    p1 = NAND(x1, x2)\n",
    "    p2 = OR(x1, x2)\n",
    "    val = AND(p1, p2)\n",
    "\n",
    "    return val"
   ]
  },
  {
   "cell_type": "code",
   "execution_count": 9,
   "id": "145cc90c-6b1f-4d26-89cf-a635614662b4",
   "metadata": {},
   "outputs": [
    {
     "name": "stdout",
     "output_type": "stream",
     "text": [
      "0 XOR 0 =  0\n",
      "0 XOR 1 =  1\n",
      "1 XOR 0 =  1\n",
      "1 XOR 1 =  0\n"
     ]
    }
   ],
   "source": [
    "print('0 XOR 0 = ', XOR(0,0))\n",
    "print('0 XOR 1 = ', XOR(0,1))\n",
    "print('1 XOR 0 = ', XOR(1,0))\n",
    "print('1 XOR 1 = ', XOR(1,1))"
   ]
  },
  {
   "cell_type": "markdown",
   "id": "2757c0da-8f19-49bf-bf70-6ca574e6d969",
   "metadata": {},
   "source": [
    "### 활성화 함수activation function\n",
    "* 신경망 개별 뉴런에 들어오는 입력신호의 총합을\n",
    "* 출력신호로 변환하는 함수\n",
    "* 퍼셉트론에는 없었지만 신경망에서 도입하기 시작\n",
    "* 대개 선형함수가 아닌 비선형함수를 활성화 함수로 사용\n",
    "* 종류는 sigmoid, relu, tanh, softmax"
   ]
  },
  {
   "cell_type": "markdown",
   "id": "5ee5fd36-9022-4e01-8841-2d191e575d6d",
   "metadata": {},
   "source": [
    "### perceptron 계산하기1\n",
    "<img src='img/testme.png' width= '30%'>\n",
    "* 입력값 : x1, x2 = 1.0, 0.5\n",
    "* 가중치 : w1, w2, w3, w4 = 0.9, 0.2, 0.3, 0.8<br>\n",
    "    * 첫번째 노드 출력값 : (1.0 X 0.9) + (0.5 X 0.3)<br>\n",
    "    * 첫번째 노드 출력값(가중치x) : 1.0 + 0.5 => 1.05<br><br>\n",
    "    \n",
    "* 좀 더 나은 신경망 학습을 위해 활성화 함수를 사용해서 노드 출력값을 조정함\n",
    "    + 시그모이드 함수 : y = 1 / (1 + e ** -x)\n",
    "    + 첫번째 노드 출력값(가중치 + 활성화함수)\n",
    "    + 1 / (1 + 2.71828 ** -1.05) = 1 / (1 + 0.3499) => 0.7408"
   ]
  },
  {
   "cell_type": "markdown",
   "id": "c29834ec-49b2-4ba7-a539-93c940d154de",
   "metadata": {},
   "source": [
    "### perceptron 계산하기2\n",
    "* 지금까지 수작업으로 다층 퍼셉트론에 전달되는 값에 대한 결과값을 계산하였음\n",
    "* 한편, 복잡하게 구성되는 다층 퍼셉트론에서는 이러한 수작업은 불가능에 가까움\n",
    "* 수 많은 계층과 노드들을 가지는 복잡한 신경망의 계산은 매우 간결하게 출력값을 구할 수 있는 수학적 방법이 필요\n",
    "    + 간결한 접근 방법을 제공하는 것 : 행렬(벡터) 연산\n",
    "    + 신경망의 각 노드의 입력값/가중치는 벡터로 표현"
   ]
  },
  {
   "cell_type": "markdown",
   "id": "627a33c2-c377-43b7-82da-db109afdb022",
   "metadata": {},
   "source": [
    "<img src='img/testme2.png' width= '30%'>"
   ]
  },
  {
   "cell_type": "code",
   "execution_count": 10,
   "id": "40d7aff3-9ef1-49b6-8041-57d1b0f87109",
   "metadata": {},
   "outputs": [],
   "source": [
    "# numpy 행렬값 출력 형식 지정 : 소수 3자리\n",
    "# np.set_printoptions(precision=3)\n",
    "np.set_printoptions(\n",
    "       formatter={'float':'{:.3f}'.format})"
   ]
  },
  {
   "cell_type": "code",
   "execution_count": 11,
   "id": "46b1661b-1e2d-41e8-a036-a6253e6dc2c8",
   "metadata": {},
   "outputs": [],
   "source": [
    "# 시그모이드 함수 정의\n",
    "def sigmoid(x):\n",
    "    try:\n",
    "        # 입력값이 행렬이라면\n",
    "        for i in range(0, len(x)):\n",
    "            x[i] = 1 / (1 + np.e ** -x[i])\n",
    "    except:\n",
    "        # 입력값이 단일값이라면\n",
    "        x = 1 / (1 + np.e ** -x)\n",
    "\n",
    "    return x"
   ]
  },
  {
   "cell_type": "code",
   "execution_count": 22,
   "id": "4ccba17e-e4fd-4973-b3fc-0d872d8e9e6d",
   "metadata": {},
   "outputs": [
    {
     "data": {
      "text/plain": [
       "array([1.050, 0.600])"
      ]
     },
     "execution_count": 22,
     "metadata": {},
     "output_type": "execute_result"
    }
   ],
   "source": [
    "X = np.array([1.0, 0.5])\n",
    "W = np.array([[0.9, 0.2],\n",
    "             [0.3, 0.8]])\n",
    "Y = np.dot(X,W)\n",
    "\n",
    "Y"
   ]
  },
  {
   "cell_type": "code",
   "execution_count": 54,
   "id": "2ef24292-a6de-4975-9e6d-b2bb4a456b4c",
   "metadata": {},
   "outputs": [],
   "source": [
    "X = np.array([0.9, 0.1, 0.8])\n",
    "W1 = np.array([[0.9, 0.3, 0.4], [0.2,0.8,0.2],[0.1,0.5,0.6]])\n",
    "W2 = np.array([[0.3, 0.7, 0.5], [0.6,0.5,0.2],[0.8,0.1,0.9]])"
   ]
  },
  {
   "cell_type": "code",
   "execution_count": 55,
   "id": "0c764f22-37c8-469e-a9b3-c17e94a283ac",
   "metadata": {},
   "outputs": [],
   "source": [
    "Y1 = np.dot(X,W1)\n",
    "Y2 = np.dot(Y1,W2)"
   ]
  },
  {
   "cell_type": "code",
   "execution_count": 56,
   "id": "d88765eb-d5c7-47c0-891d-3270daef55a5",
   "metadata": {},
   "outputs": [
    {
     "data": {
      "text/plain": [
       "array([0.804, 0.750, 0.799])"
      ]
     },
     "execution_count": 56,
     "metadata": {},
     "output_type": "execute_result"
    }
   ],
   "source": [
    "sigmoid(Y2)"
   ]
  },
  {
   "cell_type": "markdown",
   "id": "946605a0-33c6-480f-9641-72ff44ed043a",
   "metadata": {},
   "source": [
    "<img src='img/testme2.png' width= '30%'>"
   ]
  },
  {
   "cell_type": "markdown",
   "id": "75472842-1956-4b75-a39f-7d4d2fd09411",
   "metadata": {},
   "source": [
    "* 입력층, 은닉층, 출력층으로 구성된 신경망에서\n",
    "* 입력값과 가중치와 활성화 함수 계산과정을\n",
    "* 행렬로 표현해서 알아봄\n"
   ]
  },
  {
   "cell_type": "code",
   "execution_count": 48,
   "id": "19394e2f-d3b4-4c54-989a-74c2f20d2bd4",
   "metadata": {},
   "outputs": [],
   "source": [
    "X = np.array([0.9, 0.1, 0.8])\n",
    "W1 = np.array([[0.9, 0.3, 0.4],[0.2, 0.8, 0.2],[0.1, 0.5, 0.6]])\n",
    "W2 = np.array([[0.3, 0.7, 0.5],[0.6, 0.5, 0.2],[0.8, 0.1, 0.9]])"
   ]
  },
  {
   "cell_type": "code",
   "execution_count": 49,
   "id": "38aa4897-be04-43fa-9983-c88b4dbcb1a3",
   "metadata": {},
   "outputs": [],
   "source": [
    "# 입력층에서 은닉층으로 순전파\n",
    "Y1 = np.dot(X, W1)"
   ]
  },
  {
   "cell_type": "code",
   "execution_count": 50,
   "id": "c933dc0e-94bd-4827-a339-ce782386f46a",
   "metadata": {},
   "outputs": [],
   "source": [
    "# 은닉층에서 출력층으로 순전파\n",
    "Y2 = np.dot(X, W2)"
   ]
  },
  {
   "cell_type": "code",
   "execution_count": 51,
   "id": "cc2bf9ac-193a-4f30-8f00-7407b24b7b1c",
   "metadata": {},
   "outputs": [
    {
     "data": {
      "text/plain": [
       "array([0.725, 0.681, 0.767])"
      ]
     },
     "execution_count": 51,
     "metadata": {},
     "output_type": "execute_result"
    }
   ],
   "source": [
    "# 활성화함수를 이용해서 최종결과값 계산\n",
    "sigmoid(Y2)"
   ]
  },
  {
   "cell_type": "markdown",
   "id": "7bf7c6a2-af4d-467a-a6c0-fa78bd76dc59",
   "metadata": {},
   "source": [
    "### 활성화 함수의 중요성\n",
    "* 입력값과 가중치의 곱의 합으로 나온 결과를 한번 더 정재하기 위한 목적의 함수\n",
    "* 여러 노드가 보내주는 값을 적절하게 필터링해서 출력층으로 값을 보내줘야만 올바른 분석을 할 수 있는 결과 도출\n",
    "\n",
    "### 활성화 함수의 종류\n",
    "* 시그모이드 : 초기 신경망에서 사용했던 활성화 함수\n",
    "    + MLP 신경망에서 발생된 문제 때문에 더이상 사용하지 않는 활성화 함수\n",
    "    + 가중치 소멸문제 : vanishing gradient<br><br>\n",
    "\n",
    "* tanh : 하이퍼블릭 탄첸트\n",
    "    + 시그모이드 함수의 y값의 범위를 -1~1로 확장\n",
    "    + 여전히 은닉층 수가 증가하면 가중치 소멸문제 발생<br><br>\n",
    "\n",
    "* ReLu : 힌튼 교수가 제안 - 시그모이드 함수의 대안\n",
    "    + x가 0보다 작으면 모든 값을 0으로, x가 0보다 크면 x값 그대로 사용<br><br>\n",
    "\n",
    "* ReLu-6 : x가 0보다 크면 그대로 사용하되 6을 넘지 않도록 조정\n",
    "\n",
    "* softmax : 입력값에 대해 0 ~ 1사이의 값으로 출력하되\n",
    "    + 출력값의 총합이 항상 1이 되도록 함\n",
    "    + 주로 범주형 데이터분석시 사용하는 활성화 함수"
   ]
  },
  {
   "cell_type": "code",
   "execution_count": 57,
   "id": "13bd2cf4-6eb5-419e-9e83-455afd981d85",
   "metadata": {},
   "outputs": [],
   "source": [
    "import numpy as np\n",
    "import matplotlib.pyplot as plt"
   ]
  },
  {
   "cell_type": "code",
   "execution_count": 58,
   "id": "ca33c05d-e160-4be5-8fee-66c2a8bb7a33",
   "metadata": {},
   "outputs": [],
   "source": [
    "def sigmoid(x):\n",
    "    y = []\n",
    "    for i in x:\n",
    "        y.append(1 / (1 + np.e ** -i))\n",
    "    return y"
   ]
  },
  {
   "cell_type": "code",
   "execution_count": 60,
   "id": "010a17be-2cf1-4ec6-87d8-d7bd2df62f08",
   "metadata": {},
   "outputs": [
    {
     "data": {
      "image/png": "[encoded data removed]",
      "text/plain": [
       "<Figure size 432x288 with 1 Axes>"
      ]
     },
     "metadata": {
      "needs_background": "light"
     },
     "output_type": "display_data"
    }
   ],
   "source": [
    "x = np.arange(-10, 10, 0.2)\n",
    "sig = sigmoid(x)\n",
    "\n",
    "plt.plot(x, sig, 'r')\n",
    "plt.show()"
   ]
  },
  {
   "cell_type": "code",
   "execution_count": 62,
   "id": "4e52ab97-685a-4b4a-b708-35d1466f595b",
   "metadata": {},
   "outputs": [
    {
     "data": {
      "image/png": "[encoded data removed]",
      "text/plain": [
       "<Figure size 432x288 with 1 Axes>"
      ]
     },
     "metadata": {
      "needs_background": "light"
     },
     "output_type": "display_data"
    }
   ],
   "source": [
    "def tanh(x):\n",
    "    y = []\n",
    "    for i in x:\n",
    "        # y.append(np.sinh(i) / np.cosh(i))\n",
    "        y.append(np.tanh(i))\n",
    "    return y\n",
    "\n",
    "x = np.arange(-10, 10, 0.2)\n",
    "tanh = tanh(x)\n",
    "\n",
    "plt.plot(x, tanh, 'r')\n",
    "plt.show()"
   ]
  },
  {
   "cell_type": "code",
   "execution_count": 64,
   "id": "ac0f893b-942b-41fb-8669-5ec55611a73a",
   "metadata": {},
   "outputs": [
    {
     "data": {
      "image/png": "[encoded data removed]",
      "text/plain": [
       "<Figure size 432x288 with 1 Axes>"
      ]
     },
     "metadata": {
      "needs_background": "light"
     },
     "output_type": "display_data"
    }
   ],
   "source": [
    "# ReLu\n",
    "def relu(x):\n",
    "    zeros = np.zeros(len(x))   # 입력수만큼 0행렬 생성\n",
    "    y = np.max([zeros, x], axis=0)  # 행기준 최댓값 비교\n",
    "    return y\n",
    "\n",
    "x = np.arange(-10, 10, 0.2)\n",
    "relu = relu(x)\n",
    "\n",
    "plt.plot(x, relu, 'r')\n",
    "plt.show()"
   ]
  },
  {
   "cell_type": "code",
   "execution_count": 65,
   "id": "645fe311-330c-4963-b080-2d1c388ac915",
   "metadata": {},
   "outputs": [
    {
     "name": "stdout",
     "output_type": "stream",
     "text": [
      "[0.659 0.242 0.099] 1.0\n"
     ]
    },
    {
     "data": {
      "image/png": "[encoded data removed]",
      "text/plain": [
       "<Figure size 432x288 with 1 Axes>"
      ]
     },
     "metadata": {
      "needs_background": "light"
     },
     "output_type": "display_data"
    }
   ],
   "source": [
    "# softmax\n",
    "def softmax(x):\n",
    "    y = np.exp(x) / np.sum(np.exp(x), axis=0)\n",
    "    return y\n",
    "\n",
    "# x = np.arange(-10, 10, 0.2)\n",
    "x = np.array([2.0, 1.0, 0.1])\n",
    "softmax = softmax(x)\n",
    "print(softmax, np.sum(softmax))  # 총합이 1인지 확인\n",
    "\n",
    "plt.plot(x, softmax)\n",
    "plt.show()"
   ]
  },
  {
   "cell_type": "markdown",
   "id": "3607da6b-1fc8-450c-97ba-3617aafe4f05",
   "metadata": {},
   "source": [
    "### 손실함수loss function\n",
    "* 비용cost함수라고도 함\n",
    "* 신경망이 잘 학습하고 있는지를 나타내주는 지표\n",
    "* 손실loss,비용cost은 출력값과 실제값 사이의 오차를 의미\n",
    "* 신경망에서는 이것들이 최소화되도록 하는 과정이 학습임\n",
    "* 따라서, 손실이 최소화된다는 것은 학습이 잘되고 있음을 의미\n",
    "\n",
    "* 딥러닝에서 손실함수는 평균제곱오차MSE(회귀)와 교차엔트로피오차CEE(분류)를 사용함"
   ]
  },
  {
   "cell_type": "markdown",
   "id": "1db5ce42-e57f-4722-98d0-09fa256179b4",
   "metadata": {},
   "source": [
    "### 학습 최적화 방법\n",
    "* 텐서플로에서는 optimizer로 설정\n",
    "\n",
    "* 경사하강법SGD - 확률적 경사하강법 : 무작위 값을 대입\n",
    "\n",
    "* 모멘텀        - SGD + 무작위값에 탄성을 부여 (정확도 개선)\n",
    "\n",
    "* 아다그라드adagrad - 학습률에 탄성을 부여 (보폭크기 개선)\n",
    "*                     무작위값 대입 횟수를 조절\n",
    "\n",
    "* RMSprop - adagrad의 보폭 민감도를 개선 (보폭크기 개선)\n",
    "\n",
    "* Adam - 무작위값에 탄성부여, 학습률에도 탄성 부여\n",
    "*          즉, 정확도 개선 + 보폭크기 개선"
   ]
  }
 ],
 "metadata": {
  "kernelspec": {
   "display_name": "Python 3 (ipykernel)",
   "language": "python",
   "name": "python3"
  },
  "language_info": {
   "codemirror_mode": {
    "name": "ipython",
    "version": 3
   },
   "file_extension": ".py",
   "mimetype": "text/x-python",
   "name": "python",
   "nbconvert_exporter": "python",
   "pygments_lexer": "ipython3",
   "version": "3.7.10"
  }
 },
 "nbformat": 4,
 "nbformat_minor": 5
}
