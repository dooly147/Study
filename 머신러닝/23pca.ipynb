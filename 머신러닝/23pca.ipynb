{
 "cells": [
  {
   "cell_type": "markdown",
   "id": "24b492b1-be02-42d7-ab56-1de948e0d2bf",
   "metadata": {},
   "source": [
    "### 주성분분석 Principal Component Analysis\n",
    "* 자료의 요약이나 <span style=color:green>**'선형관계식'**</span>을 통해 <span style=color:green>**'차원수'**</span>를 감소시켜 데이터해석을 용이하게 하는데 있음\n",
    "* 서로 상관이 없거나 독립적인 새로운 변수들을 이용해서 정보손실을 최소화하도록 함\n",
    "\n",
    "* 둘 이상의 양적변수등 사이에서 분산/공분산 관계를 이용하여<br>\n",
    "변수들의 선형결합으로 나타나는 주성분을 찾고 <br>\n",
    "이 중 중요한 n개의 주성분으로 전체변동의 대부분을 설명하고자 하는 다변량 분석법\n",
    "* 예를 들어, 8x8크기의 손글씨 데이터 경우\n",
    "    + 총 64개의 특성으로 구성되어 있는데 글씨가 쓰여진 영역만 따로 골라서 분석에 활용한다면 64개의 특성이 모두 다 필요한 것은 아님\n"
   ]
  },
  {
   "cell_type": "markdown",
   "id": "537bfd3f-4a0a-41ba-86a1-9b56006a8346",
   "metadata": {},
   "source": [
    "* 차원축소 방법 - 투영/사영projection\n",
    "    + 먼저, 데이터에 임의의 초평면을 정의한 다음\n",
    "    + 데이터들을 이 평면에 투영함\n",
    "    + 그런 다음, 데이터의 분산이 최대로 보존되는지 확인\n",
    "* PCA를 이용해 고차원의 데이터를<br>\n",
    "정보손실없이 변환함으로써 시각화가 편리해지고<br>\n",
    "데이터의 크기가 감소함으로써 빠른 학습이 가능해짐\n",
    "* PCA 분석을 위해 공분산/고유벡터/고유값에 대한 개념 필요 - 선형대수"
   ]
  },
  {
   "cell_type": "markdown",
   "id": "b48598ce-ac31-4804-8d6e-1410ad25c258",
   "metadata": {},
   "source": [
    "### 주성분 분석 순서\n",
    "* 먼저 데이터를 표준화/정규화한 후\n",
    "* 각 변수간 공분산을 구하고\n",
    "* 공분산을 이용해서 고유값/고유벡터를 구함\n",
    "* 분산이 큰 고유벡터를 찾아 데이터를 이것에 투영해서\n",
    "* 그 결과값들을 분석이나 시각화에 사용"
   ]
  },
  {
   "cell_type": "markdown",
   "id": "bb4afbb9-0482-4608-94ab-0c0dd7bddfbf",
   "metadata": {},
   "source": [
    "<img src='img/pca.gif'>"
   ]
  },
  {
   "cell_type": "code",
   "execution_count": 1,
   "id": "12349ed9-a164-46bc-a5fc-1b9a1a0c0ebb",
   "metadata": {},
   "outputs": [],
   "source": [
    "# iris 데이터셋을 이용해서 주성분 분석 실시\n",
    "import numpy as np\n",
    "import pandas as pd\n",
    "import matplotlib.pyplot as plt\n",
    "from sklearn.datasets import load_iris\n",
    "from sklearn.preprocessing import StandardScaler\n",
    "from sklearn.decomposition import PCA"
   ]
  },
  {
   "cell_type": "code",
   "execution_count": 2,
   "id": "6ef3f351-f5b3-4ebe-b002-f1c4f906c46c",
   "metadata": {},
   "outputs": [],
   "source": [
    "# 데이터 적재\n",
    "iris = load_iris()\n",
    "data = iris.data\n",
    "target = iris.target"
   ]
  },
  {
   "cell_type": "code",
   "execution_count": 3,
   "id": "16a6166f-1174-4e30-9957-aedc278242a9",
   "metadata": {},
   "outputs": [],
   "source": [
    "# 전처리\n",
    "data = StandardScaler().fit_transform(data)"
   ]
  },
  {
   "cell_type": "markdown",
   "id": "2b21ec6d-bada-4ddc-8c77-83a15e36bd04",
   "metadata": {},
   "source": [
    "### 공분산 계산\n",
    "* 각 독립변수(특성)별 상관관계 파악\n",
    "* 그러기 위해서는 특성들을 전치행렬로 변환해야 함\n",
    "* 전치행렬은 객체명.T로 간단히 만들수 있음"
   ]
  },
  {
   "cell_type": "code",
   "execution_count": 4,
   "id": "878b847c-7bf9-4eea-8f70-586c54178b9b",
   "metadata": {},
   "outputs": [
    {
     "data": {
      "text/plain": [
       "array([[ 1.00671141, -0.11835884,  0.87760447,  0.82343066],\n",
       "       [-0.11835884,  1.00671141, -0.43131554, -0.36858315],\n",
       "       [ 0.87760447, -0.43131554,  1.00671141,  0.96932762],\n",
       "       [ 0.82343066, -0.36858315,  0.96932762,  1.00671141]])"
      ]
     },
     "execution_count": 4,
     "metadata": {},
     "output_type": "execute_result"
    }
   ],
   "source": [
    "cov_matrix = np.cov(data.T)\n",
    "cov_matrix"
   ]
  },
  {
   "cell_type": "markdown",
   "id": "061eaa1a-120d-419b-91d9-aeb832387a4f",
   "metadata": {},
   "source": [
    "### 공분산의 고유값/고유벡터 계산\n",
    "* numpy에서 linalg.eig 함수 제공"
   ]
  },
  {
   "cell_type": "code",
   "execution_count": 5,
   "id": "40898db6-2601-433c-8398-d6fbe7079f99",
   "metadata": {},
   "outputs": [
    {
     "data": {
      "text/plain": [
       "(array([2.93808505, 0.9201649 , 0.14774182, 0.02085386]),\n",
       " array([[ 0.52106591, -0.37741762, -0.71956635,  0.26128628],\n",
       "        [-0.26934744, -0.92329566,  0.24438178, -0.12350962],\n",
       "        [ 0.5804131 , -0.02449161,  0.14212637, -0.80144925],\n",
       "        [ 0.56485654, -0.06694199,  0.63427274,  0.52359713]]))"
      ]
     },
     "execution_count": 5,
     "metadata": {},
     "output_type": "execute_result"
    }
   ],
   "source": [
    "eigval, eigvec = np.linalg.eig(cov_matrix)\n",
    "eigval, eigvec"
   ]
  },
  {
   "cell_type": "code",
   "execution_count": 6,
   "id": "d6183e09-cbc5-4ccc-a236-d6fe688557b2",
   "metadata": {},
   "outputs": [
    {
     "data": {
      "text/plain": [
       "array([0.72962445, 0.22850762, 0.03668922, 0.00517871])"
      ]
     },
     "execution_count": 6,
     "metadata": {},
     "output_type": "execute_result"
    }
   ],
   "source": [
    "# 데이터의 차원을 1차원으로 변환했을때 73%\n",
    "\n",
    "eigval/sum(eigval)"
   ]
  },
  {
   "cell_type": "markdown",
   "id": "5ab4bd3f-bf96-4b9e-b65a-27675bf038f0",
   "metadata": {},
   "source": [
    "### 고유값을 이용해서 적절한 주성분 갯수 선택\n",
    "* 스크리scree 그래프 이용"
   ]
  },
  {
   "cell_type": "code",
   "execution_count": 7,
   "id": "00ea7ba2-e4ac-4bd5-8e26-edff7da65ab1",
   "metadata": {},
   "outputs": [
    {
     "data": {
      "text/plain": [
       "[<matplotlib.lines.Line2D at 0x7fb26fad7410>]"
      ]
     },
     "execution_count": 7,
     "metadata": {},
     "output_type": "execute_result"
    },
    {
     "data": {
      "image/png": "[encoded data removed]",
      "text/plain": [
       "<Figure size 432x288 with 1 Axes>"
      ]
     },
     "metadata": {
      "needs_background": "light"
     },
     "output_type": "display_data"
    }
   ],
   "source": [
    "plt.plot(eigval, 'ro')"
   ]
  },
  {
   "cell_type": "code",
   "execution_count": 8,
   "id": "ef287079-531e-43a3-a513-e8c8634d72cd",
   "metadata": {},
   "outputs": [],
   "source": [
    "# 투영한 결과를 데이터프레임에 생성\n",
    "# 즉, 4차원데이터를 고유벡터로 투영함\n",
    "# A벡터를 B벡터에 투영했을때 투영된 벡터의 길이를 구하는 공식\n",
    "# => x.y / || y ||\n",
    "# x,y => np.dot(x,y)\n",
    "# || y || => np.linalg.norm(y)"
   ]
  },
  {
   "cell_type": "code",
   "execution_count": 9,
   "id": "4b636118-6fff-407b-abd4-34ed3439f05c",
   "metadata": {},
   "outputs": [],
   "source": [
    "projX1 = data.dot(eigvec.T[0]) / np.linalg.norm(eigvec.T[0])\n",
    "result = pd.DataFrame(projX1, columns=['PC1'])\n",
    "\n",
    "projX2 = data.dot(eigvec.T[1]) / np.linalg.norm(eigvec.T[1])\n",
    "result['PC2'] = projX2\n",
    "\n",
    "result['target'] = target"
   ]
  },
  {
   "cell_type": "code",
   "execution_count": 10,
   "id": "d4fc25a6-a721-438e-89a2-698c7ff5316c",
   "metadata": {},
   "outputs": [
    {
     "data": {
      "text/plain": [
       "<matplotlib.collections.PathCollection at 0x7fb26fa4b610>"
      ]
     },
     "execution_count": 10,
     "metadata": {},
     "output_type": "execute_result"
    },
    {
     "data": {
      "image/png": "[encoded data removed]",
      "text/plain": [
       "<Figure size 432x288 with 1 Axes>"
      ]
     },
     "metadata": {
      "needs_background": "light"
     },
     "output_type": "display_data"
    }
   ],
   "source": [
    "# 기존 변수로 시각화\n",
    "plt.scatter(data[:, 0], data[:, 1], c=target) # sepal"
   ]
  },
  {
   "cell_type": "code",
   "execution_count": 11,
   "id": "a4a1e966-90ad-49fd-871c-261ef873d7db",
   "metadata": {},
   "outputs": [
    {
     "data": {
      "text/plain": [
       "<matplotlib.collections.PathCollection at 0x7fb26f92a6d0>"
      ]
     },
     "execution_count": 11,
     "metadata": {},
     "output_type": "execute_result"
    },
    {
     "data": {
      "image/png": "[encoded data removed]",
      "text/plain": [
       "<Figure size 432x288 with 1 Axes>"
      ]
     },
     "metadata": {
      "needs_background": "light"
     },
     "output_type": "display_data"
    }
   ],
   "source": [
    "plt.scatter(data[:,2], data[:, 3], c=target) # tapal"
   ]
  },
  {
   "cell_type": "code",
   "execution_count": 12,
   "id": "a9b34970-e6c8-47f6-ba1a-cf1cf5e7db13",
   "metadata": {},
   "outputs": [
    {
     "data": {
      "text/plain": [
       "<matplotlib.collections.PathCollection at 0x7fb26f8647d0>"
      ]
     },
     "execution_count": 12,
     "metadata": {},
     "output_type": "execute_result"
    },
    {
     "data": {
      "image/png": "[encoded data removed]",
      "text/plain": [
       "<Figure size 432x288 with 1 Axes>"
      ]
     },
     "metadata": {
      "needs_background": "light"
     },
     "output_type": "display_data"
    }
   ],
   "source": [
    "# 주성분 분석 후 시각화\n",
    "plt.scatter(result.PC1, result.PC2, c=target) "
   ]
  },
  {
   "cell_type": "code",
   "execution_count": 13,
   "id": "274fd9e1-0e54-4702-83a3-d56d2a1d20fe",
   "metadata": {},
   "outputs": [],
   "source": [
    "# sklearn으로 PCA 분석\n",
    "# n_components : 차원축소할 차원수 지정\n",
    "pca = PCA(n_components=2)\n",
    "pcaXY = pca.fit_transform(data)\n",
    "result = pd.DataFrame(pcaXY, columns=['PC1','PC2'])\n",
    "result['target'] = target"
   ]
  },
  {
   "cell_type": "code",
   "execution_count": 14,
   "id": "c4ff97b8-adcf-4134-ab03-8447d8fba354",
   "metadata": {},
   "outputs": [
    {
     "data": {
      "text/plain": [
       "<matplotlib.collections.PathCollection at 0x7fb26f7e8510>"
      ]
     },
     "execution_count": 14,
     "metadata": {},
     "output_type": "execute_result"
    },
    {
     "data": {
      "image/png": "[encoded data removed]",
      "text/plain": [
       "<Figure size 432x288 with 1 Axes>"
      ]
     },
     "metadata": {
      "needs_background": "light"
     },
     "output_type": "display_data"
    }
   ],
   "source": [
    "plt.scatter(result.PC1, result.PC2, c=result.target)"
   ]
  },
  {
   "cell_type": "markdown",
   "id": "cc0f9ff5-ad9d-4a4a-9f77-d3e41750ec26",
   "metadata": {},
   "source": [
    "### 고유값/고유벡터 찾아보기\n",
    "* Ax = λx \n",
    "* 선형변환 A = [[3,1], [1,3]]을 만족하는 고유벡터와 고유값은?\n",
    "\n",
    "* 고유벡터x와 고유값λ 간단계산\n",
    "* http://www.arndt-bruenner.de/mathe/scripts/engl_eigenwert2.htm\n"
   ]
  },
  {
   "cell_type": "code",
   "execution_count": 15,
   "id": "32e092d7-b1b7-44aa-b542-1ce4f5a55b7a",
   "metadata": {},
   "outputs": [],
   "source": [
    "A = [[3,1],[1,3]] # 선형변환\n",
    "x1 = [-1,1]\n",
    "x2 = [1,1]\n",
    "\n",
    "x3 = np.dot(A, x1) # 행렬 곱연산, 선형변환 적용\n",
    "x4 = np.dot(A, x2)\n",
    "\n",
    "origin = [0], [0] # 벡터공간 원점 정의"
   ]
  },
  {
   "cell_type": "code",
   "execution_count": 16,
   "id": "b1476677-aad1-4bb8-9a0e-c28d5fc0f252",
   "metadata": {},
   "outputs": [
    {
     "data": {
      "image/png": "[encoded data removed]",
      "text/plain": [
       "<Figure size 432x288 with 1 Axes>"
      ]
     },
     "metadata": {
      "needs_background": "light"
     },
     "output_type": "display_data"
    }
   ],
   "source": [
    "# 변환전 벡터\n",
    "# quiver 함수 : 그래프에 화살표 벡터를 표시\n",
    "# quiver(원점, x좌표, y좌표, 색상, 각도, 단위)\n",
    "plt.quiver(*origin, x1[0], x1[1], color='r', angles= 'xy', scale_units='xy', scale=1)\n",
    "\n",
    "plt.quiver(*origin, x2[0], x2[1], color='b', angles= 'xy', scale_units='xy', scale=1)\n",
    "\n",
    "# 변환후 벡터\n",
    "plt.quiver(*origin, x3[0], x3[1],color='k', alpha=0.5, angles= 'xy', scale_units='xy', scale=1)\n",
    "\n",
    "plt.quiver(*origin, x4[0], x4[1],color='k', alpha=0.5, angles= 'xy', scale_units='xy', scale=1)\n",
    "\n",
    "plt.xlim(-5,5)\n",
    "plt.ylim(-5,5)\n",
    "plt.grid(True)"
   ]
  },
  {
   "cell_type": "code",
   "execution_count": 17,
   "id": "ba49e51a-8a43-4348-99ea-0fce06adc646",
   "metadata": {},
   "outputs": [
    {
     "data": {
      "text/plain": [
       "(array([4, 2]),\n",
       " array([[1, -1],\n",
       "        [1, 1]]))"
      ]
     },
     "execution_count": 17,
     "metadata": {},
     "output_type": "execute_result"
    }
   ],
   "source": [
    "# numpy함수로 고유값/고유벡터 알아내기\n",
    "np.set_printoptions(formatter={'float_kind':'{:.0f}'.format}, suppress=True)\n",
    "\n",
    "# numpy함수로 고유값 알아내기\n",
    "A = np.array([[3,1],[1,3]])\n",
    "eigval, eigvec = np.linalg.eig(A)\n",
    "eigval, eigvec"
   ]
  },
  {
   "cell_type": "markdown",
   "id": "7651c5d6-1dc0-46d4-903a-e8a24a2d3fca",
   "metadata": {},
   "source": [
    "### 89구역 54개의 공원잔디 식물종 분석\n",
    "* 1~54컬럼만 추출해서 주성분분석 실시\n",
    "* plot : 실험조건\n",
    "* species : 식물종\n",
    "* hay : 건초량\n",
    "* pH : 토양산성도"
   ]
  },
  {
   "cell_type": "code",
   "execution_count": 18,
   "id": "4874c7c2-af45-4f8f-a442-138e64f3b2b4",
   "metadata": {},
   "outputs": [
    {
     "data": {
      "text/html": [
       "<div>\n",
       "<style scoped>\n",
       "    .dataframe tbody tr th:only-of-type {\n",
       "        vertical-align: middle;\n",
       "    }\n",
       "\n",
       "    .dataframe tbody tr th {\n",
       "        vertical-align: top;\n",
       "    }\n",
       "\n",
       "    .dataframe thead th {\n",
       "        text-align: right;\n",
       "    }\n",
       "</style>\n",
       "<table border=\"1\" class=\"dataframe\">\n",
       "  <thead>\n",
       "    <tr style=\"text-align: right;\">\n",
       "      <th></th>\n",
       "      <th>AC</th>\n",
       "      <th>AE</th>\n",
       "      <th>AM</th>\n",
       "      <th>AO</th>\n",
       "      <th>AP</th>\n",
       "      <th>AR</th>\n",
       "      <th>AS</th>\n",
       "      <th>AU</th>\n",
       "      <th>BH</th>\n",
       "      <th>BM</th>\n",
       "      <th>...</th>\n",
       "      <th>TO</th>\n",
       "      <th>TP</th>\n",
       "      <th>TR</th>\n",
       "      <th>VC</th>\n",
       "      <th>VK</th>\n",
       "      <th>plot</th>\n",
       "      <th>lime</th>\n",
       "      <th>species</th>\n",
       "      <th>hay</th>\n",
       "      <th>pH</th>\n",
       "    </tr>\n",
       "  </thead>\n",
       "  <tbody>\n",
       "    <tr>\n",
       "      <th>0</th>\n",
       "      <td>2.51</td>\n",
       "      <td>1.18</td>\n",
       "      <td>0.45</td>\n",
       "      <td>0.91</td>\n",
       "      <td>0.47</td>\n",
       "      <td>0.00</td>\n",
       "      <td>0.0</td>\n",
       "      <td>0.00</td>\n",
       "      <td>0.0</td>\n",
       "      <td>0.06</td>\n",
       "      <td>...</td>\n",
       "      <td>0.10</td>\n",
       "      <td>0.04</td>\n",
       "      <td>0.00</td>\n",
       "      <td>0.00</td>\n",
       "      <td>0.0</td>\n",
       "      <td>1.0</td>\n",
       "      <td>1</td>\n",
       "      <td>33</td>\n",
       "      <td>5.105</td>\n",
       "      <td>7.0</td>\n",
       "    </tr>\n",
       "    <tr>\n",
       "      <th>1</th>\n",
       "      <td>6.85</td>\n",
       "      <td>0.10</td>\n",
       "      <td>0.58</td>\n",
       "      <td>1.02</td>\n",
       "      <td>0.35</td>\n",
       "      <td>0.00</td>\n",
       "      <td>0.0</td>\n",
       "      <td>0.00</td>\n",
       "      <td>0.0</td>\n",
       "      <td>0.36</td>\n",
       "      <td>...</td>\n",
       "      <td>0.14</td>\n",
       "      <td>0.00</td>\n",
       "      <td>0.00</td>\n",
       "      <td>0.00</td>\n",
       "      <td>0.0</td>\n",
       "      <td>1.0</td>\n",
       "      <td>2</td>\n",
       "      <td>31</td>\n",
       "      <td>6.455</td>\n",
       "      <td>6.2</td>\n",
       "    </tr>\n",
       "    <tr>\n",
       "      <th>2</th>\n",
       "      <td>10.58</td>\n",
       "      <td>0.11</td>\n",
       "      <td>0.21</td>\n",
       "      <td>1.85</td>\n",
       "      <td>0.00</td>\n",
       "      <td>0.00</td>\n",
       "      <td>0.0</td>\n",
       "      <td>0.00</td>\n",
       "      <td>0.0</td>\n",
       "      <td>0.00</td>\n",
       "      <td>...</td>\n",
       "      <td>0.02</td>\n",
       "      <td>0.06</td>\n",
       "      <td>0.00</td>\n",
       "      <td>0.00</td>\n",
       "      <td>0.0</td>\n",
       "      <td>1.0</td>\n",
       "      <td>3</td>\n",
       "      <td>33</td>\n",
       "      <td>4.870</td>\n",
       "      <td>5.3</td>\n",
       "    </tr>\n",
       "    <tr>\n",
       "      <th>3</th>\n",
       "      <td>13.65</td>\n",
       "      <td>0.00</td>\n",
       "      <td>0.00</td>\n",
       "      <td>6.46</td>\n",
       "      <td>0.00</td>\n",
       "      <td>0.00</td>\n",
       "      <td>0.0</td>\n",
       "      <td>0.00</td>\n",
       "      <td>0.0</td>\n",
       "      <td>0.00</td>\n",
       "      <td>...</td>\n",
       "      <td>0.00</td>\n",
       "      <td>0.00</td>\n",
       "      <td>0.00</td>\n",
       "      <td>0.00</td>\n",
       "      <td>0.0</td>\n",
       "      <td>1.0</td>\n",
       "      <td>4</td>\n",
       "      <td>10</td>\n",
       "      <td>2.160</td>\n",
       "      <td>4.0</td>\n",
       "    </tr>\n",
       "    <tr>\n",
       "      <th>4</th>\n",
       "      <td>4.84</td>\n",
       "      <td>0.00</td>\n",
       "      <td>1.49</td>\n",
       "      <td>0.36</td>\n",
       "      <td>0.10</td>\n",
       "      <td>0.06</td>\n",
       "      <td>0.0</td>\n",
       "      <td>0.02</td>\n",
       "      <td>0.0</td>\n",
       "      <td>0.90</td>\n",
       "      <td>...</td>\n",
       "      <td>0.08</td>\n",
       "      <td>0.68</td>\n",
       "      <td>0.48</td>\n",
       "      <td>0.01</td>\n",
       "      <td>0.0</td>\n",
       "      <td>2.1</td>\n",
       "      <td>1</td>\n",
       "      <td>42</td>\n",
       "      <td>4.620</td>\n",
       "      <td>7.0</td>\n",
       "    </tr>\n",
       "  </tbody>\n",
       "</table>\n",
       "<p>5 rows × 59 columns</p>\n",
       "</div>"
      ],
      "text/plain": [
       "      AC    AE    AM    AO    AP    AR   AS    AU   BH    BM  ...    TO    TP  \\\n",
       "0   2.51  1.18  0.45  0.91  0.47  0.00  0.0  0.00  0.0  0.06  ...  0.10  0.04   \n",
       "1   6.85  0.10  0.58  1.02  0.35  0.00  0.0  0.00  0.0  0.36  ...  0.14  0.00   \n",
       "2  10.58  0.11  0.21  1.85  0.00  0.00  0.0  0.00  0.0  0.00  ...  0.02  0.06   \n",
       "3  13.65  0.00  0.00  6.46  0.00  0.00  0.0  0.00  0.0  0.00  ...  0.00  0.00   \n",
       "4   4.84  0.00  1.49  0.36  0.10  0.06  0.0  0.02  0.0  0.90  ...  0.08  0.68   \n",
       "\n",
       "     TR    VC   VK  plot  lime  species    hay   pH  \n",
       "0  0.00  0.00  0.0   1.0     1       33  5.105  7.0  \n",
       "1  0.00  0.00  0.0   1.0     2       31  6.455  6.2  \n",
       "2  0.00  0.00  0.0   1.0     3       33  4.870  5.3  \n",
       "3  0.00  0.00  0.0   1.0     4       10  2.160  4.0  \n",
       "4  0.48  0.01  0.0   2.1     1       42  4.620  7.0  \n",
       "\n",
       "[5 rows x 59 columns]"
      ]
     },
     "execution_count": 18,
     "metadata": {},
     "output_type": "execute_result"
    }
   ],
   "source": [
    "pg = pd.read_csv('pgfull.txt', sep='\\t')\n",
    "pg.head()"
   ]
  },
  {
   "cell_type": "code",
   "execution_count": 19,
   "id": "634a047a-4fc3-4a54-8878-202ac836ecc8",
   "metadata": {},
   "outputs": [
    {
     "name": "stdout",
     "output_type": "stream",
     "text": [
      "<class 'pandas.core.frame.DataFrame'>\n",
      "RangeIndex: 89 entries, 0 to 88\n",
      "Data columns (total 59 columns):\n",
      " #   Column   Non-Null Count  Dtype  \n",
      "---  ------   --------------  -----  \n",
      " 0   AC       89 non-null     float64\n",
      " 1   AE       89 non-null     float64\n",
      " 2   AM       89 non-null     float64\n",
      " 3   AO       89 non-null     float64\n",
      " 4   AP       89 non-null     float64\n",
      " 5   AR       89 non-null     float64\n",
      " 6   AS       89 non-null     float64\n",
      " 7   AU       89 non-null     float64\n",
      " 8   BH       89 non-null     float64\n",
      " 9   BM       89 non-null     float64\n",
      " 10  CC       89 non-null     float64\n",
      " 11  CF       89 non-null     float64\n",
      " 12  CM       89 non-null     float64\n",
      " 13  CN       89 non-null     float64\n",
      " 14  CX       89 non-null     float64\n",
      " 15  CY       89 non-null     float64\n",
      " 16  DC       89 non-null     float64\n",
      " 17  DG       89 non-null     float64\n",
      " 18  ER       89 non-null     float64\n",
      " 19  FM       89 non-null     float64\n",
      " 20  FP       89 non-null     float64\n",
      " 21  FR       89 non-null     float64\n",
      " 22  GV       89 non-null     float64\n",
      " 23  HI       89 non-null     float64\n",
      " 24  HL       89 non-null     float64\n",
      " 25  HP       89 non-null     float64\n",
      " 26  HS       89 non-null     float64\n",
      " 27  HR       89 non-null     float64\n",
      " 28  KA       89 non-null     float64\n",
      " 29  LA       89 non-null     float64\n",
      " 30  LC       89 non-null     float64\n",
      " 31  LH       89 non-null     float64\n",
      " 32  LM       89 non-null     float64\n",
      " 33  LO       89 non-null     float64\n",
      " 34  LP       89 non-null     float64\n",
      " 35  OR       89 non-null     float64\n",
      " 36  PL       89 non-null     float64\n",
      " 37  PP       89 non-null     float64\n",
      " 38  PS       89 non-null     float64\n",
      " 39  PT       89 non-null     float64\n",
      " 40  QR       89 non-null     float64\n",
      " 41  RA       89 non-null     float64\n",
      " 42  RB       89 non-null     float64\n",
      " 43  RC       89 non-null     float64\n",
      " 44  SG       89 non-null     float64\n",
      " 45  SM       89 non-null     float64\n",
      " 46  SO       89 non-null     float64\n",
      " 47  TF       89 non-null     float64\n",
      " 48  TG       89 non-null     float64\n",
      " 49  TO       89 non-null     float64\n",
      " 50  TP       89 non-null     float64\n",
      " 51  TR       89 non-null     float64\n",
      " 52  VC       89 non-null     float64\n",
      " 53  VK       89 non-null     float64\n",
      " 54  plot     89 non-null     float64\n",
      " 55  lime     89 non-null     int64  \n",
      " 56  species  89 non-null     int64  \n",
      " 57  hay      89 non-null     float64\n",
      " 58  pH       89 non-null     float64\n",
      "dtypes: float64(57), int64(2)\n",
      "memory usage: 41.1 KB\n"
     ]
    }
   ],
   "source": [
    "pg.info()"
   ]
  },
  {
   "cell_type": "code",
   "execution_count": 20,
   "id": "76d2a8f4-ab9d-47e4-8f37-edd3e81d96b6",
   "metadata": {},
   "outputs": [
    {
     "data": {
      "text/plain": [
       "27    7\n",
       "34    7\n",
       "28    6\n",
       "29    5\n",
       "30    4\n",
       "22    4\n",
       "32    4\n",
       "33    4\n",
       "37    4\n",
       "36    3\n",
       "26    3\n",
       "23    3\n",
       "4     3\n",
       "10    3\n",
       "42    3\n",
       "14    3\n",
       "31    2\n",
       "19    2\n",
       "25    2\n",
       "21    2\n",
       "18    2\n",
       "15    2\n",
       "24    2\n",
       "13    2\n",
       "44    1\n",
       "17    1\n",
       "3     1\n",
       "16    1\n",
       "39    1\n",
       "5     1\n",
       "6     1\n",
       "Name: species, dtype: int64"
      ]
     },
     "execution_count": 20,
     "metadata": {},
     "output_type": "execute_result"
    }
   ],
   "source": [
    "# 식물종 갯수 확인\n",
    "pg.species.value_counts()"
   ]
  },
  {
   "cell_type": "code",
   "execution_count": 32,
   "id": "4b177aef-1ac1-47ea-8008-6fd7fe480dfc",
   "metadata": {},
   "outputs": [],
   "source": [
    "# 주성분분석 데이터 추출\n",
    "data = pg.iloc[:, :54]\n",
    "# data = StandardScaler().fit_transform(data)\n",
    "# 표준화시킨후 주성분분석시 설명력이 떨어져서 여기서는 표준화과정을 생략함"
   ]
  },
  {
   "cell_type": "code",
   "execution_count": 27,
   "id": "b99c4968-2c66-464f-ad77-0f4868abd210",
   "metadata": {},
   "outputs": [],
   "source": [
    "# 주성분분석\n",
    "pca = PCA()\n",
    "pcaXY = pca.fit_transform(data)"
   ]
  },
  {
   "cell_type": "code",
   "execution_count": 37,
   "id": "7366ec13-dab9-4528-a762-d853d19e7003",
   "metadata": {},
   "outputs": [
    {
     "data": {
      "text/plain": [
       "array([0.394, 0.242, 0.109, 0.081, 0.071, 0.035, 0.014, 0.011, 0.009,\n",
       "       0.008, 0.005, 0.004, 0.004, 0.002, 0.002, 0.001, 0.001, 0.001,\n",
       "       0.001, 0.001, 0.001, 0.000, 0.000, 0.000, 0.000, 0.000, 0.000,\n",
       "       0.000, 0.000, 0.000, 0.000, 0.000, 0.000, 0.000, 0.000, 0.000,\n",
       "       0.000, 0.000, 0.000, 0.000, 0.000, 0.000, 0.000, 0.000, 0.000,\n",
       "       0.000, 0.000, 0.000, 0.000, 0.000, 0.000, 0.000, 0.000, 0.000])"
      ]
     },
     "execution_count": 37,
     "metadata": {},
     "output_type": "execute_result"
    }
   ],
   "source": [
    "np.set_printoptions(suppress=True, formatter={'float_kind':'{:.3f}'.format})\n",
    "# 주성분벡터를 투영한 뒤의 분산 비율 출력\n",
    "pca.explained_variance_ratio_"
   ]
  },
  {
   "cell_type": "code",
   "execution_count": 38,
   "id": "b34b60e0-aaeb-4442-8429-fd80ab34a3c3",
   "metadata": {},
   "outputs": [
    {
     "data": {
      "text/plain": [
       "0.7448981110837313"
      ]
     },
     "execution_count": 38,
     "metadata": {},
     "output_type": "execute_result"
    }
   ],
   "source": [
    "np.sum(pca.explained_variance_ratio_[:3]) # 74% 설명력 가짐"
   ]
  },
  {
   "cell_type": "markdown",
   "id": "2f16357f-b9cb-4ef4-84aa-0fda80d15370",
   "metadata": {},
   "source": [
    "### 지도학습 데이터를 대상으로 차원축소를 하고 싶은 경우\n",
    "* 선형판별 분석 LDA"
   ]
  }
 ],
 "metadata": {
  "kernelspec": {
   "display_name": "Python 3 (ipykernel)",
   "language": "python",
   "name": "python3"
  },
  "language_info": {
   "codemirror_mode": {
    "name": "ipython",
    "version": 3
   },
   "file_extension": ".py",
   "mimetype": "text/x-python",
   "name": "python",
   "nbconvert_exporter": "python",
   "pygments_lexer": "ipython3",
   "version": "3.7.10"
  }
 },
 "nbformat": 4,
 "nbformat_minor": 5
}
