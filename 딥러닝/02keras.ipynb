{
 "cells": [
  {
   "cell_type": "markdown",
   "id": "d81447a2-85a2-45c7-a604-772d41702583",
   "metadata": {},
   "source": [
    "### 딥러닝 개발환경\n",
    "* 파이썬 3.5 이상 또는 아나콘다 4.4\n",
    "* pycharm 이용, 파이썬 venv 환경에서 실행\n",
    "* 머신러닝, 딥러닝 패키지 설치\n",
    "    + numpy scipy matplotlib pandas scikit-learn\n",
    "    + spyder(과학계산) seaborn(시각화) h5py(hdf5) pillow(이미지)\n",
    "    + tensorflow (tensorflow-gpu) keras pytorchㅁ"
   ]
  },
  {
   "cell_type": "code",
   "execution_count": 1,
   "id": "5912b429-7b9f-40b3-8718-4ad20eefd2ef",
   "metadata": {},
   "outputs": [],
   "source": [
    "#pip install keras"
   ]
  },
  {
   "cell_type": "code",
   "execution_count": 2,
   "id": "83b448da-2f7f-47f7-9774-21ed04e6ac5e",
   "metadata": {},
   "outputs": [],
   "source": [
    "# pip install tensorflow==1.15.5"
   ]
  },
  {
   "cell_type": "code",
   "execution_count": 4,
   "id": "54be6d17-807b-4129-a2dc-f6f51e994f2a",
   "metadata": {},
   "outputs": [
    {
     "name": "stdout",
     "output_type": "stream",
     "text": [
      "b'Hello, TensorFlow!!!'\n"
     ]
    }
   ],
   "source": [
    "# 텐서플로 간단 예제 #1\n",
    "import tensorflow as tf\n",
    "\n",
    "hello = tf.constant('Hello, TensorFlow!!!')\n",
    "# 텐서플로 상수 선언\n",
    "\n",
    "sess = tf.Session() # 코드를 실행하기 위해 세션 생성\n",
    "print(sess.run(hello))  # 코드를 실행 후 결과 출력"
   ]
  },
  {
   "cell_type": "code",
   "execution_count": 9,
   "id": "e56dd371-b47f-4d1e-9674-4e4919f95330",
   "metadata": {},
   "outputs": [],
   "source": [
    "# 텐서플로 간단 예제 #2\n",
    "from tensorflow.keras.datasets import mnist\n",
    "from tensorflow.keras import models\n",
    "from tensorflow.keras import layers"
   ]
  },
  {
   "cell_type": "code",
   "execution_count": 10,
   "id": "9ecc9b00-6db4-4fa1-8d07-e8e88997cdfd",
   "metadata": {},
   "outputs": [
    {
     "name": "stdout",
     "output_type": "stream",
     "text": [
      "Downloading data from https://storage.googleapis.com/tensorflow/tf-keras-datasets/mnist.npz\n",
      "11493376/11490434 [==============================] - 1s 0us/step\n"
     ]
    }
   ],
   "source": [
    "# 케라스의 MNIST 데이터 셋 다운로드하기\n",
    "# 이미지는 numpy 배열형으로 저장\n",
    "# 0 ~ 9 까지 숫자이미지 저장\n",
    "(Xtrain, ytrain), (Xtest, ytest) = mnist.load_data()"
   ]
  },
  {
   "cell_type": "code",
   "execution_count": 11,
   "id": "6984708a-801e-41df-b0b8-d3a61286b19c",
   "metadata": {},
   "outputs": [
    {
     "name": "stdout",
     "output_type": "stream",
     "text": [
      "(60000, 28, 28) 60000\n",
      "(60000,) 60000\n",
      "(10000, 28, 28) 10000\n",
      "(10000,) 10000\n"
     ]
    }
   ],
   "source": [
    "# 훈련/검증 데이터 크기, 갯수 확인\n",
    "print(Xtrain.shape, len(Xtrain))\n",
    "print(ytrain.shape, len(ytrain))\n",
    "\n",
    "print(Xtest.shape, len(Xtest))\n",
    "print(ytest.shape, len(ytest))"
   ]
  },
  {
   "cell_type": "code",
   "execution_count": 12,
   "id": "d4d35e11-883a-4a85-a33e-b2133482d337",
   "metadata": {},
   "outputs": [
    {
     "name": "stdout",
     "output_type": "stream",
     "text": [
      "WARNING:tensorflow:From /home/hadoop/.local/lib/python3.7/site-packages/tensorflow_core/python/ops/resource_variable_ops.py:1630: calling BaseResourceVariable.__init__ (from tensorflow.python.ops.resource_variable_ops) with constraint is deprecated and will be removed in a future version.\n",
      "Instructions for updating:\n",
      "If using Keras pass *_constraint arguments to layers.\n"
     ]
    }
   ],
   "source": [
    "# 신경망 생성\n",
    "# 층layer : 데이터 처리 필터\n",
    "# 데이터들이 입력되면 다음 단계에서 처리하기 용이하도록\n",
    "# 유용한 형태로 변환\n",
    "# 주어진 입력데이터들에서 더 의미있는 표현을 추출해 냄\n",
    "# 데이터 정재 필터가 여러 개 있는 여과기와 같음\n",
    "network = models.Sequential()\n",
    "network.add(layers.Dense(512, activation='relu',\n",
    "            input_shape=(28*28,)))  # 입력층 (784->512)\n",
    "network.add(layers.Dense(10, activation='softmax'))\n",
    "                                    # 출력층 (512->10)"
   ]
  },
  {
   "cell_type": "code",
   "execution_count": 13,
   "id": "330c4b1f-1de6-492c-9746-2172bdb6e49c",
   "metadata": {},
   "outputs": [],
   "source": [
    "# 신경망 분석시 중요 요소 3가지\n",
    "# 손실함수      : 신경망의 성능을 측정하는 지표\n",
    "# 옵티마이저    : 손실함수를 기반으로 신경망 개선\n",
    "# 측정지표      : 훈련과 검증 과정을 통해 정확도 측정\n",
    "network.compile(loss='categorical_crossentropy',\n",
    "                optimizer='rmsprop',\n",
    "                metrics=['accuracy'])"
   ]
  },
  {
   "cell_type": "code",
   "execution_count": 14,
   "id": "caf0550c-2996-4223-b3d5-285a054c15b4",
   "metadata": {},
   "outputs": [],
   "source": [
    "# 전처리 #1 :  단일색상으로 변환\n",
    "Xtrain = Xtrain.reshape((60000, 28*28))\n",
    "Xtrain = Xtrain.astype('float32') / 255\n",
    "\n",
    "Xtest = Xtest.reshape((10000, 28*28))\n",
    "Xtest = Xtest.astype('float32') / 255"
   ]
  },
  {
   "cell_type": "code",
   "execution_count": 17,
   "id": "af8a0e65-9999-4425-a5b6-dd6f96eaef48",
   "metadata": {},
   "outputs": [],
   "source": [
    "# 전처리 #2 :  범주형으로 변환 - 웟핫인코딩\n",
    "from tensorflow.keras.utils import to_categorical\n",
    "\n",
    "ytrain = to_categorical(ytrain)\n",
    "ytest = to_categorical(ytest)"
   ]
  },
  {
   "cell_type": "code",
   "execution_count": 18,
   "id": "3b272234-c96f-41a0-a045-bb9f9a526fd6",
   "metadata": {},
   "outputs": [
    {
     "name": "stdout",
     "output_type": "stream",
     "text": [
      "Train on 60000 samples\n",
      "Epoch 1/5\n",
      "60000/60000 [==============================] - 13s 209us/sample - loss: 0.2547 - acc: 0.9264\n",
      "Epoch 2/5\n",
      "60000/60000 [==============================] - 12s 204us/sample - loss: 0.1028 - acc: 0.9700\n",
      "Epoch 3/5\n",
      "60000/60000 [==============================] - 12s 207us/sample - loss: 0.0685 - acc: 0.9793\n",
      "Epoch 4/5\n",
      "60000/60000 [==============================] - 12s 205us/sample - loss: 0.0500 - acc: 0.9848\n",
      "Epoch 5/5\n",
      "60000/60000 [==============================] - 12s 199us/sample - loss: 0.0378 - acc: 0.9884\n"
     ]
    },
    {
     "data": {
      "text/plain": [
       "<tensorflow.python.keras.callbacks.History at 0x7f7ffb894d90>"
      ]
     },
     "execution_count": 18,
     "metadata": {},
     "output_type": "execute_result"
    }
   ],
   "source": [
    "# 신경망에 입력데이터 훈련\n",
    "# epochs : 데이터 전체를 이용해서 훈련시킬 횟수 (순전파-역전파)\n",
    "# batch_size : 한번에 처리하는 데이터 수\n",
    "\n",
    "# ex) 전체데이터100, 배치사이즈 : 10, 총반복횟수는 10 -> 1cpoch\n",
    "# 따라서, 5 epoch의 총 반복횟수 50\n",
    "\n",
    "# ex) 전체 2000 개의 데이터가 있고, \n",
    "#       epochs = 20, batch_size = 500일때 반복횟수는 \n",
    "\n",
    "# mnist 예제의 총 반복횟수는 (60000/128) * 5\n",
    "network.fit(Xtrain, ytrain, epochs=5, batch_size=128)"
   ]
  },
  {
   "cell_type": "code",
   "execution_count": 19,
   "id": "2a44f160-ce76-44a1-9f26-8a28569c53af",
   "metadata": {},
   "outputs": [
    {
     "name": "stdout",
     "output_type": "stream",
     "text": [
      "10000/10000 [==============================] - 2s 199us/sample - loss: 0.0674 - acc: 0.9789\n"
     ]
    }
   ],
   "source": [
    "# 검증 데이터로 테스트\n",
    "test_loss, test_acc = network.evaluate(Xtest, ytest)"
   ]
  },
  {
   "cell_type": "code",
   "execution_count": 23,
   "id": "ed707c0f-38ea-45d9-a3eb-f2c51a785009",
   "metadata": {},
   "outputs": [
    {
     "name": "stdout",
     "output_type": "stream",
     "text": [
      "정확도 0.9789\n",
      "손실(오차)정도 0.06741445892289048\n"
     ]
    }
   ],
   "source": [
    "# 정확도, 손실 확인\n",
    "print('정확도', test_acc)\n",
    "print('손실(오차)정도', test_loss)"
   ]
  },
  {
   "cell_type": "code",
   "execution_count": 25,
   "id": "e221224a-86cb-4a41-8706-730a5778f3ef",
   "metadata": {},
   "outputs": [
    {
     "name": "stdout",
     "output_type": "stream",
     "text": [
      "WARNING:tensorflow:From /tmp/ipykernel_2047/4160054879.py:10: The name tf.set_random_seed is deprecated. Please use tf.compat.v1.set_random_seed instead.\n",
      "\n"
     ]
    }
   ],
   "source": [
    "# 텐서플로 간단 예제 #3\n",
    "# 피마 인디언 당뇨병 예측\n",
    "# 동일한 결과출력을 위해 난수 설정\n",
    "\n",
    "import numpy as np\n",
    "import pandas as pd\n",
    "\n",
    "seed = 190118\n",
    "np.random.seed(seed)\n",
    "tf.set_random_seed(seed)"
   ]
  },
  {
   "cell_type": "code",
   "execution_count": 42,
   "id": "8e463c9a-f56e-47a1-aff4-a6a75d69ae4e",
   "metadata": {},
   "outputs": [],
   "source": [
    "# 당뇨병 데이터 읽어오기 (x, y)\n",
    "data = pd.read_csv('pima-indian.csv')\n",
    "x = data.iloc[:, 0:8]\n",
    "y = data.iloc[:, 8]"
   ]
  },
  {
   "cell_type": "code",
   "execution_count": 43,
   "id": "1987d1af-29ad-4691-8da5-1e0b9d42f4b6",
   "metadata": {},
   "outputs": [
    {
     "name": "stdout",
     "output_type": "stream",
     "text": [
      "   pregnant  glucose  blood  thickness  insulin   bmi  pedigree  age\n",
      "0         6      148     72         35        0  33.6     0.627   50\n",
      "1         1       85     66         29        0  26.6     0.351   31\n",
      "2         8      183     64          0        0  23.3     0.672   32\n",
      "3         1       89     66         23       94  28.1     0.167   21\n",
      "4         0      137     40         35      168  43.1     2.288   33 0    1\n",
      "1    0\n",
      "2    1\n",
      "3    0\n",
      "4    1\n",
      "Name: diabete, dtype: int64\n"
     ]
    }
   ],
   "source": [
    "print(x.head(), y.head())"
   ]
  },
  {
   "cell_type": "code",
   "execution_count": 44,
   "id": "16b294c3-99da-48f4-acfe-11f6c5a7b24f",
   "metadata": {},
   "outputs": [],
   "source": [
    "# 신경망 구성\n",
    "# 입력변수 : 8\n",
    "# 출력변수 : 1\n",
    "model = models.Sequential()\n",
    "model.add(layers.Dense(20, input_dim=8, activation='relu'))\n",
    "model.add(layers.Dense(12, activation='relu'))\n",
    "model.add(layers.Dense(1, activation='sigmoid'))"
   ]
  },
  {
   "cell_type": "code",
   "execution_count": 45,
   "id": "0c0e9c3f-1fa2-4138-b8e5-d97942a17b7b",
   "metadata": {},
   "outputs": [],
   "source": [
    "# 손실함수, 매개변수 최적화 정의\n",
    "model.compile(loss='binary_crossentropy',\n",
    "              optimizer='adam', metrics=['accuracy'])"
   ]
  },
  {
   "cell_type": "code",
   "execution_count": 48,
   "id": "dbe0a02a-8215-408e-a516-436e8a124d7b",
   "metadata": {},
   "outputs": [
    {
     "data": {
      "text/plain": [
       "<tensorflow.python.keras.callbacks.History at 0x7f7ffb0caad0>"
      ]
     },
     "execution_count": 48,
     "metadata": {},
     "output_type": "execute_result"
    }
   ],
   "source": [
    "# 훈련\n",
    "# verbose = False 할시 출력창 생략 \n",
    "model.fit(x, y, epochs=100, verbose=False)"
   ]
  },
  {
   "cell_type": "code",
   "execution_count": 53,
   "id": "e12f3619-e9ae-4159-a2bb-290494d6808a",
   "metadata": {},
   "outputs": [
    {
     "name": "stdout",
     "output_type": "stream",
     "text": [
      "768/768 [==============================] - 0s 135us/sample - loss: 0.5086 - acc: 0.7578\n",
      "0.7578125\n"
     ]
    }
   ],
   "source": [
    "print(model.evaluate(x,y)[1])"
   ]
  },
  {
   "cell_type": "code",
   "execution_count": 54,
   "id": "31d4f3d8-e95a-48e9-b166-9a0b41918aea",
   "metadata": {},
   "outputs": [],
   "source": [
    "# 예측하기\n",
    "# 3,173,82,48,465,38.4,2.137,25, 1"
   ]
  },
  {
   "cell_type": "code",
   "execution_count": 55,
   "id": "c5e399e1-7cc4-43ca-bc70-0b113fbafbf2",
   "metadata": {},
   "outputs": [
    {
     "name": "stdout",
     "output_type": "stream",
     "text": [
      "[[0.9209274]]\n"
     ]
    }
   ],
   "source": [
    "new_one = np.array([[3,173,82,48,465,38.4,2.137,25]])\n",
    "y_predict = model.predict(new_one)\n",
    "print(y_predict)     # [[0.952982]]"
   ]
  },
  {
   "cell_type": "code",
   "execution_count": 56,
   "id": "99d50a2e-8d6f-4cee-949d-8d023bdc3fc6",
   "metadata": {},
   "outputs": [],
   "source": [
    "# 0,135,94,46,145,40.6,0.284,26, 0"
   ]
  },
  {
   "cell_type": "code",
   "execution_count": null,
   "id": "6d69911b-4cf6-4555-ab2d-b3cc096c0238",
   "metadata": {},
   "outputs": [],
   "source": []
  }
 ],
 "metadata": {
  "kernelspec": {
   "display_name": "Python 3 (ipykernel)",
   "language": "python",
   "name": "python3"
  },
  "language_info": {
   "codemirror_mode": {
    "name": "ipython",
    "version": 3
   },
   "file_extension": ".py",
   "mimetype": "text/x-python",
   "name": "python",
   "nbconvert_exporter": "python",
   "pygments_lexer": "ipython3",
   "version": "3.7.10"
  }
 },
 "nbformat": 4,
 "nbformat_minor": 5
}
