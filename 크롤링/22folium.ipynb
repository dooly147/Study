{
 "cells": [
  {
   "cell_type": "markdown",
   "id": "64423071-4f6e-4b64-8282-dee6b46b80ed",
   "metadata": {},
   "source": [
    "## 오픈소스 무료지도API : folium\n",
    "* python-visualiztion.github.io/folium\n",
    "* pip install folium"
   ]
  },
  {
   "cell_type": "code",
   "execution_count": 1,
   "id": "94f50c67-f2ff-4384-85c0-3406c3424841",
   "metadata": {},
   "outputs": [],
   "source": [
    "# pip install folium"
   ]
  },
  {
   "cell_type": "code",
   "execution_count": 2,
   "id": "5588a079-7599-4049-9502-b655a185410b",
   "metadata": {},
   "outputs": [],
   "source": [
    "import folium\n",
    "import pandas as pd"
   ]
  },
  {
   "cell_type": "code",
   "execution_count": 3,
   "id": "72d64b8d-1d1a-4145-a4dc-57db8f6a5312",
   "metadata": {},
   "outputs": [],
   "source": [
    "# 간단한 지도표시\n",
    "lat = 37.566\n",
    "lng = 126.9784\n",
    "\n",
    "fmap = folium.Map([lat, lng])\n",
    "fmap.save('maps/fmap1.html')"
   ]
  },
  {
   "cell_type": "code",
   "execution_count": 4,
   "id": "1eda61a8-7231-455a-b144-674d00c40dd5",
   "metadata": {},
   "outputs": [],
   "source": [
    "# 마커 표시\n",
    "tooltip = 'over here!!'\n",
    "\n",
    "fmap = folium.Map([lat, lng], zoom_start=17)\n",
    "folium.Marker([lat, lng], popup=tooltip, tooltip=tooltip).add_to(fmap)\n",
    "\n",
    "fmap.save('maps/fmap1b.html')"
   ]
  },
  {
   "cell_type": "code",
   "execution_count": 5,
   "id": "413f253b-1760-4a9c-92f2-3b3ba0c6470d",
   "metadata": {},
   "outputs": [],
   "source": [
    "# 마커 표시 2\n",
    "fmap = folium.Map([lat, lng], zoom_start=17)\n",
    "folium.Marker([lat, lng], popup='<b>over here!!</b>', tooltip=tooltip, icon=folium.Icon(color='red', icon='phone')).add_to(fmap)\n",
    "\n",
    "fmap.save('maps/fmap1c.html')"
   ]
  },
  {
   "cell_type": "markdown",
   "id": "9c2da86b-ec1a-430d-8bd5-d93d45407db2",
   "metadata": {},
   "source": [
    "## geojson을 이용한 지도 시각화\n",
    "* https://github.com/southkorea/\n",
    "southkorea-maps\n",
    "\n",
    "skorea-provinces-2018-geo.json\n",
    "2013 => json => skorea_provinces_geo_simple.json"
   ]
  },
  {
   "cell_type": "code",
   "execution_count": 6,
   "id": "08f8d614-8102-4d3c-ac95-e71fa5de1d27",
   "metadata": {},
   "outputs": [],
   "source": [
    "import json"
   ]
  },
  {
   "cell_type": "code",
   "execution_count": 7,
   "id": "46364383-7239-466a-b450-61625dd01adf",
   "metadata": {},
   "outputs": [
    {
     "data": {
      "text/plain": [
       "'서울특별시'"
      ]
     },
     "execution_count": 7,
     "metadata": {},
     "output_type": "execute_result"
    }
   ],
   "source": [
    "with open('data/skorea-provinces-2018-geo.json') as f:\n",
    "    kor2018geo = json.load(f)\n",
    "    \n",
    "kor2018geo['features'][0]['properties']['name']"
   ]
  },
  {
   "cell_type": "code",
   "execution_count": 8,
   "id": "27b1238a-1438-45f5-ac22-df1160f1c8d3",
   "metadata": {},
   "outputs": [],
   "source": [
    "fmap = folium.Map([lat, lng], zoom_start=7)\n",
    "folium.GeoJson(kor2018geo).add_to(fmap)\n",
    "fmap.save('maps/fmap2.html')"
   ]
  },
  {
   "cell_type": "code",
   "execution_count": 9,
   "id": "a2a619ad-b7c6-4838-9bf7-b730de94b745",
   "metadata": {},
   "outputs": [
    {
     "data": {
      "text/plain": [
       "{'code': '11250',\n",
       " 'name': '강동구',\n",
       " 'name_eng': 'Gangdong-gu',\n",
       " 'base_year': '2013'}"
      ]
     },
     "execution_count": 9,
     "metadata": {},
     "output_type": "execute_result"
    }
   ],
   "source": [
    "# 서울 경계구역 시각화\n",
    "with open('data/seoul_geo_simple.json') as f:\n",
    "    seoul_geo = json.load(f)\n",
    "\n",
    "#seoul_geo\n",
    "seoul_geo['features'][0]['properties']"
   ]
  },
  {
   "cell_type": "code",
   "execution_count": 10,
   "id": "07e4f6a6-d71a-40ca-bf35-06e28a6d7a08",
   "metadata": {},
   "outputs": [],
   "source": [
    "fmap = folium.Map([lat, lng], zoom_start=12)\n",
    "folium.GeoJson(seoul_geo).add_to(fmap)\n",
    "fmap.save('maps/fmap2b.html')"
   ]
  },
  {
   "cell_type": "code",
   "execution_count": 11,
   "id": "047e8e78-c52f-48e6-9cc3-5a735f14a21c",
   "metadata": {},
   "outputs": [
    {
     "data": {
      "text/html": [
       "<div>\n",
       "<style scoped>\n",
       "    .dataframe tbody tr th:only-of-type {\n",
       "        vertical-align: middle;\n",
       "    }\n",
       "\n",
       "    .dataframe tbody tr th {\n",
       "        vertical-align: top;\n",
       "    }\n",
       "\n",
       "    .dataframe thead th {\n",
       "        text-align: right;\n",
       "    }\n",
       "</style>\n",
       "<table border=\"1\" class=\"dataframe\">\n",
       "  <thead>\n",
       "    <tr style=\"text-align: right;\">\n",
       "      <th></th>\n",
       "      <th>gu</th>\n",
       "      <th>pop</th>\n",
       "    </tr>\n",
       "  </thead>\n",
       "  <tbody>\n",
       "    <tr>\n",
       "      <th>0</th>\n",
       "      <td>종로구</td>\n",
       "      <td>152026</td>\n",
       "    </tr>\n",
       "    <tr>\n",
       "      <th>1</th>\n",
       "      <td>중구</td>\n",
       "      <td>126143</td>\n",
       "    </tr>\n",
       "    <tr>\n",
       "      <th>2</th>\n",
       "      <td>용산구</td>\n",
       "      <td>229122</td>\n",
       "    </tr>\n",
       "    <tr>\n",
       "      <th>3</th>\n",
       "      <td>성동구</td>\n",
       "      <td>304936</td>\n",
       "    </tr>\n",
       "    <tr>\n",
       "      <th>4</th>\n",
       "      <td>광진구</td>\n",
       "      <td>353878</td>\n",
       "    </tr>\n",
       "  </tbody>\n",
       "</table>\n",
       "</div>"
      ],
      "text/plain": [
       "    gu     pop\n",
       "0  종로구  152026\n",
       "1   중구  126143\n",
       "2  용산구  229122\n",
       "3  성동구  304936\n",
       "4  광진구  353878"
      ]
     },
     "execution_count": 11,
     "metadata": {},
     "output_type": "execute_result"
    }
   ],
   "source": [
    "# 서울시 구별 인구수 단계구분도 시각화\n",
    "pop = pd.read_csv('data/seoul_pop_2019.csv', header=None, encoding='euc-kr')\n",
    "pop.columns = ['gu', 'pop']\n",
    "pop['pop'] = pop['pop'].str.replace(',', '')\n",
    "pop['pop'] = pop['pop'].apply(lambda x: int(x))\n",
    "pop.head()"
   ]
  },
  {
   "cell_type": "code",
   "execution_count": 12,
   "id": "06395dbd-dc15-4439-bee3-f6437a06710e",
   "metadata": {},
   "outputs": [],
   "source": [
    "fmap = folium.Map([lat, lng], zoom_start=11)\n",
    "folium.Choropleth(geo_data=seoul_geo, data=pop, columns=['gu','pop'], key_on='feature.properties.name', fill_color='BuPu', fill_opacity=0.7).add_to(fmap)\n",
    "fmap.save('maps/fmap3.html')"
   ]
  },
  {
   "cell_type": "code",
   "execution_count": null,
   "id": "6755fee0-1a73-41c4-82dd-2b2d1eab624f",
   "metadata": {},
   "outputs": [],
   "source": []
  },
  {
   "cell_type": "code",
   "execution_count": null,
   "id": "f511c983-f136-4290-b913-fa423447749d",
   "metadata": {},
   "outputs": [],
   "source": []
  }
 ],
 "metadata": {
  "kernelspec": {
   "display_name": "Python 3 (ipykernel)",
   "language": "python",
   "name": "python3"
  },
  "language_info": {
   "codemirror_mode": {
    "name": "ipython",
    "version": 3
   },
   "file_extension": ".py",
   "mimetype": "text/x-python",
   "name": "python",
   "nbconvert_exporter": "python",
   "pygments_lexer": "ipython3",
   "version": "3.7.10"
  }
 },
 "nbformat": 4,
 "nbformat_minor": 5
}
