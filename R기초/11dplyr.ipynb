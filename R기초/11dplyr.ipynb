{
 "cells": [
  {
   "cell_type": "markdown",
   "id": "666d7e44-e728-4274-8777-9110905acc01",
   "metadata": {},
   "source": [
    "# 11 dplyr"
   ]
  },
  {
   "cell_type": "markdown",
   "id": "1f0c17f4-9a68-44da-871b-0f3ec01ded2a",
   "metadata": {},
   "source": [
    "## dplyr\n",
    "+ select   : 열 선택\n",
    "+ filter   : 조건 검색\n",
    "+ group_by : 데이터 그룹화\n",
    "+ mutate   : 행/열 추가\n",
    "+ summrise : 데이터 집계\n",
    "+ arrange  : 데이터 정렬"
   ]
  },
  {
   "cell_type": "code",
   "execution_count": 158,
   "id": "bcc425ab-d3ee-4472-a7da-8ac4ee96a6e5",
   "metadata": {},
   "outputs": [
    {
     "name": "stderr",
     "output_type": "stream",
     "text": [
      "\n",
      "Attaching package: ‘dplyr’\n",
      "\n",
      "\n",
      "The following object is masked from ‘package:ggplot2’:\n",
      "\n",
      "    vars\n",
      "\n",
      "\n",
      "The following objects are masked from ‘package:stats’:\n",
      "\n",
      "    filter, lag\n",
      "\n",
      "\n",
      "The following objects are masked from ‘package:base’:\n",
      "\n",
      "    intersect, setdiff, setequal, union\n",
      "\n",
      "\n"
     ]
    }
   ],
   "source": [
    "library(dplyr)\n",
    "load('csv/sungjuk.rdata')"
   ]
  },
  {
   "cell_type": "markdown",
   "id": "4e0def9b-1971-46e0-aa05-b0e8ddc0dec8",
   "metadata": {
    "tags": []
   },
   "source": [
    "## arrange (데이터 정렬)"
   ]
  },
  {
   "cell_type": "code",
   "execution_count": 159,
   "id": "bc385dec-5208-4311-9425-2872e3e11552",
   "metadata": {},
   "outputs": [
    {
     "data": {
      "text/html": [
       "<table class=\"dataframe\">\n",
       "<caption>A data.frame: 4 × 4</caption>\n",
       "<thead>\n",
       "\t<tr><th scope=col>name</th><th scope=col>eng</th><th scope=col>mat</th><th scope=col>sci</th></tr>\n",
       "\t<tr><th scope=col>&lt;fct&gt;</th><th scope=col>&lt;dbl&gt;</th><th scope=col>&lt;dbl&gt;</th><th scope=col>&lt;dbl&gt;</th></tr>\n",
       "</thead>\n",
       "<tbody>\n",
       "\t<tr><td>Jane</td><td>78</td><td>95</td><td>60</td></tr>\n",
       "\t<tr><td>John</td><td>90</td><td>85</td><td>90</td></tr>\n",
       "\t<tr><td>Mark</td><td>69</td><td>49</td><td>70</td></tr>\n",
       "\t<tr><td>Tom </td><td>95</td><td>96</td><td>80</td></tr>\n",
       "</tbody>\n",
       "</table>\n"
      ],
      "text/latex": [
       "A data.frame: 4 × 4\n",
       "\\begin{tabular}{llll}\n",
       " name & eng & mat & sci\\\\\n",
       " <fct> & <dbl> & <dbl> & <dbl>\\\\\n",
       "\\hline\n",
       "\t Jane & 78 & 95 & 60\\\\\n",
       "\t John & 90 & 85 & 90\\\\\n",
       "\t Mark & 69 & 49 & 70\\\\\n",
       "\t Tom  & 95 & 96 & 80\\\\\n",
       "\\end{tabular}\n"
      ],
      "text/markdown": [
       "\n",
       "A data.frame: 4 × 4\n",
       "\n",
       "| name &lt;fct&gt; | eng &lt;dbl&gt; | mat &lt;dbl&gt; | sci &lt;dbl&gt; |\n",
       "|---|---|---|---|\n",
       "| Jane | 78 | 95 | 60 |\n",
       "| John | 90 | 85 | 90 |\n",
       "| Mark | 69 | 49 | 70 |\n",
       "| Tom  | 95 | 96 | 80 |\n",
       "\n"
      ],
      "text/plain": [
       "  name eng mat sci\n",
       "1 Jane 78  95  60 \n",
       "2 John 90  85  90 \n",
       "3 Mark 69  49  70 \n",
       "4 Tom  95  96  80 "
      ]
     },
     "metadata": {},
     "output_type": "display_data"
    }
   ],
   "source": [
    "# 이름순으로 오름차순 정렬\n",
    "sungjuk %>% arrange(name)"
   ]
  },
  {
   "cell_type": "code",
   "execution_count": 160,
   "id": "60d5904e-75ab-4b1f-9630-3fbc6b2ead30",
   "metadata": {},
   "outputs": [
    {
     "data": {
      "text/html": [
       "<table class=\"dataframe\">\n",
       "<caption>A data.frame: 4 × 4</caption>\n",
       "<thead>\n",
       "\t<tr><th scope=col>name</th><th scope=col>eng</th><th scope=col>mat</th><th scope=col>sci</th></tr>\n",
       "\t<tr><th scope=col>&lt;fct&gt;</th><th scope=col>&lt;dbl&gt;</th><th scope=col>&lt;dbl&gt;</th><th scope=col>&lt;dbl&gt;</th></tr>\n",
       "</thead>\n",
       "<tbody>\n",
       "\t<tr><td>Tom </td><td>95</td><td>96</td><td>80</td></tr>\n",
       "\t<tr><td>Mark</td><td>69</td><td>49</td><td>70</td></tr>\n",
       "\t<tr><td>John</td><td>90</td><td>85</td><td>90</td></tr>\n",
       "\t<tr><td>Jane</td><td>78</td><td>95</td><td>60</td></tr>\n",
       "</tbody>\n",
       "</table>\n"
      ],
      "text/latex": [
       "A data.frame: 4 × 4\n",
       "\\begin{tabular}{llll}\n",
       " name & eng & mat & sci\\\\\n",
       " <fct> & <dbl> & <dbl> & <dbl>\\\\\n",
       "\\hline\n",
       "\t Tom  & 95 & 96 & 80\\\\\n",
       "\t Mark & 69 & 49 & 70\\\\\n",
       "\t John & 90 & 85 & 90\\\\\n",
       "\t Jane & 78 & 95 & 60\\\\\n",
       "\\end{tabular}\n"
      ],
      "text/markdown": [
       "\n",
       "A data.frame: 4 × 4\n",
       "\n",
       "| name &lt;fct&gt; | eng &lt;dbl&gt; | mat &lt;dbl&gt; | sci &lt;dbl&gt; |\n",
       "|---|---|---|---|\n",
       "| Tom  | 95 | 96 | 80 |\n",
       "| Mark | 69 | 49 | 70 |\n",
       "| John | 90 | 85 | 90 |\n",
       "| Jane | 78 | 95 | 60 |\n",
       "\n"
      ],
      "text/plain": [
       "  name eng mat sci\n",
       "1 Tom  95  96  80 \n",
       "2 Mark 69  49  70 \n",
       "3 John 90  85  90 \n",
       "4 Jane 78  95  60 "
      ]
     },
     "metadata": {},
     "output_type": "display_data"
    }
   ],
   "source": [
    "# 이름순으로 내림차순 정렬\n",
    "sungjuk %>% arrange(desc(name))"
   ]
  },
  {
   "cell_type": "code",
   "execution_count": 161,
   "id": "67b4f40f-f6db-4ae6-b7de-1e5a854bb0a1",
   "metadata": {},
   "outputs": [
    {
     "data": {
      "text/html": [
       "<table class=\"dataframe\">\n",
       "<caption>A data.frame: 4 × 4</caption>\n",
       "<thead>\n",
       "\t<tr><th scope=col>name</th><th scope=col>eng</th><th scope=col>mat</th><th scope=col>sci</th></tr>\n",
       "\t<tr><th scope=col>&lt;fct&gt;</th><th scope=col>&lt;dbl&gt;</th><th scope=col>&lt;dbl&gt;</th><th scope=col>&lt;dbl&gt;</th></tr>\n",
       "</thead>\n",
       "<tbody>\n",
       "\t<tr><td>Tom </td><td>95</td><td>96</td><td>80</td></tr>\n",
       "\t<tr><td>John</td><td>90</td><td>85</td><td>90</td></tr>\n",
       "\t<tr><td>Jane</td><td>78</td><td>95</td><td>60</td></tr>\n",
       "\t<tr><td>Mark</td><td>69</td><td>49</td><td>70</td></tr>\n",
       "</tbody>\n",
       "</table>\n"
      ],
      "text/latex": [
       "A data.frame: 4 × 4\n",
       "\\begin{tabular}{llll}\n",
       " name & eng & mat & sci\\\\\n",
       " <fct> & <dbl> & <dbl> & <dbl>\\\\\n",
       "\\hline\n",
       "\t Tom  & 95 & 96 & 80\\\\\n",
       "\t John & 90 & 85 & 90\\\\\n",
       "\t Jane & 78 & 95 & 60\\\\\n",
       "\t Mark & 69 & 49 & 70\\\\\n",
       "\\end{tabular}\n"
      ],
      "text/markdown": [
       "\n",
       "A data.frame: 4 × 4\n",
       "\n",
       "| name &lt;fct&gt; | eng &lt;dbl&gt; | mat &lt;dbl&gt; | sci &lt;dbl&gt; |\n",
       "|---|---|---|---|\n",
       "| Tom  | 95 | 96 | 80 |\n",
       "| John | 90 | 85 | 90 |\n",
       "| Jane | 78 | 95 | 60 |\n",
       "| Mark | 69 | 49 | 70 |\n",
       "\n"
      ],
      "text/plain": [
       "  name eng mat sci\n",
       "1 Tom  95  96  80 \n",
       "2 John 90  85  90 \n",
       "3 Jane 78  95  60 \n",
       "4 Mark 69  49  70 "
      ]
     },
     "metadata": {},
     "output_type": "display_data"
    }
   ],
   "source": [
    "# 영어/수학/과학 점수를 내림차순 정렬\n",
    "sungjuk %>% arrange(desc(eng, mat, sci))"
   ]
  },
  {
   "cell_type": "markdown",
   "id": "2a393c55-72a3-4646-98a6-0ea78b722c6d",
   "metadata": {},
   "source": [
    "## summarise (데이터 집계)"
   ]
  },
  {
   "cell_type": "code",
   "execution_count": 162,
   "id": "86d59f33-fc0a-4d85-99db-20177fdba446",
   "metadata": {},
   "outputs": [
    {
     "data": {
      "text/html": [
       "<table class=\"dataframe\">\n",
       "<caption>A data.frame: 1 × 1</caption>\n",
       "<thead>\n",
       "\t<tr><th scope=col>평균영어점수</th></tr>\n",
       "\t<tr><th scope=col>&lt;dbl&gt;</th></tr>\n",
       "</thead>\n",
       "<tbody>\n",
       "\t<tr><td>83</td></tr>\n",
       "</tbody>\n",
       "</table>\n"
      ],
      "text/latex": [
       "A data.frame: 1 × 1\n",
       "\\begin{tabular}{l}\n",
       " 평균영어점수\\\\\n",
       " <dbl>\\\\\n",
       "\\hline\n",
       "\t 83\\\\\n",
       "\\end{tabular}\n"
      ],
      "text/markdown": [
       "\n",
       "A data.frame: 1 × 1\n",
       "\n",
       "| 평균영어점수 &lt;dbl&gt; |\n",
       "|---|\n",
       "| 83 |\n",
       "\n"
      ],
      "text/plain": [
       "  평균영어점수\n",
       "1 83          "
      ]
     },
     "metadata": {},
     "output_type": "display_data"
    }
   ],
   "source": [
    "# 평균 영어 점수 출력\n",
    "sungjuk %>% summarise(평균영어점수 = mean(eng))"
   ]
  },
  {
   "cell_type": "code",
   "execution_count": 163,
   "id": "1732cd13-82c5-4308-be79-e94229f29da9",
   "metadata": {},
   "outputs": [
    {
     "data": {
      "text/html": [
       "<table class=\"dataframe\">\n",
       "<caption>A data.frame: 1 × 9</caption>\n",
       "<thead>\n",
       "\t<tr><th scope=col>평균영어점수</th><th scope=col>평균수학점수</th><th scope=col>평균과학점수</th><th scope=col>최고영어점수</th><th scope=col>최고수학점수</th><th scope=col>최고과학점수</th><th scope=col>최소영어점수</th><th scope=col>최소수학점수</th><th scope=col>최소과학점수</th></tr>\n",
       "\t<tr><th scope=col>&lt;dbl&gt;</th><th scope=col>&lt;dbl&gt;</th><th scope=col>&lt;dbl&gt;</th><th scope=col>&lt;dbl&gt;</th><th scope=col>&lt;dbl&gt;</th><th scope=col>&lt;dbl&gt;</th><th scope=col>&lt;dbl&gt;</th><th scope=col>&lt;dbl&gt;</th><th scope=col>&lt;dbl&gt;</th></tr>\n",
       "</thead>\n",
       "<tbody>\n",
       "\t<tr><td>83</td><td>81.25</td><td>75</td><td>95</td><td>96</td><td>90</td><td>69</td><td>49</td><td>60</td></tr>\n",
       "</tbody>\n",
       "</table>\n"
      ],
      "text/latex": [
       "A data.frame: 1 × 9\n",
       "\\begin{tabular}{lllllllll}\n",
       " 평균영어점수 & 평균수학점수 & 평균과학점수 & 최고영어점수 & 최고수학점수 & 최고과학점수 & 최소영어점수 & 최소수학점수 & 최소과학점수\\\\\n",
       " <dbl> & <dbl> & <dbl> & <dbl> & <dbl> & <dbl> & <dbl> & <dbl> & <dbl>\\\\\n",
       "\\hline\n",
       "\t 83 & 81.25 & 75 & 95 & 96 & 90 & 69 & 49 & 60\\\\\n",
       "\\end{tabular}\n"
      ],
      "text/markdown": [
       "\n",
       "A data.frame: 1 × 9\n",
       "\n",
       "| 평균영어점수 &lt;dbl&gt; | 평균수학점수 &lt;dbl&gt; | 평균과학점수 &lt;dbl&gt; | 최고영어점수 &lt;dbl&gt; | 최고수학점수 &lt;dbl&gt; | 최고과학점수 &lt;dbl&gt; | 최소영어점수 &lt;dbl&gt; | 최소수학점수 &lt;dbl&gt; | 최소과학점수 &lt;dbl&gt; |\n",
       "|---|---|---|---|---|---|---|---|---|\n",
       "| 83 | 81.25 | 75 | 95 | 96 | 90 | 69 | 49 | 60 |\n",
       "\n"
      ],
      "text/plain": [
       "  평균영어점수 평균수학점수 평균과학점수 최고영어점수 최고수학점수 최고과학점수\n",
       "1 83           81.25        75           95           96           90          \n",
       "  최소영어점수 최소수학점수 최소과학점수\n",
       "1 69           49           60          "
      ]
     },
     "metadata": {},
     "output_type": "display_data"
    }
   ],
   "source": [
    "# 각 과목별로 평균/최고/최소 점수 출력\n",
    "sungjuk %>% summarise(평균영어점수 = mean(eng), 평균수학점수 = mean(mat),\n",
    "                      평균과학점수 = mean(sci),\n",
    "                      최고영어점수 = max(eng), 최고수학점수 = max(mat),\n",
    "                      최고과학점수 = max(sci),\n",
    "                      최소영어점수 = min(eng), 최소수학점수 = min(mat),\n",
    "                      최소과학점수 = min(sci))"
   ]
  },
  {
   "cell_type": "markdown",
   "id": "d11822ba-26a0-41d5-9fe5-e037401cfa41",
   "metadata": {},
   "source": [
    "## group_by (데이터 그룹화)"
   ]
  },
  {
   "cell_type": "code",
   "execution_count": 164,
   "id": "b1c32794-df4f-4d12-ad6c-b8d31959d4ea",
   "metadata": {},
   "outputs": [
    {
     "data": {
      "text/html": [
       "<table class=\"dataframe\">\n",
       "<caption>A data.frame: 4 × 5</caption>\n",
       "<thead>\n",
       "\t<tr><th scope=col>name</th><th scope=col>eng</th><th scope=col>mat</th><th scope=col>sci</th><th scope=col>class</th></tr>\n",
       "\t<tr><th scope=col>&lt;fct&gt;</th><th scope=col>&lt;dbl&gt;</th><th scope=col>&lt;dbl&gt;</th><th scope=col>&lt;dbl&gt;</th><th scope=col>&lt;dbl&gt;</th></tr>\n",
       "</thead>\n",
       "<tbody>\n",
       "\t<tr><td>John</td><td>90</td><td>85</td><td>90</td><td>2</td></tr>\n",
       "\t<tr><td>Tom </td><td>95</td><td>96</td><td>80</td><td>1</td></tr>\n",
       "\t<tr><td>Mark</td><td>69</td><td>49</td><td>70</td><td>2</td></tr>\n",
       "\t<tr><td>Jane</td><td>78</td><td>95</td><td>60</td><td>3</td></tr>\n",
       "</tbody>\n",
       "</table>\n"
      ],
      "text/latex": [
       "A data.frame: 4 × 5\n",
       "\\begin{tabular}{lllll}\n",
       " name & eng & mat & sci & class\\\\\n",
       " <fct> & <dbl> & <dbl> & <dbl> & <dbl>\\\\\n",
       "\\hline\n",
       "\t John & 90 & 85 & 90 & 2\\\\\n",
       "\t Tom  & 95 & 96 & 80 & 1\\\\\n",
       "\t Mark & 69 & 49 & 70 & 2\\\\\n",
       "\t Jane & 78 & 95 & 60 & 3\\\\\n",
       "\\end{tabular}\n"
      ],
      "text/markdown": [
       "\n",
       "A data.frame: 4 × 5\n",
       "\n",
       "| name &lt;fct&gt; | eng &lt;dbl&gt; | mat &lt;dbl&gt; | sci &lt;dbl&gt; | class &lt;dbl&gt; |\n",
       "|---|---|---|---|---|\n",
       "| John | 90 | 85 | 90 | 2 |\n",
       "| Tom  | 95 | 96 | 80 | 1 |\n",
       "| Mark | 69 | 49 | 70 | 2 |\n",
       "| Jane | 78 | 95 | 60 | 3 |\n",
       "\n"
      ],
      "text/plain": [
       "  name eng mat sci class\n",
       "1 John 90  85  90  2    \n",
       "2 Tom  95  96  80  1    \n",
       "3 Mark 69  49  70  2    \n",
       "4 Jane 78  95  60  3    "
      ]
     },
     "metadata": {},
     "output_type": "display_data"
    }
   ],
   "source": [
    "# 새로운 컬럼 추가\n",
    "sungjuk$class <- c(2,1,2,3)\n",
    "sungjuk"
   ]
  },
  {
   "cell_type": "code",
   "execution_count": 165,
   "id": "5cf707c4-eb9a-4821-b417-fb45216fe356",
   "metadata": {},
   "outputs": [
    {
     "data": {
      "text/html": [
       "<table class=\"dataframe\">\n",
       "<caption>A tibble: 3 × 2</caption>\n",
       "<thead>\n",
       "\t<tr><th scope=col>class</th><th scope=col>평균영어점수</th></tr>\n",
       "\t<tr><th scope=col>&lt;dbl&gt;</th><th scope=col>&lt;dbl&gt;</th></tr>\n",
       "</thead>\n",
       "<tbody>\n",
       "\t<tr><td>1</td><td>95.0</td></tr>\n",
       "\t<tr><td>2</td><td>79.5</td></tr>\n",
       "\t<tr><td>3</td><td>78.0</td></tr>\n",
       "</tbody>\n",
       "</table>\n"
      ],
      "text/latex": [
       "A tibble: 3 × 2\n",
       "\\begin{tabular}{ll}\n",
       " class & 평균영어점수\\\\\n",
       " <dbl> & <dbl>\\\\\n",
       "\\hline\n",
       "\t 1 & 95.0\\\\\n",
       "\t 2 & 79.5\\\\\n",
       "\t 3 & 78.0\\\\\n",
       "\\end{tabular}\n"
      ],
      "text/markdown": [
       "\n",
       "A tibble: 3 × 2\n",
       "\n",
       "| class &lt;dbl&gt; | 평균영어점수 &lt;dbl&gt; |\n",
       "|---|---|\n",
       "| 1 | 95.0 |\n",
       "| 2 | 79.5 |\n",
       "| 3 | 78.0 |\n",
       "\n"
      ],
      "text/plain": [
       "  class 평균영어점수\n",
       "1 1     95.0        \n",
       "2 2     79.5        \n",
       "3 3     78.0        "
      ]
     },
     "metadata": {},
     "output_type": "display_data"
    }
   ],
   "source": [
    "# 클래스별 평균 영어점수 출력\n",
    "sungjuk %>% group_by(class) %>% summarise(평균영어점수 = mean(eng))"
   ]
  },
  {
   "cell_type": "code",
   "execution_count": 166,
   "id": "8b77086c-0ca5-4e43-9532-96f1c6bab5e5",
   "metadata": {},
   "outputs": [
    {
     "data": {
      "text/html": [
       "<table class=\"dataframe\">\n",
       "<caption>A tibble: 3 × 3</caption>\n",
       "<thead>\n",
       "\t<tr><th scope=col>class</th><th scope=col>최고영어점수</th><th scope=col>최소영어점수</th></tr>\n",
       "\t<tr><th scope=col>&lt;dbl&gt;</th><th scope=col>&lt;dbl&gt;</th><th scope=col>&lt;dbl&gt;</th></tr>\n",
       "</thead>\n",
       "<tbody>\n",
       "\t<tr><td>1</td><td>95</td><td>95</td></tr>\n",
       "\t<tr><td>2</td><td>90</td><td>69</td></tr>\n",
       "\t<tr><td>3</td><td>78</td><td>78</td></tr>\n",
       "</tbody>\n",
       "</table>\n"
      ],
      "text/latex": [
       "A tibble: 3 × 3\n",
       "\\begin{tabular}{lll}\n",
       " class & 최고영어점수 & 최소영어점수\\\\\n",
       " <dbl> & <dbl> & <dbl>\\\\\n",
       "\\hline\n",
       "\t 1 & 95 & 95\\\\\n",
       "\t 2 & 90 & 69\\\\\n",
       "\t 3 & 78 & 78\\\\\n",
       "\\end{tabular}\n"
      ],
      "text/markdown": [
       "\n",
       "A tibble: 3 × 3\n",
       "\n",
       "| class &lt;dbl&gt; | 최고영어점수 &lt;dbl&gt; | 최소영어점수 &lt;dbl&gt; |\n",
       "|---|---|---|\n",
       "| 1 | 95 | 95 |\n",
       "| 2 | 90 | 69 |\n",
       "| 3 | 78 | 78 |\n",
       "\n"
      ],
      "text/plain": [
       "  class 최고영어점수 최소영어점수\n",
       "1 1     95           95          \n",
       "2 2     90           69          \n",
       "3 3     78           78          "
      ]
     },
     "metadata": {},
     "output_type": "display_data"
    }
   ],
   "source": [
    "# 클래스별 최고/최소 영어점수 출력\n",
    "sungjuk %>% group_by(class) %>% \n",
    "            summarise(최고영어점수=max(eng), 최소영어점수=min(eng))"
   ]
  },
  {
   "cell_type": "code",
   "execution_count": null,
   "id": "65a42581-5159-46f2-9647-cb835894ab78",
   "metadata": {},
   "outputs": [],
   "source": []
  },
  {
   "cell_type": "code",
   "execution_count": 167,
   "id": "0bffe8b1-7170-44fe-ae53-28dec0b45c4a",
   "metadata": {
    "tags": []
   },
   "outputs": [
    {
     "data": {
      "text/html": [
       "\n",
       "<table width=\"100%\" summary=\"page for diamonds {ggplot2}\"><tr><td>diamonds {ggplot2}</td><td style=\"text-align: right;\">R Documentation</td></tr></table>\n",
       "\n",
       "<h2>Prices of over 50,000 round cut diamonds</h2>\n",
       "\n",
       "<h3>Description</h3>\n",
       "\n",
       "<p>A dataset containing the prices and other attributes of almost 54,000\n",
       "diamonds. The variables are as follows:\n",
       "</p>\n",
       "\n",
       "\n",
       "<h3>Usage</h3>\n",
       "\n",
       "<pre>\n",
       "diamonds\n",
       "</pre>\n",
       "\n",
       "\n",
       "<h3>Format</h3>\n",
       "\n",
       "<p>A data frame with 53940 rows and 10 variables:\n",
       "</p>\n",
       "\n",
       "<dl>\n",
       "<dt>price</dt><dd><p>price in US dollars (\\$326&ndash;\\$18,823)</p>\n",
       "</dd>\n",
       "<dt>carat</dt><dd><p>weight of the diamond (0.2&ndash;5.01)</p>\n",
       "</dd>\n",
       "<dt>cut</dt><dd><p>quality of the cut (Fair, Good, Very Good, Premium, Ideal)</p>\n",
       "</dd>\n",
       "<dt>color</dt><dd><p>diamond colour, from D (best) to J (worst)</p>\n",
       "</dd>\n",
       "<dt>clarity</dt><dd><p>a measurement of how clear the diamond is (I1 (worst), SI2,\n",
       "SI1, VS2, VS1, VVS2, VVS1, IF (best))</p>\n",
       "</dd>\n",
       "<dt>x</dt><dd><p>length in mm (0&ndash;10.74)</p>\n",
       "</dd>\n",
       "<dt>y</dt><dd><p>width in mm (0&ndash;58.9)</p>\n",
       "</dd>\n",
       "<dt>z</dt><dd><p>depth in mm (0&ndash;31.8)</p>\n",
       "</dd>\n",
       "<dt>depth</dt><dd><p>total depth percentage = z / mean(x, y) = 2 * z / (x + y) (43&ndash;79)</p>\n",
       "</dd>\n",
       "<dt>table</dt><dd><p>width of top of diamond relative to widest point (43&ndash;95)</p>\n",
       "</dd>\n",
       "</dl>\n",
       "\n",
       "\n",
       "<hr /><div style=\"text-align: center;\">[Package <em>ggplot2</em> version 3.3.5 ]</div>"
      ],
      "text/latex": [
       "\\inputencoding{utf8}\n",
       "\\HeaderA{diamonds}{Prices of over 50,000 round cut diamonds}{diamonds}\n",
       "\\keyword{datasets}{diamonds}\n",
       "%\n",
       "\\begin{Description}\\relax\n",
       "A dataset containing the prices and other attributes of almost 54,000\n",
       "diamonds. The variables are as follows:\n",
       "\\end{Description}\n",
       "%\n",
       "\\begin{Usage}\n",
       "\\begin{verbatim}\n",
       "diamonds\n",
       "\\end{verbatim}\n",
       "\\end{Usage}\n",
       "%\n",
       "\\begin{Format}\n",
       "A data frame with 53940 rows and 10 variables:\n",
       "\\begin{description}\n",
       "\n",
       "\\item[price] price in US dollars (\\bsl{}\\$326--\\bsl{}\\$18,823)\n",
       "\\item[carat] weight of the diamond (0.2--5.01)\n",
       "\\item[cut] quality of the cut (Fair, Good, Very Good, Premium, Ideal)\n",
       "\\item[color] diamond colour, from D (best) to J (worst)\n",
       "\\item[clarity] a measurement of how clear the diamond is (I1 (worst), SI2,\n",
       "SI1, VS2, VS1, VVS2, VVS1, IF (best))\n",
       "\\item[x] length in mm (0--10.74)\n",
       "\\item[y] width in mm (0--58.9)\n",
       "\\item[z] depth in mm (0--31.8)\n",
       "\\item[depth] total depth percentage = z / mean(x, y) = 2 * z / (x + y) (43--79)\n",
       "\\item[table] width of top of diamond relative to widest point (43--95)\n",
       "\n",
       "\\end{description}\n",
       "\n",
       "\\end{Format}"
      ],
      "text/plain": [
       "diamonds                package:ggplot2                R Documentation\n",
       "\n",
       "_\bP_\br_\bi_\bc_\be_\bs _\bo_\bf _\bo_\bv_\be_\br _\b5_\b0,_\b0_\b0_\b0 _\br_\bo_\bu_\bn_\bd _\bc_\bu_\bt _\bd_\bi_\ba_\bm_\bo_\bn_\bd_\bs\n",
       "\n",
       "_\bD_\be_\bs_\bc_\br_\bi_\bp_\bt_\bi_\bo_\bn:\n",
       "\n",
       "     A dataset containing the prices and other attributes of almost\n",
       "     54,000 diamonds. The variables are as follows:\n",
       "\n",
       "_\bU_\bs_\ba_\bg_\be:\n",
       "\n",
       "     diamonds\n",
       "     \n",
       "_\bF_\bo_\br_\bm_\ba_\bt:\n",
       "\n",
       "     A data frame with 53940 rows and 10 variables:\n",
       "\n",
       "     price price in US dollars (\\$326-\\$18,823)\n",
       "\n",
       "     carat weight of the diamond (0.2-5.01)\n",
       "\n",
       "     cut quality of the cut (Fair, Good, Very Good, Premium, Ideal)\n",
       "\n",
       "     color diamond colour, from D (best) to J (worst)\n",
       "\n",
       "     clarity a measurement of how clear the diamond is (I1 (worst),\n",
       "          SI2, SI1, VS2, VS1, VVS2, VVS1, IF (best))\n",
       "\n",
       "     x length in mm (0-10.74)\n",
       "\n",
       "     y width in mm (0-58.9)\n",
       "\n",
       "     z depth in mm (0-31.8)\n",
       "\n",
       "     depth total depth percentage = z / mean(x, y) = 2 * z / (x + y)\n",
       "          (43-79)\n",
       "\n",
       "     table width of top of diamond relative to widest point (43-95)\n"
      ]
     },
     "metadata": {},
     "output_type": "display_data"
    }
   ],
   "source": [
    "# diamonds 데이터셋을 이용해서 다음 문제를\n",
    "library(ggplot2)\n",
    "?diamonds"
   ]
  },
  {
   "cell_type": "code",
   "execution_count": 168,
   "id": "21386dcd-19c0-4c9d-9f8a-9fb18f096d8a",
   "metadata": {},
   "outputs": [
    {
     "data": {
      "text/html": [
       "<table class=\"dataframe\">\n",
       "<caption>A tibble: 6 × 10</caption>\n",
       "<thead>\n",
       "\t<tr><th scope=col>carat</th><th scope=col>cut</th><th scope=col>color</th><th scope=col>clarity</th><th scope=col>depth</th><th scope=col>table</th><th scope=col>price</th><th scope=col>x</th><th scope=col>y</th><th scope=col>z</th></tr>\n",
       "\t<tr><th scope=col>&lt;dbl&gt;</th><th scope=col>&lt;ord&gt;</th><th scope=col>&lt;ord&gt;</th><th scope=col>&lt;ord&gt;</th><th scope=col>&lt;dbl&gt;</th><th scope=col>&lt;dbl&gt;</th><th scope=col>&lt;int&gt;</th><th scope=col>&lt;dbl&gt;</th><th scope=col>&lt;dbl&gt;</th><th scope=col>&lt;dbl&gt;</th></tr>\n",
       "</thead>\n",
       "<tbody>\n",
       "\t<tr><td>0.23</td><td>Ideal    </td><td>E</td><td>SI2 </td><td>61.5</td><td>55</td><td>326</td><td>3.95</td><td>3.98</td><td>2.43</td></tr>\n",
       "\t<tr><td>0.21</td><td>Premium  </td><td>E</td><td>SI1 </td><td>59.8</td><td>61</td><td>326</td><td>3.89</td><td>3.84</td><td>2.31</td></tr>\n",
       "\t<tr><td>0.23</td><td>Good     </td><td>E</td><td>VS1 </td><td>56.9</td><td>65</td><td>327</td><td>4.05</td><td>4.07</td><td>2.31</td></tr>\n",
       "\t<tr><td>0.29</td><td>Premium  </td><td>I</td><td>VS2 </td><td>62.4</td><td>58</td><td>334</td><td>4.20</td><td>4.23</td><td>2.63</td></tr>\n",
       "\t<tr><td>0.31</td><td>Good     </td><td>J</td><td>SI2 </td><td>63.3</td><td>58</td><td>335</td><td>4.34</td><td>4.35</td><td>2.75</td></tr>\n",
       "\t<tr><td>0.24</td><td>Very Good</td><td>J</td><td>VVS2</td><td>62.8</td><td>57</td><td>336</td><td>3.94</td><td>3.96</td><td>2.48</td></tr>\n",
       "</tbody>\n",
       "</table>\n"
      ],
      "text/latex": [
       "A tibble: 6 × 10\n",
       "\\begin{tabular}{llllllllll}\n",
       " carat & cut & color & clarity & depth & table & price & x & y & z\\\\\n",
       " <dbl> & <ord> & <ord> & <ord> & <dbl> & <dbl> & <int> & <dbl> & <dbl> & <dbl>\\\\\n",
       "\\hline\n",
       "\t 0.23 & Ideal     & E & SI2  & 61.5 & 55 & 326 & 3.95 & 3.98 & 2.43\\\\\n",
       "\t 0.21 & Premium   & E & SI1  & 59.8 & 61 & 326 & 3.89 & 3.84 & 2.31\\\\\n",
       "\t 0.23 & Good      & E & VS1  & 56.9 & 65 & 327 & 4.05 & 4.07 & 2.31\\\\\n",
       "\t 0.29 & Premium   & I & VS2  & 62.4 & 58 & 334 & 4.20 & 4.23 & 2.63\\\\\n",
       "\t 0.31 & Good      & J & SI2  & 63.3 & 58 & 335 & 4.34 & 4.35 & 2.75\\\\\n",
       "\t 0.24 & Very Good & J & VVS2 & 62.8 & 57 & 336 & 3.94 & 3.96 & 2.48\\\\\n",
       "\\end{tabular}\n"
      ],
      "text/markdown": [
       "\n",
       "A tibble: 6 × 10\n",
       "\n",
       "| carat &lt;dbl&gt; | cut &lt;ord&gt; | color &lt;ord&gt; | clarity &lt;ord&gt; | depth &lt;dbl&gt; | table &lt;dbl&gt; | price &lt;int&gt; | x &lt;dbl&gt; | y &lt;dbl&gt; | z &lt;dbl&gt; |\n",
       "|---|---|---|---|---|---|---|---|---|---|\n",
       "| 0.23 | Ideal     | E | SI2  | 61.5 | 55 | 326 | 3.95 | 3.98 | 2.43 |\n",
       "| 0.21 | Premium   | E | SI1  | 59.8 | 61 | 326 | 3.89 | 3.84 | 2.31 |\n",
       "| 0.23 | Good      | E | VS1  | 56.9 | 65 | 327 | 4.05 | 4.07 | 2.31 |\n",
       "| 0.29 | Premium   | I | VS2  | 62.4 | 58 | 334 | 4.20 | 4.23 | 2.63 |\n",
       "| 0.31 | Good      | J | SI2  | 63.3 | 58 | 335 | 4.34 | 4.35 | 2.75 |\n",
       "| 0.24 | Very Good | J | VVS2 | 62.8 | 57 | 336 | 3.94 | 3.96 | 2.48 |\n",
       "\n"
      ],
      "text/plain": [
       "  carat cut       color clarity depth table price x    y    z   \n",
       "1 0.23  Ideal     E     SI2     61.5  55    326   3.95 3.98 2.43\n",
       "2 0.21  Premium   E     SI1     59.8  61    326   3.89 3.84 2.31\n",
       "3 0.23  Good      E     VS1     56.9  65    327   4.05 4.07 2.31\n",
       "4 0.29  Premium   I     VS2     62.4  58    334   4.20 4.23 2.63\n",
       "5 0.31  Good      J     SI2     63.3  58    335   4.34 4.35 2.75\n",
       "6 0.24  Very Good J     VVS2    62.8  57    336   3.94 3.96 2.48"
      ]
     },
     "metadata": {},
     "output_type": "display_data"
    }
   ],
   "source": [
    "head(diamonds)"
   ]
  },
  {
   "cell_type": "code",
   "execution_count": 169,
   "id": "2c011414-4e7f-44f7-9733-60b9194b7ad4",
   "metadata": {},
   "outputs": [
    {
     "data": {
      "text/plain": [
       "     carat               cut        color        clarity          depth      \n",
       " Min.   :0.2000   Fair     : 1610   D: 6775   SI1    :13065   Min.   :43.00  \n",
       " 1st Qu.:0.4000   Good     : 4906   E: 9797   VS2    :12258   1st Qu.:61.00  \n",
       " Median :0.7000   Very Good:12082   F: 9542   SI2    : 9194   Median :61.80  \n",
       " Mean   :0.7979   Premium  :13791   G:11292   VS1    : 8171   Mean   :61.75  \n",
       " 3rd Qu.:1.0400   Ideal    :21551   H: 8304   VVS2   : 5066   3rd Qu.:62.50  \n",
       " Max.   :5.0100                     I: 5422   VVS1   : 3655   Max.   :79.00  \n",
       "                                    J: 2808   (Other): 2531                  \n",
       "     table           price             x                y         \n",
       " Min.   :43.00   Min.   :  326   Min.   : 0.000   Min.   : 0.000  \n",
       " 1st Qu.:56.00   1st Qu.:  950   1st Qu.: 4.710   1st Qu.: 4.720  \n",
       " Median :57.00   Median : 2401   Median : 5.700   Median : 5.710  \n",
       " Mean   :57.46   Mean   : 3933   Mean   : 5.731   Mean   : 5.735  \n",
       " 3rd Qu.:59.00   3rd Qu.: 5324   3rd Qu.: 6.540   3rd Qu.: 6.540  \n",
       " Max.   :95.00   Max.   :18823   Max.   :10.740   Max.   :58.900  \n",
       "                                                                  \n",
       "       z         \n",
       " Min.   : 0.000  \n",
       " 1st Qu.: 2.910  \n",
       " Median : 3.530  \n",
       " Mean   : 3.539  \n",
       " 3rd Qu.: 4.040  \n",
       " Max.   :31.800  \n",
       "                 "
      ]
     },
     "metadata": {},
     "output_type": "display_data"
    }
   ],
   "source": [
    "summary(diamonds)"
   ]
  },
  {
   "cell_type": "code",
   "execution_count": 170,
   "id": "28a4c249-6b91-4c94-8453-6ff4aad5858b",
   "metadata": {},
   "outputs": [
    {
     "data": {
      "text/html": [
       "<table class=\"dataframe\">\n",
       "<caption>A tibble: 6 × 2</caption>\n",
       "<thead>\n",
       "\t<tr><th scope=col>carat</th><th scope=col>price</th></tr>\n",
       "\t<tr><th scope=col>&lt;dbl&gt;</th><th scope=col>&lt;int&gt;</th></tr>\n",
       "</thead>\n",
       "<tbody>\n",
       "\t<tr><td>0.23</td><td>326</td></tr>\n",
       "\t<tr><td>0.21</td><td>326</td></tr>\n",
       "\t<tr><td>0.23</td><td>327</td></tr>\n",
       "\t<tr><td>0.29</td><td>334</td></tr>\n",
       "\t<tr><td>0.31</td><td>335</td></tr>\n",
       "\t<tr><td>0.24</td><td>336</td></tr>\n",
       "</tbody>\n",
       "</table>\n"
      ],
      "text/latex": [
       "A tibble: 6 × 2\n",
       "\\begin{tabular}{ll}\n",
       " carat & price\\\\\n",
       " <dbl> & <int>\\\\\n",
       "\\hline\n",
       "\t 0.23 & 326\\\\\n",
       "\t 0.21 & 326\\\\\n",
       "\t 0.23 & 327\\\\\n",
       "\t 0.29 & 334\\\\\n",
       "\t 0.31 & 335\\\\\n",
       "\t 0.24 & 336\\\\\n",
       "\\end{tabular}\n"
      ],
      "text/markdown": [
       "\n",
       "A tibble: 6 × 2\n",
       "\n",
       "| carat &lt;dbl&gt; | price &lt;int&gt; |\n",
       "|---|---|\n",
       "| 0.23 | 326 |\n",
       "| 0.21 | 326 |\n",
       "| 0.23 | 327 |\n",
       "| 0.29 | 334 |\n",
       "| 0.31 | 335 |\n",
       "| 0.24 | 336 |\n",
       "\n"
      ],
      "text/plain": [
       "  carat price\n",
       "1 0.23  326  \n",
       "2 0.21  326  \n",
       "3 0.23  327  \n",
       "4 0.29  334  \n",
       "5 0.31  335  \n",
       "6 0.24  336  "
      ]
     },
     "metadata": {},
     "output_type": "display_data"
    }
   ],
   "source": [
    "# carat과 price 변수 출력\n",
    "head(diamonds[, c('carat', 'price')])"
   ]
  },
  {
   "cell_type": "code",
   "execution_count": 171,
   "id": "895278d2-428f-4d0c-ac87-dcf11d30ed92",
   "metadata": {},
   "outputs": [
    {
     "data": {
      "text/html": [
       "<table class=\"dataframe\">\n",
       "<caption>A tibble: 6 × 2</caption>\n",
       "<thead>\n",
       "\t<tr><th scope=col>carat</th><th scope=col>price</th></tr>\n",
       "\t<tr><th scope=col>&lt;dbl&gt;</th><th scope=col>&lt;int&gt;</th></tr>\n",
       "</thead>\n",
       "<tbody>\n",
       "\t<tr><td>0.23</td><td>326</td></tr>\n",
       "\t<tr><td>0.21</td><td>326</td></tr>\n",
       "\t<tr><td>0.23</td><td>327</td></tr>\n",
       "\t<tr><td>0.29</td><td>334</td></tr>\n",
       "\t<tr><td>0.31</td><td>335</td></tr>\n",
       "\t<tr><td>0.24</td><td>336</td></tr>\n",
       "</tbody>\n",
       "</table>\n"
      ],
      "text/latex": [
       "A tibble: 6 × 2\n",
       "\\begin{tabular}{ll}\n",
       " carat & price\\\\\n",
       " <dbl> & <int>\\\\\n",
       "\\hline\n",
       "\t 0.23 & 326\\\\\n",
       "\t 0.21 & 326\\\\\n",
       "\t 0.23 & 327\\\\\n",
       "\t 0.29 & 334\\\\\n",
       "\t 0.31 & 335\\\\\n",
       "\t 0.24 & 336\\\\\n",
       "\\end{tabular}\n"
      ],
      "text/markdown": [
       "\n",
       "A tibble: 6 × 2\n",
       "\n",
       "| carat &lt;dbl&gt; | price &lt;int&gt; |\n",
       "|---|---|\n",
       "| 0.23 | 326 |\n",
       "| 0.21 | 326 |\n",
       "| 0.23 | 327 |\n",
       "| 0.29 | 334 |\n",
       "| 0.31 | 335 |\n",
       "| 0.24 | 336 |\n",
       "\n"
      ],
      "text/plain": [
       "  carat price\n",
       "1 0.23  326  \n",
       "2 0.21  326  \n",
       "3 0.23  327  \n",
       "4 0.29  334  \n",
       "5 0.31  335  \n",
       "6 0.24  336  "
      ]
     },
     "metadata": {},
     "output_type": "display_data"
    }
   ],
   "source": [
    "head(diamonds[, c(1, 7)])"
   ]
  },
  {
   "cell_type": "code",
   "execution_count": 172,
   "id": "5fc7409c-400a-4c6a-b335-7f0ec45b37a2",
   "metadata": {},
   "outputs": [
    {
     "data": {
      "text/html": [
       "<table class=\"dataframe\">\n",
       "<caption>A tibble: 6 × 2</caption>\n",
       "<thead>\n",
       "\t<tr><th scope=col>carat</th><th scope=col>price</th></tr>\n",
       "\t<tr><th scope=col>&lt;dbl&gt;</th><th scope=col>&lt;int&gt;</th></tr>\n",
       "</thead>\n",
       "<tbody>\n",
       "\t<tr><td>0.23</td><td>326</td></tr>\n",
       "\t<tr><td>0.21</td><td>326</td></tr>\n",
       "\t<tr><td>0.23</td><td>327</td></tr>\n",
       "\t<tr><td>0.29</td><td>334</td></tr>\n",
       "\t<tr><td>0.31</td><td>335</td></tr>\n",
       "\t<tr><td>0.24</td><td>336</td></tr>\n",
       "</tbody>\n",
       "</table>\n"
      ],
      "text/latex": [
       "A tibble: 6 × 2\n",
       "\\begin{tabular}{ll}\n",
       " carat & price\\\\\n",
       " <dbl> & <int>\\\\\n",
       "\\hline\n",
       "\t 0.23 & 326\\\\\n",
       "\t 0.21 & 326\\\\\n",
       "\t 0.23 & 327\\\\\n",
       "\t 0.29 & 334\\\\\n",
       "\t 0.31 & 335\\\\\n",
       "\t 0.24 & 336\\\\\n",
       "\\end{tabular}\n"
      ],
      "text/markdown": [
       "\n",
       "A tibble: 6 × 2\n",
       "\n",
       "| carat &lt;dbl&gt; | price &lt;int&gt; |\n",
       "|---|---|\n",
       "| 0.23 | 326 |\n",
       "| 0.21 | 326 |\n",
       "| 0.23 | 327 |\n",
       "| 0.29 | 334 |\n",
       "| 0.31 | 335 |\n",
       "| 0.24 | 336 |\n",
       "\n"
      ],
      "text/plain": [
       "  carat price\n",
       "1 0.23  326  \n",
       "2 0.21  326  \n",
       "3 0.23  327  \n",
       "4 0.29  334  \n",
       "5 0.31  335  \n",
       "6 0.24  336  "
      ]
     },
     "metadata": {},
     "output_type": "display_data"
    }
   ],
   "source": [
    "diamonds %>% select(carat, price) %>% head()"
   ]
  },
  {
   "cell_type": "code",
   "execution_count": 173,
   "id": "bc5bec89-63a3-49c6-b593-94c4468a3b5f",
   "metadata": {},
   "outputs": [
    {
     "data": {
      "text/html": [
       "<table class=\"dataframe\">\n",
       "<caption>A tibble: 6 × 2</caption>\n",
       "<thead>\n",
       "\t<tr><th scope=col>carat</th><th scope=col>price</th></tr>\n",
       "\t<tr><th scope=col>&lt;dbl&gt;</th><th scope=col>&lt;int&gt;</th></tr>\n",
       "</thead>\n",
       "<tbody>\n",
       "\t<tr><td>0.23</td><td>326</td></tr>\n",
       "\t<tr><td>0.21</td><td>326</td></tr>\n",
       "\t<tr><td>0.23</td><td>327</td></tr>\n",
       "\t<tr><td>0.29</td><td>334</td></tr>\n",
       "\t<tr><td>0.31</td><td>335</td></tr>\n",
       "\t<tr><td>0.24</td><td>336</td></tr>\n",
       "</tbody>\n",
       "</table>\n"
      ],
      "text/latex": [
       "A tibble: 6 × 2\n",
       "\\begin{tabular}{ll}\n",
       " carat & price\\\\\n",
       " <dbl> & <int>\\\\\n",
       "\\hline\n",
       "\t 0.23 & 326\\\\\n",
       "\t 0.21 & 326\\\\\n",
       "\t 0.23 & 327\\\\\n",
       "\t 0.29 & 334\\\\\n",
       "\t 0.31 & 335\\\\\n",
       "\t 0.24 & 336\\\\\n",
       "\\end{tabular}\n"
      ],
      "text/markdown": [
       "\n",
       "A tibble: 6 × 2\n",
       "\n",
       "| carat &lt;dbl&gt; | price &lt;int&gt; |\n",
       "|---|---|\n",
       "| 0.23 | 326 |\n",
       "| 0.21 | 326 |\n",
       "| 0.23 | 327 |\n",
       "| 0.29 | 334 |\n",
       "| 0.31 | 335 |\n",
       "| 0.24 | 336 |\n",
       "\n"
      ],
      "text/plain": [
       "  carat price\n",
       "1 0.23  326  \n",
       "2 0.21  326  \n",
       "3 0.23  327  \n",
       "4 0.29  334  \n",
       "5 0.31  335  \n",
       "6 0.24  336  "
      ]
     },
     "metadata": {},
     "output_type": "display_data"
    }
   ],
   "source": [
    "diamonds %>% select(1, 7) %>% head()"
   ]
  },
  {
   "cell_type": "code",
   "execution_count": 174,
   "id": "0c02e106-332d-4575-8bcc-7bf5f362909c",
   "metadata": {},
   "outputs": [
    {
     "data": {
      "text/html": [
       "<table class=\"dataframe\">\n",
       "<caption>A tibble: 6 × 2</caption>\n",
       "<thead>\n",
       "\t<tr><th scope=col>carat</th><th scope=col>price</th></tr>\n",
       "\t<tr><th scope=col>&lt;dbl&gt;</th><th scope=col>&lt;int&gt;</th></tr>\n",
       "</thead>\n",
       "<tbody>\n",
       "\t<tr><td>0.23</td><td>326</td></tr>\n",
       "\t<tr><td>0.21</td><td>326</td></tr>\n",
       "\t<tr><td>0.23</td><td>327</td></tr>\n",
       "\t<tr><td>0.29</td><td>334</td></tr>\n",
       "\t<tr><td>0.31</td><td>335</td></tr>\n",
       "\t<tr><td>0.24</td><td>336</td></tr>\n",
       "</tbody>\n",
       "</table>\n"
      ],
      "text/latex": [
       "A tibble: 6 × 2\n",
       "\\begin{tabular}{ll}\n",
       " carat & price\\\\\n",
       " <dbl> & <int>\\\\\n",
       "\\hline\n",
       "\t 0.23 & 326\\\\\n",
       "\t 0.21 & 326\\\\\n",
       "\t 0.23 & 327\\\\\n",
       "\t 0.29 & 334\\\\\n",
       "\t 0.31 & 335\\\\\n",
       "\t 0.24 & 336\\\\\n",
       "\\end{tabular}\n"
      ],
      "text/markdown": [
       "\n",
       "A tibble: 6 × 2\n",
       "\n",
       "| carat &lt;dbl&gt; | price &lt;int&gt; |\n",
       "|---|---|\n",
       "| 0.23 | 326 |\n",
       "| 0.21 | 326 |\n",
       "| 0.23 | 327 |\n",
       "| 0.29 | 334 |\n",
       "| 0.31 | 335 |\n",
       "| 0.24 | 336 |\n",
       "\n"
      ],
      "text/plain": [
       "  carat price\n",
       "1 0.23  326  \n",
       "2 0.21  326  \n",
       "3 0.23  327  \n",
       "4 0.29  334  \n",
       "5 0.31  335  \n",
       "6 0.24  336  "
      ]
     },
     "metadata": {},
     "output_type": "display_data"
    }
   ],
   "source": [
    "head(select(diamonds, carat, price))"
   ]
  },
  {
   "cell_type": "code",
   "execution_count": 175,
   "id": "62cb98ec-e54c-4bd8-9cfa-9b2d930b178e",
   "metadata": {},
   "outputs": [
    {
     "data": {
      "text/html": [
       "<table class=\"dataframe\">\n",
       "<caption>A tibble: 6 × 2</caption>\n",
       "<thead>\n",
       "\t<tr><th scope=col>carat</th><th scope=col>price</th></tr>\n",
       "\t<tr><th scope=col>&lt;dbl&gt;</th><th scope=col>&lt;int&gt;</th></tr>\n",
       "</thead>\n",
       "<tbody>\n",
       "\t<tr><td>0.23</td><td>326</td></tr>\n",
       "\t<tr><td>0.21</td><td>326</td></tr>\n",
       "\t<tr><td>0.23</td><td>327</td></tr>\n",
       "\t<tr><td>0.29</td><td>334</td></tr>\n",
       "\t<tr><td>0.31</td><td>335</td></tr>\n",
       "\t<tr><td>0.24</td><td>336</td></tr>\n",
       "</tbody>\n",
       "</table>\n"
      ],
      "text/latex": [
       "A tibble: 6 × 2\n",
       "\\begin{tabular}{ll}\n",
       " carat & price\\\\\n",
       " <dbl> & <int>\\\\\n",
       "\\hline\n",
       "\t 0.23 & 326\\\\\n",
       "\t 0.21 & 326\\\\\n",
       "\t 0.23 & 327\\\\\n",
       "\t 0.29 & 334\\\\\n",
       "\t 0.31 & 335\\\\\n",
       "\t 0.24 & 336\\\\\n",
       "\\end{tabular}\n"
      ],
      "text/markdown": [
       "\n",
       "A tibble: 6 × 2\n",
       "\n",
       "| carat &lt;dbl&gt; | price &lt;int&gt; |\n",
       "|---|---|\n",
       "| 0.23 | 326 |\n",
       "| 0.21 | 326 |\n",
       "| 0.23 | 327 |\n",
       "| 0.29 | 334 |\n",
       "| 0.31 | 335 |\n",
       "| 0.24 | 336 |\n",
       "\n"
      ],
      "text/plain": [
       "  carat price\n",
       "1 0.23  326  \n",
       "2 0.21  326  \n",
       "3 0.23  327  \n",
       "4 0.29  334  \n",
       "5 0.31  335  \n",
       "6 0.24  336  "
      ]
     },
     "metadata": {},
     "output_type": "display_data"
    }
   ],
   "source": [
    "head(select(diamonds, 1, 7))"
   ]
  },
  {
   "cell_type": "code",
   "execution_count": 176,
   "id": "a8293148-d884-4e58-acc8-46e9bb6d1442",
   "metadata": {},
   "outputs": [
    {
     "data": {
      "text/html": [
       "<table class=\"dataframe\">\n",
       "<caption>A tibble: 6 × 8</caption>\n",
       "<thead>\n",
       "\t<tr><th scope=col>cut</th><th scope=col>color</th><th scope=col>clarity</th><th scope=col>depth</th><th scope=col>table</th><th scope=col>x</th><th scope=col>y</th><th scope=col>z</th></tr>\n",
       "\t<tr><th scope=col>&lt;ord&gt;</th><th scope=col>&lt;ord&gt;</th><th scope=col>&lt;ord&gt;</th><th scope=col>&lt;dbl&gt;</th><th scope=col>&lt;dbl&gt;</th><th scope=col>&lt;dbl&gt;</th><th scope=col>&lt;dbl&gt;</th><th scope=col>&lt;dbl&gt;</th></tr>\n",
       "</thead>\n",
       "<tbody>\n",
       "\t<tr><td>Ideal    </td><td>E</td><td>SI2 </td><td>61.5</td><td>55</td><td>3.95</td><td>3.98</td><td>2.43</td></tr>\n",
       "\t<tr><td>Premium  </td><td>E</td><td>SI1 </td><td>59.8</td><td>61</td><td>3.89</td><td>3.84</td><td>2.31</td></tr>\n",
       "\t<tr><td>Good     </td><td>E</td><td>VS1 </td><td>56.9</td><td>65</td><td>4.05</td><td>4.07</td><td>2.31</td></tr>\n",
       "\t<tr><td>Premium  </td><td>I</td><td>VS2 </td><td>62.4</td><td>58</td><td>4.20</td><td>4.23</td><td>2.63</td></tr>\n",
       "\t<tr><td>Good     </td><td>J</td><td>SI2 </td><td>63.3</td><td>58</td><td>4.34</td><td>4.35</td><td>2.75</td></tr>\n",
       "\t<tr><td>Very Good</td><td>J</td><td>VVS2</td><td>62.8</td><td>57</td><td>3.94</td><td>3.96</td><td>2.48</td></tr>\n",
       "</tbody>\n",
       "</table>\n"
      ],
      "text/latex": [
       "A tibble: 6 × 8\n",
       "\\begin{tabular}{llllllll}\n",
       " cut & color & clarity & depth & table & x & y & z\\\\\n",
       " <ord> & <ord> & <ord> & <dbl> & <dbl> & <dbl> & <dbl> & <dbl>\\\\\n",
       "\\hline\n",
       "\t Ideal     & E & SI2  & 61.5 & 55 & 3.95 & 3.98 & 2.43\\\\\n",
       "\t Premium   & E & SI1  & 59.8 & 61 & 3.89 & 3.84 & 2.31\\\\\n",
       "\t Good      & E & VS1  & 56.9 & 65 & 4.05 & 4.07 & 2.31\\\\\n",
       "\t Premium   & I & VS2  & 62.4 & 58 & 4.20 & 4.23 & 2.63\\\\\n",
       "\t Good      & J & SI2  & 63.3 & 58 & 4.34 & 4.35 & 2.75\\\\\n",
       "\t Very Good & J & VVS2 & 62.8 & 57 & 3.94 & 3.96 & 2.48\\\\\n",
       "\\end{tabular}\n"
      ],
      "text/markdown": [
       "\n",
       "A tibble: 6 × 8\n",
       "\n",
       "| cut &lt;ord&gt; | color &lt;ord&gt; | clarity &lt;ord&gt; | depth &lt;dbl&gt; | table &lt;dbl&gt; | x &lt;dbl&gt; | y &lt;dbl&gt; | z &lt;dbl&gt; |\n",
       "|---|---|---|---|---|---|---|---|\n",
       "| Ideal     | E | SI2  | 61.5 | 55 | 3.95 | 3.98 | 2.43 |\n",
       "| Premium   | E | SI1  | 59.8 | 61 | 3.89 | 3.84 | 2.31 |\n",
       "| Good      | E | VS1  | 56.9 | 65 | 4.05 | 4.07 | 2.31 |\n",
       "| Premium   | I | VS2  | 62.4 | 58 | 4.20 | 4.23 | 2.63 |\n",
       "| Good      | J | SI2  | 63.3 | 58 | 4.34 | 4.35 | 2.75 |\n",
       "| Very Good | J | VVS2 | 62.8 | 57 | 3.94 | 3.96 | 2.48 |\n",
       "\n"
      ],
      "text/plain": [
       "  cut       color clarity depth table x    y    z   \n",
       "1 Ideal     E     SI2     61.5  55    3.95 3.98 2.43\n",
       "2 Premium   E     SI1     59.8  61    3.89 3.84 2.31\n",
       "3 Good      E     VS1     56.9  65    4.05 4.07 2.31\n",
       "4 Premium   I     VS2     62.4  58    4.20 4.23 2.63\n",
       "5 Good      J     SI2     63.3  58    4.34 4.35 2.75\n",
       "6 Very Good J     VVS2    62.8  57    3.94 3.96 2.48"
      ]
     },
     "metadata": {},
     "output_type": "display_data"
    },
    {
     "data": {
      "text/html": [
       "<table class=\"dataframe\">\n",
       "<caption>A tibble: 6 × 8</caption>\n",
       "<thead>\n",
       "\t<tr><th scope=col>cut</th><th scope=col>color</th><th scope=col>clarity</th><th scope=col>depth</th><th scope=col>table</th><th scope=col>x</th><th scope=col>y</th><th scope=col>z</th></tr>\n",
       "\t<tr><th scope=col>&lt;ord&gt;</th><th scope=col>&lt;ord&gt;</th><th scope=col>&lt;ord&gt;</th><th scope=col>&lt;dbl&gt;</th><th scope=col>&lt;dbl&gt;</th><th scope=col>&lt;dbl&gt;</th><th scope=col>&lt;dbl&gt;</th><th scope=col>&lt;dbl&gt;</th></tr>\n",
       "</thead>\n",
       "<tbody>\n",
       "\t<tr><td>Ideal    </td><td>E</td><td>SI2 </td><td>61.5</td><td>55</td><td>3.95</td><td>3.98</td><td>2.43</td></tr>\n",
       "\t<tr><td>Premium  </td><td>E</td><td>SI1 </td><td>59.8</td><td>61</td><td>3.89</td><td>3.84</td><td>2.31</td></tr>\n",
       "\t<tr><td>Good     </td><td>E</td><td>VS1 </td><td>56.9</td><td>65</td><td>4.05</td><td>4.07</td><td>2.31</td></tr>\n",
       "\t<tr><td>Premium  </td><td>I</td><td>VS2 </td><td>62.4</td><td>58</td><td>4.20</td><td>4.23</td><td>2.63</td></tr>\n",
       "\t<tr><td>Good     </td><td>J</td><td>SI2 </td><td>63.3</td><td>58</td><td>4.34</td><td>4.35</td><td>2.75</td></tr>\n",
       "\t<tr><td>Very Good</td><td>J</td><td>VVS2</td><td>62.8</td><td>57</td><td>3.94</td><td>3.96</td><td>2.48</td></tr>\n",
       "</tbody>\n",
       "</table>\n"
      ],
      "text/latex": [
       "A tibble: 6 × 8\n",
       "\\begin{tabular}{llllllll}\n",
       " cut & color & clarity & depth & table & x & y & z\\\\\n",
       " <ord> & <ord> & <ord> & <dbl> & <dbl> & <dbl> & <dbl> & <dbl>\\\\\n",
       "\\hline\n",
       "\t Ideal     & E & SI2  & 61.5 & 55 & 3.95 & 3.98 & 2.43\\\\\n",
       "\t Premium   & E & SI1  & 59.8 & 61 & 3.89 & 3.84 & 2.31\\\\\n",
       "\t Good      & E & VS1  & 56.9 & 65 & 4.05 & 4.07 & 2.31\\\\\n",
       "\t Premium   & I & VS2  & 62.4 & 58 & 4.20 & 4.23 & 2.63\\\\\n",
       "\t Good      & J & SI2  & 63.3 & 58 & 4.34 & 4.35 & 2.75\\\\\n",
       "\t Very Good & J & VVS2 & 62.8 & 57 & 3.94 & 3.96 & 2.48\\\\\n",
       "\\end{tabular}\n"
      ],
      "text/markdown": [
       "\n",
       "A tibble: 6 × 8\n",
       "\n",
       "| cut &lt;ord&gt; | color &lt;ord&gt; | clarity &lt;ord&gt; | depth &lt;dbl&gt; | table &lt;dbl&gt; | x &lt;dbl&gt; | y &lt;dbl&gt; | z &lt;dbl&gt; |\n",
       "|---|---|---|---|---|---|---|---|\n",
       "| Ideal     | E | SI2  | 61.5 | 55 | 3.95 | 3.98 | 2.43 |\n",
       "| Premium   | E | SI1  | 59.8 | 61 | 3.89 | 3.84 | 2.31 |\n",
       "| Good      | E | VS1  | 56.9 | 65 | 4.05 | 4.07 | 2.31 |\n",
       "| Premium   | I | VS2  | 62.4 | 58 | 4.20 | 4.23 | 2.63 |\n",
       "| Good      | J | SI2  | 63.3 | 58 | 4.34 | 4.35 | 2.75 |\n",
       "| Very Good | J | VVS2 | 62.8 | 57 | 3.94 | 3.96 | 2.48 |\n",
       "\n"
      ],
      "text/plain": [
       "  cut       color clarity depth table x    y    z   \n",
       "1 Ideal     E     SI2     61.5  55    3.95 3.98 2.43\n",
       "2 Premium   E     SI1     59.8  61    3.89 3.84 2.31\n",
       "3 Good      E     VS1     56.9  65    4.05 4.07 2.31\n",
       "4 Premium   I     VS2     62.4  58    4.20 4.23 2.63\n",
       "5 Good      J     SI2     63.3  58    4.34 4.35 2.75\n",
       "6 Very Good J     VVS2    62.8  57    3.94 3.96 2.48"
      ]
     },
     "metadata": {},
     "output_type": "display_data"
    },
    {
     "data": {
      "text/html": [
       "<table class=\"dataframe\">\n",
       "<caption>A tibble: 6 × 8</caption>\n",
       "<thead>\n",
       "\t<tr><th scope=col>cut</th><th scope=col>color</th><th scope=col>clarity</th><th scope=col>depth</th><th scope=col>table</th><th scope=col>x</th><th scope=col>y</th><th scope=col>z</th></tr>\n",
       "\t<tr><th scope=col>&lt;ord&gt;</th><th scope=col>&lt;ord&gt;</th><th scope=col>&lt;ord&gt;</th><th scope=col>&lt;dbl&gt;</th><th scope=col>&lt;dbl&gt;</th><th scope=col>&lt;dbl&gt;</th><th scope=col>&lt;dbl&gt;</th><th scope=col>&lt;dbl&gt;</th></tr>\n",
       "</thead>\n",
       "<tbody>\n",
       "\t<tr><td>Ideal    </td><td>E</td><td>SI2 </td><td>61.5</td><td>55</td><td>3.95</td><td>3.98</td><td>2.43</td></tr>\n",
       "\t<tr><td>Premium  </td><td>E</td><td>SI1 </td><td>59.8</td><td>61</td><td>3.89</td><td>3.84</td><td>2.31</td></tr>\n",
       "\t<tr><td>Good     </td><td>E</td><td>VS1 </td><td>56.9</td><td>65</td><td>4.05</td><td>4.07</td><td>2.31</td></tr>\n",
       "\t<tr><td>Premium  </td><td>I</td><td>VS2 </td><td>62.4</td><td>58</td><td>4.20</td><td>4.23</td><td>2.63</td></tr>\n",
       "\t<tr><td>Good     </td><td>J</td><td>SI2 </td><td>63.3</td><td>58</td><td>4.34</td><td>4.35</td><td>2.75</td></tr>\n",
       "\t<tr><td>Very Good</td><td>J</td><td>VVS2</td><td>62.8</td><td>57</td><td>3.94</td><td>3.96</td><td>2.48</td></tr>\n",
       "</tbody>\n",
       "</table>\n"
      ],
      "text/latex": [
       "A tibble: 6 × 8\n",
       "\\begin{tabular}{llllllll}\n",
       " cut & color & clarity & depth & table & x & y & z\\\\\n",
       " <ord> & <ord> & <ord> & <dbl> & <dbl> & <dbl> & <dbl> & <dbl>\\\\\n",
       "\\hline\n",
       "\t Ideal     & E & SI2  & 61.5 & 55 & 3.95 & 3.98 & 2.43\\\\\n",
       "\t Premium   & E & SI1  & 59.8 & 61 & 3.89 & 3.84 & 2.31\\\\\n",
       "\t Good      & E & VS1  & 56.9 & 65 & 4.05 & 4.07 & 2.31\\\\\n",
       "\t Premium   & I & VS2  & 62.4 & 58 & 4.20 & 4.23 & 2.63\\\\\n",
       "\t Good      & J & SI2  & 63.3 & 58 & 4.34 & 4.35 & 2.75\\\\\n",
       "\t Very Good & J & VVS2 & 62.8 & 57 & 3.94 & 3.96 & 2.48\\\\\n",
       "\\end{tabular}\n"
      ],
      "text/markdown": [
       "\n",
       "A tibble: 6 × 8\n",
       "\n",
       "| cut &lt;ord&gt; | color &lt;ord&gt; | clarity &lt;ord&gt; | depth &lt;dbl&gt; | table &lt;dbl&gt; | x &lt;dbl&gt; | y &lt;dbl&gt; | z &lt;dbl&gt; |\n",
       "|---|---|---|---|---|---|---|---|\n",
       "| Ideal     | E | SI2  | 61.5 | 55 | 3.95 | 3.98 | 2.43 |\n",
       "| Premium   | E | SI1  | 59.8 | 61 | 3.89 | 3.84 | 2.31 |\n",
       "| Good      | E | VS1  | 56.9 | 65 | 4.05 | 4.07 | 2.31 |\n",
       "| Premium   | I | VS2  | 62.4 | 58 | 4.20 | 4.23 | 2.63 |\n",
       "| Good      | J | SI2  | 63.3 | 58 | 4.34 | 4.35 | 2.75 |\n",
       "| Very Good | J | VVS2 | 62.8 | 57 | 3.94 | 3.96 | 2.48 |\n",
       "\n"
      ],
      "text/plain": [
       "  cut       color clarity depth table x    y    z   \n",
       "1 Ideal     E     SI2     61.5  55    3.95 3.98 2.43\n",
       "2 Premium   E     SI1     59.8  61    3.89 3.84 2.31\n",
       "3 Good      E     VS1     56.9  65    4.05 4.07 2.31\n",
       "4 Premium   I     VS2     62.4  58    4.20 4.23 2.63\n",
       "5 Good      J     SI2     63.3  58    4.34 4.35 2.75\n",
       "6 Very Good J     VVS2    62.8  57    3.94 3.96 2.48"
      ]
     },
     "metadata": {},
     "output_type": "display_data"
    },
    {
     "data": {
      "text/html": [
       "<table class=\"dataframe\">\n",
       "<caption>A tibble: 6 × 8</caption>\n",
       "<thead>\n",
       "\t<tr><th scope=col>cut</th><th scope=col>color</th><th scope=col>clarity</th><th scope=col>depth</th><th scope=col>table</th><th scope=col>x</th><th scope=col>y</th><th scope=col>z</th></tr>\n",
       "\t<tr><th scope=col>&lt;ord&gt;</th><th scope=col>&lt;ord&gt;</th><th scope=col>&lt;ord&gt;</th><th scope=col>&lt;dbl&gt;</th><th scope=col>&lt;dbl&gt;</th><th scope=col>&lt;dbl&gt;</th><th scope=col>&lt;dbl&gt;</th><th scope=col>&lt;dbl&gt;</th></tr>\n",
       "</thead>\n",
       "<tbody>\n",
       "\t<tr><td>Ideal    </td><td>E</td><td>SI2 </td><td>61.5</td><td>55</td><td>3.95</td><td>3.98</td><td>2.43</td></tr>\n",
       "\t<tr><td>Premium  </td><td>E</td><td>SI1 </td><td>59.8</td><td>61</td><td>3.89</td><td>3.84</td><td>2.31</td></tr>\n",
       "\t<tr><td>Good     </td><td>E</td><td>VS1 </td><td>56.9</td><td>65</td><td>4.05</td><td>4.07</td><td>2.31</td></tr>\n",
       "\t<tr><td>Premium  </td><td>I</td><td>VS2 </td><td>62.4</td><td>58</td><td>4.20</td><td>4.23</td><td>2.63</td></tr>\n",
       "\t<tr><td>Good     </td><td>J</td><td>SI2 </td><td>63.3</td><td>58</td><td>4.34</td><td>4.35</td><td>2.75</td></tr>\n",
       "\t<tr><td>Very Good</td><td>J</td><td>VVS2</td><td>62.8</td><td>57</td><td>3.94</td><td>3.96</td><td>2.48</td></tr>\n",
       "</tbody>\n",
       "</table>\n"
      ],
      "text/latex": [
       "A tibble: 6 × 8\n",
       "\\begin{tabular}{llllllll}\n",
       " cut & color & clarity & depth & table & x & y & z\\\\\n",
       " <ord> & <ord> & <ord> & <dbl> & <dbl> & <dbl> & <dbl> & <dbl>\\\\\n",
       "\\hline\n",
       "\t Ideal     & E & SI2  & 61.5 & 55 & 3.95 & 3.98 & 2.43\\\\\n",
       "\t Premium   & E & SI1  & 59.8 & 61 & 3.89 & 3.84 & 2.31\\\\\n",
       "\t Good      & E & VS1  & 56.9 & 65 & 4.05 & 4.07 & 2.31\\\\\n",
       "\t Premium   & I & VS2  & 62.4 & 58 & 4.20 & 4.23 & 2.63\\\\\n",
       "\t Good      & J & SI2  & 63.3 & 58 & 4.34 & 4.35 & 2.75\\\\\n",
       "\t Very Good & J & VVS2 & 62.8 & 57 & 3.94 & 3.96 & 2.48\\\\\n",
       "\\end{tabular}\n"
      ],
      "text/markdown": [
       "\n",
       "A tibble: 6 × 8\n",
       "\n",
       "| cut &lt;ord&gt; | color &lt;ord&gt; | clarity &lt;ord&gt; | depth &lt;dbl&gt; | table &lt;dbl&gt; | x &lt;dbl&gt; | y &lt;dbl&gt; | z &lt;dbl&gt; |\n",
       "|---|---|---|---|---|---|---|---|\n",
       "| Ideal     | E | SI2  | 61.5 | 55 | 3.95 | 3.98 | 2.43 |\n",
       "| Premium   | E | SI1  | 59.8 | 61 | 3.89 | 3.84 | 2.31 |\n",
       "| Good      | E | VS1  | 56.9 | 65 | 4.05 | 4.07 | 2.31 |\n",
       "| Premium   | I | VS2  | 62.4 | 58 | 4.20 | 4.23 | 2.63 |\n",
       "| Good      | J | SI2  | 63.3 | 58 | 4.34 | 4.35 | 2.75 |\n",
       "| Very Good | J | VVS2 | 62.8 | 57 | 3.94 | 3.96 | 2.48 |\n",
       "\n"
      ],
      "text/plain": [
       "  cut       color clarity depth table x    y    z   \n",
       "1 Ideal     E     SI2     61.5  55    3.95 3.98 2.43\n",
       "2 Premium   E     SI1     59.8  61    3.89 3.84 2.31\n",
       "3 Good      E     VS1     56.9  65    4.05 4.07 2.31\n",
       "4 Premium   I     VS2     62.4  58    4.20 4.23 2.63\n",
       "5 Good      J     SI2     63.3  58    4.34 4.35 2.75\n",
       "6 Very Good J     VVS2    62.8  57    3.94 3.96 2.48"
      ]
     },
     "metadata": {},
     "output_type": "display_data"
    },
    {
     "data": {
      "text/html": [
       "<table class=\"dataframe\">\n",
       "<caption>A tibble: 6 × 8</caption>\n",
       "<thead>\n",
       "\t<tr><th scope=col>cut</th><th scope=col>color</th><th scope=col>clarity</th><th scope=col>depth</th><th scope=col>table</th><th scope=col>x</th><th scope=col>y</th><th scope=col>z</th></tr>\n",
       "\t<tr><th scope=col>&lt;ord&gt;</th><th scope=col>&lt;ord&gt;</th><th scope=col>&lt;ord&gt;</th><th scope=col>&lt;dbl&gt;</th><th scope=col>&lt;dbl&gt;</th><th scope=col>&lt;dbl&gt;</th><th scope=col>&lt;dbl&gt;</th><th scope=col>&lt;dbl&gt;</th></tr>\n",
       "</thead>\n",
       "<tbody>\n",
       "\t<tr><td>Ideal    </td><td>E</td><td>SI2 </td><td>61.5</td><td>55</td><td>3.95</td><td>3.98</td><td>2.43</td></tr>\n",
       "\t<tr><td>Premium  </td><td>E</td><td>SI1 </td><td>59.8</td><td>61</td><td>3.89</td><td>3.84</td><td>2.31</td></tr>\n",
       "\t<tr><td>Good     </td><td>E</td><td>VS1 </td><td>56.9</td><td>65</td><td>4.05</td><td>4.07</td><td>2.31</td></tr>\n",
       "\t<tr><td>Premium  </td><td>I</td><td>VS2 </td><td>62.4</td><td>58</td><td>4.20</td><td>4.23</td><td>2.63</td></tr>\n",
       "\t<tr><td>Good     </td><td>J</td><td>SI2 </td><td>63.3</td><td>58</td><td>4.34</td><td>4.35</td><td>2.75</td></tr>\n",
       "\t<tr><td>Very Good</td><td>J</td><td>VVS2</td><td>62.8</td><td>57</td><td>3.94</td><td>3.96</td><td>2.48</td></tr>\n",
       "</tbody>\n",
       "</table>\n"
      ],
      "text/latex": [
       "A tibble: 6 × 8\n",
       "\\begin{tabular}{llllllll}\n",
       " cut & color & clarity & depth & table & x & y & z\\\\\n",
       " <ord> & <ord> & <ord> & <dbl> & <dbl> & <dbl> & <dbl> & <dbl>\\\\\n",
       "\\hline\n",
       "\t Ideal     & E & SI2  & 61.5 & 55 & 3.95 & 3.98 & 2.43\\\\\n",
       "\t Premium   & E & SI1  & 59.8 & 61 & 3.89 & 3.84 & 2.31\\\\\n",
       "\t Good      & E & VS1  & 56.9 & 65 & 4.05 & 4.07 & 2.31\\\\\n",
       "\t Premium   & I & VS2  & 62.4 & 58 & 4.20 & 4.23 & 2.63\\\\\n",
       "\t Good      & J & SI2  & 63.3 & 58 & 4.34 & 4.35 & 2.75\\\\\n",
       "\t Very Good & J & VVS2 & 62.8 & 57 & 3.94 & 3.96 & 2.48\\\\\n",
       "\\end{tabular}\n"
      ],
      "text/markdown": [
       "\n",
       "A tibble: 6 × 8\n",
       "\n",
       "| cut &lt;ord&gt; | color &lt;ord&gt; | clarity &lt;ord&gt; | depth &lt;dbl&gt; | table &lt;dbl&gt; | x &lt;dbl&gt; | y &lt;dbl&gt; | z &lt;dbl&gt; |\n",
       "|---|---|---|---|---|---|---|---|\n",
       "| Ideal     | E | SI2  | 61.5 | 55 | 3.95 | 3.98 | 2.43 |\n",
       "| Premium   | E | SI1  | 59.8 | 61 | 3.89 | 3.84 | 2.31 |\n",
       "| Good      | E | VS1  | 56.9 | 65 | 4.05 | 4.07 | 2.31 |\n",
       "| Premium   | I | VS2  | 62.4 | 58 | 4.20 | 4.23 | 2.63 |\n",
       "| Good      | J | SI2  | 63.3 | 58 | 4.34 | 4.35 | 2.75 |\n",
       "| Very Good | J | VVS2 | 62.8 | 57 | 3.94 | 3.96 | 2.48 |\n",
       "\n"
      ],
      "text/plain": [
       "  cut       color clarity depth table x    y    z   \n",
       "1 Ideal     E     SI2     61.5  55    3.95 3.98 2.43\n",
       "2 Premium   E     SI1     59.8  61    3.89 3.84 2.31\n",
       "3 Good      E     VS1     56.9  65    4.05 4.07 2.31\n",
       "4 Premium   I     VS2     62.4  58    4.20 4.23 2.63\n",
       "5 Good      J     SI2     63.3  58    4.34 4.35 2.75\n",
       "6 Very Good J     VVS2    62.8  57    3.94 3.96 2.48"
      ]
     },
     "metadata": {},
     "output_type": "display_data"
    }
   ],
   "source": [
    "# 변수들 중 carat, price 제외하고 모두 출력\n",
    "head(diamonds[, -c(1,7)])\n",
    "diamonds %>% select(-c(carat, price)) %>% head()\n",
    "head(select(diamonds, -carat, -price))\n",
    "head(select(diamonds, -c(carat, price)))\n",
    "head(select(diamonds, -c(1, 7)))"
   ]
  },
  {
   "cell_type": "code",
   "execution_count": 177,
   "id": "f8680142-1131-479c-8961-cd8adccb5433",
   "metadata": {},
   "outputs": [
    {
     "data": {
      "text/html": [
       "<table class=\"dataframe\">\n",
       "<caption>A tibble: 6 × 4</caption>\n",
       "<thead>\n",
       "\t<tr><th scope=col>carat</th><th scope=col>cut</th><th scope=col>color</th><th scope=col>clarity</th></tr>\n",
       "\t<tr><th scope=col>&lt;dbl&gt;</th><th scope=col>&lt;ord&gt;</th><th scope=col>&lt;ord&gt;</th><th scope=col>&lt;ord&gt;</th></tr>\n",
       "</thead>\n",
       "<tbody>\n",
       "\t<tr><td>0.23</td><td>Ideal    </td><td>E</td><td>SI2 </td></tr>\n",
       "\t<tr><td>0.21</td><td>Premium  </td><td>E</td><td>SI1 </td></tr>\n",
       "\t<tr><td>0.23</td><td>Good     </td><td>E</td><td>VS1 </td></tr>\n",
       "\t<tr><td>0.29</td><td>Premium  </td><td>I</td><td>VS2 </td></tr>\n",
       "\t<tr><td>0.31</td><td>Good     </td><td>J</td><td>SI2 </td></tr>\n",
       "\t<tr><td>0.24</td><td>Very Good</td><td>J</td><td>VVS2</td></tr>\n",
       "</tbody>\n",
       "</table>\n"
      ],
      "text/latex": [
       "A tibble: 6 × 4\n",
       "\\begin{tabular}{llll}\n",
       " carat & cut & color & clarity\\\\\n",
       " <dbl> & <ord> & <ord> & <ord>\\\\\n",
       "\\hline\n",
       "\t 0.23 & Ideal     & E & SI2 \\\\\n",
       "\t 0.21 & Premium   & E & SI1 \\\\\n",
       "\t 0.23 & Good      & E & VS1 \\\\\n",
       "\t 0.29 & Premium   & I & VS2 \\\\\n",
       "\t 0.31 & Good      & J & SI2 \\\\\n",
       "\t 0.24 & Very Good & J & VVS2\\\\\n",
       "\\end{tabular}\n"
      ],
      "text/markdown": [
       "\n",
       "A tibble: 6 × 4\n",
       "\n",
       "| carat &lt;dbl&gt; | cut &lt;ord&gt; | color &lt;ord&gt; | clarity &lt;ord&gt; |\n",
       "|---|---|---|---|\n",
       "| 0.23 | Ideal     | E | SI2  |\n",
       "| 0.21 | Premium   | E | SI1  |\n",
       "| 0.23 | Good      | E | VS1  |\n",
       "| 0.29 | Premium   | I | VS2  |\n",
       "| 0.31 | Good      | J | SI2  |\n",
       "| 0.24 | Very Good | J | VVS2 |\n",
       "\n"
      ],
      "text/plain": [
       "  carat cut       color clarity\n",
       "1 0.23  Ideal     E     SI2    \n",
       "2 0.21  Premium   E     SI1    \n",
       "3 0.23  Good      E     VS1    \n",
       "4 0.29  Premium   I     VS2    \n",
       "5 0.31  Good      J     SI2    \n",
       "6 0.24  Very Good J     VVS2   "
      ]
     },
     "metadata": {},
     "output_type": "display_data"
    },
    {
     "data": {
      "text/html": [
       "<table class=\"dataframe\">\n",
       "<caption>A tibble: 6 × 4</caption>\n",
       "<thead>\n",
       "\t<tr><th scope=col>carat</th><th scope=col>cut</th><th scope=col>color</th><th scope=col>clarity</th></tr>\n",
       "\t<tr><th scope=col>&lt;dbl&gt;</th><th scope=col>&lt;ord&gt;</th><th scope=col>&lt;ord&gt;</th><th scope=col>&lt;ord&gt;</th></tr>\n",
       "</thead>\n",
       "<tbody>\n",
       "\t<tr><td>0.23</td><td>Ideal    </td><td>E</td><td>SI2 </td></tr>\n",
       "\t<tr><td>0.21</td><td>Premium  </td><td>E</td><td>SI1 </td></tr>\n",
       "\t<tr><td>0.23</td><td>Good     </td><td>E</td><td>VS1 </td></tr>\n",
       "\t<tr><td>0.29</td><td>Premium  </td><td>I</td><td>VS2 </td></tr>\n",
       "\t<tr><td>0.31</td><td>Good     </td><td>J</td><td>SI2 </td></tr>\n",
       "\t<tr><td>0.24</td><td>Very Good</td><td>J</td><td>VVS2</td></tr>\n",
       "</tbody>\n",
       "</table>\n"
      ],
      "text/latex": [
       "A tibble: 6 × 4\n",
       "\\begin{tabular}{llll}\n",
       " carat & cut & color & clarity\\\\\n",
       " <dbl> & <ord> & <ord> & <ord>\\\\\n",
       "\\hline\n",
       "\t 0.23 & Ideal     & E & SI2 \\\\\n",
       "\t 0.21 & Premium   & E & SI1 \\\\\n",
       "\t 0.23 & Good      & E & VS1 \\\\\n",
       "\t 0.29 & Premium   & I & VS2 \\\\\n",
       "\t 0.31 & Good      & J & SI2 \\\\\n",
       "\t 0.24 & Very Good & J & VVS2\\\\\n",
       "\\end{tabular}\n"
      ],
      "text/markdown": [
       "\n",
       "A tibble: 6 × 4\n",
       "\n",
       "| carat &lt;dbl&gt; | cut &lt;ord&gt; | color &lt;ord&gt; | clarity &lt;ord&gt; |\n",
       "|---|---|---|---|\n",
       "| 0.23 | Ideal     | E | SI2  |\n",
       "| 0.21 | Premium   | E | SI1  |\n",
       "| 0.23 | Good      | E | VS1  |\n",
       "| 0.29 | Premium   | I | VS2  |\n",
       "| 0.31 | Good      | J | SI2  |\n",
       "| 0.24 | Very Good | J | VVS2 |\n",
       "\n"
      ],
      "text/plain": [
       "  carat cut       color clarity\n",
       "1 0.23  Ideal     E     SI2    \n",
       "2 0.21  Premium   E     SI1    \n",
       "3 0.23  Good      E     VS1    \n",
       "4 0.29  Premium   I     VS2    \n",
       "5 0.31  Good      J     SI2    \n",
       "6 0.24  Very Good J     VVS2   "
      ]
     },
     "metadata": {},
     "output_type": "display_data"
    }
   ],
   "source": [
    "# 변수명 중 c로 시작하는 것만 출력 : starts_with\n",
    "diamonds %>% select(starts_with('c')) %>% head()\n",
    "head(select(diamonds, starts_with('c')))"
   ]
  },
  {
   "cell_type": "code",
   "execution_count": 178,
   "id": "e70747c2-75db-4fe9-8bfa-9ea1512cd70e",
   "metadata": {},
   "outputs": [
    {
     "data": {
      "text/html": [
       "<table class=\"dataframe\">\n",
       "<caption>A tibble: 6 × 2</caption>\n",
       "<thead>\n",
       "\t<tr><th scope=col>table</th><th scope=col>price</th></tr>\n",
       "\t<tr><th scope=col>&lt;dbl&gt;</th><th scope=col>&lt;int&gt;</th></tr>\n",
       "</thead>\n",
       "<tbody>\n",
       "\t<tr><td>55</td><td>326</td></tr>\n",
       "\t<tr><td>61</td><td>326</td></tr>\n",
       "\t<tr><td>65</td><td>327</td></tr>\n",
       "\t<tr><td>58</td><td>334</td></tr>\n",
       "\t<tr><td>58</td><td>335</td></tr>\n",
       "\t<tr><td>57</td><td>336</td></tr>\n",
       "</tbody>\n",
       "</table>\n"
      ],
      "text/latex": [
       "A tibble: 6 × 2\n",
       "\\begin{tabular}{ll}\n",
       " table & price\\\\\n",
       " <dbl> & <int>\\\\\n",
       "\\hline\n",
       "\t 55 & 326\\\\\n",
       "\t 61 & 326\\\\\n",
       "\t 65 & 327\\\\\n",
       "\t 58 & 334\\\\\n",
       "\t 58 & 335\\\\\n",
       "\t 57 & 336\\\\\n",
       "\\end{tabular}\n"
      ],
      "text/markdown": [
       "\n",
       "A tibble: 6 × 2\n",
       "\n",
       "| table &lt;dbl&gt; | price &lt;int&gt; |\n",
       "|---|---|\n",
       "| 55 | 326 |\n",
       "| 61 | 326 |\n",
       "| 65 | 327 |\n",
       "| 58 | 334 |\n",
       "| 58 | 335 |\n",
       "| 57 | 336 |\n",
       "\n"
      ],
      "text/plain": [
       "  table price\n",
       "1 55    326  \n",
       "2 61    326  \n",
       "3 65    327  \n",
       "4 58    334  \n",
       "5 58    335  \n",
       "6 57    336  "
      ]
     },
     "metadata": {},
     "output_type": "display_data"
    },
    {
     "data": {
      "text/html": [
       "<table class=\"dataframe\">\n",
       "<caption>A tibble: 6 × 2</caption>\n",
       "<thead>\n",
       "\t<tr><th scope=col>table</th><th scope=col>price</th></tr>\n",
       "\t<tr><th scope=col>&lt;dbl&gt;</th><th scope=col>&lt;int&gt;</th></tr>\n",
       "</thead>\n",
       "<tbody>\n",
       "\t<tr><td>55</td><td>326</td></tr>\n",
       "\t<tr><td>61</td><td>326</td></tr>\n",
       "\t<tr><td>65</td><td>327</td></tr>\n",
       "\t<tr><td>58</td><td>334</td></tr>\n",
       "\t<tr><td>58</td><td>335</td></tr>\n",
       "\t<tr><td>57</td><td>336</td></tr>\n",
       "</tbody>\n",
       "</table>\n"
      ],
      "text/latex": [
       "A tibble: 6 × 2\n",
       "\\begin{tabular}{ll}\n",
       " table & price\\\\\n",
       " <dbl> & <int>\\\\\n",
       "\\hline\n",
       "\t 55 & 326\\\\\n",
       "\t 61 & 326\\\\\n",
       "\t 65 & 327\\\\\n",
       "\t 58 & 334\\\\\n",
       "\t 58 & 335\\\\\n",
       "\t 57 & 336\\\\\n",
       "\\end{tabular}\n"
      ],
      "text/markdown": [
       "\n",
       "A tibble: 6 × 2\n",
       "\n",
       "| table &lt;dbl&gt; | price &lt;int&gt; |\n",
       "|---|---|\n",
       "| 55 | 326 |\n",
       "| 61 | 326 |\n",
       "| 65 | 327 |\n",
       "| 58 | 334 |\n",
       "| 58 | 335 |\n",
       "| 57 | 336 |\n",
       "\n"
      ],
      "text/plain": [
       "  table price\n",
       "1 55    326  \n",
       "2 61    326  \n",
       "3 65    327  \n",
       "4 58    334  \n",
       "5 58    335  \n",
       "6 57    336  "
      ]
     },
     "metadata": {},
     "output_type": "display_data"
    }
   ],
   "source": [
    "# 변수명 중 e로 끝나는 것만 출력 : ends_with\n",
    "diamonds %>% select(ends_with('e')) %>% head()\n",
    "head(select(diamonds, ends_with('e')))"
   ]
  },
  {
   "cell_type": "code",
   "execution_count": 179,
   "id": "cab252e7-2df0-44a7-8dae-ca68a6a58141",
   "metadata": {},
   "outputs": [
    {
     "data": {
      "text/html": [
       "<table class=\"dataframe\">\n",
       "<caption>A tibble: 6 × 3</caption>\n",
       "<thead>\n",
       "\t<tr><th scope=col>color</th><th scope=col>clarity</th><th scope=col>table</th></tr>\n",
       "\t<tr><th scope=col>&lt;ord&gt;</th><th scope=col>&lt;ord&gt;</th><th scope=col>&lt;dbl&gt;</th></tr>\n",
       "</thead>\n",
       "<tbody>\n",
       "\t<tr><td>E</td><td>SI2 </td><td>55</td></tr>\n",
       "\t<tr><td>E</td><td>SI1 </td><td>61</td></tr>\n",
       "\t<tr><td>E</td><td>VS1 </td><td>65</td></tr>\n",
       "\t<tr><td>I</td><td>VS2 </td><td>58</td></tr>\n",
       "\t<tr><td>J</td><td>SI2 </td><td>58</td></tr>\n",
       "\t<tr><td>J</td><td>VVS2</td><td>57</td></tr>\n",
       "</tbody>\n",
       "</table>\n"
      ],
      "text/latex": [
       "A tibble: 6 × 3\n",
       "\\begin{tabular}{lll}\n",
       " color & clarity & table\\\\\n",
       " <ord> & <ord> & <dbl>\\\\\n",
       "\\hline\n",
       "\t E & SI2  & 55\\\\\n",
       "\t E & SI1  & 61\\\\\n",
       "\t E & VS1  & 65\\\\\n",
       "\t I & VS2  & 58\\\\\n",
       "\t J & SI2  & 58\\\\\n",
       "\t J & VVS2 & 57\\\\\n",
       "\\end{tabular}\n"
      ],
      "text/markdown": [
       "\n",
       "A tibble: 6 × 3\n",
       "\n",
       "| color &lt;ord&gt; | clarity &lt;ord&gt; | table &lt;dbl&gt; |\n",
       "|---|---|---|\n",
       "| E | SI2  | 55 |\n",
       "| E | SI1  | 61 |\n",
       "| E | VS1  | 65 |\n",
       "| I | VS2  | 58 |\n",
       "| J | SI2  | 58 |\n",
       "| J | VVS2 | 57 |\n",
       "\n"
      ],
      "text/plain": [
       "  color clarity table\n",
       "1 E     SI2     55   \n",
       "2 E     SI1     61   \n",
       "3 E     VS1     65   \n",
       "4 I     VS2     58   \n",
       "5 J     SI2     58   \n",
       "6 J     VVS2    57   "
      ]
     },
     "metadata": {},
     "output_type": "display_data"
    },
    {
     "data": {
      "text/html": [
       "<table class=\"dataframe\">\n",
       "<caption>A tibble: 6 × 3</caption>\n",
       "<thead>\n",
       "\t<tr><th scope=col>color</th><th scope=col>clarity</th><th scope=col>table</th></tr>\n",
       "\t<tr><th scope=col>&lt;ord&gt;</th><th scope=col>&lt;ord&gt;</th><th scope=col>&lt;dbl&gt;</th></tr>\n",
       "</thead>\n",
       "<tbody>\n",
       "\t<tr><td>E</td><td>SI2 </td><td>55</td></tr>\n",
       "\t<tr><td>E</td><td>SI1 </td><td>61</td></tr>\n",
       "\t<tr><td>E</td><td>VS1 </td><td>65</td></tr>\n",
       "\t<tr><td>I</td><td>VS2 </td><td>58</td></tr>\n",
       "\t<tr><td>J</td><td>SI2 </td><td>58</td></tr>\n",
       "\t<tr><td>J</td><td>VVS2</td><td>57</td></tr>\n",
       "</tbody>\n",
       "</table>\n"
      ],
      "text/latex": [
       "A tibble: 6 × 3\n",
       "\\begin{tabular}{lll}\n",
       " color & clarity & table\\\\\n",
       " <ord> & <ord> & <dbl>\\\\\n",
       "\\hline\n",
       "\t E & SI2  & 55\\\\\n",
       "\t E & SI1  & 61\\\\\n",
       "\t E & VS1  & 65\\\\\n",
       "\t I & VS2  & 58\\\\\n",
       "\t J & SI2  & 58\\\\\n",
       "\t J & VVS2 & 57\\\\\n",
       "\\end{tabular}\n"
      ],
      "text/markdown": [
       "\n",
       "A tibble: 6 × 3\n",
       "\n",
       "| color &lt;ord&gt; | clarity &lt;ord&gt; | table &lt;dbl&gt; |\n",
       "|---|---|---|\n",
       "| E | SI2  | 55 |\n",
       "| E | SI1  | 61 |\n",
       "| E | VS1  | 65 |\n",
       "| I | VS2  | 58 |\n",
       "| J | SI2  | 58 |\n",
       "| J | VVS2 | 57 |\n",
       "\n"
      ],
      "text/plain": [
       "  color clarity table\n",
       "1 E     SI2     55   \n",
       "2 E     SI1     61   \n",
       "3 E     VS1     65   \n",
       "4 I     VS2     58   \n",
       "5 J     SI2     58   \n",
       "6 J     VVS2    57   "
      ]
     },
     "metadata": {},
     "output_type": "display_data"
    }
   ],
   "source": [
    "# 변수명 중 l을 포함하는 것만 출력 : contains/matches\n",
    "diamonds %>% select(contains('l')) %>% head()\n",
    "head(select(diamonds, contains('l')))"
   ]
  },
  {
   "cell_type": "code",
   "execution_count": 180,
   "id": "d0714ebc-f116-4eaa-bd10-dc46b5b92067",
   "metadata": {},
   "outputs": [
    {
     "data": {
      "text/html": [
       "<table class=\"dataframe\">\n",
       "<caption>A tibble: 6 × 2</caption>\n",
       "<thead>\n",
       "\t<tr><th scope=col>carat</th><th scope=col>clarity</th></tr>\n",
       "\t<tr><th scope=col>&lt;dbl&gt;</th><th scope=col>&lt;ord&gt;</th></tr>\n",
       "</thead>\n",
       "<tbody>\n",
       "\t<tr><td>0.23</td><td>SI2 </td></tr>\n",
       "\t<tr><td>0.21</td><td>SI1 </td></tr>\n",
       "\t<tr><td>0.23</td><td>VS1 </td></tr>\n",
       "\t<tr><td>0.29</td><td>VS2 </td></tr>\n",
       "\t<tr><td>0.31</td><td>SI2 </td></tr>\n",
       "\t<tr><td>0.24</td><td>VVS2</td></tr>\n",
       "</tbody>\n",
       "</table>\n"
      ],
      "text/latex": [
       "A tibble: 6 × 2\n",
       "\\begin{tabular}{ll}\n",
       " carat & clarity\\\\\n",
       " <dbl> & <ord>\\\\\n",
       "\\hline\n",
       "\t 0.23 & SI2 \\\\\n",
       "\t 0.21 & SI1 \\\\\n",
       "\t 0.23 & VS1 \\\\\n",
       "\t 0.29 & VS2 \\\\\n",
       "\t 0.31 & SI2 \\\\\n",
       "\t 0.24 & VVS2\\\\\n",
       "\\end{tabular}\n"
      ],
      "text/markdown": [
       "\n",
       "A tibble: 6 × 2\n",
       "\n",
       "| carat &lt;dbl&gt; | clarity &lt;ord&gt; |\n",
       "|---|---|\n",
       "| 0.23 | SI2  |\n",
       "| 0.21 | SI1  |\n",
       "| 0.23 | VS1  |\n",
       "| 0.29 | VS2  |\n",
       "| 0.31 | SI2  |\n",
       "| 0.24 | VVS2 |\n",
       "\n"
      ],
      "text/plain": [
       "  carat clarity\n",
       "1 0.23  SI2    \n",
       "2 0.21  SI1    \n",
       "3 0.23  VS1    \n",
       "4 0.29  VS2    \n",
       "5 0.31  SI2    \n",
       "6 0.24  VVS2   "
      ]
     },
     "metadata": {},
     "output_type": "display_data"
    },
    {
     "data": {
      "text/html": [],
      "text/latex": [],
      "text/markdown": [],
      "text/plain": [
       " \n",
       "1\n",
       "2\n",
       "3\n",
       "4\n",
       "5\n",
       "6"
      ]
     },
     "metadata": {},
     "output_type": "display_data"
    },
    {
     "data": {
      "text/html": [],
      "text/latex": [],
      "text/markdown": [],
      "text/plain": [
       " \n",
       "1\n",
       "2\n",
       "3\n",
       "4\n",
       "5\n",
       "6"
      ]
     },
     "metadata": {},
     "output_type": "display_data"
    }
   ],
   "source": [
    "# 변수명 중 r과 t를 포함한 것만 출력\n",
    "diamonds %>% select(contains('r') & contains('t')) %>% head()\n",
    "diamonds %>% select(contains('r.t')) %>% head()\n",
    "diamonds %>% select(contains('r.+t')) %>% head()"
   ]
  },
  {
   "cell_type": "code",
   "execution_count": 181,
   "id": "9a0e2520-b9ce-4bb8-9372-21e1cbfbbeea",
   "metadata": {},
   "outputs": [
    {
     "data": {
      "text/html": [
       "<table class=\"dataframe\">\n",
       "<caption>A tibble: 6 × 10</caption>\n",
       "<thead>\n",
       "\t<tr><th scope=col>carat</th><th scope=col>cut</th><th scope=col>color</th><th scope=col>clarity</th><th scope=col>depth</th><th scope=col>table</th><th scope=col>price</th><th scope=col>x</th><th scope=col>y</th><th scope=col>z</th></tr>\n",
       "\t<tr><th scope=col>&lt;dbl&gt;</th><th scope=col>&lt;ord&gt;</th><th scope=col>&lt;ord&gt;</th><th scope=col>&lt;ord&gt;</th><th scope=col>&lt;dbl&gt;</th><th scope=col>&lt;dbl&gt;</th><th scope=col>&lt;int&gt;</th><th scope=col>&lt;dbl&gt;</th><th scope=col>&lt;dbl&gt;</th><th scope=col>&lt;dbl&gt;</th></tr>\n",
       "</thead>\n",
       "<tbody>\n",
       "\t<tr><td>0.23</td><td>Ideal</td><td>E</td><td>SI2</td><td>61.5</td><td>55</td><td>326</td><td>3.95</td><td>3.98</td><td>2.43</td></tr>\n",
       "\t<tr><td>0.23</td><td>Ideal</td><td>J</td><td>VS1</td><td>62.8</td><td>56</td><td>340</td><td>3.93</td><td>3.90</td><td>2.46</td></tr>\n",
       "\t<tr><td>0.31</td><td>Ideal</td><td>J</td><td>SI2</td><td>62.2</td><td>54</td><td>344</td><td>4.35</td><td>4.37</td><td>2.71</td></tr>\n",
       "\t<tr><td>0.30</td><td>Ideal</td><td>I</td><td>SI2</td><td>62.0</td><td>54</td><td>348</td><td>4.31</td><td>4.34</td><td>2.68</td></tr>\n",
       "\t<tr><td>0.33</td><td>Ideal</td><td>I</td><td>SI2</td><td>61.8</td><td>55</td><td>403</td><td>4.49</td><td>4.51</td><td>2.78</td></tr>\n",
       "\t<tr><td>0.33</td><td>Ideal</td><td>I</td><td>SI2</td><td>61.2</td><td>56</td><td>403</td><td>4.49</td><td>4.50</td><td>2.75</td></tr>\n",
       "</tbody>\n",
       "</table>\n"
      ],
      "text/latex": [
       "A tibble: 6 × 10\n",
       "\\begin{tabular}{llllllllll}\n",
       " carat & cut & color & clarity & depth & table & price & x & y & z\\\\\n",
       " <dbl> & <ord> & <ord> & <ord> & <dbl> & <dbl> & <int> & <dbl> & <dbl> & <dbl>\\\\\n",
       "\\hline\n",
       "\t 0.23 & Ideal & E & SI2 & 61.5 & 55 & 326 & 3.95 & 3.98 & 2.43\\\\\n",
       "\t 0.23 & Ideal & J & VS1 & 62.8 & 56 & 340 & 3.93 & 3.90 & 2.46\\\\\n",
       "\t 0.31 & Ideal & J & SI2 & 62.2 & 54 & 344 & 4.35 & 4.37 & 2.71\\\\\n",
       "\t 0.30 & Ideal & I & SI2 & 62.0 & 54 & 348 & 4.31 & 4.34 & 2.68\\\\\n",
       "\t 0.33 & Ideal & I & SI2 & 61.8 & 55 & 403 & 4.49 & 4.51 & 2.78\\\\\n",
       "\t 0.33 & Ideal & I & SI2 & 61.2 & 56 & 403 & 4.49 & 4.50 & 2.75\\\\\n",
       "\\end{tabular}\n"
      ],
      "text/markdown": [
       "\n",
       "A tibble: 6 × 10\n",
       "\n",
       "| carat &lt;dbl&gt; | cut &lt;ord&gt; | color &lt;ord&gt; | clarity &lt;ord&gt; | depth &lt;dbl&gt; | table &lt;dbl&gt; | price &lt;int&gt; | x &lt;dbl&gt; | y &lt;dbl&gt; | z &lt;dbl&gt; |\n",
       "|---|---|---|---|---|---|---|---|---|---|\n",
       "| 0.23 | Ideal | E | SI2 | 61.5 | 55 | 326 | 3.95 | 3.98 | 2.43 |\n",
       "| 0.23 | Ideal | J | VS1 | 62.8 | 56 | 340 | 3.93 | 3.90 | 2.46 |\n",
       "| 0.31 | Ideal | J | SI2 | 62.2 | 54 | 344 | 4.35 | 4.37 | 2.71 |\n",
       "| 0.30 | Ideal | I | SI2 | 62.0 | 54 | 348 | 4.31 | 4.34 | 2.68 |\n",
       "| 0.33 | Ideal | I | SI2 | 61.8 | 55 | 403 | 4.49 | 4.51 | 2.78 |\n",
       "| 0.33 | Ideal | I | SI2 | 61.2 | 56 | 403 | 4.49 | 4.50 | 2.75 |\n",
       "\n"
      ],
      "text/plain": [
       "  carat cut   color clarity depth table price x    y    z   \n",
       "1 0.23  Ideal E     SI2     61.5  55    326   3.95 3.98 2.43\n",
       "2 0.23  Ideal J     VS1     62.8  56    340   3.93 3.90 2.46\n",
       "3 0.31  Ideal J     SI2     62.2  54    344   4.35 4.37 2.71\n",
       "4 0.30  Ideal I     SI2     62.0  54    348   4.31 4.34 2.68\n",
       "5 0.33  Ideal I     SI2     61.8  55    403   4.49 4.51 2.78\n",
       "6 0.33  Ideal I     SI2     61.2  56    403   4.49 4.50 2.75"
      ]
     },
     "metadata": {},
     "output_type": "display_data"
    },
    {
     "data": {
      "text/html": [
       "<table class=\"dataframe\">\n",
       "<caption>A tibble: 6 × 10</caption>\n",
       "<thead>\n",
       "\t<tr><th scope=col>carat</th><th scope=col>cut</th><th scope=col>color</th><th scope=col>clarity</th><th scope=col>depth</th><th scope=col>table</th><th scope=col>price</th><th scope=col>x</th><th scope=col>y</th><th scope=col>z</th></tr>\n",
       "\t<tr><th scope=col>&lt;dbl&gt;</th><th scope=col>&lt;ord&gt;</th><th scope=col>&lt;ord&gt;</th><th scope=col>&lt;ord&gt;</th><th scope=col>&lt;dbl&gt;</th><th scope=col>&lt;dbl&gt;</th><th scope=col>&lt;int&gt;</th><th scope=col>&lt;dbl&gt;</th><th scope=col>&lt;dbl&gt;</th><th scope=col>&lt;dbl&gt;</th></tr>\n",
       "</thead>\n",
       "<tbody>\n",
       "\t<tr><td>0.23</td><td>Ideal</td><td>E</td><td>SI2</td><td>61.5</td><td>55</td><td>326</td><td>3.95</td><td>3.98</td><td>2.43</td></tr>\n",
       "\t<tr><td>0.23</td><td>Ideal</td><td>J</td><td>VS1</td><td>62.8</td><td>56</td><td>340</td><td>3.93</td><td>3.90</td><td>2.46</td></tr>\n",
       "\t<tr><td>0.31</td><td>Ideal</td><td>J</td><td>SI2</td><td>62.2</td><td>54</td><td>344</td><td>4.35</td><td>4.37</td><td>2.71</td></tr>\n",
       "\t<tr><td>0.30</td><td>Ideal</td><td>I</td><td>SI2</td><td>62.0</td><td>54</td><td>348</td><td>4.31</td><td>4.34</td><td>2.68</td></tr>\n",
       "\t<tr><td>0.33</td><td>Ideal</td><td>I</td><td>SI2</td><td>61.8</td><td>55</td><td>403</td><td>4.49</td><td>4.51</td><td>2.78</td></tr>\n",
       "\t<tr><td>0.33</td><td>Ideal</td><td>I</td><td>SI2</td><td>61.2</td><td>56</td><td>403</td><td>4.49</td><td>4.50</td><td>2.75</td></tr>\n",
       "</tbody>\n",
       "</table>\n"
      ],
      "text/latex": [
       "A tibble: 6 × 10\n",
       "\\begin{tabular}{llllllllll}\n",
       " carat & cut & color & clarity & depth & table & price & x & y & z\\\\\n",
       " <dbl> & <ord> & <ord> & <ord> & <dbl> & <dbl> & <int> & <dbl> & <dbl> & <dbl>\\\\\n",
       "\\hline\n",
       "\t 0.23 & Ideal & E & SI2 & 61.5 & 55 & 326 & 3.95 & 3.98 & 2.43\\\\\n",
       "\t 0.23 & Ideal & J & VS1 & 62.8 & 56 & 340 & 3.93 & 3.90 & 2.46\\\\\n",
       "\t 0.31 & Ideal & J & SI2 & 62.2 & 54 & 344 & 4.35 & 4.37 & 2.71\\\\\n",
       "\t 0.30 & Ideal & I & SI2 & 62.0 & 54 & 348 & 4.31 & 4.34 & 2.68\\\\\n",
       "\t 0.33 & Ideal & I & SI2 & 61.8 & 55 & 403 & 4.49 & 4.51 & 2.78\\\\\n",
       "\t 0.33 & Ideal & I & SI2 & 61.2 & 56 & 403 & 4.49 & 4.50 & 2.75\\\\\n",
       "\\end{tabular}\n"
      ],
      "text/markdown": [
       "\n",
       "A tibble: 6 × 10\n",
       "\n",
       "| carat &lt;dbl&gt; | cut &lt;ord&gt; | color &lt;ord&gt; | clarity &lt;ord&gt; | depth &lt;dbl&gt; | table &lt;dbl&gt; | price &lt;int&gt; | x &lt;dbl&gt; | y &lt;dbl&gt; | z &lt;dbl&gt; |\n",
       "|---|---|---|---|---|---|---|---|---|---|\n",
       "| 0.23 | Ideal | E | SI2 | 61.5 | 55 | 326 | 3.95 | 3.98 | 2.43 |\n",
       "| 0.23 | Ideal | J | VS1 | 62.8 | 56 | 340 | 3.93 | 3.90 | 2.46 |\n",
       "| 0.31 | Ideal | J | SI2 | 62.2 | 54 | 344 | 4.35 | 4.37 | 2.71 |\n",
       "| 0.30 | Ideal | I | SI2 | 62.0 | 54 | 348 | 4.31 | 4.34 | 2.68 |\n",
       "| 0.33 | Ideal | I | SI2 | 61.8 | 55 | 403 | 4.49 | 4.51 | 2.78 |\n",
       "| 0.33 | Ideal | I | SI2 | 61.2 | 56 | 403 | 4.49 | 4.50 | 2.75 |\n",
       "\n"
      ],
      "text/plain": [
       "  carat cut   color clarity depth table price x    y    z   \n",
       "1 0.23  Ideal E     SI2     61.5  55    326   3.95 3.98 2.43\n",
       "2 0.23  Ideal J     VS1     62.8  56    340   3.93 3.90 2.46\n",
       "3 0.31  Ideal J     SI2     62.2  54    344   4.35 4.37 2.71\n",
       "4 0.30  Ideal I     SI2     62.0  54    348   4.31 4.34 2.68\n",
       "5 0.33  Ideal I     SI2     61.8  55    403   4.49 4.51 2.78\n",
       "6 0.33  Ideal I     SI2     61.2  56    403   4.49 4.50 2.75"
      ]
     },
     "metadata": {},
     "output_type": "display_data"
    },
    {
     "data": {
      "text/html": [
       "<table class=\"dataframe\">\n",
       "<caption>A tibble: 6 × 10</caption>\n",
       "<thead>\n",
       "\t<tr><th scope=col>carat</th><th scope=col>cut</th><th scope=col>color</th><th scope=col>clarity</th><th scope=col>depth</th><th scope=col>table</th><th scope=col>price</th><th scope=col>x</th><th scope=col>y</th><th scope=col>z</th></tr>\n",
       "\t<tr><th scope=col>&lt;dbl&gt;</th><th scope=col>&lt;ord&gt;</th><th scope=col>&lt;ord&gt;</th><th scope=col>&lt;ord&gt;</th><th scope=col>&lt;dbl&gt;</th><th scope=col>&lt;dbl&gt;</th><th scope=col>&lt;int&gt;</th><th scope=col>&lt;dbl&gt;</th><th scope=col>&lt;dbl&gt;</th><th scope=col>&lt;dbl&gt;</th></tr>\n",
       "</thead>\n",
       "<tbody>\n",
       "\t<tr><td>0.23</td><td>Ideal</td><td>E</td><td>SI2</td><td>61.5</td><td>55</td><td>326</td><td>3.95</td><td>3.98</td><td>2.43</td></tr>\n",
       "\t<tr><td>0.23</td><td>Ideal</td><td>J</td><td>VS1</td><td>62.8</td><td>56</td><td>340</td><td>3.93</td><td>3.90</td><td>2.46</td></tr>\n",
       "\t<tr><td>0.31</td><td>Ideal</td><td>J</td><td>SI2</td><td>62.2</td><td>54</td><td>344</td><td>4.35</td><td>4.37</td><td>2.71</td></tr>\n",
       "\t<tr><td>0.30</td><td>Ideal</td><td>I</td><td>SI2</td><td>62.0</td><td>54</td><td>348</td><td>4.31</td><td>4.34</td><td>2.68</td></tr>\n",
       "\t<tr><td>0.33</td><td>Ideal</td><td>I</td><td>SI2</td><td>61.8</td><td>55</td><td>403</td><td>4.49</td><td>4.51</td><td>2.78</td></tr>\n",
       "\t<tr><td>0.33</td><td>Ideal</td><td>I</td><td>SI2</td><td>61.2</td><td>56</td><td>403</td><td>4.49</td><td>4.50</td><td>2.75</td></tr>\n",
       "</tbody>\n",
       "</table>\n"
      ],
      "text/latex": [
       "A tibble: 6 × 10\n",
       "\\begin{tabular}{llllllllll}\n",
       " carat & cut & color & clarity & depth & table & price & x & y & z\\\\\n",
       " <dbl> & <ord> & <ord> & <ord> & <dbl> & <dbl> & <int> & <dbl> & <dbl> & <dbl>\\\\\n",
       "\\hline\n",
       "\t 0.23 & Ideal & E & SI2 & 61.5 & 55 & 326 & 3.95 & 3.98 & 2.43\\\\\n",
       "\t 0.23 & Ideal & J & VS1 & 62.8 & 56 & 340 & 3.93 & 3.90 & 2.46\\\\\n",
       "\t 0.31 & Ideal & J & SI2 & 62.2 & 54 & 344 & 4.35 & 4.37 & 2.71\\\\\n",
       "\t 0.30 & Ideal & I & SI2 & 62.0 & 54 & 348 & 4.31 & 4.34 & 2.68\\\\\n",
       "\t 0.33 & Ideal & I & SI2 & 61.8 & 55 & 403 & 4.49 & 4.51 & 2.78\\\\\n",
       "\t 0.33 & Ideal & I & SI2 & 61.2 & 56 & 403 & 4.49 & 4.50 & 2.75\\\\\n",
       "\\end{tabular}\n"
      ],
      "text/markdown": [
       "\n",
       "A tibble: 6 × 10\n",
       "\n",
       "| carat &lt;dbl&gt; | cut &lt;ord&gt; | color &lt;ord&gt; | clarity &lt;ord&gt; | depth &lt;dbl&gt; | table &lt;dbl&gt; | price &lt;int&gt; | x &lt;dbl&gt; | y &lt;dbl&gt; | z &lt;dbl&gt; |\n",
       "|---|---|---|---|---|---|---|---|---|---|\n",
       "| 0.23 | Ideal | E | SI2 | 61.5 | 55 | 326 | 3.95 | 3.98 | 2.43 |\n",
       "| 0.23 | Ideal | J | VS1 | 62.8 | 56 | 340 | 3.93 | 3.90 | 2.46 |\n",
       "| 0.31 | Ideal | J | SI2 | 62.2 | 54 | 344 | 4.35 | 4.37 | 2.71 |\n",
       "| 0.30 | Ideal | I | SI2 | 62.0 | 54 | 348 | 4.31 | 4.34 | 2.68 |\n",
       "| 0.33 | Ideal | I | SI2 | 61.8 | 55 | 403 | 4.49 | 4.51 | 2.78 |\n",
       "| 0.33 | Ideal | I | SI2 | 61.2 | 56 | 403 | 4.49 | 4.50 | 2.75 |\n",
       "\n"
      ],
      "text/plain": [
       "  carat cut   color clarity depth table price x    y    z   \n",
       "1 0.23  Ideal E     SI2     61.5  55    326   3.95 3.98 2.43\n",
       "2 0.23  Ideal J     VS1     62.8  56    340   3.93 3.90 2.46\n",
       "3 0.31  Ideal J     SI2     62.2  54    344   4.35 4.37 2.71\n",
       "4 0.30  Ideal I     SI2     62.0  54    348   4.31 4.34 2.68\n",
       "5 0.33  Ideal I     SI2     61.8  55    403   4.49 4.51 2.78\n",
       "6 0.33  Ideal I     SI2     61.2  56    403   4.49 4.50 2.75"
      ]
     },
     "metadata": {},
     "output_type": "display_data"
    }
   ],
   "source": [
    "# cut 변수 값 중 'Ideal'인 데이터 조회\n",
    "head(diamonds[diamonds$cut == 'Ideal', ])\n",
    "diamonds %>% filter(cut == 'Ideal') %>% head()\n",
    "head(filter(diamonds, cut == 'Ideal'))"
   ]
  },
  {
   "cell_type": "code",
   "execution_count": 182,
   "id": "671f0fe5-ec07-4304-8b49-1bdc4bdca419",
   "metadata": {},
   "outputs": [
    {
     "data": {
      "text/html": [
       "<table class=\"dataframe\">\n",
       "<caption>A tibble: 6 × 10</caption>\n",
       "<thead>\n",
       "\t<tr><th scope=col>carat</th><th scope=col>cut</th><th scope=col>color</th><th scope=col>clarity</th><th scope=col>depth</th><th scope=col>table</th><th scope=col>price</th><th scope=col>x</th><th scope=col>y</th><th scope=col>z</th></tr>\n",
       "\t<tr><th scope=col>&lt;dbl&gt;</th><th scope=col>&lt;ord&gt;</th><th scope=col>&lt;ord&gt;</th><th scope=col>&lt;ord&gt;</th><th scope=col>&lt;dbl&gt;</th><th scope=col>&lt;dbl&gt;</th><th scope=col>&lt;int&gt;</th><th scope=col>&lt;dbl&gt;</th><th scope=col>&lt;dbl&gt;</th><th scope=col>&lt;dbl&gt;</th></tr>\n",
       "</thead>\n",
       "<tbody>\n",
       "\t<tr><td>0.70</td><td>Ideal    </td><td>E</td><td>SI1</td><td>62.5</td><td>57</td><td>2757</td><td>5.70</td><td>5.72</td><td>3.57</td></tr>\n",
       "\t<tr><td>0.86</td><td>Fair     </td><td>E</td><td>SI2</td><td>55.1</td><td>69</td><td>2757</td><td>6.45</td><td>6.33</td><td>3.52</td></tr>\n",
       "\t<tr><td>0.70</td><td>Ideal    </td><td>G</td><td>VS2</td><td>61.6</td><td>56</td><td>2757</td><td>5.70</td><td>5.67</td><td>3.50</td></tr>\n",
       "\t<tr><td>0.71</td><td>Very Good</td><td>E</td><td>VS2</td><td>62.4</td><td>57</td><td>2759</td><td>5.68</td><td>5.73</td><td>3.56</td></tr>\n",
       "\t<tr><td>0.78</td><td>Very Good</td><td>G</td><td>SI2</td><td>63.8</td><td>56</td><td>2759</td><td>5.81</td><td>5.85</td><td>3.72</td></tr>\n",
       "\t<tr><td>0.70</td><td>Good     </td><td>E</td><td>VS2</td><td>57.5</td><td>58</td><td>2759</td><td>5.85</td><td>5.90</td><td>3.38</td></tr>\n",
       "</tbody>\n",
       "</table>\n"
      ],
      "text/latex": [
       "A tibble: 6 × 10\n",
       "\\begin{tabular}{llllllllll}\n",
       " carat & cut & color & clarity & depth & table & price & x & y & z\\\\\n",
       " <dbl> & <ord> & <ord> & <ord> & <dbl> & <dbl> & <int> & <dbl> & <dbl> & <dbl>\\\\\n",
       "\\hline\n",
       "\t 0.70 & Ideal     & E & SI1 & 62.5 & 57 & 2757 & 5.70 & 5.72 & 3.57\\\\\n",
       "\t 0.86 & Fair      & E & SI2 & 55.1 & 69 & 2757 & 6.45 & 6.33 & 3.52\\\\\n",
       "\t 0.70 & Ideal     & G & VS2 & 61.6 & 56 & 2757 & 5.70 & 5.67 & 3.50\\\\\n",
       "\t 0.71 & Very Good & E & VS2 & 62.4 & 57 & 2759 & 5.68 & 5.73 & 3.56\\\\\n",
       "\t 0.78 & Very Good & G & SI2 & 63.8 & 56 & 2759 & 5.81 & 5.85 & 3.72\\\\\n",
       "\t 0.70 & Good      & E & VS2 & 57.5 & 58 & 2759 & 5.85 & 5.90 & 3.38\\\\\n",
       "\\end{tabular}\n"
      ],
      "text/markdown": [
       "\n",
       "A tibble: 6 × 10\n",
       "\n",
       "| carat &lt;dbl&gt; | cut &lt;ord&gt; | color &lt;ord&gt; | clarity &lt;ord&gt; | depth &lt;dbl&gt; | table &lt;dbl&gt; | price &lt;int&gt; | x &lt;dbl&gt; | y &lt;dbl&gt; | z &lt;dbl&gt; |\n",
       "|---|---|---|---|---|---|---|---|---|---|\n",
       "| 0.70 | Ideal     | E | SI1 | 62.5 | 57 | 2757 | 5.70 | 5.72 | 3.57 |\n",
       "| 0.86 | Fair      | E | SI2 | 55.1 | 69 | 2757 | 6.45 | 6.33 | 3.52 |\n",
       "| 0.70 | Ideal     | G | VS2 | 61.6 | 56 | 2757 | 5.70 | 5.67 | 3.50 |\n",
       "| 0.71 | Very Good | E | VS2 | 62.4 | 57 | 2759 | 5.68 | 5.73 | 3.56 |\n",
       "| 0.78 | Very Good | G | SI2 | 63.8 | 56 | 2759 | 5.81 | 5.85 | 3.72 |\n",
       "| 0.70 | Good      | E | VS2 | 57.5 | 58 | 2759 | 5.85 | 5.90 | 3.38 |\n",
       "\n"
      ],
      "text/plain": [
       "  carat cut       color clarity depth table price x    y    z   \n",
       "1 0.70  Ideal     E     SI1     62.5  57    2757  5.70 5.72 3.57\n",
       "2 0.86  Fair      E     SI2     55.1  69    2757  6.45 6.33 3.52\n",
       "3 0.70  Ideal     G     VS2     61.6  56    2757  5.70 5.67 3.50\n",
       "4 0.71  Very Good E     VS2     62.4  57    2759  5.68 5.73 3.56\n",
       "5 0.78  Very Good G     SI2     63.8  56    2759  5.81 5.85 3.72\n",
       "6 0.70  Good      E     VS2     57.5  58    2759  5.85 5.90 3.38"
      ]
     },
     "metadata": {},
     "output_type": "display_data"
    },
    {
     "data": {
      "text/html": [
       "<table class=\"dataframe\">\n",
       "<caption>A tibble: 6 × 10</caption>\n",
       "<thead>\n",
       "\t<tr><th scope=col>carat</th><th scope=col>cut</th><th scope=col>color</th><th scope=col>clarity</th><th scope=col>depth</th><th scope=col>table</th><th scope=col>price</th><th scope=col>x</th><th scope=col>y</th><th scope=col>z</th></tr>\n",
       "\t<tr><th scope=col>&lt;dbl&gt;</th><th scope=col>&lt;ord&gt;</th><th scope=col>&lt;ord&gt;</th><th scope=col>&lt;ord&gt;</th><th scope=col>&lt;dbl&gt;</th><th scope=col>&lt;dbl&gt;</th><th scope=col>&lt;int&gt;</th><th scope=col>&lt;dbl&gt;</th><th scope=col>&lt;dbl&gt;</th><th scope=col>&lt;dbl&gt;</th></tr>\n",
       "</thead>\n",
       "<tbody>\n",
       "\t<tr><td>0.70</td><td>Ideal    </td><td>E</td><td>SI1</td><td>62.5</td><td>57</td><td>2757</td><td>5.70</td><td>5.72</td><td>3.57</td></tr>\n",
       "\t<tr><td>0.86</td><td>Fair     </td><td>E</td><td>SI2</td><td>55.1</td><td>69</td><td>2757</td><td>6.45</td><td>6.33</td><td>3.52</td></tr>\n",
       "\t<tr><td>0.70</td><td>Ideal    </td><td>G</td><td>VS2</td><td>61.6</td><td>56</td><td>2757</td><td>5.70</td><td>5.67</td><td>3.50</td></tr>\n",
       "\t<tr><td>0.71</td><td>Very Good</td><td>E</td><td>VS2</td><td>62.4</td><td>57</td><td>2759</td><td>5.68</td><td>5.73</td><td>3.56</td></tr>\n",
       "\t<tr><td>0.78</td><td>Very Good</td><td>G</td><td>SI2</td><td>63.8</td><td>56</td><td>2759</td><td>5.81</td><td>5.85</td><td>3.72</td></tr>\n",
       "\t<tr><td>0.70</td><td>Good     </td><td>E</td><td>VS2</td><td>57.5</td><td>58</td><td>2759</td><td>5.85</td><td>5.90</td><td>3.38</td></tr>\n",
       "</tbody>\n",
       "</table>\n"
      ],
      "text/latex": [
       "A tibble: 6 × 10\n",
       "\\begin{tabular}{llllllllll}\n",
       " carat & cut & color & clarity & depth & table & price & x & y & z\\\\\n",
       " <dbl> & <ord> & <ord> & <ord> & <dbl> & <dbl> & <int> & <dbl> & <dbl> & <dbl>\\\\\n",
       "\\hline\n",
       "\t 0.70 & Ideal     & E & SI1 & 62.5 & 57 & 2757 & 5.70 & 5.72 & 3.57\\\\\n",
       "\t 0.86 & Fair      & E & SI2 & 55.1 & 69 & 2757 & 6.45 & 6.33 & 3.52\\\\\n",
       "\t 0.70 & Ideal     & G & VS2 & 61.6 & 56 & 2757 & 5.70 & 5.67 & 3.50\\\\\n",
       "\t 0.71 & Very Good & E & VS2 & 62.4 & 57 & 2759 & 5.68 & 5.73 & 3.56\\\\\n",
       "\t 0.78 & Very Good & G & SI2 & 63.8 & 56 & 2759 & 5.81 & 5.85 & 3.72\\\\\n",
       "\t 0.70 & Good      & E & VS2 & 57.5 & 58 & 2759 & 5.85 & 5.90 & 3.38\\\\\n",
       "\\end{tabular}\n"
      ],
      "text/markdown": [
       "\n",
       "A tibble: 6 × 10\n",
       "\n",
       "| carat &lt;dbl&gt; | cut &lt;ord&gt; | color &lt;ord&gt; | clarity &lt;ord&gt; | depth &lt;dbl&gt; | table &lt;dbl&gt; | price &lt;int&gt; | x &lt;dbl&gt; | y &lt;dbl&gt; | z &lt;dbl&gt; |\n",
       "|---|---|---|---|---|---|---|---|---|---|\n",
       "| 0.70 | Ideal     | E | SI1 | 62.5 | 57 | 2757 | 5.70 | 5.72 | 3.57 |\n",
       "| 0.86 | Fair      | E | SI2 | 55.1 | 69 | 2757 | 6.45 | 6.33 | 3.52 |\n",
       "| 0.70 | Ideal     | G | VS2 | 61.6 | 56 | 2757 | 5.70 | 5.67 | 3.50 |\n",
       "| 0.71 | Very Good | E | VS2 | 62.4 | 57 | 2759 | 5.68 | 5.73 | 3.56 |\n",
       "| 0.78 | Very Good | G | SI2 | 63.8 | 56 | 2759 | 5.81 | 5.85 | 3.72 |\n",
       "| 0.70 | Good      | E | VS2 | 57.5 | 58 | 2759 | 5.85 | 5.90 | 3.38 |\n",
       "\n"
      ],
      "text/plain": [
       "  carat cut       color clarity depth table price x    y    z   \n",
       "1 0.70  Ideal     E     SI1     62.5  57    2757  5.70 5.72 3.57\n",
       "2 0.86  Fair      E     SI2     55.1  69    2757  6.45 6.33 3.52\n",
       "3 0.70  Ideal     G     VS2     61.6  56    2757  5.70 5.67 3.50\n",
       "4 0.71  Very Good E     VS2     62.4  57    2759  5.68 5.73 3.56\n",
       "5 0.78  Very Good G     SI2     63.8  56    2759  5.81 5.85 3.72\n",
       "6 0.70  Good      E     VS2     57.5  58    2759  5.85 5.90 3.38"
      ]
     },
     "metadata": {},
     "output_type": "display_data"
    },
    {
     "data": {
      "text/html": [
       "<table class=\"dataframe\">\n",
       "<caption>A tibble: 6 × 10</caption>\n",
       "<thead>\n",
       "\t<tr><th scope=col>carat</th><th scope=col>cut</th><th scope=col>color</th><th scope=col>clarity</th><th scope=col>depth</th><th scope=col>table</th><th scope=col>price</th><th scope=col>x</th><th scope=col>y</th><th scope=col>z</th></tr>\n",
       "\t<tr><th scope=col>&lt;dbl&gt;</th><th scope=col>&lt;ord&gt;</th><th scope=col>&lt;ord&gt;</th><th scope=col>&lt;ord&gt;</th><th scope=col>&lt;dbl&gt;</th><th scope=col>&lt;dbl&gt;</th><th scope=col>&lt;int&gt;</th><th scope=col>&lt;dbl&gt;</th><th scope=col>&lt;dbl&gt;</th><th scope=col>&lt;dbl&gt;</th></tr>\n",
       "</thead>\n",
       "<tbody>\n",
       "\t<tr><td>0.70</td><td>Ideal    </td><td>E</td><td>SI1</td><td>62.5</td><td>57</td><td>2757</td><td>5.70</td><td>5.72</td><td>3.57</td></tr>\n",
       "\t<tr><td>0.86</td><td>Fair     </td><td>E</td><td>SI2</td><td>55.1</td><td>69</td><td>2757</td><td>6.45</td><td>6.33</td><td>3.52</td></tr>\n",
       "\t<tr><td>0.70</td><td>Ideal    </td><td>G</td><td>VS2</td><td>61.6</td><td>56</td><td>2757</td><td>5.70</td><td>5.67</td><td>3.50</td></tr>\n",
       "\t<tr><td>0.71</td><td>Very Good</td><td>E</td><td>VS2</td><td>62.4</td><td>57</td><td>2759</td><td>5.68</td><td>5.73</td><td>3.56</td></tr>\n",
       "\t<tr><td>0.78</td><td>Very Good</td><td>G</td><td>SI2</td><td>63.8</td><td>56</td><td>2759</td><td>5.81</td><td>5.85</td><td>3.72</td></tr>\n",
       "\t<tr><td>0.70</td><td>Good     </td><td>E</td><td>VS2</td><td>57.5</td><td>58</td><td>2759</td><td>5.85</td><td>5.90</td><td>3.38</td></tr>\n",
       "</tbody>\n",
       "</table>\n"
      ],
      "text/latex": [
       "A tibble: 6 × 10\n",
       "\\begin{tabular}{llllllllll}\n",
       " carat & cut & color & clarity & depth & table & price & x & y & z\\\\\n",
       " <dbl> & <ord> & <ord> & <ord> & <dbl> & <dbl> & <int> & <dbl> & <dbl> & <dbl>\\\\\n",
       "\\hline\n",
       "\t 0.70 & Ideal     & E & SI1 & 62.5 & 57 & 2757 & 5.70 & 5.72 & 3.57\\\\\n",
       "\t 0.86 & Fair      & E & SI2 & 55.1 & 69 & 2757 & 6.45 & 6.33 & 3.52\\\\\n",
       "\t 0.70 & Ideal     & G & VS2 & 61.6 & 56 & 2757 & 5.70 & 5.67 & 3.50\\\\\n",
       "\t 0.71 & Very Good & E & VS2 & 62.4 & 57 & 2759 & 5.68 & 5.73 & 3.56\\\\\n",
       "\t 0.78 & Very Good & G & SI2 & 63.8 & 56 & 2759 & 5.81 & 5.85 & 3.72\\\\\n",
       "\t 0.70 & Good      & E & VS2 & 57.5 & 58 & 2759 & 5.85 & 5.90 & 3.38\\\\\n",
       "\\end{tabular}\n"
      ],
      "text/markdown": [
       "\n",
       "A tibble: 6 × 10\n",
       "\n",
       "| carat &lt;dbl&gt; | cut &lt;ord&gt; | color &lt;ord&gt; | clarity &lt;ord&gt; | depth &lt;dbl&gt; | table &lt;dbl&gt; | price &lt;int&gt; | x &lt;dbl&gt; | y &lt;dbl&gt; | z &lt;dbl&gt; |\n",
       "|---|---|---|---|---|---|---|---|---|---|\n",
       "| 0.70 | Ideal     | E | SI1 | 62.5 | 57 | 2757 | 5.70 | 5.72 | 3.57 |\n",
       "| 0.86 | Fair      | E | SI2 | 55.1 | 69 | 2757 | 6.45 | 6.33 | 3.52 |\n",
       "| 0.70 | Ideal     | G | VS2 | 61.6 | 56 | 2757 | 5.70 | 5.67 | 3.50 |\n",
       "| 0.71 | Very Good | E | VS2 | 62.4 | 57 | 2759 | 5.68 | 5.73 | 3.56 |\n",
       "| 0.78 | Very Good | G | SI2 | 63.8 | 56 | 2759 | 5.81 | 5.85 | 3.72 |\n",
       "| 0.70 | Good      | E | VS2 | 57.5 | 58 | 2759 | 5.85 | 5.90 | 3.38 |\n",
       "\n"
      ],
      "text/plain": [
       "  carat cut       color clarity depth table price x    y    z   \n",
       "1 0.70  Ideal     E     SI1     62.5  57    2757  5.70 5.72 3.57\n",
       "2 0.86  Fair      E     SI2     55.1  69    2757  6.45 6.33 3.52\n",
       "3 0.70  Ideal     G     VS2     61.6  56    2757  5.70 5.67 3.50\n",
       "4 0.71  Very Good E     VS2     62.4  57    2759  5.68 5.73 3.56\n",
       "5 0.78  Very Good G     SI2     63.8  56    2759  5.81 5.85 3.72\n",
       "6 0.70  Good      E     VS2     57.5  58    2759  5.85 5.90 3.38"
      ]
     },
     "metadata": {},
     "output_type": "display_data"
    }
   ],
   "source": [
    "# price가 1000 이상인 데이터 조회\n",
    "head(diamonds[diamonds$price >= 1000, ])\n",
    "diamonds %>% filter(price >= 1000) %>% head()\n",
    "head(filter(diamonds, price >= 1000))"
   ]
  },
  {
   "cell_type": "code",
   "execution_count": null,
   "id": "ee4aca02-3eb8-445a-9cd6-5cb1645fc404",
   "metadata": {},
   "outputs": [],
   "source": []
  },
  {
   "cell_type": "code",
   "execution_count": 183,
   "id": "22f9cec1-b968-4837-aeea-6d03e6af20b2",
   "metadata": {},
   "outputs": [
    {
     "data": {
      "text/html": [
       "<table class=\"dataframe\">\n",
       "<caption>A tibble: 6 × 10</caption>\n",
       "<thead>\n",
       "\t<tr><th scope=col>carat</th><th scope=col>cut</th><th scope=col>color</th><th scope=col>clarity</th><th scope=col>depth</th><th scope=col>table</th><th scope=col>price</th><th scope=col>x</th><th scope=col>y</th><th scope=col>z</th></tr>\n",
       "\t<tr><th scope=col>&lt;dbl&gt;</th><th scope=col>&lt;ord&gt;</th><th scope=col>&lt;ord&gt;</th><th scope=col>&lt;ord&gt;</th><th scope=col>&lt;dbl&gt;</th><th scope=col>&lt;dbl&gt;</th><th scope=col>&lt;int&gt;</th><th scope=col>&lt;dbl&gt;</th><th scope=col>&lt;dbl&gt;</th><th scope=col>&lt;dbl&gt;</th></tr>\n",
       "</thead>\n",
       "<tbody>\n",
       "\t<tr><td>2.00</td><td>Premium</td><td>J</td><td>I1</td><td>61.5</td><td>59</td><td>5051</td><td>8.11</td><td>8.06</td><td>4.97</td></tr>\n",
       "\t<tr><td>2.06</td><td>Premium</td><td>J</td><td>I1</td><td>61.2</td><td>58</td><td>5203</td><td>8.10</td><td>8.07</td><td>4.95</td></tr>\n",
       "\t<tr><td>2.14</td><td>Fair   </td><td>J</td><td>I1</td><td>69.4</td><td>57</td><td>5405</td><td>7.74</td><td>7.70</td><td>5.36</td></tr>\n",
       "\t<tr><td>2.15</td><td>Fair   </td><td>J</td><td>I1</td><td>65.5</td><td>57</td><td>5430</td><td>8.01</td><td>7.95</td><td>5.23</td></tr>\n",
       "\t<tr><td>2.22</td><td>Fair   </td><td>J</td><td>I1</td><td>66.7</td><td>56</td><td>5607</td><td>8.04</td><td>8.02</td><td>5.36</td></tr>\n",
       "\t<tr><td>2.00</td><td>Fair   </td><td>I</td><td>I1</td><td>66.0</td><td>60</td><td>5667</td><td>7.78</td><td>7.74</td><td>5.10</td></tr>\n",
       "</tbody>\n",
       "</table>\n"
      ],
      "text/latex": [
       "A tibble: 6 × 10\n",
       "\\begin{tabular}{llllllllll}\n",
       " carat & cut & color & clarity & depth & table & price & x & y & z\\\\\n",
       " <dbl> & <ord> & <ord> & <ord> & <dbl> & <dbl> & <int> & <dbl> & <dbl> & <dbl>\\\\\n",
       "\\hline\n",
       "\t 2.00 & Premium & J & I1 & 61.5 & 59 & 5051 & 8.11 & 8.06 & 4.97\\\\\n",
       "\t 2.06 & Premium & J & I1 & 61.2 & 58 & 5203 & 8.10 & 8.07 & 4.95\\\\\n",
       "\t 2.14 & Fair    & J & I1 & 69.4 & 57 & 5405 & 7.74 & 7.70 & 5.36\\\\\n",
       "\t 2.15 & Fair    & J & I1 & 65.5 & 57 & 5430 & 8.01 & 7.95 & 5.23\\\\\n",
       "\t 2.22 & Fair    & J & I1 & 66.7 & 56 & 5607 & 8.04 & 8.02 & 5.36\\\\\n",
       "\t 2.00 & Fair    & I & I1 & 66.0 & 60 & 5667 & 7.78 & 7.74 & 5.10\\\\\n",
       "\\end{tabular}\n"
      ],
      "text/markdown": [
       "\n",
       "A tibble: 6 × 10\n",
       "\n",
       "| carat &lt;dbl&gt; | cut &lt;ord&gt; | color &lt;ord&gt; | clarity &lt;ord&gt; | depth &lt;dbl&gt; | table &lt;dbl&gt; | price &lt;int&gt; | x &lt;dbl&gt; | y &lt;dbl&gt; | z &lt;dbl&gt; |\n",
       "|---|---|---|---|---|---|---|---|---|---|\n",
       "| 2.00 | Premium | J | I1 | 61.5 | 59 | 5051 | 8.11 | 8.06 | 4.97 |\n",
       "| 2.06 | Premium | J | I1 | 61.2 | 58 | 5203 | 8.10 | 8.07 | 4.95 |\n",
       "| 2.14 | Fair    | J | I1 | 69.4 | 57 | 5405 | 7.74 | 7.70 | 5.36 |\n",
       "| 2.15 | Fair    | J | I1 | 65.5 | 57 | 5430 | 8.01 | 7.95 | 5.23 |\n",
       "| 2.22 | Fair    | J | I1 | 66.7 | 56 | 5607 | 8.04 | 8.02 | 5.36 |\n",
       "| 2.00 | Fair    | I | I1 | 66.0 | 60 | 5667 | 7.78 | 7.74 | 5.10 |\n",
       "\n"
      ],
      "text/plain": [
       "  carat cut     color clarity depth table price x    y    z   \n",
       "1 2.00  Premium J     I1      61.5  59    5051  8.11 8.06 4.97\n",
       "2 2.06  Premium J     I1      61.2  58    5203  8.10 8.07 4.95\n",
       "3 2.14  Fair    J     I1      69.4  57    5405  7.74 7.70 5.36\n",
       "4 2.15  Fair    J     I1      65.5  57    5430  8.01 7.95 5.23\n",
       "5 2.22  Fair    J     I1      66.7  56    5607  8.04 8.02 5.36\n",
       "6 2.00  Fair    I     I1      66.0  60    5667  7.78 7.74 5.10"
      ]
     },
     "metadata": {},
     "output_type": "display_data"
    },
    {
     "data": {
      "text/html": [
       "<table class=\"dataframe\">\n",
       "<caption>A tibble: 6 × 10</caption>\n",
       "<thead>\n",
       "\t<tr><th scope=col>carat</th><th scope=col>cut</th><th scope=col>color</th><th scope=col>clarity</th><th scope=col>depth</th><th scope=col>table</th><th scope=col>price</th><th scope=col>x</th><th scope=col>y</th><th scope=col>z</th></tr>\n",
       "\t<tr><th scope=col>&lt;dbl&gt;</th><th scope=col>&lt;ord&gt;</th><th scope=col>&lt;ord&gt;</th><th scope=col>&lt;ord&gt;</th><th scope=col>&lt;dbl&gt;</th><th scope=col>&lt;dbl&gt;</th><th scope=col>&lt;int&gt;</th><th scope=col>&lt;dbl&gt;</th><th scope=col>&lt;dbl&gt;</th><th scope=col>&lt;dbl&gt;</th></tr>\n",
       "</thead>\n",
       "<tbody>\n",
       "\t<tr><td>2.00</td><td>Premium</td><td>J</td><td>I1</td><td>61.5</td><td>59</td><td>5051</td><td>8.11</td><td>8.06</td><td>4.97</td></tr>\n",
       "\t<tr><td>2.06</td><td>Premium</td><td>J</td><td>I1</td><td>61.2</td><td>58</td><td>5203</td><td>8.10</td><td>8.07</td><td>4.95</td></tr>\n",
       "\t<tr><td>2.14</td><td>Fair   </td><td>J</td><td>I1</td><td>69.4</td><td>57</td><td>5405</td><td>7.74</td><td>7.70</td><td>5.36</td></tr>\n",
       "\t<tr><td>2.15</td><td>Fair   </td><td>J</td><td>I1</td><td>65.5</td><td>57</td><td>5430</td><td>8.01</td><td>7.95</td><td>5.23</td></tr>\n",
       "\t<tr><td>2.22</td><td>Fair   </td><td>J</td><td>I1</td><td>66.7</td><td>56</td><td>5607</td><td>8.04</td><td>8.02</td><td>5.36</td></tr>\n",
       "\t<tr><td>2.00</td><td>Fair   </td><td>I</td><td>I1</td><td>66.0</td><td>60</td><td>5667</td><td>7.78</td><td>7.74</td><td>5.10</td></tr>\n",
       "</tbody>\n",
       "</table>\n"
      ],
      "text/latex": [
       "A tibble: 6 × 10\n",
       "\\begin{tabular}{llllllllll}\n",
       " carat & cut & color & clarity & depth & table & price & x & y & z\\\\\n",
       " <dbl> & <ord> & <ord> & <ord> & <dbl> & <dbl> & <int> & <dbl> & <dbl> & <dbl>\\\\\n",
       "\\hline\n",
       "\t 2.00 & Premium & J & I1 & 61.5 & 59 & 5051 & 8.11 & 8.06 & 4.97\\\\\n",
       "\t 2.06 & Premium & J & I1 & 61.2 & 58 & 5203 & 8.10 & 8.07 & 4.95\\\\\n",
       "\t 2.14 & Fair    & J & I1 & 69.4 & 57 & 5405 & 7.74 & 7.70 & 5.36\\\\\n",
       "\t 2.15 & Fair    & J & I1 & 65.5 & 57 & 5430 & 8.01 & 7.95 & 5.23\\\\\n",
       "\t 2.22 & Fair    & J & I1 & 66.7 & 56 & 5607 & 8.04 & 8.02 & 5.36\\\\\n",
       "\t 2.00 & Fair    & I & I1 & 66.0 & 60 & 5667 & 7.78 & 7.74 & 5.10\\\\\n",
       "\\end{tabular}\n"
      ],
      "text/markdown": [
       "\n",
       "A tibble: 6 × 10\n",
       "\n",
       "| carat &lt;dbl&gt; | cut &lt;ord&gt; | color &lt;ord&gt; | clarity &lt;ord&gt; | depth &lt;dbl&gt; | table &lt;dbl&gt; | price &lt;int&gt; | x &lt;dbl&gt; | y &lt;dbl&gt; | z &lt;dbl&gt; |\n",
       "|---|---|---|---|---|---|---|---|---|---|\n",
       "| 2.00 | Premium | J | I1 | 61.5 | 59 | 5051 | 8.11 | 8.06 | 4.97 |\n",
       "| 2.06 | Premium | J | I1 | 61.2 | 58 | 5203 | 8.10 | 8.07 | 4.95 |\n",
       "| 2.14 | Fair    | J | I1 | 69.4 | 57 | 5405 | 7.74 | 7.70 | 5.36 |\n",
       "| 2.15 | Fair    | J | I1 | 65.5 | 57 | 5430 | 8.01 | 7.95 | 5.23 |\n",
       "| 2.22 | Fair    | J | I1 | 66.7 | 56 | 5607 | 8.04 | 8.02 | 5.36 |\n",
       "| 2.00 | Fair    | I | I1 | 66.0 | 60 | 5667 | 7.78 | 7.74 | 5.10 |\n",
       "\n"
      ],
      "text/plain": [
       "  carat cut     color clarity depth table price x    y    z   \n",
       "1 2.00  Premium J     I1      61.5  59    5051  8.11 8.06 4.97\n",
       "2 2.06  Premium J     I1      61.2  58    5203  8.10 8.07 4.95\n",
       "3 2.14  Fair    J     I1      69.4  57    5405  7.74 7.70 5.36\n",
       "4 2.15  Fair    J     I1      65.5  57    5430  8.01 7.95 5.23\n",
       "5 2.22  Fair    J     I1      66.7  56    5607  8.04 8.02 5.36\n",
       "6 2.00  Fair    I     I1      66.0  60    5667  7.78 7.74 5.10"
      ]
     },
     "metadata": {},
     "output_type": "display_data"
    },
    {
     "data": {
      "text/html": [
       "<table class=\"dataframe\">\n",
       "<caption>A tibble: 6 × 10</caption>\n",
       "<thead>\n",
       "\t<tr><th scope=col>carat</th><th scope=col>cut</th><th scope=col>color</th><th scope=col>clarity</th><th scope=col>depth</th><th scope=col>table</th><th scope=col>price</th><th scope=col>x</th><th scope=col>y</th><th scope=col>z</th></tr>\n",
       "\t<tr><th scope=col>&lt;dbl&gt;</th><th scope=col>&lt;ord&gt;</th><th scope=col>&lt;ord&gt;</th><th scope=col>&lt;ord&gt;</th><th scope=col>&lt;dbl&gt;</th><th scope=col>&lt;dbl&gt;</th><th scope=col>&lt;int&gt;</th><th scope=col>&lt;dbl&gt;</th><th scope=col>&lt;dbl&gt;</th><th scope=col>&lt;dbl&gt;</th></tr>\n",
       "</thead>\n",
       "<tbody>\n",
       "\t<tr><td>2.00</td><td>Premium</td><td>J</td><td>I1</td><td>61.5</td><td>59</td><td>5051</td><td>8.11</td><td>8.06</td><td>4.97</td></tr>\n",
       "\t<tr><td>2.06</td><td>Premium</td><td>J</td><td>I1</td><td>61.2</td><td>58</td><td>5203</td><td>8.10</td><td>8.07</td><td>4.95</td></tr>\n",
       "\t<tr><td>2.14</td><td>Fair   </td><td>J</td><td>I1</td><td>69.4</td><td>57</td><td>5405</td><td>7.74</td><td>7.70</td><td>5.36</td></tr>\n",
       "\t<tr><td>2.15</td><td>Fair   </td><td>J</td><td>I1</td><td>65.5</td><td>57</td><td>5430</td><td>8.01</td><td>7.95</td><td>5.23</td></tr>\n",
       "\t<tr><td>2.22</td><td>Fair   </td><td>J</td><td>I1</td><td>66.7</td><td>56</td><td>5607</td><td>8.04</td><td>8.02</td><td>5.36</td></tr>\n",
       "\t<tr><td>2.00</td><td>Fair   </td><td>I</td><td>I1</td><td>66.0</td><td>60</td><td>5667</td><td>7.78</td><td>7.74</td><td>5.10</td></tr>\n",
       "</tbody>\n",
       "</table>\n"
      ],
      "text/latex": [
       "A tibble: 6 × 10\n",
       "\\begin{tabular}{llllllllll}\n",
       " carat & cut & color & clarity & depth & table & price & x & y & z\\\\\n",
       " <dbl> & <ord> & <ord> & <ord> & <dbl> & <dbl> & <int> & <dbl> & <dbl> & <dbl>\\\\\n",
       "\\hline\n",
       "\t 2.00 & Premium & J & I1 & 61.5 & 59 & 5051 & 8.11 & 8.06 & 4.97\\\\\n",
       "\t 2.06 & Premium & J & I1 & 61.2 & 58 & 5203 & 8.10 & 8.07 & 4.95\\\\\n",
       "\t 2.14 & Fair    & J & I1 & 69.4 & 57 & 5405 & 7.74 & 7.70 & 5.36\\\\\n",
       "\t 2.15 & Fair    & J & I1 & 65.5 & 57 & 5430 & 8.01 & 7.95 & 5.23\\\\\n",
       "\t 2.22 & Fair    & J & I1 & 66.7 & 56 & 5607 & 8.04 & 8.02 & 5.36\\\\\n",
       "\t 2.00 & Fair    & I & I1 & 66.0 & 60 & 5667 & 7.78 & 7.74 & 5.10\\\\\n",
       "\\end{tabular}\n"
      ],
      "text/markdown": [
       "\n",
       "A tibble: 6 × 10\n",
       "\n",
       "| carat &lt;dbl&gt; | cut &lt;ord&gt; | color &lt;ord&gt; | clarity &lt;ord&gt; | depth &lt;dbl&gt; | table &lt;dbl&gt; | price &lt;int&gt; | x &lt;dbl&gt; | y &lt;dbl&gt; | z &lt;dbl&gt; |\n",
       "|---|---|---|---|---|---|---|---|---|---|\n",
       "| 2.00 | Premium | J | I1 | 61.5 | 59 | 5051 | 8.11 | 8.06 | 4.97 |\n",
       "| 2.06 | Premium | J | I1 | 61.2 | 58 | 5203 | 8.10 | 8.07 | 4.95 |\n",
       "| 2.14 | Fair    | J | I1 | 69.4 | 57 | 5405 | 7.74 | 7.70 | 5.36 |\n",
       "| 2.15 | Fair    | J | I1 | 65.5 | 57 | 5430 | 8.01 | 7.95 | 5.23 |\n",
       "| 2.22 | Fair    | J | I1 | 66.7 | 56 | 5607 | 8.04 | 8.02 | 5.36 |\n",
       "| 2.00 | Fair    | I | I1 | 66.0 | 60 | 5667 | 7.78 | 7.74 | 5.10 |\n",
       "\n"
      ],
      "text/plain": [
       "  carat cut     color clarity depth table price x    y    z   \n",
       "1 2.00  Premium J     I1      61.5  59    5051  8.11 8.06 4.97\n",
       "2 2.06  Premium J     I1      61.2  58    5203  8.10 8.07 4.95\n",
       "3 2.14  Fair    J     I1      69.4  57    5405  7.74 7.70 5.36\n",
       "4 2.15  Fair    J     I1      65.5  57    5430  8.01 7.95 5.23\n",
       "5 2.22  Fair    J     I1      66.7  56    5607  8.04 8.02 5.36\n",
       "6 2.00  Fair    I     I1      66.0  60    5667  7.78 7.74 5.10"
      ]
     },
     "metadata": {},
     "output_type": "display_data"
    },
    {
     "data": {
      "text/html": [
       "<table class=\"dataframe\">\n",
       "<caption>A tibble: 6 × 10</caption>\n",
       "<thead>\n",
       "\t<tr><th scope=col>carat</th><th scope=col>cut</th><th scope=col>color</th><th scope=col>clarity</th><th scope=col>depth</th><th scope=col>table</th><th scope=col>price</th><th scope=col>x</th><th scope=col>y</th><th scope=col>z</th></tr>\n",
       "\t<tr><th scope=col>&lt;dbl&gt;</th><th scope=col>&lt;ord&gt;</th><th scope=col>&lt;ord&gt;</th><th scope=col>&lt;ord&gt;</th><th scope=col>&lt;dbl&gt;</th><th scope=col>&lt;dbl&gt;</th><th scope=col>&lt;int&gt;</th><th scope=col>&lt;dbl&gt;</th><th scope=col>&lt;dbl&gt;</th><th scope=col>&lt;dbl&gt;</th></tr>\n",
       "</thead>\n",
       "<tbody>\n",
       "\t<tr><td>2.00</td><td>Premium</td><td>J</td><td>I1</td><td>61.5</td><td>59</td><td>5051</td><td>8.11</td><td>8.06</td><td>4.97</td></tr>\n",
       "\t<tr><td>2.06</td><td>Premium</td><td>J</td><td>I1</td><td>61.2</td><td>58</td><td>5203</td><td>8.10</td><td>8.07</td><td>4.95</td></tr>\n",
       "\t<tr><td>2.14</td><td>Fair   </td><td>J</td><td>I1</td><td>69.4</td><td>57</td><td>5405</td><td>7.74</td><td>7.70</td><td>5.36</td></tr>\n",
       "\t<tr><td>2.15</td><td>Fair   </td><td>J</td><td>I1</td><td>65.5</td><td>57</td><td>5430</td><td>8.01</td><td>7.95</td><td>5.23</td></tr>\n",
       "\t<tr><td>2.22</td><td>Fair   </td><td>J</td><td>I1</td><td>66.7</td><td>56</td><td>5607</td><td>8.04</td><td>8.02</td><td>5.36</td></tr>\n",
       "\t<tr><td>2.00</td><td>Fair   </td><td>I</td><td>I1</td><td>66.0</td><td>60</td><td>5667</td><td>7.78</td><td>7.74</td><td>5.10</td></tr>\n",
       "</tbody>\n",
       "</table>\n"
      ],
      "text/latex": [
       "A tibble: 6 × 10\n",
       "\\begin{tabular}{llllllllll}\n",
       " carat & cut & color & clarity & depth & table & price & x & y & z\\\\\n",
       " <dbl> & <ord> & <ord> & <ord> & <dbl> & <dbl> & <int> & <dbl> & <dbl> & <dbl>\\\\\n",
       "\\hline\n",
       "\t 2.00 & Premium & J & I1 & 61.5 & 59 & 5051 & 8.11 & 8.06 & 4.97\\\\\n",
       "\t 2.06 & Premium & J & I1 & 61.2 & 58 & 5203 & 8.10 & 8.07 & 4.95\\\\\n",
       "\t 2.14 & Fair    & J & I1 & 69.4 & 57 & 5405 & 7.74 & 7.70 & 5.36\\\\\n",
       "\t 2.15 & Fair    & J & I1 & 65.5 & 57 & 5430 & 8.01 & 7.95 & 5.23\\\\\n",
       "\t 2.22 & Fair    & J & I1 & 66.7 & 56 & 5607 & 8.04 & 8.02 & 5.36\\\\\n",
       "\t 2.00 & Fair    & I & I1 & 66.0 & 60 & 5667 & 7.78 & 7.74 & 5.10\\\\\n",
       "\\end{tabular}\n"
      ],
      "text/markdown": [
       "\n",
       "A tibble: 6 × 10\n",
       "\n",
       "| carat &lt;dbl&gt; | cut &lt;ord&gt; | color &lt;ord&gt; | clarity &lt;ord&gt; | depth &lt;dbl&gt; | table &lt;dbl&gt; | price &lt;int&gt; | x &lt;dbl&gt; | y &lt;dbl&gt; | z &lt;dbl&gt; |\n",
       "|---|---|---|---|---|---|---|---|---|---|\n",
       "| 2.00 | Premium | J | I1 | 61.5 | 59 | 5051 | 8.11 | 8.06 | 4.97 |\n",
       "| 2.06 | Premium | J | I1 | 61.2 | 58 | 5203 | 8.10 | 8.07 | 4.95 |\n",
       "| 2.14 | Fair    | J | I1 | 69.4 | 57 | 5405 | 7.74 | 7.70 | 5.36 |\n",
       "| 2.15 | Fair    | J | I1 | 65.5 | 57 | 5430 | 8.01 | 7.95 | 5.23 |\n",
       "| 2.22 | Fair    | J | I1 | 66.7 | 56 | 5607 | 8.04 | 8.02 | 5.36 |\n",
       "| 2.00 | Fair    | I | I1 | 66.0 | 60 | 5667 | 7.78 | 7.74 | 5.10 |\n",
       "\n"
      ],
      "text/plain": [
       "  carat cut     color clarity depth table price x    y    z   \n",
       "1 2.00  Premium J     I1      61.5  59    5051  8.11 8.06 4.97\n",
       "2 2.06  Premium J     I1      61.2  58    5203  8.10 8.07 4.95\n",
       "3 2.14  Fair    J     I1      69.4  57    5405  7.74 7.70 5.36\n",
       "4 2.15  Fair    J     I1      65.5  57    5430  8.01 7.95 5.23\n",
       "5 2.22  Fair    J     I1      66.7  56    5607  8.04 8.02 5.36\n",
       "6 2.00  Fair    I     I1      66.0  60    5667  7.78 7.74 5.10"
      ]
     },
     "metadata": {},
     "output_type": "display_data"
    }
   ],
   "source": [
    "# carat이 2이상, price 가 14000 이하인 데이터 조회\n",
    "head(diamonds[diamonds$carat >= 2 & diamonds$price <= 14000, ])\n",
    "diamonds %>% filter(carat >= 2 & price <= 14000) %>% head()\n",
    "diamonds %>% filter(carat >= 2, price <= 14000) %>% head()\n",
    "head(filter(diamonds, carat >= 2, price <= 14000))"
   ]
  },
  {
   "cell_type": "code",
   "execution_count": 184,
   "id": "9d900435-7f53-434f-96e3-bef4535405d9",
   "metadata": {},
   "outputs": [
    {
     "data": {
      "text/html": [
       "<table class=\"dataframe\">\n",
       "<caption>A tibble: 6 × 10</caption>\n",
       "<thead>\n",
       "\t<tr><th scope=col>carat</th><th scope=col>cut</th><th scope=col>color</th><th scope=col>clarity</th><th scope=col>depth</th><th scope=col>table</th><th scope=col>price</th><th scope=col>x</th><th scope=col>y</th><th scope=col>z</th></tr>\n",
       "\t<tr><th scope=col>&lt;dbl&gt;</th><th scope=col>&lt;ord&gt;</th><th scope=col>&lt;ord&gt;</th><th scope=col>&lt;ord&gt;</th><th scope=col>&lt;dbl&gt;</th><th scope=col>&lt;dbl&gt;</th><th scope=col>&lt;int&gt;</th><th scope=col>&lt;dbl&gt;</th><th scope=col>&lt;dbl&gt;</th><th scope=col>&lt;dbl&gt;</th></tr>\n",
       "</thead>\n",
       "<tbody>\n",
       "\t<tr><td>1.17</td><td>Very Good</td><td>J</td><td>I1 </td><td>60.2</td><td>61</td><td>2774</td><td>6.83</td><td>6.90</td><td>4.13</td></tr>\n",
       "\t<tr><td>1.01</td><td>Premium  </td><td>F</td><td>I1 </td><td>61.8</td><td>60</td><td>2781</td><td>6.39</td><td>6.36</td><td>3.94</td></tr>\n",
       "\t<tr><td>1.01</td><td>Fair     </td><td>E</td><td>I1 </td><td>64.5</td><td>58</td><td>2788</td><td>6.29</td><td>6.21</td><td>4.03</td></tr>\n",
       "\t<tr><td>1.01</td><td>Premium  </td><td>H</td><td>SI2</td><td>62.7</td><td>59</td><td>2788</td><td>6.31</td><td>6.22</td><td>3.93</td></tr>\n",
       "\t<tr><td>1.05</td><td>Very Good</td><td>J</td><td>SI2</td><td>63.2</td><td>56</td><td>2789</td><td>6.49</td><td>6.45</td><td>4.09</td></tr>\n",
       "\t<tr><td>1.05</td><td>Fair     </td><td>J</td><td>SI2</td><td>65.8</td><td>59</td><td>2789</td><td>6.41</td><td>6.27</td><td>4.18</td></tr>\n",
       "</tbody>\n",
       "</table>\n"
      ],
      "text/latex": [
       "A tibble: 6 × 10\n",
       "\\begin{tabular}{llllllllll}\n",
       " carat & cut & color & clarity & depth & table & price & x & y & z\\\\\n",
       " <dbl> & <ord> & <ord> & <ord> & <dbl> & <dbl> & <int> & <dbl> & <dbl> & <dbl>\\\\\n",
       "\\hline\n",
       "\t 1.17 & Very Good & J & I1  & 60.2 & 61 & 2774 & 6.83 & 6.90 & 4.13\\\\\n",
       "\t 1.01 & Premium   & F & I1  & 61.8 & 60 & 2781 & 6.39 & 6.36 & 3.94\\\\\n",
       "\t 1.01 & Fair      & E & I1  & 64.5 & 58 & 2788 & 6.29 & 6.21 & 4.03\\\\\n",
       "\t 1.01 & Premium   & H & SI2 & 62.7 & 59 & 2788 & 6.31 & 6.22 & 3.93\\\\\n",
       "\t 1.05 & Very Good & J & SI2 & 63.2 & 56 & 2789 & 6.49 & 6.45 & 4.09\\\\\n",
       "\t 1.05 & Fair      & J & SI2 & 65.8 & 59 & 2789 & 6.41 & 6.27 & 4.18\\\\\n",
       "\\end{tabular}\n"
      ],
      "text/markdown": [
       "\n",
       "A tibble: 6 × 10\n",
       "\n",
       "| carat &lt;dbl&gt; | cut &lt;ord&gt; | color &lt;ord&gt; | clarity &lt;ord&gt; | depth &lt;dbl&gt; | table &lt;dbl&gt; | price &lt;int&gt; | x &lt;dbl&gt; | y &lt;dbl&gt; | z &lt;dbl&gt; |\n",
       "|---|---|---|---|---|---|---|---|---|---|\n",
       "| 1.17 | Very Good | J | I1  | 60.2 | 61 | 2774 | 6.83 | 6.90 | 4.13 |\n",
       "| 1.01 | Premium   | F | I1  | 61.8 | 60 | 2781 | 6.39 | 6.36 | 3.94 |\n",
       "| 1.01 | Fair      | E | I1  | 64.5 | 58 | 2788 | 6.29 | 6.21 | 4.03 |\n",
       "| 1.01 | Premium   | H | SI2 | 62.7 | 59 | 2788 | 6.31 | 6.22 | 3.93 |\n",
       "| 1.05 | Very Good | J | SI2 | 63.2 | 56 | 2789 | 6.49 | 6.45 | 4.09 |\n",
       "| 1.05 | Fair      | J | SI2 | 65.8 | 59 | 2789 | 6.41 | 6.27 | 4.18 |\n",
       "\n"
      ],
      "text/plain": [
       "  carat cut       color clarity depth table price x    y    z   \n",
       "1 1.17  Very Good J     I1      60.2  61    2774  6.83 6.90 4.13\n",
       "2 1.01  Premium   F     I1      61.8  60    2781  6.39 6.36 3.94\n",
       "3 1.01  Fair      E     I1      64.5  58    2788  6.29 6.21 4.03\n",
       "4 1.01  Premium   H     SI2     62.7  59    2788  6.31 6.22 3.93\n",
       "5 1.05  Very Good J     SI2     63.2  56    2789  6.49 6.45 4.09\n",
       "6 1.05  Fair      J     SI2     65.8  59    2789  6.41 6.27 4.18"
      ]
     },
     "metadata": {},
     "output_type": "display_data"
    },
    {
     "data": {
      "text/html": [
       "<table class=\"dataframe\">\n",
       "<caption>A tibble: 6 × 10</caption>\n",
       "<thead>\n",
       "\t<tr><th scope=col>carat</th><th scope=col>cut</th><th scope=col>color</th><th scope=col>clarity</th><th scope=col>depth</th><th scope=col>table</th><th scope=col>price</th><th scope=col>x</th><th scope=col>y</th><th scope=col>z</th></tr>\n",
       "\t<tr><th scope=col>&lt;dbl&gt;</th><th scope=col>&lt;ord&gt;</th><th scope=col>&lt;ord&gt;</th><th scope=col>&lt;ord&gt;</th><th scope=col>&lt;dbl&gt;</th><th scope=col>&lt;dbl&gt;</th><th scope=col>&lt;int&gt;</th><th scope=col>&lt;dbl&gt;</th><th scope=col>&lt;dbl&gt;</th><th scope=col>&lt;dbl&gt;</th></tr>\n",
       "</thead>\n",
       "<tbody>\n",
       "\t<tr><td>1.17</td><td>Very Good</td><td>J</td><td>I1 </td><td>60.2</td><td>61</td><td>2774</td><td>6.83</td><td>6.90</td><td>4.13</td></tr>\n",
       "\t<tr><td>1.01</td><td>Premium  </td><td>F</td><td>I1 </td><td>61.8</td><td>60</td><td>2781</td><td>6.39</td><td>6.36</td><td>3.94</td></tr>\n",
       "\t<tr><td>1.01</td><td>Fair     </td><td>E</td><td>I1 </td><td>64.5</td><td>58</td><td>2788</td><td>6.29</td><td>6.21</td><td>4.03</td></tr>\n",
       "\t<tr><td>1.01</td><td>Premium  </td><td>H</td><td>SI2</td><td>62.7</td><td>59</td><td>2788</td><td>6.31</td><td>6.22</td><td>3.93</td></tr>\n",
       "\t<tr><td>1.05</td><td>Very Good</td><td>J</td><td>SI2</td><td>63.2</td><td>56</td><td>2789</td><td>6.49</td><td>6.45</td><td>4.09</td></tr>\n",
       "\t<tr><td>1.05</td><td>Fair     </td><td>J</td><td>SI2</td><td>65.8</td><td>59</td><td>2789</td><td>6.41</td><td>6.27</td><td>4.18</td></tr>\n",
       "</tbody>\n",
       "</table>\n"
      ],
      "text/latex": [
       "A tibble: 6 × 10\n",
       "\\begin{tabular}{llllllllll}\n",
       " carat & cut & color & clarity & depth & table & price & x & y & z\\\\\n",
       " <dbl> & <ord> & <ord> & <ord> & <dbl> & <dbl> & <int> & <dbl> & <dbl> & <dbl>\\\\\n",
       "\\hline\n",
       "\t 1.17 & Very Good & J & I1  & 60.2 & 61 & 2774 & 6.83 & 6.90 & 4.13\\\\\n",
       "\t 1.01 & Premium   & F & I1  & 61.8 & 60 & 2781 & 6.39 & 6.36 & 3.94\\\\\n",
       "\t 1.01 & Fair      & E & I1  & 64.5 & 58 & 2788 & 6.29 & 6.21 & 4.03\\\\\n",
       "\t 1.01 & Premium   & H & SI2 & 62.7 & 59 & 2788 & 6.31 & 6.22 & 3.93\\\\\n",
       "\t 1.05 & Very Good & J & SI2 & 63.2 & 56 & 2789 & 6.49 & 6.45 & 4.09\\\\\n",
       "\t 1.05 & Fair      & J & SI2 & 65.8 & 59 & 2789 & 6.41 & 6.27 & 4.18\\\\\n",
       "\\end{tabular}\n"
      ],
      "text/markdown": [
       "\n",
       "A tibble: 6 × 10\n",
       "\n",
       "| carat &lt;dbl&gt; | cut &lt;ord&gt; | color &lt;ord&gt; | clarity &lt;ord&gt; | depth &lt;dbl&gt; | table &lt;dbl&gt; | price &lt;int&gt; | x &lt;dbl&gt; | y &lt;dbl&gt; | z &lt;dbl&gt; |\n",
       "|---|---|---|---|---|---|---|---|---|---|\n",
       "| 1.17 | Very Good | J | I1  | 60.2 | 61 | 2774 | 6.83 | 6.90 | 4.13 |\n",
       "| 1.01 | Premium   | F | I1  | 61.8 | 60 | 2781 | 6.39 | 6.36 | 3.94 |\n",
       "| 1.01 | Fair      | E | I1  | 64.5 | 58 | 2788 | 6.29 | 6.21 | 4.03 |\n",
       "| 1.01 | Premium   | H | SI2 | 62.7 | 59 | 2788 | 6.31 | 6.22 | 3.93 |\n",
       "| 1.05 | Very Good | J | SI2 | 63.2 | 56 | 2789 | 6.49 | 6.45 | 4.09 |\n",
       "| 1.05 | Fair      | J | SI2 | 65.8 | 59 | 2789 | 6.41 | 6.27 | 4.18 |\n",
       "\n"
      ],
      "text/plain": [
       "  carat cut       color clarity depth table price x    y    z   \n",
       "1 1.17  Very Good J     I1      60.2  61    2774  6.83 6.90 4.13\n",
       "2 1.01  Premium   F     I1      61.8  60    2781  6.39 6.36 3.94\n",
       "3 1.01  Fair      E     I1      64.5  58    2788  6.29 6.21 4.03\n",
       "4 1.01  Premium   H     SI2     62.7  59    2788  6.31 6.22 3.93\n",
       "5 1.05  Very Good J     SI2     63.2  56    2789  6.49 6.45 4.09\n",
       "6 1.05  Fair      J     SI2     65.8  59    2789  6.41 6.27 4.18"
      ]
     },
     "metadata": {},
     "output_type": "display_data"
    },
    {
     "data": {
      "text/html": [
       "<table class=\"dataframe\">\n",
       "<caption>A tibble: 6 × 10</caption>\n",
       "<thead>\n",
       "\t<tr><th scope=col>carat</th><th scope=col>cut</th><th scope=col>color</th><th scope=col>clarity</th><th scope=col>depth</th><th scope=col>table</th><th scope=col>price</th><th scope=col>x</th><th scope=col>y</th><th scope=col>z</th></tr>\n",
       "\t<tr><th scope=col>&lt;dbl&gt;</th><th scope=col>&lt;ord&gt;</th><th scope=col>&lt;ord&gt;</th><th scope=col>&lt;ord&gt;</th><th scope=col>&lt;dbl&gt;</th><th scope=col>&lt;dbl&gt;</th><th scope=col>&lt;int&gt;</th><th scope=col>&lt;dbl&gt;</th><th scope=col>&lt;dbl&gt;</th><th scope=col>&lt;dbl&gt;</th></tr>\n",
       "</thead>\n",
       "<tbody>\n",
       "\t<tr><td>1.17</td><td>Very Good</td><td>J</td><td>I1 </td><td>60.2</td><td>61</td><td>2774</td><td>6.83</td><td>6.90</td><td>4.13</td></tr>\n",
       "\t<tr><td>1.01</td><td>Premium  </td><td>F</td><td>I1 </td><td>61.8</td><td>60</td><td>2781</td><td>6.39</td><td>6.36</td><td>3.94</td></tr>\n",
       "\t<tr><td>1.01</td><td>Fair     </td><td>E</td><td>I1 </td><td>64.5</td><td>58</td><td>2788</td><td>6.29</td><td>6.21</td><td>4.03</td></tr>\n",
       "\t<tr><td>1.01</td><td>Premium  </td><td>H</td><td>SI2</td><td>62.7</td><td>59</td><td>2788</td><td>6.31</td><td>6.22</td><td>3.93</td></tr>\n",
       "\t<tr><td>1.05</td><td>Very Good</td><td>J</td><td>SI2</td><td>63.2</td><td>56</td><td>2789</td><td>6.49</td><td>6.45</td><td>4.09</td></tr>\n",
       "\t<tr><td>1.05</td><td>Fair     </td><td>J</td><td>SI2</td><td>65.8</td><td>59</td><td>2789</td><td>6.41</td><td>6.27</td><td>4.18</td></tr>\n",
       "</tbody>\n",
       "</table>\n"
      ],
      "text/latex": [
       "A tibble: 6 × 10\n",
       "\\begin{tabular}{llllllllll}\n",
       " carat & cut & color & clarity & depth & table & price & x & y & z\\\\\n",
       " <dbl> & <ord> & <ord> & <ord> & <dbl> & <dbl> & <int> & <dbl> & <dbl> & <dbl>\\\\\n",
       "\\hline\n",
       "\t 1.17 & Very Good & J & I1  & 60.2 & 61 & 2774 & 6.83 & 6.90 & 4.13\\\\\n",
       "\t 1.01 & Premium   & F & I1  & 61.8 & 60 & 2781 & 6.39 & 6.36 & 3.94\\\\\n",
       "\t 1.01 & Fair      & E & I1  & 64.5 & 58 & 2788 & 6.29 & 6.21 & 4.03\\\\\n",
       "\t 1.01 & Premium   & H & SI2 & 62.7 & 59 & 2788 & 6.31 & 6.22 & 3.93\\\\\n",
       "\t 1.05 & Very Good & J & SI2 & 63.2 & 56 & 2789 & 6.49 & 6.45 & 4.09\\\\\n",
       "\t 1.05 & Fair      & J & SI2 & 65.8 & 59 & 2789 & 6.41 & 6.27 & 4.18\\\\\n",
       "\\end{tabular}\n"
      ],
      "text/markdown": [
       "\n",
       "A tibble: 6 × 10\n",
       "\n",
       "| carat &lt;dbl&gt; | cut &lt;ord&gt; | color &lt;ord&gt; | clarity &lt;ord&gt; | depth &lt;dbl&gt; | table &lt;dbl&gt; | price &lt;int&gt; | x &lt;dbl&gt; | y &lt;dbl&gt; | z &lt;dbl&gt; |\n",
       "|---|---|---|---|---|---|---|---|---|---|\n",
       "| 1.17 | Very Good | J | I1  | 60.2 | 61 | 2774 | 6.83 | 6.90 | 4.13 |\n",
       "| 1.01 | Premium   | F | I1  | 61.8 | 60 | 2781 | 6.39 | 6.36 | 3.94 |\n",
       "| 1.01 | Fair      | E | I1  | 64.5 | 58 | 2788 | 6.29 | 6.21 | 4.03 |\n",
       "| 1.01 | Premium   | H | SI2 | 62.7 | 59 | 2788 | 6.31 | 6.22 | 3.93 |\n",
       "| 1.05 | Very Good | J | SI2 | 63.2 | 56 | 2789 | 6.49 | 6.45 | 4.09 |\n",
       "| 1.05 | Fair      | J | SI2 | 65.8 | 59 | 2789 | 6.41 | 6.27 | 4.18 |\n",
       "\n"
      ],
      "text/plain": [
       "  carat cut       color clarity depth table price x    y    z   \n",
       "1 1.17  Very Good J     I1      60.2  61    2774  6.83 6.90 4.13\n",
       "2 1.01  Premium   F     I1      61.8  60    2781  6.39 6.36 3.94\n",
       "3 1.01  Fair      E     I1      64.5  58    2788  6.29 6.21 4.03\n",
       "4 1.01  Premium   H     SI2     62.7  59    2788  6.31 6.22 3.93\n",
       "5 1.05  Very Good J     SI2     63.2  56    2789  6.49 6.45 4.09\n",
       "6 1.05  Fair      J     SI2     65.8  59    2789  6.41 6.27 4.18"
      ]
     },
     "metadata": {},
     "output_type": "display_data"
    }
   ],
   "source": [
    "# carat이 1초과, 5 미만인 데이터 조회\n",
    "head(diamonds[diamonds$carat > 1 & diamonds$carat < 5, ])\n",
    "diamonds %>% filter(carat > 1 & carat < 5) %>% head()\n",
    "diamonds %>% filter(carat > 1, carat < 5) %>% head()"
   ]
  },
  {
   "cell_type": "code",
   "execution_count": 185,
   "id": "5d380178-51a8-4ae1-a7bc-6a42b11eca5e",
   "metadata": {},
   "outputs": [
    {
     "data": {
      "text/html": [
       "<table class=\"dataframe\">\n",
       "<caption>A tibble: 6 × 10</caption>\n",
       "<thead>\n",
       "\t<tr><th scope=col>carat</th><th scope=col>cut</th><th scope=col>color</th><th scope=col>clarity</th><th scope=col>depth</th><th scope=col>table</th><th scope=col>price</th><th scope=col>x</th><th scope=col>y</th><th scope=col>z</th></tr>\n",
       "\t<tr><th scope=col>&lt;dbl&gt;</th><th scope=col>&lt;ord&gt;</th><th scope=col>&lt;ord&gt;</th><th scope=col>&lt;ord&gt;</th><th scope=col>&lt;dbl&gt;</th><th scope=col>&lt;dbl&gt;</th><th scope=col>&lt;int&gt;</th><th scope=col>&lt;dbl&gt;</th><th scope=col>&lt;dbl&gt;</th><th scope=col>&lt;dbl&gt;</th></tr>\n",
       "</thead>\n",
       "<tbody>\n",
       "\t<tr><td>0.23</td><td>Ideal    </td><td>E</td><td>SI2 </td><td>61.5</td><td>55</td><td>326</td><td>3.95</td><td>3.98</td><td>2.43</td></tr>\n",
       "\t<tr><td>0.21</td><td>Premium  </td><td>E</td><td>SI1 </td><td>59.8</td><td>61</td><td>326</td><td>3.89</td><td>3.84</td><td>2.31</td></tr>\n",
       "\t<tr><td>0.23</td><td>Good     </td><td>E</td><td>VS1 </td><td>56.9</td><td>65</td><td>327</td><td>4.05</td><td>4.07</td><td>2.31</td></tr>\n",
       "\t<tr><td>0.29</td><td>Premium  </td><td>I</td><td>VS2 </td><td>62.4</td><td>58</td><td>334</td><td>4.20</td><td>4.23</td><td>2.63</td></tr>\n",
       "\t<tr><td>0.31</td><td>Good     </td><td>J</td><td>SI2 </td><td>63.3</td><td>58</td><td>335</td><td>4.34</td><td>4.35</td><td>2.75</td></tr>\n",
       "\t<tr><td>0.24</td><td>Very Good</td><td>J</td><td>VVS2</td><td>62.8</td><td>57</td><td>336</td><td>3.94</td><td>3.96</td><td>2.48</td></tr>\n",
       "</tbody>\n",
       "</table>\n"
      ],
      "text/latex": [
       "A tibble: 6 × 10\n",
       "\\begin{tabular}{llllllllll}\n",
       " carat & cut & color & clarity & depth & table & price & x & y & z\\\\\n",
       " <dbl> & <ord> & <ord> & <ord> & <dbl> & <dbl> & <int> & <dbl> & <dbl> & <dbl>\\\\\n",
       "\\hline\n",
       "\t 0.23 & Ideal     & E & SI2  & 61.5 & 55 & 326 & 3.95 & 3.98 & 2.43\\\\\n",
       "\t 0.21 & Premium   & E & SI1  & 59.8 & 61 & 326 & 3.89 & 3.84 & 2.31\\\\\n",
       "\t 0.23 & Good      & E & VS1  & 56.9 & 65 & 327 & 4.05 & 4.07 & 2.31\\\\\n",
       "\t 0.29 & Premium   & I & VS2  & 62.4 & 58 & 334 & 4.20 & 4.23 & 2.63\\\\\n",
       "\t 0.31 & Good      & J & SI2  & 63.3 & 58 & 335 & 4.34 & 4.35 & 2.75\\\\\n",
       "\t 0.24 & Very Good & J & VVS2 & 62.8 & 57 & 336 & 3.94 & 3.96 & 2.48\\\\\n",
       "\\end{tabular}\n"
      ],
      "text/markdown": [
       "\n",
       "A tibble: 6 × 10\n",
       "\n",
       "| carat &lt;dbl&gt; | cut &lt;ord&gt; | color &lt;ord&gt; | clarity &lt;ord&gt; | depth &lt;dbl&gt; | table &lt;dbl&gt; | price &lt;int&gt; | x &lt;dbl&gt; | y &lt;dbl&gt; | z &lt;dbl&gt; |\n",
       "|---|---|---|---|---|---|---|---|---|---|\n",
       "| 0.23 | Ideal     | E | SI2  | 61.5 | 55 | 326 | 3.95 | 3.98 | 2.43 |\n",
       "| 0.21 | Premium   | E | SI1  | 59.8 | 61 | 326 | 3.89 | 3.84 | 2.31 |\n",
       "| 0.23 | Good      | E | VS1  | 56.9 | 65 | 327 | 4.05 | 4.07 | 2.31 |\n",
       "| 0.29 | Premium   | I | VS2  | 62.4 | 58 | 334 | 4.20 | 4.23 | 2.63 |\n",
       "| 0.31 | Good      | J | SI2  | 63.3 | 58 | 335 | 4.34 | 4.35 | 2.75 |\n",
       "| 0.24 | Very Good | J | VVS2 | 62.8 | 57 | 336 | 3.94 | 3.96 | 2.48 |\n",
       "\n"
      ],
      "text/plain": [
       "  carat cut       color clarity depth table price x    y    z   \n",
       "1 0.23  Ideal     E     SI2     61.5  55    326   3.95 3.98 2.43\n",
       "2 0.21  Premium   E     SI1     59.8  61    326   3.89 3.84 2.31\n",
       "3 0.23  Good      E     VS1     56.9  65    327   4.05 4.07 2.31\n",
       "4 0.29  Premium   I     VS2     62.4  58    334   4.20 4.23 2.63\n",
       "5 0.31  Good      J     SI2     63.3  58    335   4.34 4.35 2.75\n",
       "6 0.24  Very Good J     VVS2    62.8  57    336   3.94 3.96 2.48"
      ]
     },
     "metadata": {},
     "output_type": "display_data"
    },
    {
     "data": {
      "text/html": [
       "<table class=\"dataframe\">\n",
       "<caption>A tibble: 6 × 10</caption>\n",
       "<thead>\n",
       "\t<tr><th scope=col>carat</th><th scope=col>cut</th><th scope=col>color</th><th scope=col>clarity</th><th scope=col>depth</th><th scope=col>table</th><th scope=col>price</th><th scope=col>x</th><th scope=col>y</th><th scope=col>z</th></tr>\n",
       "\t<tr><th scope=col>&lt;dbl&gt;</th><th scope=col>&lt;ord&gt;</th><th scope=col>&lt;ord&gt;</th><th scope=col>&lt;ord&gt;</th><th scope=col>&lt;dbl&gt;</th><th scope=col>&lt;dbl&gt;</th><th scope=col>&lt;int&gt;</th><th scope=col>&lt;dbl&gt;</th><th scope=col>&lt;dbl&gt;</th><th scope=col>&lt;dbl&gt;</th></tr>\n",
       "</thead>\n",
       "<tbody>\n",
       "\t<tr><td>0.23</td><td>Ideal    </td><td>E</td><td>SI2 </td><td>61.5</td><td>55</td><td>326</td><td>3.95</td><td>3.98</td><td>2.43</td></tr>\n",
       "\t<tr><td>0.21</td><td>Premium  </td><td>E</td><td>SI1 </td><td>59.8</td><td>61</td><td>326</td><td>3.89</td><td>3.84</td><td>2.31</td></tr>\n",
       "\t<tr><td>0.23</td><td>Good     </td><td>E</td><td>VS1 </td><td>56.9</td><td>65</td><td>327</td><td>4.05</td><td>4.07</td><td>2.31</td></tr>\n",
       "\t<tr><td>0.29</td><td>Premium  </td><td>I</td><td>VS2 </td><td>62.4</td><td>58</td><td>334</td><td>4.20</td><td>4.23</td><td>2.63</td></tr>\n",
       "\t<tr><td>0.31</td><td>Good     </td><td>J</td><td>SI2 </td><td>63.3</td><td>58</td><td>335</td><td>4.34</td><td>4.35</td><td>2.75</td></tr>\n",
       "\t<tr><td>0.24</td><td>Very Good</td><td>J</td><td>VVS2</td><td>62.8</td><td>57</td><td>336</td><td>3.94</td><td>3.96</td><td>2.48</td></tr>\n",
       "</tbody>\n",
       "</table>\n"
      ],
      "text/latex": [
       "A tibble: 6 × 10\n",
       "\\begin{tabular}{llllllllll}\n",
       " carat & cut & color & clarity & depth & table & price & x & y & z\\\\\n",
       " <dbl> & <ord> & <ord> & <ord> & <dbl> & <dbl> & <int> & <dbl> & <dbl> & <dbl>\\\\\n",
       "\\hline\n",
       "\t 0.23 & Ideal     & E & SI2  & 61.5 & 55 & 326 & 3.95 & 3.98 & 2.43\\\\\n",
       "\t 0.21 & Premium   & E & SI1  & 59.8 & 61 & 326 & 3.89 & 3.84 & 2.31\\\\\n",
       "\t 0.23 & Good      & E & VS1  & 56.9 & 65 & 327 & 4.05 & 4.07 & 2.31\\\\\n",
       "\t 0.29 & Premium   & I & VS2  & 62.4 & 58 & 334 & 4.20 & 4.23 & 2.63\\\\\n",
       "\t 0.31 & Good      & J & SI2  & 63.3 & 58 & 335 & 4.34 & 4.35 & 2.75\\\\\n",
       "\t 0.24 & Very Good & J & VVS2 & 62.8 & 57 & 336 & 3.94 & 3.96 & 2.48\\\\\n",
       "\\end{tabular}\n"
      ],
      "text/markdown": [
       "\n",
       "A tibble: 6 × 10\n",
       "\n",
       "| carat &lt;dbl&gt; | cut &lt;ord&gt; | color &lt;ord&gt; | clarity &lt;ord&gt; | depth &lt;dbl&gt; | table &lt;dbl&gt; | price &lt;int&gt; | x &lt;dbl&gt; | y &lt;dbl&gt; | z &lt;dbl&gt; |\n",
       "|---|---|---|---|---|---|---|---|---|---|\n",
       "| 0.23 | Ideal     | E | SI2  | 61.5 | 55 | 326 | 3.95 | 3.98 | 2.43 |\n",
       "| 0.21 | Premium   | E | SI1  | 59.8 | 61 | 326 | 3.89 | 3.84 | 2.31 |\n",
       "| 0.23 | Good      | E | VS1  | 56.9 | 65 | 327 | 4.05 | 4.07 | 2.31 |\n",
       "| 0.29 | Premium   | I | VS2  | 62.4 | 58 | 334 | 4.20 | 4.23 | 2.63 |\n",
       "| 0.31 | Good      | J | SI2  | 63.3 | 58 | 335 | 4.34 | 4.35 | 2.75 |\n",
       "| 0.24 | Very Good | J | VVS2 | 62.8 | 57 | 336 | 3.94 | 3.96 | 2.48 |\n",
       "\n"
      ],
      "text/plain": [
       "  carat cut       color clarity depth table price x    y    z   \n",
       "1 0.23  Ideal     E     SI2     61.5  55    326   3.95 3.98 2.43\n",
       "2 0.21  Premium   E     SI1     59.8  61    326   3.89 3.84 2.31\n",
       "3 0.23  Good      E     VS1     56.9  65    327   4.05 4.07 2.31\n",
       "4 0.29  Premium   I     VS2     62.4  58    334   4.20 4.23 2.63\n",
       "5 0.31  Good      J     SI2     63.3  58    335   4.34 4.35 2.75\n",
       "6 0.24  Very Good J     VVS2    62.8  57    336   3.94 3.96 2.48"
      ]
     },
     "metadata": {},
     "output_type": "display_data"
    }
   ],
   "source": [
    "# carat이 1미만이거나, 5초과인 데이터 조회\n",
    "head(diamonds[diamonds$carat < 1 | diamonds$carat > 5, ])\n",
    "diamonds %>% filter(carat < 1 | carat > 5) %>% head()"
   ]
  },
  {
   "cell_type": "code",
   "execution_count": 186,
   "id": "0cc6a45f-0939-4ee8-8af1-f88160a9a27c",
   "metadata": {},
   "outputs": [
    {
     "data": {
      "text/html": [
       "<table class=\"dataframe\">\n",
       "<caption>A tibble: 6 × 10</caption>\n",
       "<thead>\n",
       "\t<tr><th scope=col>carat</th><th scope=col>cut</th><th scope=col>color</th><th scope=col>clarity</th><th scope=col>depth</th><th scope=col>table</th><th scope=col>price</th><th scope=col>x</th><th scope=col>y</th><th scope=col>z</th></tr>\n",
       "\t<tr><th scope=col>&lt;dbl&gt;</th><th scope=col>&lt;ord&gt;</th><th scope=col>&lt;ord&gt;</th><th scope=col>&lt;ord&gt;</th><th scope=col>&lt;dbl&gt;</th><th scope=col>&lt;dbl&gt;</th><th scope=col>&lt;int&gt;</th><th scope=col>&lt;dbl&gt;</th><th scope=col>&lt;dbl&gt;</th><th scope=col>&lt;dbl&gt;</th></tr>\n",
       "</thead>\n",
       "<tbody>\n",
       "\t<tr><td>0.23</td><td>Ideal</td><td>E</td><td>SI2</td><td>61.5</td><td>55</td><td>326</td><td>3.95</td><td>3.98</td><td>2.43</td></tr>\n",
       "\t<tr><td>0.23</td><td>Good </td><td>E</td><td>VS1</td><td>56.9</td><td>65</td><td>327</td><td>4.05</td><td>4.07</td><td>2.31</td></tr>\n",
       "\t<tr><td>0.31</td><td>Good </td><td>J</td><td>SI2</td><td>63.3</td><td>58</td><td>335</td><td>4.34</td><td>4.35</td><td>2.75</td></tr>\n",
       "\t<tr><td>0.30</td><td>Good </td><td>J</td><td>SI1</td><td>64.0</td><td>55</td><td>339</td><td>4.25</td><td>4.28</td><td>2.73</td></tr>\n",
       "\t<tr><td>0.23</td><td>Ideal</td><td>J</td><td>VS1</td><td>62.8</td><td>56</td><td>340</td><td>3.93</td><td>3.90</td><td>2.46</td></tr>\n",
       "\t<tr><td>0.31</td><td>Ideal</td><td>J</td><td>SI2</td><td>62.2</td><td>54</td><td>344</td><td>4.35</td><td>4.37</td><td>2.71</td></tr>\n",
       "</tbody>\n",
       "</table>\n"
      ],
      "text/latex": [
       "A tibble: 6 × 10\n",
       "\\begin{tabular}{llllllllll}\n",
       " carat & cut & color & clarity & depth & table & price & x & y & z\\\\\n",
       " <dbl> & <ord> & <ord> & <ord> & <dbl> & <dbl> & <int> & <dbl> & <dbl> & <dbl>\\\\\n",
       "\\hline\n",
       "\t 0.23 & Ideal & E & SI2 & 61.5 & 55 & 326 & 3.95 & 3.98 & 2.43\\\\\n",
       "\t 0.23 & Good  & E & VS1 & 56.9 & 65 & 327 & 4.05 & 4.07 & 2.31\\\\\n",
       "\t 0.31 & Good  & J & SI2 & 63.3 & 58 & 335 & 4.34 & 4.35 & 2.75\\\\\n",
       "\t 0.30 & Good  & J & SI1 & 64.0 & 55 & 339 & 4.25 & 4.28 & 2.73\\\\\n",
       "\t 0.23 & Ideal & J & VS1 & 62.8 & 56 & 340 & 3.93 & 3.90 & 2.46\\\\\n",
       "\t 0.31 & Ideal & J & SI2 & 62.2 & 54 & 344 & 4.35 & 4.37 & 2.71\\\\\n",
       "\\end{tabular}\n"
      ],
      "text/markdown": [
       "\n",
       "A tibble: 6 × 10\n",
       "\n",
       "| carat &lt;dbl&gt; | cut &lt;ord&gt; | color &lt;ord&gt; | clarity &lt;ord&gt; | depth &lt;dbl&gt; | table &lt;dbl&gt; | price &lt;int&gt; | x &lt;dbl&gt; | y &lt;dbl&gt; | z &lt;dbl&gt; |\n",
       "|---|---|---|---|---|---|---|---|---|---|\n",
       "| 0.23 | Ideal | E | SI2 | 61.5 | 55 | 326 | 3.95 | 3.98 | 2.43 |\n",
       "| 0.23 | Good  | E | VS1 | 56.9 | 65 | 327 | 4.05 | 4.07 | 2.31 |\n",
       "| 0.31 | Good  | J | SI2 | 63.3 | 58 | 335 | 4.34 | 4.35 | 2.75 |\n",
       "| 0.30 | Good  | J | SI1 | 64.0 | 55 | 339 | 4.25 | 4.28 | 2.73 |\n",
       "| 0.23 | Ideal | J | VS1 | 62.8 | 56 | 340 | 3.93 | 3.90 | 2.46 |\n",
       "| 0.31 | Ideal | J | SI2 | 62.2 | 54 | 344 | 4.35 | 4.37 | 2.71 |\n",
       "\n"
      ],
      "text/plain": [
       "  carat cut   color clarity depth table price x    y    z   \n",
       "1 0.23  Ideal E     SI2     61.5  55    326   3.95 3.98 2.43\n",
       "2 0.23  Good  E     VS1     56.9  65    327   4.05 4.07 2.31\n",
       "3 0.31  Good  J     SI2     63.3  58    335   4.34 4.35 2.75\n",
       "4 0.30  Good  J     SI1     64.0  55    339   4.25 4.28 2.73\n",
       "5 0.23  Ideal J     VS1     62.8  56    340   3.93 3.90 2.46\n",
       "6 0.31  Ideal J     SI2     62.2  54    344   4.35 4.37 2.71"
      ]
     },
     "metadata": {},
     "output_type": "display_data"
    },
    {
     "data": {
      "text/html": [
       "<table class=\"dataframe\">\n",
       "<caption>A tibble: 6 × 10</caption>\n",
       "<thead>\n",
       "\t<tr><th scope=col>carat</th><th scope=col>cut</th><th scope=col>color</th><th scope=col>clarity</th><th scope=col>depth</th><th scope=col>table</th><th scope=col>price</th><th scope=col>x</th><th scope=col>y</th><th scope=col>z</th></tr>\n",
       "\t<tr><th scope=col>&lt;dbl&gt;</th><th scope=col>&lt;ord&gt;</th><th scope=col>&lt;ord&gt;</th><th scope=col>&lt;ord&gt;</th><th scope=col>&lt;dbl&gt;</th><th scope=col>&lt;dbl&gt;</th><th scope=col>&lt;int&gt;</th><th scope=col>&lt;dbl&gt;</th><th scope=col>&lt;dbl&gt;</th><th scope=col>&lt;dbl&gt;</th></tr>\n",
       "</thead>\n",
       "<tbody>\n",
       "\t<tr><td>0.23</td><td>Ideal</td><td>E</td><td>SI2</td><td>61.5</td><td>55</td><td>326</td><td>3.95</td><td>3.98</td><td>2.43</td></tr>\n",
       "\t<tr><td>0.23</td><td>Good </td><td>E</td><td>VS1</td><td>56.9</td><td>65</td><td>327</td><td>4.05</td><td>4.07</td><td>2.31</td></tr>\n",
       "\t<tr><td>0.31</td><td>Good </td><td>J</td><td>SI2</td><td>63.3</td><td>58</td><td>335</td><td>4.34</td><td>4.35</td><td>2.75</td></tr>\n",
       "\t<tr><td>0.30</td><td>Good </td><td>J</td><td>SI1</td><td>64.0</td><td>55</td><td>339</td><td>4.25</td><td>4.28</td><td>2.73</td></tr>\n",
       "\t<tr><td>0.23</td><td>Ideal</td><td>J</td><td>VS1</td><td>62.8</td><td>56</td><td>340</td><td>3.93</td><td>3.90</td><td>2.46</td></tr>\n",
       "\t<tr><td>0.31</td><td>Ideal</td><td>J</td><td>SI2</td><td>62.2</td><td>54</td><td>344</td><td>4.35</td><td>4.37</td><td>2.71</td></tr>\n",
       "</tbody>\n",
       "</table>\n"
      ],
      "text/latex": [
       "A tibble: 6 × 10\n",
       "\\begin{tabular}{llllllllll}\n",
       " carat & cut & color & clarity & depth & table & price & x & y & z\\\\\n",
       " <dbl> & <ord> & <ord> & <ord> & <dbl> & <dbl> & <int> & <dbl> & <dbl> & <dbl>\\\\\n",
       "\\hline\n",
       "\t 0.23 & Ideal & E & SI2 & 61.5 & 55 & 326 & 3.95 & 3.98 & 2.43\\\\\n",
       "\t 0.23 & Good  & E & VS1 & 56.9 & 65 & 327 & 4.05 & 4.07 & 2.31\\\\\n",
       "\t 0.31 & Good  & J & SI2 & 63.3 & 58 & 335 & 4.34 & 4.35 & 2.75\\\\\n",
       "\t 0.30 & Good  & J & SI1 & 64.0 & 55 & 339 & 4.25 & 4.28 & 2.73\\\\\n",
       "\t 0.23 & Ideal & J & VS1 & 62.8 & 56 & 340 & 3.93 & 3.90 & 2.46\\\\\n",
       "\t 0.31 & Ideal & J & SI2 & 62.2 & 54 & 344 & 4.35 & 4.37 & 2.71\\\\\n",
       "\\end{tabular}\n"
      ],
      "text/markdown": [
       "\n",
       "A tibble: 6 × 10\n",
       "\n",
       "| carat &lt;dbl&gt; | cut &lt;ord&gt; | color &lt;ord&gt; | clarity &lt;ord&gt; | depth &lt;dbl&gt; | table &lt;dbl&gt; | price &lt;int&gt; | x &lt;dbl&gt; | y &lt;dbl&gt; | z &lt;dbl&gt; |\n",
       "|---|---|---|---|---|---|---|---|---|---|\n",
       "| 0.23 | Ideal | E | SI2 | 61.5 | 55 | 326 | 3.95 | 3.98 | 2.43 |\n",
       "| 0.23 | Good  | E | VS1 | 56.9 | 65 | 327 | 4.05 | 4.07 | 2.31 |\n",
       "| 0.31 | Good  | J | SI2 | 63.3 | 58 | 335 | 4.34 | 4.35 | 2.75 |\n",
       "| 0.30 | Good  | J | SI1 | 64.0 | 55 | 339 | 4.25 | 4.28 | 2.73 |\n",
       "| 0.23 | Ideal | J | VS1 | 62.8 | 56 | 340 | 3.93 | 3.90 | 2.46 |\n",
       "| 0.31 | Ideal | J | SI2 | 62.2 | 54 | 344 | 4.35 | 4.37 | 2.71 |\n",
       "\n"
      ],
      "text/plain": [
       "  carat cut   color clarity depth table price x    y    z   \n",
       "1 0.23  Ideal E     SI2     61.5  55    326   3.95 3.98 2.43\n",
       "2 0.23  Good  E     VS1     56.9  65    327   4.05 4.07 2.31\n",
       "3 0.31  Good  J     SI2     63.3  58    335   4.34 4.35 2.75\n",
       "4 0.30  Good  J     SI1     64.0  55    339   4.25 4.28 2.73\n",
       "5 0.23  Ideal J     VS1     62.8  56    340   3.93 3.90 2.46\n",
       "6 0.31  Ideal J     SI2     62.2  54    344   4.35 4.37 2.71"
      ]
     },
     "metadata": {},
     "output_type": "display_data"
    },
    {
     "data": {
      "text/html": [
       "<table class=\"dataframe\">\n",
       "<caption>A tibble: 6 × 10</caption>\n",
       "<thead>\n",
       "\t<tr><th scope=col>carat</th><th scope=col>cut</th><th scope=col>color</th><th scope=col>clarity</th><th scope=col>depth</th><th scope=col>table</th><th scope=col>price</th><th scope=col>x</th><th scope=col>y</th><th scope=col>z</th></tr>\n",
       "\t<tr><th scope=col>&lt;dbl&gt;</th><th scope=col>&lt;ord&gt;</th><th scope=col>&lt;ord&gt;</th><th scope=col>&lt;ord&gt;</th><th scope=col>&lt;dbl&gt;</th><th scope=col>&lt;dbl&gt;</th><th scope=col>&lt;int&gt;</th><th scope=col>&lt;dbl&gt;</th><th scope=col>&lt;dbl&gt;</th><th scope=col>&lt;dbl&gt;</th></tr>\n",
       "</thead>\n",
       "<tbody>\n",
       "\t<tr><td>0.23</td><td>Ideal</td><td>E</td><td>SI2</td><td>61.5</td><td>55</td><td>326</td><td>3.95</td><td>3.98</td><td>2.43</td></tr>\n",
       "\t<tr><td>0.23</td><td>Good </td><td>E</td><td>VS1</td><td>56.9</td><td>65</td><td>327</td><td>4.05</td><td>4.07</td><td>2.31</td></tr>\n",
       "\t<tr><td>0.31</td><td>Good </td><td>J</td><td>SI2</td><td>63.3</td><td>58</td><td>335</td><td>4.34</td><td>4.35</td><td>2.75</td></tr>\n",
       "\t<tr><td>0.30</td><td>Good </td><td>J</td><td>SI1</td><td>64.0</td><td>55</td><td>339</td><td>4.25</td><td>4.28</td><td>2.73</td></tr>\n",
       "\t<tr><td>0.23</td><td>Ideal</td><td>J</td><td>VS1</td><td>62.8</td><td>56</td><td>340</td><td>3.93</td><td>3.90</td><td>2.46</td></tr>\n",
       "\t<tr><td>0.31</td><td>Ideal</td><td>J</td><td>SI2</td><td>62.2</td><td>54</td><td>344</td><td>4.35</td><td>4.37</td><td>2.71</td></tr>\n",
       "</tbody>\n",
       "</table>\n"
      ],
      "text/latex": [
       "A tibble: 6 × 10\n",
       "\\begin{tabular}{llllllllll}\n",
       " carat & cut & color & clarity & depth & table & price & x & y & z\\\\\n",
       " <dbl> & <ord> & <ord> & <ord> & <dbl> & <dbl> & <int> & <dbl> & <dbl> & <dbl>\\\\\n",
       "\\hline\n",
       "\t 0.23 & Ideal & E & SI2 & 61.5 & 55 & 326 & 3.95 & 3.98 & 2.43\\\\\n",
       "\t 0.23 & Good  & E & VS1 & 56.9 & 65 & 327 & 4.05 & 4.07 & 2.31\\\\\n",
       "\t 0.31 & Good  & J & SI2 & 63.3 & 58 & 335 & 4.34 & 4.35 & 2.75\\\\\n",
       "\t 0.30 & Good  & J & SI1 & 64.0 & 55 & 339 & 4.25 & 4.28 & 2.73\\\\\n",
       "\t 0.23 & Ideal & J & VS1 & 62.8 & 56 & 340 & 3.93 & 3.90 & 2.46\\\\\n",
       "\t 0.31 & Ideal & J & SI2 & 62.2 & 54 & 344 & 4.35 & 4.37 & 2.71\\\\\n",
       "\\end{tabular}\n"
      ],
      "text/markdown": [
       "\n",
       "A tibble: 6 × 10\n",
       "\n",
       "| carat &lt;dbl&gt; | cut &lt;ord&gt; | color &lt;ord&gt; | clarity &lt;ord&gt; | depth &lt;dbl&gt; | table &lt;dbl&gt; | price &lt;int&gt; | x &lt;dbl&gt; | y &lt;dbl&gt; | z &lt;dbl&gt; |\n",
       "|---|---|---|---|---|---|---|---|---|---|\n",
       "| 0.23 | Ideal | E | SI2 | 61.5 | 55 | 326 | 3.95 | 3.98 | 2.43 |\n",
       "| 0.23 | Good  | E | VS1 | 56.9 | 65 | 327 | 4.05 | 4.07 | 2.31 |\n",
       "| 0.31 | Good  | J | SI2 | 63.3 | 58 | 335 | 4.34 | 4.35 | 2.75 |\n",
       "| 0.30 | Good  | J | SI1 | 64.0 | 55 | 339 | 4.25 | 4.28 | 2.73 |\n",
       "| 0.23 | Ideal | J | VS1 | 62.8 | 56 | 340 | 3.93 | 3.90 | 2.46 |\n",
       "| 0.31 | Ideal | J | SI2 | 62.2 | 54 | 344 | 4.35 | 4.37 | 2.71 |\n",
       "\n"
      ],
      "text/plain": [
       "  carat cut   color clarity depth table price x    y    z   \n",
       "1 0.23  Ideal E     SI2     61.5  55    326   3.95 3.98 2.43\n",
       "2 0.23  Good  E     VS1     56.9  65    327   4.05 4.07 2.31\n",
       "3 0.31  Good  J     SI2     63.3  58    335   4.34 4.35 2.75\n",
       "4 0.30  Good  J     SI1     64.0  55    339   4.25 4.28 2.73\n",
       "5 0.23  Ideal J     VS1     62.8  56    340   3.93 3.90 2.46\n",
       "6 0.31  Ideal J     SI2     62.2  54    344   4.35 4.37 2.71"
      ]
     },
     "metadata": {},
     "output_type": "display_data"
    },
    {
     "data": {
      "text/html": [
       "<table class=\"dataframe\">\n",
       "<caption>A tibble: 6 × 10</caption>\n",
       "<thead>\n",
       "\t<tr><th scope=col>carat</th><th scope=col>cut</th><th scope=col>color</th><th scope=col>clarity</th><th scope=col>depth</th><th scope=col>table</th><th scope=col>price</th><th scope=col>x</th><th scope=col>y</th><th scope=col>z</th></tr>\n",
       "\t<tr><th scope=col>&lt;dbl&gt;</th><th scope=col>&lt;ord&gt;</th><th scope=col>&lt;ord&gt;</th><th scope=col>&lt;ord&gt;</th><th scope=col>&lt;dbl&gt;</th><th scope=col>&lt;dbl&gt;</th><th scope=col>&lt;int&gt;</th><th scope=col>&lt;dbl&gt;</th><th scope=col>&lt;dbl&gt;</th><th scope=col>&lt;dbl&gt;</th></tr>\n",
       "</thead>\n",
       "<tbody>\n",
       "\t<tr><td>0.23</td><td>Ideal</td><td>E</td><td>SI2</td><td>61.5</td><td>55</td><td>326</td><td>3.95</td><td>3.98</td><td>2.43</td></tr>\n",
       "\t<tr><td>0.23</td><td>Good </td><td>E</td><td>VS1</td><td>56.9</td><td>65</td><td>327</td><td>4.05</td><td>4.07</td><td>2.31</td></tr>\n",
       "\t<tr><td>0.31</td><td>Good </td><td>J</td><td>SI2</td><td>63.3</td><td>58</td><td>335</td><td>4.34</td><td>4.35</td><td>2.75</td></tr>\n",
       "\t<tr><td>0.30</td><td>Good </td><td>J</td><td>SI1</td><td>64.0</td><td>55</td><td>339</td><td>4.25</td><td>4.28</td><td>2.73</td></tr>\n",
       "\t<tr><td>0.23</td><td>Ideal</td><td>J</td><td>VS1</td><td>62.8</td><td>56</td><td>340</td><td>3.93</td><td>3.90</td><td>2.46</td></tr>\n",
       "\t<tr><td>0.31</td><td>Ideal</td><td>J</td><td>SI2</td><td>62.2</td><td>54</td><td>344</td><td>4.35</td><td>4.37</td><td>2.71</td></tr>\n",
       "</tbody>\n",
       "</table>\n"
      ],
      "text/latex": [
       "A tibble: 6 × 10\n",
       "\\begin{tabular}{llllllllll}\n",
       " carat & cut & color & clarity & depth & table & price & x & y & z\\\\\n",
       " <dbl> & <ord> & <ord> & <ord> & <dbl> & <dbl> & <int> & <dbl> & <dbl> & <dbl>\\\\\n",
       "\\hline\n",
       "\t 0.23 & Ideal & E & SI2 & 61.5 & 55 & 326 & 3.95 & 3.98 & 2.43\\\\\n",
       "\t 0.23 & Good  & E & VS1 & 56.9 & 65 & 327 & 4.05 & 4.07 & 2.31\\\\\n",
       "\t 0.31 & Good  & J & SI2 & 63.3 & 58 & 335 & 4.34 & 4.35 & 2.75\\\\\n",
       "\t 0.30 & Good  & J & SI1 & 64.0 & 55 & 339 & 4.25 & 4.28 & 2.73\\\\\n",
       "\t 0.23 & Ideal & J & VS1 & 62.8 & 56 & 340 & 3.93 & 3.90 & 2.46\\\\\n",
       "\t 0.31 & Ideal & J & SI2 & 62.2 & 54 & 344 & 4.35 & 4.37 & 2.71\\\\\n",
       "\\end{tabular}\n"
      ],
      "text/markdown": [
       "\n",
       "A tibble: 6 × 10\n",
       "\n",
       "| carat &lt;dbl&gt; | cut &lt;ord&gt; | color &lt;ord&gt; | clarity &lt;ord&gt; | depth &lt;dbl&gt; | table &lt;dbl&gt; | price &lt;int&gt; | x &lt;dbl&gt; | y &lt;dbl&gt; | z &lt;dbl&gt; |\n",
       "|---|---|---|---|---|---|---|---|---|---|\n",
       "| 0.23 | Ideal | E | SI2 | 61.5 | 55 | 326 | 3.95 | 3.98 | 2.43 |\n",
       "| 0.23 | Good  | E | VS1 | 56.9 | 65 | 327 | 4.05 | 4.07 | 2.31 |\n",
       "| 0.31 | Good  | J | SI2 | 63.3 | 58 | 335 | 4.34 | 4.35 | 2.75 |\n",
       "| 0.30 | Good  | J | SI1 | 64.0 | 55 | 339 | 4.25 | 4.28 | 2.73 |\n",
       "| 0.23 | Ideal | J | VS1 | 62.8 | 56 | 340 | 3.93 | 3.90 | 2.46 |\n",
       "| 0.31 | Ideal | J | SI2 | 62.2 | 54 | 344 | 4.35 | 4.37 | 2.71 |\n",
       "\n"
      ],
      "text/plain": [
       "  carat cut   color clarity depth table price x    y    z   \n",
       "1 0.23  Ideal E     SI2     61.5  55    326   3.95 3.98 2.43\n",
       "2 0.23  Good  E     VS1     56.9  65    327   4.05 4.07 2.31\n",
       "3 0.31  Good  J     SI2     63.3  58    335   4.34 4.35 2.75\n",
       "4 0.30  Good  J     SI1     64.0  55    339   4.25 4.28 2.73\n",
       "5 0.23  Ideal J     VS1     62.8  56    340   3.93 3.90 2.46\n",
       "6 0.31  Ideal J     SI2     62.2  54    344   4.35 4.37 2.71"
      ]
     },
     "metadata": {},
     "output_type": "display_data"
    }
   ],
   "source": [
    "# cut이 'Ideal'이거나 'Good'인 데이터 조회\n",
    "head(diamonds[diamonds$cut == 'Ideal' | diamonds$cut == 'Good', ])\n",
    "head(diamonds[diamonds$cut %in% c('Ideal', 'Good'), ])\n",
    "diamonds %>% filter(cut == 'Ideal' | cut == 'Good') %>% head()\n",
    "diamonds %>% filter(cut %in% c('Ideal', 'Good')) %>% head()"
   ]
  },
  {
   "cell_type": "code",
   "execution_count": 187,
   "id": "2ed98144-c47c-4a34-8d25-0b8380257408",
   "metadata": {},
   "outputs": [
    {
     "data": {
      "text/html": [
       "<table class=\"dataframe\">\n",
       "<caption>A tibble: 6 × 4</caption>\n",
       "<thead>\n",
       "\t<tr><th scope=col>carat</th><th scope=col>price</th><th scope=col>Ratio</th><th scope=col>Double</th></tr>\n",
       "\t<tr><th scope=col>&lt;dbl&gt;</th><th scope=col>&lt;int&gt;</th><th scope=col>&lt;dbl&gt;</th><th scope=col>&lt;dbl&gt;</th></tr>\n",
       "</thead>\n",
       "<tbody>\n",
       "\t<tr><td>0.23</td><td>326</td><td>1417.391</td><td>2008998</td></tr>\n",
       "\t<tr><td>0.21</td><td>326</td><td>1552.381</td><td>2409887</td></tr>\n",
       "\t<tr><td>0.23</td><td>327</td><td>1421.739</td><td>2021342</td></tr>\n",
       "\t<tr><td>0.29</td><td>334</td><td>1151.724</td><td>1326468</td></tr>\n",
       "\t<tr><td>0.31</td><td>335</td><td>1080.645</td><td>1167794</td></tr>\n",
       "\t<tr><td>0.24</td><td>336</td><td>1400.000</td><td>1960000</td></tr>\n",
       "</tbody>\n",
       "</table>\n"
      ],
      "text/latex": [
       "A tibble: 6 × 4\n",
       "\\begin{tabular}{llll}\n",
       " carat & price & Ratio & Double\\\\\n",
       " <dbl> & <int> & <dbl> & <dbl>\\\\\n",
       "\\hline\n",
       "\t 0.23 & 326 & 1417.391 & 2008998\\\\\n",
       "\t 0.21 & 326 & 1552.381 & 2409887\\\\\n",
       "\t 0.23 & 327 & 1421.739 & 2021342\\\\\n",
       "\t 0.29 & 334 & 1151.724 & 1326468\\\\\n",
       "\t 0.31 & 335 & 1080.645 & 1167794\\\\\n",
       "\t 0.24 & 336 & 1400.000 & 1960000\\\\\n",
       "\\end{tabular}\n"
      ],
      "text/markdown": [
       "\n",
       "A tibble: 6 × 4\n",
       "\n",
       "| carat &lt;dbl&gt; | price &lt;int&gt; | Ratio &lt;dbl&gt; | Double &lt;dbl&gt; |\n",
       "|---|---|---|---|\n",
       "| 0.23 | 326 | 1417.391 | 2008998 |\n",
       "| 0.21 | 326 | 1552.381 | 2409887 |\n",
       "| 0.23 | 327 | 1421.739 | 2021342 |\n",
       "| 0.29 | 334 | 1151.724 | 1326468 |\n",
       "| 0.31 | 335 | 1080.645 | 1167794 |\n",
       "| 0.24 | 336 | 1400.000 | 1960000 |\n",
       "\n"
      ],
      "text/plain": [
       "  carat price Ratio    Double \n",
       "1 0.23  326   1417.391 2008998\n",
       "2 0.21  326   1552.381 2409887\n",
       "3 0.23  327   1421.739 2021342\n",
       "4 0.29  334   1151.724 1326468\n",
       "5 0.31  335   1080.645 1167794\n",
       "6 0.24  336   1400.000 1960000"
      ]
     },
     "metadata": {},
     "output_type": "display_data"
    }
   ],
   "source": [
    "# price를 carat으로 나눈 것을 Ratio라는 컬럼으로,\n",
    "# Ratio 컬럼을 제곱한것을 Double이라는 컬럼으로 생성\n",
    "dia <- diamonds\n",
    "dia$Ratio <- dia$price / dia$carat\n",
    "dia$Double <- dia$Ratio ** 2\n",
    "head(dia[, c('carat', 'price', 'Ratio', 'Double')])"
   ]
  },
  {
   "cell_type": "code",
   "execution_count": 188,
   "id": "3fa041ed-3c36-4194-bf00-7b866d4bfa3f",
   "metadata": {},
   "outputs": [
    {
     "data": {
      "text/html": [
       "<table class=\"dataframe\">\n",
       "<caption>A tibble: 6 × 4</caption>\n",
       "<thead>\n",
       "\t<tr><th scope=col>carat</th><th scope=col>price</th><th scope=col>Ratio</th><th scope=col>Double</th></tr>\n",
       "\t<tr><th scope=col>&lt;dbl&gt;</th><th scope=col>&lt;int&gt;</th><th scope=col>&lt;dbl&gt;</th><th scope=col>&lt;dbl&gt;</th></tr>\n",
       "</thead>\n",
       "<tbody>\n",
       "\t<tr><td>0.23</td><td>326</td><td>1417.391</td><td>2008998</td></tr>\n",
       "\t<tr><td>0.21</td><td>326</td><td>1552.381</td><td>2409887</td></tr>\n",
       "\t<tr><td>0.23</td><td>327</td><td>1421.739</td><td>2021342</td></tr>\n",
       "\t<tr><td>0.29</td><td>334</td><td>1151.724</td><td>1326468</td></tr>\n",
       "\t<tr><td>0.31</td><td>335</td><td>1080.645</td><td>1167794</td></tr>\n",
       "\t<tr><td>0.24</td><td>336</td><td>1400.000</td><td>1960000</td></tr>\n",
       "</tbody>\n",
       "</table>\n"
      ],
      "text/latex": [
       "A tibble: 6 × 4\n",
       "\\begin{tabular}{llll}\n",
       " carat & price & Ratio & Double\\\\\n",
       " <dbl> & <int> & <dbl> & <dbl>\\\\\n",
       "\\hline\n",
       "\t 0.23 & 326 & 1417.391 & 2008998\\\\\n",
       "\t 0.21 & 326 & 1552.381 & 2409887\\\\\n",
       "\t 0.23 & 327 & 1421.739 & 2021342\\\\\n",
       "\t 0.29 & 334 & 1151.724 & 1326468\\\\\n",
       "\t 0.31 & 335 & 1080.645 & 1167794\\\\\n",
       "\t 0.24 & 336 & 1400.000 & 1960000\\\\\n",
       "\\end{tabular}\n"
      ],
      "text/markdown": [
       "\n",
       "A tibble: 6 × 4\n",
       "\n",
       "| carat &lt;dbl&gt; | price &lt;int&gt; | Ratio &lt;dbl&gt; | Double &lt;dbl&gt; |\n",
       "|---|---|---|---|\n",
       "| 0.23 | 326 | 1417.391 | 2008998 |\n",
       "| 0.21 | 326 | 1552.381 | 2409887 |\n",
       "| 0.23 | 327 | 1421.739 | 2021342 |\n",
       "| 0.29 | 334 | 1151.724 | 1326468 |\n",
       "| 0.31 | 335 | 1080.645 | 1167794 |\n",
       "| 0.24 | 336 | 1400.000 | 1960000 |\n",
       "\n"
      ],
      "text/plain": [
       "  carat price Ratio    Double \n",
       "1 0.23  326   1417.391 2008998\n",
       "2 0.21  326   1552.381 2409887\n",
       "3 0.23  327   1421.739 2021342\n",
       "4 0.29  334   1151.724 1326468\n",
       "5 0.31  335   1080.645 1167794\n",
       "6 0.24  336   1400.000 1960000"
      ]
     },
     "metadata": {},
     "output_type": "display_data"
    }
   ],
   "source": [
    "dia <- diamonds\n",
    "dia %>% mutate(Ratio = price / carat, Double = Ratio ** 2) %>%\n",
    "        select(carat, price, Ratio, Double) %>% head()"
   ]
  },
  {
   "cell_type": "code",
   "execution_count": 189,
   "id": "414121f0-a95b-420f-bc78-85a00e5feb72",
   "metadata": {},
   "outputs": [
    {
     "data": {
      "text/html": [
       "<table class=\"dataframe\">\n",
       "<caption>A data.frame: 1 × 3</caption>\n",
       "<thead>\n",
       "\t<tr><th scope=col>avgPrice</th><th scope=col>medPrice</th><th scope=col>avgCarat</th></tr>\n",
       "\t<tr><th scope=col>&lt;dbl&gt;</th><th scope=col>&lt;dbl&gt;</th><th scope=col>&lt;dbl&gt;</th></tr>\n",
       "</thead>\n",
       "<tbody>\n",
       "\t<tr><td>3932.8</td><td>2401</td><td>0.7979397</td></tr>\n",
       "</tbody>\n",
       "</table>\n"
      ],
      "text/latex": [
       "A data.frame: 1 × 3\n",
       "\\begin{tabular}{lll}\n",
       " avgPrice & medPrice & avgCarat\\\\\n",
       " <dbl> & <dbl> & <dbl>\\\\\n",
       "\\hline\n",
       "\t 3932.8 & 2401 & 0.7979397\\\\\n",
       "\\end{tabular}\n"
      ],
      "text/markdown": [
       "\n",
       "A data.frame: 1 × 3\n",
       "\n",
       "| avgPrice &lt;dbl&gt; | medPrice &lt;dbl&gt; | avgCarat &lt;dbl&gt; |\n",
       "|---|---|---|\n",
       "| 3932.8 | 2401 | 0.7979397 |\n",
       "\n"
      ],
      "text/plain": [
       "  avgPrice medPrice avgCarat \n",
       "1 3932.8   2401     0.7979397"
      ]
     },
     "metadata": {},
     "output_type": "display_data"
    }
   ],
   "source": [
    "# 평균 가격price와 price의 중앙값, 평균 carat을 집계\n",
    "c1 <- mean(diamonds$price)\n",
    "c2 <- median(diamonds$price)\n",
    "c3 <- mean(diamonds$carat)\n",
    "\n",
    "# 여러 컬럼을 하나로 묶음 : cbind, data.frame\n",
    "df <- data.frame(c1, c2, c3)\n",
    "colnames(df) = c('avgPrice','medPrice','avgCarat')\n",
    "df"
   ]
  },
  {
   "cell_type": "code",
   "execution_count": 190,
   "id": "9d33dcb8-09a6-484f-911c-9d774424a575",
   "metadata": {},
   "outputs": [
    {
     "data": {
      "text/html": [
       "<table class=\"dataframe\">\n",
       "<caption>A tibble: 1 × 3</caption>\n",
       "<thead>\n",
       "\t<tr><th scope=col>avgPrice</th><th scope=col>medPrice</th><th scope=col>avgCarat</th></tr>\n",
       "\t<tr><th scope=col>&lt;dbl&gt;</th><th scope=col>&lt;dbl&gt;</th><th scope=col>&lt;dbl&gt;</th></tr>\n",
       "</thead>\n",
       "<tbody>\n",
       "\t<tr><td>3932.8</td><td>2401</td><td>0.7979397</td></tr>\n",
       "</tbody>\n",
       "</table>\n"
      ],
      "text/latex": [
       "A tibble: 1 × 3\n",
       "\\begin{tabular}{lll}\n",
       " avgPrice & medPrice & avgCarat\\\\\n",
       " <dbl> & <dbl> & <dbl>\\\\\n",
       "\\hline\n",
       "\t 3932.8 & 2401 & 0.7979397\\\\\n",
       "\\end{tabular}\n"
      ],
      "text/markdown": [
       "\n",
       "A tibble: 1 × 3\n",
       "\n",
       "| avgPrice &lt;dbl&gt; | medPrice &lt;dbl&gt; | avgCarat &lt;dbl&gt; |\n",
       "|---|---|---|\n",
       "| 3932.8 | 2401 | 0.7979397 |\n",
       "\n"
      ],
      "text/plain": [
       "  avgPrice medPrice avgCarat \n",
       "1 3932.8   2401     0.7979397"
      ]
     },
     "metadata": {},
     "output_type": "display_data"
    }
   ],
   "source": [
    "diamonds %>% summarise(avgPrice=mean(price),\n",
    "                       medPrice=median(price),\n",
    "                       avgCarat=mean(carat))"
   ]
  },
  {
   "cell_type": "markdown",
   "id": "0d4b3187-2895-4e1c-9e2b-58c3475a5b5a",
   "metadata": {},
   "source": [
    "## 집계처리 : aggregate\n",
    "+ aggregate(집계대상컬럼, by=그룹대상컬럼, 집계함수)\n",
    "+ aggregate(인자식, 데이터, 집계함수)\n",
    "+ 집계시 사용하는 인자식 예 : a ~ b + c\n",
    "    - a : 집계하고자 하는 대상\n",
    "    - b : 그룹으로 묶을 기준1\n",
    "    - c : 그룹으로 묶을 기준2"
   ]
  },
  {
   "cell_type": "code",
   "execution_count": 191,
   "id": "d01f4ed2-6e10-4d41-bdcd-2549c5543333",
   "metadata": {},
   "outputs": [
    {
     "data": {
      "text/html": [
       "<table class=\"dataframe\">\n",
       "<caption>A data.frame: 5 × 2</caption>\n",
       "<thead>\n",
       "\t<tr><th scope=col>Group.1</th><th scope=col>x</th></tr>\n",
       "\t<tr><th scope=col>&lt;ord&gt;</th><th scope=col>&lt;dbl&gt;</th></tr>\n",
       "</thead>\n",
       "<tbody>\n",
       "\t<tr><td>Fair     </td><td>4358.758</td></tr>\n",
       "\t<tr><td>Good     </td><td>3928.864</td></tr>\n",
       "\t<tr><td>Very Good</td><td>3981.760</td></tr>\n",
       "\t<tr><td>Premium  </td><td>4584.258</td></tr>\n",
       "\t<tr><td>Ideal    </td><td>3457.542</td></tr>\n",
       "</tbody>\n",
       "</table>\n"
      ],
      "text/latex": [
       "A data.frame: 5 × 2\n",
       "\\begin{tabular}{ll}\n",
       " Group.1 & x\\\\\n",
       " <ord> & <dbl>\\\\\n",
       "\\hline\n",
       "\t Fair      & 4358.758\\\\\n",
       "\t Good      & 3928.864\\\\\n",
       "\t Very Good & 3981.760\\\\\n",
       "\t Premium   & 4584.258\\\\\n",
       "\t Ideal     & 3457.542\\\\\n",
       "\\end{tabular}\n"
      ],
      "text/markdown": [
       "\n",
       "A data.frame: 5 × 2\n",
       "\n",
       "| Group.1 &lt;ord&gt; | x &lt;dbl&gt; |\n",
       "|---|---|\n",
       "| Fair      | 4358.758 |\n",
       "| Good      | 3928.864 |\n",
       "| Very Good | 3981.760 |\n",
       "| Premium   | 4584.258 |\n",
       "| Ideal     | 3457.542 |\n",
       "\n"
      ],
      "text/plain": [
       "  Group.1   x       \n",
       "1 Fair      4358.758\n",
       "2 Good      3928.864\n",
       "3 Very Good 3981.760\n",
       "4 Premium   4584.258\n",
       "5 Ideal     3457.542"
      ]
     },
     "metadata": {},
     "output_type": "display_data"
    },
    {
     "data": {
      "text/html": [
       "<table class=\"dataframe\">\n",
       "<caption>A data.frame: 5 × 2</caption>\n",
       "<thead>\n",
       "\t<tr><th scope=col>cut</th><th scope=col>price</th></tr>\n",
       "\t<tr><th scope=col>&lt;ord&gt;</th><th scope=col>&lt;dbl&gt;</th></tr>\n",
       "</thead>\n",
       "<tbody>\n",
       "\t<tr><td>Fair     </td><td>4358.758</td></tr>\n",
       "\t<tr><td>Good     </td><td>3928.864</td></tr>\n",
       "\t<tr><td>Very Good</td><td>3981.760</td></tr>\n",
       "\t<tr><td>Premium  </td><td>4584.258</td></tr>\n",
       "\t<tr><td>Ideal    </td><td>3457.542</td></tr>\n",
       "</tbody>\n",
       "</table>\n"
      ],
      "text/latex": [
       "A data.frame: 5 × 2\n",
       "\\begin{tabular}{ll}\n",
       " cut & price\\\\\n",
       " <ord> & <dbl>\\\\\n",
       "\\hline\n",
       "\t Fair      & 4358.758\\\\\n",
       "\t Good      & 3928.864\\\\\n",
       "\t Very Good & 3981.760\\\\\n",
       "\t Premium   & 4584.258\\\\\n",
       "\t Ideal     & 3457.542\\\\\n",
       "\\end{tabular}\n"
      ],
      "text/markdown": [
       "\n",
       "A data.frame: 5 × 2\n",
       "\n",
       "| cut &lt;ord&gt; | price &lt;dbl&gt; |\n",
       "|---|---|\n",
       "| Fair      | 4358.758 |\n",
       "| Good      | 3928.864 |\n",
       "| Very Good | 3981.760 |\n",
       "| Premium   | 4584.258 |\n",
       "| Ideal     | 3457.542 |\n",
       "\n"
      ],
      "text/plain": [
       "  cut       price   \n",
       "1 Fair      4358.758\n",
       "2 Good      3928.864\n",
       "3 Very Good 3981.760\n",
       "4 Premium   4584.258\n",
       "5 Ideal     3457.542"
      ]
     },
     "metadata": {},
     "output_type": "display_data"
    },
    {
     "data": {
      "text/html": [
       "<table class=\"dataframe\">\n",
       "<caption>A tibble: 5 × 2</caption>\n",
       "<thead>\n",
       "\t<tr><th scope=col>cut</th><th scope=col>avgPrice</th></tr>\n",
       "\t<tr><th scope=col>&lt;ord&gt;</th><th scope=col>&lt;dbl&gt;</th></tr>\n",
       "</thead>\n",
       "<tbody>\n",
       "\t<tr><td>Fair     </td><td>4358.758</td></tr>\n",
       "\t<tr><td>Good     </td><td>3928.864</td></tr>\n",
       "\t<tr><td>Very Good</td><td>3981.760</td></tr>\n",
       "\t<tr><td>Premium  </td><td>4584.258</td></tr>\n",
       "\t<tr><td>Ideal    </td><td>3457.542</td></tr>\n",
       "</tbody>\n",
       "</table>\n"
      ],
      "text/latex": [
       "A tibble: 5 × 2\n",
       "\\begin{tabular}{ll}\n",
       " cut & avgPrice\\\\\n",
       " <ord> & <dbl>\\\\\n",
       "\\hline\n",
       "\t Fair      & 4358.758\\\\\n",
       "\t Good      & 3928.864\\\\\n",
       "\t Very Good & 3981.760\\\\\n",
       "\t Premium   & 4584.258\\\\\n",
       "\t Ideal     & 3457.542\\\\\n",
       "\\end{tabular}\n"
      ],
      "text/markdown": [
       "\n",
       "A tibble: 5 × 2\n",
       "\n",
       "| cut &lt;ord&gt; | avgPrice &lt;dbl&gt; |\n",
       "|---|---|\n",
       "| Fair      | 4358.758 |\n",
       "| Good      | 3928.864 |\n",
       "| Very Good | 3981.760 |\n",
       "| Premium   | 4584.258 |\n",
       "| Ideal     | 3457.542 |\n",
       "\n"
      ],
      "text/plain": [
       "  cut       avgPrice\n",
       "1 Fair      4358.758\n",
       "2 Good      3928.864\n",
       "3 Very Good 3981.760\n",
       "4 Premium   4584.258\n",
       "5 Ideal     3457.542"
      ]
     },
     "metadata": {},
     "output_type": "display_data"
    }
   ],
   "source": [
    "# cut 기준으로 평균 price를 집계\n",
    "aggregate(diamonds$price, by=list(diamonds$cut), FUN=mean)\n",
    "aggregate(price ~ cut, diamonds, FUN=mean)\n",
    "diamonds %>% group_by(cut) %>% summarise(avgPrice=mean(price))"
   ]
  },
  {
   "cell_type": "code",
   "execution_count": 192,
   "id": "153287ef-a22b-4d03-9804-51cac44e722f",
   "metadata": {},
   "outputs": [
    {
     "data": {
      "text/html": [
       "<table class=\"dataframe\">\n",
       "<caption>A data.frame: 35 × 3</caption>\n",
       "<thead>\n",
       "\t<tr><th scope=col>cut</th><th scope=col>color</th><th scope=col>price</th></tr>\n",
       "\t<tr><th scope=col>&lt;ord&gt;</th><th scope=col>&lt;ord&gt;</th><th scope=col>&lt;dbl&gt;</th></tr>\n",
       "</thead>\n",
       "<tbody>\n",
       "\t<tr><td>Fair     </td><td>D</td><td>4291.061</td></tr>\n",
       "\t<tr><td>Good     </td><td>D</td><td>3405.382</td></tr>\n",
       "\t<tr><td>Very Good</td><td>D</td><td>3470.467</td></tr>\n",
       "\t<tr><td>Premium  </td><td>D</td><td>3631.293</td></tr>\n",
       "\t<tr><td>Ideal    </td><td>D</td><td>2629.095</td></tr>\n",
       "\t<tr><td>Fair     </td><td>E</td><td>3682.312</td></tr>\n",
       "\t<tr><td>Good     </td><td>E</td><td>3423.644</td></tr>\n",
       "\t<tr><td>Very Good</td><td>E</td><td>3214.652</td></tr>\n",
       "\t<tr><td>Premium  </td><td>E</td><td>3538.914</td></tr>\n",
       "\t<tr><td>Ideal    </td><td>E</td><td>2597.550</td></tr>\n",
       "\t<tr><td>Fair     </td><td>F</td><td>3827.003</td></tr>\n",
       "\t<tr><td>Good     </td><td>F</td><td>3495.750</td></tr>\n",
       "\t<tr><td>Very Good</td><td>F</td><td>3778.820</td></tr>\n",
       "\t<tr><td>Premium  </td><td>F</td><td>4324.890</td></tr>\n",
       "\t<tr><td>Ideal    </td><td>F</td><td>3374.939</td></tr>\n",
       "\t<tr><td>Fair     </td><td>G</td><td>4239.255</td></tr>\n",
       "\t<tr><td>Good     </td><td>G</td><td>4123.482</td></tr>\n",
       "\t<tr><td>Very Good</td><td>G</td><td>3872.754</td></tr>\n",
       "\t<tr><td>Premium  </td><td>G</td><td>4500.742</td></tr>\n",
       "\t<tr><td>Ideal    </td><td>G</td><td>3720.706</td></tr>\n",
       "\t<tr><td>Fair     </td><td>H</td><td>5135.683</td></tr>\n",
       "\t<tr><td>Good     </td><td>H</td><td>4276.255</td></tr>\n",
       "\t<tr><td>Very Good</td><td>H</td><td>4535.390</td></tr>\n",
       "\t<tr><td>Premium  </td><td>H</td><td>5216.707</td></tr>\n",
       "\t<tr><td>Ideal    </td><td>H</td><td>3889.335</td></tr>\n",
       "\t<tr><td>Fair     </td><td>I</td><td>4685.446</td></tr>\n",
       "\t<tr><td>Good     </td><td>I</td><td>5078.533</td></tr>\n",
       "\t<tr><td>Very Good</td><td>I</td><td>5255.880</td></tr>\n",
       "\t<tr><td>Premium  </td><td>I</td><td>5946.181</td></tr>\n",
       "\t<tr><td>Ideal    </td><td>I</td><td>4451.970</td></tr>\n",
       "\t<tr><td>Fair     </td><td>J</td><td>4975.655</td></tr>\n",
       "\t<tr><td>Good     </td><td>J</td><td>4574.173</td></tr>\n",
       "\t<tr><td>Very Good</td><td>J</td><td>5103.513</td></tr>\n",
       "\t<tr><td>Premium  </td><td>J</td><td>6294.592</td></tr>\n",
       "\t<tr><td>Ideal    </td><td>J</td><td>4918.186</td></tr>\n",
       "</tbody>\n",
       "</table>\n"
      ],
      "text/latex": [
       "A data.frame: 35 × 3\n",
       "\\begin{tabular}{lll}\n",
       " cut & color & price\\\\\n",
       " <ord> & <ord> & <dbl>\\\\\n",
       "\\hline\n",
       "\t Fair      & D & 4291.061\\\\\n",
       "\t Good      & D & 3405.382\\\\\n",
       "\t Very Good & D & 3470.467\\\\\n",
       "\t Premium   & D & 3631.293\\\\\n",
       "\t Ideal     & D & 2629.095\\\\\n",
       "\t Fair      & E & 3682.312\\\\\n",
       "\t Good      & E & 3423.644\\\\\n",
       "\t Very Good & E & 3214.652\\\\\n",
       "\t Premium   & E & 3538.914\\\\\n",
       "\t Ideal     & E & 2597.550\\\\\n",
       "\t Fair      & F & 3827.003\\\\\n",
       "\t Good      & F & 3495.750\\\\\n",
       "\t Very Good & F & 3778.820\\\\\n",
       "\t Premium   & F & 4324.890\\\\\n",
       "\t Ideal     & F & 3374.939\\\\\n",
       "\t Fair      & G & 4239.255\\\\\n",
       "\t Good      & G & 4123.482\\\\\n",
       "\t Very Good & G & 3872.754\\\\\n",
       "\t Premium   & G & 4500.742\\\\\n",
       "\t Ideal     & G & 3720.706\\\\\n",
       "\t Fair      & H & 5135.683\\\\\n",
       "\t Good      & H & 4276.255\\\\\n",
       "\t Very Good & H & 4535.390\\\\\n",
       "\t Premium   & H & 5216.707\\\\\n",
       "\t Ideal     & H & 3889.335\\\\\n",
       "\t Fair      & I & 4685.446\\\\\n",
       "\t Good      & I & 5078.533\\\\\n",
       "\t Very Good & I & 5255.880\\\\\n",
       "\t Premium   & I & 5946.181\\\\\n",
       "\t Ideal     & I & 4451.970\\\\\n",
       "\t Fair      & J & 4975.655\\\\\n",
       "\t Good      & J & 4574.173\\\\\n",
       "\t Very Good & J & 5103.513\\\\\n",
       "\t Premium   & J & 6294.592\\\\\n",
       "\t Ideal     & J & 4918.186\\\\\n",
       "\\end{tabular}\n"
      ],
      "text/markdown": [
       "\n",
       "A data.frame: 35 × 3\n",
       "\n",
       "| cut &lt;ord&gt; | color &lt;ord&gt; | price &lt;dbl&gt; |\n",
       "|---|---|---|\n",
       "| Fair      | D | 4291.061 |\n",
       "| Good      | D | 3405.382 |\n",
       "| Very Good | D | 3470.467 |\n",
       "| Premium   | D | 3631.293 |\n",
       "| Ideal     | D | 2629.095 |\n",
       "| Fair      | E | 3682.312 |\n",
       "| Good      | E | 3423.644 |\n",
       "| Very Good | E | 3214.652 |\n",
       "| Premium   | E | 3538.914 |\n",
       "| Ideal     | E | 2597.550 |\n",
       "| Fair      | F | 3827.003 |\n",
       "| Good      | F | 3495.750 |\n",
       "| Very Good | F | 3778.820 |\n",
       "| Premium   | F | 4324.890 |\n",
       "| Ideal     | F | 3374.939 |\n",
       "| Fair      | G | 4239.255 |\n",
       "| Good      | G | 4123.482 |\n",
       "| Very Good | G | 3872.754 |\n",
       "| Premium   | G | 4500.742 |\n",
       "| Ideal     | G | 3720.706 |\n",
       "| Fair      | H | 5135.683 |\n",
       "| Good      | H | 4276.255 |\n",
       "| Very Good | H | 4535.390 |\n",
       "| Premium   | H | 5216.707 |\n",
       "| Ideal     | H | 3889.335 |\n",
       "| Fair      | I | 4685.446 |\n",
       "| Good      | I | 5078.533 |\n",
       "| Very Good | I | 5255.880 |\n",
       "| Premium   | I | 5946.181 |\n",
       "| Ideal     | I | 4451.970 |\n",
       "| Fair      | J | 4975.655 |\n",
       "| Good      | J | 4574.173 |\n",
       "| Very Good | J | 5103.513 |\n",
       "| Premium   | J | 6294.592 |\n",
       "| Ideal     | J | 4918.186 |\n",
       "\n"
      ],
      "text/plain": [
       "   cut       color price   \n",
       "1  Fair      D     4291.061\n",
       "2  Good      D     3405.382\n",
       "3  Very Good D     3470.467\n",
       "4  Premium   D     3631.293\n",
       "5  Ideal     D     2629.095\n",
       "6  Fair      E     3682.312\n",
       "7  Good      E     3423.644\n",
       "8  Very Good E     3214.652\n",
       "9  Premium   E     3538.914\n",
       "10 Ideal     E     2597.550\n",
       "11 Fair      F     3827.003\n",
       "12 Good      F     3495.750\n",
       "13 Very Good F     3778.820\n",
       "14 Premium   F     4324.890\n",
       "15 Ideal     F     3374.939\n",
       "16 Fair      G     4239.255\n",
       "17 Good      G     4123.482\n",
       "18 Very Good G     3872.754\n",
       "19 Premium   G     4500.742\n",
       "20 Ideal     G     3720.706\n",
       "21 Fair      H     5135.683\n",
       "22 Good      H     4276.255\n",
       "23 Very Good H     4535.390\n",
       "24 Premium   H     5216.707\n",
       "25 Ideal     H     3889.335\n",
       "26 Fair      I     4685.446\n",
       "27 Good      I     5078.533\n",
       "28 Very Good I     5255.880\n",
       "29 Premium   I     5946.181\n",
       "30 Ideal     I     4451.970\n",
       "31 Fair      J     4975.655\n",
       "32 Good      J     4574.173\n",
       "33 Very Good J     5103.513\n",
       "34 Premium   J     6294.592\n",
       "35 Ideal     J     4918.186"
      ]
     },
     "metadata": {},
     "output_type": "display_data"
    },
    {
     "data": {
      "text/html": [
       "<table class=\"dataframe\">\n",
       "<caption>A data.frame: 35 × 3</caption>\n",
       "<thead>\n",
       "\t<tr><th scope=col>cut</th><th scope=col>color</th><th scope=col>carat</th></tr>\n",
       "\t<tr><th scope=col>&lt;ord&gt;</th><th scope=col>&lt;ord&gt;</th><th scope=col>&lt;dbl&gt;</th></tr>\n",
       "</thead>\n",
       "<tbody>\n",
       "\t<tr><td>Fair     </td><td>D</td><td> 149.98</td></tr>\n",
       "\t<tr><td>Good     </td><td>D</td><td> 492.87</td></tr>\n",
       "\t<tr><td>Very Good</td><td>D</td><td>1053.69</td></tr>\n",
       "\t<tr><td>Premium  </td><td>D</td><td>1156.64</td></tr>\n",
       "\t<tr><td>Ideal    </td><td>D</td><td>1603.38</td></tr>\n",
       "\t<tr><td>Fair     </td><td>E</td><td> 191.88</td></tr>\n",
       "\t<tr><td>Good     </td><td>E</td><td> 695.21</td></tr>\n",
       "\t<tr><td>Very Good</td><td>E</td><td>1623.16</td></tr>\n",
       "\t<tr><td>Premium  </td><td>E</td><td>1677.37</td></tr>\n",
       "\t<tr><td>Ideal    </td><td>E</td><td>2257.50</td></tr>\n",
       "\t<tr><td>Fair     </td><td>F</td><td> 282.27</td></tr>\n",
       "\t<tr><td>Good     </td><td>F</td><td> 705.32</td></tr>\n",
       "\t<tr><td>Very Good</td><td>F</td><td>1603.44</td></tr>\n",
       "\t<tr><td>Premium  </td><td>F</td><td>1927.82</td></tr>\n",
       "\t<tr><td>Ideal    </td><td>F</td><td>2509.20</td></tr>\n",
       "\t<tr><td>Fair     </td><td>G</td><td> 321.48</td></tr>\n",
       "\t<tr><td>Good     </td><td>G</td><td> 741.13</td></tr>\n",
       "\t<tr><td>Very Good</td><td>G</td><td>1762.87</td></tr>\n",
       "\t<tr><td>Premium  </td><td>G</td><td>2460.51</td></tr>\n",
       "\t<tr><td>Ideal    </td><td>G</td><td>3422.29</td></tr>\n",
       "\t<tr><td>Fair     </td><td>H</td><td> 369.41</td></tr>\n",
       "\t<tr><td>Good     </td><td>H</td><td> 642.14</td></tr>\n",
       "\t<tr><td>Very Good</td><td>H</td><td>1670.69</td></tr>\n",
       "\t<tr><td>Premium  </td><td>H</td><td>2398.82</td></tr>\n",
       "\t<tr><td>Ideal    </td><td>H</td><td>2490.52</td></tr>\n",
       "\t<tr><td>Fair     </td><td>I</td><td> 209.66</td></tr>\n",
       "\t<tr><td>Good     </td><td>I</td><td> 551.87</td></tr>\n",
       "\t<tr><td>Very Good</td><td>I</td><td>1260.53</td></tr>\n",
       "\t<tr><td>Premium  </td><td>I</td><td>1634.97</td></tr>\n",
       "\t<tr><td>Ideal    </td><td>I</td><td>1910.97</td></tr>\n",
       "\t<tr><td>Fair     </td><td>J</td><td> 159.60</td></tr>\n",
       "\t<tr><td>Good     </td><td>J</td><td> 337.56</td></tr>\n",
       "\t<tr><td>Very Good</td><td>J</td><td> 768.32</td></tr>\n",
       "\t<tr><td>Premium  </td><td>J</td><td>1044.82</td></tr>\n",
       "\t<tr><td>Ideal    </td><td>J</td><td> 952.98</td></tr>\n",
       "</tbody>\n",
       "</table>\n"
      ],
      "text/latex": [
       "A data.frame: 35 × 3\n",
       "\\begin{tabular}{lll}\n",
       " cut & color & carat\\\\\n",
       " <ord> & <ord> & <dbl>\\\\\n",
       "\\hline\n",
       "\t Fair      & D &  149.98\\\\\n",
       "\t Good      & D &  492.87\\\\\n",
       "\t Very Good & D & 1053.69\\\\\n",
       "\t Premium   & D & 1156.64\\\\\n",
       "\t Ideal     & D & 1603.38\\\\\n",
       "\t Fair      & E &  191.88\\\\\n",
       "\t Good      & E &  695.21\\\\\n",
       "\t Very Good & E & 1623.16\\\\\n",
       "\t Premium   & E & 1677.37\\\\\n",
       "\t Ideal     & E & 2257.50\\\\\n",
       "\t Fair      & F &  282.27\\\\\n",
       "\t Good      & F &  705.32\\\\\n",
       "\t Very Good & F & 1603.44\\\\\n",
       "\t Premium   & F & 1927.82\\\\\n",
       "\t Ideal     & F & 2509.20\\\\\n",
       "\t Fair      & G &  321.48\\\\\n",
       "\t Good      & G &  741.13\\\\\n",
       "\t Very Good & G & 1762.87\\\\\n",
       "\t Premium   & G & 2460.51\\\\\n",
       "\t Ideal     & G & 3422.29\\\\\n",
       "\t Fair      & H &  369.41\\\\\n",
       "\t Good      & H &  642.14\\\\\n",
       "\t Very Good & H & 1670.69\\\\\n",
       "\t Premium   & H & 2398.82\\\\\n",
       "\t Ideal     & H & 2490.52\\\\\n",
       "\t Fair      & I &  209.66\\\\\n",
       "\t Good      & I &  551.87\\\\\n",
       "\t Very Good & I & 1260.53\\\\\n",
       "\t Premium   & I & 1634.97\\\\\n",
       "\t Ideal     & I & 1910.97\\\\\n",
       "\t Fair      & J &  159.60\\\\\n",
       "\t Good      & J &  337.56\\\\\n",
       "\t Very Good & J &  768.32\\\\\n",
       "\t Premium   & J & 1044.82\\\\\n",
       "\t Ideal     & J &  952.98\\\\\n",
       "\\end{tabular}\n"
      ],
      "text/markdown": [
       "\n",
       "A data.frame: 35 × 3\n",
       "\n",
       "| cut &lt;ord&gt; | color &lt;ord&gt; | carat &lt;dbl&gt; |\n",
       "|---|---|---|\n",
       "| Fair      | D |  149.98 |\n",
       "| Good      | D |  492.87 |\n",
       "| Very Good | D | 1053.69 |\n",
       "| Premium   | D | 1156.64 |\n",
       "| Ideal     | D | 1603.38 |\n",
       "| Fair      | E |  191.88 |\n",
       "| Good      | E |  695.21 |\n",
       "| Very Good | E | 1623.16 |\n",
       "| Premium   | E | 1677.37 |\n",
       "| Ideal     | E | 2257.50 |\n",
       "| Fair      | F |  282.27 |\n",
       "| Good      | F |  705.32 |\n",
       "| Very Good | F | 1603.44 |\n",
       "| Premium   | F | 1927.82 |\n",
       "| Ideal     | F | 2509.20 |\n",
       "| Fair      | G |  321.48 |\n",
       "| Good      | G |  741.13 |\n",
       "| Very Good | G | 1762.87 |\n",
       "| Premium   | G | 2460.51 |\n",
       "| Ideal     | G | 3422.29 |\n",
       "| Fair      | H |  369.41 |\n",
       "| Good      | H |  642.14 |\n",
       "| Very Good | H | 1670.69 |\n",
       "| Premium   | H | 2398.82 |\n",
       "| Ideal     | H | 2490.52 |\n",
       "| Fair      | I |  209.66 |\n",
       "| Good      | I |  551.87 |\n",
       "| Very Good | I | 1260.53 |\n",
       "| Premium   | I | 1634.97 |\n",
       "| Ideal     | I | 1910.97 |\n",
       "| Fair      | J |  159.60 |\n",
       "| Good      | J |  337.56 |\n",
       "| Very Good | J |  768.32 |\n",
       "| Premium   | J | 1044.82 |\n",
       "| Ideal     | J |  952.98 |\n",
       "\n"
      ],
      "text/plain": [
       "   cut       color carat  \n",
       "1  Fair      D      149.98\n",
       "2  Good      D      492.87\n",
       "3  Very Good D     1053.69\n",
       "4  Premium   D     1156.64\n",
       "5  Ideal     D     1603.38\n",
       "6  Fair      E      191.88\n",
       "7  Good      E      695.21\n",
       "8  Very Good E     1623.16\n",
       "9  Premium   E     1677.37\n",
       "10 Ideal     E     2257.50\n",
       "11 Fair      F      282.27\n",
       "12 Good      F      705.32\n",
       "13 Very Good F     1603.44\n",
       "14 Premium   F     1927.82\n",
       "15 Ideal     F     2509.20\n",
       "16 Fair      G      321.48\n",
       "17 Good      G      741.13\n",
       "18 Very Good G     1762.87\n",
       "19 Premium   G     2460.51\n",
       "20 Ideal     G     3422.29\n",
       "21 Fair      H      369.41\n",
       "22 Good      H      642.14\n",
       "23 Very Good H     1670.69\n",
       "24 Premium   H     2398.82\n",
       "25 Ideal     H     2490.52\n",
       "26 Fair      I      209.66\n",
       "27 Good      I      551.87\n",
       "28 Very Good I     1260.53\n",
       "29 Premium   I     1634.97\n",
       "30 Ideal     I     1910.97\n",
       "31 Fair      J      159.60\n",
       "32 Good      J      337.56\n",
       "33 Very Good J      768.32\n",
       "34 Premium   J     1044.82\n",
       "35 Ideal     J      952.98"
      ]
     },
     "metadata": {},
     "output_type": "display_data"
    }
   ],
   "source": [
    "# cut, color 기준으로 평균 가격을 avgPrice로, 총 carat을 sumCarat이라는 이름으로 집계\n",
    "aggregate(price ~ cut + color, diamonds, FUN=mean)\n",
    "aggregate(carat ~ cut + color, diamonds, FUN=sum)"
   ]
  },
  {
   "cell_type": "code",
   "execution_count": 204,
   "id": "f2338b0a-c297-4704-b616-bd0e605d4fb4",
   "metadata": {},
   "outputs": [],
   "source": [
    "# aggregate 함수에 집계함수를 2개 이상 쓸려면 plyr 패키지의 each 함수를 사용해야 함\n",
    "# 단, 하나의 집계대상 컬럼에만 적용가능\n",
    "# 터미널에서 install.packages('plyr') 먼저 설치\n",
    "library(plyr)"
   ]
  },
  {
   "cell_type": "code",
   "execution_count": 205,
   "id": "a71a7d0d-c837-4190-91b9-791806716e76",
   "metadata": {},
   "outputs": [
    {
     "data": {
      "text/html": [
       "<table class=\"dataframe\">\n",
       "<caption>A data.frame: 35 × 3</caption>\n",
       "<thead>\n",
       "\t<tr><th scope=col>cut</th><th scope=col>color</th><th scope=col>price</th></tr>\n",
       "\t<tr><th scope=col>&lt;ord&gt;</th><th scope=col>&lt;ord&gt;</th><th scope=col>&lt;dbl[,2]&gt;</th></tr>\n",
       "</thead>\n",
       "<tbody>\n",
       "\t<tr><td>Fair     </td><td>D</td><td>4291.061,   699443</td></tr>\n",
       "\t<tr><td>Good     </td><td>D</td><td>3405.382,  2254363</td></tr>\n",
       "\t<tr><td>Very Good</td><td>D</td><td>3470.467,  5250817</td></tr>\n",
       "\t<tr><td>Premium  </td><td>D</td><td>3631.293,  5820962</td></tr>\n",
       "\t<tr><td>Ideal    </td><td>D</td><td>2629.095,  7450854</td></tr>\n",
       "\t<tr><td>Fair     </td><td>E</td><td>3682.312,   824838</td></tr>\n",
       "\t<tr><td>Good     </td><td>E</td><td>3423.644,  3194260</td></tr>\n",
       "\t<tr><td>Very Good</td><td>E</td><td>3214.652,  7715165</td></tr>\n",
       "\t<tr><td>Premium  </td><td>E</td><td>3538.914,  8270443</td></tr>\n",
       "\t<tr><td>Ideal    </td><td>E</td><td>2597.550, 10138238</td></tr>\n",
       "\t<tr><td>Fair     </td><td>F</td><td>3827.003,  1194025</td></tr>\n",
       "\t<tr><td>Good     </td><td>F</td><td>3495.750,  3177637</td></tr>\n",
       "\t<tr><td>Very Good</td><td>F</td><td>3778.820,  8177367</td></tr>\n",
       "\t<tr><td>Premium  </td><td>F</td><td>4324.890, 10081319</td></tr>\n",
       "\t<tr><td>Ideal    </td><td>F</td><td>3374.939, 12912518</td></tr>\n",
       "\t<tr><td>Fair     </td><td>G</td><td>4239.255,  1331126</td></tr>\n",
       "\t<tr><td>Good     </td><td>G</td><td>4123.482,  3591553</td></tr>\n",
       "\t<tr><td>Very Good</td><td>G</td><td>3872.754,  8903461</td></tr>\n",
       "\t<tr><td>Premium  </td><td>G</td><td>4500.742, 13160170</td></tr>\n",
       "\t<tr><td>Ideal    </td><td>G</td><td>3720.706, 18171930</td></tr>\n",
       "\t<tr><td>Fair     </td><td>H</td><td>5135.683,  1556112</td></tr>\n",
       "\t<tr><td>Good     </td><td>H</td><td>4276.255,  3001931</td></tr>\n",
       "\t<tr><td>Very Good</td><td>H</td><td>4535.390,  8272552</td></tr>\n",
       "\t<tr><td>Premium  </td><td>H</td><td>5216.707, 12311428</td></tr>\n",
       "\t<tr><td>Ideal    </td><td>H</td><td>3889.335, 12115278</td></tr>\n",
       "\t<tr><td>Fair     </td><td>I</td><td>4685.446,   819953</td></tr>\n",
       "\t<tr><td>Good     </td><td>I</td><td>5078.533,  2650994</td></tr>\n",
       "\t<tr><td>Very Good</td><td>I</td><td>5255.880,  6328079</td></tr>\n",
       "\t<tr><td>Premium  </td><td>I</td><td>5946.181,  8491146</td></tr>\n",
       "\t<tr><td>Ideal    </td><td>I</td><td>4451.970,  9317974</td></tr>\n",
       "\t<tr><td>Fair     </td><td>J</td><td>4975.655,   592103</td></tr>\n",
       "\t<tr><td>Good     </td><td>J</td><td>4574.173,  1404271</td></tr>\n",
       "\t<tr><td>Very Good</td><td>J</td><td>5103.513,  3460182</td></tr>\n",
       "\t<tr><td>Premium  </td><td>J</td><td>6294.592,  5086030</td></tr>\n",
       "\t<tr><td>Ideal    </td><td>J</td><td>4918.186,  4406695</td></tr>\n",
       "</tbody>\n",
       "</table>\n"
      ],
      "text/latex": [
       "A data.frame: 35 × 3\n",
       "\\begin{tabular}{lll}\n",
       " cut & color & price\\\\\n",
       " <ord> & <ord> & <dbl{[},2{]}>\\\\\n",
       "\\hline\n",
       "\t Fair      & D & 4291.061,   699443\\\\\n",
       "\t Good      & D & 3405.382,  2254363\\\\\n",
       "\t Very Good & D & 3470.467,  5250817\\\\\n",
       "\t Premium   & D & 3631.293,  5820962\\\\\n",
       "\t Ideal     & D & 2629.095,  7450854\\\\\n",
       "\t Fair      & E & 3682.312,   824838\\\\\n",
       "\t Good      & E & 3423.644,  3194260\\\\\n",
       "\t Very Good & E & 3214.652,  7715165\\\\\n",
       "\t Premium   & E & 3538.914,  8270443\\\\\n",
       "\t Ideal     & E & 2597.550, 10138238\\\\\n",
       "\t Fair      & F & 3827.003,  1194025\\\\\n",
       "\t Good      & F & 3495.750,  3177637\\\\\n",
       "\t Very Good & F & 3778.820,  8177367\\\\\n",
       "\t Premium   & F & 4324.890, 10081319\\\\\n",
       "\t Ideal     & F & 3374.939, 12912518\\\\\n",
       "\t Fair      & G & 4239.255,  1331126\\\\\n",
       "\t Good      & G & 4123.482,  3591553\\\\\n",
       "\t Very Good & G & 3872.754,  8903461\\\\\n",
       "\t Premium   & G & 4500.742, 13160170\\\\\n",
       "\t Ideal     & G & 3720.706, 18171930\\\\\n",
       "\t Fair      & H & 5135.683,  1556112\\\\\n",
       "\t Good      & H & 4276.255,  3001931\\\\\n",
       "\t Very Good & H & 4535.390,  8272552\\\\\n",
       "\t Premium   & H & 5216.707, 12311428\\\\\n",
       "\t Ideal     & H & 3889.335, 12115278\\\\\n",
       "\t Fair      & I & 4685.446,   819953\\\\\n",
       "\t Good      & I & 5078.533,  2650994\\\\\n",
       "\t Very Good & I & 5255.880,  6328079\\\\\n",
       "\t Premium   & I & 5946.181,  8491146\\\\\n",
       "\t Ideal     & I & 4451.970,  9317974\\\\\n",
       "\t Fair      & J & 4975.655,   592103\\\\\n",
       "\t Good      & J & 4574.173,  1404271\\\\\n",
       "\t Very Good & J & 5103.513,  3460182\\\\\n",
       "\t Premium   & J & 6294.592,  5086030\\\\\n",
       "\t Ideal     & J & 4918.186,  4406695\\\\\n",
       "\\end{tabular}\n"
      ],
      "text/markdown": [
       "\n",
       "A data.frame: 35 × 3\n",
       "\n",
       "| cut &lt;ord&gt; | color &lt;ord&gt; | price &lt;dbl[,2]&gt; |\n",
       "|---|---|---|\n",
       "| Fair      | D | 4291.061,   699443 |\n",
       "| Good      | D | 3405.382,  2254363 |\n",
       "| Very Good | D | 3470.467,  5250817 |\n",
       "| Premium   | D | 3631.293,  5820962 |\n",
       "| Ideal     | D | 2629.095,  7450854 |\n",
       "| Fair      | E | 3682.312,   824838 |\n",
       "| Good      | E | 3423.644,  3194260 |\n",
       "| Very Good | E | 3214.652,  7715165 |\n",
       "| Premium   | E | 3538.914,  8270443 |\n",
       "| Ideal     | E | 2597.550, 10138238 |\n",
       "| Fair      | F | 3827.003,  1194025 |\n",
       "| Good      | F | 3495.750,  3177637 |\n",
       "| Very Good | F | 3778.820,  8177367 |\n",
       "| Premium   | F | 4324.890, 10081319 |\n",
       "| Ideal     | F | 3374.939, 12912518 |\n",
       "| Fair      | G | 4239.255,  1331126 |\n",
       "| Good      | G | 4123.482,  3591553 |\n",
       "| Very Good | G | 3872.754,  8903461 |\n",
       "| Premium   | G | 4500.742, 13160170 |\n",
       "| Ideal     | G | 3720.706, 18171930 |\n",
       "| Fair      | H | 5135.683,  1556112 |\n",
       "| Good      | H | 4276.255,  3001931 |\n",
       "| Very Good | H | 4535.390,  8272552 |\n",
       "| Premium   | H | 5216.707, 12311428 |\n",
       "| Ideal     | H | 3889.335, 12115278 |\n",
       "| Fair      | I | 4685.446,   819953 |\n",
       "| Good      | I | 5078.533,  2650994 |\n",
       "| Very Good | I | 5255.880,  6328079 |\n",
       "| Premium   | I | 5946.181,  8491146 |\n",
       "| Ideal     | I | 4451.970,  9317974 |\n",
       "| Fair      | J | 4975.655,   592103 |\n",
       "| Good      | J | 4574.173,  1404271 |\n",
       "| Very Good | J | 5103.513,  3460182 |\n",
       "| Premium   | J | 6294.592,  5086030 |\n",
       "| Ideal     | J | 4918.186,  4406695 |\n",
       "\n"
      ],
      "text/plain": [
       "   cut       color price             \n",
       "1  Fair      D     4291.061,   699443\n",
       "2  Good      D     3405.382,  2254363\n",
       "3  Very Good D     3470.467,  5250817\n",
       "4  Premium   D     3631.293,  5820962\n",
       "5  Ideal     D     2629.095,  7450854\n",
       "6  Fair      E     3682.312,   824838\n",
       "7  Good      E     3423.644,  3194260\n",
       "8  Very Good E     3214.652,  7715165\n",
       "9  Premium   E     3538.914,  8270443\n",
       "10 Ideal     E     2597.550, 10138238\n",
       "11 Fair      F     3827.003,  1194025\n",
       "12 Good      F     3495.750,  3177637\n",
       "13 Very Good F     3778.820,  8177367\n",
       "14 Premium   F     4324.890, 10081319\n",
       "15 Ideal     F     3374.939, 12912518\n",
       "16 Fair      G     4239.255,  1331126\n",
       "17 Good      G     4123.482,  3591553\n",
       "18 Very Good G     3872.754,  8903461\n",
       "19 Premium   G     4500.742, 13160170\n",
       "20 Ideal     G     3720.706, 18171930\n",
       "21 Fair      H     5135.683,  1556112\n",
       "22 Good      H     4276.255,  3001931\n",
       "23 Very Good H     4535.390,  8272552\n",
       "24 Premium   H     5216.707, 12311428\n",
       "25 Ideal     H     3889.335, 12115278\n",
       "26 Fair      I     4685.446,   819953\n",
       "27 Good      I     5078.533,  2650994\n",
       "28 Very Good I     5255.880,  6328079\n",
       "29 Premium   I     5946.181,  8491146\n",
       "30 Ideal     I     4451.970,  9317974\n",
       "31 Fair      J     4975.655,   592103\n",
       "32 Good      J     4574.173,  1404271\n",
       "33 Very Good J     5103.513,  3460182\n",
       "34 Premium   J     6294.592,  5086030\n",
       "35 Ideal     J     4918.186,  4406695"
      ]
     },
     "metadata": {},
     "output_type": "display_data"
    }
   ],
   "source": [
    "aggregate(price ~ cut + color, diamonds, each(mean, sum))"
   ]
  },
  {
   "cell_type": "code",
   "execution_count": 206,
   "id": "d93b0f09-9102-4d80-97b2-6e8e03eea33b",
   "metadata": {},
   "outputs": [],
   "source": [
    "# plyr 패키지를 메모리에서 제거\n",
    "detach('package:plyr', unload=T)"
   ]
  },
  {
   "cell_type": "code",
   "execution_count": 207,
   "id": "dc725754-5887-4775-bb00-300230721042",
   "metadata": {},
   "outputs": [],
   "source": [
    "library(magrittr)"
   ]
  },
  {
   "cell_type": "code",
   "execution_count": 216,
   "id": "43aab3cc-7b5a-485a-8c97-c9eec1443de1",
   "metadata": {},
   "outputs": [
    {
     "name": "stderr",
     "output_type": "stream",
     "text": [
      "`summarise()` has grouped output by 'cut'. You can override using the `.groups` argument.\n",
      "\n"
     ]
    },
    {
     "data": {
      "text/html": [
       "<table class=\"dataframe\">\n",
       "<caption>A grouped_df: 35 × 4</caption>\n",
       "<thead>\n",
       "\t<tr><th scope=col>cut</th><th scope=col>color</th><th scope=col>avgPrice</th><th scope=col>sumCarat</th></tr>\n",
       "\t<tr><th scope=col>&lt;ord&gt;</th><th scope=col>&lt;ord&gt;</th><th scope=col>&lt;dbl&gt;</th><th scope=col>&lt;dbl&gt;</th></tr>\n",
       "</thead>\n",
       "<tbody>\n",
       "\t<tr><td>Fair     </td><td>D</td><td>4291.061</td><td> 149.98</td></tr>\n",
       "\t<tr><td>Fair     </td><td>E</td><td>3682.312</td><td> 191.88</td></tr>\n",
       "\t<tr><td>Fair     </td><td>F</td><td>3827.003</td><td> 282.27</td></tr>\n",
       "\t<tr><td>Fair     </td><td>G</td><td>4239.255</td><td> 321.48</td></tr>\n",
       "\t<tr><td>Fair     </td><td>H</td><td>5135.683</td><td> 369.41</td></tr>\n",
       "\t<tr><td>Fair     </td><td>I</td><td>4685.446</td><td> 209.66</td></tr>\n",
       "\t<tr><td>Fair     </td><td>J</td><td>4975.655</td><td> 159.60</td></tr>\n",
       "\t<tr><td>Good     </td><td>D</td><td>3405.382</td><td> 492.87</td></tr>\n",
       "\t<tr><td>Good     </td><td>E</td><td>3423.644</td><td> 695.21</td></tr>\n",
       "\t<tr><td>Good     </td><td>F</td><td>3495.750</td><td> 705.32</td></tr>\n",
       "\t<tr><td>Good     </td><td>G</td><td>4123.482</td><td> 741.13</td></tr>\n",
       "\t<tr><td>Good     </td><td>H</td><td>4276.255</td><td> 642.14</td></tr>\n",
       "\t<tr><td>Good     </td><td>I</td><td>5078.533</td><td> 551.87</td></tr>\n",
       "\t<tr><td>Good     </td><td>J</td><td>4574.173</td><td> 337.56</td></tr>\n",
       "\t<tr><td>Very Good</td><td>D</td><td>3470.467</td><td>1053.69</td></tr>\n",
       "\t<tr><td>Very Good</td><td>E</td><td>3214.652</td><td>1623.16</td></tr>\n",
       "\t<tr><td>Very Good</td><td>F</td><td>3778.820</td><td>1603.44</td></tr>\n",
       "\t<tr><td>Very Good</td><td>G</td><td>3872.754</td><td>1762.87</td></tr>\n",
       "\t<tr><td>Very Good</td><td>H</td><td>4535.390</td><td>1670.69</td></tr>\n",
       "\t<tr><td>Very Good</td><td>I</td><td>5255.880</td><td>1260.53</td></tr>\n",
       "\t<tr><td>Very Good</td><td>J</td><td>5103.513</td><td> 768.32</td></tr>\n",
       "\t<tr><td>Premium  </td><td>D</td><td>3631.293</td><td>1156.64</td></tr>\n",
       "\t<tr><td>Premium  </td><td>E</td><td>3538.914</td><td>1677.37</td></tr>\n",
       "\t<tr><td>Premium  </td><td>F</td><td>4324.890</td><td>1927.82</td></tr>\n",
       "\t<tr><td>Premium  </td><td>G</td><td>4500.742</td><td>2460.51</td></tr>\n",
       "\t<tr><td>Premium  </td><td>H</td><td>5216.707</td><td>2398.82</td></tr>\n",
       "\t<tr><td>Premium  </td><td>I</td><td>5946.181</td><td>1634.97</td></tr>\n",
       "\t<tr><td>Premium  </td><td>J</td><td>6294.592</td><td>1044.82</td></tr>\n",
       "\t<tr><td>Ideal    </td><td>D</td><td>2629.095</td><td>1603.38</td></tr>\n",
       "\t<tr><td>Ideal    </td><td>E</td><td>2597.550</td><td>2257.50</td></tr>\n",
       "\t<tr><td>Ideal    </td><td>F</td><td>3374.939</td><td>2509.20</td></tr>\n",
       "\t<tr><td>Ideal    </td><td>G</td><td>3720.706</td><td>3422.29</td></tr>\n",
       "\t<tr><td>Ideal    </td><td>H</td><td>3889.335</td><td>2490.52</td></tr>\n",
       "\t<tr><td>Ideal    </td><td>I</td><td>4451.970</td><td>1910.97</td></tr>\n",
       "\t<tr><td>Ideal    </td><td>J</td><td>4918.186</td><td> 952.98</td></tr>\n",
       "</tbody>\n",
       "</table>\n"
      ],
      "text/latex": [
       "A grouped\\_df: 35 × 4\n",
       "\\begin{tabular}{llll}\n",
       " cut & color & avgPrice & sumCarat\\\\\n",
       " <ord> & <ord> & <dbl> & <dbl>\\\\\n",
       "\\hline\n",
       "\t Fair      & D & 4291.061 &  149.98\\\\\n",
       "\t Fair      & E & 3682.312 &  191.88\\\\\n",
       "\t Fair      & F & 3827.003 &  282.27\\\\\n",
       "\t Fair      & G & 4239.255 &  321.48\\\\\n",
       "\t Fair      & H & 5135.683 &  369.41\\\\\n",
       "\t Fair      & I & 4685.446 &  209.66\\\\\n",
       "\t Fair      & J & 4975.655 &  159.60\\\\\n",
       "\t Good      & D & 3405.382 &  492.87\\\\\n",
       "\t Good      & E & 3423.644 &  695.21\\\\\n",
       "\t Good      & F & 3495.750 &  705.32\\\\\n",
       "\t Good      & G & 4123.482 &  741.13\\\\\n",
       "\t Good      & H & 4276.255 &  642.14\\\\\n",
       "\t Good      & I & 5078.533 &  551.87\\\\\n",
       "\t Good      & J & 4574.173 &  337.56\\\\\n",
       "\t Very Good & D & 3470.467 & 1053.69\\\\\n",
       "\t Very Good & E & 3214.652 & 1623.16\\\\\n",
       "\t Very Good & F & 3778.820 & 1603.44\\\\\n",
       "\t Very Good & G & 3872.754 & 1762.87\\\\\n",
       "\t Very Good & H & 4535.390 & 1670.69\\\\\n",
       "\t Very Good & I & 5255.880 & 1260.53\\\\\n",
       "\t Very Good & J & 5103.513 &  768.32\\\\\n",
       "\t Premium   & D & 3631.293 & 1156.64\\\\\n",
       "\t Premium   & E & 3538.914 & 1677.37\\\\\n",
       "\t Premium   & F & 4324.890 & 1927.82\\\\\n",
       "\t Premium   & G & 4500.742 & 2460.51\\\\\n",
       "\t Premium   & H & 5216.707 & 2398.82\\\\\n",
       "\t Premium   & I & 5946.181 & 1634.97\\\\\n",
       "\t Premium   & J & 6294.592 & 1044.82\\\\\n",
       "\t Ideal     & D & 2629.095 & 1603.38\\\\\n",
       "\t Ideal     & E & 2597.550 & 2257.50\\\\\n",
       "\t Ideal     & F & 3374.939 & 2509.20\\\\\n",
       "\t Ideal     & G & 3720.706 & 3422.29\\\\\n",
       "\t Ideal     & H & 3889.335 & 2490.52\\\\\n",
       "\t Ideal     & I & 4451.970 & 1910.97\\\\\n",
       "\t Ideal     & J & 4918.186 &  952.98\\\\\n",
       "\\end{tabular}\n"
      ],
      "text/markdown": [
       "\n",
       "A grouped_df: 35 × 4\n",
       "\n",
       "| cut &lt;ord&gt; | color &lt;ord&gt; | avgPrice &lt;dbl&gt; | sumCarat &lt;dbl&gt; |\n",
       "|---|---|---|---|\n",
       "| Fair      | D | 4291.061 |  149.98 |\n",
       "| Fair      | E | 3682.312 |  191.88 |\n",
       "| Fair      | F | 3827.003 |  282.27 |\n",
       "| Fair      | G | 4239.255 |  321.48 |\n",
       "| Fair      | H | 5135.683 |  369.41 |\n",
       "| Fair      | I | 4685.446 |  209.66 |\n",
       "| Fair      | J | 4975.655 |  159.60 |\n",
       "| Good      | D | 3405.382 |  492.87 |\n",
       "| Good      | E | 3423.644 |  695.21 |\n",
       "| Good      | F | 3495.750 |  705.32 |\n",
       "| Good      | G | 4123.482 |  741.13 |\n",
       "| Good      | H | 4276.255 |  642.14 |\n",
       "| Good      | I | 5078.533 |  551.87 |\n",
       "| Good      | J | 4574.173 |  337.56 |\n",
       "| Very Good | D | 3470.467 | 1053.69 |\n",
       "| Very Good | E | 3214.652 | 1623.16 |\n",
       "| Very Good | F | 3778.820 | 1603.44 |\n",
       "| Very Good | G | 3872.754 | 1762.87 |\n",
       "| Very Good | H | 4535.390 | 1670.69 |\n",
       "| Very Good | I | 5255.880 | 1260.53 |\n",
       "| Very Good | J | 5103.513 |  768.32 |\n",
       "| Premium   | D | 3631.293 | 1156.64 |\n",
       "| Premium   | E | 3538.914 | 1677.37 |\n",
       "| Premium   | F | 4324.890 | 1927.82 |\n",
       "| Premium   | G | 4500.742 | 2460.51 |\n",
       "| Premium   | H | 5216.707 | 2398.82 |\n",
       "| Premium   | I | 5946.181 | 1634.97 |\n",
       "| Premium   | J | 6294.592 | 1044.82 |\n",
       "| Ideal     | D | 2629.095 | 1603.38 |\n",
       "| Ideal     | E | 2597.550 | 2257.50 |\n",
       "| Ideal     | F | 3374.939 | 2509.20 |\n",
       "| Ideal     | G | 3720.706 | 3422.29 |\n",
       "| Ideal     | H | 3889.335 | 2490.52 |\n",
       "| Ideal     | I | 4451.970 | 1910.97 |\n",
       "| Ideal     | J | 4918.186 |  952.98 |\n",
       "\n"
      ],
      "text/plain": [
       "   cut       color avgPrice sumCarat\n",
       "1  Fair      D     4291.061  149.98 \n",
       "2  Fair      E     3682.312  191.88 \n",
       "3  Fair      F     3827.003  282.27 \n",
       "4  Fair      G     4239.255  321.48 \n",
       "5  Fair      H     5135.683  369.41 \n",
       "6  Fair      I     4685.446  209.66 \n",
       "7  Fair      J     4975.655  159.60 \n",
       "8  Good      D     3405.382  492.87 \n",
       "9  Good      E     3423.644  695.21 \n",
       "10 Good      F     3495.750  705.32 \n",
       "11 Good      G     4123.482  741.13 \n",
       "12 Good      H     4276.255  642.14 \n",
       "13 Good      I     5078.533  551.87 \n",
       "14 Good      J     4574.173  337.56 \n",
       "15 Very Good D     3470.467 1053.69 \n",
       "16 Very Good E     3214.652 1623.16 \n",
       "17 Very Good F     3778.820 1603.44 \n",
       "18 Very Good G     3872.754 1762.87 \n",
       "19 Very Good H     4535.390 1670.69 \n",
       "20 Very Good I     5255.880 1260.53 \n",
       "21 Very Good J     5103.513  768.32 \n",
       "22 Premium   D     3631.293 1156.64 \n",
       "23 Premium   E     3538.914 1677.37 \n",
       "24 Premium   F     4324.890 1927.82 \n",
       "25 Premium   G     4500.742 2460.51 \n",
       "26 Premium   H     5216.707 2398.82 \n",
       "27 Premium   I     5946.181 1634.97 \n",
       "28 Premium   J     6294.592 1044.82 \n",
       "29 Ideal     D     2629.095 1603.38 \n",
       "30 Ideal     E     2597.550 2257.50 \n",
       "31 Ideal     F     3374.939 2509.20 \n",
       "32 Ideal     G     3720.706 3422.29 \n",
       "33 Ideal     H     3889.335 2490.52 \n",
       "34 Ideal     I     4451.970 1910.97 \n",
       "35 Ideal     J     4918.186  952.98 "
      ]
     },
     "metadata": {},
     "output_type": "display_data"
    }
   ],
   "source": [
    "diamonds %>% group_by(cut, color) %>%\n",
    "             summarise(avgPrice=mean(price), sumCarat=sum(carat))"
   ]
  },
  {
   "cell_type": "code",
   "execution_count": 209,
   "id": "9d47e6fd-8fec-4610-abc0-0879b12034d8",
   "metadata": {},
   "outputs": [
    {
     "data": {
      "text/html": [
       "<table class=\"dataframe\">\n",
       "<caption>A data.frame: 7 × 4</caption>\n",
       "<thead>\n",
       "\t<tr><th scope=col>color</th><th scope=col>avgPrice</th><th scope=col>sumCarat</th><th scope=col>NA</th></tr>\n",
       "\t<tr><th scope=col>&lt;ord&gt;</th><th scope=col>&lt;dbl&gt;</th><th scope=col>&lt;ord&gt;</th><th scope=col>&lt;dbl&gt;</th></tr>\n",
       "</thead>\n",
       "<tbody>\n",
       "\t<tr><td>D</td><td>3169.954</td><td>D</td><td>4456.56</td></tr>\n",
       "\t<tr><td>E</td><td>3076.752</td><td>E</td><td>6445.12</td></tr>\n",
       "\t<tr><td>F</td><td>3724.886</td><td>F</td><td>7028.05</td></tr>\n",
       "\t<tr><td>G</td><td>3999.136</td><td>G</td><td>8708.28</td></tr>\n",
       "\t<tr><td>H</td><td>4486.669</td><td>H</td><td>7571.58</td></tr>\n",
       "\t<tr><td>I</td><td>5091.875</td><td>I</td><td>5568.00</td></tr>\n",
       "\t<tr><td>J</td><td>5323.818</td><td>J</td><td>3263.28</td></tr>\n",
       "</tbody>\n",
       "</table>\n"
      ],
      "text/latex": [
       "A data.frame: 7 × 4\n",
       "\\begin{tabular}{llll}\n",
       " color & avgPrice & sumCarat & NA\\\\\n",
       " <ord> & <dbl> & <ord> & <dbl>\\\\\n",
       "\\hline\n",
       "\t D & 3169.954 & D & 4456.56\\\\\n",
       "\t E & 3076.752 & E & 6445.12\\\\\n",
       "\t F & 3724.886 & F & 7028.05\\\\\n",
       "\t G & 3999.136 & G & 8708.28\\\\\n",
       "\t H & 4486.669 & H & 7571.58\\\\\n",
       "\t I & 5091.875 & I & 5568.00\\\\\n",
       "\t J & 5323.818 & J & 3263.28\\\\\n",
       "\\end{tabular}\n"
      ],
      "text/markdown": [
       "\n",
       "A data.frame: 7 × 4\n",
       "\n",
       "| color &lt;ord&gt; | avgPrice &lt;dbl&gt; | sumCarat &lt;ord&gt; | NA &lt;dbl&gt; |\n",
       "|---|---|---|---|\n",
       "| D | 3169.954 | D | 4456.56 |\n",
       "| E | 3076.752 | E | 6445.12 |\n",
       "| F | 3724.886 | F | 7028.05 |\n",
       "| G | 3999.136 | G | 8708.28 |\n",
       "| H | 4486.669 | H | 7571.58 |\n",
       "| I | 5091.875 | I | 5568.00 |\n",
       "| J | 5323.818 | J | 3263.28 |\n",
       "\n"
      ],
      "text/plain": [
       "  color avgPrice sumCarat <NA>   \n",
       "1 D     3169.954 D        4456.56\n",
       "2 E     3076.752 E        6445.12\n",
       "3 F     3724.886 F        7028.05\n",
       "4 G     3999.136 G        8708.28\n",
       "5 H     4486.669 H        7571.58\n",
       "6 I     5091.875 I        5568.00\n",
       "7 J     5323.818 J        3263.28"
      ]
     },
     "metadata": {},
     "output_type": "display_data"
    },
    {
     "data": {
      "text/html": [
       "<table class=\"dataframe\">\n",
       "<caption>A data.frame: 7 × 4</caption>\n",
       "<thead>\n",
       "\t<tr><th></th><th scope=col>color</th><th scope=col>avgPrice</th><th scope=col>sumCarat</th><th scope=col>NA</th></tr>\n",
       "\t<tr><th></th><th scope=col>&lt;ord&gt;</th><th scope=col>&lt;dbl&gt;</th><th scope=col>&lt;ord&gt;</th><th scope=col>&lt;dbl&gt;</th></tr>\n",
       "</thead>\n",
       "<tbody>\n",
       "\t<tr><th scope=row>7</th><td>J</td><td>5323.818</td><td>J</td><td>3263.28</td></tr>\n",
       "\t<tr><th scope=row>6</th><td>I</td><td>5091.875</td><td>I</td><td>5568.00</td></tr>\n",
       "\t<tr><th scope=row>5</th><td>H</td><td>4486.669</td><td>H</td><td>7571.58</td></tr>\n",
       "\t<tr><th scope=row>4</th><td>G</td><td>3999.136</td><td>G</td><td>8708.28</td></tr>\n",
       "\t<tr><th scope=row>3</th><td>F</td><td>3724.886</td><td>F</td><td>7028.05</td></tr>\n",
       "\t<tr><th scope=row>1</th><td>D</td><td>3169.954</td><td>D</td><td>4456.56</td></tr>\n",
       "\t<tr><th scope=row>2</th><td>E</td><td>3076.752</td><td>E</td><td>6445.12</td></tr>\n",
       "</tbody>\n",
       "</table>\n"
      ],
      "text/latex": [
       "A data.frame: 7 × 4\n",
       "\\begin{tabular}{r|llll}\n",
       "  & color & avgPrice & sumCarat & NA\\\\\n",
       "  & <ord> & <dbl> & <ord> & <dbl>\\\\\n",
       "\\hline\n",
       "\t7 & J & 5323.818 & J & 3263.28\\\\\n",
       "\t6 & I & 5091.875 & I & 5568.00\\\\\n",
       "\t5 & H & 4486.669 & H & 7571.58\\\\\n",
       "\t4 & G & 3999.136 & G & 8708.28\\\\\n",
       "\t3 & F & 3724.886 & F & 7028.05\\\\\n",
       "\t1 & D & 3169.954 & D & 4456.56\\\\\n",
       "\t2 & E & 3076.752 & E & 6445.12\\\\\n",
       "\\end{tabular}\n"
      ],
      "text/markdown": [
       "\n",
       "A data.frame: 7 × 4\n",
       "\n",
       "| <!--/--> | color &lt;ord&gt; | avgPrice &lt;dbl&gt; | sumCarat &lt;ord&gt; | NA &lt;dbl&gt; |\n",
       "|---|---|---|---|---|\n",
       "| 7 | J | 5323.818 | J | 3263.28 |\n",
       "| 6 | I | 5091.875 | I | 5568.00 |\n",
       "| 5 | H | 4486.669 | H | 7571.58 |\n",
       "| 4 | G | 3999.136 | G | 8708.28 |\n",
       "| 3 | F | 3724.886 | F | 7028.05 |\n",
       "| 1 | D | 3169.954 | D | 4456.56 |\n",
       "| 2 | E | 3076.752 | E | 6445.12 |\n",
       "\n"
      ],
      "text/plain": [
       "  color avgPrice sumCarat <NA>   \n",
       "7 J     5323.818 J        3263.28\n",
       "6 I     5091.875 I        5568.00\n",
       "5 H     4486.669 H        7571.58\n",
       "4 G     3999.136 G        8708.28\n",
       "3 F     3724.886 F        7028.05\n",
       "1 D     3169.954 D        4456.56\n",
       "2 E     3076.752 E        6445.12"
      ]
     },
     "metadata": {},
     "output_type": "display_data"
    }
   ],
   "source": [
    "# color 기준으로 평균 가격을 avgPrice로, 총 carat을 sumCarat이라는 이름으로 집계하고 \n",
    "# 평균가격으로 내림차순 정렬\n",
    "dia <- diamonds\n",
    "avgPrice <- aggregate(price~color,dia,FUN=mean)\n",
    "sumCarat <- aggregate(carat~color,dia,FUN=sum)\n",
    "df <- data.frame(avgPrice, sumCarat)\n",
    "colnames(df) <- c('color','avgPrice','sumCarat')\n",
    "df\n",
    "\n",
    "df[order(-df$avgPrice), ]   # 정렬 출력"
   ]
  },
  {
   "cell_type": "code",
   "execution_count": 210,
   "id": "262738c1-2743-4338-b83c-f5564a70469b",
   "metadata": {},
   "outputs": [
    {
     "data": {
      "text/html": [
       "<table class=\"dataframe\">\n",
       "<caption>A tibble: 7 × 3</caption>\n",
       "<thead>\n",
       "\t<tr><th scope=col>color</th><th scope=col>avgPrice</th><th scope=col>sumCarat</th></tr>\n",
       "\t<tr><th scope=col>&lt;ord&gt;</th><th scope=col>&lt;dbl&gt;</th><th scope=col>&lt;dbl&gt;</th></tr>\n",
       "</thead>\n",
       "<tbody>\n",
       "\t<tr><td>J</td><td>5323.818</td><td>3263.28</td></tr>\n",
       "\t<tr><td>I</td><td>5091.875</td><td>5568.00</td></tr>\n",
       "\t<tr><td>H</td><td>4486.669</td><td>7571.58</td></tr>\n",
       "\t<tr><td>G</td><td>3999.136</td><td>8708.28</td></tr>\n",
       "\t<tr><td>F</td><td>3724.886</td><td>7028.05</td></tr>\n",
       "\t<tr><td>D</td><td>3169.954</td><td>4456.56</td></tr>\n",
       "\t<tr><td>E</td><td>3076.752</td><td>6445.12</td></tr>\n",
       "</tbody>\n",
       "</table>\n"
      ],
      "text/latex": [
       "A tibble: 7 × 3\n",
       "\\begin{tabular}{lll}\n",
       " color & avgPrice & sumCarat\\\\\n",
       " <ord> & <dbl> & <dbl>\\\\\n",
       "\\hline\n",
       "\t J & 5323.818 & 3263.28\\\\\n",
       "\t I & 5091.875 & 5568.00\\\\\n",
       "\t H & 4486.669 & 7571.58\\\\\n",
       "\t G & 3999.136 & 8708.28\\\\\n",
       "\t F & 3724.886 & 7028.05\\\\\n",
       "\t D & 3169.954 & 4456.56\\\\\n",
       "\t E & 3076.752 & 6445.12\\\\\n",
       "\\end{tabular}\n"
      ],
      "text/markdown": [
       "\n",
       "A tibble: 7 × 3\n",
       "\n",
       "| color &lt;ord&gt; | avgPrice &lt;dbl&gt; | sumCarat &lt;dbl&gt; |\n",
       "|---|---|---|\n",
       "| J | 5323.818 | 3263.28 |\n",
       "| I | 5091.875 | 5568.00 |\n",
       "| H | 4486.669 | 7571.58 |\n",
       "| G | 3999.136 | 8708.28 |\n",
       "| F | 3724.886 | 7028.05 |\n",
       "| D | 3169.954 | 4456.56 |\n",
       "| E | 3076.752 | 6445.12 |\n",
       "\n"
      ],
      "text/plain": [
       "  color avgPrice sumCarat\n",
       "1 J     5323.818 3263.28 \n",
       "2 I     5091.875 5568.00 \n",
       "3 H     4486.669 7571.58 \n",
       "4 G     3999.136 8708.28 \n",
       "5 F     3724.886 7028.05 \n",
       "6 D     3169.954 4456.56 \n",
       "7 E     3076.752 6445.12 "
      ]
     },
     "metadata": {},
     "output_type": "display_data"
    }
   ],
   "source": [
    "diamonds %>% group_by(color) %>%\n",
    "             summarise(avgPrice=mean(price), sumCarat=sum(carat)) %>%\n",
    "             arrange(desc(avgPrice))"
   ]
  },
  {
   "cell_type": "code",
   "execution_count": 211,
   "id": "5ddbd0ab-baf2-4e3e-a369-2c7bce2411f0",
   "metadata": {},
   "outputs": [
    {
     "data": {
      "text/html": [
       "<table class=\"dataframe\">\n",
       "<caption>A data.frame: 7 × 4</caption>\n",
       "<thead>\n",
       "\t<tr><th scope=col>color</th><th scope=col>avgPrice</th><th scope=col>sumCarat</th><th scope=col>NA</th></tr>\n",
       "\t<tr><th scope=col>&lt;ord&gt;</th><th scope=col>&lt;dbl&gt;</th><th scope=col>&lt;ord&gt;</th><th scope=col>&lt;dbl&gt;</th></tr>\n",
       "</thead>\n",
       "<tbody>\n",
       "\t<tr><td>D</td><td>3169.954</td><td>D</td><td>4456.56</td></tr>\n",
       "\t<tr><td>E</td><td>3076.752</td><td>E</td><td>6445.12</td></tr>\n",
       "\t<tr><td>F</td><td>3724.886</td><td>F</td><td>7028.05</td></tr>\n",
       "\t<tr><td>G</td><td>3999.136</td><td>G</td><td>8708.28</td></tr>\n",
       "\t<tr><td>H</td><td>4486.669</td><td>H</td><td>7571.58</td></tr>\n",
       "\t<tr><td>I</td><td>5091.875</td><td>I</td><td>5568.00</td></tr>\n",
       "\t<tr><td>J</td><td>5323.818</td><td>J</td><td>3263.28</td></tr>\n",
       "</tbody>\n",
       "</table>\n"
      ],
      "text/latex": [
       "A data.frame: 7 × 4\n",
       "\\begin{tabular}{llll}\n",
       " color & avgPrice & sumCarat & NA\\\\\n",
       " <ord> & <dbl> & <ord> & <dbl>\\\\\n",
       "\\hline\n",
       "\t D & 3169.954 & D & 4456.56\\\\\n",
       "\t E & 3076.752 & E & 6445.12\\\\\n",
       "\t F & 3724.886 & F & 7028.05\\\\\n",
       "\t G & 3999.136 & G & 8708.28\\\\\n",
       "\t H & 4486.669 & H & 7571.58\\\\\n",
       "\t I & 5091.875 & I & 5568.00\\\\\n",
       "\t J & 5323.818 & J & 3263.28\\\\\n",
       "\\end{tabular}\n"
      ],
      "text/markdown": [
       "\n",
       "A data.frame: 7 × 4\n",
       "\n",
       "| color &lt;ord&gt; | avgPrice &lt;dbl&gt; | sumCarat &lt;ord&gt; | NA &lt;dbl&gt; |\n",
       "|---|---|---|---|\n",
       "| D | 3169.954 | D | 4456.56 |\n",
       "| E | 3076.752 | E | 6445.12 |\n",
       "| F | 3724.886 | F | 7028.05 |\n",
       "| G | 3999.136 | G | 8708.28 |\n",
       "| H | 4486.669 | H | 7571.58 |\n",
       "| I | 5091.875 | I | 5568.00 |\n",
       "| J | 5323.818 | J | 3263.28 |\n",
       "\n"
      ],
      "text/plain": [
       "  color avgPrice sumCarat <NA>   \n",
       "1 D     3169.954 D        4456.56\n",
       "2 E     3076.752 E        6445.12\n",
       "3 F     3724.886 F        7028.05\n",
       "4 G     3999.136 G        8708.28\n",
       "5 H     4486.669 H        7571.58\n",
       "6 I     5091.875 I        5568.00\n",
       "7 J     5323.818 J        3263.28"
      ]
     },
     "metadata": {},
     "output_type": "display_data"
    },
    {
     "data": {
      "text/html": [
       "<table class=\"dataframe\">\n",
       "<caption>A data.frame: 7 × 4</caption>\n",
       "<thead>\n",
       "\t<tr><th></th><th scope=col>color</th><th scope=col>avgPrice</th><th scope=col>sumCarat</th><th scope=col>NA</th></tr>\n",
       "\t<tr><th></th><th scope=col>&lt;ord&gt;</th><th scope=col>&lt;dbl&gt;</th><th scope=col>&lt;ord&gt;</th><th scope=col>&lt;dbl&gt;</th></tr>\n",
       "</thead>\n",
       "<tbody>\n",
       "\t<tr><th scope=row>7</th><td>J</td><td>5323.818</td><td>J</td><td>3263.28</td></tr>\n",
       "\t<tr><th scope=row>6</th><td>I</td><td>5091.875</td><td>I</td><td>5568.00</td></tr>\n",
       "\t<tr><th scope=row>5</th><td>H</td><td>4486.669</td><td>H</td><td>7571.58</td></tr>\n",
       "\t<tr><th scope=row>4</th><td>G</td><td>3999.136</td><td>G</td><td>8708.28</td></tr>\n",
       "\t<tr><th scope=row>3</th><td>F</td><td>3724.886</td><td>F</td><td>7028.05</td></tr>\n",
       "\t<tr><th scope=row>1</th><td>D</td><td>3169.954</td><td>D</td><td>4456.56</td></tr>\n",
       "\t<tr><th scope=row>2</th><td>E</td><td>3076.752</td><td>E</td><td>6445.12</td></tr>\n",
       "</tbody>\n",
       "</table>\n"
      ],
      "text/latex": [
       "A data.frame: 7 × 4\n",
       "\\begin{tabular}{r|llll}\n",
       "  & color & avgPrice & sumCarat & NA\\\\\n",
       "  & <ord> & <dbl> & <ord> & <dbl>\\\\\n",
       "\\hline\n",
       "\t7 & J & 5323.818 & J & 3263.28\\\\\n",
       "\t6 & I & 5091.875 & I & 5568.00\\\\\n",
       "\t5 & H & 4486.669 & H & 7571.58\\\\\n",
       "\t4 & G & 3999.136 & G & 8708.28\\\\\n",
       "\t3 & F & 3724.886 & F & 7028.05\\\\\n",
       "\t1 & D & 3169.954 & D & 4456.56\\\\\n",
       "\t2 & E & 3076.752 & E & 6445.12\\\\\n",
       "\\end{tabular}\n"
      ],
      "text/markdown": [
       "\n",
       "A data.frame: 7 × 4\n",
       "\n",
       "| <!--/--> | color &lt;ord&gt; | avgPrice &lt;dbl&gt; | sumCarat &lt;ord&gt; | NA &lt;dbl&gt; |\n",
       "|---|---|---|---|---|\n",
       "| 7 | J | 5323.818 | J | 3263.28 |\n",
       "| 6 | I | 5091.875 | I | 5568.00 |\n",
       "| 5 | H | 4486.669 | H | 7571.58 |\n",
       "| 4 | G | 3999.136 | G | 8708.28 |\n",
       "| 3 | F | 3724.886 | F | 7028.05 |\n",
       "| 1 | D | 3169.954 | D | 4456.56 |\n",
       "| 2 | E | 3076.752 | E | 6445.12 |\n",
       "\n"
      ],
      "text/plain": [
       "  color avgPrice sumCarat <NA>   \n",
       "7 J     5323.818 J        3263.28\n",
       "6 I     5091.875 I        5568.00\n",
       "5 H     4486.669 H        7571.58\n",
       "4 G     3999.136 G        8708.28\n",
       "3 F     3724.886 F        7028.05\n",
       "1 D     3169.954 D        4456.56\n",
       "2 E     3076.752 E        6445.12"
      ]
     },
     "metadata": {},
     "output_type": "display_data"
    }
   ],
   "source": [
    "# color 기준으로 평균 가격을 avgPrice로, 총 carat을 sumCarat이라는 이름으로 집계하고 \n",
    "# 평균가격은 내림차순 정렬, 총 carat은 오름차순으로 정렬\n",
    "dia <- diamonds\n",
    "avgPrice <- aggregate(price~color,dia,FUN=mean)\n",
    "sumCarat <- aggregate(carat~color,dia,FUN=sum)\n",
    "df <- data.frame(avgPrice, sumCarat)\n",
    "colnames(df) <- c('color','avgPrice','sumCarat')\n",
    "df\n",
    "\n",
    "df[order(-df$avgPrice, df$sumCarat), ]   # 정렬 출력"
   ]
  },
  {
   "cell_type": "code",
   "execution_count": 212,
   "id": "cc2dbc6a-75f2-4bd6-8d6e-d298d1df4eb7",
   "metadata": {},
   "outputs": [
    {
     "data": {
      "text/html": [
       "<table class=\"dataframe\">\n",
       "<caption>A tibble: 7 × 3</caption>\n",
       "<thead>\n",
       "\t<tr><th scope=col>color</th><th scope=col>avgPrice</th><th scope=col>sumCarat</th></tr>\n",
       "\t<tr><th scope=col>&lt;ord&gt;</th><th scope=col>&lt;dbl&gt;</th><th scope=col>&lt;dbl&gt;</th></tr>\n",
       "</thead>\n",
       "<tbody>\n",
       "\t<tr><td>J</td><td>5323.818</td><td>3263.28</td></tr>\n",
       "\t<tr><td>I</td><td>5091.875</td><td>5568.00</td></tr>\n",
       "\t<tr><td>H</td><td>4486.669</td><td>7571.58</td></tr>\n",
       "\t<tr><td>G</td><td>3999.136</td><td>8708.28</td></tr>\n",
       "\t<tr><td>F</td><td>3724.886</td><td>7028.05</td></tr>\n",
       "\t<tr><td>D</td><td>3169.954</td><td>4456.56</td></tr>\n",
       "\t<tr><td>E</td><td>3076.752</td><td>6445.12</td></tr>\n",
       "</tbody>\n",
       "</table>\n"
      ],
      "text/latex": [
       "A tibble: 7 × 3\n",
       "\\begin{tabular}{lll}\n",
       " color & avgPrice & sumCarat\\\\\n",
       " <ord> & <dbl> & <dbl>\\\\\n",
       "\\hline\n",
       "\t J & 5323.818 & 3263.28\\\\\n",
       "\t I & 5091.875 & 5568.00\\\\\n",
       "\t H & 4486.669 & 7571.58\\\\\n",
       "\t G & 3999.136 & 8708.28\\\\\n",
       "\t F & 3724.886 & 7028.05\\\\\n",
       "\t D & 3169.954 & 4456.56\\\\\n",
       "\t E & 3076.752 & 6445.12\\\\\n",
       "\\end{tabular}\n"
      ],
      "text/markdown": [
       "\n",
       "A tibble: 7 × 3\n",
       "\n",
       "| color &lt;ord&gt; | avgPrice &lt;dbl&gt; | sumCarat &lt;dbl&gt; |\n",
       "|---|---|---|\n",
       "| J | 5323.818 | 3263.28 |\n",
       "| I | 5091.875 | 5568.00 |\n",
       "| H | 4486.669 | 7571.58 |\n",
       "| G | 3999.136 | 8708.28 |\n",
       "| F | 3724.886 | 7028.05 |\n",
       "| D | 3169.954 | 4456.56 |\n",
       "| E | 3076.752 | 6445.12 |\n",
       "\n"
      ],
      "text/plain": [
       "  color avgPrice sumCarat\n",
       "1 J     5323.818 3263.28 \n",
       "2 I     5091.875 5568.00 \n",
       "3 H     4486.669 7571.58 \n",
       "4 G     3999.136 8708.28 \n",
       "5 F     3724.886 7028.05 \n",
       "6 D     3169.954 4456.56 \n",
       "7 E     3076.752 6445.12 "
      ]
     },
     "metadata": {},
     "output_type": "display_data"
    }
   ],
   "source": [
    "diamonds %>% group_by(color) %>%\n",
    "             summarise(avgPrice=mean(price), sumCarat=sum(carat)) %>%\n",
    "             arrange(desc(avgPrice), sumCarat)"
   ]
  },
  {
   "cell_type": "code",
   "execution_count": null,
   "id": "1def7b7c-13d4-4d9c-a83f-b095e323f696",
   "metadata": {},
   "outputs": [],
   "source": []
  },
  {
   "cell_type": "code",
   "execution_count": null,
   "id": "22418e38-a45c-47e1-a36c-daf5f5743e7d",
   "metadata": {},
   "outputs": [],
   "source": []
  },
  {
   "cell_type": "code",
   "execution_count": null,
   "id": "efe7e059-6f0c-4108-81fe-f7f1751fe41d",
   "metadata": {},
   "outputs": [],
   "source": []
  }
 ],
 "metadata": {
  "kernelspec": {
   "display_name": "R",
   "language": "R",
   "name": "ir"
  },
  "language_info": {
   "codemirror_mode": "r",
   "file_extension": ".r",
   "mimetype": "text/x-r-source",
   "name": "R",
   "pygments_lexer": "r",
   "version": "3.6.3"
  }
 },
 "nbformat": 4,
 "nbformat_minor": 5
}
