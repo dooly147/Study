{
 "cells": [
  {
   "cell_type": "markdown",
   "id": "81a4145a-09cc-4d6a-86c1-00517a6d0c62",
   "metadata": {},
   "source": [
    "## 텔레그램 봇\n",
    "* pip install python-telegram-bot"
   ]
  },
  {
   "cell_type": "code",
   "execution_count": 3,
   "id": "91ee9126-bdac-4cc5-838a-8c0da2926af3",
   "metadata": {},
   "outputs": [],
   "source": [
    "# ! pip install python-telegram-bot"
   ]
  },
  {
   "cell_type": "code",
   "execution_count": 1,
   "id": "30db1aa4-d096-4ffa-907b-5f2a7002d17c",
   "metadata": {},
   "outputs": [],
   "source": [
    "import telegram"
   ]
  },
  {
   "cell_type": "code",
   "execution_count": 2,
   "id": "d4046d92-a7cf-4eed-ba4b-d71fe606665a",
   "metadata": {},
   "outputs": [],
   "source": [
    "# 방금만든 봇대화방으로 진입 - 간단한 메세지 입력\n",
    "# https://api.telegram.org/bot2127989542:AAEqlO8z52OAiXlZRWXJ278cB_qGzBqEgsU/getUpdates"
   ]
  },
  {
   "cell_type": "code",
   "execution_count": 3,
   "id": "59e1bbb9-bcd8-41c3-aa32-d08a54db0eb1",
   "metadata": {},
   "outputs": [],
   "source": [
    "# 텔레그램 인증키 등록\n",
    "token = '2127989542:AAEqlO8z52OAiXlZRWXJ278cB_qGzBqEgsU'"
   ]
  },
  {
   "cell_type": "code",
   "execution_count": 4,
   "id": "b0ee943d-6e86-459b-a58a-058a849453f9",
   "metadata": {},
   "outputs": [],
   "source": [
    "# 텙레그램 봇 객체 생성\n",
    "bot = telegram.Bot(token=token)"
   ]
  },
  {
   "cell_type": "code",
   "execution_count": 5,
   "id": "936c318f-4c92-46bf-b84d-4bbcce8013f8",
   "metadata": {},
   "outputs": [
    {
     "data": {
      "text/plain": [
       "<telegram.message.Message at 0x55de00573e70>"
      ]
     },
     "execution_count": 5,
     "metadata": {},
     "output_type": "execute_result"
    }
   ],
   "source": [
    "# 특정 대화상대에게 메세지 보내기 테스트\n",
    "# sendMessage(대상, 메세지)\n",
    "bot.sendMessage(chat_id='2106569878', text= 'Hello, World!!')"
   ]
  },
  {
   "cell_type": "markdown",
   "id": "739714b6-184f-4545-9b4c-eb1023737d08",
   "metadata": {},
   "source": [
    "## 로또 번호를 알려주는 텔레그램봇을 만들어 보자\n",
    "* /lotto 라고 입력하면 6개의 숫자 출력\n"
   ]
  },
  {
   "cell_type": "code",
   "execution_count": 6,
   "id": "f8a3d96b-919e-4d5c-a140-bf183ec6511a",
   "metadata": {},
   "outputs": [],
   "source": [
    "import random\n",
    "from telegram import Update\n",
    "from telegram.ext import Updater, CallbackContext\n",
    "from telegram.ext import MessageHandler\n",
    "from telegram.ext import CommandHandler\n",
    "from telegram.ext import Filters"
   ]
  },
  {
   "cell_type": "code",
   "execution_count": 7,
   "id": "3befa963-43c1-443c-8b38-74b9d85fa6d9",
   "metadata": {},
   "outputs": [],
   "source": [
    "# 텔레그램 챗봇 응답처리 콜백함수\n",
    "# 콜백함수명(context, update)\n",
    "\n",
    "# 입력받은 메세지를 다시 메세지로 출력하는 함수\n",
    "def reply_message(update, context):\n",
    "    context.bot.send_message(text=update.message.text, chat_id=update.message.chat_id)\n",
    "    "
   ]
  },
  {
   "cell_type": "code",
   "execution_count": 8,
   "id": "c7e5b594-04bd-425c-b750-fa21c153727e",
   "metadata": {},
   "outputs": [],
   "source": [
    "# '/lotto'라 입력했을때 로또 출력하는 함수\n",
    "def lotto_message(update, context):\n",
    "    lotto = random.sample(range(1, 45+1), 6)\n",
    "    update.message.reply_text( f'오늘의 행운수 : {lotto} ')"
   ]
  },
  {
   "cell_type": "code",
   "execution_count": 9,
   "id": "e411a1f8-8114-4f4c-94ce-1e24e27f1bbc",
   "metadata": {},
   "outputs": [
    {
     "name": "stdout",
     "output_type": "stream",
     "text": [
      "텔레그램 PRA 서버 준비중..\n"
     ]
    }
   ],
   "source": [
    "# 텔레그램 챗봇 서버 실행\n",
    "print('텔레그램 PRA 서버 준비중..')\n",
    "updater = Updater(token)\n"
   ]
  },
  {
   "cell_type": "code",
   "execution_count": 11,
   "id": "fb610b79-5cce-489c-b848-1d06baadec91",
   "metadata": {},
   "outputs": [],
   "source": [
    "# 위에서 정의한 콜백함수들을 핸들러객체로 만든후 챗봇서버에 등록\n",
    "# MessageHandler : 입력받은 텍스트를 그대로 처리할때 사용할 콜백함수를 호출하는 핸들러\n",
    "# CommandHandler : 특정문자열 입력시 이것과 관련된 콜백함수 호출\n",
    "# addHandler : 생성한 핸들러 객체를 챗봇서버에 등록한다.\n",
    "reply_handler = MessageHandler(Filters.text, reply_message)\n",
    "lotto_handler = CommandHandler('lotto', lotto_message)"
   ]
  },
  {
   "cell_type": "code",
   "execution_count": 12,
   "id": "e6f45e61-28f6-426a-ab66-60c406bcc9fa",
   "metadata": {},
   "outputs": [],
   "source": [
    "# 핸들러 등록\n",
    "updater.dispatcher.add_handler(reply_handler)\n",
    "updater.dispatcher.add_handler(lotto_handler)"
   ]
  },
  {
   "cell_type": "code",
   "execution_count": null,
   "id": "49eb8cbc-aaaf-4193-bb96-3de3c6a70709",
   "metadata": {},
   "outputs": [
    {
     "name": "stdout",
     "output_type": "stream",
     "text": [
      "텔레그램 RPA 서버 실행중...\n"
     ]
    },
    {
     "name": "stderr",
     "output_type": "stream",
     "text": [
      "/opt/miniconda3/lib/python3.7/site-packages/ipykernel_launcher.py:4: TelegramDeprecationWarning: The argument `clean` of `start_polling` is deprecated. Please use `drop_pending_updates` instead.\n",
      "  after removing the cwd from sys.path.\n"
     ]
    }
   ],
   "source": [
    "# 챗봇서버 가동\n",
    "# start_polling : polling 기능이 있는 챗봇 서버 시작\n",
    "print('텔레그램 RPA 서버 실행중...')\n",
    "updater.start_polling(timeout=3, clean=True)\n",
    "updater.idle()"
   ]
  },
  {
   "cell_type": "code",
   "execution_count": null,
   "id": "b178f0a9-553d-48ac-878b-5ee3a27ca703",
   "metadata": {},
   "outputs": [],
   "source": []
  },
  {
   "cell_type": "code",
   "execution_count": null,
   "id": "47060d54-cd12-411f-90cd-7733eea815e1",
   "metadata": {},
   "outputs": [],
   "source": []
  },
  {
   "cell_type": "code",
   "execution_count": null,
   "id": "6c320237-797a-46c1-8192-bc5703c772a0",
   "metadata": {},
   "outputs": [],
   "source": []
  },
  {
   "cell_type": "code",
   "execution_count": null,
   "id": "20b13fb3-f307-4430-a91f-f72bacc9f96b",
   "metadata": {},
   "outputs": [],
   "source": []
  },
  {
   "cell_type": "code",
   "execution_count": null,
   "id": "e9f08c7b-8cee-4579-b8a1-6cd8ebbab5fe",
   "metadata": {},
   "outputs": [],
   "source": []
  },
  {
   "cell_type": "code",
   "execution_count": null,
   "id": "cfff1b23-62c1-4232-9499-a9e80b481c15",
   "metadata": {},
   "outputs": [],
   "source": []
  },
  {
   "cell_type": "code",
   "execution_count": null,
   "id": "82d72710-99a6-4740-a9e9-2118d81c4e9a",
   "metadata": {},
   "outputs": [],
   "source": []
  }
 ],
 "metadata": {
  "kernelspec": {
   "display_name": "Python 3 (ipykernel)",
   "language": "python",
   "name": "python3"
  },
  "language_info": {
   "codemirror_mode": {
    "name": "ipython",
    "version": 3
   },
   "file_extension": ".py",
   "mimetype": "text/x-python",
   "name": "python",
   "nbconvert_exporter": "python",
   "pygments_lexer": "ipython3",
   "version": "3.7.10"
  }
 },
 "nbformat": 4,
 "nbformat_minor": 5
}
