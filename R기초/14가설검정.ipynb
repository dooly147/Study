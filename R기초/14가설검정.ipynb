{
 "cells": [
  {
   "cell_type": "markdown",
   "id": "eb5c84c3-03c6-4a9a-97f2-6b5068021bad",
   "metadata": {},
   "source": [
    "# 14 가설검정"
   ]
  },
  {
   "cell_type": "markdown",
   "id": "045af948-6276-4154-80ed-a1bff8e8139d",
   "metadata": {},
   "source": [
    "## 짝paired 표본을 이용한 가설검정\n",
    "* 동일한 집단의 전/후 차이를 비교하기 위해 사용\n",
    "* 짝paired 표본 : 동일한 모집단으로 부터 추출된 서로 연관있는 2개의 표본을 의미\n",
    "* 주의점 : 짝paired 표본의 갯수는 서로 동일해야 함\n",
    "* t.test(표본1, 표본2, 짝표본여부, 검정유형)\n",
    "* 표본에 대한 정규성 여부 확인 필요!"
   ]
  },
  {
   "cell_type": "code",
   "execution_count": 1,
   "id": "21b0f878-5b89-43a8-9dd0-d35019896b19",
   "metadata": {},
   "outputs": [],
   "source": [
    "# ex) 10명 학생의 과외 받기 전/후 수학 성적차이를 비교하시오 (유의수준 0.05)\n",
    "before <- c(16,20,21,22,23,22,27,25,27,28)\n",
    "after <- c(19,22,24,24,25,25,26,26,28,32)"
   ]
  },
  {
   "cell_type": "markdown",
   "id": "5ff22fd7-37b9-4d9b-90b3-f5daabebe041",
   "metadata": {},
   "source": [
    "* 귀무가설 : 과외 전/후 수학 성적차이가 없다 <br>\n",
    "  대립가설 : 과외 전/후 수학 성적차이가 있다 => 양측검정\n",
    "* 유의수준 0.05\n",
    "* 자유도 : 10 - 1 = 9\n",
    "* 임계값 : -2.626, 2.626"
   ]
  },
  {
   "cell_type": "code",
   "execution_count": 2,
   "id": "ae038b41-a7a5-4539-a084-f4f16951a791",
   "metadata": {},
   "outputs": [
    {
     "data": {
      "text/plain": [
       "\n",
       "\tShapiro-Wilk normality test\n",
       "\n",
       "data:  before\n",
       "W = 0.94809, p-value = 0.6459\n"
      ]
     },
     "metadata": {},
     "output_type": "display_data"
    },
    {
     "data": {
      "text/plain": [
       "\n",
       "\tShapiro-Wilk normality test\n",
       "\n",
       "data:  after\n",
       "W = 0.95546, p-value = 0.7332\n"
      ]
     },
     "metadata": {},
     "output_type": "display_data"
    }
   ],
   "source": [
    "shapiro.test(before)   # 0.6459\n",
    "shapiro.test(after)    # 0.7332"
   ]
  },
  {
   "cell_type": "code",
   "execution_count": 3,
   "id": "877a9442-0796-45c1-96cb-fc547e5ad245",
   "metadata": {},
   "outputs": [
    {
     "data": {
      "text/plain": [
       "\n",
       "\tPaired t-test\n",
       "\n",
       "data:  before and after\n",
       "t = -4.4721, df = 9, p-value = 0.00155\n",
       "alternative hypothesis: true difference in means is not equal to 0\n",
       "95 percent confidence interval:\n",
       " -3.0116674 -0.9883326\n",
       "sample estimates:\n",
       "mean of the differences \n",
       "                     -2 \n"
      ]
     },
     "metadata": {},
     "output_type": "display_data"
    }
   ],
   "source": [
    "t.test(before, after, paired=T, alternative=c('two.sided'))\n",
    "# t = -4.4721, p-value = 0.00155\n",
    "# 귀무가설 기각 => 과외 전/후 수학 성적차이가 있을 확률이 높음"
   ]
  },
  {
   "cell_type": "code",
   "execution_count": 4,
   "id": "e02c0c97-0b04-4b97-9fe5-13a4dbd35a38",
   "metadata": {},
   "outputs": [],
   "source": [
    "# ex) 상호금융회사는 부동산 가치 평가를 위해 2개의 평가회사를 고용했음\n",
    "# 임의로 10채의 주택을 추출해서 각 회사에 주택 가치평가 의뢰\n",
    "# 평가 회사별 가치 평가 차이가 있는가? 유의수준 0.05로 검정하시오 \n",
    "\n",
    "# woori : 235, 210, 231, 242, 205, 230, 231, 210, 225, 249\n",
    "# shinhan : 228, 205, 219, 240, 198, 223, 227, 215, 222, 245  "
   ]
  },
  {
   "cell_type": "code",
   "execution_count": 5,
   "id": "1fea9dfa-4a21-49d6-b393-60de43893dc7",
   "metadata": {},
   "outputs": [],
   "source": [
    "w <- c(235, 210, 231, 242, 205, 230, 231, 210, 225, 249)\n",
    "s <- c(228, 205, 219, 240, 198, 223, 227, 215, 222, 245)"
   ]
  },
  {
   "cell_type": "markdown",
   "id": "234b2ae8-f0e9-4b5a-b8a2-f7951dd58c1a",
   "metadata": {},
   "source": [
    "* 귀무가설 : 평가 회사별 가치 평가 차이가 없다 <br>\n",
    "  대립가설 : 평가 회사별 가치 평가 차이가 있다 => 양측검정\n",
    "* 유의수준 0.05\n",
    "* 자유도 : 10 - 1 = 9\n",
    "* 임계값 : -2.626, 2.626"
   ]
  },
  {
   "cell_type": "code",
   "execution_count": 6,
   "id": "d5f1de84-d643-4987-8b56-ba15d1b2baa5",
   "metadata": {},
   "outputs": [
    {
     "data": {
      "text/plain": [
       "\n",
       "\tShapiro-Wilk normality test\n",
       "\n",
       "data:  w\n",
       "W = 0.9343, p-value = 0.4915\n"
      ]
     },
     "metadata": {},
     "output_type": "display_data"
    },
    {
     "data": {
      "text/plain": [
       "\n",
       "\tShapiro-Wilk normality test\n",
       "\n",
       "data:  s\n",
       "W = 0.97313, p-value = 0.9183\n"
      ]
     },
     "metadata": {},
     "output_type": "display_data"
    }
   ],
   "source": [
    "shapiro.test(w)   # 0.4915\n",
    "shapiro.test(s)   # 0.9183"
   ]
  },
  {
   "cell_type": "code",
   "execution_count": 7,
   "id": "2789d67b-02d6-4840-9821-d926c8fc5b44",
   "metadata": {},
   "outputs": [
    {
     "data": {
      "text/plain": [
       "\n",
       "\tPaired t-test\n",
       "\n",
       "data:  w and s\n",
       "t = 3.3045, df = 9, p-value = 0.009164\n",
       "alternative hypothesis: true difference in means is not equal to 0\n",
       "95 percent confidence interval:\n",
       " 1.450985 7.749015\n",
       "sample estimates:\n",
       "mean of the differences \n",
       "                    4.6 \n"
      ]
     },
     "metadata": {},
     "output_type": "display_data"
    }
   ],
   "source": [
    "t.test(w, s, paired=T, alternative=c('two.sided'))\n",
    "# t = 3.3045, p-value = 0.009164\n",
    "# 귀무가설 기각 => 평가 회사별 가치 평가 차이가 있을 확률이 있음"
   ]
  },
  {
   "cell_type": "code",
   "execution_count": 8,
   "id": "2d011f63-ceac-47b6-bc6b-35e9554e4431",
   "metadata": {
    "tags": []
   },
   "outputs": [
    {
     "data": {
      "text/html": [
       "\n",
       "<table width=\"100%\" summary=\"page for shoes {MASS}\"><tr><td>shoes {MASS}</td><td style=\"text-align: right;\">R Documentation</td></tr></table>\n",
       "\n",
       "<h2>\n",
       "Shoe wear data of Box, Hunter and Hunter\n",
       "</h2>\n",
       "\n",
       "<h3>Description</h3>\n",
       "\n",
       "<p>A list of two vectors, giving the wear of shoes of materials A and B\n",
       "for one foot each of ten boys.\n",
       "</p>\n",
       "\n",
       "\n",
       "<h3>Usage</h3>\n",
       "\n",
       "<pre>\n",
       "shoes\n",
       "</pre>\n",
       "\n",
       "\n",
       "<h3>Source</h3>\n",
       "\n",
       "<p>G. E. P. Box, W. G. Hunter and J. S. Hunter (1978)\n",
       "<em>Statistics for Experimenters.</em> Wiley, p. 100\n",
       "</p>\n",
       "\n",
       "\n",
       "<h3>References</h3>\n",
       "\n",
       "<p>Venables, W. N. and Ripley, B. D. (2002)\n",
       "<em>Modern Applied Statistics with S.</em> Fourth edition.  Springer.\n",
       "</p>\n",
       "\n",
       "<hr /><div style=\"text-align: center;\">[Package <em>MASS</em> version 7.3-51.5 ]</div>"
      ],
      "text/latex": [
       "\\inputencoding{utf8}\n",
       "\\HeaderA{shoes}{Shoe wear data of Box, Hunter and Hunter}{shoes}\n",
       "\\keyword{datasets}{shoes}\n",
       "%\n",
       "\\begin{Description}\\relax\n",
       "A list of two vectors, giving the wear of shoes of materials A and B\n",
       "for one foot each of ten boys.\n",
       "\\end{Description}\n",
       "%\n",
       "\\begin{Usage}\n",
       "\\begin{verbatim}\n",
       "shoes\n",
       "\\end{verbatim}\n",
       "\\end{Usage}\n",
       "%\n",
       "\\begin{Source}\\relax\n",
       "G. E. P. Box, W. G. Hunter and J. S. Hunter (1978)\n",
       "\\emph{Statistics for Experimenters.} Wiley, p. 100\n",
       "\\end{Source}\n",
       "%\n",
       "\\begin{References}\\relax\n",
       "Venables, W. N. and Ripley, B. D. (2002)\n",
       "\\emph{Modern Applied Statistics with S.} Fourth edition.  Springer.\n",
       "\\end{References}"
      ],
      "text/plain": [
       "shoes                   package:MASS                   R Documentation\n",
       "\n",
       "_\bS_\bh_\bo_\be _\bw_\be_\ba_\br _\bd_\ba_\bt_\ba _\bo_\bf _\bB_\bo_\bx, _\bH_\bu_\bn_\bt_\be_\br _\ba_\bn_\bd _\bH_\bu_\bn_\bt_\be_\br\n",
       "\n",
       "_\bD_\be_\bs_\bc_\br_\bi_\bp_\bt_\bi_\bo_\bn:\n",
       "\n",
       "     A list of two vectors, giving the wear of shoes of materials A and\n",
       "     B for one foot each of ten boys.\n",
       "\n",
       "_\bU_\bs_\ba_\bg_\be:\n",
       "\n",
       "     shoes\n",
       "     \n",
       "_\bS_\bo_\bu_\br_\bc_\be:\n",
       "\n",
       "     G. E. P. Box, W. G. Hunter and J. S. Hunter (1978) _Statistics for\n",
       "     Experimenters._ Wiley, p. 100\n",
       "\n",
       "_\bR_\be_\bf_\be_\br_\be_\bn_\bc_\be_\bs:\n",
       "\n",
       "     Venables, W. N. and Ripley, B. D. (2002) _Modern Applied\n",
       "     Statistics with S._ Fourth edition.  Springer.\n"
      ]
     },
     "metadata": {},
     "output_type": "display_data"
    }
   ],
   "source": [
    "# ex) 신발 밑창 원재료에 따라 소모정도가 다른가?\n",
    "# 10명의 아이들에게 A/B사 밑창재료로 만든 신발을 신기고 각각의 소모정도를 조사하였을때\n",
    "# 유의수준 5%에서 각 원재료 소모정도는 차이가 있는가를 검정하시오\n",
    "library(MASS)\n",
    "?shoes"
   ]
  },
  {
   "cell_type": "code",
   "execution_count": 9,
   "id": "f77ab0d1-53c0-4eeb-b958-56d951429fbd",
   "metadata": {},
   "outputs": [
    {
     "data": {
      "text/html": [
       "<dl>\n",
       "\t<dt>$A</dt>\n",
       "\t\t<dd><style>\n",
       ".list-inline {list-style: none; margin:0; padding: 0}\n",
       ".list-inline>li {display: inline-block}\n",
       ".list-inline>li:not(:last-child)::after {content: \"\\00b7\"; padding: 0 .5ex}\n",
       "</style>\n",
       "<ol class=list-inline><li>13.2</li><li>8.2</li><li>10.9</li><li>14.3</li><li>10.7</li><li>6.6</li><li>9.5</li><li>10.8</li><li>8.8</li><li>13.3</li></ol>\n",
       "</dd>\n",
       "\t<dt>$B</dt>\n",
       "\t\t<dd><style>\n",
       ".list-inline {list-style: none; margin:0; padding: 0}\n",
       ".list-inline>li {display: inline-block}\n",
       ".list-inline>li:not(:last-child)::after {content: \"\\00b7\"; padding: 0 .5ex}\n",
       "</style>\n",
       "<ol class=list-inline><li>14</li><li>8.8</li><li>11.2</li><li>14.2</li><li>11.8</li><li>6.4</li><li>9.8</li><li>11.3</li><li>9.3</li><li>13.6</li></ol>\n",
       "</dd>\n",
       "</dl>\n"
      ],
      "text/latex": [
       "\\begin{description}\n",
       "\\item[\\$A] \\begin{enumerate*}\n",
       "\\item 13.2\n",
       "\\item 8.2\n",
       "\\item 10.9\n",
       "\\item 14.3\n",
       "\\item 10.7\n",
       "\\item 6.6\n",
       "\\item 9.5\n",
       "\\item 10.8\n",
       "\\item 8.8\n",
       "\\item 13.3\n",
       "\\end{enumerate*}\n",
       "\n",
       "\\item[\\$B] \\begin{enumerate*}\n",
       "\\item 14\n",
       "\\item 8.8\n",
       "\\item 11.2\n",
       "\\item 14.2\n",
       "\\item 11.8\n",
       "\\item 6.4\n",
       "\\item 9.8\n",
       "\\item 11.3\n",
       "\\item 9.3\n",
       "\\item 13.6\n",
       "\\end{enumerate*}\n",
       "\n",
       "\\end{description}\n"
      ],
      "text/markdown": [
       "$A\n",
       ":   1. 13.2\n",
       "2. 8.2\n",
       "3. 10.9\n",
       "4. 14.3\n",
       "5. 10.7\n",
       "6. 6.6\n",
       "7. 9.5\n",
       "8. 10.8\n",
       "9. 8.8\n",
       "10. 13.3\n",
       "\n",
       "\n",
       "\n",
       "$B\n",
       ":   1. 14\n",
       "2. 8.8\n",
       "3. 11.2\n",
       "4. 14.2\n",
       "5. 11.8\n",
       "6. 6.4\n",
       "7. 9.8\n",
       "8. 11.3\n",
       "9. 9.3\n",
       "10. 13.6\n",
       "\n",
       "\n",
       "\n",
       "\n",
       "\n"
      ],
      "text/plain": [
       "$A\n",
       " [1] 13.2  8.2 10.9 14.3 10.7  6.6  9.5 10.8  8.8 13.3\n",
       "\n",
       "$B\n",
       " [1] 14.0  8.8 11.2 14.2 11.8  6.4  9.8 11.3  9.3 13.6\n"
      ]
     },
     "metadata": {},
     "output_type": "display_data"
    }
   ],
   "source": [
    "head(shoes)"
   ]
  },
  {
   "cell_type": "markdown",
   "id": "9e8e28d8-8e67-4a80-bb51-9e0d2b564858",
   "metadata": {},
   "source": [
    "* 귀무가설 : A/B사 원재료 소모정도는 차이가 없다 <br>\n",
    "  대립가설 : A/B사 원재료 소모정도는 차이가 있다 => 양측검정\n",
    "* 유의수준 0.05\n",
    "* 자유도 : 10 - 1 = 9\n",
    "* 임계값 : -2.262, 2.262"
   ]
  },
  {
   "cell_type": "code",
   "execution_count": 10,
   "id": "6da7cb74-3140-4f65-ac01-cdf3c1761e9b",
   "metadata": {},
   "outputs": [
    {
     "data": {
      "text/plain": [
       "\n",
       "\tShapiro-Wilk normality test\n",
       "\n",
       "data:  shoes$A\n",
       "W = 0.9624, p-value = 0.8129\n"
      ]
     },
     "metadata": {},
     "output_type": "display_data"
    },
    {
     "data": {
      "text/plain": [
       "\n",
       "\tShapiro-Wilk normality test\n",
       "\n",
       "data:  shoes$B\n",
       "W = 0.94815, p-value = 0.6467\n"
      ]
     },
     "metadata": {},
     "output_type": "display_data"
    }
   ],
   "source": [
    "shapiro.test(shoes$A)   # 0.8129\n",
    "shapiro.test(shoes$B)   # 0.6467"
   ]
  },
  {
   "cell_type": "code",
   "execution_count": 11,
   "id": "73d3f8ac-8661-4358-bee7-79483aee86d2",
   "metadata": {},
   "outputs": [
    {
     "data": {
      "text/plain": [
       "\n",
       "\tPaired t-test\n",
       "\n",
       "data:  shoes$A and shoes$B\n",
       "t = -3.3489, df = 9, p-value = 0.008539\n",
       "alternative hypothesis: true difference in means is not equal to 0\n",
       "95 percent confidence interval:\n",
       " -0.6869539 -0.1330461\n",
       "sample estimates:\n",
       "mean of the differences \n",
       "                  -0.41 \n"
      ]
     },
     "metadata": {},
     "output_type": "display_data"
    }
   ],
   "source": [
    "t.test(shoes$A, shoes$B, paired=T, alternative=c('two.sided'))\n",
    "# t = -3.3489, p-value = 0.008539\n",
    "# 귀무가설 기각 => A/B사 원재료 소모정도는 차이가 있을 가능성이 크다"
   ]
  },
  {
   "cell_type": "code",
   "execution_count": 12,
   "id": "23b68525-e15a-4d73-8a5a-17e010383a9f",
   "metadata": {},
   "outputs": [],
   "source": [
    "# ex) 새로운 당뇨병 치료제를 만든 제약회사에서 신약 효과를 알아보려 함. \n",
    "# 10명의 당뇨병 환자를 선별해서 혈당의 차이를 유의수준 5%에서 검정하시오\n",
    "# old : 51.4, 52.0, 45.5, 54.5, 52.3, 50.9, 52.7, 50.3, 53.8, 53.1\n",
    "# new : 50.1, 51.5, 45.9, 53.1, 51.8, 50.3, 52.0, 49.9, 52.5, 53.0"
   ]
  },
  {
   "cell_type": "code",
   "execution_count": 13,
   "id": "c616fed6-2342-4f97-bbcf-8174577fe3ff",
   "metadata": {},
   "outputs": [],
   "source": [
    "old <- c(51.4, 52.0, 45.5, 54.5, 52.3, 50.9, 52.7, 50.3, 53.8, 53.1)\n",
    "new <- c(50.1, 51.5, 45.9, 53.1, 51.8, 50.3, 52.0, 49.9, 52.5, 53.0)"
   ]
  },
  {
   "cell_type": "markdown",
   "id": "210c5b3a-4e29-48fb-a824-cdcf24b0d4ac",
   "metadata": {},
   "source": [
    "* 귀무가설 : 혈당의 차이가 없다 <br>\n",
    "  대립가설 : 혈당의 차이가 있다 => 양측검정\n",
    "* 유의수준 0.05\n",
    "* 자유도 : 10 - 1 = 9\n",
    "* 임계값 : -2.626, 2.626"
   ]
  },
  {
   "cell_type": "code",
   "execution_count": 14,
   "id": "6f91ba27-ac5d-47bd-97ac-dc4729610095",
   "metadata": {},
   "outputs": [
    {
     "data": {
      "text/plain": [
       "\n",
       "\tShapiro-Wilk normality test\n",
       "\n",
       "data:  old\n",
       "W = 0.85289, p-value = 0.06287\n"
      ]
     },
     "metadata": {},
     "output_type": "display_data"
    },
    {
     "data": {
      "text/plain": [
       "\n",
       "\tShapiro-Wilk normality test\n",
       "\n",
       "data:  new\n",
       "W = 0.84351, p-value = 0.04861\n"
      ]
     },
     "metadata": {},
     "output_type": "display_data"
    }
   ],
   "source": [
    "shapiro.test(old)   # 0.06287\n",
    "shapiro.test(new)   # 0.04861"
   ]
  },
  {
   "cell_type": "code",
   "execution_count": 15,
   "id": "9290745a-f68c-47e2-afe7-bfafcdb4082d",
   "metadata": {},
   "outputs": [
    {
     "data": {
      "text/plain": [
       "\n",
       "\tPaired t-test\n",
       "\n",
       "data:  old and new\n",
       "t = 3.5507, df = 9, p-value = 0.006209\n",
       "alternative hypothesis: true difference in means is not equal to 0\n",
       "95 percent confidence interval:\n",
       " 0.2322535 1.0477465\n",
       "sample estimates:\n",
       "mean of the differences \n",
       "                   0.64 \n"
      ]
     },
     "metadata": {},
     "output_type": "display_data"
    }
   ],
   "source": [
    "t.test(old, new, paired=T, alternative=c('two.sided'))\n",
    "# t = 3.5507, p-value = 0.006209\n",
    "# 귀무가설 기각 => 신약은 효과가 있을 가능성이 크다"
   ]
  },
  {
   "cell_type": "code",
   "execution_count": 16,
   "id": "38e279f4-ec49-4567-b438-7b23fc57e00d",
   "metadata": {},
   "outputs": [],
   "source": [
    "# ex) 12명의 영업사원에게 인센티브 지급 전/후 주급 증가여부 확인하려 한다\n",
    "# 인센티브 지급 후 주급은 증가했는지를 유의수준 0.05로 검정하시오\n",
    "# before : 320, 290, 421, 510, 210, 402, 625, 560, 360, 431, 506, 505\n",
    "# after : 340, 285, 475, 510, 210, 500, 631, 560, 365, 431, 525, 619"
   ]
  },
  {
   "cell_type": "code",
   "execution_count": 17,
   "id": "d9d9fc73-ef08-4bcc-b7b6-c75397bc64f2",
   "metadata": {},
   "outputs": [],
   "source": [
    "before <- c(320, 290, 421, 510, 210, 402, 625, 560, 360, 431, 506, 505)\n",
    "after <- c(340, 285, 475, 510, 210, 500, 631, 560, 365, 431, 525, 619)"
   ]
  },
  {
   "cell_type": "markdown",
   "id": "735f5125-74a9-4d21-b388-0c32d0b5c4ba",
   "metadata": {},
   "source": [
    "* 귀무가설 : 주급의 변화가 없다 <br>\n",
    "  대립가설 : 주급이 증가했다 => 주급의 변화가 있다 => 단측검정\n",
    "* 유의수준 0.05\n",
    "* 자유도 : 12 - 1 = 11\n",
    "* 임계값 : 1.796"
   ]
  },
  {
   "cell_type": "code",
   "execution_count": 18,
   "id": "bef361d7-80fc-4ed8-9e41-b8cbd6c73eba",
   "metadata": {},
   "outputs": [
    {
     "data": {
      "text/plain": [
       "\n",
       "\tShapiro-Wilk normality test\n",
       "\n",
       "data:  before\n",
       "W = 0.98183, p-value = 0.9899\n"
      ]
     },
     "metadata": {},
     "output_type": "display_data"
    },
    {
     "data": {
      "text/plain": [
       "\n",
       "\tShapiro-Wilk normality test\n",
       "\n",
       "data:  after\n",
       "W = 0.95762, p-value = 0.7493\n"
      ]
     },
     "metadata": {},
     "output_type": "display_data"
    }
   ],
   "source": [
    "shapiro.test(before)  # 0.6459\n",
    "shapiro.test(after)   # 0.7332"
   ]
  },
  {
   "cell_type": "code",
   "execution_count": 19,
   "id": "cd65c5cf-7b4a-4f2e-a11c-09168954030b",
   "metadata": {},
   "outputs": [
    {
     "data": {
      "text/plain": [
       "\n",
       "\tPaired t-test\n",
       "\n",
       "data:  before and after\n",
       "t = -2.2009, df = 11, p-value = 0.975\n",
       "alternative hypothesis: true difference in means is greater than 0\n",
       "95 percent confidence interval:\n",
       " -47.06381       Inf\n",
       "sample estimates:\n",
       "mean of the differences \n",
       "              -25.91667 \n"
      ]
     },
     "metadata": {},
     "output_type": "display_data"
    }
   ],
   "source": [
    "t.test(before, after, paired=T, alternative=c('greater'))\n",
    "# t = -4.4721, p-value = 0.9992\n",
    "# 귀무가설 채택 => 주급의 변화가 없을 확률이 더 크다"
   ]
  },
  {
   "cell_type": "code",
   "execution_count": 20,
   "id": "89a6d3c9-93e8-40ba-97ff-654efddc671d",
   "metadata": {},
   "outputs": [],
   "source": [
    "# ex) 정부에서는 범죄율을 줄이기 위한 프로그램에 막대한 예산을 지급하고 있음. \n",
    "# 각 지역에 프로그램 시행 전/후 범죄율을 다음과 같이 조사하였을때\n",
    "# 유의수준 0.01로 범죄수가 감소했는지 검정하시오\n",
    "# 전 : 14 7 4 5 17 12 8 9\n",
    "# 후 : 2 7 3 6 8 13 3 5"
   ]
  },
  {
   "cell_type": "code",
   "execution_count": null,
   "id": "05cfa70a-6075-4fbc-a340-e55d87d6192f",
   "metadata": {},
   "outputs": [],
   "source": []
  },
  {
   "cell_type": "code",
   "execution_count": null,
   "id": "8e1924a1-3d4b-4227-bd6d-299c316e6747",
   "metadata": {},
   "outputs": [],
   "source": []
  },
  {
   "cell_type": "code",
   "execution_count": null,
   "id": "ecbef40f-08cb-45f6-bd32-4272f669f479",
   "metadata": {},
   "outputs": [],
   "source": []
  }
 ],
 "metadata": {
  "kernelspec": {
   "display_name": "R",
   "language": "R",
   "name": "ir"
  },
  "language_info": {
   "codemirror_mode": "r",
   "file_extension": ".r",
   "mimetype": "text/x-r-source",
   "name": "R",
   "pygments_lexer": "r",
   "version": "3.6.3"
  }
 },
 "nbformat": 4,
 "nbformat_minor": 5
}
