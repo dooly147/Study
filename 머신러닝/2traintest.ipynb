{
 "cells": [
  {
   "cell_type": "code",
   "execution_count": 1,
   "id": "0f0116a9-97fd-43e2-8e5a-1ed135fba749",
   "metadata": {},
   "outputs": [],
   "source": [
    "import numpy as np\n",
    "import pandas as pd\n",
    "import matplotlib.pyplot as plt\n",
    "import sklearn"
   ]
  },
  {
   "cell_type": "markdown",
   "id": "f2d87951-2533-4fa0-9e36-378b0b095696",
   "metadata": {},
   "source": [
    "## 훈련과 테스트 데이터\n",
    "* 머신러닝 모델을 만들기 위해서는 훈련(학습)에 필요한 집합이 있어야 함\n",
    "* 하지만, 전체 데이터 모두를 학습에 사용하면 과적합 문제 발생"
   ]
  },
  {
   "cell_type": "code",
   "execution_count": 13,
   "id": "ae6581ba-5131-49a2-b73a-4f6eba980e36",
   "metadata": {},
   "outputs": [],
   "source": [
    "# train/test 데이터 분할의 필요성 알아보기\n",
    "from sklearn.datasets import load_iris\n",
    "from sklearn.tree import DecisionTreeClassifier\n",
    "from sklearn.metrics import accuracy_score"
   ]
  },
  {
   "cell_type": "code",
   "execution_count": 14,
   "id": "c9bcb887-7b3c-45de-8752-6f9f145db78b",
   "metadata": {},
   "outputs": [],
   "source": [
    "# 데이터 적재\n",
    "iris = load_iris()\n",
    "data = iris.data # 특성/독립변수\n",
    "label = iris.target # 레이블/종속변수"
   ]
  },
  {
   "cell_type": "code",
   "execution_count": 16,
   "id": "325eac92-21fd-4324-afe2-1d11e158b412",
   "metadata": {},
   "outputs": [
    {
     "data": {
      "text/plain": [
       "array([0, 0, 0, 0, 0, 0, 0, 0, 0, 0, 0, 0, 0, 0, 0, 0, 0, 0, 0, 0, 0, 0,\n",
       "       0, 0, 0, 0, 0, 0, 0, 0, 0, 0, 0, 0, 0, 0, 0, 0, 0, 0, 0, 0, 0, 0,\n",
       "       0, 0, 0, 0, 0, 0, 1, 1, 1, 1, 1, 1, 1, 1, 1, 1, 1, 1, 1, 1, 1, 1,\n",
       "       1, 1, 1, 1, 1, 1, 1, 1, 1, 1, 1, 1, 1, 1, 1, 1, 1, 1, 1, 1, 1, 1,\n",
       "       1, 1, 1, 1, 1, 1, 1, 1, 1, 1, 1, 1, 2, 2, 2, 2, 2, 2, 2, 2, 2, 2,\n",
       "       2, 2, 2, 2, 2, 2, 2, 2, 2, 2, 2, 2, 2, 2, 2, 2, 2, 2, 2, 2, 2, 2,\n",
       "       2, 2, 2, 2, 2, 2, 2, 2, 2, 2, 2, 2, 2, 2, 2, 2, 2, 2])"
      ]
     },
     "execution_count": 16,
     "metadata": {},
     "output_type": "execute_result"
    }
   ],
   "source": [
    "a = load_iris()\n",
    "label"
   ]
  },
  {
   "cell_type": "code",
   "execution_count": 58,
   "id": "d08c9b72-ceaa-4c79-9358-f227651c3a56",
   "metadata": {},
   "outputs": [
    {
     "data": {
      "text/plain": [
       "DecisionTreeClassifier()"
      ]
     },
     "execution_count": 58,
     "metadata": {},
     "output_type": "execute_result"
    }
   ],
   "source": [
    "# 의사결정나무 모델 생성을 위해 주어진 변수들로 학습을 시켜봄\n",
    "dtclf = DecisionTreeClassifier()\n",
    "dtclf.fit(data, label)"
   ]
  },
  {
   "cell_type": "code",
   "execution_count": 59,
   "id": "5196e292-6eea-48a8-b8f4-277ed44137fb",
   "metadata": {},
   "outputs": [],
   "source": [
    "# 생성된 모델에 기존 변수를 이용해서 예측(predict)을 해봄\n",
    "pred = dtclf.predict(data)"
   ]
  },
  {
   "cell_type": "code",
   "execution_count": 60,
   "id": "6bfdb286-992f-4938-825d-7f9d338c3a91",
   "metadata": {},
   "outputs": [
    {
     "data": {
      "text/plain": [
       "1.0"
      ]
     },
     "execution_count": 60,
     "metadata": {},
     "output_type": "execute_result"
    }
   ],
   "source": [
    "# 예측값과 실제값을 비교해서 정확도를 알아봄\n",
    "accuracy_score(label, pred)"
   ]
  },
  {
   "cell_type": "code",
   "execution_count": 61,
   "id": "c4d474ea-464f-4ce8-9edf-eba8baba392d",
   "metadata": {},
   "outputs": [],
   "source": [
    "# 모델을 학습할때 사용한 데이터를\n",
    "# 모델을 평가할때도 사용함 => 정확도 : 1 => 과적합"
   ]
  },
  {
   "cell_type": "code",
   "execution_count": 62,
   "id": "e385e7b4-6819-4983-80c1-4704b981ce4a",
   "metadata": {},
   "outputs": [],
   "source": [
    "# 데이터를 학습용/평가용 데이터로 분할1\n",
    "# 분할비율 7 : 3\n",
    "# iris 데이터 건수 : 150 => 105 : 45 로 결정\n",
    "train_data = iris.data[:105,]\n",
    "test_data = iris.data[105:,]"
   ]
  },
  {
   "cell_type": "code",
   "execution_count": 63,
   "id": "c6757114-3ca4-4dc3-8f7a-779ec136e3ff",
   "metadata": {},
   "outputs": [],
   "source": [
    "train_target = iris.target[:105,]\n",
    "test_target = iris.target[105:,]"
   ]
  },
  {
   "cell_type": "code",
   "execution_count": 64,
   "id": "4eda6a04-2831-4f32-a743-097798375dfe",
   "metadata": {},
   "outputs": [
    {
     "data": {
      "text/plain": [
       "DecisionTreeClassifier()"
      ]
     },
     "execution_count": 64,
     "metadata": {},
     "output_type": "execute_result"
    }
   ],
   "source": [
    "dtclf = DecisionTreeClassifier()\n",
    "dtclf.fit(train_data, train_target)"
   ]
  },
  {
   "cell_type": "code",
   "execution_count": 65,
   "id": "6ab4371a-e9a0-4a87-b754-4e4fa0e2a3ac",
   "metadata": {},
   "outputs": [
    {
     "data": {
      "text/plain": [
       "0.7333333333333333"
      ]
     },
     "execution_count": 65,
     "metadata": {},
     "output_type": "execute_result"
    }
   ],
   "source": [
    "pred = dtclf.predict(test_data)\n",
    "accuracy_score(test_target, pred)"
   ]
  },
  {
   "cell_type": "code",
   "execution_count": 66,
   "id": "05bdbe19-aa18-4b6c-84ce-c78cd81f84d5",
   "metadata": {},
   "outputs": [
    {
     "data": {
      "text/plain": [
       "0    50\n",
       "1    50\n",
       "2     5\n",
       "dtype: int64"
      ]
     },
     "execution_count": 66,
     "metadata": {},
     "output_type": "execute_result"
    }
   ],
   "source": [
    "# 데이터분할이 잘되었는지 확인\n",
    "pd.Series(train_target).value_counts()"
   ]
  },
  {
   "cell_type": "code",
   "execution_count": 67,
   "id": "57dee038-ec34-457f-b4b6-2073caef1d29",
   "metadata": {},
   "outputs": [
    {
     "data": {
      "text/plain": [
       "2    45\n",
       "dtype: int64"
      ]
     },
     "execution_count": 67,
     "metadata": {},
     "output_type": "execute_result"
    }
   ],
   "source": [
    "# 데이터분할이 잘되었는지 확인 \n",
    "pd.Series(test_target).value_counts()"
   ]
  },
  {
   "cell_type": "code",
   "execution_count": 68,
   "id": "ee1ab877-7bc2-40cf-bbd6-a118d0fd9850",
   "metadata": {},
   "outputs": [],
   "source": [
    "# 데이터를 앞에서 부터 순서대로 나눴기 때문에\n",
    "# 종속변수의 비율이 일정하지 않음\n",
    "# setosa, versicolor, verginica의 비율이 모두 같아야하는데\n",
    "# train에는 setosa, versicolor 위주로\n",
    "# test에는 verginica 위주로 데이터가 분할됨"
   ]
  },
  {
   "cell_type": "markdown",
   "id": "fb7f30c8-89fb-45be-b6ea-d5304eac6499",
   "metadata": {},
   "source": [
    "### 데이터를 학습용/평가용 데이터로 분할2\n",
    "* 독립변수의 속성들의 분포를 고려한 표본추출 필요\n",
    "    + sklearn의 train_test_split 함수 사용\n",
    "* train_test_split(독립변수, 종속변수, 훈련데이터크기, 평가데이터크기, 계층추출여부(분류용), 시드값)"
   ]
  },
  {
   "cell_type": "code",
   "execution_count": 69,
   "id": "09d1e11f-28d5-4186-9b53-27064443f95e",
   "metadata": {},
   "outputs": [],
   "source": [
    "from sklearn.model_selection import train_test_split"
   ]
  },
  {
   "cell_type": "code",
   "execution_count": 70,
   "id": "09c3da30-dbfa-4341-81b3-b6896b2e7d59",
   "metadata": {},
   "outputs": [],
   "source": [
    "Xtrain, Xtest, ytrain, ytest = train_test_split(iris.data, iris.target, train_size=0.7, test_size=0.3, random_state=2111040945)"
   ]
  },
  {
   "cell_type": "code",
   "execution_count": 71,
   "id": "fa81cf03-d3cb-416d-9303-f542b0be09fc",
   "metadata": {},
   "outputs": [
    {
     "data": {
      "text/plain": [
       "0    39\n",
       "1    35\n",
       "2    31\n",
       "dtype: int64"
      ]
     },
     "execution_count": 71,
     "metadata": {},
     "output_type": "execute_result"
    }
   ],
   "source": [
    "pd.Series(ytrain).value_counts()"
   ]
  },
  {
   "cell_type": "code",
   "execution_count": 72,
   "id": "cdeff163-10df-4a87-9e5a-65a178229057",
   "metadata": {},
   "outputs": [
    {
     "data": {
      "text/plain": [
       "2    19\n",
       "1    15\n",
       "0    11\n",
       "dtype: int64"
      ]
     },
     "execution_count": 72,
     "metadata": {},
     "output_type": "execute_result"
    }
   ],
   "source": [
    "pd.Series(ytest).value_counts()"
   ]
  },
  {
   "cell_type": "code",
   "execution_count": 73,
   "id": "82204e3f-4aa0-45a4-9f2d-bad008074ec5",
   "metadata": {},
   "outputs": [],
   "source": [
    "Xtrain, Xtest, ytrain, ytest = train_test_split(iris.data, iris.target, train_size=0.7, test_size=0.3, stratify=iris.target, random_state=2111040945)"
   ]
  },
  {
   "cell_type": "code",
   "execution_count": 74,
   "id": "d757a747-cca3-41e4-b8a4-373cf69254cf",
   "metadata": {},
   "outputs": [
    {
     "data": {
      "text/plain": [
       "2    35\n",
       "1    35\n",
       "0    35\n",
       "dtype: int64"
      ]
     },
     "execution_count": 74,
     "metadata": {},
     "output_type": "execute_result"
    }
   ],
   "source": [
    "pd.Series(ytrain).value_counts()"
   ]
  },
  {
   "cell_type": "code",
   "execution_count": 75,
   "id": "fbaed976-32e1-45b9-b010-00e81734f5fd",
   "metadata": {},
   "outputs": [
    {
     "data": {
      "text/plain": [
       "0    15\n",
       "2    15\n",
       "1    15\n",
       "dtype: int64"
      ]
     },
     "execution_count": 75,
     "metadata": {},
     "output_type": "execute_result"
    }
   ],
   "source": [
    "pd.Series(ytest).value_counts()"
   ]
  },
  {
   "cell_type": "code",
   "execution_count": 76,
   "id": "19145b26-ff48-4d13-95eb-025c1b889586",
   "metadata": {},
   "outputs": [
    {
     "data": {
      "text/plain": [
       "0.9111111111111111"
      ]
     },
     "execution_count": 76,
     "metadata": {},
     "output_type": "execute_result"
    }
   ],
   "source": [
    "dtclf = DecisionTreeClassifier()\n",
    "dtclf.fit(Xtrain,ytrain)\n",
    "pred = dtclf.predict(Xtest)\n",
    "accuracy_score(ytest, pred)"
   ]
  },
  {
   "cell_type": "markdown",
   "id": "e94fe4e8-1160-4908-afcc-e10b5e208af8",
   "metadata": {},
   "source": [
    "### 데이터를 학습용/평가용 데이터로 분할3\n",
    "* 데이터수가 작은 경우 데이터의 일부인 평가데이터도 작음\n",
    "    + 성능평가의 신뢰도 의심 \n",
    "* 데이터를 동일한 크기로 k개 나누고 이들 중 훈련/평가데이터로 구분지어 순환적으로 훈련 및 평가를 k번 실시함\n",
    "    + K fold 교차검증이라고 함\n",
    "* corss_val_ccore(모델객체, 독립변수, 종속변수, 평가방법, 검증횟수)"
   ]
  },
  {
   "cell_type": "code",
   "execution_count": null,
   "id": "828b74f7-1732-4f99-8859-5dc5b4e334d1",
   "metadata": {},
   "outputs": [],
   "source": [
    "from sklDecisionTreeClassifiermodel_selection import cross_val_scroe"
   ]
  },
  {
   "cell_type": "code",
   "execution_count": null,
   "id": "ac8dfeb6-2fc4-4c05-b98e-7147715edfad",
   "metadata": {},
   "outputs": [],
   "source": [
    "dtclf = DecisionTreeClassifier()\n",
    "scores =cross_val_scroe(dtclf, iris.data, iris.target, scoring='accuracy', cv=5)"
   ]
  },
  {
   "cell_type": "code",
   "execution_count": null,
   "id": "9e12dd66-d33e-4bed-b718-890d735051e1",
   "metadata": {},
   "outputs": [],
   "source": [
    "scores"
   ]
  },
  {
   "cell_type": "code",
   "execution_count": null,
   "id": "f3cfb192-f28a-499f-944f-63b3fd68b416",
   "metadata": {},
   "outputs": [],
   "source": [
    "np.mean(scores)"
   ]
  },
  {
   "cell_type": "code",
   "execution_count": null,
   "id": "0762ec15-4bcd-44a9-bf23-d77a384f08e8",
   "metadata": {},
   "outputs": [],
   "source": []
  }
 ],
 "metadata": {
  "kernelspec": {
   "display_name": "Python 3 (ipykernel)",
   "language": "python",
   "name": "python3"
  },
  "language_info": {
   "codemirror_mode": {
    "name": "ipython",
    "version": 3
   },
   "file_extension": ".py",
   "mimetype": "text/x-python",
   "name": "python",
   "nbconvert_exporter": "python",
   "pygments_lexer": "ipython3",
   "version": "3.7.10"
  }
 },
 "nbformat": 4,
 "nbformat_minor": 5
}
