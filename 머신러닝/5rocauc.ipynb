{
 "cells": [
  {
   "cell_type": "markdown",
   "id": "f25560ee-4efd-4ad7-9a5d-b3bc65e91ca9",
   "metadata": {},
   "source": [
    "### ROC\n",
    "* 수신자 판단 곡선 (receiver operation characteristic)\n",
    "* 세계 2차대전 통신장비 성능평가를 위해 고안된 수치\n",
    "    + 레이더 데이터를 분석해서 적 항공기와 신호소음을 구분\n",
    "    + 수신기의 감도가 증가함에 따라 거짓긍정(특이성)의 수가 감소\n",
    "* 의학분야에 많이 사용되지만 머신러닝의 이진분류 모델 성능 평가에도 사용\n",
    "* ROC 곡선의 y축은 민감도, x축은 1-재현율로 그림\n",
    "* 모델이 양성/긍정으로 예측했을때 얼마나 잘 맞추고 있는지 설명"
   ]
  },
  {
   "cell_type": "code",
   "execution_count": 78,
   "id": "c743a3f1-c207-457a-9db8-a56e4995e679",
   "metadata": {},
   "outputs": [],
   "source": [
    "# 타이타닉 데이터셋을 로지스틱 회귀로 분석한 후 특이도/재현율을 구한 다음 ROC 그래프를 구하여라"
   ]
  },
  {
   "cell_type": "code",
   "execution_count": 79,
   "id": "ebad1237-0a28-4b37-9e6e-6b1d3f0e29ff",
   "metadata": {},
   "outputs": [],
   "source": [
    "import numpy as np\n",
    "import pandas as pd\n",
    "import matplotlib.pyplot as plt\n",
    "import seaborn as sns"
   ]
  },
  {
   "cell_type": "code",
   "execution_count": 80,
   "id": "59991c38-dab9-413f-b2a1-a7dd87fa1ec1",
   "metadata": {},
   "outputs": [
    {
     "data": {
      "text/html": [
       "<div>\n",
       "<style scoped>\n",
       "    .dataframe tbody tr th:only-of-type {\n",
       "        vertical-align: middle;\n",
       "    }\n",
       "\n",
       "    .dataframe tbody tr th {\n",
       "        vertical-align: top;\n",
       "    }\n",
       "\n",
       "    .dataframe thead th {\n",
       "        text-align: right;\n",
       "    }\n",
       "</style>\n",
       "<table border=\"1\" class=\"dataframe\">\n",
       "  <thead>\n",
       "    <tr style=\"text-align: right;\">\n",
       "      <th></th>\n",
       "      <th>pclass</th>\n",
       "      <th>survived</th>\n",
       "      <th>name</th>\n",
       "      <th>sex</th>\n",
       "      <th>age</th>\n",
       "      <th>sibsp</th>\n",
       "      <th>parch</th>\n",
       "      <th>ticket</th>\n",
       "      <th>fare</th>\n",
       "      <th>embarked</th>\n",
       "      <th>life</th>\n",
       "      <th>seat</th>\n",
       "      <th>port</th>\n",
       "    </tr>\n",
       "  </thead>\n",
       "  <tbody>\n",
       "    <tr>\n",
       "      <th>0</th>\n",
       "      <td>1</td>\n",
       "      <td>1</td>\n",
       "      <td>Allen, Miss. Elisabeth Walton</td>\n",
       "      <td>female</td>\n",
       "      <td>29.0000</td>\n",
       "      <td>0</td>\n",
       "      <td>0</td>\n",
       "      <td>24160</td>\n",
       "      <td>211.3375</td>\n",
       "      <td>S</td>\n",
       "      <td>live</td>\n",
       "      <td>1st</td>\n",
       "      <td>southampthon</td>\n",
       "    </tr>\n",
       "    <tr>\n",
       "      <th>1</th>\n",
       "      <td>1</td>\n",
       "      <td>1</td>\n",
       "      <td>Allison, Master. Hudson Trevor</td>\n",
       "      <td>male</td>\n",
       "      <td>0.9167</td>\n",
       "      <td>1</td>\n",
       "      <td>2</td>\n",
       "      <td>113781</td>\n",
       "      <td>151.5500</td>\n",
       "      <td>S</td>\n",
       "      <td>live</td>\n",
       "      <td>1st</td>\n",
       "      <td>southampthon</td>\n",
       "    </tr>\n",
       "    <tr>\n",
       "      <th>2</th>\n",
       "      <td>1</td>\n",
       "      <td>0</td>\n",
       "      <td>Allison, Miss. Helen Loraine</td>\n",
       "      <td>female</td>\n",
       "      <td>2.0000</td>\n",
       "      <td>1</td>\n",
       "      <td>2</td>\n",
       "      <td>113781</td>\n",
       "      <td>151.5500</td>\n",
       "      <td>S</td>\n",
       "      <td>dead</td>\n",
       "      <td>1st</td>\n",
       "      <td>southampthon</td>\n",
       "    </tr>\n",
       "    <tr>\n",
       "      <th>3</th>\n",
       "      <td>1</td>\n",
       "      <td>0</td>\n",
       "      <td>Allison, Mr. Hudson Joshua Creighton</td>\n",
       "      <td>male</td>\n",
       "      <td>30.0000</td>\n",
       "      <td>1</td>\n",
       "      <td>2</td>\n",
       "      <td>113781</td>\n",
       "      <td>151.5500</td>\n",
       "      <td>S</td>\n",
       "      <td>dead</td>\n",
       "      <td>1st</td>\n",
       "      <td>southampthon</td>\n",
       "    </tr>\n",
       "    <tr>\n",
       "      <th>4</th>\n",
       "      <td>1</td>\n",
       "      <td>0</td>\n",
       "      <td>Allison, Mrs. Hudson J C (Bessie Waldo Daniels)</td>\n",
       "      <td>female</td>\n",
       "      <td>25.0000</td>\n",
       "      <td>1</td>\n",
       "      <td>2</td>\n",
       "      <td>113781</td>\n",
       "      <td>151.5500</td>\n",
       "      <td>S</td>\n",
       "      <td>dead</td>\n",
       "      <td>1st</td>\n",
       "      <td>southampthon</td>\n",
       "    </tr>\n",
       "  </tbody>\n",
       "</table>\n",
       "</div>"
      ],
      "text/plain": [
       "   pclass  survived                                             name     sex  \\\n",
       "0       1         1                    Allen, Miss. Elisabeth Walton  female   \n",
       "1       1         1                   Allison, Master. Hudson Trevor    male   \n",
       "2       1         0                     Allison, Miss. Helen Loraine  female   \n",
       "3       1         0             Allison, Mr. Hudson Joshua Creighton    male   \n",
       "4       1         0  Allison, Mrs. Hudson J C (Bessie Waldo Daniels)  female   \n",
       "\n",
       "       age  sibsp  parch  ticket      fare embarked  life seat          port  \n",
       "0  29.0000      0      0   24160  211.3375        S  live  1st  southampthon  \n",
       "1   0.9167      1      2  113781  151.5500        S  live  1st  southampthon  \n",
       "2   2.0000      1      2  113781  151.5500        S  dead  1st  southampthon  \n",
       "3  30.0000      1      2  113781  151.5500        S  dead  1st  southampthon  \n",
       "4  25.0000      1      2  113781  151.5500        S  dead  1st  southampthon  "
      ]
     },
     "execution_count": 80,
     "metadata": {},
     "output_type": "execute_result"
    }
   ],
   "source": [
    "titanic = pd.read_csv('titanic.csv')\n",
    "titanic.head()"
   ]
  },
  {
   "cell_type": "code",
   "execution_count": 81,
   "id": "27dc93cd-c437-446d-9a47-83e0e1877690",
   "metadata": {},
   "outputs": [],
   "source": [
    "titanic['gender'] = titanic['sex'].apply(lambda x : 0 if x == 'female' else 1)"
   ]
  },
  {
   "cell_type": "code",
   "execution_count": 82,
   "id": "ed2ca716-15f1-44d0-9674-1aa81d05dc09",
   "metadata": {},
   "outputs": [],
   "source": [
    "titanic['harbor'] = titanic['embarked'].apply(lambda x:0 if x == 'C' else(1 if x == 'S' else 2))"
   ]
  },
  {
   "cell_type": "code",
   "execution_count": 83,
   "id": "7e98a2ad-65c5-4fc2-b252-dbf75da526a1",
   "metadata": {},
   "outputs": [],
   "source": [
    "# titanic.to_csv('titanic3.csv', index=False)"
   ]
  },
  {
   "cell_type": "code",
   "execution_count": 84,
   "id": "ffeb61bc-d263-49b4-8ff0-a7313c00d94d",
   "metadata": {},
   "outputs": [],
   "source": [
    "data = titanic.iloc[:, [0,4,5,6,8,13,14]]\n",
    "target = titanic.survived"
   ]
  },
  {
   "cell_type": "code",
   "execution_count": 85,
   "id": "8292ab95-6210-4df7-941e-7e2deb56f6c5",
   "metadata": {},
   "outputs": [],
   "source": [
    "from sklearn.model_selection import train_test_split\n",
    "from sklearn.linear_model import LogisticRegression"
   ]
  },
  {
   "cell_type": "code",
   "execution_count": 86,
   "id": "cee0875d-2fe0-445a-8380-2eac9616f602",
   "metadata": {},
   "outputs": [],
   "source": [
    "Xtrain, Xtest, ytrain, ytest = train_test_split(data, target, train_size=0.7, random_state=2111050955)"
   ]
  },
  {
   "cell_type": "code",
   "execution_count": 87,
   "id": "fa07ec7a-640f-4490-8313-2149a183496a",
   "metadata": {},
   "outputs": [],
   "source": [
    "# max_iter=1000 <- warning 메시지 안띄우기 위해 옵션을 주었음 \n",
    "lrclf = LogisticRegression(max_iter=1000)\n",
    "lrclf.fit(Xtrain, ytrain)\n",
    "pred = lrclf.predict(Xtest)"
   ]
  },
  {
   "cell_type": "markdown",
   "id": "6dc2b261-217b-46c2-b6b7-52b449f8ac86",
   "metadata": {},
   "source": [
    "### 분류 알고리즘 종류\n",
    "* 판별함수 모령\n",
    "    + 주어진 데이터를 범주에 따라 서로 다른 영역으로 나누는 경계면을 찾아낸 후 이 경계면을 기준으로 데이터가 어디에 속하는지 계산하는 함수 사용\n",
    "* 확률적 판별/생성 모형\n",
    "    + 주어진 데이터에 대해 각 범주/레이블이 정답일 조건부확률을 계산하는 방법에 따라 조건부확률함수를 추정하거나 베이즈 정리를 사용해서 분류하는 모형\n",
    "* 분류기의 예측 불확실성을 추정하려면 scikit-learn에서 제공하는 2가지함수 사용\n",
    "    + predict / predict_proba"
   ]
  },
  {
   "cell_type": "code",
   "execution_count": 88,
   "id": "f42c1308-14a6-4c91-8067-70b0bf8f6c7c",
   "metadata": {},
   "outputs": [
    {
     "data": {
      "text/plain": [
       "array([0, 0, 0, 0, 0])"
      ]
     },
     "execution_count": 88,
     "metadata": {},
     "output_type": "execute_result"
    }
   ],
   "source": [
    "# 타이타닉 생존 예측확률 알아보기 1\n",
    "Xtest[:5]\n",
    "lrclf.predict(Xtest[:5]) # 예측결과는 이산형값으로 출력"
   ]
  },
  {
   "cell_type": "code",
   "execution_count": 89,
   "id": "0f6f3de7-a1f0-4e2c-9870-377bd93d9bc0",
   "metadata": {},
   "outputs": [
    {
     "data": {
      "text/plain": [
       "array([[0.75890403, 0.24109597],\n",
       "       [0.53886971, 0.46113029],\n",
       "       [0.90088691, 0.09911309],\n",
       "       [0.90073139, 0.09926861],\n",
       "       [0.95404784, 0.04595216]])"
      ]
     },
     "execution_count": 89,
     "metadata": {},
     "output_type": "execute_result"
    }
   ],
   "source": [
    "# 타이타닉 생존 예측확률 알아보기 2\n",
    "lrclf.predict_proba(Xtest[:5]) # 예측결과는 확률수치로 출력"
   ]
  },
  {
   "cell_type": "code",
   "execution_count": 90,
   "id": "91033356-4176-4699-8a65-8ac58cf768a2",
   "metadata": {},
   "outputs": [
    {
     "data": {
      "text/plain": [
       "array([[0.75890403, 0.24109597],\n",
       "       [0.53886971, 0.46113029],\n",
       "       [0.90088691, 0.09911309],\n",
       "       [0.90073139, 0.09926861],\n",
       "       [0.95404784, 0.04595216]])"
      ]
     },
     "execution_count": 90,
     "metadata": {},
     "output_type": "execute_result"
    }
   ],
   "source": [
    "# 확률적 판별/생성 모형을 통해 특이도별 재현율의 변화를 살펴봄\n",
    "lrclf.predict_proba(Xtest)[:5]"
   ]
  },
  {
   "cell_type": "code",
   "execution_count": 91,
   "id": "d60d93ba-f48f-4e53-be16-1055e8390ffb",
   "metadata": {},
   "outputs": [
    {
     "data": {
      "text/plain": [
       "(392,)"
      ]
     },
     "execution_count": 91,
     "metadata": {},
     "output_type": "execute_result"
    }
   ],
   "source": [
    "pred_proda = lrclf.predict_proba(Xtest)[:,1]\n",
    "pred_proda.shape # 예측확률 건수"
   ]
  },
  {
   "cell_type": "code",
   "execution_count": 94,
   "id": "0337257b-e2a3-4b59-a3fc-897ab99a4447",
   "metadata": {},
   "outputs": [
    {
     "data": {
      "text/html": [
       "<div>\n",
       "<style scoped>\n",
       "    .dataframe tbody tr th:only-of-type {\n",
       "        vertical-align: middle;\n",
       "    }\n",
       "\n",
       "    .dataframe tbody tr th {\n",
       "        vertical-align: top;\n",
       "    }\n",
       "\n",
       "    .dataframe thead th {\n",
       "        text-align: right;\n",
       "    }\n",
       "</style>\n",
       "<table border=\"1\" class=\"dataframe\">\n",
       "  <thead>\n",
       "    <tr style=\"text-align: right;\">\n",
       "      <th></th>\n",
       "      <th>ytest</th>\n",
       "      <th>FP proba</th>\n",
       "      <th>pred</th>\n",
       "    </tr>\n",
       "  </thead>\n",
       "  <tbody>\n",
       "    <tr>\n",
       "      <th>332</th>\n",
       "      <td>0</td>\n",
       "      <td>0.241096</td>\n",
       "      <td>0</td>\n",
       "    </tr>\n",
       "    <tr>\n",
       "      <th>164</th>\n",
       "      <td>1</td>\n",
       "      <td>0.461130</td>\n",
       "      <td>0</td>\n",
       "    </tr>\n",
       "    <tr>\n",
       "      <th>1289</th>\n",
       "      <td>0</td>\n",
       "      <td>0.099113</td>\n",
       "      <td>0</td>\n",
       "    </tr>\n",
       "    <tr>\n",
       "      <th>1279</th>\n",
       "      <td>0</td>\n",
       "      <td>0.099269</td>\n",
       "      <td>0</td>\n",
       "    </tr>\n",
       "    <tr>\n",
       "      <th>1001</th>\n",
       "      <td>1</td>\n",
       "      <td>0.045952</td>\n",
       "      <td>0</td>\n",
       "    </tr>\n",
       "  </tbody>\n",
       "</table>\n",
       "</div>"
      ],
      "text/plain": [
       "      ytest  FP proba  pred\n",
       "332       0  0.241096     0\n",
       "164       1  0.461130     0\n",
       "1289      0  0.099113     0\n",
       "1279      0  0.099269     0\n",
       "1001      1  0.045952     0"
      ]
     },
     "execution_count": 94,
     "metadata": {},
     "output_type": "execute_result"
    }
   ],
   "source": [
    "# 실제값, 확률값, 예측값을 하나의 데이터프레임에 작성\n",
    "df = pd.DataFrame()\n",
    "df['ytest'] = ytest # 실제값\n",
    "df['FP proba'] = pred_proda # FP 확률\n",
    "df['pred'] = pred # 예측값\n",
    "df.head()"
   ]
  },
  {
   "cell_type": "code",
   "execution_count": 105,
   "id": "b3c322ac-35ca-4d2d-9447-0ea4cc612973",
   "metadata": {},
   "outputs": [],
   "source": [
    "# 각 예측확률별 특이도(FPR)와 민감도(TPR), 임계값을 구함\n",
    "# 즉, 생존했는데 사망했다고 예측한 비율과 \n",
    "# 사망했는데 사망했다고 예측한 비율을 판단할때의 경계값을 살펴봄\n",
    "from sklearn.metrics import roc_curve"
   ]
  },
  {
   "cell_type": "code",
   "execution_count": 106,
   "id": "803620f7-fb87-4c9d-915b-669195181b7e",
   "metadata": {},
   "outputs": [
    {
     "name": "stdout",
     "output_type": "stream",
     "text": [
      "음성판단 [0.         0.00396825 0.00396825 0.00396825 0.00396825 0.00793651\n",
      " 0.00793651 0.01587302 0.01587302 0.01984127] (144,)\n",
      "양성판단 [0.         0.         0.24285714 0.25714286 0.27857143 0.28571429\n",
      " 0.33571429 0.33571429 0.35714286 0.35714286] (144,)\n"
     ]
    }
   ],
   "source": [
    "fprs, tprs, thresholds = roc_curve(ytest, pred_proda)\n",
    "print('음성판단',fprs[:10], fprs.shape)\n",
    "print('양성판단',tprs[:10], tprs.shape)"
   ]
  },
  {
   "cell_type": "code",
   "execution_count": 109,
   "id": "0babb232-1cbb-4f28-96d3-42ccde12043e",
   "metadata": {},
   "outputs": [
    {
     "data": {
      "text/html": [
       "<div>\n",
       "<style scoped>\n",
       "    .dataframe tbody tr th:only-of-type {\n",
       "        vertical-align: middle;\n",
       "    }\n",
       "\n",
       "    .dataframe tbody tr th {\n",
       "        vertical-align: top;\n",
       "    }\n",
       "\n",
       "    .dataframe thead th {\n",
       "        text-align: right;\n",
       "    }\n",
       "</style>\n",
       "<table border=\"1\" class=\"dataframe\">\n",
       "  <thead>\n",
       "    <tr style=\"text-align: right;\">\n",
       "      <th></th>\n",
       "      <th>FPR</th>\n",
       "      <th>TPR</th>\n",
       "      <th>Threshold</th>\n",
       "    </tr>\n",
       "  </thead>\n",
       "  <tbody>\n",
       "    <tr>\n",
       "      <th>0</th>\n",
       "      <td>0.000000</td>\n",
       "      <td>0.000000</td>\n",
       "      <td>1.967894</td>\n",
       "    </tr>\n",
       "    <tr>\n",
       "      <th>1</th>\n",
       "      <td>0.003968</td>\n",
       "      <td>0.000000</td>\n",
       "      <td>0.967894</td>\n",
       "    </tr>\n",
       "    <tr>\n",
       "      <th>2</th>\n",
       "      <td>0.003968</td>\n",
       "      <td>0.242857</td>\n",
       "      <td>0.817261</td>\n",
       "    </tr>\n",
       "    <tr>\n",
       "      <th>3</th>\n",
       "      <td>0.003968</td>\n",
       "      <td>0.257143</td>\n",
       "      <td>0.813322</td>\n",
       "    </tr>\n",
       "    <tr>\n",
       "      <th>4</th>\n",
       "      <td>0.003968</td>\n",
       "      <td>0.278571</td>\n",
       "      <td>0.806618</td>\n",
       "    </tr>\n",
       "  </tbody>\n",
       "</table>\n",
       "</div>"
      ],
      "text/plain": [
       "        FPR       TPR  Threshold\n",
       "0  0.000000  0.000000   1.967894\n",
       "1  0.003968  0.000000   0.967894\n",
       "2  0.003968  0.242857   0.817261\n",
       "3  0.003968  0.257143   0.813322\n",
       "4  0.003968  0.278571   0.806618"
      ]
     },
     "execution_count": 109,
     "metadata": {},
     "output_type": "execute_result"
    }
   ],
   "source": [
    "roc = pd.DataFrame({'FPR':fprs, 'TPR':tprs, 'Threshold':thresholds})\n",
    "roc.head()"
   ]
  },
  {
   "cell_type": "code",
   "execution_count": 116,
   "id": "eaedf556-a329-4c23-9b1e-b3bb34accd64",
   "metadata": {},
   "outputs": [
    {
     "data": {
      "text/plain": [
       "0.5172127809075153"
      ]
     },
     "execution_count": 116,
     "metadata": {},
     "output_type": "execute_result"
    }
   ],
   "source": [
    "# 최적의 임계값살펴보기\n",
    "# tprs와 fprs 중 가장큰 값을 찾아서 서로 빼줌 \n",
    "optidx = np.argmax(tprs-fprs)\n",
    "optths = thresholds[optidx]\n",
    "optths"
   ]
  },
  {
   "cell_type": "markdown",
   "id": "77621ccf-db31-4df8-b778-51108b65cf90",
   "metadata": {},
   "source": [
    "### ROC 그래프 그림 \n",
    "* 커브가 왼쪽 최상단에 가깝게 붙을수록 좋은 분류기임"
   ]
  },
  {
   "cell_type": "markdown",
   "id": "39206015-1070-4dc8-a648-2faf5bacf884",
   "metadata": {},
   "source": [
    "<img src = 'img/thredhold2low.gif'>"
   ]
  },
  {
   "cell_type": "markdown",
   "id": "f2c4ea15-b296-4378-8230-38db8543b626",
   "metadata": {},
   "source": [
    "<img src = 'img/thredhold2high.gif'>"
   ]
  },
  {
   "cell_type": "markdown",
   "id": "caf0b2f3-16dd-4daa-8c1a-1f4989a892d3",
   "metadata": {},
   "source": [
    "<img src = 'img/thredhold2curve.gif'>"
   ]
  },
  {
   "cell_type": "markdown",
   "id": "f93c6843-f118-40c3-bbeb-63f6614765f6",
   "metadata": {},
   "source": [
    "<img src = 'img/roc2good.gif'>"
   ]
  },
  {
   "cell_type": "code",
   "execution_count": 131,
   "id": "a00dddbc-1ce3-43ff-83c2-21c249c2da51",
   "metadata": {},
   "outputs": [
    {
     "data": {
      "text/plain": [
       "<seaborn.axisgrid.FacetGrid at 0x7f5d60238990>"
      ]
     },
     "execution_count": 131,
     "metadata": {},
     "output_type": "execute_result"
    },
    {
     "data": {
      "image/png": "[encoded data removed]",
      "text/plain": [
       "<Figure size 414.875x360 with 1 Axes>"
      ]
     },
     "metadata": {
      "needs_background": "light"
     },
     "output_type": "display_data"
    }
   ],
   "source": [
    "# fpr 과 tpr의 수치 시각화\n",
    "# TPR 곡선과 FDR 곡선이 서로 겹칠수록 분류기의 성능은 떨어짐\n",
    "sns.displot(roc.iloc[:, [0,1]], kind='kde')"
   ]
  },
  {
   "cell_type": "code",
   "execution_count": 128,
   "id": "8f149df4-0c93-473d-85c7-af58745bb931",
   "metadata": {},
   "outputs": [
    {
     "data": {
      "text/plain": [
       "<matplotlib.legend.Legend at 0x7f5d602e1650>"
      ]
     },
     "execution_count": 128,
     "metadata": {},
     "output_type": "execute_result"
    },
    {
     "data": {
      "image/png": "[encoded data removed]",
      "text/plain": [
       "<Figure size 432x288 with 1 Axes>"
      ]
     },
     "metadata": {
      "needs_background": "light"
     },
     "output_type": "display_data"
    }
   ],
   "source": [
    "plt.plot(fprs, tprs, 'r', label='ROC',)\n",
    "plt.plot([0,1], [0,1], 'k--')\n",
    "plt.legend()"
   ]
  },
  {
   "cell_type": "markdown",
   "id": "38e18846-f9e5-46d4-a677-1daef6d16e84",
   "metadata": {},
   "source": [
    "### AUC\n",
    "* \n",
    "* 0.7 ~ 0.8 : normal\n",
    "* 0.8 ~ 0.9 : good\n",
    "* 0.9 ~ 1.0 : excellent"
   ]
  },
  {
   "cell_type": "code",
   "execution_count": 121,
   "id": "542c2497-7aa8-42aa-8ee0-c7c951df24e9",
   "metadata": {},
   "outputs": [],
   "source": [
    "from sklearn.metrics import roc_auc_score"
   ]
  },
  {
   "cell_type": "code",
   "execution_count": 122,
   "id": "e9034594-c59b-4454-bf1b-b011d3ab4349",
   "metadata": {},
   "outputs": [
    {
     "data": {
      "text/plain": [
       "0.7416666666666667"
      ]
     },
     "execution_count": 122,
     "metadata": {},
     "output_type": "execute_result"
    }
   ],
   "source": [
    "roc_auc_score(ytest, pred)"
   ]
  }
 ],
 "metadata": {
  "kernelspec": {
   "display_name": "Python 3 (ipykernel)",
   "language": "python",
   "name": "python3"
  },
  "language_info": {
   "codemirror_mode": {
    "name": "ipython",
    "version": 3
   },
   "file_extension": ".py",
   "mimetype": "text/x-python",
   "name": "python",
   "nbconvert_exporter": "python",
   "pygments_lexer": "ipython3",
   "version": "3.7.10"
  }
 },
 "nbformat": 4,
 "nbformat_minor": 5
}
