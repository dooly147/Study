{
 "cells": [
  {
   "cell_type": "markdown",
   "id": "acecb393-e391-4cd9-a692-4d1297c59a70",
   "metadata": {},
   "source": [
    "# 01 기술통계"
   ]
  },
  {
   "cell_type": "markdown",
   "id": "a5d6fbf8-a6ee-4f5d-9172-78bdbca2e421",
   "metadata": {},
   "source": [
    "# 통계\n",
    "* 분석하고자 하는 집단과 관련해 조사나 실험의 결과로 얻는 자료 또는 이의 요약된 형태를 의미\n",
    "* 통계학 : 좀더 효과적인 의사결정을 할 수 있도록 수치자료를 수집,정리,표현,분석하는 학문\n",
    "* 통계는 항상 반례 가능성을 가지고 있음\n",
    "* 관련 통계 분야 : 사회과학통계, 자연과학통계, 수학학통계 통계학의 유형"
   ]
  },
  {
   "cell_type": "markdown",
   "id": "69ce2f59-428e-4454-bed7-86900f0d07e5",
   "metadata": {},
   "source": [
    "# 통계학의 유형\n",
    "### 1. 기술통계학\n",
    "* 자료중심 통계\n",
    "* 수집한 데이터를 요약, 묘사, 설명하는 통계기법\n",
    "* 그래프,표,수치를 이용해서 집단의 특성 파악\n",
    "* 대표값, 분산"
   ]
  },
  {
   "cell_type": "markdown",
   "id": "ac4994df-f562-4a57-82ca-979d6b0c806f",
   "metadata": {},
   "source": [
    "### 2. 추론통계학 \n",
    "* 예측 중심 통계 (중요도높음)\n",
    "* 수집된 데이터를 바탕으로 예측하는 통계기법\n",
    "* 관측된 자료를 이용해서 모집단 특성 추측\n",
    "    + 모수통계 \n",
    "        - 빈도분석\n",
    "        - 상관분석\n",
    "        - 세 집단이상 평균분석\n",
    "        - 회귀분석(!!!)\n",
    "    + 비모수통계\n",
    "        - 적합도검증\n",
    "        - 변수간 상관분석"
   ]
  },
  {
   "cell_type": "markdown",
   "id": "f8f8fa14-7409-4e0e-9b54-c8316207f333",
   "metadata": {},
   "source": [
    "# 자료의 종류\n",
    "### 질적자료 : 문자로 표현된 자료\n",
    "+ 명목자료 : 일반적인 범주형 데이터\n",
    "      ex) 남,여\n",
    "+ 순서자료 : 순서의 의미가 포함된 데이터\n",
    "      ex) 초등학교,중학교,고등학교,대학교\n",
    "\n",
    "### 양적자료 : 숫자로 표현된 자료\n",
    "+ 이산형 : 셈이 가능한 양적자료, 정수형데이터\n",
    "+ 연속형 : 셈이 불가능한 양적자료, 실수형 데이터\n",
    "+ 구간자료 : 양적자료를 구간별로 나누어 명목/순서의 의미를 포함시킨 데이터\n",
    "      ex) 수,우,미,양,가\n",
    "+ 비율자료 : 양적자료를 구간별로 나누어 서열/비율(산술)의 의미를 포함시킨 데이터\n",
    "      ex) 몸무게, 시간, 키 "
   ]
  },
  {
   "cell_type": "markdown",
   "id": "cb276fdc-7b4f-4d93-af18-eee7aeec4a21",
   "metadata": {},
   "source": [
    "# 데이터를 이해하는 마음가짐\n",
    "## 데이터가 숲이라고 가정한다면\n",
    "* 처음부터 숲의 나무를 보고 자세히 관찰한다기 보다는<br>\n",
    "개략적으로 숲의 모양을 보고 특징을 파악하고 나무를 관찰할 것!<br>\n",
    "데이터도 이런식의 접근방식을 사용해야 함"
   ]
  },
  {
   "cell_type": "markdown",
   "id": "16291ee6-c93b-4db2-8277-8cc1719b44de",
   "metadata": {},
   "source": [
    "## 데이터의 특징이란\n",
    "\n",
    "* 말로 표현하기 보다는 숫자로 표현하여야 하고 주로 평균,편차 등등을 활용하는데<br>\n",
    "이렇게 숫자로 데이터의 특징을 표현하는 과정을 \"요약summary\" 이라함"
   ]
  },
  {
   "cell_type": "markdown",
   "id": "1eddd429-c19a-40d6-9d04-0f12fbd20abf",
   "metadata": {},
   "source": [
    "## 데이터 분석 순서\n",
    "\n",
    "* 데이터를 처음 만나면 요약을 먼저하고 데이터의 특징을 파악해서<br>\n",
    "어떤 차이가 있는지 알아낸 후 데이터 분석방향을 설정할 것!"
   ]
  },
  {
   "cell_type": "markdown",
   "id": "a4862d82-a844-48fd-a0a9-d44dcdac83db",
   "metadata": {},
   "source": [
    "# 기술통계 분석관점\n",
    "1. 중심화 경향\n",
    "+ 수집한 데이터 전체를 대표하는 값이 무엇인지 나타내는 통계(대표값)\n",
    "    * 평균\n",
    "    * 중앙값\n",
    "    * 최빈값\n",
    "    \n",
    "2. 분산화 경향\n",
    "+ 데이터가 어떻게 분포되어 있는지 설명하는 통계치\n",
    "    * 범위\n",
    "    * 표준편차\n",
    "    * 분산\n",
    "    * 사분위수"
   ]
  },
  {
   "cell_type": "markdown",
   "id": "fc0f79cc-0039-4ec9-8a21-91503aba0af4",
   "metadata": {},
   "source": [
    "# 대표값\n",
    "## 평균 : 중심척도의 대표적인 통계값\n",
    "+ **정량적 자료의 대표값**\n",
    "+ 평균은 유일하다\n",
    "+ 평균은 계산하기 쉽다\n",
    "+ 모든 측정값을 반영한다\n",
    "+ 단, 평균은 특이값(이상치)에 영향을 받는다\n",
    "## $ \\bar x = \\frac {\\Sigma x} {n}$"
   ]
  },
  {
   "cell_type": "code",
   "execution_count": 59,
   "id": "3afac7de-f667-44c4-acc2-5abf9931bd6a",
   "metadata": {},
   "outputs": [],
   "source": [
    "# R의 1차원 배열 : vector\n",
    "# c(값, 값, 값, ...)\n",
    "num1 <- c(1,2,3,4,5,6,7,8,9,10)"
   ]
  },
  {
   "cell_type": "code",
   "execution_count": 60,
   "id": "0dcb6152-3f94-4621-977a-21e4ccb0de4d",
   "metadata": {},
   "outputs": [
    {
     "name": "stdout",
     "output_type": "stream",
     "text": [
      "[1] 5.5\n"
     ]
    }
   ],
   "source": [
    "# 총합 계산 : sum(벡터)\n",
    "# 벡터의 크기 : length(벡터)\n",
    "mean1 = sum(num1) / length(num1)\n",
    "print(mean1)"
   ]
  },
  {
   "cell_type": "code",
   "execution_count": 61,
   "id": "3c960bbb-5a2e-4be0-822f-f2a17827c7ca",
   "metadata": {},
   "outputs": [
    {
     "data": {
      "text/html": [
       "5.5"
      ],
      "text/latex": [
       "5.5"
      ],
      "text/markdown": [
       "5.5"
      ],
      "text/plain": [
       "[1] 5.5"
      ]
     },
     "metadata": {},
     "output_type": "display_data"
    }
   ],
   "source": [
    "# 평균 계산 : mean(벡터)\n",
    "mean(num1)"
   ]
  },
  {
   "cell_type": "code",
   "execution_count": 62,
   "id": "5b639175-994e-4562-a0e5-98b3d52fbe82",
   "metadata": {},
   "outputs": [
    {
     "data": {
      "text/html": [
       "46.04"
      ],
      "text/latex": [
       "46.04"
      ],
      "text/markdown": [
       "46.04"
      ],
      "text/plain": [
       "[1] 46.04"
      ]
     },
     "metadata": {},
     "output_type": "display_data"
    }
   ],
   "source": [
    "# 조선조 왕들의 평균수명 조사\n",
    "# 73,62,45,53,38,16,51,28,37,30,56,30,33,56,\n",
    "# 66,54,40,33,59,36,82,48,44,22,32,67,52\n",
    "kings <- c(73,62,45,53,38,16,51,28,37,30,56,30,33,56,66,54,40,33,59,36,82,48,44,22,32,67,52)\n",
    "round(mean(kings), 2)     # round(개체, 자릿수)"
   ]
  },
  {
   "cell_type": "code",
   "execution_count": 63,
   "id": "f31667c1-86a7-4cb3-9399-2a85325b8e1f",
   "metadata": {},
   "outputs": [
    {
     "data": {
      "text/html": [
       "19.82"
      ],
      "text/latex": [
       "19.82"
      ],
      "text/markdown": [
       "19.82"
      ],
      "text/plain": [
       "[1] 19.82"
      ]
     },
     "metadata": {},
     "output_type": "display_data"
    }
   ],
   "source": [
    "# 대학원생들의 평균나이 조사\n",
    "# 19,18,19,21,20,24,21,19,19,20,18,21,22,23,21,19,18,22,24,21,18,19\n",
    "colls <- c(9,18,19,21,20,24,21,19,19,20,18,21,22,23,21,19,18,22,24,21,18,19)\n",
    "round(mean(colls), 2)"
   ]
  },
  {
   "cell_type": "code",
   "execution_count": 64,
   "id": "013ec471-81a3-4a4e-b413-7a8601875b3e",
   "metadata": {},
   "outputs": [],
   "source": [
    "# 성적 데이터 평균 계산\n",
    "# 외부 파일읽기 : read.csv(경로, 옵션)\n",
    "exams = read.csv('./csv/exams.csv')"
   ]
  },
  {
   "cell_type": "code",
   "execution_count": 65,
   "id": "2779d387-4a96-48ac-8d11-b507d86f62c5",
   "metadata": {},
   "outputs": [
    {
     "name": "stdout",
     "output_type": "stream",
     "text": [
      "'data.frame':\t50 obs. of  3 variables:\n",
      " $ student.number: int  1 2 3 4 5 6 7 8 9 10 ...\n",
      " $ english       : int  42 69 56 41 57 48 65 49 65 58 ...\n",
      " $ mathematics   : int  65 80 63 63 76 60 81 66 78 82 ...\n"
     ]
    }
   ],
   "source": [
    "# 데이터 구조 살펴보기 : str(객체명) (structure)\n",
    "str(exams)"
   ]
  },
  {
   "cell_type": "code",
   "execution_count": 66,
   "id": "fe0b2a6e-0238-4f31-a638-01463d95f937",
   "metadata": {},
   "outputs": [
    {
     "data": {
      "text/plain": [
       " student.number     english       mathematics   \n",
       " Min.   : 1.00   Min.   :37.00   Min.   :57.00  \n",
       " 1st Qu.:13.25   1st Qu.:54.00   1st Qu.:76.00  \n",
       " Median :25.50   Median :57.50   Median :80.00  \n",
       " Mean   :25.50   Mean   :58.38   Mean   :78.88  \n",
       " 3rd Qu.:37.75   3rd Qu.:65.00   3rd Qu.:84.00  \n",
       " Max.   :50.00   Max.   :79.00   Max.   :94.00  "
      ]
     },
     "metadata": {},
     "output_type": "display_data"
    }
   ],
   "source": [
    "# 데이터 요약 : summary(객체명)\n",
    "summary(exams)"
   ]
  },
  {
   "cell_type": "code",
   "execution_count": 67,
   "id": "47fcdd34-dde4-44d8-9b58-ba30bc52f694",
   "metadata": {},
   "outputs": [
    {
     "data": {
      "text/html": [
       "58.38"
      ],
      "text/latex": [
       "58.38"
      ],
      "text/markdown": [
       "58.38"
      ],
      "text/plain": [
       "[1] 58.38"
      ]
     },
     "metadata": {},
     "output_type": "display_data"
    },
    {
     "data": {
      "text/html": [
       "78.88"
      ],
      "text/latex": [
       "78.88"
      ],
      "text/markdown": [
       "78.88"
      ],
      "text/plain": [
       "[1] 78.88"
      ]
     },
     "metadata": {},
     "output_type": "display_data"
    }
   ],
   "source": [
    "# 각 과목별 평균\n",
    "# 변수지정 : 객체명$변수명\n",
    "mean(exams$english)\n",
    "\n",
    "mean(exams$mathematics)"
   ]
  },
  {
   "cell_type": "code",
   "execution_count": null,
   "id": "45a0ec1c-bfce-43f0-be12-5d49ce7f1c6a",
   "metadata": {},
   "outputs": [],
   "source": []
  },
  {
   "cell_type": "markdown",
   "id": "cd448c61-6cb1-4e82-b458-76c596dfc0f3",
   "metadata": {},
   "source": [
    "# R 맛보기 - 벡터와 시각화"
   ]
  },
  {
   "cell_type": "code",
   "execution_count": 68,
   "id": "bad231f7-c292-46f8-b96d-24a990bc24b4",
   "metadata": {},
   "outputs": [],
   "source": [
    "## 신생아 월별 몸무게 변화 추이\n",
    "age <- c(1,3,5,2,11,9,3,9,12,3)\n",
    "weight <- c(4.4,5.3,7.2,5.2,8.5,7.3,6.0,10.4,10.2,6.1)"
   ]
  },
  {
   "cell_type": "code",
   "execution_count": 69,
   "id": "2f4a32d8-da8d-4e61-a31e-52d96078ef8e",
   "metadata": {},
   "outputs": [
    {
     "data": {
      "text/html": [
       "7.06"
      ],
      "text/latex": [
       "7.06"
      ],
      "text/markdown": [
       "7.06"
      ],
      "text/plain": [
       "[1] 7.06"
      ]
     },
     "metadata": {},
     "output_type": "display_data"
    }
   ],
   "source": [
    "# 기술통계\n",
    "mean(weight)"
   ]
  },
  {
   "cell_type": "code",
   "execution_count": 70,
   "id": "2302258d-7dd8-4fa3-968d-b23a1494f8e9",
   "metadata": {},
   "outputs": [
    {
     "data": {
      "image/png": "[encoded data removed]",
      "text/plain": [
       "plot without title"
      ]
     },
     "metadata": {
      "image/png": {
       "height": 420,
       "width": 420
      }
     },
     "output_type": "display_data"
    }
   ],
   "source": [
    "# 시각화 : plot\n",
    "plot(x=age, y=weight)"
   ]
  },
  {
   "cell_type": "code",
   "execution_count": 71,
   "id": "f95fb8a1-8b58-4737-9921-284d3dd67009",
   "metadata": {},
   "outputs": [
    {
     "data": {
      "image/png": "[encoded data removed]",
      "text/plain": [
       "plot without title"
      ]
     },
     "metadata": {
      "image/png": {
       "height": 420,
       "width": 420
      }
     },
     "output_type": "display_data"
    }
   ],
   "source": [
    "# 회귀분석 : lm\n",
    "plot(age, weight)\n",
    "m <- lm(weight~age)\n",
    "abline(m, col='red')"
   ]
  },
  {
   "cell_type": "code",
   "execution_count": 72,
   "id": "7085374b-d7d5-4b88-81da-e06de66f304d",
   "metadata": {},
   "outputs": [],
   "source": [
    "# 매니저 평점 분석 데이터\n",
    "manager <- c(1,2,3,4,5)\n",
    "date <- c('10/24/14','10/28/14','10/01/14','10/12/14','05/01/14')\n",
    "country <- c('US','US','US','UK','UK')\n",
    "gender <- c('M','F','F','M','F')\n",
    "mgrage <- c(32,45,25,39,99)\n",
    "q1 <- c(5,3,3,3,2)\n",
    "q2 <- c(4,5,5,3,2)\n",
    "q3 <- c(5,2,5,4,1)\n",
    "q4 <- c(5,5,5,NA,2)\n",
    "q5 <- c(5,5,2,NA,1)"
   ]
  },
  {
   "cell_type": "code",
   "execution_count": 73,
   "id": "ac38305d-529a-43e7-ba9b-f6d058c3300c",
   "metadata": {},
   "outputs": [
    {
     "data": {
      "text/plain": [
       "country\n",
       "UK US \n",
       " 2  3 "
      ]
     },
     "metadata": {},
     "output_type": "display_data"
    }
   ],
   "source": [
    "# 명목형 변수 기술통계 - 빈도\n",
    "# table(변수명)\n",
    "table(country)"
   ]
  },
  {
   "cell_type": "code",
   "execution_count": 74,
   "id": "af13a8ff-af10-4d86-b13f-665f861c04d6",
   "metadata": {},
   "outputs": [
    {
     "data": {
      "text/plain": [
       "gender\n",
       "F M \n",
       "3 2 "
      ]
     },
     "metadata": {},
     "output_type": "display_data"
    }
   ],
   "source": [
    "table(gender)"
   ]
  },
  {
   "cell_type": "code",
   "execution_count": 75,
   "id": "684790ec-5a21-4a0f-b465-86ddf2d18496",
   "metadata": {},
   "outputs": [
    {
     "data": {
      "text/html": [
       "48"
      ],
      "text/latex": [
       "48"
      ],
      "text/markdown": [
       "48"
      ],
      "text/plain": [
       "[1] 48"
      ]
     },
     "metadata": {},
     "output_type": "display_data"
    },
    {
     "data": {
      "text/html": [
       "3.2"
      ],
      "text/latex": [
       "3.2"
      ],
      "text/markdown": [
       "3.2"
      ],
      "text/plain": [
       "[1] 3.2"
      ]
     },
     "metadata": {},
     "output_type": "display_data"
    },
    {
     "data": {
      "text/html": [
       "&lt;NA&gt;"
      ],
      "text/latex": [
       "<NA>"
      ],
      "text/markdown": [
       "&lt;NA&gt;"
      ],
      "text/plain": [
       "[1] NA"
      ]
     },
     "metadata": {},
     "output_type": "display_data"
    }
   ],
   "source": [
    "# 연속형 변수 기술통계 - 평균\n",
    "mean(mgrage)\n",
    "\n",
    "mean(q1)\n",
    "\n",
    "mean(q4)   # 결측치가 포함된 벡터에 통계함수 적용 : NA"
   ]
  },
  {
   "cell_type": "code",
   "execution_count": 76,
   "id": "698af44c-644c-4941-8d19-6e3c61df1f7a",
   "metadata": {},
   "outputs": [
    {
     "data": {
      "text/html": [
       "4.25"
      ],
      "text/latex": [
       "4.25"
      ],
      "text/markdown": [
       "4.25"
      ],
      "text/plain": [
       "[1] 4.25"
      ]
     },
     "metadata": {},
     "output_type": "display_data"
    }
   ],
   "source": [
    "mean(q4, na.rm=TRUE)   # 결측치 제외 후 평균계산"
   ]
  },
  {
   "cell_type": "markdown",
   "id": "4c123fef-f8dd-4919-b2e2-f3c469145905",
   "metadata": {},
   "source": [
    "# 중앙값 median\n",
    "* **순서자료의 대표값**\n",
    "* 자료를 오름차순으로 나열한 후 가장 가운데 놓인 수\n",
    "* 특이값의 영향을 받는 평균을 보완한 수치\n",
    "* 자료 갯수가 짝수인 경우와 홀수인 경우 계산하는 방법이 다름\n",
    "    + 데이터의 갯수 $ n $이 홀수라면 $ \\frac {(n+1)} {2} $ 번째 데이터가 중앙값\n",
    "    + 데이터의 갯수 $ n $이 짝수라면 $ \\frac {n} {2} $ 번째 데이터와 $ {n \\over 2} + 1 $ 번째 데이터의 평균이 중앙값"
   ]
  },
  {
   "cell_type": "code",
   "execution_count": 77,
   "id": "c995e5e9-cc5a-48a8-ad59-8eea775c4367",
   "metadata": {},
   "outputs": [
    {
     "data": {
      "text/html": [
       "45"
      ],
      "text/latex": [
       "45"
      ],
      "text/markdown": [
       "45"
      ],
      "text/plain": [
       "[1] 45"
      ]
     },
     "metadata": {},
     "output_type": "display_data"
    }
   ],
   "source": [
    "# 조선조 왕들의 수명의 중앙값 조사\n",
    "# 중앙값 : median(객체)\n",
    "\n",
    "median(kings)"
   ]
  },
  {
   "cell_type": "code",
   "execution_count": 78,
   "id": "b243c05a-84e3-4c0e-8a6c-bf6463d6cfa4",
   "metadata": {},
   "outputs": [
    {
     "data": {
      "text/html": [
       "<style>\n",
       ".list-inline {list-style: none; margin:0; padding: 0}\n",
       ".list-inline>li {display: inline-block}\n",
       ".list-inline>li:not(:last-child)::after {content: \"\\00b7\"; padding: 0 .5ex}\n",
       "</style>\n",
       "<ol class=list-inline><li>16</li><li>22</li><li>28</li><li>30</li><li>30</li><li>32</li><li>33</li><li>33</li><li>36</li><li>37</li><li>38</li><li>40</li><li>44</li><li>45</li><li>48</li><li>51</li><li>52</li><li>53</li><li>54</li><li>56</li><li>56</li><li>59</li><li>62</li><li>66</li><li>67</li><li>73</li><li>82</li></ol>\n"
      ],
      "text/latex": [
       "\\begin{enumerate*}\n",
       "\\item 16\n",
       "\\item 22\n",
       "\\item 28\n",
       "\\item 30\n",
       "\\item 30\n",
       "\\item 32\n",
       "\\item 33\n",
       "\\item 33\n",
       "\\item 36\n",
       "\\item 37\n",
       "\\item 38\n",
       "\\item 40\n",
       "\\item 44\n",
       "\\item 45\n",
       "\\item 48\n",
       "\\item 51\n",
       "\\item 52\n",
       "\\item 53\n",
       "\\item 54\n",
       "\\item 56\n",
       "\\item 56\n",
       "\\item 59\n",
       "\\item 62\n",
       "\\item 66\n",
       "\\item 67\n",
       "\\item 73\n",
       "\\item 82\n",
       "\\end{enumerate*}\n"
      ],
      "text/markdown": [
       "1. 16\n",
       "2. 22\n",
       "3. 28\n",
       "4. 30\n",
       "5. 30\n",
       "6. 32\n",
       "7. 33\n",
       "8. 33\n",
       "9. 36\n",
       "10. 37\n",
       "11. 38\n",
       "12. 40\n",
       "13. 44\n",
       "14. 45\n",
       "15. 48\n",
       "16. 51\n",
       "17. 52\n",
       "18. 53\n",
       "19. 54\n",
       "20. 56\n",
       "21. 56\n",
       "22. 59\n",
       "23. 62\n",
       "24. 66\n",
       "25. 67\n",
       "26. 73\n",
       "27. 82\n",
       "\n",
       "\n"
      ],
      "text/plain": [
       " [1] 16 22 28 30 30 32 33 33 36 37 38 40 44 45 48 51 52 53 54 56 56 59 62 66 67\n",
       "[26] 73 82"
      ]
     },
     "metadata": {},
     "output_type": "display_data"
    }
   ],
   "source": [
    "# 벡터의 각 요소 정렬 : sort\n",
    "# sort(객체, decreasing)\n",
    "\n",
    "sort(kings)"
   ]
  },
  {
   "cell_type": "code",
   "execution_count": 79,
   "id": "3c475dd6-57d3-46f1-ae8e-976b5b92f318",
   "metadata": {},
   "outputs": [
    {
     "data": {
      "text/html": [
       "27"
      ],
      "text/latex": [
       "27"
      ],
      "text/markdown": [
       "27"
      ],
      "text/plain": [
       "[1] 27"
      ]
     },
     "metadata": {},
     "output_type": "display_data"
    }
   ],
   "source": [
    "# 데이터의 갯수\n",
    "length(kings)"
   ]
  },
  {
   "cell_type": "code",
   "execution_count": 80,
   "id": "e24c4a35-6852-4681-867d-fb829d152bd3",
   "metadata": {},
   "outputs": [
    {
     "data": {
      "text/html": [
       "45"
      ],
      "text/latex": [
       "45"
      ],
      "text/markdown": [
       "45"
      ],
      "text/plain": [
       "[1] 45"
      ]
     },
     "metadata": {},
     "output_type": "display_data"
    }
   ],
   "source": [
    "# 수식을 이용한 중앙값 계산\n",
    "pos = (length(kings) + 1) / 2\n",
    "sort(kings)[pos]   # 벡터의 요소 index는 1로 시작"
   ]
  },
  {
   "cell_type": "code",
   "execution_count": 81,
   "id": "776442e0-948b-47de-8b4e-ef73eb3b8adc",
   "metadata": {},
   "outputs": [
    {
     "data": {
      "text/html": [
       "20"
      ],
      "text/latex": [
       "20"
      ],
      "text/markdown": [
       "20"
      ],
      "text/plain": [
       "[1] 20"
      ]
     },
     "metadata": {},
     "output_type": "display_data"
    }
   ],
   "source": [
    "# 대학원생들의 나이 중앙값 조사\n",
    "median(colls)"
   ]
  },
  {
   "cell_type": "code",
   "execution_count": 82,
   "id": "b68b88bd-7953-4463-b622-d700ca7a9f72",
   "metadata": {},
   "outputs": [
    {
     "data": {
      "text/html": [
       "20"
      ],
      "text/latex": [
       "20"
      ],
      "text/markdown": [
       "20"
      ],
      "text/plain": [
       "[1] 20"
      ]
     },
     "metadata": {},
     "output_type": "display_data"
    }
   ],
   "source": [
    "# 수식을 이용한 중앙값 계산\n",
    "pos = (length(colls) + 1) / 2\n",
    "sort(colls)[pos]"
   ]
  },
  {
   "cell_type": "code",
   "execution_count": 83,
   "id": "2f8be103-e992-4647-91de-81ce12856ad3",
   "metadata": {},
   "outputs": [
    {
     "data": {
      "text/html": [
       "6.65"
      ],
      "text/latex": [
       "6.65"
      ],
      "text/markdown": [
       "6.65"
      ],
      "text/plain": [
       "[1] 6.65"
      ]
     },
     "metadata": {},
     "output_type": "display_data"
    }
   ],
   "source": [
    "# 신생아 개월별 몸무게의 중앙값 조사\n",
    "median(weight)"
   ]
  },
  {
   "cell_type": "code",
   "execution_count": 84,
   "id": "35c746fd-9f8e-4297-a85a-bd50e4f821eb",
   "metadata": {},
   "outputs": [
    {
     "data": {
      "text/html": [
       "<style>\n",
       ".list-inline {list-style: none; margin:0; padding: 0}\n",
       ".list-inline>li {display: inline-block}\n",
       ".list-inline>li:not(:last-child)::after {content: \"\\00b7\"; padding: 0 .5ex}\n",
       "</style>\n",
       "<ol class=list-inline><li>4.4</li><li>5.2</li><li>5.3</li><li>6</li><li>6.1</li><li>7.2</li><li>7.3</li><li>8.5</li><li>10.2</li><li>10.4</li></ol>\n"
      ],
      "text/latex": [
       "\\begin{enumerate*}\n",
       "\\item 4.4\n",
       "\\item 5.2\n",
       "\\item 5.3\n",
       "\\item 6\n",
       "\\item 6.1\n",
       "\\item 7.2\n",
       "\\item 7.3\n",
       "\\item 8.5\n",
       "\\item 10.2\n",
       "\\item 10.4\n",
       "\\end{enumerate*}\n"
      ],
      "text/markdown": [
       "1. 4.4\n",
       "2. 5.2\n",
       "3. 5.3\n",
       "4. 6\n",
       "5. 6.1\n",
       "6. 7.2\n",
       "7. 7.3\n",
       "8. 8.5\n",
       "9. 10.2\n",
       "10. 10.4\n",
       "\n",
       "\n"
      ],
      "text/plain": [
       " [1]  4.4  5.2  5.3  6.0  6.1  7.2  7.3  8.5 10.2 10.4"
      ]
     },
     "metadata": {},
     "output_type": "display_data"
    }
   ],
   "source": [
    "sort(weight)"
   ]
  },
  {
   "cell_type": "code",
   "execution_count": 85,
   "id": "cf702cb5-b24f-41ce-9bf2-2ef56ac27605",
   "metadata": {},
   "outputs": [
    {
     "data": {
      "text/html": [
       "10"
      ],
      "text/latex": [
       "10"
      ],
      "text/markdown": [
       "10"
      ],
      "text/plain": [
       "[1] 10"
      ]
     },
     "metadata": {},
     "output_type": "display_data"
    }
   ],
   "source": [
    "length(weight)"
   ]
  },
  {
   "cell_type": "code",
   "execution_count": 86,
   "id": "0eb25c4c-d54d-452d-92aa-8a607951f6b4",
   "metadata": {},
   "outputs": [
    {
     "data": {
      "text/html": [
       "6.65"
      ],
      "text/latex": [
       "6.65"
      ],
      "text/markdown": [
       "6.65"
      ],
      "text/plain": [
       "[1] 6.65"
      ]
     },
     "metadata": {},
     "output_type": "display_data"
    }
   ],
   "source": [
    "# 수식을 이용한 중앙값 계산\n",
    "pos = length(weight) / 2\n",
    "sorted = sort(weight)\n",
    "(sorted[pos] + sorted[pos+1]) /2"
   ]
  },
  {
   "cell_type": "markdown",
   "id": "5b3e1f54-91b6-44a4-9916-8401fddc1c85",
   "metadata": {},
   "source": [
    "# 최빈값\n",
    "+ 데이터들 중에서 도수가 가장 큰 값(들)\n",
    "+ 두번 이상 발생하는 자료 중에서 자주 나타나는 자료값\n",
    "+ 극단값에 전혀 영향을 받지 않음\n",
    "+ 존재하지 않거나 여러개 존재할 수 있음\n",
    "+ R에는 최빈값을 구하는 기본함수가 없음"
   ]
  },
  {
   "cell_type": "code",
   "execution_count": 87,
   "id": "7587dc16-06ec-447a-9b4b-62f059cd108a",
   "metadata": {},
   "outputs": [
    {
     "data": {
      "text/plain": [
       "kings\n",
       "30 33 56 16 22 28 32 36 37 38 40 44 45 48 51 52 53 54 59 62 66 67 73 82 \n",
       " 2  2  2  1  1  1  1  1  1  1  1  1  1  1  1  1  1  1  1  1  1  1  1  1 "
      ]
     },
     "metadata": {},
     "output_type": "display_data"
    }
   ],
   "source": [
    "# 조선조 왕들의 수명의 최빈값 조사\n",
    "sort(table(kings), decreasing=T)"
   ]
  },
  {
   "cell_type": "code",
   "execution_count": 88,
   "id": "731ca7ab-5eba-4303-93a6-f7ea2bdca81f",
   "metadata": {},
   "outputs": [
    {
     "data": {
      "text/html": [
       "'30'"
      ],
      "text/latex": [
       "'30'"
      ],
      "text/markdown": [
       "'30'"
      ],
      "text/plain": [
       "[1] \"30\""
      ]
     },
     "metadata": {},
     "output_type": "display_data"
    }
   ],
   "source": [
    "# 빈도표에서 헤더만 출력하고 싶으면 names 함수 사용\n",
    "names(sort(table(kings), decreasing=T))[1]"
   ]
  },
  {
   "cell_type": "code",
   "execution_count": 89,
   "id": "6345ab70-359b-4607-bd12-682092f7c151",
   "metadata": {},
   "outputs": [
    {
     "data": {
      "text/html": [
       "<style>\n",
       ".list-inline {list-style: none; margin:0; padding: 0}\n",
       ".list-inline>li {display: inline-block}\n",
       ".list-inline>li:not(:last-child)::after {content: \"\\00b7\"; padding: 0 .5ex}\n",
       "</style>\n",
       "<ol class=list-inline><li>30</li><li>56</li><li>33</li></ol>\n"
      ],
      "text/latex": [
       "\\begin{enumerate*}\n",
       "\\item 30\n",
       "\\item 56\n",
       "\\item 33\n",
       "\\end{enumerate*}\n"
      ],
      "text/markdown": [
       "1. 30\n",
       "2. 56\n",
       "3. 33\n",
       "\n",
       "\n"
      ],
      "text/plain": [
       "[1] 30 56 33"
      ]
     },
     "metadata": {},
     "output_type": "display_data"
    }
   ],
   "source": [
    "# 최빈값을 구하는 사용자 정의 함수\n",
    "Modes <- function(x) {\n",
    "   ux <- unique(x)\n",
    "  tab <- tabulate(match(x, ux))\n",
    "   ux[tab == max(tab)]\n",
    "}\n",
    "\n",
    "Modes(kings)"
   ]
  },
  {
   "cell_type": "code",
   "execution_count": 90,
   "id": "16dac2fd-3adb-4cd8-86ef-91b638d52260",
   "metadata": {},
   "outputs": [
    {
     "data": {
      "text/html": [
       "<style>\n",
       ".list-inline {list-style: none; margin:0; padding: 0}\n",
       ".list-inline>li {display: inline-block}\n",
       ".list-inline>li:not(:last-child)::after {content: \"\\00b7\"; padding: 0 .5ex}\n",
       "</style>\n",
       "<ol class=list-inline><li>73</li><li>62</li><li>45</li><li>53</li><li>38</li><li>16</li><li>51</li><li>28</li><li>37</li><li>30</li><li>56</li><li>33</li><li>66</li><li>54</li><li>40</li><li>59</li><li>36</li><li>82</li><li>48</li><li>44</li><li>22</li><li>32</li><li>67</li><li>52</li></ol>\n"
      ],
      "text/latex": [
       "\\begin{enumerate*}\n",
       "\\item 73\n",
       "\\item 62\n",
       "\\item 45\n",
       "\\item 53\n",
       "\\item 38\n",
       "\\item 16\n",
       "\\item 51\n",
       "\\item 28\n",
       "\\item 37\n",
       "\\item 30\n",
       "\\item 56\n",
       "\\item 33\n",
       "\\item 66\n",
       "\\item 54\n",
       "\\item 40\n",
       "\\item 59\n",
       "\\item 36\n",
       "\\item 82\n",
       "\\item 48\n",
       "\\item 44\n",
       "\\item 22\n",
       "\\item 32\n",
       "\\item 67\n",
       "\\item 52\n",
       "\\end{enumerate*}\n"
      ],
      "text/markdown": [
       "1. 73\n",
       "2. 62\n",
       "3. 45\n",
       "4. 53\n",
       "5. 38\n",
       "6. 16\n",
       "7. 51\n",
       "8. 28\n",
       "9. 37\n",
       "10. 30\n",
       "11. 56\n",
       "12. 33\n",
       "13. 66\n",
       "14. 54\n",
       "15. 40\n",
       "16. 59\n",
       "17. 36\n",
       "18. 82\n",
       "19. 48\n",
       "20. 44\n",
       "21. 22\n",
       "22. 32\n",
       "23. 67\n",
       "24. 52\n",
       "\n",
       "\n"
      ],
      "text/plain": [
       " [1] 73 62 45 53 38 16 51 28 37 30 56 33 66 54 40 59 36 82 48 44 22 32 67 52"
      ]
     },
     "metadata": {},
     "output_type": "display_data"
    }
   ],
   "source": [
    "# 벡터에서 중복값 제외 후 객체 생성\n",
    "unique(kings)"
   ]
  },
  {
   "cell_type": "code",
   "execution_count": 91,
   "id": "53de366e-292e-44e8-a52b-ecff5e376735",
   "metadata": {},
   "outputs": [
    {
     "data": {
      "text/html": [
       "1"
      ],
      "text/latex": [
       "1"
      ],
      "text/markdown": [
       "1"
      ],
      "text/plain": [
       "[1] 1"
      ]
     },
     "metadata": {},
     "output_type": "display_data"
    }
   ],
   "source": [
    "# 특정값에 대한 빈도 계산 : tabulate(객체, 값)\n",
    "# kings의 첫번째 요소인 73이 몇번 출현하는지 조사\n",
    "tabulate(match(kings, kings[1]))"
   ]
  },
  {
   "cell_type": "markdown",
   "id": "30814c18-e2e6-4d00-8e89-2a15200d68c0",
   "metadata": {},
   "source": [
    "## 사원 데이터의 기술통계1 (대표값)"
   ]
  },
  {
   "cell_type": "code",
   "execution_count": 92,
   "id": "d6eceef5-bcb3-45f6-af84-7053379c98f1",
   "metadata": {},
   "outputs": [
    {
     "data": {
      "text/html": [
       "<table class=\"dataframe\">\n",
       "<caption>A data.frame: 6 × 11</caption>\n",
       "<thead>\n",
       "\t<tr><th></th><th scope=col>EMPLOYEE_ID</th><th scope=col>FIRST_NAME</th><th scope=col>LAST_NAME</th><th scope=col>EMAIL</th><th scope=col>PHONE_NUMBER</th><th scope=col>HIRE_DATE</th><th scope=col>JOB_ID</th><th scope=col>SALARY</th><th scope=col>COMMISSION_PCT</th><th scope=col>MANAGER_ID</th><th scope=col>DEPARTMENT_ID</th></tr>\n",
       "\t<tr><th></th><th scope=col>&lt;int&gt;</th><th scope=col>&lt;chr&gt;</th><th scope=col>&lt;chr&gt;</th><th scope=col>&lt;chr&gt;</th><th scope=col>&lt;chr&gt;</th><th scope=col>&lt;chr&gt;</th><th scope=col>&lt;chr&gt;</th><th scope=col>&lt;int&gt;</th><th scope=col>&lt;dbl&gt;</th><th scope=col>&lt;int&gt;</th><th scope=col>&lt;int&gt;</th></tr>\n",
       "</thead>\n",
       "<tbody>\n",
       "\t<tr><th scope=row>1</th><td>100</td><td>Steven   </td><td>King   </td><td>SKING   </td><td>515.123.4567</td><td>2003-06-17</td><td>AD_PRES</td><td>24000</td><td>NA</td><td> NA</td><td>90</td></tr>\n",
       "\t<tr><th scope=row>2</th><td>101</td><td>Neena    </td><td>Kochhar</td><td>NKOCHHAR</td><td>515.123.4568</td><td>2005-09-21</td><td>AD_VP  </td><td>17000</td><td>NA</td><td>100</td><td>90</td></tr>\n",
       "\t<tr><th scope=row>3</th><td>102</td><td>Lex      </td><td>De Haan</td><td>LDEHAAN </td><td>515.123.4569</td><td>2001-01-13</td><td>AD_VP  </td><td>17000</td><td>NA</td><td>100</td><td>90</td></tr>\n",
       "\t<tr><th scope=row>4</th><td>103</td><td>Alexander</td><td>Hunold </td><td>AHUNOLD </td><td>590.423.4567</td><td>2006-01-03</td><td>IT_PROG</td><td> 9000</td><td>NA</td><td>102</td><td>60</td></tr>\n",
       "\t<tr><th scope=row>5</th><td>104</td><td>Bruce    </td><td>Ernst  </td><td>BERNST  </td><td>590.423.4568</td><td>2007-05-21</td><td>IT_PROG</td><td> 6000</td><td>NA</td><td>103</td><td>60</td></tr>\n",
       "\t<tr><th scope=row>6</th><td>105</td><td>David    </td><td>Austin </td><td>DAUSTIN </td><td>590.423.4569</td><td>2005-06-25</td><td>IT_PROG</td><td> 4800</td><td>NA</td><td>103</td><td>60</td></tr>\n",
       "</tbody>\n",
       "</table>\n"
      ],
      "text/latex": [
       "A data.frame: 6 × 11\n",
       "\\begin{tabular}{r|lllllllllll}\n",
       "  & EMPLOYEE\\_ID & FIRST\\_NAME & LAST\\_NAME & EMAIL & PHONE\\_NUMBER & HIRE\\_DATE & JOB\\_ID & SALARY & COMMISSION\\_PCT & MANAGER\\_ID & DEPARTMENT\\_ID\\\\\n",
       "  & <int> & <chr> & <chr> & <chr> & <chr> & <chr> & <chr> & <int> & <dbl> & <int> & <int>\\\\\n",
       "\\hline\n",
       "\t1 & 100 & Steven    & King    & SKING    & 515.123.4567 & 2003-06-17 & AD\\_PRES & 24000 & NA &  NA & 90\\\\\n",
       "\t2 & 101 & Neena     & Kochhar & NKOCHHAR & 515.123.4568 & 2005-09-21 & AD\\_VP   & 17000 & NA & 100 & 90\\\\\n",
       "\t3 & 102 & Lex       & De Haan & LDEHAAN  & 515.123.4569 & 2001-01-13 & AD\\_VP   & 17000 & NA & 100 & 90\\\\\n",
       "\t4 & 103 & Alexander & Hunold  & AHUNOLD  & 590.423.4567 & 2006-01-03 & IT\\_PROG &  9000 & NA & 102 & 60\\\\\n",
       "\t5 & 104 & Bruce     & Ernst   & BERNST   & 590.423.4568 & 2007-05-21 & IT\\_PROG &  6000 & NA & 103 & 60\\\\\n",
       "\t6 & 105 & David     & Austin  & DAUSTIN  & 590.423.4569 & 2005-06-25 & IT\\_PROG &  4800 & NA & 103 & 60\\\\\n",
       "\\end{tabular}\n"
      ],
      "text/markdown": [
       "\n",
       "A data.frame: 6 × 11\n",
       "\n",
       "| <!--/--> | EMPLOYEE_ID &lt;int&gt; | FIRST_NAME &lt;chr&gt; | LAST_NAME &lt;chr&gt; | EMAIL &lt;chr&gt; | PHONE_NUMBER &lt;chr&gt; | HIRE_DATE &lt;chr&gt; | JOB_ID &lt;chr&gt; | SALARY &lt;int&gt; | COMMISSION_PCT &lt;dbl&gt; | MANAGER_ID &lt;int&gt; | DEPARTMENT_ID &lt;int&gt; |\n",
       "|---|---|---|---|---|---|---|---|---|---|---|---|\n",
       "| 1 | 100 | Steven    | King    | SKING    | 515.123.4567 | 2003-06-17 | AD_PRES | 24000 | NA |  NA | 90 |\n",
       "| 2 | 101 | Neena     | Kochhar | NKOCHHAR | 515.123.4568 | 2005-09-21 | AD_VP   | 17000 | NA | 100 | 90 |\n",
       "| 3 | 102 | Lex       | De Haan | LDEHAAN  | 515.123.4569 | 2001-01-13 | AD_VP   | 17000 | NA | 100 | 90 |\n",
       "| 4 | 103 | Alexander | Hunold  | AHUNOLD  | 590.423.4567 | 2006-01-03 | IT_PROG |  9000 | NA | 102 | 60 |\n",
       "| 5 | 104 | Bruce     | Ernst   | BERNST   | 590.423.4568 | 2007-05-21 | IT_PROG |  6000 | NA | 103 | 60 |\n",
       "| 6 | 105 | David     | Austin  | DAUSTIN  | 590.423.4569 | 2005-06-25 | IT_PROG |  4800 | NA | 103 | 60 |\n",
       "\n"
      ],
      "text/plain": [
       "  EMPLOYEE_ID FIRST_NAME LAST_NAME EMAIL    PHONE_NUMBER HIRE_DATE  JOB_ID \n",
       "1 100         Steven     King      SKING    515.123.4567 2003-06-17 AD_PRES\n",
       "2 101         Neena      Kochhar   NKOCHHAR 515.123.4568 2005-09-21 AD_VP  \n",
       "3 102         Lex        De Haan   LDEHAAN  515.123.4569 2001-01-13 AD_VP  \n",
       "4 103         Alexander  Hunold    AHUNOLD  590.423.4567 2006-01-03 IT_PROG\n",
       "5 104         Bruce      Ernst     BERNST   590.423.4568 2007-05-21 IT_PROG\n",
       "6 105         David      Austin    DAUSTIN  590.423.4569 2005-06-25 IT_PROG\n",
       "  SALARY COMMISSION_PCT MANAGER_ID DEPARTMENT_ID\n",
       "1 24000  NA              NA        90           \n",
       "2 17000  NA             100        90           \n",
       "3 17000  NA             100        90           \n",
       "4  9000  NA             102        60           \n",
       "5  6000  NA             103        60           \n",
       "6  4800  NA             103        60           "
      ]
     },
     "metadata": {},
     "output_type": "display_data"
    }
   ],
   "source": [
    "# stringAsFactors : 문자형 데이터를 무조건 범주형으로 바꾸는 것을 방지\n",
    "emp <- read.csv('./csv/employees.csv', stringsAsFactors=F)\n",
    "head(emp)"
   ]
  },
  {
   "cell_type": "code",
   "execution_count": 93,
   "id": "d12d4a45-0827-4681-9d07-897d6aeffac8",
   "metadata": {},
   "outputs": [
    {
     "name": "stdout",
     "output_type": "stream",
     "text": [
      "'data.frame':\t107 obs. of  11 variables:\n",
      " $ EMPLOYEE_ID   : int  100 101 102 103 104 105 106 107 108 109 ...\n",
      " $ FIRST_NAME    : chr  \"Steven\" \"Neena\" \"Lex\" \"Alexander\" ...\n",
      " $ LAST_NAME     : chr  \"King\" \"Kochhar\" \"De Haan\" \"Hunold\" ...\n",
      " $ EMAIL         : chr  \"SKING\" \"NKOCHHAR\" \"LDEHAAN\" \"AHUNOLD\" ...\n",
      " $ PHONE_NUMBER  : chr  \"515.123.4567\" \"515.123.4568\" \"515.123.4569\" \"590.423.4567\" ...\n",
      " $ HIRE_DATE     : chr  \"2003-06-17\" \"2005-09-21\" \"2001-01-13\" \"2006-01-03\" ...\n",
      " $ JOB_ID        : chr  \"AD_PRES\" \"AD_VP\" \"AD_VP\" \"IT_PROG\" ...\n",
      " $ SALARY        : int  24000 17000 17000 9000 6000 4800 4800 4200 12008 9000 ...\n",
      " $ COMMISSION_PCT: num  NA NA NA NA NA NA NA NA NA NA ...\n",
      " $ MANAGER_ID    : int  NA 100 100 102 103 103 103 103 101 108 ...\n",
      " $ DEPARTMENT_ID : int  90 90 90 60 60 60 60 60 100 100 ...\n"
     ]
    }
   ],
   "source": [
    "# 데이터 구조 파악\n",
    "str(emp)"
   ]
  },
  {
   "cell_type": "code",
   "execution_count": 94,
   "id": "a9aa63d6-a086-4c5f-8af6-d737ef9627bb",
   "metadata": {},
   "outputs": [],
   "source": [
    "# 데이터 형식 변경 : as.~\n",
    "# 객체명$변수명 <- 형식변경\n",
    "\n",
    "# 직책, 상사번호, 부서번호 컬럼을 문자형에서 범주형으로 변경\n",
    "emp$JOB_ID <- as.factor(emp$JOB_ID)   # 문자형을 범주형으로 변경\n",
    "emp$MANAGER_ID <- as.factor(emp$MANAGER_ID)\n",
    "emp$DEPARTMENT_ID <- as.factor(emp$DEPARTMENT_ID)"
   ]
  },
  {
   "cell_type": "code",
   "execution_count": 95,
   "id": "d6b9fbab-73a5-4698-bb6f-d540303cda53",
   "metadata": {},
   "outputs": [
    {
     "data": {
      "text/plain": [
       "  EMPLOYEE_ID     FIRST_NAME         LAST_NAME            EMAIL          \n",
       " Min.   :100.0   Length:107         Length:107         Length:107        \n",
       " 1st Qu.:126.5   Class :character   Class :character   Class :character  \n",
       " Median :153.0   Mode  :character   Mode  :character   Mode  :character  \n",
       " Mean   :153.0                                                           \n",
       " 3rd Qu.:179.5                                                           \n",
       " Max.   :206.0                                                           \n",
       "                                                                         \n",
       " PHONE_NUMBER        HIRE_DATE                JOB_ID       SALARY     \n",
       " Length:107         Length:107         SA_REP    :30   Min.   : 2100  \n",
       " Class :character   Class :character   SH_CLERK  :20   1st Qu.: 3100  \n",
       " Mode  :character   Mode  :character   ST_CLERK  :20   Median : 6200  \n",
       "                                       FI_ACCOUNT: 5   Mean   : 6462  \n",
       "                                       IT_PROG   : 5   3rd Qu.: 8900  \n",
       "                                       PU_CLERK  : 5   Max.   :24000  \n",
       "                                       (Other)   :22                  \n",
       " COMMISSION_PCT     MANAGER_ID DEPARTMENT_ID\n",
       " Min.   :0.1000   100    :14   50     :45   \n",
       " 1st Qu.:0.1500   120    : 8   80     :34   \n",
       " Median :0.2000   121    : 8   30     : 6   \n",
       " Mean   :0.2229   122    : 8   100    : 6   \n",
       " 3rd Qu.:0.3000   123    : 8   60     : 5   \n",
       " Max.   :0.4000   (Other):60   (Other):10   \n",
       " NA's   :72       NA's   : 1   NA's   : 1   "
      ]
     },
     "metadata": {},
     "output_type": "display_data"
    }
   ],
   "source": [
    "# 데이터 요약\n",
    "summary(emp)"
   ]
  },
  {
   "cell_type": "code",
   "execution_count": 96,
   "id": "73ffcd45-e9c0-44fa-989f-74b8f57cf01a",
   "metadata": {},
   "outputs": [
    {
     "data": {
      "text/plain": [
       "\n",
       "AC_ACCOUNT     AC_MGR    AD_ASST    AD_PRES     FI_MGR     HR_REP     MK_MAN \n",
       "         1          1          1          1          1          1          1 \n",
       "    MK_REP     PR_REP     PU_MAN      AD_VP FI_ACCOUNT    IT_PROG   PU_CLERK \n",
       "         1          1          1          2          5          5          5 \n",
       "    SA_MAN     ST_MAN   SH_CLERK   ST_CLERK     SA_REP \n",
       "         5          5         20         20         30 "
      ]
     },
     "metadata": {},
     "output_type": "display_data"
    }
   ],
   "source": [
    "# 직책별 사원 현황\n",
    "sort(table(emp$JOB_ID), decrasing=T)"
   ]
  },
  {
   "cell_type": "code",
   "execution_count": 97,
   "id": "8b1e6d7b-6bb6-4f66-9116-3bc9e48b6ca8",
   "metadata": {},
   "outputs": [
    {
     "data": {
      "text/plain": [
       "\n",
       " 10  40  70  20 110  90  60  30 100  80  50 \n",
       "  1   1   1   2   2   3   5   6   6  34  45 "
      ]
     },
     "metadata": {},
     "output_type": "display_data"
    }
   ],
   "source": [
    "# 부서번호별 사원 현황\n",
    "sort(table(emp$DEPARTMENT_ID), decrasing=T)"
   ]
  },
  {
   "cell_type": "code",
   "execution_count": 98,
   "id": "03005d74-2a5b-4b89-a90d-0c42e7772e7a",
   "metadata": {},
   "outputs": [
    {
     "data": {
      "text/html": [
       "6461.83"
      ],
      "text/latex": [
       "6461.83"
      ],
      "text/markdown": [
       "6461.83"
      ],
      "text/plain": [
       "[1] 6461.83"
      ]
     },
     "metadata": {},
     "output_type": "display_data"
    }
   ],
   "source": [
    "# 급여에 대한 대표값 파악\n",
    "round(mean(emp$SALARY), 2)"
   ]
  },
  {
   "cell_type": "code",
   "execution_count": 99,
   "id": "08eea04b-0b1d-454b-9d70-8f2a68e9e6fc",
   "metadata": {},
   "outputs": [
    {
     "data": {
      "text/html": [
       "6200"
      ],
      "text/latex": [
       "6200"
      ],
      "text/markdown": [
       "6200"
      ],
      "text/plain": [
       "[1] 6200"
      ]
     },
     "metadata": {},
     "output_type": "display_data"
    }
   ],
   "source": [
    "median(emp$SALARY)"
   ]
  },
  {
   "cell_type": "code",
   "execution_count": 100,
   "id": "d16b9c8f-3a66-438f-b7e9-5bf23bffe1f1",
   "metadata": {},
   "outputs": [
    {
     "data": {
      "text/plain": [
       "\n",
       " 2100  2200  2400  2500  2600  2700  2800  2900  3000  3100  3200  3300  3400 \n",
       "    1     2     2     6     4     2     4     3     2     4     4     2     1 \n",
       " 3500  3600  3800  3900  4000  4100  4200  4400  4800  5800  6000  6100  6200 \n",
       "    1     2     1     1     1     1     2     1     2     1     2     1     2 \n",
       " 6400  6500  6800  6900  7000  7200  7300  7400  7500  7700  7800  7900  8000 \n",
       "    1     2     1     1     3     1     1     1     2     1     1     1     3 \n",
       " 8200  8300  8400  8600  8800  9000  9500  9600 10000 10500 11000 11500 12000 \n",
       "    2     1     1     1     1     4     3     1     4     2     3     1     1 \n",
       "12008 13000 13500 14000 17000 24000 \n",
       "    2     1     1     1     2     1 "
      ]
     },
     "metadata": {},
     "output_type": "display_data"
    },
    {
     "data": {
      "text/html": [
       "2500"
      ],
      "text/latex": [
       "2500"
      ],
      "text/markdown": [
       "2500"
      ],
      "text/plain": [
       "[1] 2500"
      ]
     },
     "metadata": {},
     "output_type": "display_data"
    }
   ],
   "source": [
    "table(emp$SALARY)\n",
    "Modes(emp$SALARY)"
   ]
  },
  {
   "cell_type": "markdown",
   "id": "02dad1bd-2800-4854-b065-387f339e2686",
   "metadata": {},
   "source": [
    "## 핫도그 먹기 대회 데이터 기술통계1 (대표값)"
   ]
  },
  {
   "cell_type": "code",
   "execution_count": 101,
   "id": "2d238621-62fd-4219-a028-3929b49cf6d6",
   "metadata": {},
   "outputs": [],
   "source": [
    "hotdog = read.csv('./csv/hotdog.csv', stringsAsFactors=F)"
   ]
  },
  {
   "cell_type": "code",
   "execution_count": 102,
   "id": "079c6c79-438f-411c-bae9-e482948836db",
   "metadata": {},
   "outputs": [
    {
     "name": "stdout",
     "output_type": "stream",
     "text": [
      "'data.frame':\t31 obs. of  5 variables:\n",
      " $ Year      : int  1980 1981 1982 1983 1984 1985 1986 1987 1988 1989 ...\n",
      " $ Winner    : chr  \"Paul Siederman & Joe Baldini\" \"Thomas DeBerry \" \"Steven Abrams \" \"Luis Llamas \" ...\n",
      " $ Dogs.eaten: num  9.1 11 11 19.5 9.5 ...\n",
      " $ Country   : chr  \"United States\" \"United States\" \"United States\" \"Mexico\" ...\n",
      " $ New.record: int  0 0 0 0 0 0 0 0 0 0 ...\n"
     ]
    }
   ],
   "source": [
    "str(hotdog)"
   ]
  },
  {
   "cell_type": "code",
   "execution_count": 103,
   "id": "5a2652a5-7b0f-4f1a-9281-6575d9f25052",
   "metadata": {},
   "outputs": [],
   "source": [
    "hotdog$Country <- as.factor(hotdog$Country)"
   ]
  },
  {
   "cell_type": "code",
   "execution_count": 104,
   "id": "31df55e4-b2ad-4ad9-812f-245c4c980203",
   "metadata": {},
   "outputs": [
    {
     "data": {
      "text/plain": [
       "      Year         Winner            Dogs.eaten             Country  \n",
       " Min.   :1980   Length:31          Min.   : 9.10   Germany      : 1  \n",
       " 1st Qu.:1988   Class :character   1st Qu.:14.75   Japan        : 9  \n",
       " Median :1995   Mode  :character   Median :20.00   Mexico       : 1  \n",
       " Mean   :1995                      Mean   :28.99   United States:20  \n",
       " 3rd Qu.:2002                      3rd Qu.:49.50                     \n",
       " Max.   :2010                      Max.   :68.00                     \n",
       "   New.record    \n",
       " Min.   :0.0000  \n",
       " 1st Qu.:0.0000  \n",
       " Median :0.0000  \n",
       " Mean   :0.3226  \n",
       " 3rd Qu.:1.0000  \n",
       " Max.   :1.0000  "
      ]
     },
     "metadata": {},
     "output_type": "display_data"
    }
   ],
   "source": [
    "summary(hotdog)"
   ]
  },
  {
   "cell_type": "code",
   "execution_count": 105,
   "id": "3b40ca56-3e21-442f-91b9-62de130163d4",
   "metadata": {},
   "outputs": [
    {
     "data": {
      "text/html": [
       "29"
      ],
      "text/latex": [
       "29"
      ],
      "text/markdown": [
       "29"
      ],
      "text/plain": [
       "[1] 29"
      ]
     },
     "metadata": {},
     "output_type": "display_data"
    }
   ],
   "source": [
    "round(mean(hotdog$Dogs.eaten))"
   ]
  },
  {
   "cell_type": "code",
   "execution_count": 106,
   "id": "8256f7b8-ab88-49f0-978a-efe7cd0db183",
   "metadata": {},
   "outputs": [
    {
     "data": {
      "text/html": [
       "20"
      ],
      "text/latex": [
       "20"
      ],
      "text/markdown": [
       "20"
      ],
      "text/plain": [
       "[1] 20"
      ]
     },
     "metadata": {},
     "output_type": "display_data"
    }
   ],
   "source": [
    "median(hotdog$Dogs.eaten)"
   ]
  },
  {
   "cell_type": "code",
   "execution_count": 107,
   "id": "8163f160-c9d9-484a-8f3b-d9dbb11104cb",
   "metadata": {},
   "outputs": [
    {
     "data": {
      "text/html": [
       "United States\n",
       "<details>\n",
       "\t<summary style=display:list-item;cursor:pointer>\n",
       "\t\t<strong>Levels</strong>:\n",
       "\t</summary>\n",
       "\t<style>\n",
       "\t.list-inline {list-style: none; margin:0; padding: 0}\n",
       "\t.list-inline>li {display: inline-block}\n",
       "\t.list-inline>li:not(:last-child)::after {content: \"\\00b7\"; padding: 0 .5ex}\n",
       "\t</style>\n",
       "\t<ol class=list-inline><li>'Germany'</li><li>'Japan'</li><li>'Mexico'</li><li>'United States'</li></ol>\n",
       "</details>"
      ],
      "text/latex": [
       "United States\n",
       "\\emph{Levels}: \\begin{enumerate*}\n",
       "\\item 'Germany'\n",
       "\\item 'Japan'\n",
       "\\item 'Mexico'\n",
       "\\item 'United States'\n",
       "\\end{enumerate*}\n"
      ],
      "text/markdown": [
       "United States\n",
       "**Levels**: 1. 'Germany'\n",
       "2. 'Japan'\n",
       "3. 'Mexico'\n",
       "4. 'United States'\n",
       "\n",
       "\n"
      ],
      "text/plain": [
       "[1] United States\n",
       "Levels: Germany Japan Mexico United States"
      ]
     },
     "metadata": {},
     "output_type": "display_data"
    }
   ],
   "source": [
    "Modes(hotdog$Country)"
   ]
  },
  {
   "cell_type": "code",
   "execution_count": 108,
   "id": "7a16020a-2c7b-406a-a193-2452ec966a1f",
   "metadata": {},
   "outputs": [
    {
     "data": {
      "text/plain": [
       "\n",
       "United States         Japan       Germany        Mexico \n",
       "           20             9             1             1 "
      ]
     },
     "metadata": {},
     "output_type": "display_data"
    }
   ],
   "source": [
    "sort(table(hotdog$Country), decreasing=T)"
   ]
  },
  {
   "cell_type": "markdown",
   "id": "e79a1d79-33fc-4c4c-b247-ee3e4c7ef5ed",
   "metadata": {},
   "source": [
    "## 타이타닉 생존자 기술통계 1"
   ]
  },
  {
   "cell_type": "code",
   "execution_count": null,
   "id": "56bc68cb-8bea-48ab-a4b5-751375299351",
   "metadata": {},
   "outputs": [],
   "source": []
  },
  {
   "cell_type": "markdown",
   "id": "a0c57dfa-857d-4730-8136-32144b4bb6e0",
   "metadata": {},
   "source": [
    "## 교통사고 현황 데이터 기술통계 1 (대표값)"
   ]
  },
  {
   "cell_type": "code",
   "execution_count": 109,
   "id": "19e4b421-6de9-454f-8d43-eeb2d321ca0b",
   "metadata": {},
   "outputs": [
    {
     "name": "stdout",
     "output_type": "stream",
     "text": [
      "'data.frame':\t4119 obs. of  27 variables:\n",
      " $ 발생년               : int  2016 2016 2016 2016 2016 2016 2016 2016 2016 2016 ...\n",
      " $ 발생년월일시         : int  2016122320 2016122517 2016122519 2016122610 2016122819 2016111207 2016110919 2016111005 2016110711 2016110818 ...\n",
      " $ 발생분               : int  35 48 5 40 40 34 25 0 5 0 ...\n",
      " $ 주야                 : Factor w/ 2 levels \"야간\",\"주간\": 1 2 1 2 1 2 1 1 2 1 ...\n",
      " $ 요일                 : Factor w/ 7 levels \"금\",\"목\",\"수\",..: 1 5 5 4 3 6 3 2 4 7 ...\n",
      " $ 사망자수             : int  1 1 1 1 1 1 1 1 1 1 ...\n",
      " $ 사상자수             : int  1 1 1 1 1 1 1 1 1 1 ...\n",
      " $ 중상자수             : int  0 0 0 0 0 0 0 0 0 0 ...\n",
      " $ 경상자수             : int  0 0 0 0 0 0 0 0 0 0 ...\n",
      " $ 부상신고자수         : int  0 0 0 0 0 0 0 0 0 0 ...\n",
      " $ 발생지시도           : Factor w/ 17 levels \"강원\",\"경기\",..: 2 9 17 4 3 3 2 12 16 13 ...\n",
      " $ 발생지시군구         : Factor w/ 205 levels \"가평군\",\"강남구\",..: 26 38 172 12 171 9 190 86 132 103 ...\n",
      " $ 사고유형_대분류      : Factor w/ 3 levels \"차대사람\",\"차대차\",..: 1 1 1 1 1 1 1 1 3 1 ...\n",
      " $ 사고유형_중분류      : Factor w/ 12 levels \"공작물충돌\",\"기타\",..: 2 12 9 12 12 12 2 12 6 9 ...\n",
      " $ 사고유형             : Factor w/ 13 levels \"공작물충돌\",\"기타\",..: 2 13 11 13 13 13 2 13 7 11 ...\n",
      " $ 법규위반_대분류      : Factor w/ 1 level \"운전자법규위반\": 1 1 1 1 1 1 1 1 1 1 ...\n",
      " $ 법규위반             : Factor w/ 14 levels \"과속\",\"교차로 통행방법 위반\",..: 9 9 9 9 4 9 9 4 9 9 ...\n",
      " $ 도로형태_대분류      : Factor w/ 5 levels \"고가도로위\",\"교차로\",..: 2 4 4 4 4 4 4 4 4 4 ...\n",
      " $ 도로형태             : Factor w/ 10 levels \"고가도로위\",\"교량위\",..: 3 6 6 6 6 6 6 6 6 6 ...\n",
      " $ 당사자종별_1당_대분류: Factor w/ 10 levels \"건설기계\",\"농기계\",..: 4 4 10 5 4 1 4 4 1 4 ...\n",
      " $ 당사자종별_1당       : Factor w/ 10 levels \"건설기계\",\"경형\",..: 10 10 7 2 7 1 10 2 1 10 ...\n",
      " $ 당사자종별_2당_대분류: Factor w/ 12 levels \"\",\"건설기계\",..: 4 4 4 4 4 4 4 4 1 4 ...\n",
      " $ 당사자종별_2당       : Factor w/ 12 levels \"\",\"건설기계\",..: 6 6 6 6 6 6 6 6 1 6 ...\n",
      " $ 발생위치X_UTMK       : num  981731 945989 993981 1161153 1056276 ...\n",
      " $ 발생위치Y_UTMK       : num  1932086 1942347 1879534 1751026 1686645 ...\n",
      " $ 경도                 : num  127 127 127 129 128 ...\n",
      " $ 위도                 : num  37.4 37.5 36.9 35.7 35.2 ...\n"
     ]
    }
   ],
   "source": [
    "# 명목형 자료들이 많기 때문에 stringsAsFactors=F 사용 X\n",
    "car <- read.csv('csv/accident2016.csv')\n",
    "str(car)"
   ]
  },
  {
   "cell_type": "code",
   "execution_count": 110,
   "id": "e2cef790-f2dc-49d7-8f4c-408302b457c5",
   "metadata": {},
   "outputs": [
    {
     "data": {
      "text/plain": [
       "     발생년      발생년월일시           발생분        주야      요일    \n",
       " Min.   :2016   Min.   :2.016e+09   Min.   : 0.00   야간:2072   금:666  \n",
       " 1st Qu.:2016   1st Qu.:2.016e+09   1st Qu.:10.00   주간:2047   목:596  \n",
       " Median :2016   Median :2.016e+09   Median :27.00               수:565  \n",
       " Mean   :2016   Mean   :2.016e+09   Mean   :26.94               월:584  \n",
       " 3rd Qu.:2016   3rd Qu.:2.016e+09   3rd Qu.:40.00               일:513  \n",
       " Max.   :2016   Max.   :2.016e+09   Max.   :59.00               토:635  \n",
       "                                                                화:560  \n",
       "    사망자수         사상자수         중상자수         경상자수      \n",
       " Min.   : 1.000   Min.   : 1.000   Min.   : 0.000   Min.   : 0.0000  \n",
       " 1st Qu.: 1.000   1st Qu.: 1.000   1st Qu.: 0.000   1st Qu.: 0.0000  \n",
       " Median : 1.000   Median : 1.000   Median : 0.000   Median : 0.0000  \n",
       " Mean   : 1.042   Mean   : 1.576   Mean   : 0.252   Mean   : 0.2595  \n",
       " 3rd Qu.: 1.000   3rd Qu.: 1.000   3rd Qu.: 0.000   3rd Qu.: 0.0000  \n",
       " Max.   :10.000   Max.   :67.000   Max.   :22.000   Max.   :62.0000  \n",
       "                                                                     \n",
       "  부상신고자수       발생지시도         발생지시군구  사고유형_대분류\n",
       " Min.   :0.00000   경기   : 749   서구        :  78   차대사람:1647  \n",
       " 1st Qu.:0.00000   경북   : 477   남구        :  76   차대차  :1646  \n",
       " Median :0.00000   충남   : 372   창원시(통합):  75   차량단독: 826  \n",
       " Mean   :0.02282   경남   : 359   청주시      :  74                  \n",
       " 3rd Qu.:0.00000   서울   : 342   북구        :  69                  \n",
       " Max.   :5.00000   전남   : 327   동구        :  58                  \n",
       "                   (Other):1493   (Other)     :3689                  \n",
       "     사고유형_중분류         사고유형          법규위반_대분류\n",
       " 횡단중      :1078   횡단중      :1078   운전자법규위반:4119  \n",
       " 기타        : 665   기타        : 665                        \n",
       " 측면직각충돌: 619   측면직각충돌: 619                        \n",
       " 전도전복    : 480   전도전복    : 480                        \n",
       " 추돌        : 436   진행중 추돌 : 436                        \n",
       " 정면충돌    : 323   정면충돌    : 323                        \n",
       " (Other)     : 518   (Other)     : 518                        \n",
       "                 법규위반      도로형태_대분류       도로형태   \n",
       " 안전운전 의무 불이행:2856   고가도로위:  14   기타단일로:2427  \n",
       " 신호위반            : 333   교차로    :1285   교차로내  : 817  \n",
       " 중앙선 침범         : 314   기타/불명 : 103   교차로부근: 468  \n",
       " 과속                : 178   단일로    :2704   횡단보도상: 170  \n",
       " 보행자 보호의무 위반: 174   지하도로내:  13   기타/불명 : 103  \n",
       " 교차로 통행방법 위반:  68                     교량위    :  49  \n",
       " (Other)             : 196                     (Other)   :  85  \n",
       "      당사자종별_1당_대분류          당사자종별_1당 당사자종별_2당_대분류\n",
       " 승용차          :2023      소형            :1265   보행자 :1642         \n",
       " 화물차          : 914      중형            :1206          : 825         \n",
       " 이륜차          : 415      경형            : 660   승용차 : 548         \n",
       " 승합차          : 261      대형            : 478   화물차 : 408         \n",
       " 원동기장치자전거: 184      원동기장치자전거: 184   이륜차 : 210         \n",
       " 자전거          : 113      자전거          : 113   자전거 : 148         \n",
       " (Other)         : 209      (Other)         : 213   (Other): 338         \n",
       " 당사자종별_2당 발생위치X_UTMK    발생위치Y_UTMK         경도      \n",
       " 보행자 :1642   Min.   :      0   Min.   :      0   Min.   :118.0  \n",
       "        : 825   1st Qu.: 946505   1st Qu.:1725992   1st Qu.:126.9  \n",
       " 소형   : 465   Median : 977012   Median :1823659   Median :127.2  \n",
       " 중형   : 385   Mean   :1007249   Mean   :1818670   Mean   :127.6  \n",
       " 대형   : 239   3rd Qu.:1080134   3rd Qu.:1930029   3rd Qu.:128.4  \n",
       " 경형   : 195   Max.   :1296967   Max.   :2053766   Max.   :130.9  \n",
       " (Other): 368                                                      \n",
       "      위도      \n",
       " Min.   :19.69  \n",
       " 1st Qu.:35.52  \n",
       " Median :36.41  \n",
       " Mean   :36.36  \n",
       " 3rd Qu.:37.37  \n",
       " Max.   :38.48  \n",
       "                "
      ]
     },
     "metadata": {},
     "output_type": "display_data"
    }
   ],
   "source": [
    "summary(car)"
   ]
  },
  {
   "cell_type": "code",
   "execution_count": 111,
   "id": "897ac830-9741-4589-87fe-31cce87b7781",
   "metadata": {},
   "outputs": [
    {
     "data": {
      "text/plain": [
       "\n",
       "야간 주간 \n",
       "2072 2047 "
      ]
     },
     "metadata": {},
     "output_type": "display_data"
    }
   ],
   "source": [
    "# 주야별 교통사고 건수\n",
    "table(car$주야)"
   ]
  },
  {
   "cell_type": "code",
   "execution_count": 112,
   "id": "3aeef288-7123-4bbc-a962-9e2865cfc267",
   "metadata": {},
   "outputs": [
    {
     "data": {
      "text/plain": [
       "\n",
       " 일  화  수  월  목  토  금 \n",
       "513 560 565 584 596 635 666 "
      ]
     },
     "metadata": {},
     "output_type": "display_data"
    }
   ],
   "source": [
    "# 요일별 교통사고 건수\n",
    "sort(table(car$요일))"
   ]
  },
  {
   "cell_type": "code",
   "execution_count": 113,
   "id": "4b11c539-513e-4656-b88b-08ed6a25123d",
   "metadata": {},
   "outputs": [
    {
     "data": {
      "text/plain": [
       "\n",
       "경기 경북 충남 경남 서울 전남 전북 충북 강원 부산 대구 인천 대전 광주 제주 울산 \n",
       " 749  477  372  359  342  327  275  221  206  153  150  137   94   85   77   70 \n",
       "세종 \n",
       "  25 "
      ]
     },
     "metadata": {},
     "output_type": "display_data"
    }
   ],
   "source": [
    "# 발생지시도 교통사고 건수\n",
    "sort(table(car$발생지시도), decreasing=T)"
   ]
  },
  {
   "cell_type": "code",
   "execution_count": 114,
   "id": "c66b0813-89d8-46e5-8ba8-e717214051d1",
   "metadata": {},
   "outputs": [
    {
     "data": {
      "text/plain": [
       "\n",
       "차대사람   차대차 차량단독 \n",
       "    1647     1646      826 "
      ]
     },
     "metadata": {},
     "output_type": "display_data"
    }
   ],
   "source": [
    "# 사고유형_대분류 교통사고 건수\n",
    "sort(table(car$사고유형_대분류), decreasing=T)"
   ]
  },
  {
   "cell_type": "code",
   "execution_count": 115,
   "id": "636cf79b-18e3-432f-a8e1-f745eead5a76",
   "metadata": {},
   "outputs": [
    {
     "data": {
      "text/plain": [
       "\n",
       "              횡단중                 기타         측면직각충돌 \n",
       "                1078                  665                  619 \n",
       "            전도전복          진행중 추돌             정면충돌 \n",
       "                 480                  436                  323 \n",
       "          공작물충돌           차도통행중 길가장자리구역통행중 \n",
       "                 230                  146                   65 \n",
       "       도로이탈 추락           보도통행중        도로이탈 기타 \n",
       "                  30                   30                   16 \n",
       "    주/정차차량 충돌 \n",
       "                   1 "
      ]
     },
     "metadata": {},
     "output_type": "display_data"
    }
   ],
   "source": [
    "# 사고유형 교통사고 건수\n",
    "sort(table(car$사고유형), decreasing=T)"
   ]
  },
  {
   "cell_type": "code",
   "execution_count": 116,
   "id": "3a472155-27d8-423b-ae3a-0969c9fd99ec",
   "metadata": {},
   "outputs": [
    {
     "data": {
      "text/plain": [
       "\n",
       "       안전운전 의무 불이행                    신호위반 \n",
       "                       2856                         333 \n",
       "                중앙선 침범                        과속 \n",
       "                        314                         178 \n",
       "       보행자 보호의무 위반        교차로 통행방법 위반 \n",
       "                        174                          68 \n",
       "            안전거리 미확보        기타(운전자법규위반) \n",
       "                         68                          44 \n",
       "직진 및 우회전차의 통행방해                 부당한 회전 \n",
       "                         37                          28 \n",
       "    차로위반(진로변경 위반)           앞지르기 금지위반 \n",
       "                         12                           3 \n",
       "       서행 및 일시정지위반           앞지르기 방법위반 \n",
       "                          2                           2 "
      ]
     },
     "metadata": {},
     "output_type": "display_data"
    }
   ],
   "source": [
    "# 법규위반 교통사고 건수\n",
    "sort(table(car$법규위반), decreasing=T)"
   ]
  },
  {
   "cell_type": "code",
   "execution_count": 117,
   "id": "66d3e42f-1776-4e6d-9680-3353e092af83",
   "metadata": {},
   "outputs": [
    {
     "data": {
      "text/plain": [
       "\n",
       "  기타단일로     교차로내   교차로부근   횡단보도상    기타/불명       교량위 \n",
       "        2427          817          468          170          103           49 \n",
       "횡단보도부근       터널안   고가도로위   지하도로내 \n",
       "          37           21           14           13 "
      ]
     },
     "metadata": {},
     "output_type": "display_data"
    }
   ],
   "source": [
    "# 도로형태 교통사고 건수\n",
    "sort(table(car$도로형태), decreasing=T)"
   ]
  },
  {
   "cell_type": "code",
   "execution_count": 118,
   "id": "d4dd6cf6-4bb9-4af0-9bf2-994a3796c7d9",
   "metadata": {},
   "outputs": [
    {
     "data": {
      "text/plain": [
       "\n",
       "            소형             중형             경형             대형 \n",
       "            1265             1206              660              478 \n",
       "원동기장치자전거           자전거         건설기계           농기계 \n",
       "             184              113               94               72 \n",
       "          사발이             불명 \n",
       "              45                2 "
      ]
     },
     "metadata": {},
     "output_type": "display_data"
    }
   ],
   "source": [
    "# 당사자종별_1당 교통사고 건수\n",
    "sort(table(car$당사자종별_1당), decreasing=T)"
   ]
  },
  {
   "cell_type": "code",
   "execution_count": null,
   "id": "121e5f5a-4480-487e-84de-7c60bbb4693b",
   "metadata": {},
   "outputs": [],
   "source": []
  }
 ],
 "metadata": {
  "kernelspec": {
   "display_name": "R",
   "language": "R",
   "name": "ir"
  },
  "language_info": {
   "codemirror_mode": "r",
   "file_extension": ".r",
   "mimetype": "text/x-r-source",
   "name": "R",
   "pygments_lexer": "r",
   "version": "3.6.3"
  }
 },
 "nbformat": 4,
 "nbformat_minor": 5
}
